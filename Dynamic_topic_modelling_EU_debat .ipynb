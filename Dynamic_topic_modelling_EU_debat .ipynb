{
 "cells": [
  {
   "cell_type": "code",
   "execution_count": 1,
   "id": "189fe68f",
   "metadata": {},
   "outputs": [],
   "source": [
    "from pathlib import Path\n",
    "from pathlib import *\n",
    "import pandas as pd\n",
    "import re\n",
    "from random import randint\n",
    "from random import shuffle\n",
    "import spacy\n",
    "from time import time\n",
    "import matplotlib.pyplot as plt\n",
    "import gensim\n",
    "import gensim.corpora as corpora\n",
    "from pprint import pprint\n",
    "from gensim.models import TfidfModel\n",
    "from gensim.models import CoherenceModel\n",
    "from gensim.test.utils import datapath\n",
    "from gensim import  models\n",
    "from gensim.models import LdaSeqModel\n",
    "nlpd = spacy.load(\"da_core_news_lg\")\n",
    "import os"
   ]
  },
  {
   "cell_type": "markdown",
   "id": "c16855ac",
   "metadata": {},
   "source": [
    "## Dynamic Topic-model"
   ]
  },
  {
   "cell_type": "code",
   "execution_count": 2,
   "id": "888eb909",
   "metadata": {},
   "outputs": [],
   "source": [
    "path = \"../../Folketingstidende/Hele/\"\n",
    "dir_path = Path(f\"{path}\")\n",
    "csv_files = list(dir_path.glob(\"*.csv\"))"
   ]
  },
  {
   "cell_type": "code",
   "execution_count": 3,
   "id": "e272e977",
   "metadata": {},
   "outputs": [
    {
     "data": {
      "text/plain": [
       "[PosixPath('../../Folketingstidende/Hele/19531.csv'),\n",
       " PosixPath('../../Folketingstidende/Hele/19541.csv'),\n",
       " PosixPath('../../Folketingstidende/Hele/19551.csv'),\n",
       " PosixPath('../../Folketingstidende/Hele/19561.csv'),\n",
       " PosixPath('../../Folketingstidende/Hele/19562.csv')]"
      ]
     },
     "execution_count": 3,
     "metadata": {},
     "output_type": "execute_result"
    }
   ],
   "source": [
    "csv_files.sort()\n",
    "csv_files[0:5]"
   ]
  },
  {
   "cell_type": "markdown",
   "id": "7805ebf3",
   "metadata": {},
   "source": [
    "Jeg finder nu de forskellige filer opdelt per årti:"
   ]
  },
  {
   "cell_type": "code",
   "execution_count": 4,
   "id": "48bcba7b",
   "metadata": {},
   "outputs": [
    {
     "data": {
      "text/plain": [
       "[PosixPath('../../Folketingstidende/Hele/19801.csv'),\n",
       " PosixPath('../../Folketingstidende/Hele/19811.csv'),\n",
       " PosixPath('../../Folketingstidende/Hele/19812.csv'),\n",
       " PosixPath('../../Folketingstidende/Hele/19821.csv'),\n",
       " PosixPath('../../Folketingstidende/Hele/19831.csv'),\n",
       " PosixPath('../../Folketingstidende/Hele/19832.csv'),\n",
       " PosixPath('../../Folketingstidende/Hele/19841.csv'),\n",
       " PosixPath('../../Folketingstidende/Hele/19851.csv'),\n",
       " PosixPath('../../Folketingstidende/Hele/19861.csv'),\n",
       " PosixPath('../../Folketingstidende/Hele/19862.csv'),\n",
       " PosixPath('../../Folketingstidende/Hele/19871.csv'),\n",
       " PosixPath('../../Folketingstidende/Hele/19872.csv'),\n",
       " PosixPath('../../Folketingstidende/Hele/19881.csv'),\n",
       " PosixPath('../../Folketingstidende/Hele/19891.csv')]"
      ]
     },
     "execution_count": 4,
     "metadata": {},
     "output_type": "execute_result"
    }
   ],
   "source": [
    "csv_files[35:49]"
   ]
  },
  {
   "cell_type": "code",
   "execution_count": 5,
   "id": "e7864106",
   "metadata": {},
   "outputs": [
    {
     "data": {
      "text/plain": [
       "[PosixPath('../../Folketingstidende/Hele/19901.csv'),\n",
       " PosixPath('../../Folketingstidende/Hele/19902.csv'),\n",
       " PosixPath('../../Folketingstidende/Hele/19911.csv'),\n",
       " PosixPath('../../Folketingstidende/Hele/19921.csv'),\n",
       " PosixPath('../../Folketingstidende/Hele/19931.csv'),\n",
       " PosixPath('../../Folketingstidende/Hele/19941.csv'),\n",
       " PosixPath('../../Folketingstidende/Hele/19951.csv'),\n",
       " PosixPath('../../Folketingstidende/Hele/19961.csv'),\n",
       " PosixPath('../../Folketingstidende/Hele/19971.csv'),\n",
       " PosixPath('../../Folketingstidende/Hele/19972.csv'),\n",
       " PosixPath('../../Folketingstidende/Hele/19981.csv'),\n",
       " PosixPath('../../Folketingstidende/Hele/19991.csv')]"
      ]
     },
     "execution_count": 5,
     "metadata": {},
     "output_type": "execute_result"
    }
   ],
   "source": [
    "csv_files[49:61]"
   ]
  },
  {
   "cell_type": "code",
   "execution_count": 6,
   "id": "1e101e94",
   "metadata": {},
   "outputs": [
    {
     "data": {
      "text/plain": [
       "[PosixPath('../../Folketingstidende/Hele/20001.csv'),\n",
       " PosixPath('../../Folketingstidende/Hele/20011.csv'),\n",
       " PosixPath('../../Folketingstidende/Hele/20012.csv'),\n",
       " PosixPath('../../Folketingstidende/Hele/20021.csv'),\n",
       " PosixPath('../../Folketingstidende/Hele/20031.csv'),\n",
       " PosixPath('../../Folketingstidende/Hele/20041.csv'),\n",
       " PosixPath('../../Folketingstidende/Hele/20042.csv'),\n",
       " PosixPath('../../Folketingstidende/Hele/20051.csv'),\n",
       " PosixPath('../../Folketingstidende/Hele/20061.csv'),\n",
       " PosixPath('../../Folketingstidende/Hele/20071.csv'),\n",
       " PosixPath('../../Folketingstidende/Hele/20072.csv'),\n",
       " PosixPath('../../Folketingstidende/Hele/20081.csv')]"
      ]
     },
     "execution_count": 6,
     "metadata": {},
     "output_type": "execute_result"
    }
   ],
   "source": [
    "csv_files[61:]"
   ]
  },
  {
   "cell_type": "code",
   "execution_count": 7,
   "id": "d4db2ad5",
   "metadata": {},
   "outputs": [],
   "source": [
    "Folketingstaler_i_80erne = {}\n",
    "for fil in csv_files[35:49]:\n",
    "    if str(fil)[-9:-5] in Folketingstaler_i_80erne:\n",
    "        folketingsår = pd.read_csv(fil ,sep=';', encoding = \"latin1\")\n",
    "        taler = folketingsår[\"indhold\"]\n",
    "        for tale in taler:\n",
    "            Folketingstaler_i_80erne[str(fil)[-9:-5]].append(tale)\n",
    "    else:\n",
    "        folketingsår = pd.read_csv(fil ,sep=';', encoding = \"latin1\")\n",
    "        taler = folketingsår[\"indhold\"]\n",
    "        Folketingstaler_i_80erne[str(fil)[-9:-5]] = []\n",
    "        for tale in taler:\n",
    "            Folketingstaler_i_80erne[str(fil)[-9:-5]].append(tale)"
   ]
  },
  {
   "cell_type": "code",
   "execution_count": 8,
   "id": "9b90b0eb",
   "metadata": {},
   "outputs": [],
   "source": [
    "Folketingstaler_i_90erne = {}\n",
    "for fil in csv_files[49:61]:\n",
    "    if str(fil)[-9:-5] in Folketingstaler_i_90erne:\n",
    "        folketingsår = pd.read_csv(fil ,sep=';', encoding = \"latin1\")\n",
    "        taler = folketingsår[\"indhold\"]\n",
    "        for tale in taler:\n",
    "            Folketingstaler_i_90erne[str(fil)[-9:-5]].append(tale)\n",
    "    else:\n",
    "        folketingsår = pd.read_csv(fil ,sep=';', encoding = \"latin1\")\n",
    "        taler = folketingsår[\"indhold\"]\n",
    "        Folketingstaler_i_90erne[str(fil)[-9:-5]] = []\n",
    "        for tale in taler:\n",
    "            Folketingstaler_i_90erne[str(fil)[-9:-5]].append(tale)"
   ]
  },
  {
   "cell_type": "code",
   "execution_count": 9,
   "id": "611dd3f9",
   "metadata": {},
   "outputs": [],
   "source": [
    "Folketingstaler_i_00erne = {}\n",
    "for fil in csv_files[61:]:\n",
    "    if str(fil)[-9:-5] in Folketingstaler_i_00erne:\n",
    "        folketingsår = pd.read_csv(fil ,sep=';', encoding = \"latin1\")\n",
    "        taler = folketingsår[\"indhold\"]\n",
    "        for tale in taler:\n",
    "            Folketingstaler_i_00erne[str(fil)[-9:-5]].append(tale)\n",
    "    else:\n",
    "        folketingsår = pd.read_csv(fil ,sep=';', encoding = \"latin1\")\n",
    "        taler = folketingsår[\"indhold\"]\n",
    "        Folketingstaler_i_00erne[str(fil)[-9:-5]] = []\n",
    "        for tale in taler:\n",
    "            Folketingstaler_i_00erne[str(fil)[-9:-5]].append(tale)"
   ]
  },
  {
   "cell_type": "code",
   "execution_count": 10,
   "id": "ad9996cb",
   "metadata": {},
   "outputs": [],
   "source": [
    "def FT_taler(indhold):\n",
    "    talere = []\n",
    "    tale = []\n",
    "    parti = []\n",
    "    Partier_i_folketinget = [\"(A)\", \"(SF)\", \"(S)\", \"(RV)\", \"(KF)\", \"(V)\", \"(FP)\", \"(CD)\", \"(VS)\",\n",
    "                             \"(KrF)\", \"(DR)\", \"(UP)\", \"(Grønl.)\", \"(Fær.)\", \"(DF)\", \"(EL)\"]\n",
    "    for index in range(len(indhold)):\n",
    "        sentence = indhold[index]\n",
    "        if len(re.findall(\"(^.{1,50} \\([A-Z]+\\)[ ]*:|^.{1,50} \\(KrF\\)[ ]*:|^.{1,50} \\(Grønl.\\)[ ]*:|^.{1,50} \\(Fær.\\)[ ]*:)\", sentence)) > 0: #Tjekker om det er et menigt medlem\n",
    "            if len(re.findall(\"(\\([A-Z]+\\)|\\(KrF\\)|\\(Grønl.\\)|\\(Fær.\\))\", sentence)) < 2:    \n",
    "                if len(re.findall(\"Ny stedf.\", sentence)) > 0:\n",
    "                    pass\n",
    "                elif len(re.findall(\"Udtræder:\", sentence)) > 0:\n",
    "                    pass\n",
    "                elif len(re.findall(\"Nyt medl\", sentence)) > 0:\n",
    "                    pass\n",
    "                elif len(re.findall(\" af\", sentence.lower())) > 0:\n",
    "                    pass\n",
    "                elif re.findall(\"(\\([A-Z]+\\)|\\(KrF\\)|\\(Grønl.\\)|\\(Fær.\\))\", sentence)[0] in Partier_i_folketinget:\n",
    "                    if len(sentence) <= 35:\n",
    "                        talere.append(sentence)\n",
    "                        parti.append(re.findall(\"(\\([A-Z]+\\)|\\(KrF\\)|\\(Grønl.\\)|\\(Fær.\\))\", sentence)[0])\n",
    "                        tale.append(\"\")\n",
    "                    else: #Tager højde for læsefejl!\n",
    "                        lang_taler = re.split(\"(^.{1,50} \\([A-Z]+\\)|^.{1,50} \\(KrF\\)|^.{1,50} \\(Grønl.\\)|^.{1,50} \\(Fær.\\))\", sentence)\n",
    "                        talere.append(lang_taler[-2])\n",
    "                        parti.append(re.findall(\"(\\([A-Z]+\\)|\\(KrF\\)|\\(Grønl.\\)|\\(Fær.\\))\", lang_taler[-2])[0])\n",
    "                        tale.append(lang_taler[-1])\n",
    "                else:\n",
    "                    if len(tale) >= 1:\n",
    "                        tale[-1] = tale[-1] + \" \" + sentence\n",
    "            else: #ellers er det en tale\n",
    "                if len(tale) >= 1:\n",
    "                    tale[-1] = tale[-1] + \" \" + sentence\n",
    "                #if len(re.findall(\"(\\([A-Z]+\\)|\\(KrF\\))\", sentence)) < 2:\n",
    "        elif len(re.findall(\"(^.{1,50} \\([A-Z]+\\)|^.{1,50} \\(KrF\\)|^.{1,50} \\(Grønl.\\)|^.{1,50} \\(Fær.\\))\", sentence)) > 0 and re.match(\"^Af \", sentence):\n",
    "            talere.append(sentence)\n",
    "            parti.append(re.findall(\"(\\([A-Z]+\\)|\\(KrF\\)|\\(Grønl.\\)|\\(Fær.\\))\", sentence)[0])\n",
    "            tale.append(\"\")\n",
    "        elif len(re.findall(\"(^.{1,50} \\([A-Z]+\\):|.{1,50} \\(KrF\\):)\", sentence)) > 0:\n",
    "            if len(sentence) > 35:\n",
    "                if len(re.findall(\"(\\([A-Z]+\\)|\\(KrF\\))\", sentence)) < 2:\n",
    "                    if len(re.findall(\"Ny stedf.\", sentence)) > 0:\n",
    "                        pass\n",
    "                    elif len(re.findall(\"Udtræder:\", sentence)) > 0:\n",
    "                        pass\n",
    "                    elif len(re.findall(\"Nyt medl\", sentence)) > 0:\n",
    "                        pass\n",
    "                    elif len(re.findall(\" af\", sentence.lower())) > 0:\n",
    "                        pass\n",
    "                    elif re.findall(\"(\\([A-Z]+\\)|\\(KrF\\))\", sentence)[0] in Partier_i_folketinget:\n",
    "                        problem_menigt = re.split(\"(^.{1,50} \\([A-Z]+\\):|.{1,50} \\(KrF\\):)\", sentence.lower())\n",
    "                        talere.append(problem_menigt[-2])\n",
    "                        parti.append(\"problem\")\n",
    "                        tale.append(problem_menigt[-1])\n",
    "                    else:\n",
    "                        if len(tale) >= 1:\n",
    "                            tale[-1] = tale[-1] + \" \" + sentence\n",
    "                else:\n",
    "                    if len(tale) >= 1:\n",
    "                        tale[-1] = tale[-1] + \" \" + sentence\n",
    "            else:\n",
    "                if len(tale) >= 1:\n",
    "                    tale[-1] = tale[-1] + \" \" + sentence\n",
    "        elif sentence.lower() == \"formanden\" or sentence.lower() == \"formanden:\": #tjekker om det er formanden der taler\n",
    "            talere.append(\"formanden\")\n",
    "            parti.append(\"Formanden\")\n",
    "            tale.append(\"\")\n",
    "        elif re.search(\"næstformand \\(\\w*\\):$\", sentence.lower()) or re.search(\"næstformand \\(\\w* \\w*\\):$\", sentence.lower()):\n",
    "            talere.append(sentence.lower())\n",
    "            parti.append(\"næstformanden\")\n",
    "            tale.append(\"\")\n",
    "        elif len(sentence) < 100: #Tjekker om det er en minister der taler\n",
    "            if len(re.findall(\"\\w*minister[\\w ]*\\(([\\w-]*|[\\w ]*)\\)\", sentence.lower())) > 0:\n",
    "                talere.append(sentence)\n",
    "                parti.append(\"Regeringen\")\n",
    "                tale.append(\"\")\n",
    "            else:\n",
    "                if len(tale) >= 1:\n",
    "                    tale[-1] = tale[-1] + \" \" + sentence\n",
    "        elif len(sentence) >= 100:\n",
    "            if len(re.findall(\"\\w*minister[\\w ]*\\(([\\w-]*|[\\w ]*)\\):\", sentence.lower())) > 0:\n",
    "                tale_med_minister = re.split(\"\\w*minister[\\w ]*\\(([\\w-]*|[\\w ]*)\\):\", sentence.lower())\n",
    "                talere.append(tale_med_minister[-2])\n",
    "                parti.append(\"Regeringen\")\n",
    "                tale.append(tale_med_minister[-1])\n",
    "            else:\n",
    "                if len(tale) >= 1:\n",
    "                    tale[-1] = tale[-1] + \" \" + sentence\n",
    "        elif len(re.findall(\"[1-9]{1,5} [1-9]{1,2}/[1-9]{1,2}\", sentence.lower()))  > 0: #tilføjet til at fange headers på sider\n",
    "            if len(sentence) < 170:\n",
    "                pass\n",
    "            else:\n",
    "                if len(tale) >= 1:\n",
    "                    tale[-1] = tale[-1] + \" \" + sentence\n",
    "        elif len(re.findall(\"^[1-9]{1,2}/[1-9]{1,2}\", sentence.lower())) > 0: \n",
    "            if len(sentence) < 170:\n",
    "                pass\n",
    "            else:\n",
    "                if len(tale) >= 1:\n",
    "                    tale[-1] = tale[-1] + \" \" + sentence\n",
    "        elif re.fullmatch(\"\\[.{1,100}\\]\", sentence.lower()):\n",
    "            pass\n",
    "        elif re.fullmatch(\"[1-9]{1,10}\", sentence.lower()):\n",
    "            pass\n",
    "        else:\n",
    "            if len(tale) >= 1:\n",
    "                tale[-1] = tale[-1] + \" \" + sentence\n",
    "    return tale, talere, parti"
   ]
  },
  {
   "cell_type": "code",
   "execution_count": 11,
   "id": "8f83bc26",
   "metadata": {},
   "outputs": [],
   "source": [
    "Folketingsår_opdelt_per_taler_80erne = {}\n",
    "for år in Folketingstaler_i_80erne:\n",
    "    indhold = Folketingstaler_i_80erne[år]\n",
    "    år_tale, år_talere, år_parti = FT_taler(indhold)\n",
    "    Folketingsår_opdelt_per_taler_80erne[år] = []\n",
    "    Folketingsår_opdelt_per_taler_80erne[år].append(år_tale)\n",
    "    Folketingsår_opdelt_per_taler_80erne[år].append(år_talere)\n",
    "    Folketingsår_opdelt_per_taler_80erne[år].append(år_parti)"
   ]
  },
  {
   "cell_type": "code",
   "execution_count": 12,
   "id": "562f8b07",
   "metadata": {},
   "outputs": [],
   "source": [
    "Folketingsår_opdelt_per_taler_90erne = {}\n",
    "for år in Folketingstaler_i_90erne:\n",
    "    indhold = Folketingstaler_i_90erne[år]\n",
    "    år_tale, år_talere, år_parti = FT_taler(indhold)\n",
    "    Folketingsår_opdelt_per_taler_90erne[år] = []\n",
    "    Folketingsår_opdelt_per_taler_90erne[år].append(år_tale)\n",
    "    Folketingsår_opdelt_per_taler_90erne[år].append(år_talere)\n",
    "    Folketingsår_opdelt_per_taler_90erne[år].append(år_parti)"
   ]
  },
  {
   "cell_type": "code",
   "execution_count": 13,
   "id": "21d3e4aa",
   "metadata": {},
   "outputs": [],
   "source": [
    "Folketingsår_opdelt_per_taler_00erne = {}\n",
    "for år in Folketingstaler_i_00erne:\n",
    "    indhold = Folketingstaler_i_00erne[år]\n",
    "    år_tale, år_talere, år_parti = FT_taler(indhold)\n",
    "    Folketingsår_opdelt_per_taler_00erne[år] = []\n",
    "    Folketingsår_opdelt_per_taler_00erne[år].append(år_tale)\n",
    "    Folketingsår_opdelt_per_taler_00erne[år].append(år_talere)\n",
    "    Folketingsår_opdelt_per_taler_00erne[år].append(år_parti)"
   ]
  },
  {
   "cell_type": "markdown",
   "id": "ed6bf50e",
   "metadata": {},
   "source": [
    "Der udvælges taler:"
   ]
  },
  {
   "cell_type": "code",
   "execution_count": 14,
   "id": "d3777bb0",
   "metadata": {},
   "outputs": [],
   "source": [
    "EU_ord_80_erne = [\" eu \", \" ef \", \"europæiske fællesskab\", \"europæiske union\", \"fællesmarked\", \"ømu\", \" ef-\", \" eu-\",\n",
    "          \"europæiske samarbejde\", \"fællesakt\", \" ømu\", \"det indre marked\"]"
   ]
  },
  {
   "cell_type": "code",
   "execution_count": 15,
   "id": "cb251be5",
   "metadata": {},
   "outputs": [],
   "source": [
    "eu_taler_80erne = {}\n",
    "for år in Folketingsår_opdelt_per_taler_80erne:\n",
    "    eu_tale_år = []\n",
    "    eu_parti_år = []\n",
    "    eu_taler_år = []\n",
    "    for index in range(len(Folketingsår_opdelt_per_taler_80erne[år][0])):\n",
    "        tale = Folketingsår_opdelt_per_taler_80erne[år][0][index]\n",
    "        for ord_ in EU_ord_80_erne:\n",
    "            if len(re.findall(ord_, tale.lower())) > 0:\n",
    "                eu_tale_år.append(tale)\n",
    "                eu_taler_år.append(Folketingsår_opdelt_per_taler_80erne[år][1][index])\n",
    "                eu_parti_år.append(Folketingsår_opdelt_per_taler_80erne[år][2][index])\n",
    "                break\n",
    "    eu_taler_80erne[år] = []\n",
    "    eu_taler_80erne[år].append(eu_tale_år)\n",
    "    eu_taler_80erne[år].append(eu_parti_år)\n",
    "    eu_taler_80erne[år].append(eu_taler_år)"
   ]
  },
  {
   "cell_type": "code",
   "execution_count": 16,
   "id": "788ee562",
   "metadata": {},
   "outputs": [],
   "source": [
    "EU_ord_90_erne = [\" eu \", \" ef \", \"europæiske fællesskab\", \"europæiske union\", \"fællesmarked\", \"ømu\", \"maastricht\", \n",
    "          \"amsterdamtraktaten\", \"eu-\", \"ef-\", \"edinburgh\", \"indre marked\"]"
   ]
  },
  {
   "cell_type": "code",
   "execution_count": 18,
   "id": "8c04bb15",
   "metadata": {},
   "outputs": [],
   "source": [
    "eu_taler_90erne = {}\n",
    "for år in Folketingsår_opdelt_per_taler_90erne:\n",
    "    eu_tale_år = []\n",
    "    eu_parti_år = []\n",
    "    eu_taler_år = []\n",
    "    for index in range(len(Folketingsår_opdelt_per_taler_90erne[år][0])):\n",
    "        tale = Folketingsår_opdelt_per_taler_90erne[år][0][index]\n",
    "        for ord_ in EU_ord_90_erne:\n",
    "            if len(re.findall(ord_, tale.lower())) > 0:\n",
    "                eu_tale_år.append(tale)\n",
    "                eu_parti_år.append(Folketingsår_opdelt_per_taler_90erne[år][1][index])\n",
    "                eu_taler_år.append(Folketingsår_opdelt_per_taler_90erne[år][2][index])\n",
    "                break\n",
    "    eu_taler_90erne[år] = []\n",
    "    eu_taler_90erne[år].append(eu_tale_år)\n",
    "    eu_taler_90erne[år].append(eu_parti_år)\n",
    "    eu_taler_90erne[år].append(eu_taler_år)"
   ]
  },
  {
   "cell_type": "code",
   "execution_count": 19,
   "id": "75cf59dd",
   "metadata": {},
   "outputs": [],
   "source": [
    "EU_ord_00_erne = [\" eu \", \" ef \", \"europæiske fællesskab\", \"europæiske union\", \"fællesmarked\", \"ømu\", \"maastricht\", \n",
    "          \"amsterdamtraktaten\", \"eu-\", \"ef-\", \"edinburgh\", \"indre marked\", \"lissabon\", \"euro-\", \"euro \"]"
   ]
  },
  {
   "cell_type": "code",
   "execution_count": 20,
   "id": "c3629411",
   "metadata": {},
   "outputs": [],
   "source": [
    "eu_taler_00erne = {}\n",
    "for år in Folketingsår_opdelt_per_taler_00erne:\n",
    "    eu_tale_år = []\n",
    "    eu_parti_år = []\n",
    "    eu_taler_år = []\n",
    "    for index in range(len(Folketingsår_opdelt_per_taler_00erne[år][0])):\n",
    "        tale = Folketingsår_opdelt_per_taler_00erne[år][0][index]\n",
    "        for ord_ in EU_ord_00_erne:\n",
    "            if len(re.findall(ord_, tale.lower())) > 0:\n",
    "                eu_tale_år.append(tale)\n",
    "                eu_parti_år.append(Folketingsår_opdelt_per_taler_00erne[år][1][index])\n",
    "                eu_taler_år.append(Folketingsår_opdelt_per_taler_00erne[år][2][index])\n",
    "                break\n",
    "        if len(eu_tale_år) != 0:\n",
    "            if eu_tale_år[-1] != tale:\n",
    "                if len(re.findall(\"nice\", tale.lower())) > 0:\n",
    "                    if len(re.findall(\"unicef\", tale.lower())) == 0:\n",
    "                        eu_tale_år.append(tale)\n",
    "                        eu_parti_år.append(Folketingsår_opdelt_per_taler_00erne[år][1][index])\n",
    "                        eu_taler_år.append(Folketingsår_opdelt_per_taler_00erne[år][2][index])           \n",
    "    eu_taler_00erne[år] = []\n",
    "    eu_taler_00erne[år].append(eu_tale_år)\n",
    "    eu_taler_00erne[år].append(eu_parti_år)\n",
    "    eu_taler_00erne[år].append(eu_taler_år)"
   ]
  },
  {
   "cell_type": "markdown",
   "id": "c5d14a3a",
   "metadata": {},
   "source": [
    "Det tjekkes om dette stemmer overens med antal udvalgte taler i de forrige scripts."
   ]
  },
  {
   "cell_type": "code",
   "execution_count": 21,
   "id": "080fb5a1",
   "metadata": {},
   "outputs": [
    {
     "name": "stdout",
     "output_type": "stream",
     "text": [
      "1980: 507\n",
      "1981: 594\n",
      "1982: 510\n",
      "1983: 526\n",
      "1984: 423\n",
      "1985: 868\n",
      "1986: 608\n",
      "1987: 673\n",
      "1988: 942\n",
      "1989: 998\n"
     ]
    }
   ],
   "source": [
    "for år in eu_taler_80erne:\n",
    "    print(f\"{år}: {len(eu_taler_80erne[år][0])}\")"
   ]
  },
  {
   "cell_type": "code",
   "execution_count": 22,
   "id": "f03b0049",
   "metadata": {},
   "outputs": [
    {
     "name": "stdout",
     "output_type": "stream",
     "text": [
      "1990: 1093\n",
      "1991: 1646\n",
      "1992: 1729\n",
      "1993: 1289\n",
      "1994: 1699\n",
      "1995: 2058\n",
      "1996: 2374\n",
      "1997: 2049\n",
      "1998: 1868\n",
      "1999: 2874\n"
     ]
    }
   ],
   "source": [
    "for år in eu_taler_90erne:\n",
    "    print(f\"{år}: {len(eu_taler_90erne[år][0])}\")"
   ]
  },
  {
   "cell_type": "code",
   "execution_count": 23,
   "id": "8ef7e548",
   "metadata": {},
   "outputs": [
    {
     "name": "stdout",
     "output_type": "stream",
     "text": [
      "2000: 2689\n",
      "2001: 1940\n",
      "2002: 2167\n",
      "2003: 2434\n",
      "2004: 2113\n",
      "2005: 1321\n",
      "2006: 1724\n",
      "2007: 1775\n",
      "2008: 1689\n"
     ]
    }
   ],
   "source": [
    "for år in eu_taler_00erne:\n",
    "    print(f\"{år}: {len(eu_taler_00erne[år][0])}\")"
   ]
  },
  {
   "cell_type": "markdown",
   "id": "3560a406",
   "metadata": {},
   "source": [
    "## Klargørring af data:"
   ]
  },
  {
   "cell_type": "code",
   "execution_count": 24,
   "id": "9974edc2",
   "metadata": {},
   "outputs": [],
   "source": [
    "nlpd = spacy.load(\"da_core_news_lg\")"
   ]
  },
  {
   "cell_type": "code",
   "execution_count": 25,
   "id": "56b9a292",
   "metadata": {},
   "outputs": [],
   "source": [
    "tekster_klar_80 = []\n",
    "tekster_klar_90 = []\n",
    "tekster_klar_00 = []\n",
    "fyldetegn = [\",\", \".\", \"(\", \")\", \"?\", \"/\", \"!\", \":\", \" \", \"):\", \"-\", \"«\", \"»\", \"[\", \"]\"]\n",
    "stopord_fil = open('../../Folketingstidende/stopord.txt','r')\n",
    "stopord = [word[:-1] for word in stopord_fil] + [\"altså\", \"gå\", \"gerne\", \"tro\", \"faktisk\", \"gerne\", \"eu\" \"selvfølgelig\", \"dag\"]"
   ]
  },
  {
   "cell_type": "code",
   "execution_count": 26,
   "id": "356885f5",
   "metadata": {},
   "outputs": [],
   "source": [
    "typer_spacy = []\n",
    "for tegn in fyldetegn:\n",
    "    tekst_nlpd = nlpd(tegn)\n",
    "    for token in tekst_nlpd:\n",
    "        if token.pos_ not in typer_spacy:\n",
    "            typer_spacy.append(token.pos_)"
   ]
  },
  {
   "cell_type": "code",
   "execution_count": 27,
   "id": "c5f28431",
   "metadata": {},
   "outputs": [
    {
     "data": {
      "text/plain": [
       "['PUNCT', 'X', 'SPACE', 'ADJ', 'PROPN']"
      ]
     },
     "execution_count": 27,
     "metadata": {},
     "output_type": "execute_result"
    }
   ],
   "source": [
    "typer_spacy"
   ]
  },
  {
   "cell_type": "code",
   "execution_count": 28,
   "id": "ec735562",
   "metadata": {},
   "outputs": [],
   "source": [
    "typer_spacy.remove(\"PROPN\")"
   ]
  },
  {
   "cell_type": "code",
   "execution_count": 29,
   "id": "ee012402",
   "metadata": {},
   "outputs": [
    {
     "name": "stdout",
     "output_type": "stream",
     "text": [
      "73.19719314575195\n",
      "72.74021291732788\n",
      "62.92735815048218\n",
      "55.09942889213562\n",
      "48.89830708503723\n",
      "88.78709769248962\n",
      "84.54854989051819\n",
      "95.38612484931946\n",
      "122.18778395652771\n",
      "123.60365009307861\n"
     ]
    }
   ],
   "source": [
    "for år in eu_taler_80erne:\n",
    "    #allowed_postags=['NOUN', 'ADJ', 'VERB']\n",
    "    start = time()\n",
    "    for tekst in eu_taler_80erne[år][0]:\n",
    "        tale_spacy = nlpd(tekst.lower())\n",
    "        #tokens = [str(token.lemma_).lower() for token in tale_spacy]\n",
    "        tokens = [token for token in tale_spacy]\n",
    "        tokens_uden_tegn = [str(token) for token in tokens if token.pos_ not in typer_spacy]\n",
    "        #tokens_uden_stopord = [token for token in tokens_uden_tegn if token not in stopord]\n",
    "        tekster_klar_80.append(tokens_uden_tegn)\n",
    "    end = time()\n",
    "    print(end-start)"
   ]
  },
  {
   "cell_type": "code",
   "execution_count": 30,
   "id": "7730ea16",
   "metadata": {},
   "outputs": [
    {
     "name": "stdout",
     "output_type": "stream",
     "text": [
      "147.5981092453003\n",
      "170.45902490615845\n",
      "186.8434157371521\n",
      "162.2216911315918\n",
      "172.53622198104858\n",
      "195.55379629135132\n",
      "249.21853375434875\n",
      "193.13686990737915\n",
      "175.84548497200012\n",
      "247.98390293121338\n"
     ]
    }
   ],
   "source": [
    "for år in eu_taler_90erne:\n",
    "    #allowed_postags=['NOUN', 'ADJ', 'VERB']\n",
    "    start = time()\n",
    "    for tekst in eu_taler_90erne[år][0]:\n",
    "        tale_spacy = nlpd(tekst.lower())\n",
    "        #tokens = [str(token.lemma_).lower() for token in tale_spacy]\n",
    "        tokens = [token for token in tale_spacy]\n",
    "        tokens_uden_tegn = [str(token) for token in tokens if token.pos_ not in typer_spacy]\n",
    "        #tokens_uden_stopord = [token for token in tokens_uden_tegn if token not in stopord]\n",
    "        tekster_klar_90.append(tokens_uden_tegn)\n",
    "    end = time()\n",
    "    print(end-start)"
   ]
  },
  {
   "cell_type": "code",
   "execution_count": 31,
   "id": "8ed7d2d2",
   "metadata": {},
   "outputs": [
    {
     "name": "stdout",
     "output_type": "stream",
     "text": [
      "219.51706099510193\n",
      "182.39954590797424\n",
      "199.10082292556763\n",
      "203.1259410381317\n",
      "159.88194394111633\n",
      "140.73420310020447\n",
      "143.547669172287\n",
      "155.23983597755432\n",
      "162.54810523986816\n"
     ]
    }
   ],
   "source": [
    "for år in eu_taler_00erne:\n",
    "    #allowed_postags=['NOUN', 'ADJ', 'VERB']\n",
    "    start = time()\n",
    "    for tekst in eu_taler_00erne[år][0]:\n",
    "        tale_spacy = nlpd(tekst.lower())\n",
    "        #tokens = [str(token.lemma_).lower() for token in tale_spacy]\n",
    "        tokens = [token for token in tale_spacy]\n",
    "        tokens_uden_tegn = [str(token) for token in tokens if token.pos_ not in typer_spacy]\n",
    "        #tokens_uden_stopord = [token for token in tokens_uden_tegn if token not in stopord]\n",
    "        tekster_klar_00.append(tokens_uden_tegn)\n",
    "    end = time()\n",
    "    print(end-start)"
   ]
  },
  {
   "cell_type": "code",
   "execution_count": 32,
   "id": "ccdfa798",
   "metadata": {},
   "outputs": [],
   "source": [
    "processed_data_80 = []\n",
    "for tekst in tekster_klar_80:\n",
    "    str_tekst = [str(token) for token in tekst]\n",
    "    processed_data_80.append(str_tekst)\n",
    "processed_data_90 = []\n",
    "for tekst in tekster_klar_90:\n",
    "    str_tekst = [str(token) for token in tekst]\n",
    "    processed_data_90.append(str_tekst)\n",
    "processed_data_00 = []\n",
    "for tekst in tekster_klar_00:\n",
    "    str_tekst = [str(token) for token in tekst]\n",
    "    processed_data_00.append(str_tekst)"
   ]
  },
  {
   "cell_type": "code",
   "execution_count": 33,
   "id": "31d1d760",
   "metadata": {},
   "outputs": [],
   "source": [
    "bigram_80 = gensim.models.Phrases(processed_data_80, min_count=5, threshold=100)\n",
    "\n",
    "trigram_80 = gensim.models.Phrases(bigram_80[processed_data_80], threshold=100)\n",
    "\n",
    "bigram_mod_80 = gensim.models.phrases.Phraser(bigram_80)\n",
    "\n",
    "trigram_mod_80 = gensim.models.phrases.Phraser(trigram_80)"
   ]
  },
  {
   "cell_type": "code",
   "execution_count": 34,
   "id": "b5a482bd",
   "metadata": {},
   "outputs": [],
   "source": [
    "bigram_90 = gensim.models.Phrases(processed_data_90, min_count=5, threshold=100)\n",
    "\n",
    "trigram_90 = gensim.models.Phrases(bigram_90[processed_data_90], threshold=100)\n",
    "\n",
    "bigram_mod_90 = gensim.models.phrases.Phraser(bigram_90)\n",
    "\n",
    "trigram_mod_90 = gensim.models.phrases.Phraser(trigram_90)"
   ]
  },
  {
   "cell_type": "code",
   "execution_count": 35,
   "id": "7909b291",
   "metadata": {},
   "outputs": [],
   "source": [
    "bigram_00 = gensim.models.Phrases(processed_data_00, min_count=5, threshold=100)\n",
    "\n",
    "trigram_00 = gensim.models.Phrases(bigram_00[processed_data_00], threshold=100)\n",
    "\n",
    "bigram_mod_00 = gensim.models.phrases.Phraser(bigram_00)\n",
    "\n",
    "trigram_mod_00 = gensim.models.phrases.Phraser(trigram_00)"
   ]
  },
  {
   "cell_type": "code",
   "execution_count": 36,
   "id": "e13c069b",
   "metadata": {},
   "outputs": [],
   "source": [
    "def remove_stopwords(texts):\n",
    "    return [[word for word in doc if word not in stopord] for doc in texts]\n",
    "def create_bigrams_80(texts):\n",
    "    return [bigram_mod_80[doc] for doc in texts]\n",
    "def create_bigrams_90(texts):\n",
    "    return [bigram_mod_90[doc] for doc in texts]\n",
    "def create_bigrams_00(texts):\n",
    "    return [bigram_mod_00[doc] for doc in texts]\n",
    "def lemmatize(texts, allowed_postags=['NOUN', 'ADJ', 'VERB']):\n",
    "    texts_op = []\n",
    "    start = time()\n",
    "    for sent in texts:\n",
    "        doc = nlpd(\" \".join(sent))\n",
    "        texts_op.append([token.lemma_ for token in doc if token.pos_ in allowed_postags])\n",
    "    end = time()\n",
    "    print(end-start)\n",
    "    return texts_op"
   ]
  },
  {
   "cell_type": "code",
   "execution_count": 37,
   "id": "72066e6e",
   "metadata": {},
   "outputs": [
    {
     "name": "stdout",
     "output_type": "stream",
     "text": [
      "291.34001088142395\n"
     ]
    }
   ],
   "source": [
    "#removing stopwords, creating bigrams and lemmatizing the text\n",
    "\n",
    "data_wo_stopwords_80 = remove_stopwords(processed_data_80)\n",
    "\n",
    "data_bigrams_80 = create_bigrams_80(data_wo_stopwords_80)\n",
    "\n",
    "data_lemmatized_80 = remove_stopwords(lemmatize(data_bigrams_80, allowed_postags=[ 'NOUN', 'ADJ', 'VERB', 'PROPN', 'ADV']))"
   ]
  },
  {
   "cell_type": "code",
   "execution_count": 38,
   "id": "75a4d834",
   "metadata": {},
   "outputs": [
    {
     "name": "stdout",
     "output_type": "stream",
     "text": [
      "587.1515526771545\n"
     ]
    }
   ],
   "source": [
    "#removing stopwords, creating bigrams and lemmatizing the text\n",
    "\n",
    "data_wo_stopwords_90 = remove_stopwords(processed_data_90)\n",
    "\n",
    "data_bigrams_90 = create_bigrams_80(data_wo_stopwords_90)\n",
    "\n",
    "data_lemmatized_90 = remove_stopwords(lemmatize(data_bigrams_90, allowed_postags=[ 'NOUN', 'ADJ', 'VERB', 'PROPN', 'ADV']))"
   ]
  },
  {
   "cell_type": "code",
   "execution_count": 39,
   "id": "c83d209a",
   "metadata": {},
   "outputs": [
    {
     "name": "stdout",
     "output_type": "stream",
     "text": [
      "492.2572979927063\n"
     ]
    }
   ],
   "source": [
    "#removing stopwords, creating bigrams and lemmatizing the text\n",
    "\n",
    "data_wo_stopwords_00 = remove_stopwords(processed_data_00)\n",
    "\n",
    "data_bigrams_00 = create_bigrams_80(data_wo_stopwords_00)\n",
    "\n",
    "data_lemmatized_00 = remove_stopwords(lemmatize(data_bigrams_00, allowed_postags=[ 'NOUN', 'ADJ', 'VERB', 'PROPN', 'ADV']))"
   ]
  },
  {
   "cell_type": "code",
   "execution_count": 40,
   "id": "944448d4",
   "metadata": {},
   "outputs": [],
   "source": [
    "texts_80 = [text for text in data_lemmatized_80]\n",
    "\n",
    "texts_90 = [text for text in data_lemmatized_90]\n",
    "\n",
    "texts_00 = [text for text in data_lemmatized_00]\n",
    "\n",
    "shuffle(texts_80)\n",
    "\n",
    "shuffle(texts_90)\n",
    "\n",
    "shuffle(texts_00)\n",
    "\n",
    "All_texts = texts_80 + texts_90 + texts_00\n",
    "\n",
    "gensim_dictionary = corpora.Dictionary(All_texts)\n",
    "\n",
    "gensim_corpus = [gensim_dictionary.doc2bow(text) for text in All_texts]"
   ]
  },
  {
   "cell_type": "markdown",
   "id": "2c7a877c",
   "metadata": {},
   "source": [
    "Gemmer dictionary"
   ]
  },
  {
   "cell_type": "code",
   "execution_count": null,
   "id": "fb7e932c",
   "metadata": {},
   "outputs": [],
   "source": [
    "gensim_dictionary.save(\"Dictionaries/Dynamic_model/05_01_23\")"
   ]
  },
  {
   "cell_type": "markdown",
   "id": "531d478e",
   "metadata": {},
   "source": [
    "## Building model"
   ]
  },
  {
   "cell_type": "code",
   "execution_count": null,
   "id": "aa384aec",
   "metadata": {},
   "outputs": [],
   "source": [
    "common_corpus = gensim_corpus[0:20] + gensim_corpus[len(texts_80):len(texts_80)+20] + gensim_corpus[len(texts_80) + len(texts_90):len(texts_80)+ len(texts_90)+20]"
   ]
  },
  {
   "cell_type": "code",
   "execution_count": null,
   "id": "f5f80725",
   "metadata": {},
   "outputs": [
    {
     "name": "stderr",
     "output_type": "stream",
     "text": [
      "/Library/Frameworks/Python.framework/Versions/3.10/lib/python3.10/site-packages/gensim/models/ldaseqmodel.py:297: RuntimeWarning: divide by zero encountered in double_scalars\n",
      "  convergence = np.fabs((bound - old_bound) / old_bound)\n"
     ]
    }
   ],
   "source": [
    "start = time()\n",
    "ldaseq = LdaSeqModel(corpus=common_corpus, time_slice=[20, 20, 20], num_topics=10, chunksize=1)\n",
    "end = time()\n",
    "print(end - start)"
   ]
  },
  {
   "cell_type": "code",
   "execution_count": null,
   "id": "b76e4a18",
   "metadata": {},
   "outputs": [],
   "source": [
    "ldaseq.save"
   ]
  },
  {
   "cell_type": "markdown",
   "id": "4f422ea6",
   "metadata": {},
   "source": [
    "## Building with BERTopic\n"
   ]
  },
  {
   "cell_type": "code",
   "execution_count": 41,
   "id": "5080fa59",
   "metadata": {},
   "outputs": [],
   "source": [
    "data_p = data_lemmatized_80[0:10] + data_lemmatized_90[0:10] + data_lemmatized_00[0:10]"
   ]
  },
  {
   "cell_type": "code",
   "execution_count": 84,
   "id": "d93bd880",
   "metadata": {},
   "outputs": [],
   "source": [
    "data_klar_p = []\n",
    "for i in data_lemmatized_80:\n",
    "    tale = \"\"\n",
    "    for j in i:\n",
    "        tale += j + \" \"\n",
    "    data_klar_p.append(tale)\n",
    "for i in data_lemmatized_90:\n",
    "    tale = \"\"\n",
    "    for j in i:\n",
    "        tale += j + \" \"\n",
    "    data_klar_p.append(tale)\n",
    "for i in data_lemmatized_00:\n",
    "    tale = \"\"\n",
    "    for j in i:\n",
    "        tale += j + \" \"\n",
    "    data_klar_p.append(tale)"
   ]
  },
  {
   "cell_type": "code",
   "execution_count": 87,
   "id": "eb6dd1b4",
   "metadata": {},
   "outputs": [
    {
     "data": {
      "application/vnd.jupyter.widget-view+json": {
       "model_id": "83ed2dafe8704ef786b03b46b65342e0",
       "version_major": 2,
       "version_minor": 0
      },
      "text/plain": [
       "Batches:   0%|          | 0/1350 [00:00<?, ?it/s]"
      ]
     },
     "metadata": {},
     "output_type": "display_data"
    },
    {
     "name": "stderr",
     "output_type": "stream",
     "text": [
      "2023-01-07 23:25:16,941 - BERTopic - Transformed documents to Embeddings\n",
      "2023-01-07 23:26:34,717 - BERTopic - Reduced dimensionality\n"
     ]
    },
    {
     "name": "stdout",
     "output_type": "stream",
     "text": [
      "huggingface/tokenizers: The current process just got forked, after parallelism has already been used. Disabling parallelism to avoid deadlocks...\n",
      "huggingface/tokenizers: The current process just got forked, after parallelism has already been used. Disabling parallelism to avoid deadlocks...\n",
      "To disable this warning, you can either:\n",
      "\t- Avoid using `tokenizers` before the fork if possible\n",
      "huggingface/tokenizers: The current process just got forked, after parallelism has already been used. Disabling parallelism to avoid deadlocks...\n",
      "huggingface/tokenizers: The current process just got forked, after parallelism has already been used. Disabling parallelism to avoid deadlocks...\n",
      "To disable this warning, you can either:\n",
      "\t- Avoid using `tokenizers` before the fork if possible\n",
      "To disable this warning, you can either:\n",
      "\t- Avoid using `tokenizers` before the fork if possible\n",
      "\t- Explicitly set the environment variable TOKENIZERS_PARALLELISM=(true | false)\n",
      "\t- Explicitly set the environment variable TOKENIZERS_PARALLELISM=(true | false)\n",
      "\t- Explicitly set the environment variable TOKENIZERS_PARALLELISM=(true | false)\n",
      "To disable this warning, you can either:\n",
      "\t- Avoid using `tokenizers` before the fork if possible\n",
      "\t- Explicitly set the environment variable TOKENIZERS_PARALLELISM=(true | false)\n",
      "huggingface/tokenizers: The current process just got forked, after parallelism has already been used. Disabling parallelism to avoid deadlocks...\n",
      "To disable this warning, you can either:\n",
      "\t- Avoid using `tokenizers` before the fork if possible\n",
      "\t- Explicitly set the environment variable TOKENIZERS_PARALLELISM=(true | false)\n"
     ]
    },
    {
     "name": "stderr",
     "output_type": "stream",
     "text": [
      "2023-01-07 23:26:41,484 - BERTopic - Clustered reduced embeddings\n"
     ]
    },
    {
     "name": "stdout",
     "output_type": "stream",
     "text": [
      "3251.8123922348022\n"
     ]
    }
   ],
   "source": [
    "#from bertopic import BERTopic\n",
    "\n",
    "start = time()\n",
    "topic_model = BERTopic(language=\"multilingual\", verbose=True)\n",
    "topics, probs = topic_model.fit_transform(data_klar_p)\n",
    "end = time()\n",
    "print(end - start)"
   ]
  },
  {
   "cell_type": "code",
   "execution_count": 86,
   "id": "2b2bcd63",
   "metadata": {},
   "outputs": [
    {
     "data": {
      "text/plain": [
       "43180"
      ]
     },
     "execution_count": 86,
     "metadata": {},
     "output_type": "execute_result"
    }
   ],
   "source": [
    "len(data_klar_p)"
   ]
  },
  {
   "cell_type": "code",
   "execution_count": 88,
   "id": "003e475e",
   "metadata": {},
   "outputs": [],
   "source": [
    "timestamps = [1980 for i in range(len(data_lemmatized_80))] + [1990 for i in range(len(data_lemmatized_90))] + [2000 for i in range(len(data_lemmatized_00))]"
   ]
  },
  {
   "cell_type": "code",
   "execution_count": 89,
   "id": "078e85c0",
   "metadata": {},
   "outputs": [
    {
     "name": "stderr",
     "output_type": "stream",
     "text": [
      "3it [00:23,  7.88s/it]\n"
     ]
    }
   ],
   "source": [
    "from bertopic import BERTopic\n",
    "start = time()\n",
    "topics_over_time = topic_model.topics_over_time(data_klar_p, timestamps, nr_bins=3)\n",
    "end = time()"
   ]
  },
  {
   "cell_type": "code",
   "execution_count": 90,
   "id": "ddbb93a3",
   "metadata": {},
   "outputs": [
    {
     "name": "stdout",
     "output_type": "stream",
     "text": [
      "24.284290075302124\n"
     ]
    }
   ],
   "source": [
    "print(end - start)"
   ]
  },
  {
   "cell_type": "code",
   "execution_count": 91,
   "id": "74fcdcb8",
   "metadata": {},
   "outputs": [
    {
     "data": {
      "text/html": [
       "<div>\n",
       "<style scoped>\n",
       "    .dataframe tbody tr th:only-of-type {\n",
       "        vertical-align: middle;\n",
       "    }\n",
       "\n",
       "    .dataframe tbody tr th {\n",
       "        vertical-align: top;\n",
       "    }\n",
       "\n",
       "    .dataframe thead th {\n",
       "        text-align: right;\n",
       "    }\n",
       "</style>\n",
       "<table border=\"1\" class=\"dataframe\">\n",
       "  <thead>\n",
       "    <tr style=\"text-align: right;\">\n",
       "      <th></th>\n",
       "      <th>Topic</th>\n",
       "      <th>Words</th>\n",
       "      <th>Frequency</th>\n",
       "      <th>Timestamp</th>\n",
       "    </tr>\n",
       "  </thead>\n",
       "  <tbody>\n",
       "    <tr>\n",
       "      <th>0</th>\n",
       "      <td>-1</td>\n",
       "      <td>ef, regering, forslag, hr, lov</td>\n",
       "      <td>3571</td>\n",
       "      <td>1979.980</td>\n",
       "    </tr>\n",
       "    <tr>\n",
       "      <th>1</th>\n",
       "      <td>0</td>\n",
       "      <td>fiskeri, fisker, skib, fiskeriminister, fisker...</td>\n",
       "      <td>311</td>\n",
       "      <td>1979.980</td>\n",
       "    </tr>\n",
       "    <tr>\n",
       "      <th>2</th>\n",
       "      <td>1</td>\n",
       "      <td>landbrug, landmand, landbrugsminister, landbru...</td>\n",
       "      <td>309</td>\n",
       "      <td>1979.980</td>\n",
       "    </tr>\n",
       "    <tr>\n",
       "      <th>3</th>\n",
       "      <td>2</td>\n",
       "      <td>arbejdsmarked, arbejdsminister, arbejdstid, lø...</td>\n",
       "      <td>80</td>\n",
       "      <td>1979.980</td>\n",
       "    </tr>\n",
       "    <tr>\n",
       "      <th>4</th>\n",
       "      <td>3</td>\n",
       "      <td>ordfører, hr, lovforslag, tak, forslag</td>\n",
       "      <td>91</td>\n",
       "      <td>1979.980</td>\n",
       "    </tr>\n",
       "    <tr>\n",
       "      <th>...</th>\n",
       "      <td>...</td>\n",
       "      <td>...</td>\n",
       "      <td>...</td>\n",
       "      <td>...</td>\n",
       "    </tr>\n",
       "    <tr>\n",
       "      <th>696</th>\n",
       "      <td>253</td>\n",
       "      <td>transport, udsættersøer, transporter, transpor...</td>\n",
       "      <td>8</td>\n",
       "      <td>1993.333</td>\n",
       "    </tr>\n",
       "    <tr>\n",
       "      <th>697</th>\n",
       "      <td>254</td>\n",
       "      <td>signalere, institutionerne, kompetenceændring,...</td>\n",
       "      <td>4</td>\n",
       "      <td>1993.333</td>\n",
       "    </tr>\n",
       "    <tr>\n",
       "      <th>698</th>\n",
       "      <td>255</td>\n",
       "      <td>aktie, beskatning, domstolen, dom, selskab</td>\n",
       "      <td>4</td>\n",
       "      <td>1993.333</td>\n",
       "    </tr>\n",
       "    <tr>\n",
       "      <th>699</th>\n",
       "      <td>256</td>\n",
       "      <td>elproducent, kraftværk, ordfører, miljøområde,...</td>\n",
       "      <td>6</td>\n",
       "      <td>1993.333</td>\n",
       "    </tr>\n",
       "    <tr>\n",
       "      <th>700</th>\n",
       "      <td>257</td>\n",
       "      <td>finanslov, alliance, selvstyreloven, grønland,...</td>\n",
       "      <td>4</td>\n",
       "      <td>1993.333</td>\n",
       "    </tr>\n",
       "  </tbody>\n",
       "</table>\n",
       "<p>701 rows × 4 columns</p>\n",
       "</div>"
      ],
      "text/plain": [
       "     Topic                                              Words  Frequency  \\\n",
       "0       -1                     ef, regering, forslag, hr, lov       3571   \n",
       "1        0  fiskeri, fisker, skib, fiskeriminister, fisker...        311   \n",
       "2        1  landbrug, landmand, landbrugsminister, landbru...        309   \n",
       "3        2  arbejdsmarked, arbejdsminister, arbejdstid, lø...         80   \n",
       "4        3             ordfører, hr, lovforslag, tak, forslag         91   \n",
       "..     ...                                                ...        ...   \n",
       "696    253  transport, udsættersøer, transporter, transpor...          8   \n",
       "697    254  signalere, institutionerne, kompetenceændring,...          4   \n",
       "698    255         aktie, beskatning, domstolen, dom, selskab          4   \n",
       "699    256  elproducent, kraftværk, ordfører, miljøområde,...          6   \n",
       "700    257  finanslov, alliance, selvstyreloven, grønland,...          4   \n",
       "\n",
       "     Timestamp  \n",
       "0     1979.980  \n",
       "1     1979.980  \n",
       "2     1979.980  \n",
       "3     1979.980  \n",
       "4     1979.980  \n",
       "..         ...  \n",
       "696   1993.333  \n",
       "697   1993.333  \n",
       "698   1993.333  \n",
       "699   1993.333  \n",
       "700   1993.333  \n",
       "\n",
       "[701 rows x 4 columns]"
      ]
     },
     "execution_count": 91,
     "metadata": {},
     "output_type": "execute_result"
    }
   ],
   "source": [
    "topics_over_time"
   ]
  },
  {
   "cell_type": "code",
   "execution_count": 92,
   "id": "53889bc4",
   "metadata": {},
   "outputs": [
    {
     "data": {
      "text/html": [
       "<div>\n",
       "<style scoped>\n",
       "    .dataframe tbody tr th:only-of-type {\n",
       "        vertical-align: middle;\n",
       "    }\n",
       "\n",
       "    .dataframe tbody tr th {\n",
       "        vertical-align: top;\n",
       "    }\n",
       "\n",
       "    .dataframe thead th {\n",
       "        text-align: right;\n",
       "    }\n",
       "</style>\n",
       "<table border=\"1\" class=\"dataframe\">\n",
       "  <thead>\n",
       "    <tr style=\"text-align: right;\">\n",
       "      <th></th>\n",
       "      <th>Topic</th>\n",
       "      <th>Count</th>\n",
       "      <th>Name</th>\n",
       "    </tr>\n",
       "  </thead>\n",
       "  <tbody>\n",
       "    <tr>\n",
       "      <th>0</th>\n",
       "      <td>-1</td>\n",
       "      <td>23101</td>\n",
       "      <td>-1_regering_danmark_hr_forslag</td>\n",
       "    </tr>\n",
       "    <tr>\n",
       "      <th>1</th>\n",
       "      <td>0</td>\n",
       "      <td>1317</td>\n",
       "      <td>0_fiskeri_fisker_skib_fisk</td>\n",
       "    </tr>\n",
       "    <tr>\n",
       "      <th>2</th>\n",
       "      <td>1</td>\n",
       "      <td>922</td>\n",
       "      <td>1_landbrug_landmand_landbrugsminister_landbrug...</td>\n",
       "    </tr>\n",
       "    <tr>\n",
       "      <th>3</th>\n",
       "      <td>2</td>\n",
       "      <td>715</td>\n",
       "      <td>2_arbejdsmarked_arbejdstager_arbejdsgiver_arbe...</td>\n",
       "    </tr>\n",
       "    <tr>\n",
       "      <th>4</th>\n",
       "      <td>3</td>\n",
       "      <td>653</td>\n",
       "      <td>3_ordfører_lovforslag_hr_tak</td>\n",
       "    </tr>\n",
       "    <tr>\n",
       "      <th>...</th>\n",
       "      <td>...</td>\n",
       "      <td>...</td>\n",
       "      <td>...</td>\n",
       "    </tr>\n",
       "    <tr>\n",
       "      <th>254</th>\n",
       "      <td>253</td>\n",
       "      <td>10</td>\n",
       "      <td>253_transport_udsættersøer_transporter_transpo...</td>\n",
       "    </tr>\n",
       "    <tr>\n",
       "      <th>255</th>\n",
       "      <td>254</td>\n",
       "      <td>10</td>\n",
       "      <td>254_maastrichttraktaten_tidsbegrænsning_garant...</td>\n",
       "    </tr>\n",
       "    <tr>\n",
       "      <th>256</th>\n",
       "      <td>255</td>\n",
       "      <td>10</td>\n",
       "      <td>255_dom_domstolen_landsret_tilbagebetaling</td>\n",
       "    </tr>\n",
       "    <tr>\n",
       "      <th>257</th>\n",
       "      <td>256</td>\n",
       "      <td>10</td>\n",
       "      <td>256_miljø_elproducent_ordfører_miljøområde</td>\n",
       "    </tr>\n",
       "    <tr>\n",
       "      <th>258</th>\n",
       "      <td>257</td>\n",
       "      <td>10</td>\n",
       "      <td>257_finanslov_socialdemokrati_alliance_stemme</td>\n",
       "    </tr>\n",
       "  </tbody>\n",
       "</table>\n",
       "<p>259 rows × 3 columns</p>\n",
       "</div>"
      ],
      "text/plain": [
       "     Topic  Count                                               Name\n",
       "0       -1  23101                     -1_regering_danmark_hr_forslag\n",
       "1        0   1317                         0_fiskeri_fisker_skib_fisk\n",
       "2        1    922  1_landbrug_landmand_landbrugsminister_landbrug...\n",
       "3        2    715  2_arbejdsmarked_arbejdstager_arbejdsgiver_arbe...\n",
       "4        3    653                       3_ordfører_lovforslag_hr_tak\n",
       "..     ...    ...                                                ...\n",
       "254    253     10  253_transport_udsættersøer_transporter_transpo...\n",
       "255    254     10  254_maastrichttraktaten_tidsbegrænsning_garant...\n",
       "256    255     10         255_dom_domstolen_landsret_tilbagebetaling\n",
       "257    256     10         256_miljø_elproducent_ordfører_miljøområde\n",
       "258    257     10      257_finanslov_socialdemokrati_alliance_stemme\n",
       "\n",
       "[259 rows x 3 columns]"
      ]
     },
     "execution_count": 92,
     "metadata": {},
     "output_type": "execute_result"
    }
   ],
   "source": [
    "topic_model.get_topic_info()"
   ]
  },
  {
   "cell_type": "code",
   "execution_count": null,
   "id": "2f465829",
   "metadata": {},
   "outputs": [],
   "source": []
  }
 ],
 "metadata": {
  "kernelspec": {
   "display_name": "Python 3 (ipykernel)",
   "language": "python",
   "name": "python3"
  },
  "language_info": {
   "codemirror_mode": {
    "name": "ipython",
    "version": 3
   },
   "file_extension": ".py",
   "mimetype": "text/x-python",
   "name": "python",
   "nbconvert_exporter": "python",
   "pygments_lexer": "ipython3",
   "version": "3.10.2"
  }
 },
 "nbformat": 4,
 "nbformat_minor": 5
}
