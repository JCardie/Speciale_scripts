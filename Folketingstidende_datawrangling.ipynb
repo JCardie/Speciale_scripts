{
 "cells": [
  {
   "cell_type": "code",
   "execution_count": 1,
   "id": "228dacdd",
   "metadata": {},
   "outputs": [],
   "source": [
    "import pandas as pd\n",
    "import re\n",
    "from random import randint\n",
    "import spacy\n",
    "from time import time"
   ]
  },
  {
   "cell_type": "markdown",
   "id": "71ea6289",
   "metadata": {},
   "source": [
    "# Folketingstidende datawrangling"
   ]
  },
  {
   "cell_type": "markdown",
   "id": "fc27536b",
   "metadata": {},
   "source": [
    "Det følgende script er en renskrivning af et \"trial and error\" script jeg tidligere har udarbejdet. Dette script kan findes på min github:"
   ]
  },
  {
   "cell_type": "markdown",
   "id": "c76c85e0",
   "metadata": {},
   "source": [
    "### Formål\n",
    "Dette script ønsker at formatere \"folketingstidende\" på en sådan måde at der kan laves en digitalhistorisk analyse af data. Formålet med scriptet er da at \"genkende\" når en ny person begynder at tale fra folketingsets talerstol, så folektingstidende kan opdeles i folketingstaler og udtræke metadateen \"hvem der taler\" samt \"hvilket parti tilhører taleren\". Derudover skal scriptet søge at genkende når der er \"fejl\" i data som skal sorteres fra. Her er primært tale om at sortere marginer fra. Da der er tale om en \"OCR\" læsning af folketingstidende starter hver side med marginen på siden, som hvis denne ikke sorteres fra, vil indgå som en del af et folketingsmedlem eller ministers tale. "
   ]
  },
  {
   "cell_type": "markdown",
   "id": "a377f226",
   "metadata": {},
   "source": [
    "### Genkendelse af talere:"
   ]
  },
  {
   "cell_type": "markdown",
   "id": "9e92f04b",
   "metadata": {},
   "source": [
    "I det følgende vil jeg søge at benytte mig af regex til at genkende når en ny person indtager folketingsets talerstol. Til dette vil jeg udnytte hvordan folketingstidende er \"formateret\" af udgiver. Når en ny person indtager folketingets talerstol vil dette blive skrevet som \"Navn på talende folketingsmedlem (Parti som folketingsmedlem tilhører)\". Det er altså dette jeg vil søge at genkende."
   ]
  },
  {
   "cell_type": "markdown",
   "id": "c5613029",
   "metadata": {},
   "source": [
    "Jeg starter med at indlæse en del af folketingstidende som prøve."
   ]
  },
  {
   "cell_type": "code",
   "execution_count": 2,
   "id": "9dfb9fd2",
   "metadata": {},
   "outputs": [],
   "source": [
    "df = pd.read_csv('../../Folketingstidende/Hele/19801.csv',sep=';', encoding = \"latin1\")"
   ]
  },
  {
   "cell_type": "markdown",
   "id": "b804191a",
   "metadata": {},
   "source": [
    "Jeg finder ny søjlenavnene:"
   ]
  },
  {
   "cell_type": "code",
   "execution_count": 3,
   "id": "4664e1d6",
   "metadata": {},
   "outputs": [
    {
     "data": {
      "text/plain": [
       "['Unnamed: 0', 'spalte', 'TextBlock', 'TopMargin', 'indhold', 'år', 'samling']"
      ]
     },
     "execution_count": 3,
     "metadata": {},
     "output_type": "execute_result"
    }
   ],
   "source": [
    "df.columns.values.tolist()"
   ]
  },
  {
   "cell_type": "markdown",
   "id": "a85741e2",
   "metadata": {},
   "source": [
    "Det er søjlen \"indhold\" der primært har interesse."
   ]
  },
  {
   "cell_type": "code",
   "execution_count": 4,
   "id": "9ee6361f",
   "metadata": {},
   "outputs": [],
   "source": [
    "FT_data = [indhold for indhold in df[\"indhold\"]]"
   ]
  },
  {
   "cell_type": "code",
   "execution_count": 5,
   "id": "a9c797f4",
   "metadata": {},
   "outputs": [
    {
     "data": {
      "text/plain": [
       "['(1)',\n",
       " '1',\n",
       " '7/10 80: Folketingets åbning',\n",
       " '2',\n",
       " '1. møde',\n",
       " \"Tirsdag den 7. oktober 1'980 kl. 12.00\",\n",
       " 'Aldersformanden (Ninn-Hansen):',\n",
       " 'I henhold til grundloven er folketinget i dag trådt sammen til sit første møde i det nye folketingsår.',\n",
       " 'Som det medlem, der længst har haft sæde i tinget, påhviler det mig at lede valget af tingets præsidium og tingsekretærer.',\n",
       " 'Til formand har en gruppe af tingets medlemmer omfattende socialdemokratiets, venstres, det konservative folkepartis, socialistisk folkepartis, det radikale venstres, centrumdemokraternes og kristeligt folkepartis medlemmer indstillet den hidtidige formand, K. B. Andersen (S). Der foreligger ikke andre indstillinger. Hvis ingen begærer afstemning, vil jeg betragte indstillingen som vedtaget. (Ophold). Den er vedtaget.']"
      ]
     },
     "execution_count": 5,
     "metadata": {},
     "output_type": "execute_result"
    }
   ],
   "source": [
    "FT_data[0:10]"
   ]
  },
  {
   "cell_type": "markdown",
   "id": "13e002c6",
   "metadata": {},
   "source": [
    "Her viser jeg de første 10 OCR-læste afsnit i folketingstidende.\n",
    "\n",
    "Jeg vil nu søge at genkende når der er folk der taler fra folketingsets talerstol."
   ]
  },
  {
   "cell_type": "code",
   "execution_count": 6,
   "id": "ad5a15d8",
   "metadata": {},
   "outputs": [],
   "source": [
    "Prøve_FT = []\n",
    "Partier_i_folketinget = [\"(A)\", \"(SF)\", \"(S)\", \"(RV)\", \"(KF)\", \"(V)\", \"(FP)\", \"(CD)\", \"(VS)\", \"(KrF)\"] #liste af partier\n",
    "for sentence in FT_data:\n",
    "    #if len(re.findall(\"(\\w{1,10}\\([A-Z]+\\)|\\(KrF\\))\", sentence)) > 0:\n",
    "    #if len(re.findall(\"(\\([A-Z]+\\)|\\(KrF\\))\", sentence)) > 0:\n",
    "    if len(re.findall(\"(^.{1,50} \\([A-Z]+\\)|.{1,50} \\(KrF\\))\", sentence)) > 0:\n",
    "        if len(re.findall(\"(\\([A-Z]+\\)|\\(KrF\\))\", sentence)) < 2:\n",
    "            if len(re.findall(\"Ny stedf.\", sentence)) > 0:\n",
    "                pass\n",
    "            elif len(re.findall(\"Udtræder:\", sentence)) > 0:\n",
    "                pass\n",
    "            elif len(re.findall(\"Nyt medl\", sentence)) > 0:\n",
    "                pass\n",
    "            elif len(re.findall(\" af\", sentence.lower())) > 0:\n",
    "                pass\n",
    "            elif re.findall(\"(\\([A-Z]+\\)|\\(KrF\\))\", sentence)[0] in Partier_i_folketinget:\n",
    "                Prøve_FT.append(sentence)"
   ]
  },
  {
   "cell_type": "markdown",
   "id": "3ad11266",
   "metadata": {},
   "source": [
    "Jeg kan nu undersøges hvad der genkendes:"
   ]
  },
  {
   "cell_type": "code",
   "execution_count": 7,
   "id": "06db8b0f",
   "metadata": {},
   "outputs": [],
   "source": [
    "Prøve_FT.sort(key = len, reverse = True)"
   ]
  },
  {
   "cell_type": "code",
   "execution_count": 8,
   "id": "ca4ef370",
   "metadata": {},
   "outputs": [
    {
     "data": {
      "text/plain": [
       "9346"
      ]
     },
     "execution_count": 8,
     "metadata": {},
     "output_type": "execute_result"
    }
   ],
   "source": [
    "len(Prøve_FT)"
   ]
  },
  {
   "cell_type": "code",
   "execution_count": 9,
   "id": "375eaf48",
   "metadata": {},
   "outputs": [
    {
     "data": {
      "text/plain": [
       "['I overenstemmelse med en henstilling, som jeg har modtaget fra kulturudvalget, hvortil er henvist forslag til folketingsbeslutning vedrørende videokassettebånd med voldsfilm [af Poul H. Møller (KrF) m. fl.] (B 75), skal jeg foreslå, at det nævnte forslag i stedet henvises til retsudvalget. Hvis ingen gør indsigelse, vil jeg betragte dette forslag som vedtaget. (Ophold). Det er vedtaget.',\n",
       " 'Johan Philipsen (V): »Meningen med, at vi nu får et stort indvandsreservoir med fladt vand, er jo, at vi får en enestående lejlighed til at lave et fuglereservat i dette land.«',\n",
       " 'Forslag til folketingsbeslutning vedrørende videokassettebånd med voldsfilm [af Poul H. Møller (KrF) m. fl.].',\n",
       " 'Forslag til folketingsbeslutning om forbud mod reklamering for stærke drikke [af Inge Krogh (KrF) m. fl.].',\n",
       " 'Mørch (S) (se foran) ? vedtoges med 82 stemmer mod 56; 5 stemte hverken for eller imod.',\n",
       " 'Forslag til folketingsbeslutning om reagensglasbørn [af Inge Krogh (KrF) m. fl.].',\n",
       " 'Forslag til folketingsbeslutning om insemination [af Inge Krogh (KrF) m. fl.].',\n",
       " 'Ebba Strange (SF) har meddelt mig, at de ønsker skriftligt at fremsætte:',\n",
       " 'Thorndahl (FP) har meddelt mig, at de ønsker skriftligt at fremsætte:',\n",
       " 'Møller (KrF) har meddelt mig, at de ønsker skriftligt at fremsætte:']"
      ]
     },
     "execution_count": 9,
     "metadata": {},
     "output_type": "execute_result"
    }
   ],
   "source": [
    "Prøve_FT[0:10]"
   ]
  },
  {
   "cell_type": "markdown",
   "id": "536da66e",
   "metadata": {},
   "source": [
    "Det ovenstående søger at genkende når der er et menigt medlem(hermed ment ikke formanden eller en minister) som ønsker at tale. Problemet er her at opremsningen af medlemmer af folketinget i starten af folketingsåret genkendes som \"en taler\" samt at metatale lavet af formanden genkendes eks. \"Medlem af folketinget Askjær Jørgensen (FP) har meddelt mig, at han ønsker til industriministeren at stille følgende:\". I begge tilfælde ser jeg det dog som mindre problematisk. \n",
    "I første tilfælde vil de \"genkendte\" talere blive tildelt en \"tale\" som er tom, altså at disse ikke siger noget, hvilket vil blive sorteret fra når jeg udtrækker de folketingstaler jeg ønsker at analysere. \n",
    "I andet tilfælde af problemet er ligeledes mindre problematisk. Her er der tale om at folketingets formand fremsætter et menigt medlems holdninger, og deraf ser jeg det ikke problematisk at \"karakterisere\" disse som folketingstaler."
   ]
  },
  {
   "cell_type": "markdown",
   "id": "aa3594ff",
   "metadata": {},
   "source": [
    "### Genkendelse af ministre:"
   ]
  },
  {
   "cell_type": "code",
   "execution_count": 12,
   "id": "d9a317fe",
   "metadata": {},
   "outputs": [],
   "source": [
    "ministre_FT = []\n",
    "for sentence in FT_data:\n",
    "    if len(sentence) < 100:\n",
    "        if len(re.findall(\"\\w*minister[\\w ]*\\([\\w ]*\\)\", sentence.lower())) > 0:\n",
    "            ministre_FT.append(sentence)"
   ]
  },
  {
   "cell_type": "code",
   "execution_count": 13,
   "id": "69015b18",
   "metadata": {},
   "outputs": [],
   "source": [
    "ministre_FT.sort(key = len, reverse = True)"
   ]
  },
  {
   "cell_type": "code",
   "execution_count": 14,
   "id": "8d63cd77",
   "metadata": {},
   "outputs": [
    {
     "data": {
      "text/plain": [
       "['Administrator Bent Collin, Nationalmuseet, repræsentant for kulturministeriet (formand)',\n",
       " \"Ministeren for kulturelle anliggender (Lise Østergaard): \\\\'\",\n",
       " 'Ministeren for offentlige arbejder (Jens Risgaard Knudsen):',\n",
       " 'Ministeren for offentlige arbejder (Jens Risgaard Knudsen):',\n",
       " 'Ministeren for kulturelle anliggender (Lise 0stergaard) :',\n",
       " 'Ministeren for kulturelle anliggender (Lise Østergaard):',\n",
       " 'Ministeren for kulturelle anliggender (Lise Østergaard):',\n",
       " 'Ministeren for kulturelle anliggender (Lise Østergaard):',\n",
       " 'Ministeren for kulturelle anliggender (Lise Østergaard):',\n",
       " 'Ministeren for kulturelle anliggender (Lise Østergaard):']"
      ]
     },
     "execution_count": 14,
     "metadata": {},
     "output_type": "execute_result"
    }
   ],
   "source": [
    "ministre_FT[0:10]"
   ]
  },
  {
   "cell_type": "markdown",
   "id": "2da87a30",
   "metadata": {},
   "source": [
    "Det ovenstående genkender meget godt når der er tale om en minister."
   ]
  },
  {
   "cell_type": "markdown",
   "id": "086c7eca",
   "metadata": {},
   "source": [
    "### Genkendelse af Formanden:"
   ]
  },
  {
   "cell_type": "code",
   "execution_count": 15,
   "id": "7bb4874f",
   "metadata": {},
   "outputs": [
    {
     "data": {
      "text/plain": [
       "1024"
      ]
     },
     "execution_count": 15,
     "metadata": {},
     "output_type": "execute_result"
    }
   ],
   "source": [
    "count_formanden = 0\n",
    "for sentence in FT_data:\n",
    "    if sentence.lower() == \"formanden\" or sentence.lower() == \"formanden:\":\n",
    "        count_formanden += 1\n",
    "count_formanden"
   ]
  },
  {
   "cell_type": "markdown",
   "id": "2bce76e3",
   "metadata": {},
   "source": [
    "Jeg undersøger nu om der kan være nogle datapunkter der er blevet misset:"
   ]
  },
  {
   "cell_type": "code",
   "execution_count": 16,
   "id": "b4d0ba18",
   "metadata": {},
   "outputs": [
    {
     "data": {
      "text/plain": [
       "['[Formanden]',\n",
       " '[Formanden]',\n",
       " '[Formanden]',\n",
       " '[Formanden]',\n",
       " '[Formanden]',\n",
       " '[Formanden]',\n",
       " '[Formanden]',\n",
       " '[Formanden]',\n",
       " '[Formanden]',\n",
       " '[Formanden]']"
      ]
     },
     "execution_count": 16,
     "metadata": {},
     "output_type": "execute_result"
    }
   ],
   "source": [
    "formanden_problem = []\n",
    "for sentence in FT_data:\n",
    "    if len(sentence) <= 15:\n",
    "        if len(re.findall(\"formanden\", sentence.lower())) > 0:\n",
    "            if sentence.lower() != \"formanden\" and sentence.lower() != \"formanden:\":\n",
    "                formanden_problem.append(sentence)\n",
    "formanden_problem[0:10]"
   ]
  },
  {
   "cell_type": "markdown",
   "id": "c02e5338",
   "metadata": {},
   "source": [
    "I det ovenstående er der tale om at der står i margenen af folketingstidende, at det er formanden der taler, det er derfor ikke problematisk at disse sorteres fra."
   ]
  },
  {
   "cell_type": "markdown",
   "id": "2c32ed3f",
   "metadata": {},
   "source": [
    "### Marginer sorteres fra:"
   ]
  },
  {
   "cell_type": "code",
   "execution_count": 17,
   "id": "70156a34",
   "metadata": {},
   "outputs": [
    {
     "name": "stdout",
     "output_type": "stream",
     "text": [
      "2517\n"
     ]
    },
    {
     "data": {
      "text/plain": [
       "['11 7/10 80: Statsministerens åbningstale 12',\n",
       " '15 7/10 80: Statsministerens åbningstale 16',\n",
       " '17 7/10 80: Statsministerens åbningstale IR',\n",
       " '19 7/10 80: Statsministerens åbningstale 20',\n",
       " '21 7/10 80: Statsministerens åbningstale. Skr. del 22',\n",
       " '23 7/10 80: Statsministerens åbningstale. Skr. del 24',\n",
       " '35 7/10 80: Statsministerens åbningstale. Skr. del 36',\n",
       " '39 7/10 80: Statsministerens åbningstale. Skr. del 40',\n",
       " '41 7/10 80: Statsministerens åbningstale. Skr. del 11 42',\n",
       " '43 7/10 80: Statsministerens åbningstale. Skr. del 44']"
      ]
     },
     "execution_count": 17,
     "metadata": {},
     "output_type": "execute_result"
    }
   ],
   "source": [
    "hele_margin = []\n",
    "for sentence in FT_data:\n",
    "    if len(re.findall(\"^[1-9]{1,5} [1-9]{1,2}/[1-9]{1,2}\", sentence.lower())) > 0: #tilføjet til at fange headers på sider\n",
    "        if len(sentence) < 200:\n",
    "             hele_margin.append(sentence)\n",
    "print(len(hele_margin))\n",
    "hele_margin[0:10]"
   ]
  },
  {
   "cell_type": "markdown",
   "id": "dd573094",
   "metadata": {},
   "source": [
    "Det er klart at det ovenstående er marginerne på hver side. Hvis man dog følger tallet til venstre, som er det første spalte(af to) på hver side af folketingstidende, kan man dog se at det ikke er alle marginer der findes her."
   ]
  },
  {
   "cell_type": "code",
   "execution_count": 18,
   "id": "6855b075",
   "metadata": {},
   "outputs": [
    {
     "name": "stdout",
     "output_type": "stream",
     "text": [
      "1970\n"
     ]
    },
    {
     "data": {
      "text/plain": [
       "['7/10 80: Folketingets åbning',\n",
       " '7/10 80: Statsministerens åbningstale',\n",
       " '7/10 80: Statsministerens åbningstale',\n",
       " '7/10 80: Statsministerens åbningstale',\n",
       " '7/10 80: Statsministerens åbningstale',\n",
       " '7/10 80: Statsministerens åbningstale',\n",
       " '7/10 80: Statsministerens åbnìngstale. Skr. del 26',\n",
       " '7/10 80: Statsministerens åbningstale. Skr. del 28',\n",
       " '7/10 80: Statsministerens åbningstale. Skr. del',\n",
       " '7/10 80: Statsministerens åbningstale. Skr. del']"
      ]
     },
     "execution_count": 18,
     "metadata": {},
     "output_type": "execute_result"
    }
   ],
   "source": [
    "dato_alene = []\n",
    "for sentence in FT_data:\n",
    "    if len(re.findall(\"^[1-9]{1,2}/[1-9]{1,2}\", sentence.lower())) > 0: #tilføjet til at fange headers på sider\n",
    "            if len(sentence) < 200:\n",
    "                dato_alene.append(sentence)\n",
    "print(len(dato_alene))\n",
    "dato_alene[0:10]"
   ]
  },
  {
   "cell_type": "markdown",
   "id": "496ac1b9",
   "metadata": {},
   "source": [
    "Her kan det også ses at der er tale om marginer. Disse skal derfor ligeledes sorteres fra. Problemet er her at spaltenumrene da er sorteret som individuelle datapunkter. Jeg prøver da også at sortere disse fra."
   ]
  },
  {
   "cell_type": "code",
   "execution_count": 19,
   "id": "c821e44c",
   "metadata": {},
   "outputs": [
    {
     "data": {
      "text/plain": [
       "['1', '2', '3', '4', '5', '6', '7', '8', '9', '13']"
      ]
     },
     "execution_count": 19,
     "metadata": {},
     "output_type": "execute_result"
    }
   ],
   "source": [
    "tal_genkendt = []\n",
    "for sentence in FT_data:\n",
    "    if re.fullmatch(\"[1-9]{1,10}\", sentence.lower()): #tilføjet til at fange headers på sider\n",
    "        tal_genkendt.append(sentence)\n",
    "tal_genkendt[0:10]"
   ]
  },
  {
   "cell_type": "markdown",
   "id": "641eeb8e",
   "metadata": {},
   "source": [
    "Hvis man kigger tallene igennem er det meget plausibelt at der her er tale om de manglende spaltenumre. Disse skal altså også sorteres fra."
   ]
  },
  {
   "cell_type": "markdown",
   "id": "4a15580e",
   "metadata": {},
   "source": [
    "I marginerne optræder altså også en navn på vedkommende der er den \"tallende\" når der skiftes spalte. Disse vil jeg også forsøge at sortere fra, da jeg ikke ønsker at en taler fra folketingets talerstols eget navn skal indgå i dennes tale. Heldigvis har disse navne også en relativt nem formatering, nemlig \\[navn\\]. Jeg søger altså efter datapunker der matcher denne formatering."
   ]
  },
  {
   "cell_type": "code",
   "execution_count": 20,
   "id": "2f17e1d8",
   "metadata": {},
   "outputs": [
    {
     "name": "stdout",
     "output_type": "stream",
     "text": [
      "6039\n"
     ]
    }
   ],
   "source": [
    "tallere_fra_forrige_side = []\n",
    "for sentence in FT_data:\n",
    "    if re.fullmatch(\"\\[.{1,100}\\]\", sentence.lower()):\n",
    "        tallere_fra_forrige_side.append(sentence)\n",
    "print(len(tallere_fra_forrige_side))"
   ]
  },
  {
   "cell_type": "code",
   "execution_count": 21,
   "id": "6e642b6e",
   "metadata": {},
   "outputs": [
    {
     "data": {
      "text/plain": [
       "['[Statsministeren]',\n",
       " '[Statsministeren]',\n",
       " '[Statsministeren]',\n",
       " '[Statsministeren]',\n",
       " '[Statsministeren]',\n",
       " '[Statsministeren]',\n",
       " '[Statsministeren]',\n",
       " '[Statsministeren]',\n",
       " '[Statsministeren]',\n",
       " '[Statsministeren]']"
      ]
     },
     "execution_count": 21,
     "metadata": {},
     "output_type": "execute_result"
    }
   ],
   "source": [
    "tallere_fra_forrige_side[0:10]"
   ]
  },
  {
   "cell_type": "markdown",
   "id": "f322a481",
   "metadata": {},
   "source": [
    "### Tallere fra forrige side som ikke er blevet læst som seperate enheder:"
   ]
  },
  {
   "cell_type": "code",
   "execution_count": 39,
   "id": "2caa51fe",
   "metadata": {},
   "outputs": [
    {
     "name": "stdout",
     "output_type": "stream",
     "text": [
      "7\n"
     ]
    }
   ],
   "source": [
    "tallere_fra_forrige_side_læst_forkert = []\n",
    "for sentence in FT_data:\n",
    "    if not re.fullmatch(\"\\[.{1,100}\\]\", sentence.lower()):\n",
    "        if not re.fullmatch(\"\\[.{1,100}\\].\", sentence.lower()):\n",
    "            if re.match(\"^\\[.{1,100}\\]\", sentence.lower()):\n",
    "                tallere_fra_forrige_side_læst_forkert.append(sentence)\n",
    "print(len(tallere_fra_forrige_side_læst_forkert))"
   ]
  },
  {
   "cell_type": "code",
   "execution_count": 41,
   "id": "7b096212",
   "metadata": {},
   "outputs": [
    {
     "data": {
      "text/plain": [
       "['[Vedr. stedfortræder for Arentoft]. (Beslutningsforslag nr. B 42).',\n",
       " '[Energiministeren] x I om Ekofiskfeltet i 1965, som hr. Svend Heiselberg her gør det.',\n",
       " '[Ministeren for offentlige arbejder] indvandsreservoir, og ministeriet for offentlige arbejder har i overensstemmelse hermed den principielle opfattelse, at etablering af et saltvandsindtag derfor kun bør ske på grundlag af en særlig lov.',\n",
       " \"[Dyremose] '--- vil have ministerens forklaring på, hvorfor man selv i en sag som denne, der tilsyneladende er lille, giver folketinget en meget mangelfuld og derfor i en vis udstrækning fejlagtig information, og hvorfor man så, når man har begået en fejl i foråret, skjuler dette ved i bemærkningerne til det aktuelle lovforslag blot at anføre, at ministeriet for skatter og afgifter har oplyst, at der er behov for en ændring, uden at fortælle, at det i virkeligheden er, fordi man har begået en fejl i regeringen.\",\n",
       " '[Undervisningsministeren] køkkenassistentuddannelsen, nemlig mod arbejde i institutionskøkkener. Køkkenlederuddannelsen er ikke en EFG- eller lærlingeuddannelse; den er opbygget efter vekselprincip, og skoledelen gennemføres på husholdningsskolerne som led i deres sædvanlige virksomhed.',\n",
       " '[Finansministeren] .',\n",
       " '[Ministeren for skatter og afgifter] undersøgelsesarbejdet under et møde afholdt i skattedepartementet i november 1980. Denne undersøgelse vil blive fremmet mest muligt.']"
      ]
     },
     "execution_count": 41,
     "metadata": {},
     "output_type": "execute_result"
    }
   ],
   "source": [
    "tallere_fra_forrige_side_læst_forkert"
   ]
  },
  {
   "cell_type": "markdown",
   "id": "2e966c2f",
   "metadata": {},
   "source": [
    "Her findes de forskellige navne fra marginerne, som skal sorteres fra."
   ]
  },
  {
   "cell_type": "markdown",
   "id": "cfc3798b",
   "metadata": {},
   "source": [
    "## Sammensætning af det ovenstående"
   ]
  },
  {
   "cell_type": "markdown",
   "id": "56ce909e",
   "metadata": {},
   "source": [
    "I det følgende vil jeg sætte alt det ovenstående sammen, med det formål at udtrække folketingstaler, samt hvem der taler, og sortere marginer fra."
   ]
  },
  {
   "cell_type": "code",
   "execution_count": 22,
   "id": "80edd6ec",
   "metadata": {},
   "outputs": [],
   "source": [
    "indhold = FT_data\n",
    "talere = []\n",
    "tale = []\n",
    "parti = []\n",
    "count_folketing = 0\n",
    "Partier_i_folketinget = [\"(A)\", \"(SF)\", \"(S)\", \"(RV)\", \"(KF)\", \"(V)\", \"(FP)\", \"(CD)\", \"(VS)\", \"(KrF)\"]\n",
    "for index in range(len(indhold)):\n",
    "        sentence = indhold[index]\n",
    "        if len(re.findall(\"(^.{1,50} \\([A-Z]+\\)|.{1,50} \\(KrF\\))\", sentence)) > 0: #Tjekker om det er et menigt medlem\n",
    "            if len(re.findall(\"(\\([A-Z]+\\)|\\(KrF\\))\", sentence)) < 2:\n",
    "                if len(re.findall(\"Ny stedf.\", sentence)) > 0:\n",
    "                    pass\n",
    "                elif len(re.findall(\"Udtræder:\", sentence)) > 0:\n",
    "                    pass\n",
    "                elif len(re.findall(\"Nyt medl\", sentence)) > 0:\n",
    "                    pass\n",
    "                elif len(re.findall(\" af\", sentence.lower())) > 0:\n",
    "                    pass\n",
    "                elif re.findall(\"(\\([A-Z]+\\)|\\(KrF\\))\", sentence)[0] in Partier_i_folketinget:\n",
    "                    talere.append(sentence)\n",
    "                    parti.append(re.findall(\"(\\([A-Z]+\\)|\\(KrF\\))\", sentence)[0])\n",
    "                    tale.append(\"\")\n",
    "                    count_folketing += 1\n",
    "                else:\n",
    "                    if len(tale) >= 1:\n",
    "                        tale[-1] = tale[-1] + \" \" + sentence\n",
    "            else: #ellers er det en tale\n",
    "                if len(tale) >= 1:\n",
    "                    tale[-1] = tale[-1] + \" \" + sentence\n",
    "                #if len(re.findall(\"(\\([A-Z]+\\)|\\(KrF\\))\", sentence)) < 2:\n",
    "        elif sentence.lower() == \"formanden\" or sentence.lower() == \"formanden:\": #tjekker om det er formanden der taler\n",
    "            talere.append(\"formanden\")\n",
    "            parti.append(\"Formanden\")\n",
    "            tale.append(\"\")\n",
    "        elif len(sentence) < 100: #Tjekker om det er en minister der taler\n",
    "            if len(re.findall(\"\\w*minister[\\w ]*\\([\\w ]*\\)\", sentence.lower())) > 0:\n",
    "                talere.append(sentence)\n",
    "                parti.append(\"Regeringen\")\n",
    "                tale.append(\"\")\n",
    "            else:\n",
    "                if len(tale) >= 1:\n",
    "                    tale[-1] = tale[-1] + \" \" + sentence\n",
    "        elif len(re.findall(\"^[1-9]{1,5} [1-9]{1,2}/[1-9]{1,2}\", sentence.lower())) > 0: #tilføjet til at fange headers på sider\n",
    "            if len(sentence) < 200:\n",
    "                pass\n",
    "        elif len(re.findall(\"^[1-9]{1,2}/[1-9]{1,2}\", sentence.lower())) > 0: #tilføjet til at fange headers på sider\n",
    "            if len(sentence) < 200:\n",
    "                pass\n",
    "            else:\n",
    "                if len(tale) >= 1:\n",
    "                    tale[-1] = tale[-1] + \" \" + sentence\n",
    "        elif re.fullmatch(\"\\[.{1,100}\\]\", sentence.lower()):\n",
    "            pass\n",
    "        elif re.fullmatch(\"[1-9]{1,10}\", sentence.lower()):\n",
    "            pass\n",
    "        else:\n",
    "            if len(tale) >= 1:\n",
    "                tale[-1] = tale[-1] + \" \" + sentence"
   ]
  },
  {
   "cell_type": "markdown",
   "id": "bfb534aa",
   "metadata": {},
   "source": [
    "Jeg laver nu en funktion ud af dette:"
   ]
  },
  {
   "cell_type": "code",
   "execution_count": 23,
   "id": "7c327665",
   "metadata": {},
   "outputs": [],
   "source": [
    "def FT_taler(indhold):\n",
    "    talere = []\n",
    "    tale = []\n",
    "    parti = []\n",
    "    count_folketing = 0\n",
    "    Partier_i_folketinget = [\"(A)\", \"(SF)\", \"(S)\", \"(RV)\", \"(KF)\", \"(V)\", \"(FP)\", \"(CD)\", \"(VS)\", \"(KrF)\"]\n",
    "    for index in range(len(indhold)):\n",
    "        sentence = indhold[index]\n",
    "        if len(re.findall(\"(^.{1,50} \\([A-Z]+\\)|.{1,50} \\(KrF\\))\", sentence)) > 0: #Tjekker om det er et menigt medlem\n",
    "            if len(re.findall(\"(\\([A-Z]+\\)|\\(KrF\\))\", sentence)) < 2:\n",
    "                if len(re.findall(\"Ny stedf.\", sentence)) > 0:\n",
    "                    pass\n",
    "                elif len(re.findall(\"Udtræder:\", sentence)) > 0:\n",
    "                    pass\n",
    "                elif len(re.findall(\"Nyt medl\", sentence)) > 0:\n",
    "                    pass\n",
    "                elif len(re.findall(\" af\", sentence.lower())) > 0:\n",
    "                    pass\n",
    "                elif re.findall(\"(\\([A-Z]+\\)|\\(KrF\\))\", sentence)[0] in Partier_i_folketinget:\n",
    "                    talere.append(sentence)\n",
    "                    parti.append(re.findall(\"(\\([A-Z]+\\)|\\(KrF\\))\", sentence)[0])\n",
    "                    tale.append(\"\")\n",
    "                    count_folketing += 1\n",
    "                else:\n",
    "                    if len(tale) >= 1:\n",
    "                        tale[-1] = tale[-1] + \" \" + sentence\n",
    "            else: #ellers er det en tale\n",
    "                if len(tale) >= 1:\n",
    "                    tale[-1] = tale[-1] + \" \" + sentence\n",
    "                #if len(re.findall(\"(\\([A-Z]+\\)|\\(KrF\\))\", sentence)) < 2:\n",
    "        elif sentence.lower() == \"formanden\" or sentence.lower() == \"formanden:\": #tjekker om det er formanden der taler\n",
    "            talere.append(\"formanden\")\n",
    "            parti.append(\"Formanden\")\n",
    "            tale.append(\"\")\n",
    "        elif len(sentence) < 100: #Tjekker om det er en minister der taler\n",
    "            if len(re.findall(\"\\w*minister[\\w ]*\\([\\w ]*\\)\", sentence.lower())) > 0:\n",
    "                talere.append(sentence)\n",
    "                parti.append(\"Regeringen\")\n",
    "                tale.append(\"\")\n",
    "            else:\n",
    "                if len(tale) >= 1:\n",
    "                    tale[-1] = tale[-1] + \" \" + sentence\n",
    "        elif len(re.findall(\"^[1-9]{1,5} [1-9]{1,2}/[1-9]{1,2}\", sentence.lower())) > 0: #tilføjet til at fange headers på sider\n",
    "            if len(sentence) < 200:\n",
    "                pass\n",
    "        elif len(re.findall(\"^[1-9]{1,2}/[1-9]{1,2}\", sentence.lower())) > 0: #tilføjet til at fange headers på sider\n",
    "            if len(sentence) < 200:\n",
    "                pass\n",
    "            else:\n",
    "                if len(tale) >= 1:\n",
    "                    tale[-1] = tale[-1] + \" \" + sentence\n",
    "        elif re.fullmatch(\"\\[.{1,100}\\]\", sentence.lower()):\n",
    "            pass\n",
    "        elif re.fullmatch(\"[1-9]{1,10}\", sentence.lower()):\n",
    "            pass\n",
    "        else:\n",
    "            if len(tale) >= 1:\n",
    "                tale[-1] = tale[-1] + \" \" + sentence\n",
    "    return tale, talere, parti"
   ]
  },
  {
   "cell_type": "markdown",
   "id": "078cb2e5",
   "metadata": {},
   "source": [
    "Ovenstående funktion danner basis for formatering af data til senere analyse."
   ]
  }
 ],
 "metadata": {
  "kernelspec": {
   "display_name": "Python 3 (ipykernel)",
   "language": "python",
   "name": "python3"
  },
  "language_info": {
   "codemirror_mode": {
    "name": "ipython",
    "version": 3
   },
   "file_extension": ".py",
   "mimetype": "text/x-python",
   "name": "python",
   "nbconvert_exporter": "python",
   "pygments_lexer": "ipython3",
   "version": "3.10.2"
  }
 },
 "nbformat": 4,
 "nbformat_minor": 5
}
