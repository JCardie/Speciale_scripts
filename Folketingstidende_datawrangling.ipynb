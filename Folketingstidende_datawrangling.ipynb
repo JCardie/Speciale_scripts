{
 "cells": [
  {
   "cell_type": "code",
   "execution_count": 100,
   "id": "228dacdd",
   "metadata": {},
   "outputs": [],
   "source": [
    "import pandas as pd\n",
    "import re\n",
    "from random import randint\n",
    "import spacy\n",
    "from time import time"
   ]
  },
  {
   "cell_type": "markdown",
   "id": "71ea6289",
   "metadata": {},
   "source": [
    "# Folketingstidende datawrangling"
   ]
  },
  {
   "cell_type": "markdown",
   "id": "fc27536b",
   "metadata": {},
   "source": [
    "Det følgende script er en renskrivning af et \"trial and error\" script jeg tidligere har udarbejdet. Dette script kan findes på min github:"
   ]
  },
  {
   "cell_type": "markdown",
   "id": "c76c85e0",
   "metadata": {},
   "source": [
    "### Formål\n",
    "Dette script ønsker at formatere \"folketingstidende\" på en sådan måde at der kan laves en digitalhistorisk analyse af data. Formålet med scriptet er da at \"genkende\" når en ny person begynder at tale fra folketingsets talerstol, så folektingstidende kan opdeles i folketingstaler og udtræke metadateen \"hvem der taler\" samt \"hvilket parti tilhører taleren\". Derudover skal scriptet søge at genkende når der er \"fejl\" i data som skal sorteres fra. Her er primært tale om at sortere marginer fra. Da der er tale om en \"OCR\" læsning af folketingstidende starter hver side med marginen på siden, som hvis denne ikke sorteres fra, vil indgå som en del af et folketingsmedlem eller ministers tale. "
   ]
  },
  {
   "cell_type": "markdown",
   "id": "a377f226",
   "metadata": {},
   "source": [
    "### Genkendelse af talere:"
   ]
  },
  {
   "cell_type": "markdown",
   "id": "9e92f04b",
   "metadata": {},
   "source": [
    "I det følgende vil jeg søge at benytte mig af regex til at genkende når en ny person indtager folketingsets talerstol. Til dette vil jeg udnytte hvordan folketingstidende er \"formateret\" af udgiver. Når en ny person indtager folketingets talerstol vil dette blive skrevet som \"Navn på talende folketingsmedlem (Parti som folketingsmedlem tilhører)\". Det er altså dette jeg vil søge at genkende."
   ]
  },
  {
   "cell_type": "markdown",
   "id": "c5613029",
   "metadata": {},
   "source": [
    "Jeg starter med at indlæse en del af folketingstidende som prøve."
   ]
  },
  {
   "cell_type": "code",
   "execution_count": 127,
   "id": "9dfb9fd2",
   "metadata": {},
   "outputs": [],
   "source": [
    "df = pd.read_csv('../../Folketingstidende/Hele/19901.csv',sep=';', encoding = \"latin1\")"
   ]
  },
  {
   "cell_type": "markdown",
   "id": "b804191a",
   "metadata": {},
   "source": [
    "Jeg finder ny søjlenavnene:"
   ]
  },
  {
   "cell_type": "code",
   "execution_count": 128,
   "id": "4664e1d6",
   "metadata": {},
   "outputs": [
    {
     "data": {
      "text/plain": [
       "['Unnamed: 0', 'spalte', 'TextBlock', 'TopMargin', 'indhold', 'år', 'samling']"
      ]
     },
     "execution_count": 128,
     "metadata": {},
     "output_type": "execute_result"
    }
   ],
   "source": [
    "df.columns.values.tolist()"
   ]
  },
  {
   "cell_type": "markdown",
   "id": "a85741e2",
   "metadata": {},
   "source": [
    "Det er søjlen \"indhold\" der primært har interesse."
   ]
  },
  {
   "cell_type": "code",
   "execution_count": 129,
   "id": "9ee6361f",
   "metadata": {},
   "outputs": [],
   "source": [
    "FT_data = [indhold for indhold in df[\"indhold\"]]"
   ]
  },
  {
   "cell_type": "code",
   "execution_count": 130,
   "id": "a9c797f4",
   "metadata": {},
   "outputs": [
    {
     "data": {
      "text/plain": [
       "['(1) l 2/10 90: Folketingets åbning 2',\n",
       " '1. møde',\n",
       " 'Tirsdag den 2. oktober 1990 kl. 12.00',\n",
       " 'Aldersformanden (Ninn-Hansen):',\n",
       " 'På denne første tirsdag i oktober er Folketinget trådt sammen for at indlede folketingsåret 1990-91, og det sker som bekendt i henhold til bestemmelser i grundloven herom.',\n",
       " 'Som den, der længst har været medlem af Tinget, er det min opgave og pligt at lede valget af præsidium og af tingsekretærer.',\n",
       " 'Til formand har et flertal bestående af Det Konservative Folkeparti, Venstre, Fremskridtspartiet, Det Radikale Venstre, Centrum-Demokraterne og Kristeligt Folkeparti indstillet H. P. Clausen (KF).',\n",
       " 'Over for mig foreligger der ikke andre indstillinger. Hvis ingen begærer afstemning, vil jeg betragte den her foretagne indstilling som vedtaget. (Ophold). Der er ingen, der begærer afstemning, og dermed er H. P. Clausen valgt.',\n",
       " 'Til næstformænd har Tingets fire største partier - bortset fra det parti, som formanden tilhører - udpeget følgende medlemmer:',\n",
       " 'Til første næstformand Henning Rasmussen (S), til anden næstformand Lilli Gyldenkilde (SF), til tredje næstformand Povl Brøndsted (V) og til fjerde næstformand Poulsgaard (FP).']"
      ]
     },
     "execution_count": 130,
     "metadata": {},
     "output_type": "execute_result"
    }
   ],
   "source": [
    "FT_data[0:10]"
   ]
  },
  {
   "cell_type": "markdown",
   "id": "13e002c6",
   "metadata": {},
   "source": [
    "Her viser jeg de første 10 OCR-læste afsnit i folketingstidende.\n",
    "\n",
    "Jeg vil nu søge at genkende når der er folk der taler fra folketingsets talerstol."
   ]
  },
  {
   "cell_type": "code",
   "execution_count": 131,
   "id": "ad5a15d8",
   "metadata": {},
   "outputs": [],
   "source": [
    "Prøve_FT = []\n",
    "Partier_i_folketinget = [\"(A)\", \"(SF)\", \"(S)\", \"(RV)\", \"(KF)\", \"(V)\", \"(FP)\", \"(CD)\", \"(VS)\", \"(KrF)\", \"(KRF)\"] #liste af partier\n",
    "for sentence in FT_data:\n",
    "    #if len(re.findall(\"(\\w{1,10}\\([A-Z]+\\)|\\(KrF\\))\", sentence)) > 0:\n",
    "    #if len(re.findall(\"(\\([A-Z]+\\)|\\(KrF\\))\", sentence)) > 0:\n",
    "    if len(re.findall(\"(^.{1,50} \\([A-Z]+\\)|.{1,50} \\(KrF\\))\", sentence)) > 0:\n",
    "        if len(re.findall(\"(\\([A-Z]+\\)|\\(KrF\\))\", sentence)) < 2:\n",
    "            if len(re.findall(\"Ny stedf.\", sentence)) > 0:\n",
    "                pass\n",
    "            elif len(re.findall(\"Udtræder:\", sentence)) > 0:\n",
    "                pass\n",
    "            elif len(re.findall(\"Nyt medl\", sentence)) > 0:\n",
    "                pass\n",
    "            elif len(re.findall(\" af\", sentence.lower())) > 0:\n",
    "                pass\n",
    "            elif re.findall(\"(\\([A-Z]+\\)|\\(KrF\\))\", sentence)[0] in Partier_i_folketinget:\n",
    "                Prøve_FT.append(sentence)"
   ]
  },
  {
   "cell_type": "markdown",
   "id": "3ad11266",
   "metadata": {},
   "source": [
    "Jeg kan nu undersøges hvad der genkendes:"
   ]
  },
  {
   "cell_type": "code",
   "execution_count": 132,
   "id": "06db8b0f",
   "metadata": {},
   "outputs": [],
   "source": [
    "Prøve_FT.sort(key = len, reverse = True)"
   ]
  },
  {
   "cell_type": "code",
   "execution_count": 133,
   "id": "ca4ef370",
   "metadata": {},
   "outputs": [
    {
     "data": {
      "text/plain": [
       "2436"
      ]
     },
     "execution_count": 133,
     "metadata": {},
     "output_type": "execute_result"
    }
   ],
   "source": [
    "len(Prøve_FT)"
   ]
  },
  {
   "cell_type": "code",
   "execution_count": 134,
   "id": "375eaf48",
   "metadata": {},
   "outputs": [
    {
     "data": {
      "text/plain": [
       "['forkastedes, idet 13 (SF) stemte for, 56 (KF, V, FP, RV og CD) imod; 34 (S og KRF) stemte hverken for eller imod.',\n",
       " 've Niemann (FP) har meddelt mig, at de til justitsministeren ønsker at stille følgende:',\n",
       " 'Af Birgitte Husmark (SF) m.fl. (Forespørgslen anmeldt 4/10 90).',\n",
       " 'Af Kirsten Jacobsen (FP) m.fl. (Forespørgslen anmeldt 8/11 90).',\n",
       " 'Af Margrete Auken (SF) m.fl. (Forespørgslen anmeldt 3/10 90).',\n",
       " 'Af Tommy Dinesen (SF) m.fl. (Forespørgslen anmeldt 10/10 90).',\n",
       " 'Af Pia Kjærsgaard (FP) m.fl. (Forespørgslen anmeldt 8/11 90).',\n",
       " 'Af Aage Frandsen (SF) m.fl. (Forespørgslen anmeldt 3/10 90).',\n",
       " '15 (SF) stemte hverken for eller imod.',\n",
       " 'Af Rahbæk Møller (SF), Dorte Bennedsen',\n",
       " 'Af Rahbæk Møller (SF), Dorte Bennedsen',\n",
       " 'Nyt med},: Else Winther Andersen (V)',\n",
       " '16-17 Hanne Thanning Jacobsen (SF)',\n",
       " '16-17 Hanne Thanning Jacobsen (SF)',\n",
       " \"1-3 Pia Christmas-Møller (KF) '.I\",\n",
       " 'Birgitte Husmark (SF) (se foran).',\n",
       " '17 Hanne Thanning Jacobsen (SF)',\n",
       " '17 Hanne Thanning Jacobsen (SF)',\n",
       " '11 Hanne Thanning Jacobsen (SF)',\n",
       " 'Udtræder : Nør Christensen (CD)',\n",
       " 'Margrete Auken (SF) (se foran).',\n",
       " 'Af Ingerlise Koefoed (SF) m.fl.',\n",
       " 'Af Ingerlise Koefoed (SF) m.fl.',\n",
       " 'Af Lilli Gyldenkilde (SF) m.fl.',\n",
       " '4-5 Elsebeth Kock-Petersen (V)',\n",
       " '10-15 Pernille Forchhammer (S)',\n",
       " 'Nyt medL: Marianne Jelved (RV)',\n",
       " 'Af Birgitte Husmark (SF) m.fl.',\n",
       " '7 Inger Marie Bruun-Vierø (RV)',\n",
       " '10-15 Pernille Forchhammer (S)',\n",
       " 'Af Kirsten Jacobsen (FP) m.fl.',\n",
       " 'Af Birgitte Husmark (SF) m.fl.',\n",
       " 'Af Birgitte Husmark (SF) m.fl.',\n",
       " '1-3 Else Theill Sørensen (KF)',\n",
       " 'Hanne Thanning Jacobsen (SF),',\n",
       " 'Hanne Thanning Jacobsen (SF),',\n",
       " 'Inger Marie Bruun-Vierø (RV):',\n",
       " 'Inger Marie Bruun-Vierø (RV):',\n",
       " 'Inger Marie Bruun-Vierø (RV):',\n",
       " 'Hanne Thanning Jacobsen (SF):',\n",
       " 'Hanne Thanning Jacobsen (SF):',\n",
       " 'Hanne Thanning Jacobsen (SF):',\n",
       " 'Hanne Thanning Jacobsen (SF):',\n",
       " 'Hans Hækkerup (S) (se foran).',\n",
       " 'Udtræder : Bo Kristensen (KF)',\n",
       " 'Hanne Thanning Jacobsen (SF):',\n",
       " '6 Elsebeth Kock-Petersen (V)',\n",
       " '5 Elsebeth Kock-Petersen (V)',\n",
       " '1-3 Ole Bernt Henriksen (KF)',\n",
       " '1-4 Ole Bernt Henriksen (KF)',\n",
       " 'Hanne Thanning Jacobsen (SF)',\n",
       " '1-3 Ole Bernt Henriksen (KF)',\n",
       " 'Af Margrete Auken (SF) m.fl.',\n",
       " 'Af Margrete Auken (SF) m.fl.',\n",
       " 'Gerda Thymann Pedersen (KF):',\n",
       " 'Af Margrete Auken (SF) m.fl.',\n",
       " 'Af Margrete Auken (SF) m.fl.',\n",
       " 'Pelle Voigt (SF) (se foran).',\n",
       " 'Gerda Thymann Pedersen (KF):',\n",
       " 'Af Pia Kjærsgaard (FP) m.fl.',\n",
       " '8 Grethe Fenger Møller (KF)',\n",
       " '2 Else Theill Sørensen (KF)',\n",
       " '4 Pia Christmas-Møller (KF)',\n",
       " '1 Pia Christmas-Møller (KF)',\n",
       " '3 Else Theill Sørensen (KF)',\n",
       " '1 Else Theill Sørensen (KF)',\n",
       " '3 Else Theill Sørensen (KF)',\n",
       " '12 Pernille Forchhammer (S)',\n",
       " '1 Grethe Fenger Møller (KF)',\n",
       " '15-17 Carsten Andersen (SF)',\n",
       " '9 Else Theill Sørensen (KF)',\n",
       " '2 Pia Christmas-Møller (KF)',\n",
       " '12 Pernille Forchhammer (S)',\n",
       " '9 Else Theill Sørensen (KF)',\n",
       " '1 Pia Christmas-Møller (KF)',\n",
       " '9 Grethe Fenger Møller (KF)',\n",
       " '1 Else Theill Sørensen (KF)',\n",
       " 'Af Aage Frandsen (SF) m.fl.',\n",
       " '1-3 Lizzie Lichtenberg (KF)',\n",
       " 'Af Tommy Dinesen (SF) m.fl.',\n",
       " 'Af Aage Fràndsen (SF) m.fl.',\n",
       " 'Af Aage Frandsen (SF) m.fl.',\n",
       " 'Elsebeth Kock-Petersen (V):',\n",
       " 'Af Aage Frandsen (SF) m.fl.',\n",
       " 'Af Aage Frandsen (SF) m.fl.',\n",
       " 'Udtræder : Kirsten Lee (RV)',\n",
       " 'Af Aage Frandsen (SF) m.fl.',\n",
       " 'Af Tommy Dinesen (SF) m.fl.',\n",
       " 'Af Tommy Dinesen (SF) m.fl.',\n",
       " 'Elsebeth Kock-Petersen (V):',\n",
       " 'Af Tommy Dinesen (SF) m.fl.',\n",
       " 'Af Tommy Dinesen (SF) m.fl.',\n",
       " 'Af Tommy Dinesen (SF) m.fl.',\n",
       " 'Af Bente Juncker (CD) m.fl.',\n",
       " 'Af Bente Juncker (CD) m.fl.',\n",
       " 'Af Birthe Hansen (SF) m.fl.',\n",
       " 'Af Birthe Hansen (SF) m.fl.',\n",
       " 'Af Gert Petersen (SF) m.fl.',\n",
       " 'Af Aage Frandsen (SF) m.fl.',\n",
       " 'Af Aage Frandsen (SF) m.fl.']"
      ]
     },
     "execution_count": 134,
     "metadata": {},
     "output_type": "execute_result"
    }
   ],
   "source": [
    "Prøve_FT[0:100]"
   ]
  },
  {
   "cell_type": "markdown",
   "id": "536da66e",
   "metadata": {},
   "source": [
    "Det ovenstående søger at genkende når der er et menigt medlem(hermed ment ikke formanden eller en minister) som ønsker at tale. Problemet er her at opremsningen af medlemmer af folketinget i starten af folketingsåret genkendes som \"en taler\" samt at metatale lavet af formanden genkendes eks. \"Medlem af folketinget Askjær Jørgensen (FP) har meddelt mig, at han ønsker til industriministeren at stille følgende:\". I begge tilfælde ser jeg det dog som mindre problematisk. \n",
    "I første tilfælde vil de \"genkendte\" talere blive tildelt en \"tale\" som er tom, altså at disse ikke siger noget, hvilket vil blive sorteret fra når jeg udtrækker de folketingstaler jeg ønsker at analysere. \n",
    "I andet tilfælde af problemet er ligeledes mindre problematisk. Her er der tale om at folketingets formand fremsætter et menigt medlems holdninger, og deraf ser jeg det ikke problematisk at \"karakterisere\" disse som folketingstaler."
   ]
  },
  {
   "cell_type": "markdown",
   "id": "aa3594ff",
   "metadata": {},
   "source": [
    "### Genkendelse af ministre:"
   ]
  },
  {
   "cell_type": "code",
   "execution_count": 144,
   "id": "d9a317fe",
   "metadata": {},
   "outputs": [],
   "source": [
    "ministre_FT = []\n",
    "for sentence in FT_data:\n",
    "    if len(sentence) < 100:\n",
    "        if len(re.findall(\"\\w*minister[\\w ]*\\(([\\w-]*|[\\w ]*)\\)\", sentence.lower())) > 0:\n",
    "            ministre_FT.append(sentence)"
   ]
  },
  {
   "cell_type": "code",
   "execution_count": 136,
   "id": "69015b18",
   "metadata": {},
   "outputs": [],
   "source": [
    "ministre_FT.sort(key = len, reverse = True)"
   ]
  },
  {
   "cell_type": "code",
   "execution_count": 145,
   "id": "8d63cd77",
   "metadata": {},
   "outputs": [
    {
     "data": {
      "text/plain": [
       "['Statsministeren (Poul Schlüter):',\n",
       " 'Finansministeren (Henning Dyremose) har meddelt mig, at han ønsker skriftligt at fremsætte:',\n",
       " 'Skatteministeren (Fogh Rasmussen) har meddelt mig, at han ønsker skriftligt at fremsætte :',\n",
       " 'Finansministeren (Henning Dyremose):',\n",
       " 'Skatteministeren (Fogh Rasmussen):',\n",
       " 'Finansministeren (Henning Dyremose) har meddelt mig, at han ønsker skriftligt at fremsætte:',\n",
       " 'Indenrigsministeren (Thor Pedersen) har meddelt mig, at han ønsker skriftligt at fremsætte:',\n",
       " 'Kirkeministeren (Torben Rechendorff) har meddelt mig, at han ønsker skriftligt at fremsætte:',\n",
       " 'Finansministeren (Henning Dyremose) har meddelt mig, at han ønsker skriftligt at fremsætte :',\n",
       " 'Justitsministeren (Engell) har meddelt mig, at han ønsker skriftligt at fremsætte:',\n",
       " 'Skatteministeren (Fogh Rasmussen) har meddelt mig, at han ønsker skriftligt at fremsætte:',\n",
       " 'Socialministeren (Aase Olesen) har meddelt mig, at hun ønsker skriftligt at fremsætte:',\n",
       " 'Socialministeren (Aase Olesen) har meddelt mig, at hun ønsker skriftligt at fremsætte:',\n",
       " 'Finansministeren (Henning Dyremose):',\n",
       " 'Indenrigsministeren (Thor Pedersen):',\n",
       " 'Kirkeministeren (Torben Rechendorff):',\n",
       " 'Kommunikationsministeren (Torben Rechendorff) :',\n",
       " 'Finansministeren (Henning Dyremose):',\n",
       " 'Justitsministeren (Engell):',\n",
       " 'Skatteministeren (Fogh Rasmussen):',\n",
       " 'Socialministeren (Aase Olesen):',\n",
       " 'Socialministeren (Aase Olesen):',\n",
       " 'Trafikministeren (Knud Østergaard) har meddelt mig, at han ønsker skriftligt at fremsætte :',\n",
       " 'Landbrugsministeren (Tørnæs) har meddelt mig, at han ønsker skriftligt at fremætte:',\n",
       " 'Miljøministeren (Lone Dybkjær) har meddelt mig, at hun ønsker skriftligt at fremsætte:',\n",
       " 'Trafikministeren (Knud Østergaard):',\n",
       " 'Landbrugsministeren (Tørnæs):',\n",
       " 'Miljøministeren (Lone Dybkjær):',\n",
       " 'Miljøministeren (Lone Dybkjær):',\n",
       " 'Finansministeren (Henning Dyremose):',\n",
       " 'Finansministeren (Henning Dyremose):',\n",
       " 'Finansministeren (Henning Dyremose):',\n",
       " 'Statsministeren (Poul Schlüter):',\n",
       " 'Statsministeren (Poul Schlüter):',\n",
       " 'Statsministeren (Poul Schlüter):',\n",
       " 'Statsministeren (Poul Schlüter):',\n",
       " 'Af skatteministeren (Fogh Rasmussen).',\n",
       " 'Af skatteministeren (Fogh Rasmussen).',\n",
       " 'Af skatteministeren (Fogh Rasmussen).',\n",
       " 'Af skatteministeren (Fogh Rasmussen).',\n",
       " 'Af skatteministeren (Fogh Rasmussen).',\n",
       " 'Af skatteministeren (Fogh Rasmussen).',\n",
       " 'Af skatteministeren (Fogh Rasmussen). (Fremsat 2/10 90).',\n",
       " 'Af skatteministeren (Fogh Rasmussen). (Fremsat 2/10 90).',\n",
       " 'Af skatteministeren (Fogh Rasmussen). (Fremsat 2/10 90).',\n",
       " 'Af skatteministeren (Fogh Rasmussen). (Fremsat 2/10 90).',\n",
       " 'Af skatteministeren (Fogh Rasmussen). (Fremsat 2/10 90).',\n",
       " 'Af skatteministeren (Fogh Rasmussen). (Fremsat 2/10 90).',\n",
       " 'Skatteministeren (Fogh Rasmussen):',\n",
       " 'Skatteministeren (Fogh Rasmussen):',\n",
       " 'Skatteministeren (Fogh Rasmussen):',\n",
       " 'Af socialministeren (Aase Olesen).',\n",
       " 'Af justitsministeren (Engell).',\n",
       " 'Af kirkeministeren (Torben Rechendorff).',\n",
       " 'Af kommunikationsministeren (Torben Rechendorff).',\n",
       " 'Forslag til lov om indfødsrets meddelelse. Af indenrigsministeren (Thor Pedersen).',\n",
       " 'Industriministeren (Anne Birgitte Lundholt) har meddelt mig, at hun ønsker skriftligt at fremsætte:',\n",
       " 'Sundhedsministeren (Ester Larsen) har meddelt, mig, at hun ønsker skriftligt at fremsætte:',\n",
       " 'Skatteministeren (Fogh Rasmussen) har meddelt mig, at han ønsker skriftligt at fremsætte:',\n",
       " 'Socialministeren (Aase Olesen) har meddelt mig, at hun ønsker skriftligt at fremsætte:',\n",
       " '- Industriministeren (Anne Birgitte Lundholt):',\n",
       " 'Industriministeren (Anne Birgitte Lundholt):',\n",
       " 'Industriministeren (Anne Birgitte Lundholt):',\n",
       " 'Industriministeren (Anne Birgitte Lundholt):',\n",
       " 'Sundhedsministeren (Ester Larsen):',\n",
       " 'Skatteministeren (Fogh Rasmussen):',\n",
       " 'Socialministeren (Aase Olesen):',\n",
       " 'Udenrigsministeren (Ellemann-Jensen):',\n",
       " 'Udenrigsministeren (Ellemann-Jensen):',\n",
       " 'Udenrigsministeren (Ellemann-Jensen):',\n",
       " 'Udenrigsministeren (Ellemann-Jensen):',\n",
       " 'Boligministeren (Agnete Laustsen):',\n",
       " 'Boligministeren (Agnete Laustsen):',\n",
       " 'Boligministeren (Agnete Laustsen):',\n",
       " 'Boligministeren (Agnete Laustsen):',\n",
       " 'Skatteministeren (Fogh Rasmùssen):',\n",
       " 'Skatteministeren (Fogh Rasmussen):',\n",
       " 'Skatteministeren (Fogh Rasmussen):',\n",
       " 'Skatteministeren (Fogh Rasmussen):',\n",
       " 'Skatteministeren (Fogh Rasmussen):',\n",
       " 'Miljøministeren (Lone Dybkjær):',\n",
       " 'Miljøministeren (Lone Dybkjær):',\n",
       " 'Miljøministeren (Lone Dybkjær):',\n",
       " 'Socialministeren (Aase Olesen):',\n",
       " 'Socialministeren (Aase Olesen):',\n",
       " 'Socialministeren (Aase Olesen):',\n",
       " 'Socialministeren (Aase Olesen):',\n",
       " 'Skatteministeren (Fogh Rasmussen):',\n",
       " 'Indenrigsministeren (Thor Pedersen):',\n",
       " 'Af socialministeren (Aase Olesen). (Fremsat 3/10 90).',\n",
       " 'Socialministeren (Aase Olesen):',\n",
       " 'Af justitsministeren (Engell).',\n",
       " 'Justitsministeren (Engell):',\n",
       " 'Kirkeministeren (Torben Rechendorff):',\n",
       " 'Kommunikationsministeren (Torben Rechendorff):',\n",
       " 'Kommunikationsministeren (Torben Rechendorff):',\n",
       " 'Kommunikationsministeren (Torben Rechendorff):',\n",
       " 'Indenrigsministeren (Thor Pedersen):',\n",
       " 'Forslag til finanslov for finansåret 1991. Af finansministeren (Henning Dyremose).',\n",
       " 'Af finansministeren (Henning Dyremose).',\n",
       " 'Af finansministeren (Henning Dyremose).',\n",
       " 'Indenrigsministeren (Thor Pedersen) har meddelt mig, at han ønsker skriftligt at fremsætte:',\n",
       " 'Indenrigsministeren (Thor Pedersen):',\n",
       " 'Indenrigsministeren (Thor Pedersen):',\n",
       " 'Kommunikationsministeren (Torben Rechendorff):',\n",
       " 'Af finansministeren (Henning Dyremose).',\n",
       " 'Finansministeren (Henning Dyremose):',\n",
       " 'Finansministeren (Henning Dyremose):',\n",
       " 'Finansministeren (Henning Dyremose):',\n",
       " 'Af finansministeren (Henning Dyremose). (Fremsat 3/10 90).',\n",
       " 'Finansministeren (Henning Dyremose):',\n",
       " 'Af finansministeren (Henning Dyremose). (Fremsat 3/10 90).',\n",
       " 'Finansministeren (Henning Dyremose):',\n",
       " 'Af miljøministeren (Lone Dybkjær).',\n",
       " 'Af miljøministeren (Lone Dybkjær).',\n",
       " 'Af miljøministeren (Lone Dybkjær).',\n",
       " 'Af miljøministeren (Lone Dybkjær).',\n",
       " 'Af miljøministeren (Lone Dybkjær).',\n",
       " 'Af miljøministeren (Lone Dybkjær).',\n",
       " 'Af miljøministeren (Lone Dybkjær).',\n",
       " 'Miljøministeren (Lone Dybkjær):',\n",
       " 'Miljøministeren (Lone Dybkjær):',\n",
       " 'Miljøministeren (Lone Dybkjær):',\n",
       " 'Miljøministeren (Lone Dybkjær):',\n",
       " 'Miljøministeren (Lone Dybkjær):',\n",
       " 'Miljøministeren (Lone Dybkjær):',\n",
       " 'Miljøministeren (Lone Dybkjær):',\n",
       " 'Af miljøministeren (Lone Dybkjær). (Fremsat 4/10 90).',\n",
       " 'Af miljøministeren (Lone Dybkjær). (Fremsat 4/10 90).',\n",
       " 'Af miljøministeren (Lone Dybkjær). (Fremsat 4/10 90).',\n",
       " 'Af miljøministeren (Lone Dybkjær). (Fremsat 4/10 90).',\n",
       " 'Af miljøministeren (Lone Dybkjær). (Fremsat 4/10 90).',\n",
       " 'Af miljøministeren (Lone Dybkjær). (Fremsat 4/10 90).',\n",
       " 'Miljøministeren (Lone Dybkjær):',\n",
       " 'Miljøministeren (Lone Dybkjær):',\n",
       " 'Af miljøministeren (Lone Dybkjær). (Fremsat 4/10 90).',\n",
       " 'Miljøministeren (Lone Dybkjær):',\n",
       " 'Miljøministeren (Lone Dybkjær):',\n",
       " 'Af trafikministeren (Knud Østergaard).',\n",
       " 'Af socialministeren (Aase Olesen).',\n",
       " 'Af socialministeren (Aase Olesen).',\n",
       " 'Af sundhedsministeren (Ester Larsen).',\n",
       " 'Forslag til lov om frø, kartofler og planter. Af landbrugsministeren (Tørnæs).',\n",
       " 'Boligministeren (Agnete Laustsen) har meddelt mig, at hun ønsker skriftligt at fremsætte:',\n",
       " 'Justitsministeren (Engell) har meddelt mig, at han ønsker skriftligt af fremsætte:',\n",
       " 'Boligministeren (Agnete Laustsen):',\n",
       " 'Justitsministeren (Engell):',\n",
       " 'Justitsministeren (Engell):',\n",
       " 'Undervisnings- og forskningsministeren (Bertel Haarder):',\n",
       " 'Undervisnings- og forskningsministeren (Bertel Haarder):',\n",
       " 'Undervisnings- og forskningsministeren (Bertel Haarder):',\n",
       " 'Industriministeren (Anne Birgitte Lundholt):',\n",
       " 'Industriministeren (Anne Birgitte Lundholt):',\n",
       " 'Industriministeren (Anne Birgitte Lundholt):',\n",
       " 'Miljøministeren (Lone Dybkjær):',\n",
       " 'Miljøministeren (Lone Dybkjær):',\n",
       " 'Justitsministeren (Engell):',\n",
       " 'Justitsministeren (Engell):',\n",
       " 'Justitsministeren (Engell):',\n",
       " 'Justitsministeren (Engell):',\n",
       " 'Justitsministeren (Engell):',\n",
       " 'Justitsministeren (Engell):',\n",
       " 'Justitsministeren (Engell):',\n",
       " 'Justitsministeren (Engell):',\n",
       " 'Justitsministeren (Engell):',\n",
       " 'Justitsministeren (Engell):',\n",
       " 'Justitsministeren (Engell):',\n",
       " 'Justitsministeren (Engell):',\n",
       " 'Justitsministeren (Engell):',\n",
       " 'Justitsministeren (Engell):',\n",
       " 'Justitsministeren (Engell):',\n",
       " 'Justitsministeren (Engell):',\n",
       " 'Justitsministeren (Engell):',\n",
       " 'Skatteministeren (Fogh Rasmussen):',\n",
       " 'Finansministeren (Henning Dyremose):',\n",
       " 'Energiministeren (Bilgrav-Nielsen):',\n",
       " 'Sundhedsministeren (Ester Larsen):',\n",
       " 'Statsministeren (Poul Schlüter):',\n",
       " 'Finansministeren (Henning Dyremose):',\n",
       " 'Indenrigsministeren (Thor Pedersen):',\n",
       " 'Skatteministeren (Fogh Rasmussen):',\n",
       " 'Justitsministeren (Engell):',\n",
       " 'Justitsministeren (Engell):',\n",
       " 'Socialministeren (Aase Olesen):',\n",
       " 'Miljøministeren (Lone Dybkjær):',\n",
       " 'Miljøministeren (Lone Dybkjær):',\n",
       " 'Socialministeren (Aase Olesen):',\n",
       " 'Udenrigsministeren (Ellemann-Jensen):',\n",
       " 'Indenrigsministeren (Thor Pedersen):',\n",
       " 'Finansministeren (Henning Dyremose):',\n",
       " 'Indenrigsministeren (Thor Pedersen):',\n",
       " 'Industriministeren (Anne Birgitte Lundholt):',\n",
       " 'Justitsministeren (Engell):',\n",
       " 'Energiministeren (Bilgrav-Nielsen):',\n",
       " 'Justitsministeren (Engell):',\n",
       " 'Udenrigsministeren (Ellemann-Jensen):',\n",
       " 'Udenrigsministeren (Ellemann-Jensen):',\n",
       " 'Socialministeren (Aase Olesen):',\n",
       " 'Justitsministeren (Engell) :',\n",
       " 'Socialministeren (Aase Olesen):',\n",
       " 'Socialministeren (Aase Olesen):',\n",
       " 'Socialministeren (Aase Olesen):',\n",
       " 'Af trafikministeren (Knud Østergaard). (Fremsat 4/10 90).',\n",
       " 'Trafikministeren (Knud Østergaard):',\n",
       " 'Trafikministeren (Knud Østergaard):',\n",
       " 'Af socialministeren (Aase Olesen). (Fremsat 3/10 90).',\n",
       " 'Socialministeren (Aase Olesen):',\n",
       " 'Socialministeren (Aase Olesen):',\n",
       " 'Af socialministeren (Aase Olesen). (Fremsat 10/10 90),',\n",
       " 'Socialministeren (Aase Olesen):',\n",
       " 'Af sundhedsministeren (Ester Larsen). (Fremsat 10/10 90).',\n",
       " 'Sundhedsministeren (Ester Larsen):',\n",
       " 'Sundhedsministeren (Ester Larsen):',\n",
       " 'Af landbrugsministeren (Tørnæs). (Fremsat 4/10 90).',\n",
       " 'Landbrugsministeren (Tørnæs):',\n",
       " 'Af skatteministeren (Fogh Rasmussen).',\n",
       " 'Af skatteministeren (Fogh Rasmussen).',\n",
       " 'Af industriministeren (Anne Birgitte Lundholt).',\n",
       " 'Af industriministeren (Anne Birgitte Lundholt).',\n",
       " 'Af industriministeren (Anne Birgitte Lundholt).',\n",
       " 'Af industriministeren (Anne Birgitte Lundholt).',\n",
       " 'Statsministeren (Poul Schlüter):',\n",
       " 'Udenrigsministeren (Ellemann-Jensen):',\n",
       " 'Økonomiministeren (Niels Helveg Petersen):',\n",
       " 'Udenrigsministeren (Ellemann-Jensen):',\n",
       " 'Økonomiministeren (Niels Helveg Petersen):',\n",
       " 'Udenrigsministeren (Ellemann-Jensen):',\n",
       " 'Økonomiministeren (Niels Helveg Petersen):',\n",
       " 'Skatteministeren (Fogh Rasmussen):',\n",
       " 'Af skatteministeren (Fogh Rasmussen). (Fremsat 10/10 90).',\n",
       " 'Skatteministeren (Fogh Rasmussen) :',\n",
       " 'Af industriministeren (Anne Birgitte Lundholt).',\n",
       " 'Industriministeren (Anne Birgitte Lundholt):',\n",
       " 'Af industriministeren (Anne Birgitte Lundholt).',\n",
       " 'Industriministeren (Anne Birgitte Lundholt):',\n",
       " 'Af industriministeren (Anne Birgitte Lundholt).',\n",
       " 'Industriministeren (Anne Birgitte Lundholt):',\n",
       " 'Af industriministeren (Anne Birgitte Lundholt).',\n",
       " 'Industriministeren (Anne Birgitte Lundholt):',\n",
       " 'Af kirkeministeren (Torben Rechendorff).',\n",
       " 'Af justitsministeren (Engell).',\n",
       " 'Af justitsministeren (Engell).',\n",
       " 'Af justitsministeren (Engell).',\n",
       " 'Justitsministeren (Engell):',\n",
       " 'Justitsministeren (Engell):',\n",
       " 'Justitsministeren (Engell):',\n",
       " 'Justitsministeren (Engell):',\n",
       " 'Af justitsministeren (Engell).',\n",
       " 'Justitsministeren (Engell):',\n",
       " 'Socialministeren (Aase Olesen):',\n",
       " 'Socialministeren (Aase Olesen):',\n",
       " 'Undervisnings- og forskningsministeren (Bertel Haarder):',\n",
       " 'Undervisnings- og forskningsministeren (Bertel Haarder):',\n",
       " 'Undervisnings- og forskningsministeren (Bertel Haarder):',\n",
       " 'Undervisnings- og forskningsministeren (Bertel Haarder):',\n",
       " 'Undervisnings- og forskningsministeren (Bertel Haarder):',\n",
       " 'Af kommunikationsministeren (Torben Rechendorff).',\n",
       " 'Boligministeren (Agnete Laustsen) har meddelt mig, at hun ønsker skriftligt at fremsætte:',\n",
       " 'Socialministeren (Aase Olesen) har meddelt mig, at hun ønsker skriftligt at fremsætte:',\n",
       " 'Landbrugsministeren (Tørnæs) har meddelt mig, at han ønsker skriftligt at fremsætte:',\n",
       " 'Skatteministeren (Fogh Rasmussen) har meddelt mig, at han ønsker skriftligt at fremsætte:',\n",
       " 'Boligministeren (Agnete Laustsen):',\n",
       " 'Socialministeren (Aase Olesen):',\n",
       " 'Landbrugsministeren (Tørnæs):',\n",
       " 'Skatteministeren (Fogh Rasmussen):',\n",
       " 'Socialministeren (Aase Olesen):',\n",
       " 'Socialministeren (Aase Olesen):',\n",
       " 'Socialministeren (Aase Olesen):',\n",
       " 'Socialministeren (Aase Olesen):',\n",
       " 'Socialministeren (Aase Olesen):',\n",
       " 'Socialministeren (Aase Olesen):',\n",
       " 'Socialministeren (Aase Olesen):',\n",
       " 'Socialministeren (Aase Olesen):',\n",
       " 'Socialministeren (Aase Olesen):',\n",
       " 'Socialministeren (Aase Olesen):',\n",
       " 'Socialministeren (Aase Olesen):',\n",
       " 'Socialministeren (Aase Olesen):',\n",
       " 'Socialministeren (Aase Olesen):',\n",
       " 'Socialministeren (Aase Olesen):',\n",
       " 'Sundhedsministeren (Ester Larsen) :',\n",
       " 'Sundhedsministeren (Ester Larsen):',\n",
       " 'Sundhedsministeren (Ester Larsen):',\n",
       " 'Justitsministeren (Engell):',\n",
       " 'Justitsministeren (Engell):',\n",
       " 'Justitsministeren (Engell):',\n",
       " 'Justitsministeren (Engell):',\n",
       " 'Trafikministeren (Knud Østergaard):',\n",
       " 'Trafikministeren (Knud Østergaard):',\n",
       " 'Trafikministeren (Knud Østergaard):',\n",
       " 'Trafikministeren (Knud Østergaard):',\n",
       " 'Finansministeren (Henning Dyremose):',\n",
       " 'Fiskeriministeren (Kent Kirk):',\n",
       " 'Justitsministeren (Engell):',\n",
       " 'Til miljøministeren (111 I 0 90) af:',\n",
       " 'Miljøministeren (Lone Dybkjær):',\n",
       " 'Justitsministeren (Engell):',\n",
       " 'Arbejdsministeren (Kirkegaard):',\n",
       " 'Miljøministeren (Lone Dybkjær):',\n",
       " '0konomiministeren (Niels Helveg Petersen):',\n",
       " 'Af kommunikationsministeren (Torben Rechendorff).',\n",
       " 'Kommunikationsministeren (Torben Rechendorff) :',\n",
       " 'Trafikministeren (Knud Østergaard):',\n",
       " 'Trafikministeren (Knud Østergaard):',\n",
       " 'Af kirkeministeren (Torben Rechendorff).',\n",
       " 'Af indenrigsministeren (Thor Pedersen).',\n",
       " 'Af indenrigsministeren (Thor Pedersen).',\n",
       " 'Kulturministeren (Ole Vig Jensen):',\n",
       " 'Kulturministeren (Ole Vig Jensen):',\n",
       " 'Kulturministeren (Ole Vig Jensen):',\n",
       " 'Kulturministeren (Ole Vig Jensen):',\n",
       " 'Af indenrigsministeren (Thor Pedersen). (Fremsat 11/10 90).',\n",
       " 'Indenrigsministeren (Thor Pedersen):',\n",
       " 'Indenrigsministeren (Thor Pedersen):',\n",
       " 'Indenrigsministeren (Thor Pedersen):',\n",
       " 'Af indenrigsministeren (Thor Pedersen). (Fremsat 11/10 90).',\n",
       " 'Indenrigsministeren (Thor Pedersen):',\n",
       " 'Indenrigsministeren (Thor Pedersen):',\n",
       " 'Af finansministeren (Henning Dyremose).',\n",
       " 'Af kommunikationsministeren (Torben Rechendorff).',\n",
       " 'Af kommunikationsministeren (Torben Rechendorff).',\n",
       " 'Af finansministeren (Henning Dyremose). (Fremsat 3/10 90. Første behandling 11/10',\n",
       " 'Af kommunikationsministeren (Torben Rechendorff).',\n",
       " 'Forsvarsministeren (Enggaard):',\n",
       " 'Forsvarsministeren (Enggaard):',\n",
       " 'Arbejdsministeren (Kirkegaard):',\n",
       " 'Arbejdsministeren (Kirkegaard):',\n",
       " 'Arbejdsministeren (Kirkegaard):',\n",
       " 'Arbejdsministeren (Kirkegaard):',\n",
       " 'Arbejdsministeren (Kirkegaard):',\n",
       " 'Arbejdsministeren (Kirkegaard):',\n",
       " 'Arbejdsministeren (Kirkegaard):',\n",
       " 'Arbejdsministeren (Kirkegaard):',\n",
       " 'Af boligministeren (Agnete Laustsen).',\n",
       " 'Af socialministeren (Aase Olesen).',\n",
       " 'Boligministeren (Agnete Laustsen) har meddelt mig, at hun ønsker skriftligt at fremsætte:',\n",
       " 'Industriministeren (Anne Birgitte Lundholt) har meddelt mig, at hun ønsker skriftligt at fremsætte:',\n",
       " 'Indenrigsministeren (Thor Pedersen) har meddelt mig, at han ønsker skriftligt at fremsætte:',\n",
       " 'Socialministeren (Aase Olesen) har meddelt mig, at hun ønsker skriftligt at fremsætte:',\n",
       " 'Undervisnings- og forskningsministeren (Bertel Haarder):',\n",
       " 'Boligministeren (Agnete Laustsen):',\n",
       " 'Industriministeren (Anne Birgitte Lundholt):',\n",
       " 'Indenrigsministeren (Thor Pedersen):',\n",
       " 'Socialministeren (Aase Olesen):',\n",
       " 'Statsministeren (Poul Schlüter):',\n",
       " 'Statsministeren (Poul Schlüter):',\n",
       " 'Statsministeren (Poul Schlüter):',\n",
       " 'Statsministeren (Poul Schlüter):',\n",
       " 'Arbejdsministeren (Kirkegaard):',\n",
       " 'Arbejdsministeren (Kirkegaard):',\n",
       " 'Arbejdsministeren (Kirkegaard):',\n",
       " 'Arbejdsministeren (Kirkegaard):',\n",
       " 'Arbejdsministeren (Kirkegaard):',\n",
       " 'Arbejdsministeren (Kirkegaard):',\n",
       " 'Arbejdsministeren (Kirkegaard):',\n",
       " 'Arbejdsministeren (K-irkegaard):',\n",
       " 'Arbejdsministeren (Kirkegaard):',\n",
       " 'Arbejdsministeren (Kirkegaard):',\n",
       " 'Arbejdsministeren (Kirkegaard):',\n",
       " 'Arbejdsministeren (Kirkegaard):',\n",
       " 'Arbejdsministeren (Kirkegaard):',\n",
       " 'Justitsministeren (Engell) :',\n",
       " 'Justitsministeren (Engell):',\n",
       " 'Justitsministeren (Engell):',\n",
       " 'Justitsministeren (Engell):',\n",
       " 'Justitsministeren (Engell):',\n",
       " 'Udenrigsministeren (Ellemann-Jensen):',\n",
       " 'Socialministeren (Aase Olesen):',\n",
       " 'Energiministeren (Bilgrav-Nielsen):',\n",
       " 'Energiministeren (Bilgrav-Nielsen):',\n",
       " 'Indenrigsministeren (Thor Pedersen):',\n",
       " 'Kommunikationsministeren (Torben Rechendorff):',\n",
       " 'Kommunikationsministeren (Torben Rechendorff):',\n",
       " 'Kommunikationsministeren (Torben Rechendorff):',\n",
       " 'Kommunikationsministeren (Torben Rechendorff):',\n",
       " 'Indenrigsministeren (Thor Pedersen):',\n",
       " 'Fiskeriministeren (Kent Kirk):',\n",
       " 'Forsvarsministeren (Enggaard):',\n",
       " 'Socialministeren (Aase Olesen):',\n",
       " 'Sundhedsministeren (Ester Larsen):',\n",
       " 'Industriministeren (Anne Birgitte Lundholt):',\n",
       " 'Industriministeren (Anne Birgitte Lundholt):',\n",
       " 'Industriministeren (Anne Birgitte Lundholt):',\n",
       " 'Af boligministeren (Agnete Laustsen). (Fremsat 31/10 90).',\n",
       " 'Boligministeren (Agnete Laustsen):',\n",
       " 'Af socialministeren (Aase Olesen). (Fremsat 31/10 90).',\n",
       " 'Socialministeren (Aase Olesen):',\n",
       " 'Socialministeren (Aase Olesen):',\n",
       " 'Socialministeren (Aase Olesen):',\n",
       " 'Af finansministeren (Henning Dyremose).',\n",
       " 'Af kommunikationsministeren (Torben Rechendorff).',\n",
       " 'Af kommunikationsministeren (Torben Rechendorff).',\n",
       " 'Af skatteministeren (Fogh Rasmussen).',\n",
       " 'Af landbrugsministeren (Tørnæs).',\n",
       " 'Finansministeren (Henning Dyremose):',\n",
       " 'Af kommunikationsministeren (Torben Rechendorff).',\n",
       " 'Af kommunikationsministeren (Torben Rechendorff).',\n",
       " 'Skatteministeren (Fogh Rasmussen):',\n",
       " 'Skatteministeren (Fogh Rasmussen):',\n",
       " 'Energiministeren (Bilgrav-Nielsen):',\n",
       " 'Skatteministeren (Fogh Rasmussen):',\n",
       " 'Skatteministeren (Fogh Rasmussen):',\n",
       " 'Skatteministeren (Fogh Rasmussen):',\n",
       " 'Skatteministeren (Fogh Rasmussen):',\n",
       " 'Af landbrugsministeren (Tørnæs). (Fremsat 31/10 90).',\n",
       " 'Landbrugsministeren (Tørnæs):',\n",
       " 'Af socialministeren (Aase Olesen).',\n",
       " 'Af socialministeren (Aase Olesen).',\n",
       " 'Af kommunikationsministeren (Torben Rechendorff).',\n",
       " 'Af socialministeren (Aase Olesen). (Fremsat 3/10 90. Første behandling 10/10',\n",
       " 'Af socialministeren (Aase Olesen). (Fremsat 10/10 90. Første behandling 24/10',\n",
       " 'Af kommunikationsministeren (Torben Rechendorff).',\n",
       " 'Industriministeren (Anne Birgitte Lundholt):',\n",
       " 'Industriministeren (Anne Birgitte Lundholt):',\n",
       " 'Industriministeren (Anne Birgitte Lundholt):',\n",
       " 'Justitsministeren (Engell):',\n",
       " 'Justitsministeren (Engell):',\n",
       " 'Justitsministeren (Engell):',\n",
       " 'Forslag til finanslov for finansåret 1991. Af finansministeren (Henning Dyremose).',\n",
       " 'Af boligministeren (Agnete Laustsen).',\n",
       " 'Af industriministeren (Anne Birgitte Lundholt).',\n",
       " 'Trafikministeren (Knud Østergaard) har meddelt mig, at han ønsker skriftligt at fremsætte:',\n",
       " 'Industriministeren (Anne Birgitte Lundholt):',\n",
       " 'Industriministeren (Anne Birgitte Lundholt):',\n",
       " 'Industriministeren (Anne Birgitte Lundholt):',\n",
       " 'Trafikministeren (Knud Østergaard):',\n",
       " 'Statsministeren (Poul Schlüter):',\n",
       " 'Statsministeren (Poul Schlüter):',\n",
       " 'Statsministeren (Poul Sehlüter):',\n",
       " 'Statsministeren (Poul Sehlüter):',\n",
       " 'Statsministeren (Poul Sehlüter):',\n",
       " 'Økonomiministeren (Niels Helveg Petersen):',\n",
       " 'Økonomiministeren (Niels Helveg Petersen):',\n",
       " 'Økonomiministeren (Niels Helveg Petersen):',\n",
       " 'Økonomiministeren (Niels Helveg Petersen):',\n",
       " 'Økonomiministeren (Niels Helveg Petersen):',\n",
       " 'Miljøministeren (Lone Dybkjær):',\n",
       " 'Miljøministeren (Lone Dybkjær):',\n",
       " 'Miljøministeren (Lone Dybkjær):',\n",
       " 'Arbejdsministeren (Kirkegaard):',\n",
       " 'Arbejdsministeren (Kirkegaard):',\n",
       " 'Indenrigsministeren (Thor Pedersen):',\n",
       " 'Økonomiministeren (Niels Helveg Petersen):',\n",
       " 'Kulturministeren (Ole Vig Jensen):',\n",
       " 'Miljøministeren (Lone Dybkjær):',\n",
       " 'Justitsministeren (Engell):',\n",
       " 'Udenrigsministeren (Ellemann-Jensen):',\n",
       " 'Justitsministeren (Engell):',\n",
       " 'Finansministeren (Henning Dyremose):',\n",
       " 'Kulturministeren (Ole Vig Jensen):',\n",
       " 'Socialministeren (Aase Olesen):',\n",
       " 'Miljøministeren (Lone Dybkjær):',\n",
       " 'Sundhedsministeren (Ester Larsen):',\n",
       " 'Miljøministeren (Lone Dybkjær):',\n",
       " 'Trafikministeren (Knud Østergaard):',\n",
       " 'Socialministeren (Aase Olesen):',\n",
       " 'Undervisnings- og forskningsministeren (Bertel Haarder):',\n",
       " 'Undervisnings- og forskningsministeren (Bertel Haarder):',\n",
       " 'Boligministeren (Agnete Laustsen):',\n",
       " 'Indenrigsministeren (Thor Pedersen):',\n",
       " 'Undervisnings- og forskningsministeren (Bertel Haarder):',\n",
       " 'Socialministeren (Aase Olesen):',\n",
       " 'Indenrigsministeren (Thor Pedersen):',\n",
       " 'Af finansministeren (Henning Dyremose). (Fremsat 2/10 90. Første behandling 11/10',\n",
       " 'Af boligministeren (Agnete Laustsen). (Fremsat 7/11 90).',\n",
       " 'Boligministeren (Agnete Laustsen):',\n",
       " 'Af industriministeren (Anne Birgitte Lundholt).',\n",
       " 'Industriministeren (Anne Birgitte Lundholt):',\n",
       " 'Skatteministeren (Fogh Rasmussen):',\n",
       " 'Af kommunikationsministeren (Torben Rechendorff).',\n",
       " 'Af socialministeren (Aase Olesen).',\n",
       " 'Af socialministeren (Aase Olesen).',\n",
       " 'Af indenrigsministeren (Thor Pedersen).',\n",
       " 'Af socialministeren (Aase Olesen).',\n",
       " 'Af kommunikationsministeren (Torben Rechendorff).',\n",
       " 'Udenrigsministeren (Ellemann-Jensen):',\n",
       " 'Udenrigsministeren (Ellemann-Jensen):',\n",
       " 'Udenrigsministeren (Ellemann-Jensen):',\n",
       " 'Statsministeren (Poul Schlüter):',\n",
       " 'Skatteministeren (Fogh Rasmussen) har meddelt mig, at han ønsker skriftligt at fremsætte:',\n",
       " 'Finansministeren (Henning Dyremose) har meddelt mig, at han ønsker skriftligt at fremsætte:',\n",
       " 'Industriministeren (Anne Birgitte Lundholt) har meddelt mig, at hun ønsker skriftligt at fremsætte:',\n",
       " 'Arbejdsministeren (Kirkegaard) har meddelt mig, at han ønsker skriftligt at fremsætte:',\n",
       " 'Sundhedsministeren (Ester Larsen) har meddelt mig, at hun ønsker skriftligt at fremsætte:',\n",
       " 'Socialministeren (Aase Olesen) har meddelt mig, at hun ønsker skriftligt at fremsætte:',\n",
       " 'Skatteministeren (Fogh Rasmussen):',\n",
       " 'Undervisnings- og forskningsministeren (Bertel Haarder):',\n",
       " 'Undervisnings- og forskningsministeren (Bertel Haarder):',\n",
       " 'Undervisnings- og forskningsministeren (Bertel Haarder):',\n",
       " 'Finansministeren (Henning Dyremose):',\n",
       " 'Industriministeren (Anne Birgitte Lundholt):',\n",
       " 'Arbejdsministeren (Kirkegaard):',\n",
       " 'Arbejdsministeren (Kirkegaard):',\n",
       " 'Arbejdsministeren (Kirkegaard):',\n",
       " 'Arbejdsministeren (Kirkegaard):',\n",
       " 'Sundhedsministeren (Ester Larsen):',\n",
       " 'Socialministeren (Aase Olesen):',\n",
       " 'Socialministeren (Aase Olesen):',\n",
       " 'Udenrigsministeren (Ellemann-Jensen):',\n",
       " 'Undervisnings- og forskningsministeren (Bertel Haarder):',\n",
       " 'Undervisnings- og forskningsministeren (Bertel Haarder):',\n",
       " 'Undervisnings- og forskningsministeren (Bertel Haarder):',\n",
       " 'Af indenrigsministeren (Thor Pedersen). (Fremsat 7/11 90).',\n",
       " 'Indenrigsministeren (Thor Pedersen):',\n",
       " 'Af socialministeren (Aase Olesen). (Fremsat 7/11 90).',\n",
       " 'Socialministeren (Aase Olesen):',\n",
       " 'Socialministeren (Aase Olesen):',\n",
       " 'Socialministeren (Aase Olesen):',\n",
       " 'Socialministeren (Aase Olesen):',\n",
       " 'Socialministeren (Aase Olesen):',\n",
       " 'Socialministeren (Aase Olesen):',\n",
       " 'Af justitsministeren (Engell).',\n",
       " 'Af trafikministeren (Knud Østergaard).',\n",
       " 'Fiskeriministeren (Kent Kirk):',\n",
       " 'Af justitsministeren (Engell).',\n",
       " 'Justitsministeren (Engell):',\n",
       " 'Trafikministeren (Knud Østergaard):',\n",
       " 'Socialministeren (Aase Olesen):',\n",
       " 'Socialministeren (Aase Olesen):',\n",
       " 'Socialministeren (Aase Olesen):',\n",
       " 'Sundhedsministeren (Ester Larsen):',\n",
       " 'Sundhedsministeren (Ester Larsen):',\n",
       " 'Kulturministeren (Ole Vig Jensen):',\n",
       " 'Kulturministeren (Ole Vig Jensen):',\n",
       " 'Kulturministeren (Ole Vig Jensen):',\n",
       " 'Af industriministeren (Anne Birgitte Lundholt).',\n",
       " 'Af industriministeren (Anne Birgitte Lundholt).',\n",
       " 'Af industriministeren (Anne Birgitte Lundholt).',\n",
       " 'Miljøministeren (Lone Dybkjær):',\n",
       " 'Miljøministeren (Lone Dybkjær):',\n",
       " 'Miljøministeren (Lone Dybkjær):',\n",
       " 'Miljøministeren (Lone Dybkjær):',\n",
       " 'Skatteministeren (Fogh Rasmussen):',\n",
       " 'Skatteministeren (Fogh Rasmussen):',\n",
       " 'Skatteministeren (Fogh Rasmussen):',\n",
       " 'Finansministeren (Henning Dyremose):',\n",
       " 'Finansministeren (Henning Dyremose):',\n",
       " 'Finansministeren (Henning Dyremose):',\n",
       " 'Finansministeren (Henning Dyremose):',\n",
       " 'Økonomiministeren (Niels Helveg Petersen):',\n",
       " 'Økonomiministeren (Niels Helveg Petersen):',\n",
       " 'Økonomiministeren (Niels Helveg Petersen):',\n",
       " 'Økonomiministeren (Niels Helveg Petersen):',\n",
       " 'Økonomiministeren (Niels Helveg Petersen):',\n",
       " 'Forsvarsministeren (Enggaard):',\n",
       " 'Forsvarsministeren (Enggaard):',\n",
       " 'Forsvarsministeren (Enggaard):',\n",
       " 'Forsvarsministeren (Enggaard):',\n",
       " 'Forsvarsministeren (Enggaard):',\n",
       " 'Forsvarsministeren (Enggaard):',\n",
       " 'Forsvarsministeren (Enggaard):',\n",
       " 'Forsvarsministeren (Enggaard):',\n",
       " 'Forsvarsministeren (Enggaard):',\n",
       " 'Forsvarsministeren (Enggaard):',\n",
       " 'Forsvarsministeren (Enggaard):',\n",
       " 'Udenrigsministeren (Ellemann-Jensen):',\n",
       " 'Finansministeren (Henning Dyremose):',\n",
       " 'Finansministeren (Henning Dyremose):',\n",
       " 'Finansministeriet (tipsmidlerne)',\n",
       " 'Sundhedsministeren (Ester Larsen):',\n",
       " 'Statsministeren (Poul Sehlüter):',\n",
       " 'Statsministeren (Poul Schlüter):',\n",
       " 'Statsministeren (Poul Schlüter):',\n",
       " 'Finansministeren (Henning Dyremose):',\n",
       " 'Socialministeren (Aase Olesen):',\n",
       " 'Arbejdsministeren (Kirkegaard):',\n",
       " 'Energiministeren (Bilgrav-Nielsen):',\n",
       " 'Energiministeren (Bilgrav-Nielsen):',\n",
       " 'Energiministeren (Bilgrav-Nielsen):',\n",
       " 'Energiministeren (Bilgrav-Nielsen):',\n",
       " 'Energiministeren (Bilgrav-Nielsen):',\n",
       " 'Energiministeren (Bilgrav-Nielsen):',\n",
       " 'Energiministeren (Bilgrav-Nielsen):',\n",
       " 'Energiministeren (Bilgrav-Nielsen):',\n",
       " 'Energiministeren (Bilgrav-Nielsen):',\n",
       " 'Fiskeriministeren (Kent Kirk):',\n",
       " 'Skatteministeren (Fogh Rasmussen):',\n",
       " 'Til justitsministeren (5111 90) af:',\n",
       " 'Justitsministeren (Engell):',\n",
       " 'Til indenrigsministeren (5111 90) af:',\n",
       " 'Indenrigsministeren (Thor Pedersen):',\n",
       " 'Kulturministeren (Ole Vig Jensen):',\n",
       " 'Industriministeren (Anne Birgitte Lundholt):',\n",
       " 'Indenrigsministeren (Thor Pedersen):',\n",
       " 'Sundhedsministeren (Ester Larsen):',\n",
       " 'Udenrigsministeren (Ellemann-Jensen):',\n",
       " 'Af industriministeren (Anne Birgitte Lundholt). *',\n",
       " 'Industriministeren (Anne Birgitte Lundholt):',\n",
       " 'Industriministeren (Anne Birgitte Lundholt):',\n",
       " 'Af industriministeren (Anne Birgitte Lundholt).',\n",
       " 'Industriministeren (Anne Birgitte Lundholt):',\n",
       " 'Ministeren for nordisk samarbejde (Thor Pedersen) :',\n",
       " 'Af justitsministeren (Engell).',\n",
       " 'Af finansministeren (Henning Dyremose).',\n",
       " 'Af trafikministeren (Knud Østergaard).',\n",
       " 'Af skatteministeren (Fogh Rasmussen).',\n",
       " 'Af skatteministeren (Fogh Rasmussen).',\n",
       " 'Af skatteministeren (Fogh Rasmussen).',\n",
       " 'Af skatteministeren (Fogh Rasmussen).',\n",
       " 'Af skatteministeren (Fogh Rasmussen).',\n",
       " 'Af skatteministeren (Fogh Rasmussen).',\n",
       " 'Af finansministeren (Henning Dyremose).',\n",
       " 'Af industriministeren (Anne Birgitte Lundholt).',\n",
       " 'Af arbejdsministeren (Kirkegaard).',\n",
       " 'Af arbejdsministeren (Kirkegaard).',\n",
       " 'Af arbejdsministeren (Kirkegaard).',\n",
       " 'Af arbejdsministeren (Kirkegaard).',\n",
       " 'Af sundhedsministeren (Ester Larsen).',\n",
       " 'Af socialministeren (Aase Olesen).',\n",
       " 'Af socialministeren (Aase Olesen).',\n",
       " 'Af boligministeren (Agnete Laustsén).',\n",
       " 'Undervisnings- og forskningsministeren (Bertel Haarder):',\n",
       " 'Undervisnings- og forskningsministeren (Bertel Haarder):',\n",
       " 'Af justitsministeren (Engell).',\n",
       " 'Af trafikministeren (Knud Østergaard). (Fremsat 14/11 90. Første behandling 20/11',\n",
       " 'Statsministeren (Poul Schlüter):',\n",
       " 'Finansministeren (Henning Dyremose) har meddelt mig, at han ønsker skriftligt at fremsætte :',\n",
       " 'Finansministeren (Henning Dyremose):',\n",
       " 'Af finansministeren (Henning Dyremose).',\n",
       " 'Af finansministeren (Henning Dyremose). (Fremsat 27/11 90).',\n",
       " 'Finansministeren (Henning Dyremose):',\n",
       " 'Af finansministeren (Henning Dyremose).',\n",
       " 'Af finansministeren (Henning Dyremose).',\n",
       " 'Af finansministeren (Henning Dyremose).',\n",
       " 'Af finansministeren (Henning Dyremose).',\n",
       " 'Af trafikministeren (Knud Østergaard).',\n",
       " 'Af finansministeren (Henning Dyremose).',\n",
       " 'Finansministeren (Henning Dyremose):',\n",
       " 'Fiskeriministeren (Kent Kirk):',\n",
       " 'Udenrigsministeren (Ellemann-Jensen):',\n",
       " 'Fiskeriministeren (Kent Kirk):',\n",
       " 'Indenrigsministeren (Thor Pedersen):',\n",
       " 'Boligministeren (Agnete Laustsen):',\n",
       " 'Justitsministeren (Engell):',\n",
       " 'Undervisnings- og forskningsministeren (Bertel Haarder):',\n",
       " 'Justitsministeren (Engell):',\n",
       " 'Kommunikationsministeren (Torben Rechendorff):',\n",
       " 'Sundhedsministeren (Ester Larsen):',\n",
       " 'Trafikministeren (Knud Østergaard):',\n",
       " 'Indenrigsministeren (Thor Pedersen):',\n",
       " 'Boligministeren (Agnete Laustsen):',\n",
       " 'Energiministeren (Bilgrav-Nielsen):',\n",
       " 'Boligministeren (Agnete Laustsen):',\n",
       " 'Undervisnings- og forskningsministeren (Bertel Haarder):',\n",
       " 'Arbejdsministeren (Kirkegaard):',\n",
       " 'Indenrigsministeren (Thor Pedersen):',\n",
       " 'Kommunikationsministeren (Torben Rechendorff):',\n",
       " 'Indenrigsministeren (Thor Pedersen):',\n",
       " 'Indenrigsministeren (Thor Pedersen):',\n",
       " 'Justitsministeren (Engell):',\n",
       " 'Socialministeren (Aase Olesen):',\n",
       " 'Miljøministeren (Lone Dybkjær):',\n",
       " 'Undervisnings- og forskningsministeren (Bertel Haarder):',\n",
       " 'Industriministeren (Anne Birgitte Lundholt):',\n",
       " 'Industriministeren (Anne Birgitte Lundholt):',\n",
       " 'Socialministeren (Aase Olesen):',\n",
       " 'Kommunikationsministeren (Torben Rechendorff):',\n",
       " 'Justitsministeren (Engell):',\n",
       " 'Undervisnings- og forskningsministeren (Bertel Haarder):',\n",
       " 'Undervisnings- og forskningsministeren (Bertel Haarder):',\n",
       " 'Undervisnings- og forskningsministeren (Bertel Haarder):',\n",
       " 'Justitsministeren (Engell):',\n",
       " 'Forsvarsministeren (Enggaard):',\n",
       " 'Statsministeren (Poul Schlüter):',\n",
       " 'Socialministeren (Aase Olesen):',\n",
       " 'Socialministeren (Aase Olesen):',\n",
       " 'Finansministeren (Henning Dyremose):']"
      ]
     },
     "execution_count": 145,
     "metadata": {},
     "output_type": "execute_result"
    }
   ],
   "source": [
    "ministre_FT[0:1000]"
   ]
  },
  {
   "cell_type": "code",
   "execution_count": 142,
   "id": "930c170f",
   "metadata": {},
   "outputs": [],
   "source": [
    "ministre_FT = []\n",
    "for sentence in FT_data:\n",
    "    if len(sentence) < 100:\n",
    "        if len(re.findall(\"\\w*minister[\\w ]*\\([\\w-]*\\)\", sentence.lower())) > 0:\n",
    "            ministre_FT.append(sentence)"
   ]
  },
  {
   "cell_type": "code",
   "execution_count": 143,
   "id": "6b99ec25",
   "metadata": {},
   "outputs": [
    {
     "data": {
      "text/plain": [
       "['Justitsministeren (Engell) har meddelt mig, at han ønsker skriftligt at fremsætte:',\n",
       " 'Justitsministeren (Engell):',\n",
       " 'Landbrugsministeren (Tørnæs) har meddelt mig, at han ønsker skriftligt at fremætte:',\n",
       " 'Landbrugsministeren (Tørnæs):',\n",
       " 'Af justitsministeren (Engell).',\n",
       " 'Udenrigsministeren (Ellemann-Jensen):',\n",
       " 'Udenrigsministeren (Ellemann-Jensen):',\n",
       " 'Udenrigsministeren (Ellemann-Jensen):',\n",
       " 'Udenrigsministeren (Ellemann-Jensen):',\n",
       " 'Af justitsministeren (Engell).',\n",
       " 'Justitsministeren (Engell):',\n",
       " 'Forslag til lov om frø, kartofler og planter. Af landbrugsministeren (Tørnæs).',\n",
       " 'Justitsministeren (Engell) har meddelt mig, at han ønsker skriftligt af fremsætte:',\n",
       " 'Justitsministeren (Engell):',\n",
       " 'Justitsministeren (Engell):',\n",
       " 'Justitsministeren (Engell):',\n",
       " 'Justitsministeren (Engell):',\n",
       " 'Justitsministeren (Engell):',\n",
       " 'Justitsministeren (Engell):',\n",
       " 'Justitsministeren (Engell):',\n",
       " 'Justitsministeren (Engell):',\n",
       " 'Justitsministeren (Engell):',\n",
       " 'Justitsministeren (Engell):',\n",
       " 'Justitsministeren (Engell):',\n",
       " 'Justitsministeren (Engell):',\n",
       " 'Justitsministeren (Engell):',\n",
       " 'Justitsministeren (Engell):',\n",
       " 'Justitsministeren (Engell):',\n",
       " 'Justitsministeren (Engell):',\n",
       " 'Justitsministeren (Engell):',\n",
       " 'Justitsministeren (Engell):',\n",
       " 'Justitsministeren (Engell):',\n",
       " 'Energiministeren (Bilgrav-Nielsen):',\n",
       " 'Justitsministeren (Engell):',\n",
       " 'Justitsministeren (Engell):',\n",
       " 'Udenrigsministeren (Ellemann-Jensen):',\n",
       " 'Justitsministeren (Engell):',\n",
       " 'Energiministeren (Bilgrav-Nielsen):',\n",
       " 'Justitsministeren (Engell):',\n",
       " 'Udenrigsministeren (Ellemann-Jensen):',\n",
       " 'Udenrigsministeren (Ellemann-Jensen):',\n",
       " 'Justitsministeren (Engell) :',\n",
       " 'Af landbrugsministeren (Tørnæs). (Fremsat 4/10 90).',\n",
       " 'Landbrugsministeren (Tørnæs):',\n",
       " 'Udenrigsministeren (Ellemann-Jensen):',\n",
       " 'Udenrigsministeren (Ellemann-Jensen):',\n",
       " 'Udenrigsministeren (Ellemann-Jensen):',\n",
       " 'Af justitsministeren (Engell).',\n",
       " 'Af justitsministeren (Engell).',\n",
       " 'Af justitsministeren (Engell).',\n",
       " 'Justitsministeren (Engell):',\n",
       " 'Justitsministeren (Engell):',\n",
       " 'Justitsministeren (Engell):',\n",
       " 'Justitsministeren (Engell):',\n",
       " 'Af justitsministeren (Engell).',\n",
       " 'Justitsministeren (Engell):',\n",
       " 'Landbrugsministeren (Tørnæs) har meddelt mig, at han ønsker skriftligt at fremsætte:',\n",
       " 'Landbrugsministeren (Tørnæs):',\n",
       " 'Justitsministeren (Engell):',\n",
       " 'Justitsministeren (Engell):',\n",
       " 'Justitsministeren (Engell):',\n",
       " 'Justitsministeren (Engell):',\n",
       " 'Justitsministeren (Engell):',\n",
       " 'Justitsministeren (Engell):',\n",
       " 'Arbejdsministeren (Kirkegaard):',\n",
       " 'Forsvarsministeren (Enggaard):',\n",
       " 'Forsvarsministeren (Enggaard):',\n",
       " 'Arbejdsministeren (Kirkegaard):',\n",
       " 'Arbejdsministeren (Kirkegaard):',\n",
       " 'Arbejdsministeren (Kirkegaard):',\n",
       " 'Arbejdsministeren (Kirkegaard):',\n",
       " 'Arbejdsministeren (Kirkegaard):',\n",
       " 'Arbejdsministeren (Kirkegaard):',\n",
       " 'Arbejdsministeren (Kirkegaard):',\n",
       " 'Arbejdsministeren (Kirkegaard):',\n",
       " 'Arbejdsministeren (Kirkegaard):',\n",
       " 'Arbejdsministeren (Kirkegaard):',\n",
       " 'Arbejdsministeren (Kirkegaard):',\n",
       " 'Arbejdsministeren (Kirkegaard):',\n",
       " 'Arbejdsministeren (Kirkegaard):',\n",
       " 'Arbejdsministeren (Kirkegaard):',\n",
       " 'Arbejdsministeren (Kirkegaard):',\n",
       " 'Arbejdsministeren (K-irkegaard):',\n",
       " 'Arbejdsministeren (Kirkegaard):',\n",
       " 'Arbejdsministeren (Kirkegaard):',\n",
       " 'Arbejdsministeren (Kirkegaard):',\n",
       " 'Arbejdsministeren (Kirkegaard):',\n",
       " 'Arbejdsministeren (Kirkegaard):',\n",
       " 'Justitsministeren (Engell) :',\n",
       " 'Justitsministeren (Engell):',\n",
       " 'Justitsministeren (Engell):',\n",
       " 'Justitsministeren (Engell):',\n",
       " 'Justitsministeren (Engell):',\n",
       " 'Udenrigsministeren (Ellemann-Jensen):',\n",
       " 'Energiministeren (Bilgrav-Nielsen):',\n",
       " 'Energiministeren (Bilgrav-Nielsen):',\n",
       " 'Forsvarsministeren (Enggaard):',\n",
       " 'Af landbrugsministeren (Tørnæs).',\n",
       " 'Energiministeren (Bilgrav-Nielsen):',\n",
       " 'Af landbrugsministeren (Tørnæs). (Fremsat 31/10 90).',\n",
       " 'Landbrugsministeren (Tørnæs):',\n",
       " 'Justitsministeren (Engell):',\n",
       " 'Justitsministeren (Engell):',\n",
       " 'Justitsministeren (Engell):',\n",
       " 'Arbejdsministeren (Kirkegaard):',\n",
       " 'Arbejdsministeren (Kirkegaard):',\n",
       " 'Justitsministeren (Engell):',\n",
       " 'Udenrigsministeren (Ellemann-Jensen):',\n",
       " 'Justitsministeren (Engell):',\n",
       " 'Udenrigsministeren (Ellemann-Jensen):',\n",
       " 'Udenrigsministeren (Ellemann-Jensen):',\n",
       " 'Udenrigsministeren (Ellemann-Jensen):',\n",
       " 'Arbejdsministeren (Kirkegaard) har meddelt mig, at han ønsker skriftligt at fremsætte:',\n",
       " 'Arbejdsministeren (Kirkegaard):',\n",
       " 'Arbejdsministeren (Kirkegaard):',\n",
       " 'Arbejdsministeren (Kirkegaard):',\n",
       " 'Arbejdsministeren (Kirkegaard):',\n",
       " 'Udenrigsministeren (Ellemann-Jensen):',\n",
       " 'Af justitsministeren (Engell).',\n",
       " 'Af justitsministeren (Engell).',\n",
       " 'Justitsministeren (Engell):',\n",
       " 'Forsvarsministeren (Enggaard):',\n",
       " 'Forsvarsministeren (Enggaard):',\n",
       " 'Forsvarsministeren (Enggaard):',\n",
       " 'Forsvarsministeren (Enggaard):',\n",
       " 'Forsvarsministeren (Enggaard):',\n",
       " 'Forsvarsministeren (Enggaard):',\n",
       " 'Forsvarsministeren (Enggaard):',\n",
       " 'Forsvarsministeren (Enggaard):',\n",
       " 'Forsvarsministeren (Enggaard):',\n",
       " 'Forsvarsministeren (Enggaard):',\n",
       " 'Forsvarsministeren (Enggaard):',\n",
       " 'Udenrigsministeren (Ellemann-Jensen):',\n",
       " 'Finansministeriet (tipsmidlerne)',\n",
       " 'Arbejdsministeren (Kirkegaard):',\n",
       " 'Energiministeren (Bilgrav-Nielsen):',\n",
       " 'Energiministeren (Bilgrav-Nielsen):',\n",
       " 'Energiministeren (Bilgrav-Nielsen):',\n",
       " 'Energiministeren (Bilgrav-Nielsen):',\n",
       " 'Energiministeren (Bilgrav-Nielsen):',\n",
       " 'Energiministeren (Bilgrav-Nielsen):',\n",
       " 'Energiministeren (Bilgrav-Nielsen):',\n",
       " 'Energiministeren (Bilgrav-Nielsen):',\n",
       " 'Energiministeren (Bilgrav-Nielsen):',\n",
       " 'Justitsministeren (Engell):',\n",
       " 'Udenrigsministeren (Ellemann-Jensen):',\n",
       " 'Af justitsministeren (Engell).',\n",
       " 'Af arbejdsministeren (Kirkegaard).',\n",
       " 'Af arbejdsministeren (Kirkegaard).',\n",
       " 'Af arbejdsministeren (Kirkegaard).',\n",
       " 'Af arbejdsministeren (Kirkegaard).',\n",
       " 'Af justitsministeren (Engell).',\n",
       " 'Udenrigsministeren (Ellemann-Jensen):',\n",
       " 'Justitsministeren (Engell):',\n",
       " 'Justitsministeren (Engell):',\n",
       " 'Energiministeren (Bilgrav-Nielsen):',\n",
       " 'Arbejdsministeren (Kirkegaard):',\n",
       " 'Justitsministeren (Engell):',\n",
       " 'Justitsministeren (Engell):',\n",
       " 'Justitsministeren (Engell):',\n",
       " 'Forsvarsministeren (Enggaard):']"
      ]
     },
     "execution_count": 143,
     "metadata": {},
     "output_type": "execute_result"
    }
   ],
   "source": [
    "ministre_FT"
   ]
  },
  {
   "cell_type": "markdown",
   "id": "2da87a30",
   "metadata": {},
   "source": [
    "Det ovenstående genkender meget godt når der er tale om en minister."
   ]
  },
  {
   "cell_type": "code",
   "execution_count": 119,
   "id": "db91a955",
   "metadata": {},
   "outputs": [
    {
     "data": {
      "text/plain": [
       "1"
      ]
     },
     "execution_count": 119,
     "metadata": {},
     "output_type": "execute_result"
    }
   ],
   "source": [
    "p = \"Energiministeren (Bilgrav-Nielsen)\"\n",
    "len(re.findall(\"\\w*minister[\\w ]*\\(([\\w-]*|[\\w ]*)\\)\", p.lower()))"
   ]
  },
  {
   "cell_type": "markdown",
   "id": "086c7eca",
   "metadata": {},
   "source": [
    "### Genkendelse af Formanden:"
   ]
  },
  {
   "cell_type": "code",
   "execution_count": 80,
   "id": "7bb4874f",
   "metadata": {},
   "outputs": [
    {
     "data": {
      "text/plain": [
       "1024"
      ]
     },
     "execution_count": 80,
     "metadata": {},
     "output_type": "execute_result"
    }
   ],
   "source": [
    "count_formanden = 0\n",
    "for sentence in FT_data:\n",
    "    if sentence.lower() == \"formanden\" or sentence.lower() == \"formanden:\":\n",
    "        count_formanden += 1\n",
    "count_formanden"
   ]
  },
  {
   "cell_type": "markdown",
   "id": "5fda821c",
   "metadata": {},
   "source": [
    "### Genkendelse af næstformand"
   ]
  },
  {
   "cell_type": "code",
   "execution_count": 82,
   "id": "7756d43b",
   "metadata": {},
   "outputs": [
    {
     "data": {
      "text/plain": [
       "448"
      ]
     },
     "execution_count": 82,
     "metadata": {},
     "output_type": "execute_result"
    }
   ],
   "source": [
    "n = 0\n",
    "for sentence in FT_data:\n",
    "    if re.search(\"næstformand \\(\\w*\\):$\", sentence.lower()) or re.search(\"næstformand \\(\\w* \\w*\\):$\", sentence.lower()):\n",
    "        n += 1\n",
    "        \n",
    "n"
   ]
  },
  {
   "cell_type": "markdown",
   "id": "2bce76e3",
   "metadata": {},
   "source": [
    "Jeg undersøger nu om der kan være nogle datapunkter der er blevet misset:"
   ]
  },
  {
   "cell_type": "code",
   "execution_count": 81,
   "id": "b4d0ba18",
   "metadata": {},
   "outputs": [
    {
     "data": {
      "text/plain": [
       "['[Formanden]',\n",
       " '[Formanden]',\n",
       " '[Formanden]',\n",
       " '[Formanden]',\n",
       " '[Formanden]',\n",
       " '[Formanden]',\n",
       " '[Formanden]',\n",
       " '[Formanden]',\n",
       " '[Formanden]',\n",
       " '[Formanden]']"
      ]
     },
     "execution_count": 81,
     "metadata": {},
     "output_type": "execute_result"
    }
   ],
   "source": [
    "formanden_problem = []\n",
    "for sentence in FT_data:\n",
    "    if len(sentence) <= 15:\n",
    "        if len(re.findall(\"formanden\", sentence.lower())) > 0:\n",
    "            if sentence.lower() != \"formanden\" and sentence.lower() != \"formanden:\":\n",
    "                formanden_problem.append(sentence)\n",
    "formanden_problem[0:10]"
   ]
  },
  {
   "cell_type": "markdown",
   "id": "c02e5338",
   "metadata": {},
   "source": [
    "I det ovenstående er der tale om at der står i margenen af folketingstidende, at det er formanden der taler, det er derfor ikke problematisk at disse sorteres fra."
   ]
  },
  {
   "cell_type": "markdown",
   "id": "2c32ed3f",
   "metadata": {},
   "source": [
    "### Marginer sorteres fra:"
   ]
  },
  {
   "cell_type": "code",
   "execution_count": 82,
   "id": "70156a34",
   "metadata": {},
   "outputs": [
    {
     "name": "stdout",
     "output_type": "stream",
     "text": [
      "2517\n"
     ]
    },
    {
     "data": {
      "text/plain": [
       "['11 7/10 80: Statsministerens åbningstale 12',\n",
       " '15 7/10 80: Statsministerens åbningstale 16',\n",
       " '17 7/10 80: Statsministerens åbningstale IR',\n",
       " '19 7/10 80: Statsministerens åbningstale 20',\n",
       " '21 7/10 80: Statsministerens åbningstale. Skr. del 22',\n",
       " '23 7/10 80: Statsministerens åbningstale. Skr. del 24',\n",
       " '35 7/10 80: Statsministerens åbningstale. Skr. del 36',\n",
       " '39 7/10 80: Statsministerens åbningstale. Skr. del 40',\n",
       " '41 7/10 80: Statsministerens åbningstale. Skr. del 11 42',\n",
       " '43 7/10 80: Statsministerens åbningstale. Skr. del 44']"
      ]
     },
     "execution_count": 82,
     "metadata": {},
     "output_type": "execute_result"
    }
   ],
   "source": [
    "hele_margin = []\n",
    "for sentence in FT_data:\n",
    "    if len(re.findall(\"^[1-9]{1,5} [1-9]{1,2}/[1-9]{1,2}\", sentence.lower())) > 0: #tilføjet til at fange headers på sider\n",
    "        if len(sentence) < 200:\n",
    "            hele_margin.append(sentence)\n",
    "print(len(hele_margin))\n",
    "hele_margin[0:10]"
   ]
  },
  {
   "cell_type": "code",
   "execution_count": 96,
   "id": "ac614ef2",
   "metadata": {},
   "outputs": [
    {
     "name": "stdout",
     "output_type": "stream",
     "text": [
      "3842\n"
     ]
    },
    {
     "data": {
      "text/plain": [
       "['11 7/10 80: Statsministerens åbningstale 12',\n",
       " '15 7/10 80: Statsministerens åbningstale 16',\n",
       " '17 7/10 80: Statsministerens åbningstale IR',\n",
       " '19 7/10 80: Statsministerens åbningstale 20',\n",
       " '21 7/10 80: Statsministerens åbningstale. Skr. del 22',\n",
       " '23 7/10 80: Statsministerens åbningstale. Skr. del 24',\n",
       " '(3) 33 7/10 80: Statsministerens åbningstale. Skr. del 34',\n",
       " '35 7/10 80: Statsministerens åbningstale. Skr. del 36',\n",
       " '39 7/10 80: Statsministerens åbningstale. Skr. del 40',\n",
       " '41 7/10 80: Statsministerens åbningstale. Skr. del 11 42']"
      ]
     },
     "execution_count": 96,
     "metadata": {},
     "output_type": "execute_result"
    }
   ],
   "source": [
    "hele_margin_prøve = []\n",
    "for sentence in FT_data:\n",
    "    if len(sentence) <= 170: \n",
    "        if len(re.findall(\"[1-9]{1,5} [1-9]{1,2}/[1-9]{1,2}\", sentence.lower()))  > 0:\n",
    "            hele_margin_prøve.append(sentence)\n",
    "print(len(hele_margin_prøve))\n",
    "hele_margin_prøve[0:10]"
   ]
  },
  {
   "cell_type": "code",
   "execution_count": 98,
   "id": "45f50e61",
   "metadata": {},
   "outputs": [
    {
     "data": {
      "text/plain": [
       "['(587) 9377 3/4 81: l. beh. af f. t. beslutn. vedr. tilbagetrækning af aktstykkerne nr. 285, 286, 287 og 292 9378',\n",
       " '(785) 12545 2/6 81: 2. (sidste) beh. af f. t. beslutn. vedr. Skt. Lukas Stiftelsen og Diakonissestiftelsen 12546',\n",
       " '(787) 12577 2/6 81: 2. (sidste) beh. af f. t. beslutn. vedr. Skt. Lukas Stiftelsen og Diakonissestiftelsen 12578',\n",
       " 'I 8175 18/3 81: l. beh. af f. t. beslutn. om forenkling af erhvervslivets indbetalinger til det offentlige 8176',\n",
       " '(755) 12065 26/5 81: 2. (sidste) beh. af f. t. beslutn. vedr. latinprøve på 9. klassetrin i ungdomsskolen 12066',\n",
       " '8173 18/3 81: l. beh. af f. t. beslutn. om forenkling af erhvervslivets indbetalinger til det offentlige 8174',\n",
       " '8177 18/3 81: 1. beh. af f. t. beslutn. om forenkling af erhvervslivets indbetalinger til det offentlige 8178',\n",
       " '8181 18/3 81: l. beh. af f. t. beslutn. om forenkling af erhvervslivets indbetalinger til det offentlige 8182',\n",
       " '8183 18/3 81: l. beh. af f. t. beslutn. om forenkling af erhvervslivets indbetalinger til det offentlige 8184',\n",
       " '8179 18/3 81:1. beh. af f. t. beslütn. om forenkling af erhvervslivets indbetalinger til det offentlige 8180']"
      ]
     },
     "execution_count": 98,
     "metadata": {},
     "output_type": "execute_result"
    }
   ],
   "source": [
    "hele_margin_prøve.sort(key = len, reverse = True)\n",
    "hele_margin_prøve[0:10]"
   ]
  },
  {
   "cell_type": "markdown",
   "id": "dd573094",
   "metadata": {},
   "source": [
    "Det er klart at det ovenstående er marginerne på hver side. Hvis man dog følger tallet til venstre, som er det første spalte(af to) på hver side af folketingstidende, kan man dog se at det ikke er alle marginer der findes her."
   ]
  },
  {
   "cell_type": "code",
   "execution_count": 97,
   "id": "6855b075",
   "metadata": {},
   "outputs": [
    {
     "name": "stdout",
     "output_type": "stream",
     "text": [
      "9245\n"
     ]
    },
    {
     "data": {
      "text/plain": [
       "['7/10 80: Folketingets åbning',\n",
       " '7/10 80: Statsministerens åbningstale',\n",
       " '7/10 80: Statsministerens åbningstale',\n",
       " '7/10 80: Statsministerens åbningstale',\n",
       " '7/10 80: Statsministerens åbningstale',\n",
       " '11 7/10 80: Statsministerens åbningstale 12',\n",
       " '7/10 80: Statsministerens åbningstale',\n",
       " '15 7/10 80: Statsministerens åbningstale 16',\n",
       " '17 7/10 80: Statsministerens åbningstale IR',\n",
       " '19 7/10 80: Statsministerens åbningstale 20']"
      ]
     },
     "execution_count": 97,
     "metadata": {},
     "output_type": "execute_result"
    }
   ],
   "source": [
    "dato_alene = []\n",
    "for sentence in FT_data:\n",
    "    if len(re.findall(\"[1-9]{1,2}/[1-9]{1,2}\", sentence.lower())) > 0: #tilføjet til at fange headers på sider\n",
    "            if len(sentence) < 200:\n",
    "                dato_alene.append(sentence)\n",
    "print(len(dato_alene))\n",
    "dato_alene[0:10]"
   ]
  },
  {
   "cell_type": "markdown",
   "id": "496ac1b9",
   "metadata": {},
   "source": [
    "Her kan det også ses at der er tale om marginer. Disse skal derfor ligeledes sorteres fra. Problemet er her at spaltenumrene da er sorteret som individuelle datapunkter. Jeg prøver da også at sortere disse fra."
   ]
  },
  {
   "cell_type": "code",
   "execution_count": 84,
   "id": "c821e44c",
   "metadata": {},
   "outputs": [
    {
     "data": {
      "text/plain": [
       "['1', '2', '3', '4', '5', '6', '7', '8', '9', '13']"
      ]
     },
     "execution_count": 84,
     "metadata": {},
     "output_type": "execute_result"
    }
   ],
   "source": [
    "tal_genkendt = []\n",
    "for sentence in FT_data:\n",
    "    if re.fullmatch(\"[1-9]{1,10}\", sentence.lower()): #tilføjet til at fange headers på sider\n",
    "        tal_genkendt.append(sentence)\n",
    "tal_genkendt[0:10]"
   ]
  },
  {
   "cell_type": "markdown",
   "id": "641eeb8e",
   "metadata": {},
   "source": [
    "Hvis man kigger tallene igennem er det meget plausibelt at der her er tale om de manglende spaltenumre. Disse skal altså også sorteres fra."
   ]
  },
  {
   "cell_type": "markdown",
   "id": "4a15580e",
   "metadata": {},
   "source": [
    "I marginerne optræder altså også en navn på vedkommende der er den \"tallende\" når der skiftes spalte. Disse vil jeg også forsøge at sortere fra, da jeg ikke ønsker at en taler fra folketingets talerstols eget navn skal indgå i dennes tale. Heldigvis har disse navne også en relativt nem formatering, nemlig \\[navn\\]. Jeg søger altså efter datapunker der matcher denne formatering."
   ]
  },
  {
   "cell_type": "code",
   "execution_count": 85,
   "id": "2f17e1d8",
   "metadata": {},
   "outputs": [
    {
     "name": "stdout",
     "output_type": "stream",
     "text": [
      "6039\n"
     ]
    }
   ],
   "source": [
    "tallere_fra_forrige_side = []\n",
    "for sentence in FT_data:\n",
    "    if re.fullmatch(\"\\[.{1,100}\\]\", sentence.lower()):\n",
    "        tallere_fra_forrige_side.append(sentence)\n",
    "print(len(tallere_fra_forrige_side))"
   ]
  },
  {
   "cell_type": "code",
   "execution_count": 86,
   "id": "9e52a0b9",
   "metadata": {},
   "outputs": [
    {
     "data": {
      "text/plain": [
       "['[Statsministeren]',\n",
       " '[Statsministeren]',\n",
       " '[Statsministeren]',\n",
       " '[Statsministeren]',\n",
       " '[Statsministeren]',\n",
       " '[Statsministeren]',\n",
       " '[Statsministeren]',\n",
       " '[Statsministeren]',\n",
       " '[Statsministeren]',\n",
       " '[Statsministeren]']"
      ]
     },
     "execution_count": 86,
     "metadata": {},
     "output_type": "execute_result"
    }
   ],
   "source": [
    "tallere_fra_forrige_side[0:10]"
   ]
  },
  {
   "cell_type": "markdown",
   "id": "cdfe2366",
   "metadata": {},
   "source": [
    "### Tallere fra forrige side som ikke er blevet læst som seperate enheder:"
   ]
  },
  {
   "cell_type": "code",
   "execution_count": 87,
   "id": "316640af",
   "metadata": {},
   "outputs": [
    {
     "name": "stdout",
     "output_type": "stream",
     "text": [
      "7\n"
     ]
    }
   ],
   "source": [
    "tallere_fra_forrige_side_læst_forkert = []\n",
    "for sentence in FT_data:\n",
    "    if not re.fullmatch(\"\\[.{1,100}\\]\", sentence.lower()):\n",
    "        if not re.fullmatch(\"\\[.{1,100}\\].\", sentence.lower()):\n",
    "            if re.match(\"^\\[.{1,100}\\]\", sentence.lower()):\n",
    "                tallere_fra_forrige_side_læst_forkert.append(sentence)\n",
    "print(len(tallere_fra_forrige_side_læst_forkert))"
   ]
  },
  {
   "cell_type": "code",
   "execution_count": 88,
   "id": "fd4dafa6",
   "metadata": {},
   "outputs": [
    {
     "data": {
      "text/plain": [
       "['[Vedr. stedfortræder for Arentoft]. (Beslutningsforslag nr. B 42).',\n",
       " '[Energiministeren] x I om Ekofiskfeltet i 1965, som hr. Svend Heiselberg her gør det.',\n",
       " '[Ministeren for offentlige arbejder] indvandsreservoir, og ministeriet for offentlige arbejder har i overensstemmelse hermed den principielle opfattelse, at etablering af et saltvandsindtag derfor kun bør ske på grundlag af en særlig lov.',\n",
       " \"[Dyremose] '--- vil have ministerens forklaring på, hvorfor man selv i en sag som denne, der tilsyneladende er lille, giver folketinget en meget mangelfuld og derfor i en vis udstrækning fejlagtig information, og hvorfor man så, når man har begået en fejl i foråret, skjuler dette ved i bemærkningerne til det aktuelle lovforslag blot at anføre, at ministeriet for skatter og afgifter har oplyst, at der er behov for en ændring, uden at fortælle, at det i virkeligheden er, fordi man har begået en fejl i regeringen.\",\n",
       " '[Undervisningsministeren] køkkenassistentuddannelsen, nemlig mod arbejde i institutionskøkkener. Køkkenlederuddannelsen er ikke en EFG- eller lærlingeuddannelse; den er opbygget efter vekselprincip, og skoledelen gennemføres på husholdningsskolerne som led i deres sædvanlige virksomhed.',\n",
       " '[Finansministeren] .',\n",
       " '[Ministeren for skatter og afgifter] undersøgelsesarbejdet under et møde afholdt i skattedepartementet i november 1980. Denne undersøgelse vil blive fremmet mest muligt.']"
      ]
     },
     "execution_count": 88,
     "metadata": {},
     "output_type": "execute_result"
    }
   ],
   "source": [
    "tallere_fra_forrige_side_læst_forkert"
   ]
  },
  {
   "cell_type": "markdown",
   "id": "2e966c2f",
   "metadata": {},
   "source": [
    "Her findes de forskellige navne fra marginerne, som skal sorteres fra."
   ]
  },
  {
   "cell_type": "markdown",
   "id": "cfc3798b",
   "metadata": {},
   "source": [
    "## Sammensætning af det ovenstående"
   ]
  },
  {
   "cell_type": "markdown",
   "id": "56ce909e",
   "metadata": {},
   "source": [
    "I det følgende vil jeg sætte alt det ovenstående sammen, med det formål at udtrække folketingstaler, samt hvem der taler, og sortere marginer fra."
   ]
  },
  {
   "cell_type": "code",
   "execution_count": 79,
   "id": "80edd6ec",
   "metadata": {},
   "outputs": [],
   "source": [
    "indhold = FT_data\n",
    "talere = []\n",
    "tale = []\n",
    "parti = []\n",
    "count_folketing = 0\n",
    "Partier_i_folketinget = [\"(A)\", \"(SF)\", \"(S)\", \"(RV)\", \"(KF)\", \"(V)\", \"(FP)\", \"(CD)\", \"(VS)\", \"(KrF)\"]\n",
    "for index in range(len(indhold)):\n",
    "        sentence = indhold[index]\n",
    "        if len(re.findall(\"(^.{1,50} \\([A-Z]+\\)|.{1,50} \\(KrF\\))\", sentence)) > 0: #Tjekker om det er et menigt medlem\n",
    "            if len(re.findall(\"(\\([A-Z]+\\)|\\(KrF\\))\", sentence)) < 2:\n",
    "                if len(re.findall(\"Ny stedf.\", sentence)) > 0:\n",
    "                    pass\n",
    "                elif len(re.findall(\"Udtræder:\", sentence)) > 0:\n",
    "                    pass\n",
    "                elif len(re.findall(\"Nyt medl\", sentence)) > 0:\n",
    "                    pass\n",
    "                elif len(re.findall(\" af\", sentence.lower())) > 0:\n",
    "                    pass\n",
    "                elif re.findall(\"(\\([A-Z]+\\)|\\(KrF\\))\", sentence)[0] in Partier_i_folketinget:\n",
    "                    talere.append(sentence)\n",
    "                    parti.append(re.findall(\"(\\([A-Z]+\\)|\\(KrF\\))\", sentence)[0])\n",
    "                    tale.append(\"\")\n",
    "                    count_folketing += 1\n",
    "                else:\n",
    "                    if len(tale) >= 1:\n",
    "                        tale[-1] = tale[-1] + \" \" + sentence\n",
    "            else: #ellers er det en tale\n",
    "                if len(tale) >= 1:\n",
    "                    tale[-1] = tale[-1] + \" \" + sentence\n",
    "                #if len(re.findall(\"(\\([A-Z]+\\)|\\(KrF\\))\", sentence)) < 2:\n",
    "        elif sentence.lower() == \"formanden\" or sentence.lower() == \"formanden:\": #tjekker om det er formanden der taler\n",
    "            talere.append(\"formanden\")\n",
    "            parti.append(\"Formanden\")\n",
    "            tale.append(\"\")\n",
    "        elif re.search(\"næstformand \\(\\w*\\)\", sentence.lower()) or re.search(\"næstformand \\(\\w* \\w*\\)\", sentence.lower()):\n",
    "            talere.append(sentence.lower())\n",
    "            parti.append(\"næstformanden\")\n",
    "            tale.append(\"\")\n",
    "        elif len(sentence) < 100: #Tjekker om det er en minister der taler\n",
    "            if len(re.findall(\"\\w*minister[\\w ]*\\([\\w ]*\\)\", sentence.lower())) > 0:\n",
    "                talere.append(sentence)\n",
    "                parti.append(\"Regeringen\")\n",
    "                tale.append(\"\")\n",
    "            else:\n",
    "                if len(tale) >= 1:\n",
    "                    tale[-1] = tale[-1] + \" \" + sentence\n",
    "        elif len(re.findall(\"^[1-9]{1,5} [1-9]{1,2}/[1-9]{1,2}\", sentence.lower())) > 0: #tilføjet til at fange headers på sider\n",
    "            if len(sentence) < 200:\n",
    "                pass\n",
    "        elif len(re.findall(\"^[1-9]{1,2}/[1-9]{1,2}\", sentence.lower())) > 0: #tilføjet til at fange headers på sider\n",
    "            if len(sentence) < 200:\n",
    "                pass\n",
    "            else:\n",
    "                if len(tale) >= 1:\n",
    "                    tale[-1] = tale[-1] + \" \" + sentence\n",
    "        elif re.fullmatch(\"\\[.{1,100}\\]\", sentence.lower()):\n",
    "            pass\n",
    "        elif re.fullmatch(\"[1-9]{1,10}\", sentence.lower()):\n",
    "            pass\n",
    "        else:\n",
    "            if len(tale) >= 1:\n",
    "                tale[-1] = tale[-1] + \" \" + sentence"
   ]
  },
  {
   "cell_type": "markdown",
   "id": "bfb534aa",
   "metadata": {},
   "source": [
    "Jeg laver nu en funktion ud af dette:"
   ]
  },
  {
   "cell_type": "code",
   "execution_count": 121,
   "id": "7c327665",
   "metadata": {},
   "outputs": [],
   "source": [
    "def FT_taler(indhold):\n",
    "    talere = []\n",
    "    tale = []\n",
    "    parti = []\n",
    "    count_folketing = 0\n",
    "    Partier_i_folketinget = [\"(A)\", \"(SF)\", \"(S)\", \"(RV)\", \"(KF)\", \"(V)\", \"(FP)\", \"(CD)\", \"(VS)\", \"(KrF)\"]\n",
    "    for index in range(len(indhold)):\n",
    "        sentence = indhold[index]\n",
    "        if len(re.findall(\"(^.{1,50} \\([A-Z]+\\)|.{1,50} \\(KrF\\))\", sentence)) > 0: #Tjekker om det er et menigt medlem\n",
    "            if len(re.findall(\"(\\([A-Z]+\\)|\\(KrF\\))\", sentence)) < 2:\n",
    "                if len(re.findall(\"Ny stedf.\", sentence)) > 0:\n",
    "                    pass\n",
    "                elif len(re.findall(\"Udtræder:\", sentence)) > 0:\n",
    "                    pass\n",
    "                elif len(re.findall(\"Nyt medl\", sentence)) > 0:\n",
    "                    pass\n",
    "                elif len(re.findall(\" af\", sentence.lower())) > 0:\n",
    "                    pass\n",
    "                elif re.findall(\"(\\([A-Z]+\\)|\\(KrF\\))\", sentence)[0] in Partier_i_folketinget:\n",
    "                    talere.append(sentence)\n",
    "                    parti.append(re.findall(\"(\\([A-Z]+\\)|\\(KrF\\))\", sentence)[0])\n",
    "                    tale.append(\"\")\n",
    "                    count_folketing += 1\n",
    "                else:\n",
    "                    if len(tale) >= 1:\n",
    "                        tale[-1] = tale[-1] + \" \" + sentence\n",
    "            else: #ellers er det en tale\n",
    "                if len(tale) >= 1:\n",
    "                    tale[-1] = tale[-1] + \" \" + sentence\n",
    "                #if len(re.findall(\"(\\([A-Z]+\\)|\\(KrF\\))\", sentence)) < 2:\n",
    "        elif sentence.lower() == \"formanden\" or sentence.lower() == \"formanden:\": #tjekker om det er formanden der taler\n",
    "            talere.append(\"formanden\")\n",
    "            parti.append(\"Formanden\")\n",
    "            tale.append(\"\")\n",
    "        elif re.search(\"næstformand \\(\\w*\\):$\", sentence.lower()) or re.search(\"næstformand \\(\\w* \\w*\\):$\", sentence.lower()):\n",
    "            talere.append(sentence.lower())\n",
    "            parti.append(\"næstformanden\")\n",
    "            tale.append(\"\")\n",
    "        elif len(sentence) < 100: #Tjekker om det er en minister der taler\n",
    "            if len(re.findall(\"\\w*minister[\\w ]*\\(([\\w-]*|[\\w ]*)\\)\", sentence.lower())) > 0:\n",
    "                talere.append(sentence)\n",
    "                parti.append(\"Regeringen\")\n",
    "                tale.append(\"\")\n",
    "            else:\n",
    "                if len(tale) >= 1:\n",
    "                    tale[-1] = tale[-1] + \" \" + sentence\n",
    "        elif len(re.findall(\"^[1-9]{1,5} [1-9]{1,2}/[1-9]{1,2}\", sentence.lower())) > 0: #tilføjet til at fange headers på sider\n",
    "            if len(sentence) < 200:\n",
    "                pass\n",
    "        elif len(re.findall(\"^[1-9]{1,2}/[1-9]{1,2}\", sentence.lower())) > 0: #tilføjet til at fange headers på sider\n",
    "            if len(sentence) < 200:\n",
    "                pass\n",
    "            else:\n",
    "                if len(tale) >= 1:\n",
    "                    tale[-1] = tale[-1] + \" \" + sentence\n",
    "        elif re.fullmatch(\"\\[.{1,100}\\]\", sentence.lower()):\n",
    "            pass\n",
    "        elif re.fullmatch(\"[1-9]{1,10}\", sentence.lower()):\n",
    "            pass\n",
    "        else:\n",
    "            if len(tale) >= 1:\n",
    "                tale[-1] = tale[-1] + \" \" + sentence\n",
    "    return tale, talere, parti"
   ]
  },
  {
   "cell_type": "markdown",
   "id": "078cb2e5",
   "metadata": {},
   "source": [
    "Ovenstående funktion danner basis for formatering af data til senere analyse."
   ]
  }
 ],
 "metadata": {
  "kernelspec": {
   "display_name": "Python 3 (ipykernel)",
   "language": "python",
   "name": "python3"
  },
  "language_info": {
   "codemirror_mode": {
    "name": "ipython",
    "version": 3
   },
   "file_extension": ".py",
   "mimetype": "text/x-python",
   "name": "python",
   "nbconvert_exporter": "python",
   "pygments_lexer": "ipython3",
   "version": "3.10.2"
  }
 },
 "nbformat": 4,
 "nbformat_minor": 5
}
