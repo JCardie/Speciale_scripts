{
 "cells": [
  {
   "cell_type": "code",
   "execution_count": 1,
   "id": "eb2a3599",
   "metadata": {},
   "outputs": [],
   "source": [
    "from pathlib import Path\n",
    "from pathlib import *\n",
    "import pandas as pd\n",
    "import re\n",
    "from random import randint\n",
    "import spacy\n",
    "from time import time\n",
    "import matplotlib.pyplot as plt\n",
    "import gensim\n",
    "import gensim.corpora as corpora\n",
    "from pprint import pprint\n",
    "from gensim.models import TfidfModel\n",
    "from gensim.models import CoherenceModel\n",
    "from gensim.test.utils import datapath\n",
    "from gensim import  models\n",
    "nlpd = spacy.load(\"da_core_news_lg\")\n",
    "import os"
   ]
  },
  {
   "cell_type": "markdown",
   "id": "42d074d2",
   "metadata": {},
   "source": [
    "## Topic model over 90'ernes eu-debat"
   ]
  },
  {
   "cell_type": "code",
   "execution_count": 2,
   "id": "82770bbf",
   "metadata": {},
   "outputs": [],
   "source": [
    "path = \"../Folketingstidende/Hele/\"\n",
    "dir_path = Path(f\"{path}\")\n",
    "csv_files = list(dir_path.glob(\"*.csv\"))"
   ]
  },
  {
   "cell_type": "code",
   "execution_count": 3,
   "id": "1bbb86c3",
   "metadata": {},
   "outputs": [
    {
     "data": {
      "text/plain": [
       "[PosixPath('../Folketingstidende/Hele/19531.csv'),\n",
       " PosixPath('../Folketingstidende/Hele/19541.csv'),\n",
       " PosixPath('../Folketingstidende/Hele/19551.csv'),\n",
       " PosixPath('../Folketingstidende/Hele/19561.csv'),\n",
       " PosixPath('../Folketingstidende/Hele/19562.csv')]"
      ]
     },
     "execution_count": 3,
     "metadata": {},
     "output_type": "execute_result"
    }
   ],
   "source": [
    "csv_files.sort()\n",
    "csv_files[0:5]"
   ]
  },
  {
   "cell_type": "markdown",
   "id": "54d2a921",
   "metadata": {},
   "source": [
    "Jeg finder nu de filer der handler om 90'erne"
   ]
  },
  {
   "cell_type": "code",
   "execution_count": 4,
   "id": "72cd16f2",
   "metadata": {},
   "outputs": [
    {
     "data": {
      "text/plain": [
       "[PosixPath('../Folketingstidende/Hele/19901.csv'),\n",
       " PosixPath('../Folketingstidende/Hele/19902.csv'),\n",
       " PosixPath('../Folketingstidende/Hele/19911.csv'),\n",
       " PosixPath('../Folketingstidende/Hele/19921.csv'),\n",
       " PosixPath('../Folketingstidende/Hele/19931.csv'),\n",
       " PosixPath('../Folketingstidende/Hele/19941.csv'),\n",
       " PosixPath('../Folketingstidende/Hele/19951.csv'),\n",
       " PosixPath('../Folketingstidende/Hele/19961.csv'),\n",
       " PosixPath('../Folketingstidende/Hele/19971.csv'),\n",
       " PosixPath('../Folketingstidende/Hele/19972.csv'),\n",
       " PosixPath('../Folketingstidende/Hele/19981.csv'),\n",
       " PosixPath('../Folketingstidende/Hele/19991.csv')]"
      ]
     },
     "execution_count": 4,
     "metadata": {},
     "output_type": "execute_result"
    }
   ],
   "source": [
    "csv_files[49:61]"
   ]
  },
  {
   "cell_type": "code",
   "execution_count": 5,
   "id": "966312c4",
   "metadata": {},
   "outputs": [],
   "source": [
    "Folketingstaler_i_90erne = {}\n",
    "for fil in csv_files[49:61]:\n",
    "    if str(fil)[-9:-5] in Folketingstaler_i_90erne:\n",
    "        folketingsår = pd.read_csv(fil ,sep=';', encoding = \"latin1\")\n",
    "        taler = folketingsår[\"indhold\"]\n",
    "        for tale in taler:\n",
    "            Folketingstaler_i_90erne[str(fil)[-9:-5]].append(tale)\n",
    "    else:\n",
    "        folketingsår = pd.read_csv(fil ,sep=';', encoding = \"latin1\")\n",
    "        taler = folketingsår[\"indhold\"]\n",
    "        Folketingstaler_i_90erne[str(fil)[-9:-5]] = []\n",
    "        for tale in taler:\n",
    "            Folketingstaler_i_90erne[str(fil)[-9:-5]].append(tale)"
   ]
  },
  {
   "cell_type": "code",
   "execution_count": 6,
   "id": "83ef7116",
   "metadata": {},
   "outputs": [],
   "source": [
    "def FT_taler(indhold):\n",
    "    talere = []\n",
    "    tale = []\n",
    "    parti = []\n",
    "    Partier_i_folketinget = [\"(A)\", \"(SF)\", \"(S)\", \"(RV)\", \"(KF)\", \"(V)\", \"(FP)\", \"(CD)\", \"(VS)\",\n",
    "                             \"(KrF)\", \"(DR)\", \"(UP)\", \"(Grønl.)\", \"(Fær.)\", \"(DF)\", \"(EL)\"]\n",
    "    for index in range(len(indhold)):\n",
    "        sentence = indhold[index]\n",
    "        if len(re.findall(\"(^.{1,50} \\([A-Z]+\\)|^.{1,50} \\(KrF\\)|^.{1,50} \\(Grønl.\\)|^.{1,50} \\(Fær.\\))\", sentence)) > 0: #Tjekker om det er et menigt medlem\n",
    "            if len(re.findall(\"(\\([A-Z]+\\)|\\(KrF\\)|\\(Grønl.\\)|\\(Fær.\\))\", sentence)) < 2:\n",
    "                if len(re.findall(\"Ny stedf.\", sentence)) > 0:\n",
    "                    pass\n",
    "                elif len(re.findall(\"Udtræder:\", sentence)) > 0:\n",
    "                    pass\n",
    "                elif len(re.findall(\"Nyt medl\", sentence)) > 0:\n",
    "                    pass\n",
    "                elif len(re.findall(\" af\", sentence.lower())) > 0:\n",
    "                    pass\n",
    "                elif re.findall(\"(\\([A-Z]+\\)|\\(KrF\\)|\\(Grønl.\\)|\\(Fær.\\))\", sentence)[0] in Partier_i_folketinget:\n",
    "                    talere.append(sentence)\n",
    "                    parti.append(re.findall(\"(\\([A-Z]+\\)|\\(KrF\\)|\\(Grønl.\\)|\\(Fær.\\))\", sentence)[0])\n",
    "                    tale.append(\"\")\n",
    "                else:\n",
    "                    if len(tale) >= 1:\n",
    "                        tale[-1] = tale[-1] + \" \" + sentence\n",
    "            else: #ellers er det en tale\n",
    "                if len(tale) >= 1:\n",
    "                    tale[-1] = tale[-1] + \" \" + sentence\n",
    "                #if len(re.findall(\"(\\([A-Z]+\\)|\\(KrF\\))\", sentence)) < 2:\n",
    "        elif sentence.lower() == \"formanden\" or sentence.lower() == \"formanden:\": #tjekker om det er formanden der taler\n",
    "            talere.append(\"formanden\")\n",
    "            parti.append(\"Formanden\")\n",
    "            tale.append(\"\")\n",
    "        elif re.search(\"næstformand \\(\\w*\\):$\", sentence.lower()) or re.search(\"næstformand \\(\\w* \\w*\\):$\", sentence.lower()):\n",
    "            talere.append(sentence.lower())\n",
    "            parti.append(\"næstformanden\")\n",
    "            tale.append(\"\")\n",
    "        elif len(sentence) < 100: #Tjekker om det er en minister der taler\n",
    "            if len(re.findall(\"\\w*minister[\\w ]*\\(([\\w-]*|[\\w ]*)\\)\", sentence.lower())) > 0:\n",
    "                talere.append(sentence)\n",
    "                parti.append(\"Regeringen\")\n",
    "                tale.append(\"\")\n",
    "            else:\n",
    "                if len(tale) >= 1:\n",
    "                    tale[-1] = tale[-1] + \" \" + sentence\n",
    "        elif len(re.findall(\"[1-9]{1,5} [1-9]{1,2}/[1-9]{1,2}\", sentence.lower()))  > 0: #tilføjet til at fange headers på sider\n",
    "            if len(sentence) < 170:\n",
    "                pass\n",
    "            else:\n",
    "                if len(tale) >= 1:\n",
    "                    tale[-1] = tale[-1] + \" \" + sentence\n",
    "        elif len(re.findall(\"^[1-9]{1,2}/[1-9]{1,2}\", sentence.lower())) > 0: \n",
    "            if len(sentence) < 170:\n",
    "                pass\n",
    "            else:\n",
    "                if len(tale) >= 1:\n",
    "                    tale[-1] = tale[-1] + \" \" + sentence\n",
    "        elif re.fullmatch(\"\\[.{1,100}\\]\", sentence.lower()):\n",
    "            pass\n",
    "        elif re.fullmatch(\"[1-9]{1,10}\", sentence.lower()):\n",
    "            pass\n",
    "        else:\n",
    "            if len(tale) >= 1:\n",
    "                tale[-1] = tale[-1] + \" \" + sentence\n",
    "    return tale, talere, parti"
   ]
  },
  {
   "cell_type": "code",
   "execution_count": 7,
   "id": "76d7522f",
   "metadata": {},
   "outputs": [],
   "source": [
    "Folketingsår_opdelt_per_taler_90erne = {}\n",
    "for år in Folketingstaler_i_90erne:\n",
    "    indhold = Folketingstaler_i_90erne[år]\n",
    "    år_tale, år_talere, år_parti = FT_taler(indhold)\n",
    "    Folketingsår_opdelt_per_taler_90erne[år] = []\n",
    "    Folketingsår_opdelt_per_taler_90erne[år].append(år_tale)\n",
    "    Folketingsår_opdelt_per_taler_90erne[år].append(år_talere)\n",
    "    Folketingsår_opdelt_per_taler_90erne[år].append(år_parti)"
   ]
  },
  {
   "cell_type": "markdown",
   "id": "1625eae2",
   "metadata": {},
   "source": [
    "## Edinburghaftalen i tekst"
   ]
  },
  {
   "cell_type": "markdown",
   "id": "3d393006",
   "metadata": {},
   "source": [
    "Jeg undersøger hvordan \"Edinburgh\" optræder i data. Jeg ønsker at undersøge om byen overhovedet optræder i 1990'ernes folketingsdebatten uden at det handler om edinburghaftalen."
   ]
  },
  {
   "cell_type": "code",
   "execution_count": 8,
   "id": "a03646a8",
   "metadata": {},
   "outputs": [],
   "source": [
    "eu_ord_2 = [\" eu \", \" ef \", \"europæiske fællesskab\", \"europæiske union\", \"fællesmarkedet\", \"ømu\", \" eu-\", \" ef-\"]\n",
    "edinburgh_taler = []\n",
    "edinburgh_taler_ikke_eu = []\n",
    "for år in Folketingsår_opdelt_per_taler_90erne:\n",
    "    for sentence in Folketingsår_opdelt_per_taler_90erne[år][0]:\n",
    "        if len(re.findall(\"edinburgh\", sentence.lower())) > 0:\n",
    "            total = 0\n",
    "            for ord_type in eu_ord_2:\n",
    "                total += len(re.findall(ord_type, sentence.lower()))\n",
    "            if total == 0:\n",
    "                edinburgh_taler_ikke_eu.append(sentence.lower())\n",
    "            else:        \n",
    "                edinburgh_taler.append((år, sentence.lower()))"
   ]
  },
  {
   "cell_type": "code",
   "execution_count": 9,
   "id": "3914a74c",
   "metadata": {},
   "outputs": [
    {
     "data": {
      "text/plain": [
       "190"
      ]
     },
     "execution_count": 9,
     "metadata": {},
     "output_type": "execute_result"
    }
   ],
   "source": [
    "len(edinburgh_taler_ikke_eu)"
   ]
  },
  {
   "cell_type": "code",
   "execution_count": 10,
   "id": "0c36b2bb",
   "metadata": {},
   "outputs": [],
   "source": [
    "ikke_edinburghaftale = []\n",
    "for sentence in edinburgh_taler_ikke_eu: \n",
    "    if len(re.findall(\"(edinburghaftale|edinburgh-aftale|edinburgh-afgørelse|edinburghafgørelsen)\", sentence.lower())) == 0:\n",
    "        ikke_edinburghaftale.append(sentence)"
   ]
  },
  {
   "cell_type": "code",
   "execution_count": 11,
   "id": "b8c52701",
   "metadata": {},
   "outputs": [
    {
     "data": {
      "text/plain": [
       "47"
      ]
     },
     "execution_count": 11,
     "metadata": {},
     "output_type": "execute_result"
    }
   ],
   "source": [
    "len(ikke_edinburghaftale)"
   ]
  },
  {
   "cell_type": "code",
   "execution_count": 12,
   "id": "584d114a",
   "metadata": {},
   "outputs": [
    {
     "data": {
      "text/plain": [
       "' det interessante ved hele denne debat er den hån, man udviser over for grundloven og det danske folks nej. det er en hån, at man sætter jasigere til at forhandle, det er som at sætte ræven til at vogte gæs. og man fortsætter hånen ved at påstå, at der er kommet nye temaer til. men det er stadig maastrichttraktaten, der bliver genforhandlet eller ikke genforhandlet. det er den samme maastrichttraktat, der er ingen ændringer i den, der er ikke ændret et komma. o.k., der er lavet en aftale på edinburghmødet, men det er stadig væk maastrichttraktaten, det drejer sig om, det er stadig væk afgivelse af suverænitet, og det er stadig en hån mod den danske befolkning. jeg synes, det var interessant at få at vide af de damer og herrer, om vi havde fået en ny afstemning, hvis danmark havde stemt ja. jeg tvivler. det er kun, fordi man absolut vil gennemtvinge et ja, for ellers falder hele den politik, man har lagt op til. mine damer og herrer, det er en hån mod det danske folk! (kort bemærkning).'"
      ]
     },
     "execution_count": 12,
     "metadata": {},
     "output_type": "execute_result"
    }
   ],
   "source": [
    "ikke_edinburghaftale[1]"
   ]
  },
  {
   "cell_type": "markdown",
   "id": "3c099e2c",
   "metadata": {},
   "source": [
    "Jeg renser dem fra der også omhandler maarstrict."
   ]
  },
  {
   "cell_type": "code",
   "execution_count": 13,
   "id": "54a40bf7",
   "metadata": {},
   "outputs": [],
   "source": [
    "ikke_edinburghaftale_eller_maarstricht = []\n",
    "for sentence in ikke_edinburghaftale: \n",
    "    if len(re.findall(\"maastricht\", sentence.lower())) == 0:\n",
    "        ikke_edinburghaftale_eller_maarstricht.append(sentence)"
   ]
  },
  {
   "cell_type": "code",
   "execution_count": 14,
   "id": "3241cc3a",
   "metadata": {},
   "outputs": [
    {
     "data": {
      "text/plain": [
       "25"
      ]
     },
     "execution_count": 14,
     "metadata": {},
     "output_type": "execute_result"
    }
   ],
   "source": [
    "len(ikke_edinburghaftale_eller_maarstricht)"
   ]
  },
  {
   "cell_type": "markdown",
   "id": "79978219",
   "metadata": {},
   "source": [
    "Jeg kigger nu på dem der hverken indeholder Maarstricht eller Edinburghaftalen."
   ]
  },
  {
   "cell_type": "code",
   "execution_count": 15,
   "id": "67ab01f3",
   "metadata": {},
   "outputs": [
    {
     "data": {
      "text/plain": [
       "' det er lidt ærgerligt, at vi i de debatter, vi har, som jo ellers kunne have været meget, meget spændende og givtige, ofte skal tilbage til historieskrivningen, men det finder jeg nødvendigt igen i forhold til det, fru pernille frahm er inde på. jeg tror, at bare vi kunne få det fælles grundlag, den fælles forståelse, ville det være vigtigt, også af hensyn til den konstruktive del af debatten. i mastrichttraktaten, som var den, danmark tog sine forbehold ud fra, var det allerede forudset, at en række områder kunne flyttes fra søjle 3 til søjle 1. det var det, vi fik vores undtagelse fra, dette søjlespring fra søjle 3 til søjle 1. det var danmark, der fik et forbehold. det var ikke de andre lande. de sagde ikke, at de ville have forbehold fra det, der stod i mastricht- traktaten. vi krævede heller ikke af dem, at de skulle tage et forbehold. vi kom til dem og sagde, at vi gerne ville have et forbehold. det burde sf kunne huske, for sf var jo et af de partier, der var med til at forhandle, efter at vi den 2. juni fik nejet til amsterdamtraktaten. netop sf burde jo huske, at det var det danske forbehold, ikke de andres. så sker der det med amsterdamtraktaten, at de andre siger: jamen det i mastrichttraktaten, som vi sagde vi kunne flytte fra søjle 3 til søjle 1, har vi jo ikke flyttet, siden mastrichttraktaten trådte i kraft. nu gør vi det så i forbindelse med amsterdamtraktaten. det er så her, det danske forbehold træder ind. danmark er ikke forpligtet af de søjlespring, der bliver gennemført i forhold til en videreudvikling på et fællesskabsretligt grundlag. danmark deltager alene i det, der flyttes på det mellemstatslige niveau, videreudvikling er vi ikke forpligtet af. der må vi så se på den videreudvikling, når vi ser den. vi må så se på, hvad de udvikler, og om det er noget, vi vil være forpligtet af, og hvis danmark, regeringen og et flertal i folketinget siger ja, må vi så forhandle med de andre, på hvilket grundlag danmark kan være med. (467) onsdag den 10. februar 1999 (f 18) 3729 vi har fat i den lange ende. der bliver ikke fiflet med hverken det ene eller det andet. det historiske grundlag tilbage fra det danske forbehold i edinburgh er, som det altid har været. det er danskernes forbehold, det respekterer vi fra regeringens side. (kort bemærkning).'"
      ]
     },
     "execution_count": 15,
     "metadata": {},
     "output_type": "execute_result"
    }
   ],
   "source": [
    "ikke_edinburghaftale_eller_maarstricht[-1]"
   ]
  },
  {
   "cell_type": "markdown",
   "id": "929dd413",
   "metadata": {},
   "source": [
    "Fra det ovenstående har jeg en formodning omkring at der snakkes forbehold når edinburgh nævnes, og det altså derfor nødvendigt at sortere disse fra, da der åbenlyst også snakkes EU når der snakkes forbehold."
   ]
  },
  {
   "cell_type": "code",
   "execution_count": 16,
   "id": "f87752ee",
   "metadata": {},
   "outputs": [
    {
     "data": {
      "text/plain": [
       "0"
      ]
     },
     "execution_count": 16,
     "metadata": {},
     "output_type": "execute_result"
    }
   ],
   "source": [
    "ikke_edinburghaftale_maarstricht_forbehold = []\n",
    "for tekst in ikke_edinburghaftale_eller_maarstricht:\n",
    "    if len(re.findall(\"forbehold\", sentence.lower())) == 0:\n",
    "        ikke_edinburghaftale_maarstricht_forbehold.append(sentence)\n",
    "len(ikke_edinburghaftale_maarstricht_forbehold)"
   ]
  },
  {
   "cell_type": "markdown",
   "id": "547c0bd2",
   "metadata": {},
   "source": [
    "Det kan da konkluderes at når byen \"Edinburgh\" nævnes fra folketingets talerstol indgår altid en reference til Edinburghaftalen. Det kan da konkluderes at man fint kan søge på Edinburgh når man søger folketingstaler der omhandler EU."
   ]
  },
  {
   "cell_type": "markdown",
   "id": "93936c25",
   "metadata": {},
   "source": [
    "## Topic model over 1990erne"
   ]
  },
  {
   "cell_type": "code",
   "execution_count": 17,
   "id": "159f031e",
   "metadata": {},
   "outputs": [],
   "source": [
    "EU_ord = [\" eu \", \" ef \", \"europæiske fællesskab\", \"europæiske union\", \"fællesmarked\", \"ømu\", \"maastricht\", \n",
    "          \"amsterdamtraktaten\", \"eu-\", \"ef-\", \"edinburgh\", \"indre marked\"]"
   ]
  },
  {
   "cell_type": "code",
   "execution_count": 18,
   "id": "19b3ab14",
   "metadata": {},
   "outputs": [],
   "source": [
    "eu_taler_90erne = {}\n",
    "for år in Folketingsår_opdelt_per_taler_90erne:\n",
    "    #start = time()\n",
    "    eu_tale_år = []\n",
    "    eu_parti_år = []\n",
    "    eu_taler_år = []\n",
    "    for index in range(len(Folketingsår_opdelt_per_taler_90erne[år][0])):\n",
    "        tale = Folketingsår_opdelt_per_taler_90erne[år][0][index]\n",
    "        for ord_ in EU_ord:\n",
    "            if len(re.findall(ord_, tale.lower())) > 0:\n",
    "                eu_tale_år.append(tale)\n",
    "                eu_parti_år.append(Folketingsår_opdelt_per_taler_90erne[år][1][index])\n",
    "                eu_taler_år.append(Folketingsår_opdelt_per_taler_90erne[år][2][index])\n",
    "                break\n",
    "    eu_taler_90erne[år] = []\n",
    "    eu_taler_90erne[år].append(eu_tale_år)\n",
    "    eu_taler_90erne[år].append(eu_parti_år)\n",
    "    eu_taler_90erne[år].append(eu_taler_år)\n",
    "    #slut = time()\n",
    "    #print(slut-start) til at time loopsne"
   ]
  },
  {
   "cell_type": "code",
   "execution_count": 19,
   "id": "cdf8e564",
   "metadata": {},
   "outputs": [],
   "source": [
    "Alle_taler = []\n",
    "Alle_taler_år = []\n",
    "Alle_taler_parti = []\n",
    "Alle_taler_taler = []\n",
    "for år in eu_taler_90erne:\n",
    "    for index in range(len(eu_taler_90erne[år][0])):\n",
    "        Alle_taler.append(eu_taler_90erne[år][0][index])\n",
    "        Alle_taler_parti.append(eu_taler_90erne[år][1][index])\n",
    "        Alle_taler_taler.append(eu_taler_90erne[år][2][index])\n",
    "        Alle_taler_år.append(år)"
   ]
  },
  {
   "cell_type": "markdown",
   "id": "ef0ff857",
   "metadata": {},
   "source": [
    "Jeg finder kort ud af hvor mange datapunkter der er tale om."
   ]
  },
  {
   "cell_type": "code",
   "execution_count": 20,
   "id": "e41165e8",
   "metadata": {},
   "outputs": [
    {
     "name": "stdout",
     "output_type": "stream",
     "text": [
      "1990: 1093\n",
      "1991: 1645\n",
      "1992: 1726\n",
      "1993: 1289\n",
      "1994: 1604\n",
      "1995: 1971\n",
      "1996: 2223\n",
      "1997: 1887\n",
      "1998: 1722\n",
      "1999: 2718\n"
     ]
    }
   ],
   "source": [
    "for år in eu_taler_90erne:\n",
    "    print(f\"{år}: {len(eu_taler_90erne[år][0])}\")"
   ]
  },
  {
   "cell_type": "code",
   "execution_count": 21,
   "id": "1f681d5b",
   "metadata": {},
   "outputs": [
    {
     "data": {
      "text/plain": [
       "[1093, 1645, 1726, 1289, 1604, 1971, 2223, 1887, 1722, 2718]"
      ]
     },
     "execution_count": 21,
     "metadata": {},
     "output_type": "execute_result"
    }
   ],
   "source": [
    "antal_taler_år = [len(eu_taler_90erne[år][0]) for år in eu_taler_90erne]\n",
    "antal_taler_år"
   ]
  },
  {
   "cell_type": "markdown",
   "id": "abc7d33a",
   "metadata": {},
   "source": [
    "Jeg begynder nu at lave en topic model."
   ]
  },
  {
   "cell_type": "code",
   "execution_count": 22,
   "id": "60bf8ec6",
   "metadata": {},
   "outputs": [],
   "source": [
    "nlpd = spacy.load(\"da_core_news_lg\")"
   ]
  },
  {
   "cell_type": "code",
   "execution_count": 23,
   "id": "55787f9f",
   "metadata": {},
   "outputs": [],
   "source": [
    "tekster_klar = []\n",
    "fyldetegn = [\",\", \".\", \"(\", \")\", \"?\", \"/\", \"!\", \":\", \" \", \"):\", \"-\", \"«\", \"»\", \"[\", \"]\"]\n",
    "stopord_fil = open('../Folketingstidende/stopord.txt','r')\n",
    "stopord = [word[:-1] for word in stopord_fil] \n",
    "#[\"forslag\", \"spørgsmål\", \"år\", \"regering\", \"land\", \"forslag\", \"spørgsmål\", \"år\",\n",
    "#                                                 \"lov\", \"gå\", \"regering\", \"sige\", \"hr.\", \"mene\", \"tro\", \"dag\",\n",
    "#                                                 \"tale\", \"ting\", \"debat\", \"stå\", \"gang\", \"møde\", \"folketing\", \"bruge\",\n",
    "#                                                \"forstå\", \"ske\", \"række\", \"sikre\", \"bruge\",\"bemærkning\", \"dagsorden\", \n",
    "#                                                \"råd\", \"svar\", \"sag\", \"lovforslag\", \"foreslå\", \"fremsætte\", \"minister\",\n",
    "#                                                \"diskussion\", \"ønske\", \"spørge\", \"beslutningsforslag\", \"redegørelse\",\n",
    "#                                                \"give\", \"nr.\", \"behandling\", \"hedde\", \"måde\", \"sætte\"] "
   ]
  },
  {
   "cell_type": "code",
   "execution_count": 24,
   "id": "7ff506e9",
   "metadata": {},
   "outputs": [],
   "source": [
    "typer_spacy = []\n",
    "for tegn in fyldetegn:\n",
    "    tekst_nlpd = nlpd(tegn)\n",
    "    for token in tekst_nlpd:\n",
    "        if token.pos_ not in typer_spacy:\n",
    "            typer_spacy.append(token.pos_)"
   ]
  },
  {
   "cell_type": "code",
   "execution_count": 25,
   "id": "24757158",
   "metadata": {},
   "outputs": [],
   "source": [
    "typer_spacy.remove(\"PROPN\")"
   ]
  },
  {
   "cell_type": "code",
   "execution_count": 26,
   "id": "2b084d57",
   "metadata": {},
   "outputs": [
    {
     "data": {
      "text/plain": [
       "['PUNCT', 'X', 'SPACE', 'ADJ']"
      ]
     },
     "execution_count": 26,
     "metadata": {},
     "output_type": "execute_result"
    }
   ],
   "source": [
    "typer_spacy"
   ]
  },
  {
   "cell_type": "code",
   "execution_count": 27,
   "id": "d42626a9",
   "metadata": {},
   "outputs": [
    {
     "name": "stdout",
     "output_type": "stream",
     "text": [
      "146.2051498889923\n",
      "377.30389404296875\n",
      "1239.7152819633484\n",
      "200.56220197677612\n",
      "207.67256617546082\n",
      "227.83540201187134\n",
      "284.2917728424072\n",
      "202.78731989860535\n",
      "178.5229299068451\n",
      "253.21284770965576\n"
     ]
    }
   ],
   "source": [
    "for år in eu_taler_90erne:\n",
    "    #allowed_postags=['NOUN', 'ADJ', 'VERB']\n",
    "    start = time()\n",
    "    for tekst in eu_taler_90erne[år][0]:\n",
    "        tale_spacy = nlpd(tekst.lower())\n",
    "        #tokens = [str(token.lemma_).lower() for token in tale_spacy]\n",
    "        tokens = [token for token in tale_spacy]\n",
    "        tokens_uden_tegn = [str(token) for token in tokens if token.pos_ not in typer_spacy]\n",
    "        #tokens_uden_stopord = [token for token in tokens_uden_tegn if token not in stopord]\n",
    "        tekster_klar.append(tokens_uden_tegn)\n",
    "    end = time()\n",
    "    print(end-start)"
   ]
  },
  {
   "cell_type": "code",
   "execution_count": 37,
   "id": "300af83f",
   "metadata": {},
   "outputs": [],
   "source": [
    "processed_data = []\n",
    "for tekst in tekster_klar:\n",
    "    str_tekst = [str(token) for token in tekst]\n",
    "    processed_data.append(str_tekst)"
   ]
  },
  {
   "cell_type": "code",
   "execution_count": 38,
   "id": "27db4b87",
   "metadata": {},
   "outputs": [],
   "source": [
    "bigram = gensim.models.Phrases(processed_data, min_count=5, threshold=100)\n",
    "\n",
    "trigram = gensim.models.Phrases(bigram[processed_data], threshold=100)\n",
    "\n",
    "bigram_mod = gensim.models.phrases.Phraser(bigram)\n",
    "\n",
    "trigram_mod = gensim.models.phrases.Phraser(trigram)"
   ]
  },
  {
   "cell_type": "code",
   "execution_count": 39,
   "id": "b86d1927",
   "metadata": {},
   "outputs": [],
   "source": [
    "def remove_stopwords(texts):\n",
    "    return [[word for word in doc if word not in stopord] for doc in texts]\n",
    "def create_bigrams(texts):\n",
    "    return [bigram_mod[doc] for doc in texts]\n",
    "def create_trigrams(texts):\n",
    "    [trigram_mod[bigram_mod[doc]] for doc in texts]\n",
    "def lemmatize(texts, allowed_postags=['NOUN', 'ADJ', 'VERB']):\n",
    "    texts_op = []\n",
    "    start = time()\n",
    "    for sent in texts:\n",
    "        doc = nlpd(\" \".join(sent))\n",
    "        texts_op.append([token.lemma_ for token in doc if token.pos_ in allowed_postags])\n",
    "    end = time()\n",
    "    print(end-start)\n",
    "    return texts_op"
   ]
  },
  {
   "cell_type": "code",
   "execution_count": 40,
   "id": "5b58dfc9",
   "metadata": {},
   "outputs": [
    {
     "name": "stdout",
     "output_type": "stream",
     "text": [
      "624.8112938404083\n"
     ]
    }
   ],
   "source": [
    "#removing stopwords, creating bigrams and lemmatizing the text\n",
    "\n",
    "data_wo_stopwords = remove_stopwords(processed_data)\n",
    "\n",
    "data_bigrams = create_bigrams(data_wo_stopwords)\n",
    "\n",
    "data_lemmatized = lemmatize(data_bigrams, allowed_postags=[ 'NOUN', 'ADJ', 'VERB', 'PROPN', 'ADV'])"
   ]
  },
  {
   "cell_type": "code",
   "execution_count": 41,
   "id": "af5c5939",
   "metadata": {},
   "outputs": [],
   "source": [
    "stopwords_removed_2 = remove_stopwords(data_lemmatized) #Jeg prøver at sortere stopord fra igen\n",
    "\n",
    "data_lemmatized = stopwords_removed_2"
   ]
  },
  {
   "cell_type": "code",
   "execution_count": 119,
   "id": "2f961856",
   "metadata": {},
   "outputs": [],
   "source": [
    "#gensim_dictionary = corpora.Dictionary(data_lemmatized)\n",
    "\n",
    "texts = [text for text in data_lemmatized]"
   ]
  },
  {
   "cell_type": "code",
   "execution_count": 120,
   "id": "35a86999",
   "metadata": {},
   "outputs": [],
   "source": [
    "from random import shuffle\n",
    "shuffle(texts)"
   ]
  },
  {
   "cell_type": "code",
   "execution_count": 121,
   "id": "b33674e2",
   "metadata": {},
   "outputs": [],
   "source": [
    "#building a corpus for the topic model\n",
    "gensim_dictionary = corpora.Dictionary(texts)\n",
    "\n",
    "gensim_corpus = [gensim_dictionary.doc2bow(text) for text in texts]"
   ]
  },
  {
   "cell_type": "code",
   "execution_count": 122,
   "id": "0859a2bf",
   "metadata": {},
   "outputs": [],
   "source": [
    "gensim_dictionary.save(\"Speciale_scripts/Dictionaries/1990_erne/10_10_22_02\")"
   ]
  },
  {
   "cell_type": "code",
   "execution_count": 169,
   "id": "93a1c53e",
   "metadata": {},
   "outputs": [],
   "source": [
    "gensim_dictionary = corpora.Dictionary.load(\"Speciale_scripts/Dictionaries/1990_erne/10_10_22_02\")"
   ]
  },
  {
   "cell_type": "markdown",
   "id": "bd31d8f8",
   "metadata": {},
   "source": [
    "## Cohenrence model"
   ]
  },
  {
   "cell_type": "code",
   "execution_count": 124,
   "id": "da549283",
   "metadata": {},
   "outputs": [],
   "source": [
    "def compute_coherence_values(k):\n",
    "    lda_model = gensim.models.ldamodel.LdaModel(corpus=gensim_corpus,\n",
    "                                           id2word=gensim_dictionary,\n",
    "                                           num_topics=k, \n",
    "                                           random_state=100,\n",
    "                                           chunksize=100,\n",
    "                                           passes=10,\n",
    "                                           alpha=\"auto\")\n",
    "    \n",
    "    coherence_model_lda = CoherenceModel(model=lda_model, texts=data_lemmatized, dictionary=gensim_dictionary, coherence='c_v')\n",
    "    return coherence_model_lda.get_coherence()"
   ]
  },
  {
   "cell_type": "code",
   "execution_count": 125,
   "id": "a11c035f",
   "metadata": {},
   "outputs": [
    {
     "name": "stdout",
     "output_type": "stream",
     "text": [
      "18\n",
      "19\n",
      "20\n",
      "21\n",
      "22\n",
      "23\n",
      "24\n",
      "25\n",
      "26\n",
      "27\n",
      "28\n",
      "29\n",
      "30\n",
      "31\n",
      "32\n",
      "33\n",
      "34\n"
     ]
    }
   ],
   "source": [
    "min_topics = 18\n",
    "max_topics = 35\n",
    "step_size = 1\n",
    "topics_range = range(min_topics, max_topics, step_size)\n",
    "\n",
    "#empty dataframe\n",
    "model_results = {'Topics': [],\n",
    "                 'Coherence': []\n",
    "                }\n",
    "\n",
    "# iterate through number of topics\n",
    "for k in topics_range:\n",
    "    print(k)\n",
    "    # get the coherence score for the given topics\n",
    "    cv = compute_coherence_values(k=k)\n",
    "    # Save the model results\n",
    "    model_results['Topics'].append(k)\n",
    "    model_results['Coherence'].append(cv)"
   ]
  },
  {
   "cell_type": "code",
   "execution_count": 126,
   "id": "99281017",
   "metadata": {},
   "outputs": [
    {
     "data": {
      "image/png": "[encoded data removed]",
      "text/plain": [
       "<Figure size 432x288 with 1 Axes>"
      ]
     },
     "metadata": {
      "needs_background": "light"
     },
     "output_type": "display_data"
    }
   ],
   "source": [
    "fig, ax = plt.subplots()\n",
    "ax.plot(model_results[\"Topics\"], model_results['Coherence'])\n",
    "ax.set_title(\"Model med low = 0.2\")\n",
    "fig.savefig(\"Speciale_scripts/plots/1990_erne/Coherence_score_10_10_22_02\")"
   ]
  },
  {
   "cell_type": "code",
   "execution_count": 127,
   "id": "8a407674",
   "metadata": {},
   "outputs": [],
   "source": [
    "coherence_best = [coherence for coherence in model_results['Coherence']]\n",
    "coherence_best.sort(reverse = True)"
   ]
  },
  {
   "cell_type": "code",
   "execution_count": 128,
   "id": "0236cbc8",
   "metadata": {},
   "outputs": [
    {
     "name": "stdout",
     "output_type": "stream",
     "text": [
      "24\n",
      "29\n",
      "23\n",
      "30\n",
      "22\n"
     ]
    }
   ],
   "source": [
    "for top_coherence in coherence_best[0:5]:\n",
    "    number_topics = model_results[\"Topics\"][model_results['Coherence'].index(top_coherence)]\n",
    "    print(number_topics)\n",
    "    lda_model = gensim.models.ldamodel.LdaModel(\n",
    "        corpus=gensim_corpus, id2word=gensim_dictionary, num_topics=number_topics, random_state=100, \n",
    "        update_every=1, chunksize=100, passes=10, alpha='auto', per_word_topics=True\n",
    "    )\n",
    "    lda_model.save(f\"Speciale_scripts/Modeller/1990_erne/10_10_2022_02/Model_{number_topics}_topics\")"
   ]
  },
  {
   "cell_type": "code",
   "execution_count": null,
   "id": "d37b8b62",
   "metadata": {},
   "outputs": [],
   "source": [
    "best_number_topics = model_results[\"Topics\"][model_results['Coherence'].index(max(model_results['Coherence']))]"
   ]
  },
  {
   "cell_type": "code",
   "execution_count": null,
   "id": "8d123a0f",
   "metadata": {},
   "outputs": [],
   "source": [
    "lda_model = gensim.models.ldamodel.LdaModel(\n",
    "   corpus=gensim_corpus, id2word=gensim_dictionary, num_topics=best_number_topics, random_state=100, \n",
    "   update_every=1, chunksize=100, passes=10, alpha='auto', per_word_topics=True\n",
    ")"
   ]
  },
  {
   "cell_type": "code",
   "execution_count": null,
   "id": "f95f717a",
   "metadata": {},
   "outputs": [],
   "source": [
    "pprint(lda_model.print_topics(23))"
   ]
  },
  {
   "cell_type": "code",
   "execution_count": 43,
   "id": "7b4d04c4",
   "metadata": {},
   "outputs": [],
   "source": [
    "#temp_file = datapath(\"LDA_1990_topics_27_09_22_med_adv\")\n",
    "#lda_model.save(f\"Speciale_scripts/Modeller/1990_erne/04_10_22/Model_\")"
   ]
  },
  {
   "cell_type": "markdown",
   "id": "7987b2c5",
   "metadata": {},
   "source": [
    "### Undersøgelse af topic models:"
   ]
  },
  {
   "cell_type": "code",
   "execution_count": 54,
   "id": "caeff1b9",
   "metadata": {},
   "outputs": [],
   "source": [
    "def topic_counter(data_lemmatized, topic_number):\n",
    "    topics_subject = []\n",
    "    topics_subject_sand = []\n",
    "    for index in range(len(data_lemmatized)):\n",
    "        bow = gensim_dictionary.doc2bow(data_lemmatized[index])\n",
    "        eu_tale_topic_distribution = lda_model.get_document_topics(bow)\n",
    "        for topic, sand in eu_tale_topic_distribution:\n",
    "            if topic == topic_number:\n",
    "                topics_subject.append(index)\n",
    "                topics_subject_sand.append(sand)\n",
    "    return topics_subject, topics_subject_sand"
   ]
  },
  {
   "cell_type": "code",
   "execution_count": 55,
   "id": "a14ed727",
   "metadata": {},
   "outputs": [],
   "source": [
    "def year_counter(topics_subject):\n",
    "    year_datapoints = [Alle_taler_år[i] for i in topics_subject]\n",
    "    year_numbers = []\n",
    "    for år in år_1990erne:\n",
    "        year_numbers.append(year_datapoints.count(år))\n",
    "    return year_numbers"
   ]
  },
  {
   "cell_type": "code",
   "execution_count": 56,
   "id": "e739fec1",
   "metadata": {},
   "outputs": [
    {
     "data": {
      "text/plain": [
       "['1990',\n",
       " '1991',\n",
       " '1992',\n",
       " '1993',\n",
       " '1994',\n",
       " '1995',\n",
       " '1996',\n",
       " '1997',\n",
       " '1998',\n",
       " '1999']"
      ]
     },
     "execution_count": 56,
     "metadata": {},
     "output_type": "execute_result"
    }
   ],
   "source": [
    "år_1990erne = [str(1990+i) for i in range(10)]\n",
    "år_1990erne"
   ]
  },
  {
   "cell_type": "code",
   "execution_count": 57,
   "id": "065169f9",
   "metadata": {},
   "outputs": [
    {
     "data": {
      "text/plain": [
       "['90/91',\n",
       " '91/92',\n",
       " '92/93',\n",
       " '93/94',\n",
       " '94/95',\n",
       " '95/96',\n",
       " '96/97',\n",
       " '97/98',\n",
       " '98/99',\n",
       " '99/00']"
      ]
     },
     "execution_count": 57,
     "metadata": {},
     "output_type": "execute_result"
    }
   ],
   "source": [
    "folketingsår = [str(90 + i) + \"/\" + str(90 + i + 1) for i in range(9)] + [\"99/00\"]\n",
    "folketingsår"
   ]
  },
  {
   "cell_type": "code",
   "execution_count": 152,
   "id": "c23129b9",
   "metadata": {},
   "outputs": [
    {
     "name": "stdout",
     "output_type": "stream",
     "text": [
      "[(0,\n",
      "  '0.034*\"danmark\" + 0.026*\"spørgsmål\" + 0.021*\"minister\" + 0.019*\"give\" + '\n",
      "  '0.018*\"sag\" + 0.018*\"forhold\" + 0.014*\"finde\" + 0.014*\"område\" + 0.013*\"eu\" '\n",
      "  '+ 0.012*\"hensyn\"'),\n",
      " (1,\n",
      "  '0.111*\"peter_duetoft\" + 0.035*\"motorvej\" + 0.034*\"stavad\" + '\n",
      "  '0.027*\"hanne_severinsen\" + 0.027*\"talsmand\" + 0.022*\"opfinde\" + '\n",
      "  '0.020*\"henne\" + 0.016*\"zone\" + 0.014*\"uændret\" + 0.012*\"tysklands\"'),\n",
      " (2,\n",
      "  '0.048*\"justitsminister\" + 0.042*\"politi\" + 0.042*\"grundlov\" + '\n",
      "  '0.039*\"justitsministerium\" + 0.038*\"domstol\" + 0.035*\"person\" + '\n",
      "  '0.035*\"udlænding\" + 0.031*\"kontrol\" + 0.029*\"grænse\" + 0.028*\"myndighed\"'),\n",
      " (3,\n",
      "  '0.127*\"grønland\" + 0.111*\"færøerne\" + 0.047*\"idræt\" + 0.033*\"bestyrelse\" + '\n",
      "  '0.033*\"ly\" + 0.024*\"poul_nødgaard\" + 0.021*\"lovgive\" + 0.021*\"ambassade\" + '\n",
      "  '0.017*\"færing\" + 0.017*\"rigsfællesskab\"'),\n",
      " (4,\n",
      "  '0.084*\"produkt\" + 0.071*\"forbruger\" + 0.052*\"stof\" + 0.046*\"forbud\" + '\n",
      "  '0.040*\"miljø\" + 0.039*\"affald\" + 0.035*\"statsborger\" + '\n",
      "  '0.031*\"miljøminister\" + 0.029*\"producent\" + 0.021*\"uland\"'),\n",
      " (5,\n",
      "  '0.021*\"år\" + 0.020*\"udvikling\" + 0.014*\"arbejde\" + 0.014*\"mulighed\" + '\n",
      "  '0.014*\"område\" + 0.012*\"indsats\" + 0.011*\"redegørelse\" + 0.011*\"initiativ\" '\n",
      "  '+ 0.011*\"sikre\" + 0.010*\"række\"'),\n",
      " (6,\n",
      "  '0.262*\"forslag\" + 0.087*\"støtte\" + 0.080*\"sf\" + 0.044*\"beslutningsforslag\" '\n",
      "  '+ 0.043*\"enhedslisten\" + 0.043*\"fremsætte\" + 0.039*\"folkeparti\" + '\n",
      "  '0.025*\"vedtagelse\" + 0.019*\"ønske\" + 0.018*\"sf\\'s\"'),\n",
      " (7,\n",
      "  '0.210*\"marked\" + 0.089*\"vare\" + 0.054*\"handel\" + 0.045*\"eksport\" + '\n",
      "  '0.039*\"import\" + 0.037*\"salg\" + 0.028*\"andersen\" + 0.026*\"sælge\" + '\n",
      "  '0.025*\"producere\" + 0.022*\"forelagt_spørgsmålet\"'),\n",
      " (8,\n",
      "  '0.099*\"regering\" + 0.024*\"folketing\" + 0.022*\"statsminister\" + '\n",
      "  '0.015*\"forhandling\" + 0.015*\"socialdemokrati\" + 0.015*\"dag\" + 0.014*\"debat\" '\n",
      "  '+ 0.013*\"politik\" + 0.013*\"ønske\" + 0.012*\"parti\"'),\n",
      " (9,\n",
      "  '0.158*\"ef\" + 0.123*\"fremskridtsparti\" + 0.072*\"cd\" + 0.070*\"]\" + '\n",
      "  '0.041*\"f._t\" + 0.035*\"ef\\'s\" + 0.030*\"gade\" + 0.028*\"beh.\" + '\n",
      "  '0.015*\"duetoft\" + 0.012*\"annette_just\"'),\n",
      " (10,\n",
      "  '0.041*\"samfund\" + 0.039*\"år\" + 0.029*\"menneske\" + 0.023*\"arbejdsmarked\" + '\n",
      "  '0.021*\"kvinde\" + 0.016*\"beskæftigelse\" + 0.016*\"dengang\" + 0.015*\"person\" + '\n",
      "  '0.015*\"arbejdsløshed\" + 0.014*\"arbejdsplads\"'),\n",
      " (11,\n",
      "  '0.088*\"fredag\" + 0.063*\"anerkende\" + 0.061*\"tvinge\" + 0.053*\"tjene\" + '\n",
      "  '0.050*\"citere\" + 0.035*\"herinde\" + 0.034*\"kost\" + 0.033*\"skifte\" + '\n",
      "  '0.030*\"sagtens\" + 0.027*\"øjne\"'),\n",
      " (12,\n",
      "  '0.080*\"virksomhed\" + 0.034*\"kommune\" + 0.028*\"ordning\" + 0.018*\"kontrol\" + '\n",
      "  '0.017*\"konkurrence\" + 0.017*\"fiskeri\" + 0.016*\"stat\" + 0.014*\"selskab\" + '\n",
      "  '0.012*\"erhverv\" + 0.010*\"vilkår\"'),\n",
      " (13,\n",
      "  '0.181*\"land\" + 0.077*\"samarbejde\" + 0.064*\"eu\" + 0.048*\"europa\" + '\n",
      "  '0.029*\"danmark\" + 0.020*\"råd\" + 0.019*\"udvidelse\" + 0.019*\"medlem\" + '\n",
      "  '0.014*\"demokrati\" + 0.013*\"fællesskab\"'),\n",
      " (14,\n",
      "  '0.236*\"landbrug\" + 0.098*\"landmand\" + 0.055*\"ejendom\" + 0.050*\"dyr\" + '\n",
      "  '0.027*\"jord\" + 0.024*\"produktion\" + 0.024*\"bedrift\" + 0.020*\"støtteordning\" '\n",
      "  '+ 0.016*\"strukturudvikling\" + 0.013*\"erhverv\"'),\n",
      " (15,\n",
      "  '0.118*\"udenrigsminister\" + 0.079*\"menneskerettighed\" + 0.071*\"nato\" + '\n",
      "  '0.056*\"tyrkiet\" + 0.037*\"konflikt\" + 0.032*\"fn\" + 0.028*\"helveg_petersen\" + '\n",
      "  '0.025*\"aktion\" + 0.025*\"krig\" + 0.024*\"erklæring\"'),\n",
      " (16,\n",
      "  '0.056*\"afgift\" + 0.027*\"betale\" + 0.026*\"kr.\" + 0.025*\"udgift\" + '\n",
      "  '0.022*\"mia._kr\" + 0.021*\"skatte\" + 0.018*\"finanslov\" + '\n",
      "  '0.018*\"skatteminister\" + 0.017*\"penge\" + 0.017*\"erhvervsliv\"'),\n",
      " (17,\n",
      "  '0.097*\"euro\" + 0.063*\"valuta\" + 0.052*\"ømu\\'en\" + 0.043*\"økonomiminister\" + '\n",
      "  '0.038*\"krone\" + 0.037*\"danmark\" + 0.033*\"politik\" + 0.028*\"økonomi\" + '\n",
      "  '0.025*\"rente\" + 0.022*\"september\"'),\n",
      " (18,\n",
      "  '0.161*\"kr.\" + 0.076*\"bruxelles\" + 0.043*\"besøg\" + 0.041*\"udgift\" + '\n",
      "  '0.031*\"grønlands\" + 0.030*\"møde\" + 0.029*\"formål\" + 0.021*\"rejse\" + '\n",
      "  '0.020*\"invitation\" + 0.018*\"ministersekretær\"'),\n",
      " (19,\n",
      "  '0.043*\"substans\" + 0.009*\"initiativtager\" + 0.000*\"oversættelsesproblemer\" '\n",
      "  '+ 0.000*\"ef-indsats\" + 0.000*\"forhadt\" + 0.000*\"sermitsiaq\" + '\n",
      "  '0.000*\"snestorm\" + 0.000*\"logbogsudfyldelse\" + 0.000*\"indsmigre\" + '\n",
      "  '0.000*\"fællesforsamlinger\"'),\n",
      " (20,\n",
      "  '0.114*\"nr.\" + 0.083*\"ændringsforslag\" + 0.073*\"dagsorden\" + '\n",
      "  '0.071*\"forespørgsel\" + 0.067*\"behandling\" + 0.059*\"afstemning\" + '\n",
      "  '0.036*\"stemme\" + 0.033*\"sluttede_forhandlingen\" + 0.027*\"grænsehandel\" + '\n",
      "  '0.026*\"medlem\"'),\n",
      " (21,\n",
      "  '0.121*\"bil\" + 0.107*\"trafik\" + 0.078*\"by\" + 0.069*\"dsb\" + 0.065*\"transport\" '\n",
      "  '+ 0.061*\"opgørelse\" + 0.047*\"opgøre\" + 0.029*\"køre\" + 0.017*\"medtage\" + '\n",
      "  '0.015*\"aagaard\"'),\n",
      " (22,\n",
      "  '0.072*\"folkeafstemning\" + 0.065*\"union\" + 0.062*\"traktat\" + '\n",
      "  '0.059*\"forbehold\" + 0.052*\"regeringskonference\" + 0.042*\"befolkning\" + '\n",
      "  '0.041*\"keld_albrechtsen\" + 0.029*\"amsterdamtraktaten\" + 0.027*\"stemme\" + '\n",
      "  '0.023*\"hr.\"'),\n",
      " (23,\n",
      "  '0.334*\"aftale\" + 0.093*\"konvention\" + 0.064*\"indgå\" + 0.035*\"huske\" + '\n",
      "  '0.031*\"mandat\" + 0.031*\"part\" + 0.025*\"edinburgh-afgørelsen\" + '\n",
      "  '0.019*\"citat\" + 0.018*\"misforstå\" + 0.017*\"tilfredsstille\"'),\n",
      " (24,\n",
      "  '0.210*\"flygtning\" + 0.115*\"fødevare\" + 0.073*\"indvandrer\" + '\n",
      "  '0.028*\"familiesammenføring\" + 0.024*\"indenrigsminister\" + 0.023*\"forestå\" + '\n",
      "  '0.022*\"forsendelse\" + 0.017*\"versere\" + 0.016*\"fortjene\" + 0.015*\"varme\"'),\n",
      " (25,\n",
      "  '0.043*\"spørgsmål\" + 0.041*\"svar\" + 0.035*\"s\" + 0.031*\"oplyse\" + '\n",
      "  '0.031*\"minister\" + 0.027*\"begrundelse\" + 0.025*\"spm._nr\" + '\n",
      "  '0.025*\"kommission\" + 0.018*\"oplysning\" + 0.017*\"skriftligt_besvarede\"'),\n",
      " (26,\n",
      "  '0.035*\"hr.\" + 0.030*\"gå\" + 0.027*\"altså\" + 0.024*\"gerne\" + 0.021*\"mene\" + '\n",
      "  '0.018*\"bemærkning\" + 0.018*\"tro\" + 0.017*\"ting\" + 0.016*\"dag\" + '\n",
      "  '0.016*\"stå\"'),\n",
      " (27,\n",
      "  '0.078*\"lovforslag\" + 0.072*\"lov\" + 0.054*\"forslag\" + 0.041*\"ændring\" + '\n",
      "  '0.034*\"regel\" + 0.029*\"behandling\" + 0.024*\"nr.\" + 0.023*\"bestemmelse\" + '\n",
      "  '0.021*\"direktiv\" + 0.019*\"lovgivning\"'),\n",
      " (28,\n",
      "  '0.077*\"barn\" + 0.068*\"uddannelse\" + 0.036*\"skole\" + 0.035*\"undervisning\" + '\n",
      "  '0.032*\"institution\" + 0.028*\"mærkning\" + 0.025*\"studere\" + 0.022*\"forældre\" '\n",
      "  '+ 0.020*\"folkeskole\" + 0.018*\"trafikminister\"'),\n",
      " (29,\n",
      "  '0.074*\"energi\" + 0.040*\"anlæg\" + 0.040*\"energiminister\" + 0.030*\"naturgas\" '\n",
      "  '+ 0.026*\"energiforbrug\" + 0.023*\"dokumentation\" + 0.022*\"selskab\" + '\n",
      "  '0.022*\"vindmølle\" + 0.018*\"kina\" + 0.017*\"udstyr\"')]\n"
     ]
    }
   ],
   "source": [
    "lda_model = gensim.models.ldamodel.LdaModel.load(\"Speciale_scripts/Modeller/1990_erne/10_10_2022_02/Model_30_topics\")\n",
    "pprint(lda_model.print_topics(33))"
   ]
  },
  {
   "cell_type": "markdown",
   "id": "8aebdea3",
   "metadata": {},
   "source": [
    "### Undersøgelse af topic 8"
   ]
  },
  {
   "cell_type": "code",
   "execution_count": 70,
   "id": "8d369663",
   "metadata": {},
   "outputs": [
    {
     "data": {
      "text/plain": [
       "2742"
      ]
     },
     "execution_count": 70,
     "metadata": {},
     "output_type": "execute_result"
    }
   ],
   "source": [
    "topics_union = []\n",
    "topics_union_sand = []\n",
    "for index in range(len(gensim_corpus)):\n",
    "    bow = gensim_dictionary.doc2bow(data_lemmatized[index])\n",
    "    eu_tale_topic_distribution = lda_model.get_document_topics(bow)\n",
    "    for topic, sand in eu_tale_topic_distribution:\n",
    "        if topic == 0:\n",
    "            topics_union.append(index)\n",
    "            topics_union_sand.append(sand)\n",
    "len(topics_union)"
   ]
  },
  {
   "cell_type": "code",
   "execution_count": 71,
   "id": "6b1c0b5e",
   "metadata": {},
   "outputs": [],
   "source": [
    "topics_union_år = [Alle_taler_år[i] for i in topics_union]\n",
    "topics_union_antal_taler_1980eren = []\n",
    "\n",
    "for år in år_1990erne:\n",
    "    topics_union_antal_taler_1980eren.append(topics_union_år.count(år))\n",
    "topics_union_andel = [topics_union_antal_taler_1980eren[i]/antal_taler_år[i] for i in range(10)]"
   ]
  },
  {
   "cell_type": "code",
   "execution_count": 72,
   "id": "d1941f0f",
   "metadata": {},
   "outputs": [
    {
     "data": {
      "image/png": "[encoded data removed]",
      "text/plain": [
       "<Figure size 432x288 with 2 Axes>"
      ]
     },
     "metadata": {
      "needs_background": "light"
     },
     "output_type": "display_data"
    }
   ],
   "source": [
    "fig, (ax1, ax2) = plt.subplots(2, 1)\n",
    "ax1.set_title(\"Andel af folketingstaler der nævner EF relateret til topic 20\")\n",
    "ax1.plot(folketingsår, topics_union_andel)\n",
    "ax1.set_ylim([0, 0.5])\n",
    "ax2.set_title(\"Antal af folketingstaler der nævner EF relateret til topic 20\")\n",
    "ax2.bar(folketingsår, topics_union_antal_taler_1980eren)\n",
    "fig.tight_layout(pad=1.0)\n",
    "#fig.savefig(\"plots/1980_erne/Andel_af_folketingstaler_der_nævner_EF relateret_til_topic_20\")"
   ]
  },
  {
   "cell_type": "markdown",
   "id": "55b36745",
   "metadata": {},
   "source": [
    "### Undersøgelse af topics"
   ]
  },
  {
   "cell_type": "code",
   "execution_count": 73,
   "id": "463bddc2",
   "metadata": {},
   "outputs": [],
   "source": [
    "colors = [\"b\", \"g\", \"r\", \"c\", \"m\", \"y\", \"k\"]"
   ]
  },
  {
   "cell_type": "code",
   "execution_count": 153,
   "id": "e57470e9",
   "metadata": {},
   "outputs": [
    {
     "data": {
      "text/plain": [
       "(0.0, 1.0)"
      ]
     },
     "execution_count": 153,
     "metadata": {},
     "output_type": "execute_result"
    },
    {
     "data": {
      "image/png": "[encoded data removed]",
      "text/plain": [
       "<Figure size 432x288 with 1 Axes>"
      ]
     },
     "metadata": {
      "needs_background": "light"
     },
     "output_type": "display_data"
    }
   ],
   "source": [
    "fig, ax = plt.subplots()\n",
    "for topic_number in range(7):\n",
    "    topics, topics_sand = topic_counter(data_lemmatized, topic_number)\n",
    "    topics_count = year_counter(topics)\n",
    "    andel = [topics_count[i]/antal_taler_år[i] for i in range(10)]\n",
    "    ax.plot(folketingsår, andel, label=f'Topic {topic_number}', color = colors[topic_number])\n",
    "ax.legend()\n",
    "ax.set_ylim([0, 1])"
   ]
  },
  {
   "cell_type": "code",
   "execution_count": 154,
   "id": "3f2d290e",
   "metadata": {},
   "outputs": [
    {
     "data": {
      "text/plain": [
       "(0.0, 1.0)"
      ]
     },
     "execution_count": 154,
     "metadata": {},
     "output_type": "execute_result"
    },
    {
     "data": {
      "image/png": "[encoded data removed]",
      "text/plain": [
       "<Figure size 432x288 with 1 Axes>"
      ]
     },
     "metadata": {
      "needs_background": "light"
     },
     "output_type": "display_data"
    }
   ],
   "source": [
    "fig, ax = plt.subplots()\n",
    "for topic_number in range(7,14):\n",
    "    topics, topics_sand = topic_counter(data_lemmatized, topic_number)\n",
    "    topics_count = year_counter(topics)\n",
    "    andel = [topics_count[i]/antal_taler_år[i] for i in range(10)]\n",
    "    ax.plot(folketingsår, andel, label=f'Topic {topic_number}', color = colors[topic_number%7])\n",
    "ax.legend()\n",
    "ax.set_ylim([0, 1])"
   ]
  },
  {
   "cell_type": "code",
   "execution_count": 206,
   "id": "f37ac106",
   "metadata": {},
   "outputs": [
    {
     "data": {
      "text/plain": [
       "(0.0, 1.0)"
      ]
     },
     "execution_count": 206,
     "metadata": {},
     "output_type": "execute_result"
    },
    {
     "data": {
      "image/png": "[encoded data removed]",
      "text/plain": [
       "<Figure size 432x288 with 1 Axes>"
      ]
     },
     "metadata": {
      "needs_background": "light"
     },
     "output_type": "display_data"
    }
   ],
   "source": [
    "fig, ax = plt.subplots()\n",
    "for topic_number in range(14,21):\n",
    "    topics, topics_sand = topic_counter(data_lemmatized, topic_number)\n",
    "    topics_count = year_counter(topics)\n",
    "    andel = [topics_count[i]/antal_taler_år[i] for i in range(10)]\n",
    "    ax.plot(folketingsår, andel, label=f'Topic {topic_number}', color = colors[topic_number%7])\n",
    "ax.legend()\n",
    "ax.set_ylim([0, 1])"
   ]
  },
  {
   "cell_type": "code",
   "execution_count": 156,
   "id": "9b40bbf1",
   "metadata": {},
   "outputs": [
    {
     "data": {
      "text/plain": [
       "(0.0, 1.0)"
      ]
     },
     "execution_count": 156,
     "metadata": {},
     "output_type": "execute_result"
    },
    {
     "data": {
      "image/png": "[encoded data removed]",
      "text/plain": [
       "<Figure size 432x288 with 1 Axes>"
      ]
     },
     "metadata": {
      "needs_background": "light"
     },
     "output_type": "display_data"
    }
   ],
   "source": [
    "fig, ax = plt.subplots()\n",
    "for topic_number in range(21,28):\n",
    "    topics, topics_sand = topic_counter(data_lemmatized, topic_number)\n",
    "    topics_count = year_counter(topics)\n",
    "    andel = [topics_count[i]/antal_taler_år[i] for i in range(10)]\n",
    "    ax.plot(folketingsår, andel, label=f'Topic {topic_number}', color = colors[topic_number%7])\n",
    "ax.legend()\n",
    "ax.set_ylim([0, 1])"
   ]
  },
  {
   "cell_type": "code",
   "execution_count": 157,
   "id": "8b0dd8f6",
   "metadata": {},
   "outputs": [
    {
     "data": {
      "text/plain": [
       "(0.0, 1.0)"
      ]
     },
     "execution_count": 157,
     "metadata": {},
     "output_type": "execute_result"
    },
    {
     "data": {
      "image/png": "[encoded data removed]",
      "text/plain": [
       "<Figure size 432x288 with 1 Axes>"
      ]
     },
     "metadata": {
      "needs_background": "light"
     },
     "output_type": "display_data"
    }
   ],
   "source": [
    "fig, ax = plt.subplots()\n",
    "for topic_number in range(28,30):\n",
    "    topics, topics_sand = topic_counter(data_lemmatized, topic_number)\n",
    "    topics_count = year_counter(topics)\n",
    "    andel = [topics_count[i]/antal_taler_år[i] for i in range(10)]\n",
    "    ax.plot(folketingsår, andel, label=f'Topic {topic_number}', color = colors[topic_number%7])\n",
    "ax.legend()\n",
    "ax.set_ylim([0, 1])"
   ]
  },
  {
   "cell_type": "markdown",
   "id": "430fe59c",
   "metadata": {},
   "source": [
    "# Undersøgelse af topics:"
   ]
  },
  {
   "cell_type": "markdown",
   "id": "fdcadfa5",
   "metadata": {},
   "source": [
    "### Topic 1:"
   ]
  },
  {
   "cell_type": "code",
   "execution_count": 176,
   "id": "439706e9",
   "metadata": {},
   "outputs": [
    {
     "data": {
      "text/plain": [
       "601"
      ]
     },
     "execution_count": 176,
     "metadata": {},
     "output_type": "execute_result"
    }
   ],
   "source": [
    "topics_1 = []\n",
    "topics_1_sand = []\n",
    "for index in range(len(gensim_corpus)):\n",
    "    bow = gensim_dictionary.doc2bow(data_lemmatized[index])\n",
    "    eu_tale_topic_distribution = lda_model.get_document_topics(bow)\n",
    "    for topic, sand in eu_tale_topic_distribution:\n",
    "        if topic == 1:\n",
    "            topics_1.append(index)\n",
    "            topics_1_sand.append(sand)\n",
    "len(topics_1)"
   ]
  },
  {
   "cell_type": "code",
   "execution_count": 171,
   "id": "fbb8681c",
   "metadata": {},
   "outputs": [],
   "source": [
    "topics_1_år = [Alle_taler_år[i] for i in topics_1]\n",
    "topics_1_antal_taler_1980eren = []\n",
    "\n",
    "for år in år_1990erne:\n",
    "    topics_1_antal_taler_1980eren.append(topics_1_år.count(år))\n",
    "topics_1_andel = [topics_1_antal_taler_1980eren[i]/antal_taler_år[i] for i in range(10)]"
   ]
  },
  {
   "cell_type": "code",
   "execution_count": 172,
   "id": "0d7b262c",
   "metadata": {},
   "outputs": [
    {
     "data": {
      "image/png": "[encoded data removed]",
      "text/plain": [
       "<Figure size 432x288 with 2 Axes>"
      ]
     },
     "metadata": {
      "needs_background": "light"
     },
     "output_type": "display_data"
    }
   ],
   "source": [
    "fig, (ax1, ax2) = plt.subplots(2, 1)\n",
    "ax1.set_title(\"Andel af folketingstaler der nævner EF relateret til topic 1\")\n",
    "ax1.plot(folketingsår, topics_1_andel)\n",
    "ax1.set_ylim([0, 0.1])\n",
    "ax2.set_title(\"Antal af folketingstaler der nævner EF relateret til topic 1\")\n",
    "ax2.bar(folketingsår, topics_1_antal_taler_1980eren)\n",
    "fig.tight_layout(pad=1.0)\n",
    "#fig.savefig(\"plots/1980_erne/Andel_af_folketingstaler_der_nævner_EF relateret_til_topic_20\")"
   ]
  },
  {
   "cell_type": "code",
   "execution_count": 173,
   "id": "e2f76d50",
   "metadata": {},
   "outputs": [
    {
     "data": {
      "text/plain": [
       "73"
      ]
     },
     "execution_count": 173,
     "metadata": {},
     "output_type": "execute_result"
    }
   ],
   "source": [
    "topics_1_sand.index(max(topics_1_sand))"
   ]
  },
  {
   "cell_type": "code",
   "execution_count": 174,
   "id": "ddedd741",
   "metadata": {},
   "outputs": [
    {
     "data": {
      "text/plain": [
       "2660"
      ]
     },
     "execution_count": 174,
     "metadata": {},
     "output_type": "execute_result"
    }
   ],
   "source": [
    "topics_1[73]"
   ]
  },
  {
   "cell_type": "code",
   "execution_count": 175,
   "id": "13dcfdb5",
   "metadata": {},
   "outputs": [
    {
     "data": {
      "text/plain": [
       "' Jeg kan svare hr. Ole Donner, at den udtalelse, jeg kom med under andenbehandlingen, er fuldstændig i overensstemmelse med realiteterne omkring dette forslag. Det, hr. Ole Donner nu rejser, er spørgsmålet, om det ændringsforslag, der nu skal til afstemning, er i overensstemmelse med EF-ret- ten, og dér er det korrekt, som hr. Ole Donner refererer, at man ikke på forhånd kan udelukke, at der kan være et problem, men som hr. Ole Donner også vil vide fra det pågældende notat, er det vurderingen, at det næppe er sandsynligt, at EF vil gøre indsigelse mod forslaget. Beskatningen af fremmedmøntede fordringer vil nemlig fortsat generelt være symmetrisk. Det er kun på dette ene lille begrænse- 11085 19/6 92: 3. beh. af f. t. 1. vedr. koncerninterne fordringer m.v. 11086 [Skatteministeren] de område, at hr. Stavad og andre nu vil bryde symmetrien. Derfor har jeg ingen intentioner om at rejse dette spørgsmål i forhold til EF- myndighederne. Endvidere skal jeg afslutningsvis - for det bliver så afslutningsvis - blot sige til hr. Stavad, at netop hr. Stavads eksempel er meget godt til illustration af urimeligheden i ændringsforslaget. Lad os bare bruge det eksempel, som hr. Stavad brugte, nemlig at hr. Stavad tog sig den dristighed at kautionere for et lån, som jeg havde optaget; skal vi sige, at jeg optager et lån i D-mark og hr. Stavad tager den risiko at kautionere for dette lån. Så siger hr. Stavad, at hvis nu skatteministeren kommer i den situation, at han ikke kan indfri sit lån, så bliver kautionen effektiv i forhold til hr. Stavad, og så lider hr. Stavad et tab. Se, efter gældende ret kan hr. Stavad trække sit tab fra. Efter gældende ret bliver hr. Stavad også beskattet af en gevinst. Men hvordan kan jeg nogen sinde få en gevinst, spørger hr. Stavad, for skatteministeren har ikke indfriet sit lån, og jeg, Stavad, skal så indfri kautionen, så jeg lider et tab? Hvordan kan jeg nogen sinde få en gevinst? Jo, hr. Stavad kan godt få en gevinst, for jeg vil jo føle det som en æressag at betale hr. Stavad de penge tilbage, som han har. tabt som følge af, at han har skullet indfri kautionen. Jeg betaler derfor hr. Stavad tilbage i hårde D-mark, og hvis kursen på D-mark i mellemtiden er steget, så vil hr. Stavad opleve en kursgevinst. Efter gældende regler vil hr. Stavad blive beskattet af den gevinst, som netop modsvarer, at han fik fradrag for sit tab. Derfor er systemet i dag logisk og konsekvent; men efter hr. Stavads forslag vil hr. Stavad blive beskattet af sin gevinst, men ikke få fradrag for sit tab. Jeg kan så måske tillade mig at sige, at det synes jeg er helt rimeligt i hr. Stavads tilfælde, men det synes jeg ikke generelt, og derfor er. jeg imod ændringsforslaget. (Kort bemærkning).'"
      ]
     },
     "execution_count": 175,
     "metadata": {},
     "output_type": "execute_result"
    }
   ],
   "source": [
    "Alle_taler[2660]"
   ]
  },
  {
   "cell_type": "markdown",
   "id": "f1e580a0",
   "metadata": {},
   "source": [
    "### Topic 18"
   ]
  },
  {
   "cell_type": "code",
   "execution_count": 178,
   "id": "2a349eba",
   "metadata": {},
   "outputs": [
    {
     "data": {
      "text/plain": [
       "585"
      ]
     },
     "execution_count": 178,
     "metadata": {},
     "output_type": "execute_result"
    }
   ],
   "source": [
    "topics_18 = []\n",
    "topics_18_sand = []\n",
    "for index in range(len(gensim_corpus)):\n",
    "    bow = gensim_dictionary.doc2bow(data_lemmatized[index])\n",
    "    eu_tale_topic_distribution = lda_model.get_document_topics(bow)\n",
    "    for topic, sand in eu_tale_topic_distribution:\n",
    "        if topic == 18:\n",
    "            topics_18.append(index)\n",
    "            topics_18_sand.append(sand)\n",
    "len(topics_18)"
   ]
  },
  {
   "cell_type": "code",
   "execution_count": 180,
   "id": "2c2e609f",
   "metadata": {},
   "outputs": [],
   "source": [
    "topics_18_år = [Alle_taler_år[i] for i in topics_18]\n",
    "topics_18_antal_taler_1980eren = []\n",
    "\n",
    "for år in år_1990erne:\n",
    "    topics_18_antal_taler_1980eren.append(topics_18_år.count(år))\n",
    "topics_18_andel = [topics_18_antal_taler_1980eren[i]/antal_taler_år[i] for i in range(10)]"
   ]
  },
  {
   "cell_type": "code",
   "execution_count": 181,
   "id": "894638b0",
   "metadata": {},
   "outputs": [
    {
     "data": {
      "image/png": "[encoded data removed]",
      "text/plain": [
       "<Figure size 432x288 with 2 Axes>"
      ]
     },
     "metadata": {
      "needs_background": "light"
     },
     "output_type": "display_data"
    }
   ],
   "source": [
    "fig, (ax1, ax2) = plt.subplots(2, 1)\n",
    "ax1.set_title(\"Andel af folketingstaler der nævner EF relateret til topic 18\")\n",
    "ax1.plot(folketingsår, topics_18_andel)\n",
    "ax1.set_ylim([0, 0.1])\n",
    "ax2.set_title(\"Antal af folketingstaler der nævner EF relateret til topic 18\")\n",
    "ax2.bar(folketingsår, topics_18_antal_taler_1980eren)\n",
    "fig.tight_layout(pad=1.0)\n",
    "#fig.savefig(\"plots/1980_erne/Andel_af_folketingstaler_der_nævner_EF relateret_til_topic_20\")"
   ]
  },
  {
   "cell_type": "code",
   "execution_count": 191,
   "id": "8440bc5b",
   "metadata": {},
   "outputs": [],
   "source": [
    "sand_18 = [sand for sand in topics_18_sand]\n",
    "sand_18.sort(reverse = True)"
   ]
  },
  {
   "cell_type": "code",
   "execution_count": 203,
   "id": "f798fc7b",
   "metadata": {},
   "outputs": [],
   "source": [
    "best_sand = topics_18_sand.index(sand_18[2])"
   ]
  },
  {
   "cell_type": "code",
   "execution_count": 204,
   "id": "4938bb7c",
   "metadata": {},
   "outputs": [],
   "source": [
    "best_sand_tale = topics_18[best_sand]"
   ]
  },
  {
   "cell_type": "code",
   "execution_count": 205,
   "id": "1d3ba345",
   "metadata": {},
   "outputs": [
    {
     "name": "stdout",
     "output_type": "stream",
     "text": [
      "1993\n"
     ]
    },
    {
     "data": {
      "text/plain": [
       "\" Der henvises til medfølgende oversigt. Kulturministerens rejser Destination: Bruxelles. Dato: 4.-6. februar 1993. Formål: Åbning af »Danish Visions«-udstil- lingen i Europa-Kommissionen og Rådssekre- tariatet. Møder med kommissær Pinheiro og generaldirektør Colette Flesch. Ledsagere: Departementschef Erik Jacobsen, kontorchef Lasse Lindhard, fuldmægtig Eva Zierau. Pris: Kr. 34.735,14. Destination: Oslo. Dato: 1.-4. marts 1993. Formål: Nordisk Råds 42. session, møde med den norske kulturminister og fællesnordisk kulturministermøde. Ledsagere: Departementschef Erik Jacobsen, kt.chef Lasse Lindhard, ministersekretær Preben Svendsen. Pris: Kr. 30.262,35. Destination: Bruxelles. Dato: 23. marts 1993. Formål: Besøg i Europa-Parlamentet i egenskab af formand for kulturministrene forsamlet i Rådet for De Europæiske Fællesskaber. Tale for Europarådets medlemmer med efterfølgende spørgsmål/svarrunde. Ledsagere: Ingen. Pris: Kr. 6.498,45. Destination: Antwerpen. Dato: 26.-27. marts 1993. Formål: Overværelse af officiel åbning af Antwerp '93 - Antwerpen som europæisk kulturby 1993. Samtaler med EF-kulturministre. Ledsagere: Min. sekr. Preben Svendsen. Pris: Kr. 12.230,72. Destination: Færøerne. Dato: 7.-9. maj 1993. Formål: 1 0-års-jubilæum i Nordens Hus. Deltagelse i Nordisk Råds Kulturudvalgs EF-arbejdsgruppe. Ledsagere: Min.sekr. Preben Svendsen. Pris: Kr. 11.077,60. Destination: Stockholm. Dato: 10.-11. maj 1993. Formål: Baltiske staters konference for kulturministre. Ledsagere: Kontorchef Lise Roepstorff, konsulent Hans Jacob Kjær. Pris: Kr. 11.039,40. Destination: Bruxelles. Dato: 16.-18. maj 1993. Formål: EF-rådsmøde - dansk formandskab. Åbning af udstilling om runer. Ledsagere: Dep.chef Erik Jacobsen, kt.chef Lasse Lindhard, fm. Henrik Birkvad. Pris: Kr. 34.293,00. Destination: Paris. Dato: 26.-28. maj 1993. Formål: Besøg »Les Gobelins« i forbindelse med H.M. Dronningens og H.K.H. Prinsens besøg, samt afsløring af Robert Jacobsenskulptur ved UNESCO-bygningen. Møde med den franske kulturminister. Ledsagere: Dep.chef. Erik Jacobsen, min.sekr. Preben Svendsen. Pris: Kr. 27.556,61. Destination: Riga. Letland. Dato: 12.-13. juni 1993. Formål: Åbning af udstilling med Politikens særtryk i Journalisternes Hus, møde med lettiske kunstnere og kulturbesøg. Ledsagere: Min.sekr. Preben Svendsen. Pris: Kr. 13.826,87. Destination: Harstad, Norge. Dato: 18.-20. juni 1993. Formål: Nordisk Ministerråds sommermøde. Ledsagere: Dep.chef Erik Jacobsen, kt.chef Lasse Lindhard, fm. Margit Vildlyng. Pris: Kr. 33.405,58. Destination: Köln, Tyskland. Dato: 21.-23. august 1993. 12869 Skriftligt besvarede spørgsmål 12870 [Kulturministeren] Formål: Besøg Popkomm i forbindelse med dansk musikfremstød, atelier- og museumsbesøg. Ledsagere: Mus.ekspert Else Bülow, min.sekr. Morten Pedersen. Pris: Kr. 20.171,56. Destination: Californien, USA. Dato: 18.-25. oktober 1993. Formål: Åbning af dansk guldalderudstilling, besøg Danish American Chamber of Commerce, University of California, m.v. Ledsagere: Dep.chef Erik Jacobsen, min.sekr. Morten Pedersen. Pris: Kr. 123.313,34. Destination: Paris og Bruxelles. Dato: 3.-5. november 1993. Formål: Paris: Officiel indvielse af udstillingen »Versailles et les tables royales en Euro- pe« ved den franske kulturminister. Bruxelles: EF-kulturministermøde. Ledsager: Dep.chef. Erik Jacobsen. Pris: Kr. 14.724,85. Destination: Ålandsøerne, Finland. Dato: 8.-9. november 1993. Formål: Nordisk Råds 43. session. Ledsagere: Pris: Kr. 5.723,66. Destination: Oslo. Dato: 5. december 1993. Formål: Overværelse af VM-håndboldfina- len med dansk deltagelse. Ledsagere: Ingen. Pris: Kr. 4.008,00. Destination: Edinburgh, Skotland. Dato: 9.-11. december 1993. Formål: Udstillingsåbning om dansk design ved Dansk Design Center, besøg Det Danske Kulturinstitut. Ledsager: Ass.min.sekr. Bo Asmus Kjeldgaard. Pris: Kr. 20.382,00. Destination: Flensburg. Dato: 22.-23. januar 1994. Formål: Åbning af udstilling om Istedløven. Efter invitation fra arrangørerne, Museet på Sønderborg Slot og Flensborg Bymuseum. Ledsager: Ministersekretær Morten Pedersen. Pris: Kr. 6.049,19. Destination: New York, Boston og Washington. Dato: 9.-17. februar 1994. Formål: Åbning af dansk guldalderudstilling og andre danske kunstudstillinger (New York), besøg MIT's Media Lab (Boston) samt National Endowment for the Arts (chairman Mrs. Jane Alexander), Washington. Ledsagere: Departementschef Erik Jacobsen, ministersekretær Morten Pedersen. Pris: Kr. 91.723,04. Destination: Lillehammer, Norge. Dato: 25.-28. februar 1994. Formål: Overvære vinter-OL. Ledsagere: Ass. ministersekretær Bo Asmus Kjeldgaard. Pris: Kr. 31.684,13. Destination: Stockholm. Dato: 7.-10. marts 1994. Formål: Nordisk Råds 44. session. Ledsagere: Afdelingschef Liselotte Heslet Sestoft, kontorfuldmægtig Vibeke Friis-Jensen. Pris: Kr. 16.154,66. Destination: Paris. Dato: 16. marts 1994. Formål: Åbning af Jacob Jensen design-udstilling i Danmarkshuset. Ledsager: Fuldmægtig Birgitte Blöndal Nøhr. Pris: Kr. 16.286,60. Destination: Athen. Dato: 19.-21. april 1994. Formål: Uformelt kulturministermøde og medieseminar i forbindelse med det græske EU-formandskab. Ledsagere: Departementschef Erik Jacobsen, afdelingschef Liselotte Heslet Sestoft, ministersekretær Morten Pedersen, kulturattaché Per Voetmann. Pris: Kr. 70.014,48. Destination: Reykjavik. Dato: 28.-30. maj 1994. Formål: Nordisk ministerrådsmøde samt besøg i Nordens Hus. Ledsagere: Afdelingschef Liselotte Heslet 12871 Skriftligt besvarede spørgsmål 12872 [Kulturministeren] Sestoft, specialkonsulent Lasse Lindhard, fuldmægtig Peter van Zaane. Pris: Kr. 43.295,41. Destination: Luxembourg. Dato: 16.-17. juni 1994. Formål: EU-rådsmøde for kulturministre. Ledsagere: Departementschef Erik Jacobsen, specialkonsulent Lasse Lindhard, kulturattaché Per Voetmann. Pris: Ikke endeligt afregnet. Destination: Gdansk, Polen. Dato: 18.-19. juni 1994. Formål: Åbning af Det Danske Kulturinstituts afdeling i Gdansk efter indbydelse fra Det Danske Kulturinstitut. Ledsagere: Ministersekretær Morten Pedersen, fuldmægtig Jan Hiul. Pris: Ikke endeligt afregnet. Destination: Kiel, Tyskland. Dato: 24.-26. juni 1994. Formål: Overværelse af Kieler-ugen og Schleswig-Holsteins musikfestival efter indbydelse fra kulturministeren i Schleswig-Holstein. Ledsagere: Ingen. Pris: Kr. 6.970,41. Spm. nr. S 1592 Til landbrugsministeren (4/7 94) af:\""
      ]
     },
     "execution_count": 205,
     "metadata": {},
     "output_type": "execute_result"
    }
   ],
   "source": [
    "print(Alle_taler_år[best_sand_tale])\n",
    "Alle_taler[best_sand_tale]"
   ]
  },
  {
   "cell_type": "markdown",
   "id": "c9fb1fbd",
   "metadata": {},
   "source": [
    "### Topic 19"
   ]
  },
  {
   "cell_type": "code",
   "execution_count": 207,
   "id": "ecd3e060",
   "metadata": {},
   "outputs": [
    {
     "data": {
      "text/plain": [
       "55"
      ]
     },
     "execution_count": 207,
     "metadata": {},
     "output_type": "execute_result"
    }
   ],
   "source": [
    "topics_19 = []\n",
    "topics_19_sand = []\n",
    "for index in range(len(gensim_corpus)):\n",
    "    bow = gensim_dictionary.doc2bow(data_lemmatized[index])\n",
    "    eu_tale_topic_distribution = lda_model.get_document_topics(bow)\n",
    "    for topic, sand in eu_tale_topic_distribution:\n",
    "        if topic == 19:\n",
    "            topics_19.append(index)\n",
    "            topics_19_sand.append(sand)\n",
    "len(topics_19)"
   ]
  },
  {
   "cell_type": "code",
   "execution_count": 208,
   "id": "46c517f1",
   "metadata": {},
   "outputs": [],
   "source": [
    "topics_19_år = [Alle_taler_år[i] for i in topics_19]\n",
    "topics_19_antal_taler_1980eren = []\n",
    "\n",
    "for år in år_1990erne:\n",
    "    topics_19_antal_taler_1980eren.append(topics_19_år.count(år))\n",
    "topics_19_andel = [topics_19_antal_taler_1980eren[i]/antal_taler_år[i] for i in range(10)]"
   ]
  },
  {
   "cell_type": "code",
   "execution_count": 209,
   "id": "83f91d6b",
   "metadata": {},
   "outputs": [
    {
     "data": {
      "image/png": "[encoded data removed]",
      "text/plain": [
       "<Figure size 432x288 with 2 Axes>"
      ]
     },
     "metadata": {
      "needs_background": "light"
     },
     "output_type": "display_data"
    }
   ],
   "source": [
    "fig, (ax1, ax2) = plt.subplots(2, 1)\n",
    "ax1.set_title(\"Andel af folketingstaler der nævner EF relateret til topic 19\")\n",
    "ax1.plot(folketingsår, topics_19_andel)\n",
    "ax1.set_ylim([0, 0.1])\n",
    "ax2.set_title(\"Antal af folketingstaler der nævner EF relateret til topic 19\")\n",
    "ax2.bar(folketingsår, topics_19_antal_taler_1980eren)\n",
    "fig.tight_layout(pad=1.0)\n",
    "#fig.savefig(\"plots/1980_erne/Andel_af_folketingstaler_der_nævner_EF relateret_til_topic_20\")"
   ]
  },
  {
   "cell_type": "code",
   "execution_count": 213,
   "id": "46e32f2e",
   "metadata": {},
   "outputs": [],
   "source": [
    "sand_19 = [sand for sand in topics_19_sand]\n",
    "sand_19.sort(reverse = True)"
   ]
  },
  {
   "cell_type": "code",
   "execution_count": 218,
   "id": "7d967029",
   "metadata": {},
   "outputs": [
    {
     "name": "stdout",
     "output_type": "stream",
     "text": [
      "1997\n"
     ]
    },
    {
     "data": {
      "text/plain": [
       "' Det er selvfølgelig interessant, at Enhedslisten nu er gået i kraftigt forsvar for de undtagelser, som man tidligere har påstået ikke var noget som helst. Men jeg er helt med på, at vi står skulder ved skulder i forsvaret for undtagelserne på disse vigtige områder, som jo netop er områder, der fører frem til en egehtlig unionsudvikling. Her er det helt, helt afgørende, at vi også fortsat står uden for. Jeg synes, det er et problem, også når man hører regeringens argumentation, at man argumenterer udelukkende juridisk. Som jeg har sagt tidligere i dag, har det været utrolig vigtigt for os, at der bliver substans i det her, og at det bliver et udtryk for en ny og langsigtet dansk Europapolitik. Derfor nytter det ikke noget at påstå, at man har nogle juridiske formuleringer stående på et papir, hvis man i substansen, i indholdet, i realiteten ikke lever op til undtagelserne. Her har vi problemerne med Schengenaftalen. Jeg har tidligere i dag gjort rede for, at her er den retlige undtagelse blevet undergravet af vores Schengendeltagelse og af det forhold, at vi bliver tvunget til at skulle gøre, hvad de andre er blevet enige om i realiteternes verden. Derfor er det en væsentlig begrundelse for, at vi anbefaler et nej til Amsterdamtraktaten. Med hensyn til Enhedslistens forslag til vedtagelse synes jeg, det er et problem, at man faktisk i den sidste sætning i forslaget kræver en juridisk bindende form, for problemet er jo ikke primært juridisk, problemet er substansen, nemlig at den retlige undtagelse er blevet undergravet af Schengensamarbejdet. Derfor bryder jeg mig ikke om den formulering; den er ret upræcis, sådan som jeg læser den. 232 Tirsdag den 21. oktober 1997 (F 11) (Kort bemærkning).'"
      ]
     },
     "execution_count": 218,
     "metadata": {},
     "output_type": "execute_result"
    }
   ],
   "source": [
    "best_sand = topics_19_sand.index(sand_19[1])\n",
    "best_sand_tale = topics_19[best_sand]\n",
    "print(Alle_taler_år[best_sand_tale])\n",
    "Alle_taler[best_sand_tale]"
   ]
  },
  {
   "cell_type": "markdown",
   "id": "1584d76f",
   "metadata": {},
   "source": [
    "### Topic 19 og 21"
   ]
  },
  {
   "cell_type": "code",
   "execution_count": 219,
   "id": "650e6e07",
   "metadata": {},
   "outputs": [
    {
     "data": {
      "text/plain": [
       "2128"
      ]
     },
     "execution_count": 219,
     "metadata": {},
     "output_type": "execute_result"
    }
   ],
   "source": [
    "topics_ømu = []\n",
    "topics_ømu_sand = []\n",
    "for index in range(len(gensim_corpus)):\n",
    "    bow = gensim_dictionary.doc2bow(data_lemmatized[index])\n",
    "    eu_tale_topic_distribution = lda_model.get_document_topics(bow)\n",
    "    for topic, sand in eu_tale_topic_distribution:\n",
    "        if topic == 17:\n",
    "            topics_ømu.append(index)\n",
    "            topics_ømu_sand.append(sand)\n",
    "len(topics_ømu)"
   ]
  },
  {
   "cell_type": "code",
   "execution_count": 222,
   "id": "69825565",
   "metadata": {},
   "outputs": [
    {
     "data": {
      "text/plain": [
       "5622"
      ]
     },
     "execution_count": 222,
     "metadata": {},
     "output_type": "execute_result"
    }
   ],
   "source": [
    "topics_folkeafstemning = []\n",
    "topics_folkeafstemning_sand = []\n",
    "for index in range(len(gensim_corpus)):\n",
    "    bow = gensim_dictionary.doc2bow(data_lemmatized[index])\n",
    "    eu_tale_topic_distribution = lda_model.get_document_topics(bow)\n",
    "    for topic, sand in eu_tale_topic_distribution:\n",
    "        if topic == 22:\n",
    "            topics_folkeafstemning.append(index)\n",
    "            topics_folkeafstemning_sand.append(sand)\n",
    "len(topics_folkeafstemning)"
   ]
  },
  {
   "cell_type": "code",
   "execution_count": 223,
   "id": "40fa7f8d",
   "metadata": {},
   "outputs": [],
   "source": [
    "topics_ømu_år = [Alle_taler_år[i] for i in topics_ømu]\n",
    "topics_ømu_antal_taler_1980eren = []\n",
    "\n",
    "for år in år_1990erne:\n",
    "    topics_ømu_antal_taler_1980eren.append(topics_ømu_år.count(år))\n",
    "topics_ømu_andel = [topics_ømu_antal_taler_1980eren[i]/antal_taler_år[i] for i in range(10)]"
   ]
  },
  {
   "cell_type": "code",
   "execution_count": 224,
   "id": "4fc02d2f",
   "metadata": {},
   "outputs": [],
   "source": [
    "topics_folkeafstemning_år = [Alle_taler_år[i] for i in topics_folkeafstemning]\n",
    "topics_folkeafstemning_antal_taler_1980eren = []\n",
    "\n",
    "for år in år_1990erne:\n",
    "    topics_folkeafstemning_antal_taler_1980eren.append(topics_folkeafstemning_år.count(år))\n",
    "topics_folkeafstemning_andel = [topics_folkeafstemning_antal_taler_1980eren[i]/antal_taler_år[i] for i in range(10)]"
   ]
  },
  {
   "cell_type": "code",
   "execution_count": 246,
   "id": "10ec7192",
   "metadata": {},
   "outputs": [
    {
     "data": {
      "image/png": "[encoded data removed]",
      "text/plain": [
       "<Figure size 432x288 with 1 Axes>"
      ]
     },
     "metadata": {
      "needs_background": "light"
     },
     "output_type": "display_data"
    }
   ],
   "source": [
    "fig, ax1 = plt.subplots()\n",
    "ax1.set_title(\"Andel af folketingstaler der nævner EF relateret til topic 17 og 22\")\n",
    "ax1.plot(folketingsår, topics_ømu_andel, color = \"r\", label= \"Topic 17\")\n",
    "ax1.plot(folketingsår, topics_folkeafstemning_andel, color = \"b\", label= \"Topic 22\")\n",
    "ax1.set_ylim([0, 0.5])\n",
    "ax1.legend()\n",
    "fig.savefig(\"Speciale_scripts/plots/1990_erne/Andel_af_folketingstaler_der_nævner_EU_EF_relateret_til_topic_17_22\")"
   ]
  },
  {
   "cell_type": "markdown",
   "id": "e0e13be3",
   "metadata": {},
   "source": [
    "1994/1995?"
   ]
  },
  {
   "cell_type": "code",
   "execution_count": 231,
   "id": "623b7f73",
   "metadata": {},
   "outputs": [
    {
     "data": {
      "text/plain": [
       "534"
      ]
     },
     "execution_count": 231,
     "metadata": {},
     "output_type": "execute_result"
    }
   ],
   "source": [
    "taler_1994 = [i for i in topics_folkeafstemning if Alle_taler_år[i] == \"1994\"]\n",
    "taler_1994_sand = [topics_folkeafstemning_sand[topics_folkeafstemning.index(i)] for i in topics_folkeafstemning if Alle_taler_år[i] == \"1994\"]\n",
    "len(taler_1994)"
   ]
  },
  {
   "cell_type": "code",
   "execution_count": 233,
   "id": "a4dafdb6",
   "metadata": {},
   "outputs": [],
   "source": [
    "sand_1994_f = [sand for sand in taler_1994_sand]\n",
    "sand_1994_f.sort(reverse = True)"
   ]
  },
  {
   "cell_type": "code",
   "execution_count": 243,
   "id": "f1e9c8fc",
   "metadata": {},
   "outputs": [
    {
     "name": "stdout",
     "output_type": "stream",
     "text": [
      "1994\n"
     ]
    },
    {
     "data": {
      "text/plain": [
       "' Fru Jette Gottlieb viser sig at være særdeles velbevandret i Venstres politik. Det skal jeg anerkende, og jeg skal gerne fastslå, at det er Venstres klare og helt ufravigelige forudsætning, at der overhovedet ikke kommer skattekroner i Øresundsprojektet. Det er en forudsætning, som vi har forstået regeringen står bag, og som jeg forstår også økonomiministeren står bag, og som økonomiministeren er ansvarlig for, og det kan vi helt holde os til. Så skal jeg sige til hr. Torben Lund: Venstre har overhovedet ikke foreslået større tilskud til erhvervslivet, tværtimod lavere tilskud, men til gengæld også lavere omkostninger. Det kan hr. Torben Lund alt sammen orientere sig om ved at læse det oplæg fra Venstre og De Konservative, som hedder »På ret kurs igen«. Og så en bemærkning til hr. Ove Fich, som syntes, at det var en underlig måde at skabe offentlig og bred debat om den europæiske udvikling på sådan at starte med at komme med nogle synspunkter. Jamen jeg må stille mig selv det spørgsmål: Hvordan i alverden skulle man ellers få en debat, hvis ikke der var nogen, som var villige til at lægge op til debatten? Venstre har på ingen som helst måde konkluderet. Venstre har bare sagt, hvad der er vore holdninger, hvad vi synes der skal diskuteres, hvilke mål vi gerne vil sætte op, og så håber vi, at andre vil komme med deres synspunkter. Så kan vi få den dialog, som skal til i et folkestyre. Altså må vi have svar på: Hvorfor skal Danmark som det eneste europæiske NATO-land stå uden for Vestunionen? Hvorfor skal vi stå uden for den organisation, som de nye øst- og centraleuropæiske demokratier er helt vilde efter at komme ind i? Hvad er forklaringen på det? Det må vi da have diskuteret. Vi skal også have diskuteret, om vi ikke skal gøre noget mere mod den internationale kriminalitet, mod narkoen over landegrænserne og så videre. Kan det gøres på andre måder end ved, at vi er fuldt og helt med i det retlige og politimæssige samarbejde i Den Europæiske Union? Og er det ikke sådan, at vi kan stabilisere valutaen, vi kan styrke kronen, hvis vi er fuldt og helt med i Den Økonomiske og Monetære Union? Hvis hr. Ove Fich ikke er villig til at gå ind i den diskussion, så får han jo aldrig en folkelig debat. Der må da være nogen, der lægger op til den, og det er altså bare det, vi efterlyser. Vi har 78 Torsdag den 6. oktober 1994 ikke konkluderet. Vi har spillet op til debatten, og vi synes, det er for sølle, at et stort parti som Socialdemokratiet ikke er i stand til det og ikke vil det.'"
      ]
     },
     "execution_count": 243,
     "metadata": {},
     "output_type": "execute_result"
    }
   ],
   "source": [
    "best_sand = sand_1994_f.index(sand_1994_f[8])\n",
    "best_sand_tale = taler_1994[best_sand]\n",
    "print(Alle_taler_år[best_sand_tale])\n",
    "Alle_taler[best_sand_tale]"
   ]
  },
  {
   "cell_type": "markdown",
   "id": "92499ab6",
   "metadata": {},
   "source": [
    "### Miljø topic 4"
   ]
  },
  {
   "cell_type": "code",
   "execution_count": 247,
   "id": "73c26338",
   "metadata": {},
   "outputs": [
    {
     "data": {
      "text/plain": [
       "3698"
      ]
     },
     "execution_count": 247,
     "metadata": {},
     "output_type": "execute_result"
    }
   ],
   "source": [
    "topics_miljø = []\n",
    "topics_miljø_sand = []\n",
    "for index in range(len(gensim_corpus)):\n",
    "    bow = gensim_dictionary.doc2bow(data_lemmatized[index])\n",
    "    eu_tale_topic_distribution = lda_model.get_document_topics(bow)\n",
    "    for topic, sand in eu_tale_topic_distribution:\n",
    "        if topic == 4:\n",
    "            topics_miljø.append(index)\n",
    "            topics_miljø_sand.append(sand)\n",
    "len(topics_miljø)"
   ]
  },
  {
   "cell_type": "code",
   "execution_count": 248,
   "id": "fd440178",
   "metadata": {},
   "outputs": [],
   "source": [
    "topics_miljø_år = [Alle_taler_år[i] for i in topics_miljø]\n",
    "topics_miljø_antal_taler_1980eren = []\n",
    "\n",
    "for år in år_1990erne:\n",
    "    topics_miljø_antal_taler_1980eren.append(topics_miljø_år.count(år))\n",
    "topics_miljø_andel = [topics_miljø_antal_taler_1980eren[i]/antal_taler_år[i] for i in range(10)]"
   ]
  },
  {
   "cell_type": "code",
   "execution_count": 250,
   "id": "766a9ed1",
   "metadata": {},
   "outputs": [
    {
     "data": {
      "image/png": "[encoded data removed]",
      "text/plain": [
       "<Figure size 432x288 with 2 Axes>"
      ]
     },
     "metadata": {
      "needs_background": "light"
     },
     "output_type": "display_data"
    }
   ],
   "source": [
    "fig, (ax1, ax2) = plt.subplots(2, 1)\n",
    "ax1.set_title(\"Andel af folketingstaler der nævner EF relateret til topic 4\")\n",
    "ax1.plot(folketingsår, topics_miljø_andel)\n",
    "ax1.set_ylim([0, 0.5])\n",
    "ax2.set_title(\"Antal af folketingstaler der nævner EF relateret til topic 4\")\n",
    "ax2.bar(folketingsår, topics_miljø_antal_taler_1980eren)\n",
    "fig.tight_layout(pad=1.0)\n",
    "#fig.savefig(\"plots/1980_erne/Andel_af_folketingstaler_der_nævner_EF relateret_til_topic_20\")"
   ]
  },
  {
   "cell_type": "code",
   "execution_count": 251,
   "id": "037bd7ba",
   "metadata": {},
   "outputs": [],
   "source": [
    "sand_miljø = [sand for sand in topics_miljø_sand]\n",
    "sand_miljø.sort(reverse = True)"
   ]
  },
  {
   "cell_type": "code",
   "execution_count": 259,
   "id": "048e7a31",
   "metadata": {},
   "outputs": [
    {
     "name": "stdout",
     "output_type": "stream",
     "text": [
      "1990\n"
     ]
    },
    {
     "data": {
      "text/plain": [
       "\" Både miljøministeren og også andre har givet en meget god beskrivelse af IPCC-rappor- ten og de økologiske problemer, vi er stillet over for, så det vil jeg springe over og starte med handlingerne, med spørgsmålet om, hvordan vi løser den opgave, vi er stillet over for. 723 23/10 90: Forespørgsel vedr. IPCC's rapport om klimaforandringer 724 [Jes Lunde] IPCC anbefaler os en øjeblikkelig reduktion af C02-udledningen med 60 pet., og det blev af miljøministeren karakteriseret som umuligt. Hvis der med øjeblikkeligt menes i næste uge, så er jeg enig. Det kan vi selvfølgelig ikke, men på bare lidt længere sigt håber og tror jeg, at det ikke er umuligt for os at leve op til rapportens anbefalinger. I hvert fald er 20 pct.s reduktion i år 2005 efter min opfattelse for lavt et ambitionsniveau. Vi kan gøre det bedre, hvis vi er villige til at sætte de nødvendige styringsmidler ind. Der er et meget betydeligt potentiale i at producere energien på en måde, der ikke giver C02-udslip. Det, der giver C02-udslippene, er, når vi brænder det fossile brændstof, som har kullet i sig, og hvor C02 frigøres, når man foretager en forbrænding af det. Men vi kender jo nogle alternativer: solenergi, vindenergi, biomasse, geotermisk energi, jordvarme osv. Det er et åbent spørgsmål, hvor meget disse energikilder på kort sigt kan overtage af vores energiforsyning. 15-20 pet. inden for 10 år og 30-40 pet. i løbet af ydeligere 10 år synes i hvert fald teknisk realistisk. Nogle mener, at det kan lade sig gøre at få mere ud af det. Det kræver så en politisk beslutning at gøre det økonomisk realistisk, og det vil jeg vende tilbage til om lidt. Tilsvarende er der et kolossalt potentiale i energibesparelser. Fagfolk mener, at vi kan reducere vort energiforbrug til en tredjedel, uden at det går ud over den materielle komfort, ud fra en rent teknisk vurdering. Igen er det den økonomiske side af sagen, der afgør, om de betydelige besparelser kan sættes i scene. FN-rapportens tidsfrister er imidlertid skrappere i forhold til, hvad ovenstående foranstaltninger kan redde hjem. Opbygningen af den vedvarende energi tager sin tid, og energibesparelser på det skitserede niveau tager endnu længere tid - formentlig 20-30 år - i takt med, at produktionsudstyr, transportmidler og tekniske hjælpemidler i øvrigt bliver udskiftet, og derfor er vi efter alt at dømme også nødt til at acceptere en nedgang i vort materielle niveau på de mest energislugende områder, i al fald midlertidigt og måske også på længere sigt, afhængigt af hvad den teknologiske udvikling bringer os. Stillet over for dette perspektiv må det først og fremmest være oplagt at revurdere vores mål for velfærd. Det har i mange år været en kendt sag blandt økonomer, at bruttonationalproduktet ikke var en rimelig målestok for et lands velfærd; dertil er der alt for mange absurditeter i begrebet. BNP måler snarere omsætning end forbrugsmulighed. Det betyder f.eks., at udgifter til oprensning efter gamle miljøskader øger BNP, mens det fragår i vores forbrugsmuligheder. Lang transport til arbejdet øger den målbare omsætning og dermed BNP, men det enkelte menneske opfatter det modsat som en negativ belastning af velfærden eller levevilkårene. Denne erkendelse er efterhånden også kommet officielt til udtryk i 0konominiinisteriet, hvor man i den kun 14 dage gamle økonomiske oversigt skrev, at BNP ikke er et velfærdsmål. Dertil kommer, at vækst i BNP ofte er det samme som nedgang i ulandene, fordi vi er med til at udpine deres økonomiske grundlag, og det betyder forringede muligheder for kommende generationer. Problemet er nu, at vækst i det gammeldags BNP trods alle erkendelserne fortsat står som en målsætning i den økonomiske politik. Det er et hovedargument for indførelsen af det indre marked, at det vil give en øget vækst i BNP, og det er bl.a. et hovedargument for regeringens skattepolitik, at det vil give øget vækst. Vi ved efterhånden alle, at der skal tages solide forbehold, men de bliver ikke taget, og derfor er vi nødt til at gøre forholdene så konkrete, at de kan indregnes i et kvalitativt nationalprodukt, før de bliver taget rigtig alvorligt. I det kvalitative nationalprodukt må følgeudgifter på sygehusene efter et dårligt arbejdsmiljø trækkes fra i de brancher, der har det dårlige arbejdsmiljø. De penge, vi bruger på transport til vores arbejdsplads, må trækkes fra i erhvervenes værditilvækst som den produktionsomkostning, de rettelig er. Energiudgifterne må tælle med priser, der afspejler deres miljøbelastning, uanset om vi nu har indført disse rigtige priser på markedet. Det kan der nemlig være visse problemer med, som jeg senere skal komme tilbage til. Endelig vil jeg som et sidste hovedområde nævne, at et kvalitativt nationalregnskab også må indeholde en beholdningsopgørelse over begrænsede naturressourcer, akkurat ligesom ethvert virksomhedsregnskab har en saldoopgørelse for kapitalapparatet og en opgørelse af kendte udestående oprydningsarbejder efter tidligere forurening, en slags økologisk gæld, 725 23/10 90: Forespørgsel vedr. IPCC's rapport om klimaforandringer 726 [Jes Lunde] kunne man kalde det, akkurat ligesom et virksomhedsregnskab har gældsposter med. Et kvalitativt nationalregnskab er en ambitiøs opgave, men det er ikke en umulighed. Vi oplever i øjeblikket, at flere private virksomheder er begyndt at interessere sig for at opstille etiske regnskaber ved siden af de traditionelle driftsøkonomiske. Sparekassen Nordjylland har været på banen som de første med et regnskab, der inkluderer virksomhedens effekt på dens omgivelser, også selv om denne ikke har været nem at kvantificere. Så kan det selvfølgelig også lade sig gøre på nationalt plan. Dette skal naturligvis ikke kun bruges i regn- skabssammenhæng, men derimod - endnu vigtigere - når der træffes beslutninger. Samfundsmæssige kalkuler er relevante ikke alene i forbindelse med offentlige investeringsbeslutninger, men så sandelig også i den økonomiske politik og i de arbejdsvilkår, der tilrettelægges for den private sektor. Hvis vi ændrer vores målsætning om vækst til at være kvalitativ vækst, så kan det være, at vi kommer til at opleve en nedgang i det gammeldags BNP, men forbedrede levevilkår, og det må vi så evne at opfatte som det fremskridt, det faktisk er. Før det hele kan ende i en menneskeligt set bedre situation, har vi imidlertid en omstillingsproces foran os, der kommer til at koste noget. Hvis markedsmekanismerne alene skal løse opgaven med at få fremskyndet den vedvarende energi og med at få gennemført meget markante energibesparelser inden for opvarmning, transport og produktion, så vil det formentlig kræve en fire- eller femdobling af energipriserne på fossilt brændstof. Det kan vi bare ikke vedtage. Danmark kan ikke isoleret set fire eller femdoble sine energipriser på et tidspunkt, hvor det indre marked er lige om hjørnet. Den øgede frie passage af alle typer varer over grænsen gør det umuligt at have danske energipriser, der er eksorbitant højere end i Tyskland. Derfor må det afvejes, hvor meget styringsinstrumentet kan bære, før andre lande er med. Det er selvfølgelig ærgerligt, fordi en styring via energipriserne er den mindst bureaukratiske og formentlig også mest effektive metode. Nu tvinges vi til i det mindste som supplement også at gå andre veje med standardkrav, støtte til energibesparende foranstaltninger, forsknings- og udviklingsarbejde osv. i et betydeligt omfang. Pointen er, at det set fra et omkostningssyns- punkt er ligegyldigt, hvordan vi gør det. Hvis vi kan forhøje energiafgifterne, er det logisk at tilbageføre provenuet til erhvervene og samfundets borgere, efter at instrumentet har gjort sin virkning. Hvis en virksomheds elregning stiger med 100.000 kr., fordi kWh-prisen er tredoblet og virksomheden på anden vis får provenuet tilbageført for ikke at bukke under i konkurrencen med udlandet, ja, så har de alligevel fået en særdeles kraftig tilskyndelse til at spare på energien. På længere sigt vil instrumentet indebære, at de, der er gode til at spare, får en gevinst på det, mens de dårlige får en belastning. Den virkning kan vi forstærke, hvis provenuet tilbageføres som et tilskud til energibesparende foranstaltninger. Derimod er det et samfundsøkonomisk problem, at virksomhederne skal investere i energibesparelser, der ikke er rentable i forhold til verdensmarkedsprisen på energi. Det giver et tab i BNP, når virksomhederne skal bruge flere penge på disse investeringer, end det ville have kostet dem at frådse i energi til billige verdensmarkedspriser. Sådan vil det uvægerlig være, så længe prisen på verdensmarkedet ikke afspejler de miljømæssige konsekvenser. Men dette »tab« i BNP er vi nødt til at påtage os, uanset om vi kan bruge afgiftsvejen eller vi skal arbejde med standardkrav m.v. for at gennemføre omstillingen. Vi skal naturligvis bruge de politisk og markedsmæssigt mest hensigtsmæssige metoder, men regningen er uændret. Hvem skal så betale den? Ja, noget af den kan formentlig betales ved, at Danmark kommer forrest i en omstillingsproces, der giver os nogle stærke muligheder for eksport senere, jf. den eksportsucces, vi allerede nu har på det miljøteknologiske område, fordi vi har været foran andre med hensyn til at stille skærpede miljøkrav. Men umiddelbart er der selvfølgelig tale om en omkostning, og den skal vi i princippet alle være med til at betale, akkurat ligesom hvis verdensmarkedspriserne på fossilt brændstof var steget. Det, vi har tilbage at diskutere, er i virkeligheden bare at udforme betalingen på en måde, så det hjælper bedst muligt med til opnåelsen af målsætningerne, og så det bliver mindst muligt socialt skævt. 727 23/10 90: Forespørgsel vedr. IPCC's rapport om klimaforandringer 728 [Jes Lunde] Her er det første trin at lægge en afgift på C02-udslip pr. energiækvivalent, hvad den kan bære, og det næste er at indføre en direkte forbrugsskat med et personligt bundfradrag, justeret for eventuelle forsørgerbyrder, så vi i højere grad beskatter forbrug end indtjening. Vil befolkningen så acceptere alt dette? Jeg tror, at offerviljen er stor, hvis folk føler, at det nytter, og at der løftes i flok. I den forbindelse er det vigtigt, at alle herinde bidrager til at gøre det klart, at drivhuseffekten er alvor, og at der kræves handling for at afværge katastrofen. Når den erkendelse er nået, tror jeg ikke, det bliver vanskeligt at få accept af politikken. At den så i sig bærer kimen til noget, der kan blive rigtig perspektivrigt, er der kun grund til at hilse med glæde.\""
      ]
     },
     "execution_count": 259,
     "metadata": {},
     "output_type": "execute_result"
    }
   ],
   "source": [
    "best_sand = sand_miljø.index(sand_miljø[6])\n",
    "best_sand_tale = topics_miljø[best_sand]\n",
    "print(Alle_taler_år[best_sand_tale])\n",
    "Alle_taler[best_sand_tale]"
   ]
  },
  {
   "cell_type": "markdown",
   "id": "2fd06230",
   "metadata": {},
   "source": [
    "### Topic 14 om landbrug:"
   ]
  },
  {
   "cell_type": "code",
   "execution_count": 260,
   "id": "f6b828c2",
   "metadata": {},
   "outputs": [
    {
     "data": {
      "text/plain": [
       "1028"
      ]
     },
     "execution_count": 260,
     "metadata": {},
     "output_type": "execute_result"
    }
   ],
   "source": [
    "topics_landbrug = []\n",
    "topics_landbrug_sand = []\n",
    "for index in range(len(gensim_corpus)):\n",
    "    bow = gensim_dictionary.doc2bow(data_lemmatized[index])\n",
    "    eu_tale_topic_distribution = lda_model.get_document_topics(bow)\n",
    "    for topic, sand in eu_tale_topic_distribution:\n",
    "        if topic == 14:\n",
    "            topics_landbrug.append(index)\n",
    "            topics_landbrug_sand.append(sand)\n",
    "len(topics_landbrug)"
   ]
  },
  {
   "cell_type": "code",
   "execution_count": 262,
   "id": "7c58a0f1",
   "metadata": {},
   "outputs": [],
   "source": [
    "topics_landbrug_år = [Alle_taler_år[i] for i in topics_landbrug]\n",
    "topics_landbrug_antal_taler_1980eren = []\n",
    "\n",
    "for år in år_1990erne:\n",
    "    topics_landbrug_antal_taler_1980eren.append(topics_landbrug_år.count(år))\n",
    "topics_landbrug_andel = [topics_landbrug_antal_taler_1980eren[i]/antal_taler_år[i] for i in range(10)]"
   ]
  },
  {
   "cell_type": "code",
   "execution_count": 265,
   "id": "bbc51670",
   "metadata": {},
   "outputs": [
    {
     "data": {
      "image/png": "[encoded data removed]",
      "text/plain": [
       "<Figure size 432x288 with 2 Axes>"
      ]
     },
     "metadata": {
      "needs_background": "light"
     },
     "output_type": "display_data"
    }
   ],
   "source": [
    "fig, (ax1, ax2) = plt.subplots(2, 1)\n",
    "ax1.set_title(\"Andel af folketingstaler der nævner EF relateret til topic 14\")\n",
    "ax1.plot(folketingsår, topics_landbrug_andel)\n",
    "ax1.set_ylim([0, 0.2])\n",
    "ax2.set_title(\"Antal af folketingstaler der nævner EF relateret til topic 14\")\n",
    "ax2.bar(folketingsår, topics_landbrug_antal_taler_1980eren)\n",
    "fig.tight_layout(pad=1.0)\n",
    "fig.savefig(\"Speciale_scripts/plots/1990_erne/Andel_af_folketingstaler_der_nævner_EF relateret_til_topic_14\")"
   ]
  },
  {
   "cell_type": "markdown",
   "id": "cc0e1f13",
   "metadata": {},
   "source": [
    "### Landbrug 1997/1998:"
   ]
  },
  {
   "cell_type": "code",
   "execution_count": 280,
   "id": "9f700bb4",
   "metadata": {},
   "outputs": [],
   "source": [
    "landbrug_1996 = [i for i in topics_landbrug if Alle_taler_år[i] == \"1996\"]\n",
    "landbrug_1996_sand = [sand for sand in topics_landbrug_sand if Alle_taler_år[topics_landbrug[topics_landbrug_sand.index(sand)]] == \"1996\"]"
   ]
  },
  {
   "cell_type": "code",
   "execution_count": 283,
   "id": "48ce057d",
   "metadata": {},
   "outputs": [
    {
     "name": "stdout",
     "output_type": "stream",
     "text": [
      "1996\n"
     ]
    },
    {
     "data": {
      "text/plain": [
       "\" Ud over den noget amerikaniserede form og det signal til befolkningen, som lå i åbningstalen, var den fyldt med ganske megen ordflom. Det kan naturligvis skyldes statsministerens ulyst til at formulere sig i klare vendinger, men set fra Enhedslistens synspunkt var der ikke noget nyt under solen. At vi opfatter talen på den måde, skyldes muligvis vores grundlæggende position i det her parlament, i det her Folketing. Regeringen har fyldt de sidste års åbningstaler og lovkataloger med nedskæringer og stramninger over for unge og arbejdsløse. Knap var blækket tørt og de sidste overgangsbestemmelser gennemløbet, før udhuling og indskrænkninger var på dagsordenen igen. I lyset af det forløb er det naturligvis en lettelse, at regeringen nu har dekreteret reformpause på området. Det forekommer bare meningsløst, at en såkaldt reformpause ser ud til at skulle gælde hele arbejdsmarkedsområdet. Når det drejer sig om, at det er nødvendigt med en indsats, der skal gøre arbejde til menneskelig virksomhed og ikke til et marked, hvor der handles med mennesker, er regeringens bud meget, meget tyndt. Virkningen af årtiers høje arbejdsløshed er for længst slået igennem i de arbejdendes vilkår, og arbejdsmarkedet er blevet forbeholdt de raskeste, de hurtigste, de dygtigste. I takt med den nedsatte arbejdstid er arbejdstempoet blevet mere og mere nedslidende, arbejdsmiljøet bliver mere og mere belastende, og den permanente udstødning er en realitet. For ældre og unge og Torsdag den 3. oktober 1996 (R 1) 107 andre, der afviger en lille smule, er mulighederne for at komme ind på arbejdsmarkedet igen ganske små. Hvis man først er ude, er man bagest i rækken. Regeringens væsentligste indsats på dette område har været at etablere et statsautoriseret pseudoarbejdsmarked for dem, som det almindelige arbejdsmarked har udstødt. Det ser ud til, at når ordningen med jobtræning og puljejob er fuldt udbygget, vil der være behov for op imod 100.000 først og fremmest offentlige arbejdspladser af denne karakter, hvis lovens bogstav vel at mærke skal følges. Da den type job skal rumme ekstraordinære opgaver, er det svært at se, hvor der skal blive plads til at udføre alt det ordinære arbejde på normale vilkår. Den langsigtede løsning ligger jo snublende nær. Hvorfor ikke udbyde alle disse opgaver som fuldt normale, ordinære job? Det har vi netop stillet forslag om og har taget med i finanslovforhandlingerne. Det vil være den bedste løsning, også i forhold til den offentlige sektor. Det vil være det bedste for de arbejdsløse, der dermed får et egentligt jobperspektiv i deres arbejde. Men hvor er alle regeringens initiativer, der skulle sætte ind, før udstødning er en realitet? Hvor er sikringen af et ordentligt arbejdsmiljø både fysisk og psykisk? Hvor er sikringen mod ensidigt, gentaget arbejde, som regeringen har lovet initiativer om, der rækker videre end et par puljer til forsøg? Og hvor er indsatsen mod antallet af dødsulykker, et tal, der på det sidste er helt uacceptabelt og viser, at der er en kraftig stigning? Der er teknologi og viden til at bringe dette tal ned til nul, så når det ikke sker, må det være viljen og modet, der mangler. Det er klart, at Enhedslisten som et socialistisk parti må være i fundamental opposition til meget af det, som regeringen står for, og som regeringen for det meste sammen med de borgerlige sætter igennem i salen. Vi betragter f.eks. opbygningen af Den Europæiske Union som værende i fundamental modsætning til vores socialistiske visioner, som skal være et ligeværdigt samarbejde imellem suveræne stater og folkeslag. Vores internationalisme kan ikke reduceres til eurocentrisme, europæiske stormagtsd- rømme og centralt dirigerede bureaukratier. En sådan position bliver naturligvis ikke formildet af statsministerens tale, al den stund vi ved, at regeringen konstant fifler med de fire undtagelser og konstant sætter pejlemærker efter mere Union. Vi betragter også den til mani grænsende fokus på vækst i bruttonationalproduktet som en trussel mod det røde og grønne projekt, det sòlidariske og økologiske projekt, som Enhedslisten står for. Den blinde vækst, som er markedsøkonomiens karakteristikum, er desværre blevet regeringens hovedbanner/og tilsyneladende skal alle spørgsmål indrettes efter denne markedsøkonomiske formel. Vi vil gerne pege en anden vej. Men at vi fra Enhedslistens side fra tid til anden påpeger nogle ting, som vi mener regeringen kunne gennemføre sammen med Enhedslisten, ændrer ikke ved, at Enhedslisten er ganske klar over, at der er en afgrund mellem regeringen og Enhedslisten på en række områder. Der er som nævnt en afgrund, når det drejer sig om EU-spørgsmål, og der er en afgrund, når det drejer sig om at udbygge demokratiet på alle områder. Regeringen har en usædvanlig forkærlighed for udemokratiske styringsinstrumenter som f.eks. det, vi ser med Hovedstadens Sygehusfællesskab. Der er en afgrund mellem Enhedslistens antimilitarisme, fredspolitik, ikkekonfrontationspolitik og syn på Danmarks militære stilling og det, vi ser med regeringens forbrug af penge på området, og de opdrag, som regeringen roder den danske stat ud i. Der er en afgrund mellem Enhedslistens position på det socialpolitiske område og regeringens forkærlighed for brug af tvangsinstrumenter og moralske påpegninger af, at nu skal de smalleste skuldre bære hele læsset - om ikke andet så for et syns skyld. Ja, der kunne nævnes mange flere steder, hvor der er en afgrund til forskel. Men det har fra starten været en præmis, som vi fra Enhedslistens side har taget udgangspunkt i, og at Enhedslisten ikke omgående foreslår denne regerings afgang, skyldes alene, at afgrunden mellem os og de reaktionære partier, Venstre og De Konservative og de to Fremskridtspartier, er endnu større. Det er vigtigt for den socialistiske venstrefløj, at den ikke rammes af total farveblindhed, men vi må dog konstatere, at vi adskillige gange har været i tvivl om vores evne til at skelne farver trods kollektive anstrengelser. Vi har jo konstateret, at regeringen Nyrup Rasmussen blot har fortsat den politik, som de tidligere, konservativt ledede regeringer førte på det økonomiske område, dvs. dele gaver ud til de rige og straffe de fattige for de deraf manglende penge i statskassen. Men vi er også praktiske mennesker i Enhedslisten, og derfor vil vi naturligvis ikke 108 Torsdag den 3. oktober 1996 (R 1) forskertse nogen chance for konkrete forbedringer, som peger i den rigtige retning. Derfor har vi også formuleret vores politiske taktik på den måde, at vi stemmer for enhver forbedring og imod enhver forringelse, og at vi ikke accepterer mudrede forlig, der mikser disse to problemstillinger. I ethvert forslag, vi stemmer for, skal forbedringen kunne forklare afstemningen i sig selv, og vi går naturligvis efter alle de forbedringer, vi kan komme til. Vi har fra Enhedslistens side påpeget en række områder, hvor der burde laves noget fælles mellem regeringen og Enhedslisten. Vi har allerede taget det første initiativ i form af en henvendelse til finansministeren, og vi har præsenteret Enhedslistens oplæg til finanslovforhandlingerne. Hvis vores oplæg bliver godtaget i fuldt omfang, er det vores klare vurdering, at det vil være det første skridt til at vende den linje, som regeringen har kørt i hele sin levetid, og som desværre blot har været en fortsættelse af Schlüters politik på afgørende punkter. Vi har opstillet fem punkter, som for os at se i dette efterår definerer et brud med den tidligere politik og derfor kunne være det første signal om en ny retning. For det første skal alle sociale forringelser tages af bordet i det fremsatte finanslovforslag. Enhedslisten vil aldrig i god tro stemme for sociale forringelser for de grupper i samfundet, som er mindst bemidlede. Man kan sige, at det for os nærmest er et politisk dogme, som rummer den grundlæggende historiske erkendelse, at hvis ikke socialisterne forsvarer de svage, så er der sgu ingen, der gør det ... undskyld! For det andet skal der gennemføres en lovfæstet behandlingsgaranti på sundhedsområdet og tilføres ekstra ressourcer på 2 mia. kr. i 1997. Det har regeringen også gentagne gange givet udtryk for at ville gøre. Vi vil godt understrege, at det naturligvis ikke for os kun handler om at hælde penge i sundhedssektoren. Det skal gøres med omtanke, og derfor har vi også rejst en forespørgselsdebat til statsministeren og sundhedsministeren om udviklingen af det danske sundhedssystem. Vi håber, at der kan komme mere substans på den lidt luftige debat, som Socialdemokratiet og regeringen har præsenteret os for. For det tredje skal der gennemføres en børnepasningsgaranti, som sikrer, at alle forældre kan få et kvalificeret pasningstilbud til deres børn. Dette skal finansieres ved oprettelsen af en jobbank, et forslag, som Enhedslisten flere gange har fremlagt, og som reelt er omkostningsneutralt. For det fjerde er det et fundamentalt krav, at der skal skabes garanti for, at folk ikke ryger ud af dagpengesystemet, og at der skabes nye, reelle job i stedet for det pseudoarbejdsmarked, man i dag tvangsaktiverer folk til på unormale vilkår. Og for det femte skal pengene tages fra de velbjærgede. Deres helt urimelige indirekte tilskud via fradrag m.v. skal fjernes. Vi har i vores finanslovudspil peget på et par konkrete punkter, hvor man kunne starte. Der er nok at tage af. Men derudover er der en række andre punkter, som vi er uenige med regeringen i, og hvor vi har nogle udspil selv. Det drejer sig f.eks. om forholdet til velfærdssamfundet. Det havde ikke nogen særlig central placering i statsministerens åbningstale. Diskussionen om velfærdssamfundet kører jo ellers for fuldt blus uden for denne sal. Diskussionen af socialministerens udspil til en ny bistandslov burde efter vores opfattelse starte en fundamental debat om hele den generelle vurdering af velfærdssamfundet, og derfor sendte vi i sidste uge et forslag til en fælles forespørgsel til samtlige partier. Der var ingen eller negative svar fra regeringen, og derfor har vi stillet den i eget navn. Vi må have en overordnet debat i dette Folketing, og et af de vigtige elementer i den forbindelse er for Enhedslisten, hvordan der kan skabes de substantielle forudsætninger for et nyt solidaritetsprojekt, og hvordan vi kan skabe et velfærdssamfund, der er frigjort for markedsstyring og for formynderi. Mit andet store spørgsmål i denne samling er naturligvis regeringskonferencen. Regeringskonferencen går ind i sin afsluttende fase. Hovedlinjerne ventes at tegne sig på de to kommende topmøder i efteråret, således at det endelige udkast til Maastricht II laves færdig i vinteren/foråret 1996-97. Vi blev ikke synderlig beroliget af åbningstalen, idet vi ser, at regeringen trods de jævnlige besværgelser konstant fifler med de fire undtagelser. Derfor vil vi bl.a. tage følgende initiativer i den kommende folketingssamling for at sætte fokus på centrale spørgsmål i debatten: Vi vil tage initiativer mod ØMU'en, Schengen og Europol. Vi har i øvrigt taget initiativ til, at der bliver rejst en forespørgselsdebat om regeringskonferencen i dette efterår. Derudover har vi lavet en række forslag, bl.a. om nej til flertalsafgørelser vedrørende socialpolitik, miljøafgifter og andre områder. Torsdag den 3. oktober 1996 (R 1) 109 På det miljømæssige område er det også vigtigt, at der bliver gjort en ekstra indsats. Det økologiske landbrug er den eneste måde, hvorpå man kan sikre rent drikkevand i Danmark. Regeringens nuværende strategi, hvor få procent af Danmarks areal udpeges til beskyttelse af drikkevandet, er spild af gode penge, og samtidig er det at foregøgle befolkningen, at den dermed får rent og pesticidfrit drikkevand. Enhedslisten vil konkret arbejde for, at, omlægningstiden nedsættes fra 2 år til 1 år, fordi den lange omlægningstid giver et unødvendigt indtægtstab, da den økologiske landmand allerede har forpligtet sig for 5 år. Afsætningen af økologiske varer skal styrkes ved, at statslige og kommunale institutioner omlægger til indkøb af økologiske varer. Det nuværende 3-årige tilskud til omlægning til økologisk landbrug er ikke nok. De økologiske landmænd skal ganske enkelt ligestilles økonomisk med de konventionelle landmænd. Hovedpointen er nemlig, at EU via tilskud favoriserer de konventionelle landmænd. Med hensyn til det danske drikkevand, som regeringen har proklameret skal være rent, må vi fra Enhedslisten sige, at det ikke er tilstrækkeligt at proklamere, at nu skal der være færre pesticider i grundvandet. Vi vil have dem helt væk. Det er derfor en katastrofe, når man i regeringens plan ikke tager udgangspunkt i, at det er det økologiske landbrug, man skal have fat i. Derudover vil Enhedslisten i det kommende år sætte fokus på byernes økologi. Vi vil ikke begraves i giftige slambjerge, fordi kloakkerne blander industriens giftaffald med menneskegødning og køkkenvand i én pærevælling, så rensningsanlæggene omdannes til selvstændige giftfabrikker. I stedet skal man prøve at tænke byernes økologi ind i en helhed. Det vil vi sætte fokus på. Som det sidste punkt inden fru Jette Gottlieb kommer til vil jeg nævne, at vi vil sætte fokus på det, der hedder magten og magtfordrejningen i det danske samfund. Vi har i en række år været vidner til en stribe ulovligheder. De seneste ulovligheder har været inden for det politiske system med selskabstømninger, ulovlige bank- fradrag, overbelåning af skibe, Færøbanksagen, huller i skatteloven m.v., Det politiske ansvar for disse ulovligheder har det været ganske svært at få placeret, og viljen til at rydde op er påfaldende behersket fra Folketingets flertals side. Enhedslisten har i øvrigt igangsat et større projekt om den økonomiske magt, som handler om det tilsyneladende simple problem: Hvem ejer Danmark? Vi kan konstatere, at Folketingets Magt- og Demokratiudvalg ikke er nået ret langt med det spørgsmål. Det handler naturligvis om bankerne, butikkerne, medierne, skibsrederne m.fl. Vores projekt forventes at strække sig over ét til halvandet år og skal afsluttes med en samlende rapport. Begge dele er elementer i Enhedslistens politik, der også går på at udvide gennemsigtigheden og demokratiet i samfundet, og jeg vil da også benytte lejligheden til at påpege, at det socialistiske samfund, vi kæmper for, er karakteriseret ved et langt mere omfattende demokrati. Økonomien er under demokratisk kontrol, og magtforholdene er åbne og synlige og til debat, hvis det er nødvendigt. Det er bestemt ikke det, der er karakteristisk for Danmark i dag. Enhedslisten ser frem til dette efterår, for der er en række muligheder. Vi er naturligvis i opposition til regeringen og dens politik, men vi håber alligevel på, at der kan laves nogle fornuftige ting. Jeg vil herefter give ordet til fru Jette Gottlieb.\""
      ]
     },
     "execution_count": 283,
     "metadata": {},
     "output_type": "execute_result"
    }
   ],
   "source": [
    "best_sand = landbrug_1996_sand.index(landbrug_1996_sand[2])\n",
    "best_sand_tale = landbrug_1996[best_sand]\n",
    "print(Alle_taler_år[best_sand_tale])\n",
    "Alle_taler[best_sand_tale]"
   ]
  },
  {
   "cell_type": "markdown",
   "id": "d721bf74",
   "metadata": {},
   "source": [
    "### Topic 3 Grønland:"
   ]
  },
  {
   "cell_type": "code",
   "execution_count": 284,
   "id": "05ada829",
   "metadata": {},
   "outputs": [
    {
     "data": {
      "text/plain": [
       "791"
      ]
     },
     "execution_count": 284,
     "metadata": {},
     "output_type": "execute_result"
    }
   ],
   "source": [
    "topics_grønland = []\n",
    "topics_grønland_sand = []\n",
    "for index in range(len(gensim_corpus)):\n",
    "    bow = gensim_dictionary.doc2bow(data_lemmatized[index])\n",
    "    eu_tale_topic_distribution = lda_model.get_document_topics(bow)\n",
    "    for topic, sand in eu_tale_topic_distribution:\n",
    "        if topic == 3:\n",
    "            topics_grønland.append(index)\n",
    "            topics_grønland_sand.append(sand)\n",
    "len(topics_grønland)"
   ]
  },
  {
   "cell_type": "code",
   "execution_count": 285,
   "id": "098093a6",
   "metadata": {},
   "outputs": [],
   "source": [
    "topics_grønland_år = [Alle_taler_år[i] for i in topics_grønland]\n",
    "topics_grønland_antal_taler_1980eren = []\n",
    "\n",
    "for år in år_1990erne:\n",
    "    topics_grønland_antal_taler_1980eren.append(topics_grønland_år.count(år))\n",
    "topics_grønland_andel = [topics_grønland_antal_taler_1980eren[i]/antal_taler_år[i] for i in range(10)]"
   ]
  },
  {
   "cell_type": "code",
   "execution_count": 287,
   "id": "d51e91ad",
   "metadata": {},
   "outputs": [
    {
     "data": {
      "image/png": "[encoded data removed]",
      "text/plain": [
       "<Figure size 432x288 with 2 Axes>"
      ]
     },
     "metadata": {
      "needs_background": "light"
     },
     "output_type": "display_data"
    }
   ],
   "source": [
    "fig, (ax1, ax2) = plt.subplots(2, 1)\n",
    "ax1.set_title(\"Andel af folketingstaler der nævner EF relateret til topic 3\")\n",
    "ax1.plot(folketingsår, topics_grønland_andel)\n",
    "ax1.set_ylim([0, 0.1])\n",
    "ax2.set_title(\"Antal af folketingstaler der nævner EF relateret til topic 3\")\n",
    "ax2.bar(folketingsår, topics_grønland_antal_taler_1980eren)\n",
    "fig.tight_layout(pad=1.0)\n",
    "fig.savefig(\"Speciale_scripts/plots/1990_erne/Andel_af_folketingstaler_der_nævner_EF relateret_til_topic_3\")"
   ]
  },
  {
   "cell_type": "code",
   "execution_count": 292,
   "id": "949c5e26",
   "metadata": {},
   "outputs": [
    {
     "name": "stdout",
     "output_type": "stream",
     "text": [
      "3325\n",
      "12657\n"
     ]
    }
   ],
   "source": [
    "for index in range(len(data_lemmatized)):\n",
    "    tekst = data_lemmatized[index]\n",
    "    if \"færøerne\" in tekst or \"grønland\" in tekst:\n",
    "        if \"idræt\" in tekst:\n",
    "            print(index)"
   ]
  },
  {
   "cell_type": "code",
   "execution_count": 290,
   "id": "4a574a28",
   "metadata": {},
   "outputs": [
    {
     "data": {
      "text/plain": [
       "' »Mener ministeren, at en administration af høreomsorgen fordelt på tre ministerier er i stand til at bevare overblikket, øve kontrol og koordinere arbejdet på en sådan måde, at samfundet får mest muligt udbytte af de bevilligede midler?« Begrundelse Der henvises til begrundelsen for spørgsmål nr. S 1567. Meddelelser fra formanden Fra medlem af Folketinget Mimi Jakobsen, der havde haft orlov, modtog formanden mèddelelse om, at hun fra og med den 24. februar 1998 atter kunne give mødet i Tinget. Vibeke Kiils hverv som midlertidigt medlem af Folketinget ophørte herefter fra nævnte dato at regne. Fra statsministeren havde formanden modtaget følgende skrivelse: »Statsministeriet, den 19. februar 1998. Hermed skal jeg meddele, at Hendes Majestæt Dronningen ved Åbent Brev af 19. februar 1998 har bestemt, at valg til Folketinget udskrives til afholdelse onsdag den 11. marts 1998. Jeg vedlægger det originale Åbne Brev. Poul Nyrup Rasmussen / Peter Lauritzen« Det Åbne Brev har følgende ordlyd: »VI MARGRETHE DEN ANDEN af Guds Nåde Danmarks Dronning Gør vitterligt: Da det af hensyn til lovgivningsarbejdet i Folketinget må anses for ønskeligt, at der afholdes nyvalg til Folketinget, bestemmer Vi herved, at nyvalg til Folketinget afholdes onsdag den 11. marts 1998. For så vidt angår valget på Færøerne og i Grønland er det overladt til henholdsvis Rigsombudsmanden på Færøerne og Rigsombudsmanden i Grønland at bestemme dagen for valgets afholdelse. Givet på Amalienborg, den 19. februar 1998. UNDER VOR KONGELIGE HÅND OG SEGL Margrethe R. / Poul Nyrup Rasmussen« Der blev ikke afholdt flere møder i folketingsårets 1. samling. (1) Onsdag den 25. marts 1998 l 1. møde Onsdag den 25. marts 1998 kl. 12.00 Valg af midlertidig fonnand Aldersformanden (Svend Auken): I henhold til grundloven er Folketinget i dag trådt sammen til sit første møde efter valget den 11. marts 1998. Det er utroligt, men sandt: Jeg er, min beskedne alder til trods, efter valget det medlem, som længst har siddet i Folketinget. Derfor er det ifølge reglerne min opgave i dag at lede Tingets valg af midlertidig formand. Men inden vi går til valget, vil jeg naturligvis gerne ønske alle nyvalgte og genvalgte medlemmer af Folketinget til lykke med valget og udtrykke ønsket om et godt arbejde og samarbejde i Folketinget. Til posten som midlertidig formand for Folketinget har en gruppe bestående af Venstre, Det Konservative Folkeparti, Dansk Folkeparti, Centrum-Demokraterne, Fremskridtspartiet og Kristeligt Folkeparti indstillet Ivar Hansen. Der foreligger ikke andre indstillinger, og derfor er Ivar Hansen valgt til midlertidig formand, hvis ikke afstemning begæres. (Ophold). Ivar Hansen er valgt. Jeg skal herefter give ordet til den nyvalgte midlertidige formand. Meddelelser fra formanden Den midlertidige formand (Ivar Hansen): Jeg vil gerne takke Folketinget for valget af mig som midlertidig formand, og jeg vil også gerne for mit vedkommende byde alle, i særlig grad de nyvalgte medlemmer af Folketinget, velkommen til arbejdet i det nye Folketing. Fra statsministeren har jeg modtaget følgende skrivelse af 23. marts 1998: »Efter statsministerens indstilling er det ved kongelig resolution af 23. marts 1998 besluttet at afskedige i nåde trafikminister Bjørn Rømer Westh, undervisningsminister og kirkeminister Ole Vig Jensen, sundhedsminister Birte Weiss, forskningsminister Jytte Hilden, boligminister Ole Løvig Simonsen, kulturminister Ebbe Lundgaard fra de dem hidtil betroede ministerstillinger, at fritage arbejdsminister Jytte Maria Andersen fra denne stilling og udnævne hende til bolig- og byminister, at fritage erhvervsminister Jan Trøjborg fra denne stilling og udnævne ham til forskningsminister, at fritage skatteminister Carsten Koch fra denne stilling og udnævne ham til sundhedsminister, at udnævne forhenværende minister, medlem af Folketinget Ole Stavad til skatteminister, at udnævne forhenværende minister, medlem af Folketinget Pia Gjellerup til erhvervsminister, at udnævne medlem af Folketinget Sonja Alice Dahl Mikkelsen til trafikminister, at udnævne medlem af Folketinget Elsebeth Gerner Nielsen til kulturminister, at udnævne sekretariatschef Margrethe Vestager Hansen til undervisningsminister og kirkeminister, at udnævne forbundsformand Ove Hygum til arbejdsminister, at sager vedrørende universitetsloven inklusive de af loven omfattede institutioner, bortset fra Danmarks Lærerhøjskole, overføres fra Undervisningsministeriet til Forskningsministeriet, dog undtaget regler om uddannelserne, de dertil knyttede bevillinger og adgang til uddannelserne. Endvidere overføres sager vedrørende Undervisningsministeriets Byggedirektorat, VUE-centret, Rektorkollegiets sekretariat, Forskerakademiet og internationalt universitets- samarbejde inklusive danske forskningsinstitutioner i udlandet fra Undervisningsministeriet til Forskningsministeriet, at sager vedrørende Odense Universitetsbibliotek overføres fra Kulturministeriet til Forskningsministeriet, at sager vedrørende designuddannelse overføres fra Undervisningsministeriet til Kulturministeriet, at sager vedrørende videreuddannelse af sygeplejersker og ergo- og fysioterapeuter overføres fra Sundhedsministeriet til Undervisningsministeriet, k at sager vedrørende psykiatriloven overføres pr. 1. juli 1998 fra Justitsministeriet til Sundhedsministeriet, 2 Onsdag den 25. marts 1998 at sager vedrørende lov om det færøske pengevæsen overføres fra Statsministeriet til Økonomiministeriet, at sager vedrørende Ørestadsselskabet I/S overføres fra Finansministeriet til Trafikministeriet. Jeg tillader mig at anmode hr. formanden om at underrette Folketinget herom. sign. Poul Nyrup Rasmussen /Peter Lauritzen« Statsministeren har meddelt mig, at han i henhold til forretningsordenens § 19, stk. 2, ønsker at give Folketinget en redegørelse om rigets almindelige stilling og \"de af regeringen påtænkte foranstaltninger. Redegørelse af statsministeren i henhold til forretningsordenens § 19, stk. 2 Statsministeren (Poul Nyrup Rasmussen): Den 11. marts sammensatte vælgerne et nyt Folketing. Et nyt arbejde kan gå i gang - et nyt kapitel for Danmark. Men det bliver ikke et arbejde, der fortsætter, som om ingenting er hændt, for vælgerne ville jo mere end det. Regeringen opfatter valgets resultat som udtryk for, at vælgerne også klart tog stilling til, hvilken hovedvej, hvilken retning vi skal vælge for det danske samfunds positive forandringer i det 21. århundrede. Danmark er godt på vej nu. Regeringen bygger det politiske arbejde på to hovedspor. For det første vil vi kompromisløst fastholde den økonomiske kurs, som har sikret den helt forrygende fremgang for Danmark gennem fem år, og for det andet vil vi tage fat på en helt ny tid i vores samfundsudvikling, hvor vi alle med fornuft og med ansvar skal bruge den ny fremgang igennem de seneste fem år til at bringe gælden ned og kvaliteten op i vores land. Men vi vil mere end det. Det er vores ambition at sikre, at Danmark kan klare sig godt i det 21. århundrede i den internationale konkurrence, og samtidig at vi kan gøre det på en sådan måde, at alle - alle - er med, hverken mere eller mindre. Vores samfund skal jo ikke opdeles, så der er nogle, der er indenfor, og nogle, der er udenfor. Vi vil forene den personlige frihed, samhørigheden og fællesskabsfølelsen og vejen til det på en sådan måde, at vi alle kan bidrage, og at vi alle får reelle muligheder for at bidrage. Det er de værdier, vi bygger på i det danske samfund. Det er de værdier, vi vil kæmpe for, og det er de værdier, regeringsgrundlaget er udformet på og dermed hovedlinjerne for de kommende års politiske arbejde, sådan som regeringen ser det. Vi har vel nu små tre måneders arbejde foran os her i Folketinget med en særlig periode på tre uger op til folkeafstemningen. Regeringen er for sit vedkommende ikke i tvivl. I de kommende måneders politiske arbejde er den aller, allervigtigste opgave netop den forestående folkeafstemning om Amsterdamtraktaten. Befolkningens beslutning den 28. maj bliver af afgørende betydning for, hvilke muligheder vi får i vort danske samfund ved indgangen til det 21. århundrede. Vi har et godt afsæt for at gøre os gældende i Europa. Det gælder både politisk, og det gælder økonomisk. Sandheden er jo den, at orden i økonomien er en af forudsætningerne for, at der overhovedet bliver lyttet til os. Lige så klart er det, at præcise holdninger og effektiv forhandlingskraft er forudsætningen for, at vi kan sætte os spor. Vi har gode erfaringer fra de senere års internationale samarbejde. Vi har vist, at et mindre land, et land som vores, båret af ideen om menneskerettigheder, båret af ideen om sammenhold og ordentlig velfærd, båret af ideen om, at vi skal kunne være her alle sammen, godt kan gøre sig gældende internationalt. Vi har vist, at vi kan gøre en forskel. Det synes jeg er vigtigt at understrege som grundlag for befolkningens stilling til Danmarks placering i Europa. Sandheden er jo, at fremgang, frihed og fællesskab ikke blot er noget, vi kan sikre inden for vores eget lands grænse. Det forudsætter også et samarbejde mellem landene. De mål, vi har sat os, kan vi ikke nå alene. Vi kan nå dem i tæt samarbejde med de andre. Jeg vil også gerne i dag understrege, at vi har lært af folkeafstemningen den 2. juni 1992 og den 18. maj 1993. Vi har lyttet, og vi har lært. Danskerne vil jo godt være en del af Europa; Europa må også godt være en del af Danmark, men også kun en del. Vi vil på den ene side gerne være os selv, men heldigvis skal vi aldrig være os selv nok. Jeg synes, der er tre afgørende grunde til, at regeringen vil anbefale den danske befolkning at stemme ja ved den kommende folkeafstemning, og lad mig nævne dem alle tre. Onsdag den 25. marts 1998 3 For det første: Amsterdamtraktaten er en forudsætning for, at EU\\'s udvidelse mod øst kan gå i gang. Det er simpelt hen det afgørende bidrag til varig fred og stabilitet i Europa i det 21. århundrede. For det andet: Amsterdamtraktaten er ganske enkelt en bedre traktat på en lang række områder end den, vi har, først og fremmest fordi vi kan se nu, at vi er kommet igennem med en række danske mærkesager, som vi ikke så så klart før. For det tredje: De fire danske forbehold står uantastede, sådan som regeringen lovede det efter og før regeringskonferencen. De kan kun, som alle ved det, ændres ved en ny folkeafstemning og kun af den danske befolkning. Det er vigtigt at gøre sig klart, at det i høj grad er en dansk-nordisk tankegang, der har sat sit præg på den ny traktat - en vej, en nor- disk-dansk vej, som vi deler med mange andre ligesindede regeringer i Europa efterhånden. Amsterdamtraktaten viser os jo, at Danmark hører naturligt hjemme i det europæiske samarbejde. Med et ja til Amsterdamtraktaten kan vores arbejde for danske værdier i Europa videreføres med stor styrke. Arbejdsløsheden i Europa er jo også historien om den dårskab, der tidligere har præget vort samarbejde eller rettere mangel på samarbejde siden 1970\\'erne, da den første oliekrise ramte os. Nu er beskæftigelsen placeret klart i Traktaten med holdninger og med mål, der gør det muligt for os at undgå fortidens fejl og samarbejde bedre i fremtiden. De nye miljøbestemmelser i EU giver os en placering som den regionale samarbejdsorganisation i verden, der simpelt hen er stærkest, når det gælder det miljømæssige samarbejde. Vi så det klart på den seneste FN-konference i Kyoto, hvor netop EU gjorde sig stærkt gældende. Kort sagt: Med den ny traktat har vi taget et skridt i retning af en langt mere bevidst samarbejdsform på menneskers betingelser og måske i mindre grad så meget på pengenes betingelser. Den ny europæiske virkelighed kan heller ikke tackles med gamle tiders værktøj. Den nye internationale kriminalitet forudsætter nyt samarbejde internationalt. Derfor vil jeg gerne i dag sige ligeud: det er i vores interesse at deltage i det mellemstatslige politisamarbejde, som også er en del af Amsterdamtraktaten. Vi sikrer den nordiske pasunion, samtidig med at vi kan udbygge samarbejdet med de andre lande under fuld respekt af vores forbehold. Det gæl- der også det europæiske samarbejde om flygtningepolitikken. Ordentligt og menneskeligt skal det foregå. Dér skal vi også være med. Men igen: Allervigtigst er det med Europa. Med den ny traktat kan vi starte på opbygningen af et helt og et udelt Europa. Det skal huskes i en tid, hvor vi ofte glemmer gårsdagens nyheder til fordel for dagens nyheder uanset begivenhedernes betydning. Vi har arbejdet hårdt for det Europa, vi nu ser tone frem. Nu er vi så tæt på som aldrig før. Vi kan blive den første generation, der kan gøre os håb om, at der aldrig nogen sinde kommer krige på vores kontinent igen. Nu kan vi give de nye demokratier et håndslag, et håndslag om medlemskab, og ingen - jeg gentager, ingen - vil blive efterladt i usikkerhed. Jeg er ganske overbevist om, at et dansk ja ved den kommende folkeafstemning er selve fundamentet for Danmarks muligheder for at sætte sit præg på den fredsproces, der nu er i gang; det er også afgørende for vores eget selvværd, som jeg ser det, og det er afgørende for vores politiske betydning på vej ind i det 21. århundrede. Politik, økonomi og selvværd indadtil og udadtil hænger sammen og i særlig grad i europæiske sammenhæng. Derfor vil jeg gerne om Europa understrege, at den folkeafstemning, vi skal igennem den 28. maj 1998, ikke blot er endnu én i rækken. Vi har at gøre med en af de vigtigste afstemninger i efterkrigstiden, fordi vi skal tage stilling til, om vi vil bakke foreningen af Øst og Vest op, fordi vi skal række ind over historien og tage fat på den nye tid, der varigt kan erstatte den gamle kolde krig, fordi vi kan sikre Danmarks indflydelse og placering i Europa. Regeringen ønsker ikke et Danmark som passiv iagttager på sidelinjen. Regeringen ønsker at se Danmark som et land, der sætter spor og gør forskel, sådan som vi har vist det indtil nu. Et ja ved den kommende folkeafstemning er det rigtige perspektiv for Danmark i Europa; det rigtige perspektiv for os i det 21. århundrede. Et nej vil sætte Danmark ud på sidelinjen. Dér ønsker vi ikke vi skal være. Med Danmark i fremgang og med en klar vision for Danmarks rolle i Europa kan vi også i dansk indenrigspolitik nu lægge sporene frem til år 2005. Vi vil fastholde den kurs, der er lagt i den økonomiske politik, og som har givet os så flotte resultater på mindre end fem år. Det er det eneste ansvarlige, for orden i økonomien er forudsætningen for frihed og velfærd for den 4 Onsdag den 25. marts 1998 enkelte og for samfundet som helhed. Et stort og et stigende overskud på de offentlige finanser er forudsætningen for, at gælden kan blive nedbragt afgørende i de nærmeste år, så den næste generation ikke skal trækkes med store byrder fra gammel gæld. Men den økonomiske fremgang skal også sikres og anvendes med fornuft. Derfor lægger regeringen op til en række reformer i de kommende år, som skal binde fremgangslinjen for Danmark sammen med et stadig mere robust samfund, der giver alle chancer for et godt og ordentligt liv. Velfærdssamfundet betyder jo også, at vi skal undgå kløfter i den danske befolkning. Regeringen vil derfor prioritere højere kvalitet i velfærdssamfundet præcis på alle de områder, hvor man virkelig kan sige, befolkningen lægger vægten: Sygehusene skal fungere bedre, og ventelisterne skal ned. Hjemmehjælpen og ældreomsorgen skal sikres, som vi har lovet det, så alle får den nødvendige service. Vi skal medvirke til at skabe rammer for, at forældre får mere tid til deres børn, at arbejdsliv og familieliv kommer til at passe bedre sammen. Det er ikke en opgave, vi kan løse alene her i Folketinget. Vi kan gøre noget, men det forudsætter også, at arbejdsmarkedets parter er med, og at den enkelte familie virkelig prioriterer det højt. Kort sagt: Vores arbejdsmarked skal skabe plads til både de lidt ældre, til familien og til de lidt svagere, uden at vores konkurrencekraft og dermed beskæftigelsesfremgang svækkes. Vores skole og alle vores uddannelser, inkl. voksen- og efteruddannelserne, skal igennem et fornyelsens- og et serviceeftersyn. Det skal fungere bedre. Det er et godt udgangspunkt, vi har, men det kan gøres bedre, så vi alle kan klare os i det næste århundrede. Regeringen ønsker også kulturen sat højt på den politiske dagsorden, hvad enten det gælder musik, billedkunst, litteratur, teater, film eller idræt. Og jeg vil også gerne i dag understrege, at den danske folkekirke fortsat for regeringen er et bærende led i vort samfunds værdigrundlag. Den grønne miljøpolitiske linje vil blive fortsat og forstærket. Regeringen har sat sig for, at de kommende generationer ikke skal overtage en miljøgæld i form af forringet vandmiljø, bortgemte affaldsdepoter og en ringere natur. Vi vil simpelt hen aflevere en mindre miljøgæld end den, vi overtog. Anvendelsen af bekæm- pelsesmidler skal minimeres, og på en række områder skal de helt væk. Den kollektive miljøvenlige trafik skal styrkes. Skatter og afgifter skal også bidrage hertil. Kvaliteten af de danske fødevarer skal sikres bl.a. på baggrund af bedre dyrevelfærd og strammere fødevarekontrollovgivning. Vi skal være foregangsland i produktion af sunde fødevarer. Regeringen vil arbejde for forenkling af de offentlige ydelser, og vi vil også kritisk se på de særregler og de uheldige samspil, som kan betyde, at mennesker, der kommer fra arbejdsløshed og til arbejde, oplever, at den ekstra gevinst bliver spist op af netop sådanne uheldige sammenfald. Gennem et socialt skatteloft skal det sikres, at der altid er en ekstra gevinst ved at gøre et stykke arbejde. Umiddelbart er der en række opgaver foran os, som regeringen lægger vægt på at løfte: Udlændingelovgivningen, vandmiljøplanens praktiske udmøntning, en række retspolitiske lovinitiativer, domstolenes uafhængighed m.v. Jeg vil gerne understrege som det samlende punkt for den form for lovgivning, at regeringen er meget bevidst om at gøre en ekstra indsats for de syge, de udsatte, de sindslidende, de handicappede og de ældre, der har behov herfor. Kort sagt: Vores økonomiske fremgang skal ikke udmøntes i skattelettelser. Det ser vi ikke behov for. Det ser vi ikke mulighed for. Vores økonomiske fremgang skal bruges til at give alle i vores land mulighed for at deltage i samfundslivet. Vi skal ikke blot tilrettelægge en langsigtet politik, der sigter på et rigere samfund målt i penge, men også på et bedre samfund med større kvalitet og menneskelighed. Vi skal bygge på en ansvarlig politik. Vi skal bygge på et konkurrencedygtigt erhvervsliv med en aktiv erhvervspolitik med sikker fremgang. Regeringens erhvervspolitik, uddannelsespolitik og forskningspolitik og en fortsat fornyelse af vores arbejdsmarkedspolitik skal sikre os et dygtigt erhvervsliv som grundlag for fremtidens velfærd. Danmark kan få en god start i det 21. århundrede, ja. Regeringen vil styrke det forebyggende Danmark, for velfærdssamfundet skal langt mere bygge på forebyggelse frem for at lappe på problemer, der er skabt. Det gælder i retspolitikken. Vi skal ganske vist bygge nye sikre afdelinger i vores fængsler, ja, for det er nødvendigt. Men ikke kun det, for Onsdag den 25. marts 1998 5 vi skal gennem en effektiv forebyggende politik undgå, at flere unge kommer ind på en kriminel løbebane. Vi skal fastholde en human og effektiv udlændingepolitik, ja. Vi skal hjemsende afviste asylansøgere og falske flygtninge, ja, men vi skal mere end det: Vi skal genopbygge de fattige ulande, så mennesker kan vende tilbage dertil og nye flygtningestrømme undgås. Vi skal styrke vores bolig- og bysociale indsats i de større byer og derigennem forebygge, at stærkere sociale spændinger opstår i befolkningen. Vi skal sikre et bedre sygehusvæsen og sundhedsvæsen med kortere ventelister, ja, men vi skal mere end det: Vi skal forebygge på arbejdspladsen, og vi skal forebygge arbejdsmiljøskader gennem en opstramning af lovgivningen. Vi skal have renset vores grundvand, ja, men vi skal mere end det: Vi skal satse på en konsekvent miljøpolitik, der sikrer os rent vand i fremtiden. Vi skal gøre en langt mere effektiv indsats, der én gang for alle standser udstødningen af mennesker i vores land og sikrer, at alle kommer med igen, men vi skal mere end det: Vi skal indrette vores folkeskole og alle vores uddannelsespolitiske tilbud, sådan at de unge ikke falder fra, som vi ser alt for mange stadig gør det. Kort sagt: Her ved dette århundredeskifte vinker vi farvel til et reparationssamfund og siger goddag til forebyggelse og en vision om et selvbærende samfund. I forhold til vores rigsfællesskab vil regeringen ligeledes tage fat på en række konkrete arbejdsopgaver. Det gælder både i forhold til Grønland og i forhold til Færøerne. Det samarbejde skal udvikles, men det skal fortsat bygge på gensidig forståelse og på gensidig respekt. Med Færøernes og Grønlands landsstyre har regeringen nu indledt forhandlinger om bloktilskuddene med henblik på en snarlig afslutning. Regeringen har forståelse for et eventuelt færøsk ønske fra det nyvalgte Lagting om at drøfte ændringer af den nu halvtreds år gamle hjemmestyreordning med henblik på at udvide Færøernes selvstyre og selvbestemmelse. Regeringen vil også over for et nyvalgt Lagting tage initiativ til, at udestående spørgsmål i forhold til Færøerne forhandles snarest, så der kan findes løsninger til tilfredshed for begge parter. Det gælder såvel i bankspørgsmålet som i de kommende forhandlinger om gældsafvikling, hvor regeringen vedstår sig det tilsagn, man har givet, nemlig tilsagnet om at finde løsninger, der tager hensyn til bæredygtigheden i det færøske samfunds fremtid. Regeringen vil også samarbejde med det grønlandske hjemmestyre og gennemføre en reform af det grønlandske retsvæsen, når den grønlandske retsvæsenskommission har færdiggjort sit arbejde. Vi vil også snarest gennemføre de aftalte ændringer af den råstofforhandling og aftale, der netop er gennemført. Vælgerne har sammensat et Folketing, som regeringen indbyder til et bredt samarbejde. Vi ser gode samarbejdsmuligheder foran os. Vi er overbevist om, at netop bredden i samarbejdet sikrer langtidsholdbarheden i vores lovgivning. Vi vil give Danmark den bedst tænkelige start i det 21. århundrede. Derfor drejer vores politik sig ikke alene om at fortsætte dér, hvor vi slap. Den drejer sig også om det næste store ryk: Et samfund, der er reformeret og fornyet økonomisk og miljømæssigt, et samfund med langt flere valgmuligheder for den enkelte, et samfund, hvor den personlige frihed er ægte og reel, fordi den er båret af et stærkt og velfungerende fællesskab, og et Danmark, hvor velfærdssamfundets vitalitet er sikret - ikke formelt i centralistisk lovgivning, men i et bredt samarbejde, hvor alle mennesker er med. Regeringen har nu fremlagt sit regeringsgrundlag. Det er ikke en fuldstændig facitliste over de kommende års politiske arbejde. Det er et omrids af de opgaver, vi prioriterer højt. Regeringens arbejdsmetode er samarbejdets metode; dels her i Folketinget og dels med alle grupper i det danske samfund. Vi lægger derfor afgørende vægt på i de kommende måneder og år at forstærke vort samarbejde med kommuner og amter. Der er en stor opgave foran os, der hedder at løfte kvaliteten i den offentlige service, samtidig med at vi fastholder stramheden og aftalerne i de kommunale budgetter. Vi vil samarbejde endnu mere intenst med arbejdsmarkedets parter gennem trepartsdrøftelser om fremtidens arbejdsmarked. Der er mange opgaver, som vi skal løfte i fællesskab: hensynet til familien, seniorpolitikken og det sociale ansvar, som virksomhederne må bære i større omfang i fremtiden. Vi vil samarbejde med erhvervslivet og alle erhvervsorganisationer om de store nye udviklingsopgaver, såvel når det gælder forskning, 6 Onsdag den 25. marts 1998 uddannelse, forenkling som andre konkurrenceelementer. Vi vil samarbejde med de frivillige organisationer og netværk. De er ikke et minus for Danmark, men et kolossalt plus og et stort potentiale - lige fra ældreorganisationer til ungdomsorganisationer. Uden dem kan vi jo heller ikke løfte den store opgave, det er, at få alle mennesker med i et aktivt liv i Danmark. Vi sætter en samarbejdsproces i gang nu, hvor de allervigtigste spørgsmål udspringer af vores værdigrundlag og vores bevidsthed om den ny verden, som Danmark er en del af. Vi vedstår os gerne, at vi ikke har svar på alting, men vi er overbevist om, at vi finder de bedste svar gennem et bredt samarbejde både her i Folketinget og med alle befolkningsgrupper i Danmark. Regeringen inviterer hermed alle i Tinget til et godt samarbejde til gavn for Danmarks fremtid. Valg af et foreløbigt udvalg på 21 medlemmer til prøvelse af valgene Den midlertidige formand (Ivar Hansen): I henhold til forretningsordenens § 1, stk. 2, skal der i dette møde nedsættes et foreløbigt udvalg på 21 medlemmer til prøvelse af valgene. Til dette valg er anmeldt følgende valggrupper: en gruppe på 97 medlemmer: Socialdemokratiet, Socialistisk Folkeparti, Centrum-Demokråterne, Det Radikale Venstre og Enhedslisten; en gruppe på 81 medlemmer: Venstre, Det Konservative Folkeparti, Dansk Folkeparti, Fremskridtspartiet og Kristeligt Folkeparti. Valgt blev:'"
      ]
     },
     "execution_count": 290,
     "metadata": {},
     "output_type": "execute_result"
    }
   ],
   "source": [
    "Alle_taler[12657]"
   ]
  },
  {
   "cell_type": "markdown",
   "id": "e001162c",
   "metadata": {},
   "source": [
    "# Maastricht og Edinburgh:"
   ]
  },
  {
   "cell_type": "code",
   "execution_count": 129,
   "id": "230f1ba5",
   "metadata": {},
   "outputs": [],
   "source": [
    "EU_ord_maastriicht = [\"maastricht\", \"edinburgh\"]"
   ]
  },
  {
   "cell_type": "code",
   "execution_count": 130,
   "id": "c3697445",
   "metadata": {},
   "outputs": [],
   "source": [
    "eu_taler_90erne_maastricht = {}\n",
    "for år in Folketingsår_opdelt_per_taler_90erne:\n",
    "    #start = time()\n",
    "    eu_tale_år = []\n",
    "    eu_parti_år = []\n",
    "    eu_taler_år = []\n",
    "    for index in range(len(Folketingsår_opdelt_per_taler_90erne[år][0])):\n",
    "        tale = Folketingsår_opdelt_per_taler_90erne[år][0][index]\n",
    "        for ord_ in EU_ord_maastriicht:\n",
    "            if len(re.findall(ord_, tale.lower())) > 0:\n",
    "                eu_tale_år.append(tale)\n",
    "                eu_parti_år.append(Folketingsår_opdelt_per_taler_90erne[år][1][index])\n",
    "                eu_taler_år.append(Folketingsår_opdelt_per_taler_90erne[år][2][index])\n",
    "                break\n",
    "    eu_taler_90erne_maastricht[år] = []\n",
    "    eu_taler_90erne_maastricht[år].append(eu_tale_år)\n",
    "    eu_taler_90erne_maastricht[år].append(eu_parti_år)\n",
    "    eu_taler_90erne_maastricht[år].append(eu_taler_år)\n",
    "    #slut = time()\n",
    "    #print(slut-start) til at time loopsne"
   ]
  },
  {
   "cell_type": "code",
   "execution_count": 131,
   "id": "deb842ff",
   "metadata": {},
   "outputs": [
    {
     "data": {
      "text/plain": [
       "190"
      ]
     },
     "execution_count": 131,
     "metadata": {},
     "output_type": "execute_result"
    }
   ],
   "source": [
    "len(eu_taler_90erne_maastricht[\"1994\"][0])"
   ]
  },
  {
   "cell_type": "code",
   "execution_count": 132,
   "id": "768d372d",
   "metadata": {},
   "outputs": [
    {
     "name": "stdout",
     "output_type": "stream",
     "text": [
      "1990: 0\n",
      "1991: 146\n",
      "1992: 382\n",
      "1993: 138\n",
      "1994: 190\n",
      "1995: 147\n",
      "1996: 232\n",
      "1997: 155\n",
      "1998: 56\n",
      "1999: 118\n"
     ]
    }
   ],
   "source": [
    "for år in eu_taler_90erne_maastricht:\n",
    "    print(f\"{år}: {len(eu_taler_90erne_maastricht[år][0])}\")"
   ]
  },
  {
   "cell_type": "code",
   "execution_count": 133,
   "id": "3c45fd8a",
   "metadata": {},
   "outputs": [
    {
     "name": "stdout",
     "output_type": "stream",
     "text": [
      "8.821487426757812e-06\n",
      "19.32711100578308\n",
      "42.672616958618164\n",
      "24.211318969726562\n",
      "22.661864757537842\n",
      "16.3078830242157\n",
      "27.395601272583008\n",
      "19.11690092086792\n",
      "9.913466930389404\n",
      "14.296633005142212\n"
     ]
    }
   ],
   "source": [
    "tekster_klar_maastricht = []\n",
    "for år in eu_taler_90erne_maastricht:\n",
    "    #allowed_postags=['NOUN', 'ADJ', 'VERB']\n",
    "    start = time()\n",
    "    for tekst in eu_taler_90erne_maastricht[år][0]:\n",
    "        tale_spacy = nlpd(tekst.lower())\n",
    "        #tokens = [str(token.lemma_).lower() for token in tale_spacy]\n",
    "        tokens = [token for token in tale_spacy]\n",
    "        tokens_uden_tegn = [str(token) for token in tokens if token.pos_ not in typer_spacy]\n",
    "        #tokens_uden_stopord = [token for token in tokens_uden_tegn if token not in stopord]\n",
    "        tekster_klar_maastricht.append(tokens_uden_tegn)\n",
    "    end = time()\n",
    "    print(end-start)"
   ]
  },
  {
   "cell_type": "code",
   "execution_count": 134,
   "id": "7ca5ae35",
   "metadata": {},
   "outputs": [],
   "source": [
    "Alle_taler_maastricht = []\n",
    "Alle_taler_år_maastricht = []\n",
    "Alle_taler_parti_maastricht = []\n",
    "Alle_taler_taler_maastricht = []\n",
    "for år in eu_taler_90erne_maastricht:\n",
    "    for index in range(len(eu_taler_90erne_maastricht[år][0])):\n",
    "        Alle_taler_maastricht.append(eu_taler_90erne_maastricht[år][0][index])\n",
    "        Alle_taler_parti_maastricht.append(eu_taler_90erne_maastricht[år][1][index])\n",
    "        Alle_taler_taler_maastricht.append(eu_taler_90erne_maastricht[år][2][index])\n",
    "        Alle_taler_år_maastricht.append(år)"
   ]
  },
  {
   "cell_type": "code",
   "execution_count": 135,
   "id": "c573317f",
   "metadata": {},
   "outputs": [
    {
     "data": {
      "text/plain": [
       "\" Når man læser teksten til forespørgslen, og måske især når man hører ordføreren for Enhedslisten, ledes man meget let til den konklusion, at EU-beslutninger systematisk sænker dansk standard på miljøområdet, arbejdsmiljøområdet, sundhedsområdet og forbrugerområdet. Det er en myte, der desværre trives alt for vel. Sandheden er, at EU-reguleringen i langt de fleste tilfælde har været på dansk niveau eller over. Det er dokumenteret i en række bilag i Europaudvalget, og det undrer mig, at især hr. Keld Albrechtsen kan hævde det modsatte, når han selv er medlem af Europaudvalget. Hvis man kigger på disse bilag, viser data følgende: På miljøområdet er der i perioden 1992-93 kommet 29 direktiver eller forordninger, som forbedrer de danske regler, og 3, der gør dem dårligere. Der er f.eks. kommet bedre regler for grænseoverskridende transport af farligt affald inden for EU, for luftforurening fra store fyringsanlæg, Torsdag den 23. marts 1995 (F 24) 4237 for en tidlig udfasning af HCFC og methylbro- mid og for udslipsgrænser ved forbrænding af farligt affald. Udenrigsministeren nævnte selv en række andre eksempler. På forbrugerområdet er der kommet 8 direktiver og forordninger, som alle sammen har ført til en bedre standard. Der er nul, der har ført til en lavere. Det er f.eks. om produktsikkerhed, produktmærkning, timeshareregler og forbrugerbeskyttelse ved fjernsalg. På sundhedsområdet er der kommet 20 regler, der har forbedret situationen. Der er desværre også kommet 5, der har forringet den; madsminken er her den mest kendte. På arbejdsmiljøområdet er det således, at man kører frem efter artikel 118 A, som er en minimumsregel, og det vil sige, at der på arbejdsmiljøområdet ikke kan ske forringelser. Det er heller ikke sket, tværtimod er der sket nogle forbedringer. Må jeg erindre om skærmterminaldirektivet? Må jeg erindre om rammedirektivet for sikkerhed og sundhed på arbejdsmiljøet? Enhedslistens alternativ til den fremgang, vi er i gang med her, er et reguleret marked, som, og det står også i forslaget om motiveret dagsorden, vil betyde en massiv grænsekontrol af alle produkter, og et ureguleret marked, som vil betyde, at vi ikke vil have nogen muligheder for at gribe ind over for grænseoverskridende forurening fra andre lande. Det synes vi er et dårligt alternativ. Vi synes i stedet, at vi i virkeligheden fik forbedret vore muligheder med Maastricht-Trak- taten. Den var et stort skridt fremad. I den tales der om bæredygtig udvikling, at miljø skal integreres på alle områder, at forureneren skal betale osv. Men, og her kommer det store men, desværre lever EU og EU-landene endnu ikke fuldt op til Maastricht-Traktatens intentioner. Jeg vil godt give nogle eksempler herpå. Når det indre markeds konkurrenceregler kommer i konflikt med miljøet, er det for ofte miljøet, der må vige. Vi har diskussionen om kreosot, men vi har til gengæld ikke den diskussion, som hr. Keld Albrechtsen forsøgte at rejse om PCB. PCB er forbudt i Danmark, og PCB forbliver forbudt i Danmark. Et andet problem er selvfølgelig det indre markeds harmoniseringsregler, når ny viden betyder, at vi gerne i et enkelt eller flere lande vil indføre højere standarder; det kan være overordentlig vanskeligt. Et tredje problem er, at der kan vedtages forslag på andre politikområder, som påvirker miljøet. Pesticider har været nævnt. Et fjerde problem er, at industriens lobbyister på grund af den stadig væk alt for store lukkethed i Kommissionen har for let spil. Vi ved ikke, hvem der påvirker, og vi ved ikke, på hvilken måde de påvirker. Den standende diskussion om eksport af farligt affald til tredjelande kunne tyde på, at nogle industrilobbyister har for let spil. For det femte påpeger Revisionsrettens årsrapport det uhensigtsmæssige i, at EU somme tider finansierer industriproduktioner, der medfører en ganske stor forurening, og så samtidig på den anden side finansierer oprydningen efter denne forurening. Så der er en række problemer, og dem synes jeg vi skal gøre noget for at løse både i det daglige EU-arbejde og under regeringskonferencen i 1996. Socialdemokratiet har gjort sig nogle tanker i den anledning, og jeg vil gerne sige til hr. Keld Albrechtsen, at vi ikke konsulterer Venstre, før vi fremlægger socialdemokratiske tanker. For det første mener vi, at vi skal foretage en genopretning af miljøgarantien på en sådan måde, at miljøgarantien får den værdi, som regeringen i 1986 sagde den havde. Vi synes også, at det skal gøres muligt, såfremt der frem-. kommer ny viden, at lande kan gå videre i beskyttelsen af miljø og sundhed. For det andet mener vi, at miljøet må integreres på alle områder, f.eks. med hensyn til landbrug, transport, fiskeri, energipolitik osv., og også regionalt. Det må ikke være således, at man ved at henlægge en beslutning til et andet område kan slippe uden om miljøreglerne. For det tredje mener vi, at der skal være mere åbenhed i Europa-Kommissionen, så det bliver synligt, hvilke interesseorganisationer der bliver hørt, og hvad deres høringssvar er. Herunder ser vi selvfølgelig gerne, at miljøorganisationer, fagforeninger og andre bliver inddraget i høringsprocessen. For det fjerde synes vi, at alle miljøafgifter burde kunne vedtages med kvalificeret flertal. Desværre har vi set problemerne med at få vedtaget en CO2-afgift, fordi der kræves enstemmighed. I øvrigt vil jeg gerne i denne sammenhæng komme med en opfordring til Europa- Kommissionen om at. være mere offensiv på miljøafgiftsområdet. Hidtil har man kun fremlagt ét eneste forslag, nemlig CO2-afgiften. Vi mener, at man for længst burde have foreslået en række andre miljøafgifter. 4238 Torsdag den 23. marts 1995 (F 24) Nu da jeg er i det humør med at opfordre Europa-Kommissionen, vil jeg også godt opfordre den til mere systematisk at komme efter de lande, der ikke til tiden gennemfører de miljødirektiver, der allerede er vedtaget. Der er et stort efterslæb på dette felt. Derudover vil jeg for det femte gerne fastslå, at strukturfondene bør indrettes således, at de fremmer en bæredygtig udvikling. Det skal være en betingelse for, at man kan få støtte fra strukturfondene. Dette er nogle eksempler på, at reglerne, der regulerer miljø, sundhed, forbrugerbeskyttelse og arbejdsmiljø, kan forbedres. Men hvis man vil forbedre, er det selvfølgelig afgørende, at man går ind i processen, at man deltager i den politiske kamp, og jeg må sige, at der i Europa er mange borgerlige kræfter, som gerne vil forhindre disse fremskridt. Enhedslisten har efter vores opfattelse sat sig helt uden for denne kamp. Enhedslistens formål er ganske enkelt at få Danmark ud af Den Europæiske Union og så lade befolkningen i Europa sejle sin egen sø. Derfor tæller vi ikke Enhedslisten med til dem, der vil forbedre reglerne på miljøområdet, sundhedsområdet og forbrugerområdet i Europa. Vi ønsker at gøre en stor indsats på dette felt, og vor målsætning er, at det, der i dag hedder Den Europæiske Union, en dag af borgerne i Europa vil blive opfattet som en miljøunion. Jeg skal til slut på vegne af Socialdemokratiet, Venstre, Det Konservative Folkeparti, Det Radikale Venstre og Centrum-Demokraterne fremsætte følgende: Forslag om motiveret dagsorden »Folketinget opfordrer regeringen til - i EU fortsat at fremme hensynet til vækst, beskæftigelse og miljø som udtryk for en langsigtet dansk EU-politik, - i EU at fremme tankegangen i kapitel 10 i Kommissionens hvidbog om vækst og beskæftigelse, - at arbejde for, at EU's indre marked gennemføres, således at vigtige nationale beskyttelsesforanstaltninger på miljøområdet kan opretholdes, og - i EU at arbejde for på alle måder at styrke miljø- og sundhedssynspunkter, herunder at sikre høje minimumsbestemmelser. Herefter går Tinget over til næste sag på dagsordenen.« (Dagsordensforslag nr. D 51).\""
      ]
     },
     "execution_count": 135,
     "metadata": {},
     "output_type": "execute_result"
    }
   ],
   "source": [
    "Alle_taler_maastricht[randint(0, len(Alle_taler_maastricht))]"
   ]
  },
  {
   "cell_type": "code",
   "execution_count": 136,
   "id": "49a0dd4c",
   "metadata": {},
   "outputs": [],
   "source": [
    "processed_data_maastricht = []\n",
    "for tekst in tekster_klar_maastricht:\n",
    "    str_tekst = [str(token) for token in tekst]\n",
    "    processed_data_maastricht.append(str_tekst)"
   ]
  },
  {
   "cell_type": "code",
   "execution_count": 137,
   "id": "27b07f17",
   "metadata": {},
   "outputs": [],
   "source": [
    "bigram_maastricht = gensim.models.Phrases(processed_data_maastricht, min_count=5, threshold=100)\n",
    "\n",
    "trigram_maastricht = gensim.models.Phrases(bigram[processed_data_maastricht], threshold=100)\n",
    "\n",
    "bigram_mod_maastricht = gensim.models.phrases.Phraser(bigram_maastricht)\n",
    "\n",
    "trigram_mod_maastricht = gensim.models.phrases.Phraser(trigram_maastricht)"
   ]
  },
  {
   "cell_type": "code",
   "execution_count": 138,
   "id": "adb73b45",
   "metadata": {},
   "outputs": [],
   "source": [
    "def remove_stopwords_maastricht(texts):\n",
    "    return [[word for word in doc if word not in stopord] for doc in texts]\n",
    "def create_bigrams_maastricht(texts):\n",
    "    return [bigram_mod_maastricht[doc] for doc in texts]\n",
    "def create_trigrams_maastricht(texts):\n",
    "    [trigram_mod[bigram_mod_maastricht[doc]] for doc in texts]\n",
    "def lemmatize_maastricht(texts, allowed_postags=['NOUN', 'ADJ', 'VERB']):\n",
    "    texts_op = []\n",
    "    start = time()\n",
    "    for sent in texts:\n",
    "        doc = nlpd(\" \".join(sent))\n",
    "        texts_op.append([token.lemma_ for token in doc if token.pos_ in allowed_postags])\n",
    "    end = time()\n",
    "    print(end-start)\n",
    "    return texts_op"
   ]
  },
  {
   "cell_type": "code",
   "execution_count": 139,
   "id": "d2e21aff",
   "metadata": {},
   "outputs": [
    {
     "name": "stdout",
     "output_type": "stream",
     "text": [
      "65.07245016098022\n"
     ]
    }
   ],
   "source": [
    "data_wo_stopwords_maastricht = remove_stopwords(processed_data_maastricht)\n",
    "\n",
    "data_bigrams_maastricht = create_bigrams_maastricht(data_wo_stopwords_maastricht)\n",
    "\n",
    "data_lemmatized_maastricht = lemmatize_maastricht(data_bigrams_maastricht, allowed_postags=[ 'NOUN', 'ADJ', 'VERB', 'PROPN', 'ADV'])\n",
    "\n",
    "stopwords_removed_2_maastricht = remove_stopwords_maastricht(data_lemmatized_maastricht) #Jeg prøver at sortere stopord fra igen\n",
    "\n",
    "data_lemmatized_maastricht = stopwords_removed_2_maastricht"
   ]
  },
  {
   "cell_type": "code",
   "execution_count": 140,
   "id": "9f0535dd",
   "metadata": {},
   "outputs": [],
   "source": [
    "texts_maastricht = [text for text in data_lemmatized_maastricht]"
   ]
  },
  {
   "cell_type": "code",
   "execution_count": 141,
   "id": "973efcaa",
   "metadata": {},
   "outputs": [],
   "source": [
    "shuffle(texts_maastricht)"
   ]
  },
  {
   "cell_type": "code",
   "execution_count": 142,
   "id": "d8519829",
   "metadata": {},
   "outputs": [],
   "source": [
    "gensim_dictionary_maastricht = corpora.Dictionary(texts_maastricht)\n",
    "\n",
    "gensim_corpus_maastricht = [gensim_dictionary_maastricht.doc2bow(text) for text in texts_maastricht]"
   ]
  },
  {
   "cell_type": "code",
   "execution_count": 143,
   "id": "3081b473",
   "metadata": {},
   "outputs": [],
   "source": [
    "gensim_dictionary_maastricht.save(\"Speciale_scripts/Dictionaries/Maastricht/10_10_22_02\")"
   ]
  },
  {
   "cell_type": "markdown",
   "id": "06dfe7dc",
   "metadata": {},
   "source": [
    "### Topic model Maastricht "
   ]
  },
  {
   "cell_type": "code",
   "execution_count": 144,
   "id": "dbc8777a",
   "metadata": {},
   "outputs": [],
   "source": [
    "def compute_coherence_values_maastricht(k):\n",
    "    lda_model_maastricht = gensim.models.ldamodel.LdaModel(corpus=gensim_corpus_maastricht,\n",
    "                                           id2word=gensim_dictionary_maastricht,\n",
    "                                           num_topics=k, \n",
    "                                           random_state=100,\n",
    "                                           chunksize=100,\n",
    "                                           passes=10,\n",
    "                                           alpha=\"auto\")\n",
    "    \n",
    "    coherence_model_lda_maastricht = CoherenceModel(model=lda_model_maastricht, texts=data_lemmatized_maastricht, dictionary=gensim_dictionary_maastricht, coherence='c_v')\n",
    "    return coherence_model_lda_maastricht.get_coherence()"
   ]
  },
  {
   "cell_type": "code",
   "execution_count": 145,
   "id": "273a32e0",
   "metadata": {},
   "outputs": [
    {
     "name": "stdout",
     "output_type": "stream",
     "text": [
      "5\n",
      "6\n",
      "7\n",
      "8\n",
      "9\n",
      "10\n",
      "11\n",
      "12\n",
      "13\n",
      "14\n",
      "15\n",
      "16\n",
      "17\n",
      "18\n",
      "19\n",
      "20\n",
      "21\n",
      "22\n",
      "23\n",
      "24\n"
     ]
    }
   ],
   "source": [
    "min_topics = 5\n",
    "max_topics = 25\n",
    "step_size = 1\n",
    "topics_range = range(min_topics, max_topics, step_size)\n",
    "\n",
    "#empty dataframe\n",
    "model_results_maastricht = {'Topics': [],\n",
    "                 'Coherence': []\n",
    "                }\n",
    "\n",
    "# iterate through number of topics\n",
    "for k in topics_range:\n",
    "    print(k)\n",
    "    # get the coherence score for the given topics\n",
    "    cv = compute_coherence_values_maastricht(k=k)\n",
    "    # Save the model results\n",
    "    model_results_maastricht['Topics'].append(k)\n",
    "    model_results_maastricht['Coherence'].append(cv)"
   ]
  },
  {
   "cell_type": "code",
   "execution_count": 146,
   "id": "fbb085b5",
   "metadata": {},
   "outputs": [
    {
     "data": {
      "image/png": "[encoded data removed]",
      "text/plain": [
       "<Figure size 432x288 with 1 Axes>"
      ]
     },
     "metadata": {
      "needs_background": "light"
     },
     "output_type": "display_data"
    }
   ],
   "source": [
    "fig, ax = plt.subplots()\n",
    "ax.plot(model_results_maastricht[\"Topics\"], model_results_maastricht['Coherence'])\n",
    "ax.set_title(\"Model med low = 0.2\")\n",
    "fig.savefig(\"Speciale_scripts/plots/maastricht/Coherence_score_10_10_22_02\")"
   ]
  },
  {
   "cell_type": "code",
   "execution_count": 147,
   "id": "ac10b625",
   "metadata": {},
   "outputs": [],
   "source": [
    "coherence_best_maastricht = [coherence for coherence in model_results_maastricht['Coherence']]\n",
    "coherence_best_maastricht.sort(reverse = True)"
   ]
  },
  {
   "cell_type": "code",
   "execution_count": 148,
   "id": "29f16b5d",
   "metadata": {},
   "outputs": [
    {
     "name": "stdout",
     "output_type": "stream",
     "text": [
      "16\n",
      "14\n",
      "13\n"
     ]
    }
   ],
   "source": [
    "for top_coherence in coherence_best_maastricht[0:3]:\n",
    "    number_topics_maastricht = model_results_maastricht[\"Topics\"][model_results_maastricht['Coherence'].index(top_coherence)]\n",
    "    print(number_topics_maastricht)\n",
    "    lda_model_maastricht = gensim.models.ldamodel.LdaModel(\n",
    "        corpus=gensim_corpus_maastricht, id2word=gensim_dictionary_maastricht, num_topics=number_topics_maastricht, random_state=100, \n",
    "        update_every=1, chunksize=100, passes=10, alpha='auto', per_word_topics=True\n",
    "    )\n",
    "    lda_model_maastricht.save(f\"Speciale_scripts/Modeller/maastricht/10_10_2022_02/Model_{number_topics_maastricht}_topics\")"
   ]
  },
  {
   "cell_type": "code",
   "execution_count": 159,
   "id": "252223c3",
   "metadata": {},
   "outputs": [
    {
     "name": "stdout",
     "output_type": "stream",
     "text": [
      "[(0,\n",
      "  '0.082*\"grønland\" + 0.037*\"færøerne\" + 0.008*\"ecu\" + 0.006*\"procent\" + '\n",
      "  '0.002*\"folkebibliotek\" + 0.001*\"ef-samar-\" + 0.000*\"grønlands\" + '\n",
      "  '0.000*\"rigsfællesskab\" + 0.000*\"landsstyre\" + 0.000*\"åbningstale_del\"'),\n",
      " (1,\n",
      "  '0.032*\"forslag\" + 0.025*\"lov\" + 0.022*\"ændring\" + 0.015*\"spørgsmål\" + '\n",
      "  '0.013*\"lovforslag\" + 0.013*\"minister\" + 0.012*\"regel\" + 0.011*\"danmark\" + '\n",
      "  '0.010*\"regering\" + 0.009*\"sag\"'),\n",
      " (2,\n",
      "  '0.034*\"land\" + 0.025*\"samarbejde\" + 0.015*\"eu\" + 0.012*\"område\" + '\n",
      "  '0.012*\"danmark\" + 0.010*\"europa\" + 0.009*\"regering\" + 0.008*\"medlemsland\" + '\n",
      "  '0.008*\"udvikling\" + 0.007*\"mulighed\"'),\n",
      " (3,\n",
      "  '0.055*\"dato\" + 0.036*\"pris_kr\" + 0.035*\"destination\" + 0.032*\"ledsager\" + '\n",
      "  '0.021*\"kulturminister\" + 0.020*\"besøg\" + 0.017*\"formål\" + 0.013*\"skole\" + '\n",
      "  '0.011*\"formål_åbning\" + 0.010*\"erik_jacobsen\"'),\n",
      " (4,\n",
      "  '0.017*\"gå\" + 0.016*\"hr.\" + 0.015*\"danmark\" + 0.013*\"stå\" + 0.013*\"altså\" + '\n",
      "  '0.010*\"regering\" + 0.010*\"folkeafstemning\" + 0.010*\"befolkning\" + '\n",
      "  '0.010*\"dag\" + 0.010*\"mene\"'),\n",
      " (5,\n",
      "  '0.015*\"ellemann-jensen\" + 0.015*\"anders_fogh\" + 0.001*\"rasmussens\" + '\n",
      "  '0.000*\"rasmussen\" + 0.000*\"1930\\'erne\" + 0.000*\"prise\" + '\n",
      "  '0.000*\"munch-politik\" + 0.000*\"højrebevægelse\" + 0.000*\"fascist\" + '\n",
      "  '0.000*\"bondeanger\"'),\n",
      " (6,\n",
      "  '0.027*\"93_beh\" + 0.023*\"nørgaard\" + 0.017*\"fp\" + 0.013*\"grækenland\" + '\n",
      "  '0.008*\"iværksættelse\" + 0.007*\"jf._§\" + 0.007*\"frank\" + 0.007*\"dagspresse\" '\n",
      "  '+ 0.006*\"frank_aaen\" + 0.006*\"medforslagsstiller\"'),\n",
      " (7,\n",
      "  '0.033*\"subsidiaritetsprincip\" + 0.000*\"læne\" + 0.000*\"nedstemme\" + '\n",
      "  '0.000*\"retsvirkning\" + 0.000*\"retspraksis\" + 0.000*\"kofod-svendsen\" + '\n",
      "  '0.000*\"national\" + 0.000*\"eu-regulering\" + 0.000*\"slagsmål\" + '\n",
      "  '0.000*\"forene\"'),\n",
      " (8,\n",
      "  '0.007*\"landsret\" + 0.007*\"sagsøger\" + 0.000*\"rocker\" + '\n",
      "  '0.000*\"medholdelighed\" + 0.000*\"versere\" + 0.000*\"morder\" + '\n",
      "  '0.000*\"statistik\" + 0.000*\"ulovlighed\" + 0.000*\"slukke\" + 0.000*\"ære\"'),\n",
      " (9,\n",
      "  '0.000*\"hedsprincippet\" + 0.000*\"forkludre\" + 0.000*\"forretningsgang\" + '\n",
      "  '0.000*\"østudvidelsen\" + 0.000*\"småændringer\" + 0.000*\"overløber\" + '\n",
      "  '0.000*\"margarine\" + 0.000*\"mafia\" + 0.000*\"landkort\" + '\n",
      "  '0.000*\"hagel-sørensens\"'),\n",
      " (10,\n",
      "  '0.031*\"regering\" + 0.018*\"år\" + 0.009*\"politik\" + 0.009*\"danmark\" + '\n",
      "  '0.008*\"arbejde\" + 0.008*\"give\" + 0.008*\"dag\" + 0.008*\"statsminister\" + '\n",
      "  '0.007*\"menneske\" + 0.007*\"samfund\"'),\n",
      " (11,\n",
      "  '0.078*\"holger_k\" + 0.077*\"nielsen\" + 0.020*\"lighed\" + 0.014*\"intern\" + '\n",
      "  '0.014*\"oktober_1997\" + 0.013*\"torben_lund\" + 0.011*\"unionstilhænger\" + '\n",
      "  '0.009*\"uddannelsesområde\" + 0.008*\"genforhandle\" + '\n",
      "  '0.008*\"fordelingspolitik\"'),\n",
      " (12,\n",
      "  '0.015*\"b\" + 0.009*\"søjlespring\" + 0.007*\"vedr._modarbejdelse\" + '\n",
      "  '0.003*\"bekæmpelsesmiddel\" + 0.000*\"pesticid\" + 0.000*\"anker_jørgensen\" + '\n",
      "  '0.000*\"suk\" + 0.000*\"annette_justs\" + 0.000*\"opfindelse\" + '\n",
      "  '0.000*\"sandsynliggøre\"')]\n"
     ]
    }
   ],
   "source": [
    "lda_model_maastricht = gensim.models.ldamodel.LdaModel.load(\"Speciale_scripts/Modeller/maastricht/10_10_2022_02/Model_13_topics\")\n",
    "pprint(lda_model_maastricht.print_topics(33))"
   ]
  },
  {
   "cell_type": "code",
   "execution_count": null,
   "id": "21ba4bb5",
   "metadata": {},
   "outputs": [],
   "source": [
    "#os.system(\"sudo shutdown /s /t 1\")"
   ]
  }
 ],
 "metadata": {
  "kernelspec": {
   "display_name": "Python 3 (ipykernel)",
   "language": "python",
   "name": "python3"
  },
  "language_info": {
   "codemirror_mode": {
    "name": "ipython",
    "version": 3
   },
   "file_extension": ".py",
   "mimetype": "text/x-python",
   "name": "python",
   "nbconvert_exporter": "python",
   "pygments_lexer": "ipython3",
   "version": "3.10.2"
  }
 },
 "nbformat": 4,
 "nbformat_minor": 5
}
