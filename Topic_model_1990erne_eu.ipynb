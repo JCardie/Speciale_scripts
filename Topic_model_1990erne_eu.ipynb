{
 "cells": [
  {
   "cell_type": "code",
   "execution_count": 37,
   "id": "eb2a3599",
   "metadata": {},
   "outputs": [],
   "source": [
    "from pathlib import Path\n",
    "from pathlib import *\n",
    "import pandas as pd\n",
    "import re\n",
    "from random import randint\n",
    "import spacy\n",
    "from time import time\n",
    "import matplotlib.pyplot as plt\n",
    "import gensim\n",
    "import gensim.corpora as corpora\n",
    "from pprint import pprint\n",
    "from gensim.models import TfidfModel\n",
    "from gensim.models import CoherenceModel\n",
    "from gensim.test.utils import datapath\n",
    "from gensim import  models\n",
    "nlpd = spacy.load(\"da_core_news_lg\")\n",
    "import os"
   ]
  },
  {
   "cell_type": "markdown",
   "id": "42d074d2",
   "metadata": {},
   "source": [
    "## Topic model over 90'ernes eu-debat"
   ]
  },
  {
   "cell_type": "code",
   "execution_count": 38,
   "id": "82770bbf",
   "metadata": {},
   "outputs": [],
   "source": [
    "path = \"../../Folketingstidende/Hele/\"\n",
    "dir_path = Path(f\"{path}\")\n",
    "csv_files = list(dir_path.glob(\"*.csv\"))"
   ]
  },
  {
   "cell_type": "code",
   "execution_count": 39,
   "id": "1bbb86c3",
   "metadata": {},
   "outputs": [
    {
     "data": {
      "text/plain": [
       "[PosixPath('../../Folketingstidende/Hele/19531.csv'),\n",
       " PosixPath('../../Folketingstidende/Hele/19541.csv'),\n",
       " PosixPath('../../Folketingstidende/Hele/19551.csv'),\n",
       " PosixPath('../../Folketingstidende/Hele/19561.csv'),\n",
       " PosixPath('../../Folketingstidende/Hele/19562.csv')]"
      ]
     },
     "execution_count": 39,
     "metadata": {},
     "output_type": "execute_result"
    }
   ],
   "source": [
    "csv_files.sort()\n",
    "csv_files[0:5]"
   ]
  },
  {
   "cell_type": "markdown",
   "id": "54d2a921",
   "metadata": {},
   "source": [
    "Jeg finder nu de filer der handler om 90'erne"
   ]
  },
  {
   "cell_type": "code",
   "execution_count": 40,
   "id": "72cd16f2",
   "metadata": {},
   "outputs": [
    {
     "data": {
      "text/plain": [
       "[PosixPath('../../Folketingstidende/Hele/19901.csv'),\n",
       " PosixPath('../../Folketingstidende/Hele/19902.csv'),\n",
       " PosixPath('../../Folketingstidende/Hele/19911.csv'),\n",
       " PosixPath('../../Folketingstidende/Hele/19921.csv'),\n",
       " PosixPath('../../Folketingstidende/Hele/19931.csv'),\n",
       " PosixPath('../../Folketingstidende/Hele/19941.csv'),\n",
       " PosixPath('../../Folketingstidende/Hele/19951.csv'),\n",
       " PosixPath('../../Folketingstidende/Hele/19961.csv'),\n",
       " PosixPath('../../Folketingstidende/Hele/19971.csv'),\n",
       " PosixPath('../../Folketingstidende/Hele/19972.csv'),\n",
       " PosixPath('../../Folketingstidende/Hele/19981.csv'),\n",
       " PosixPath('../../Folketingstidende/Hele/19991.csv')]"
      ]
     },
     "execution_count": 40,
     "metadata": {},
     "output_type": "execute_result"
    }
   ],
   "source": [
    "csv_files[49:61]"
   ]
  },
  {
   "cell_type": "code",
   "execution_count": 41,
   "id": "966312c4",
   "metadata": {},
   "outputs": [],
   "source": [
    "Folketingstaler_i_90erne = {}\n",
    "for fil in csv_files[49:61]:\n",
    "    if str(fil)[-9:-5] in Folketingstaler_i_90erne:\n",
    "        folketingsår = pd.read_csv(fil ,sep=';', encoding = \"latin1\")\n",
    "        taler = folketingsår[\"indhold\"]\n",
    "        for tale in taler:\n",
    "            Folketingstaler_i_90erne[str(fil)[-9:-5]].append(tale)\n",
    "    else:\n",
    "        folketingsår = pd.read_csv(fil ,sep=';', encoding = \"latin1\")\n",
    "        taler = folketingsår[\"indhold\"]\n",
    "        Folketingstaler_i_90erne[str(fil)[-9:-5]] = []\n",
    "        for tale in taler:\n",
    "            Folketingstaler_i_90erne[str(fil)[-9:-5]].append(tale)"
   ]
  },
  {
   "cell_type": "code",
   "execution_count": 42,
   "id": "83ef7116",
   "metadata": {},
   "outputs": [],
   "source": [
    "def FT_taler(indhold):\n",
    "    talere = []\n",
    "    tale = []\n",
    "    parti = []\n",
    "    Partier_i_folketinget = [\"(A)\", \"(SF)\", \"(S)\", \"(RV)\", \"(KF)\", \"(V)\", \"(FP)\", \"(CD)\", \"(VS)\",\n",
    "                             \"(KrF)\", \"(DR)\", \"(UP)\", \"(Grønl.)\", \"(Fær.)\", \"(DF)\", \"(EL)\"]\n",
    "    for index in range(len(indhold)):\n",
    "        sentence = indhold[index]\n",
    "        if len(re.findall(\"(^.{1,50} \\([A-Z]+\\)[ ]*:|^.{1,50} \\(KrF\\)[ ]*:|^.{1,50} \\(Grønl.\\)[ ]*:|^.{1,50} \\(Fær.\\)[ ]*:)\", sentence)) > 0: #Tjekker om det er et menigt medlem\n",
    "            if len(re.findall(\"(\\([A-Z]+\\)|\\(KrF\\)|\\(Grønl.\\)|\\(Fær.\\))\", sentence)) < 2:    \n",
    "                if len(re.findall(\"Ny stedf.\", sentence)) > 0:\n",
    "                    pass\n",
    "                elif len(re.findall(\"Udtræder:\", sentence)) > 0:\n",
    "                    pass\n",
    "                elif len(re.findall(\"Nyt medl\", sentence)) > 0:\n",
    "                    pass\n",
    "                elif len(re.findall(\" af\", sentence.lower())) > 0:\n",
    "                    pass\n",
    "                elif re.findall(\"(\\([A-Z]+\\)|\\(KrF\\)|\\(Grønl.\\)|\\(Fær.\\))\", sentence)[0] in Partier_i_folketinget:\n",
    "                    if len(sentence) <= 35:\n",
    "                        talere.append(sentence)\n",
    "                        parti.append(re.findall(\"(\\([A-Z]+\\)|\\(KrF\\)|\\(Grønl.\\)|\\(Fær.\\))\", sentence)[0])\n",
    "                        tale.append(\"\")\n",
    "                    else: #Tager højde for læsefejl!\n",
    "                        lang_taler = re.split(\"(^.{1,50} \\([A-Z]+\\)|^.{1,50} \\(KrF\\)|^.{1,50} \\(Grønl.\\)|^.{1,50} \\(Fær.\\))\", sentence)\n",
    "                        talere.append(lang_taler[-2])\n",
    "                        parti.append(re.findall(\"(\\([A-Z]+\\)|\\(KrF\\)|\\(Grønl.\\)|\\(Fær.\\))\", lang_taler[-2])[0])\n",
    "                        tale.append(lang_taler[-1])\n",
    "                else:\n",
    "                    if len(tale) >= 1:\n",
    "                        tale[-1] = tale[-1] + \" \" + sentence\n",
    "            else: #ellers er det en tale\n",
    "                if len(tale) >= 1:\n",
    "                    tale[-1] = tale[-1] + \" \" + sentence\n",
    "                #if len(re.findall(\"(\\([A-Z]+\\)|\\(KrF\\))\", sentence)) < 2:\n",
    "        elif len(re.findall(\"(^.{1,50} \\([A-Z]+\\)|^.{1,50} \\(KrF\\)|^.{1,50} \\(Grønl.\\)|^.{1,50} \\(Fær.\\))\", sentence)) > 0 and re.match(\"^Af \", sentence):\n",
    "            talere.append(sentence)\n",
    "            parti.append(re.findall(\"(\\([A-Z]+\\)|\\(KrF\\)|\\(Grønl.\\)|\\(Fær.\\))\", sentence)[0])\n",
    "            tale.append(\"\")\n",
    "        elif len(re.findall(\"(^.{1,50} \\([A-Z]+\\):|.{1,50} \\(KrF\\):)\", sentence)) > 0:\n",
    "            if len(sentence) > 35:\n",
    "                if len(re.findall(\"(\\([A-Z]+\\)|\\(KrF\\))\", sentence)) < 2:\n",
    "                    if len(re.findall(\"Ny stedf.\", sentence)) > 0:\n",
    "                        pass\n",
    "                    elif len(re.findall(\"Udtræder:\", sentence)) > 0:\n",
    "                        pass\n",
    "                    elif len(re.findall(\"Nyt medl\", sentence)) > 0:\n",
    "                        pass\n",
    "                    elif len(re.findall(\" af\", sentence.lower())) > 0:\n",
    "                        pass\n",
    "                    elif re.findall(\"(\\([A-Z]+\\)|\\(KrF\\))\", sentence)[0] in Partier_i_folketinget:\n",
    "                        problem_menigt = re.split(\"(^.{1,50} \\([A-Z]+\\):|.{1,50} \\(KrF\\):)\", sentence.lower())\n",
    "                        talere.append(problem_menigt[-2])\n",
    "                        parti.append(\"problem\")\n",
    "                        tale.append(problem_menigt[-1])\n",
    "                    else:\n",
    "                        if len(tale) >= 1:\n",
    "                            tale[-1] = tale[-1] + \" \" + sentence\n",
    "                else:\n",
    "                    if len(tale) >= 1:\n",
    "                        tale[-1] = tale[-1] + \" \" + sentence\n",
    "            else:\n",
    "                if len(tale) >= 1:\n",
    "                    tale[-1] = tale[-1] + \" \" + sentence\n",
    "        elif sentence.lower() == \"formanden\" or sentence.lower() == \"formanden:\": #tjekker om det er formanden der taler\n",
    "            talere.append(\"formanden\")\n",
    "            parti.append(\"Formanden\")\n",
    "            tale.append(\"\")\n",
    "        elif re.search(\"næstformand \\(\\w*\\):$\", sentence.lower()) or re.search(\"næstformand \\(\\w* \\w*\\):$\", sentence.lower()):\n",
    "            talere.append(sentence.lower())\n",
    "            parti.append(\"næstformanden\")\n",
    "            tale.append(\"\")\n",
    "        elif len(sentence) < 100: #Tjekker om det er en minister der taler\n",
    "            if len(re.findall(\"\\w*minister[\\w ]*\\(([\\w-]*|[\\w ]*)\\)\", sentence.lower())) > 0:\n",
    "                talere.append(sentence)\n",
    "                parti.append(\"Regeringen\")\n",
    "                tale.append(\"\")\n",
    "            else:\n",
    "                if len(tale) >= 1:\n",
    "                    tale[-1] = tale[-1] + \" \" + sentence\n",
    "        elif len(sentence) >= 100:\n",
    "            if len(re.findall(\"\\w*minister[\\w ]*\\(([\\w-]*|[\\w ]*)\\):\", sentence.lower())) > 0:\n",
    "                tale_med_minister = re.split(\"\\w*minister[\\w ]*\\(([\\w-]*|[\\w ]*)\\):\", sentence.lower())\n",
    "                talere.append(tale_med_minister[-2])\n",
    "                parti.append(\"Regeringen\")\n",
    "                tale.append(tale_med_minister[-1])\n",
    "            else:\n",
    "                if len(tale) >= 1:\n",
    "                    tale[-1] = tale[-1] + \" \" + sentence\n",
    "        elif len(re.findall(\"[1-9]{1,5} [1-9]{1,2}/[1-9]{1,2}\", sentence.lower()))  > 0: #tilføjet til at fange headers på sider\n",
    "            if len(sentence) < 170:\n",
    "                pass\n",
    "            else:\n",
    "                if len(tale) >= 1:\n",
    "                    tale[-1] = tale[-1] + \" \" + sentence\n",
    "        elif len(re.findall(\"^[1-9]{1,2}/[1-9]{1,2}\", sentence.lower())) > 0: \n",
    "            if len(sentence) < 170:\n",
    "                pass\n",
    "            else:\n",
    "                if len(tale) >= 1:\n",
    "                    tale[-1] = tale[-1] + \" \" + sentence\n",
    "        elif re.fullmatch(\"\\[.{1,100}\\]\", sentence.lower()):\n",
    "            pass\n",
    "        elif re.fullmatch(\"[1-9]{1,10}\", sentence.lower()):\n",
    "            pass\n",
    "        else:\n",
    "            if len(tale) >= 1:\n",
    "                tale[-1] = tale[-1] + \" \" + sentence\n",
    "    return tale, talere, parti"
   ]
  },
  {
   "cell_type": "code",
   "execution_count": 43,
   "id": "76d7522f",
   "metadata": {},
   "outputs": [],
   "source": [
    "Folketingsår_opdelt_per_taler_90erne = {}\n",
    "problemer = {}\n",
    "for år in Folketingstaler_i_90erne:\n",
    "    indhold = Folketingstaler_i_90erne[år]\n",
    "    år_tale, år_talere, år_parti = FT_taler(indhold)\n",
    "    Folketingsår_opdelt_per_taler_90erne[år] = []\n",
    "    Folketingsår_opdelt_per_taler_90erne[år].append(år_tale)\n",
    "    Folketingsår_opdelt_per_taler_90erne[år].append(år_talere)\n",
    "    Folketingsår_opdelt_per_taler_90erne[år].append(år_parti)"
   ]
  },
  {
   "cell_type": "markdown",
   "id": "1625eae2",
   "metadata": {},
   "source": [
    "## Edinburghaftalen i tekst"
   ]
  },
  {
   "cell_type": "markdown",
   "id": "3d393006",
   "metadata": {},
   "source": [
    "Jeg undersøger hvordan \"Edinburgh\" optræder i data. Jeg ønsker at undersøge om byen overhovedet optræder i 1990'ernes folketingsdebatten uden at det handler om edinburghaftalen."
   ]
  },
  {
   "cell_type": "code",
   "execution_count": 44,
   "id": "a03646a8",
   "metadata": {},
   "outputs": [],
   "source": [
    "eu_ord_2 = [\" eu \", \" ef \", \"europæiske fællesskab\", \"europæiske union\", \"fællesmarkedet\", \"ømu\", \" eu-\", \" ef-\"]\n",
    "edinburgh_taler = []\n",
    "edinburgh_taler_ikke_eu = []\n",
    "for år in Folketingsår_opdelt_per_taler_90erne:\n",
    "    for sentence in Folketingsår_opdelt_per_taler_90erne[år][0]:\n",
    "        if len(re.findall(\"edinburgh\", sentence.lower())) > 0:\n",
    "            total = 0\n",
    "            for ord_type in eu_ord_2:\n",
    "                total += len(re.findall(ord_type, sentence.lower()))\n",
    "            if total == 0:\n",
    "                edinburgh_taler_ikke_eu.append(sentence.lower())\n",
    "            else:        \n",
    "                edinburgh_taler.append((år, sentence.lower()))"
   ]
  },
  {
   "cell_type": "code",
   "execution_count": 45,
   "id": "3914a74c",
   "metadata": {},
   "outputs": [
    {
     "data": {
      "text/plain": [
       "200"
      ]
     },
     "execution_count": 45,
     "metadata": {},
     "output_type": "execute_result"
    }
   ],
   "source": [
    "len(edinburgh_taler_ikke_eu)"
   ]
  },
  {
   "cell_type": "code",
   "execution_count": 46,
   "id": "0c36b2bb",
   "metadata": {},
   "outputs": [],
   "source": [
    "ikke_edinburghaftale = []\n",
    "for sentence in edinburgh_taler_ikke_eu: \n",
    "    if len(re.findall(\"(edinburghaftale|edinburgh-aftale|edinburgh-afgørelse|edinburghafgørelsen)\", sentence.lower())) == 0:\n",
    "        ikke_edinburghaftale.append(sentence)"
   ]
  },
  {
   "cell_type": "code",
   "execution_count": 47,
   "id": "b8c52701",
   "metadata": {},
   "outputs": [
    {
     "data": {
      "text/plain": [
       "49"
      ]
     },
     "execution_count": 47,
     "metadata": {},
     "output_type": "execute_result"
    }
   ],
   "source": [
    "len(ikke_edinburghaftale)"
   ]
  },
  {
   "cell_type": "code",
   "execution_count": 48,
   "id": "584d114a",
   "metadata": {},
   "outputs": [
    {
     "data": {
      "text/plain": [
       "' det interessante ved hele denne debat er den hån, man udviser over for grundloven og det danske folks nej. det er en hån, at man sætter jasigere til at forhandle, det er som at sætte ræven til at vogte gæs. og man fortsætter hånen ved at påstå, at der er kommet nye temaer til. men det er stadig maastrichttraktaten, der bliver genforhandlet eller ikke genforhandlet. det er den samme maastrichttraktat, der er ingen ændringer i den, der er ikke ændret et komma. o.k., der er lavet en aftale på edinburghmødet, men det er stadig væk maastrichttraktaten, det drejer sig om, det er stadig væk afgivelse af suverænitet, og det er stadig en hån mod den danske befolkning. jeg synes, det var interessant at få at vide af de damer og herrer, om vi havde fået en ny afstemning, hvis danmark havde stemt ja. jeg tvivler. det er kun, fordi man absolut vil gennemtvinge et ja, for ellers falder hele den politik, man har lagt op til. mine damer og herrer, det er en hån mod det danske folk! (kort bemærkning).'"
      ]
     },
     "execution_count": 48,
     "metadata": {},
     "output_type": "execute_result"
    }
   ],
   "source": [
    "ikke_edinburghaftale[1]"
   ]
  },
  {
   "cell_type": "markdown",
   "id": "3c099e2c",
   "metadata": {},
   "source": [
    "Jeg renser dem fra der også omhandler maarstrict."
   ]
  },
  {
   "cell_type": "code",
   "execution_count": 49,
   "id": "54a40bf7",
   "metadata": {},
   "outputs": [],
   "source": [
    "ikke_edinburghaftale_eller_maarstricht = []\n",
    "for sentence in ikke_edinburghaftale: \n",
    "    if len(re.findall(\"maastricht\", sentence.lower())) == 0:\n",
    "        ikke_edinburghaftale_eller_maarstricht.append(sentence)"
   ]
  },
  {
   "cell_type": "code",
   "execution_count": 50,
   "id": "3241cc3a",
   "metadata": {},
   "outputs": [
    {
     "data": {
      "text/plain": [
       "28"
      ]
     },
     "execution_count": 50,
     "metadata": {},
     "output_type": "execute_result"
    }
   ],
   "source": [
    "len(ikke_edinburghaftale_eller_maarstricht)"
   ]
  },
  {
   "cell_type": "markdown",
   "id": "79978219",
   "metadata": {},
   "source": [
    "Jeg kigger nu på dem der hverken indeholder Maarstricht eller Edinburghaftalen."
   ]
  },
  {
   "cell_type": "code",
   "execution_count": 51,
   "id": "67ab01f3",
   "metadata": {},
   "outputs": [
    {
     "data": {
      "text/plain": [
       "' det er lidt ærgerligt, at vi i de debatter, vi har, som jo ellers kunne have været meget, meget spændende og givtige, ofte skal tilbage til historieskrivningen, men det finder jeg nødvendigt igen i forhold til det, fru pernille frahm er inde på. jeg tror, at bare vi kunne få det fælles grundlag, den fælles forståelse, ville det være vigtigt, også af hensyn til den konstruktive del af debatten. i mastrichttraktaten, som var den, danmark tog sine forbehold ud fra, var det allerede forudset, at en række områder kunne flyttes fra søjle 3 til søjle 1. det var det, vi fik vores undtagelse fra, dette søjlespring fra søjle 3 til søjle 1. det var danmark, der fik et forbehold. det var ikke de andre lande. de sagde ikke, at de ville have forbehold fra det, der stod i mastricht- traktaten. vi krævede heller ikke af dem, at de skulle tage et forbehold. vi kom til dem og sagde, at vi gerne ville have et forbehold. det burde sf kunne huske, for sf var jo et af de partier, der var med til at forhandle, efter at vi den 2. juni fik nejet til amsterdamtraktaten. netop sf burde jo huske, at det var det danske forbehold, ikke de andres. så sker der det med amsterdamtraktaten, at de andre siger: jamen det i mastrichttraktaten, som vi sagde vi kunne flytte fra søjle 3 til søjle 1, har vi jo ikke flyttet, siden mastrichttraktaten trådte i kraft. nu gør vi det så i forbindelse med amsterdamtraktaten. det er så her, det danske forbehold træder ind. danmark er ikke forpligtet af de søjlespring, der bliver gennemført i forhold til en videreudvikling på et fællesskabsretligt grundlag. danmark deltager alene i det, der flyttes på det mellemstatslige niveau, videreudvikling er vi ikke forpligtet af. der må vi så se på den videreudvikling, når vi ser den. vi må så se på, hvad de udvikler, og om det er noget, vi vil være forpligtet af, og hvis danmark, regeringen og et flertal i folketinget siger ja, må vi så forhandle med de andre, på hvilket grundlag danmark kan være med. (467) onsdag den 10. februar 1999 (f 18) 3729 vi har fat i den lange ende. der bliver ikke fiflet med hverken det ene eller det andet. det historiske grundlag tilbage fra det danske forbehold i edinburgh er, som det altid har været. det er danskernes forbehold, det respekterer vi fra regeringens side. (kort bemærkning).'"
      ]
     },
     "execution_count": 51,
     "metadata": {},
     "output_type": "execute_result"
    }
   ],
   "source": [
    "ikke_edinburghaftale_eller_maarstricht[-1]"
   ]
  },
  {
   "cell_type": "markdown",
   "id": "929dd413",
   "metadata": {},
   "source": [
    "Fra det ovenstående har jeg en formodning omkring at der snakkes forbehold når edinburgh nævnes, og det altså derfor nødvendigt at sortere disse fra, da der åbenlyst også snakkes EU når der snakkes forbehold."
   ]
  },
  {
   "cell_type": "code",
   "execution_count": 52,
   "id": "f87752ee",
   "metadata": {},
   "outputs": [
    {
     "data": {
      "text/plain": [
       "0"
      ]
     },
     "execution_count": 52,
     "metadata": {},
     "output_type": "execute_result"
    }
   ],
   "source": [
    "ikke_edinburghaftale_maarstricht_forbehold = []\n",
    "for tekst in ikke_edinburghaftale_eller_maarstricht:\n",
    "    if len(re.findall(\"forbehold\", sentence.lower())) == 0:\n",
    "        ikke_edinburghaftale_maarstricht_forbehold.append(sentence)\n",
    "len(ikke_edinburghaftale_maarstricht_forbehold)"
   ]
  },
  {
   "cell_type": "markdown",
   "id": "547c0bd2",
   "metadata": {},
   "source": [
    "Det kan da konkluderes at når byen \"Edinburgh\" nævnes fra folketingets talerstol indgår altid en reference til Edinburghaftalen. Det kan da konkluderes at man fint kan søge på Edinburgh når man søger folketingstaler der omhandler EU."
   ]
  },
  {
   "cell_type": "markdown",
   "id": "93936c25",
   "metadata": {},
   "source": [
    "## Topic model over 1990erne"
   ]
  },
  {
   "cell_type": "code",
   "execution_count": 53,
   "id": "159f031e",
   "metadata": {},
   "outputs": [],
   "source": [
    "EU_ord = [\" eu \", \" ef \", \"europæiske fællesskab\", \"europæiske union\", \"fællesmarked\", \"ømu\", \"maastricht\", \n",
    "          \"amsterdamtraktaten\", \"eu-\", \"ef-\", \"edinburgh\", \"indre marked\"]"
   ]
  },
  {
   "cell_type": "code",
   "execution_count": 54,
   "id": "19b3ab14",
   "metadata": {},
   "outputs": [],
   "source": [
    "eu_taler_90erne = {}\n",
    "for år in Folketingsår_opdelt_per_taler_90erne:\n",
    "    #start = time()\n",
    "    eu_tale_år = []\n",
    "    eu_parti_år = []\n",
    "    eu_taler_år = []\n",
    "    for index in range(len(Folketingsår_opdelt_per_taler_90erne[år][0])):\n",
    "        tale = Folketingsår_opdelt_per_taler_90erne[år][0][index]\n",
    "        for ord_ in EU_ord:\n",
    "            if len(re.findall(ord_, tale.lower())) > 0:\n",
    "                eu_tale_år.append(tale)\n",
    "                eu_parti_år.append(Folketingsår_opdelt_per_taler_90erne[år][1][index])\n",
    "                eu_taler_år.append(Folketingsår_opdelt_per_taler_90erne[år][2][index])\n",
    "                break\n",
    "    eu_taler_90erne[år] = []\n",
    "    eu_taler_90erne[år].append(eu_tale_år)\n",
    "    eu_taler_90erne[år].append(eu_parti_år)\n",
    "    eu_taler_90erne[år].append(eu_taler_år)\n",
    "    #slut = time()\n",
    "    #print(slut-start) til at time loopsne"
   ]
  },
  {
   "cell_type": "code",
   "execution_count": 55,
   "id": "cdf8e564",
   "metadata": {},
   "outputs": [],
   "source": [
    "Alle_taler = []\n",
    "Alle_taler_år = []\n",
    "Alle_taler_parti = []\n",
    "Alle_taler_taler = []\n",
    "for år in eu_taler_90erne:\n",
    "    for index in range(len(eu_taler_90erne[år][0])):\n",
    "        Alle_taler.append(eu_taler_90erne[år][0][index])\n",
    "        Alle_taler_parti.append(eu_taler_90erne[år][1][index])\n",
    "        Alle_taler_taler.append(eu_taler_90erne[år][2][index])\n",
    "        Alle_taler_år.append(år)"
   ]
  },
  {
   "cell_type": "markdown",
   "id": "ef0ff857",
   "metadata": {},
   "source": [
    "Jeg finder kort ud af hvor mange datapunkter der er tale om."
   ]
  },
  {
   "cell_type": "code",
   "execution_count": 56,
   "id": "e41165e8",
   "metadata": {},
   "outputs": [
    {
     "name": "stdout",
     "output_type": "stream",
     "text": [
      "1990: 1093\n",
      "1991: 1646\n",
      "1992: 1729\n",
      "1993: 1289\n",
      "1994: 1699\n",
      "1995: 2058\n",
      "1996: 2374\n",
      "1997: 2049\n",
      "1998: 1868\n",
      "1999: 2874\n"
     ]
    }
   ],
   "source": [
    "for år in eu_taler_90erne:\n",
    "    print(f\"{år}: {len(eu_taler_90erne[år][0])}\")"
   ]
  },
  {
   "cell_type": "code",
   "execution_count": 80,
   "id": "1f681d5b",
   "metadata": {},
   "outputs": [
    {
     "data": {
      "text/plain": [
       "[1093, 1647, 1729, 1290, 1697, 2054, 2365, 2045, 1868, 2870]"
      ]
     },
     "execution_count": 80,
     "metadata": {},
     "output_type": "execute_result"
    }
   ],
   "source": [
    "antal_taler_år = [len(eu_taler_90erne[år][0]) for år in eu_taler_90erne]\n",
    "antal_taler_år"
   ]
  },
  {
   "cell_type": "markdown",
   "id": "abc7d33a",
   "metadata": {},
   "source": [
    "Jeg begynder nu at lave en topic model."
   ]
  },
  {
   "cell_type": "code",
   "execution_count": 57,
   "id": "60bf8ec6",
   "metadata": {},
   "outputs": [],
   "source": [
    "nlpd = spacy.load(\"da_core_news_lg\")"
   ]
  },
  {
   "cell_type": "code",
   "execution_count": 58,
   "id": "55787f9f",
   "metadata": {},
   "outputs": [],
   "source": [
    "tekster_klar = []\n",
    "fyldetegn = [\",\", \".\", \"(\", \")\", \"?\", \"/\", \"!\", \":\", \" \", \"):\", \"-\", \"«\", \"»\", \"[\", \"]\"]\n",
    "stopord_fil = open('../../Folketingstidende/stopord.txt','r')\n",
    "stopord = [word[:-1] for word in stopord_fil] \n",
    "#[\"forslag\", \"spørgsmål\", \"år\", \"regering\", \"land\", \"forslag\", \"spørgsmål\", \"år\",\n",
    "#                                                 \"lov\", \"gå\", \"regering\", \"sige\", \"hr.\", \"mene\", \"tro\", \"dag\",\n",
    "#                                                 \"tale\", \"ting\", \"debat\", \"stå\", \"gang\", \"møde\", \"folketing\", \"bruge\",\n",
    "#                                                \"forstå\", \"ske\", \"række\", \"sikre\", \"bruge\",\"bemærkning\", \"dagsorden\", \n",
    "#                                                \"råd\", \"svar\", \"sag\", \"lovforslag\", \"foreslå\", \"fremsætte\", \"minister\",\n",
    "#                                                \"diskussion\", \"ønske\", \"spørge\", \"beslutningsforslag\", \"redegørelse\",\n",
    "#                                                \"give\", \"nr.\", \"behandling\", \"hedde\", \"måde\", \"sætte\"] "
   ]
  },
  {
   "cell_type": "code",
   "execution_count": 59,
   "id": "7ff506e9",
   "metadata": {},
   "outputs": [],
   "source": [
    "typer_spacy = []\n",
    "for tegn in fyldetegn:\n",
    "    tekst_nlpd = nlpd(tegn)\n",
    "    for token in tekst_nlpd:\n",
    "        if token.pos_ not in typer_spacy:\n",
    "            typer_spacy.append(token.pos_)"
   ]
  },
  {
   "cell_type": "code",
   "execution_count": 60,
   "id": "24757158",
   "metadata": {},
   "outputs": [],
   "source": [
    "typer_spacy.remove(\"PROPN\")"
   ]
  },
  {
   "cell_type": "code",
   "execution_count": 61,
   "id": "2b084d57",
   "metadata": {},
   "outputs": [
    {
     "data": {
      "text/plain": [
       "['PUNCT', 'X', 'SPACE', 'ADJ']"
      ]
     },
     "execution_count": 61,
     "metadata": {},
     "output_type": "execute_result"
    }
   ],
   "source": [
    "typer_spacy"
   ]
  },
  {
   "cell_type": "code",
   "execution_count": 62,
   "id": "d42626a9",
   "metadata": {},
   "outputs": [
    {
     "name": "stdout",
     "output_type": "stream",
     "text": [
      "159.94299292564392\n",
      "185.5724220275879\n",
      "191.82876586914062\n",
      "155.90270590782166\n",
      "172.5065040588379\n",
      "207.61666679382324\n",
      "243.5491750240326\n",
      "184.19253587722778\n",
      "182.9802279472351\n",
      "220.7036488056183\n"
     ]
    }
   ],
   "source": [
    "for år in eu_taler_90erne:\n",
    "    #allowed_postags=['NOUN', 'ADJ', 'VERB']\n",
    "    start = time()\n",
    "    for tekst in eu_taler_90erne[år][0]:\n",
    "        tale_spacy = nlpd(tekst.lower())\n",
    "        #tokens = [str(token.lemma_).lower() for token in tale_spacy]\n",
    "        tokens = [token for token in tale_spacy]\n",
    "        tokens_uden_tegn = [str(token) for token in tokens if token.pos_ not in typer_spacy]\n",
    "        #tokens_uden_stopord = [token for token in tokens_uden_tegn if token not in stopord]\n",
    "        tekster_klar.append(tokens_uden_tegn)\n",
    "    end = time()\n",
    "    print(end-start)"
   ]
  },
  {
   "cell_type": "code",
   "execution_count": 63,
   "id": "300af83f",
   "metadata": {},
   "outputs": [],
   "source": [
    "processed_data = []\n",
    "for tekst in tekster_klar:\n",
    "    str_tekst = [str(token) for token in tekst]\n",
    "    processed_data.append(str_tekst)"
   ]
  },
  {
   "cell_type": "code",
   "execution_count": 64,
   "id": "27db4b87",
   "metadata": {},
   "outputs": [],
   "source": [
    "bigram = gensim.models.Phrases(processed_data, min_count=5, threshold=100)\n",
    "\n",
    "trigram = gensim.models.Phrases(bigram[processed_data], threshold=100)\n",
    "\n",
    "bigram_mod = gensim.models.phrases.Phraser(bigram)\n",
    "\n",
    "trigram_mod = gensim.models.phrases.Phraser(trigram)"
   ]
  },
  {
   "cell_type": "code",
   "execution_count": 65,
   "id": "b86d1927",
   "metadata": {},
   "outputs": [],
   "source": [
    "def remove_stopwords(texts):\n",
    "    return [[word for word in doc if word not in stopord] for doc in texts]\n",
    "def create_bigrams(texts):\n",
    "    return [bigram_mod[doc] for doc in texts]\n",
    "def create_trigrams(texts):\n",
    "    [trigram_mod[bigram_mod[doc]] for doc in texts]\n",
    "def lemmatize(texts, allowed_postags=['NOUN', 'ADJ', 'VERB']):\n",
    "    texts_op = []\n",
    "    start = time()\n",
    "    for sent in texts:\n",
    "        doc = nlpd(\" \".join(sent))\n",
    "        texts_op.append([token.lemma_ for token in doc if token.pos_ in allowed_postags])\n",
    "    end = time()\n",
    "    print(end-start)\n",
    "    return texts_op"
   ]
  },
  {
   "cell_type": "code",
   "execution_count": 66,
   "id": "5b58dfc9",
   "metadata": {},
   "outputs": [
    {
     "name": "stdout",
     "output_type": "stream",
     "text": [
      "645.9542391300201\n"
     ]
    }
   ],
   "source": [
    "#removing stopwords, creating bigrams and lemmatizing the text\n",
    "\n",
    "data_wo_stopwords = remove_stopwords(processed_data)\n",
    "\n",
    "data_bigrams = create_bigrams(data_wo_stopwords)\n",
    "\n",
    "data_lemmatized = lemmatize(data_bigrams, allowed_postags=[ 'NOUN', 'ADJ', 'VERB', 'PROPN', 'ADV'])"
   ]
  },
  {
   "cell_type": "code",
   "execution_count": 67,
   "id": "af5c5939",
   "metadata": {},
   "outputs": [],
   "source": [
    "stopwords_removed_2 = remove_stopwords(data_lemmatized) #Jeg prøver at sortere stopord fra igen\n",
    "\n",
    "data_lemmatized = stopwords_removed_2"
   ]
  },
  {
   "cell_type": "code",
   "execution_count": 103,
   "id": "2f961856",
   "metadata": {},
   "outputs": [],
   "source": [
    "#gensim_dictionary = corpora.Dictionary(data_lemmatized)\n",
    "\n",
    "texts = [text for text in data_lemmatized]"
   ]
  },
  {
   "cell_type": "code",
   "execution_count": 104,
   "id": "35a86999",
   "metadata": {},
   "outputs": [],
   "source": [
    "from random import shuffle\n",
    "shuffle(texts)"
   ]
  },
  {
   "cell_type": "code",
   "execution_count": 105,
   "id": "b33674e2",
   "metadata": {},
   "outputs": [],
   "source": [
    "#building a corpus for the topic model\n",
    "gensim_dictionary = corpora.Dictionary(texts)\n",
    "\n",
    "gensim_corpus = [gensim_dictionary.doc2bow(text) for text in texts]"
   ]
  },
  {
   "cell_type": "code",
   "execution_count": 106,
   "id": "0859a2bf",
   "metadata": {},
   "outputs": [],
   "source": [
    "gensim_dictionary.save(\"Dictionaries/1990_erne/25_10_22\")"
   ]
  },
  {
   "cell_type": "code",
   "execution_count": 33,
   "id": "93a1c53e",
   "metadata": {},
   "outputs": [],
   "source": [
    "gensim_dictionary = corpora.Dictionary.load(\"Dictionaries/1990_erne/10_10_22_02\")"
   ]
  },
  {
   "cell_type": "markdown",
   "id": "bd31d8f8",
   "metadata": {},
   "source": [
    "## Cohenrence model"
   ]
  },
  {
   "cell_type": "code",
   "execution_count": 107,
   "id": "da549283",
   "metadata": {},
   "outputs": [],
   "source": [
    "def compute_coherence_values(k):\n",
    "    lda_model = gensim.models.ldamodel.LdaModel(corpus=gensim_corpus,\n",
    "                                           id2word=gensim_dictionary,\n",
    "                                           num_topics=k, \n",
    "                                           random_state=100,\n",
    "                                           chunksize=100,\n",
    "                                           passes=10,\n",
    "                                           alpha=\"auto\")\n",
    "    \n",
    "    coherence_model_lda = CoherenceModel(model=lda_model, texts=data_lemmatized, dictionary=gensim_dictionary, coherence='c_v')\n",
    "    return coherence_model_lda.get_coherence()"
   ]
  },
  {
   "cell_type": "code",
   "execution_count": 108,
   "id": "a11c035f",
   "metadata": {},
   "outputs": [
    {
     "name": "stdout",
     "output_type": "stream",
     "text": [
      "18\n",
      "19\n",
      "20\n",
      "21\n",
      "22\n",
      "23\n",
      "24\n",
      "25\n",
      "26\n",
      "27\n",
      "28\n",
      "29\n",
      "30\n",
      "31\n",
      "32\n",
      "33\n",
      "34\n"
     ]
    }
   ],
   "source": [
    "min_topics = 18\n",
    "max_topics = 35\n",
    "step_size = 1\n",
    "topics_range = range(min_topics, max_topics, step_size)\n",
    "\n",
    "#empty dataframe\n",
    "model_results = {'Topics': [],\n",
    "                 'Coherence': []\n",
    "                }\n",
    "\n",
    "# iterate through number of topics\n",
    "for k in topics_range:\n",
    "    print(k)\n",
    "    # get the coherence score for the given topics\n",
    "    cv = compute_coherence_values(k=k)\n",
    "    # Save the model results\n",
    "    model_results['Topics'].append(k)\n",
    "    model_results['Coherence'].append(cv)"
   ]
  },
  {
   "cell_type": "code",
   "execution_count": 109,
   "id": "99281017",
   "metadata": {},
   "outputs": [
    {
     "data": {
      "image/png": "[encoded data removed]",
      "text/plain": [
       "<Figure size 432x288 with 1 Axes>"
      ]
     },
     "metadata": {
      "needs_background": "light"
     },
     "output_type": "display_data"
    }
   ],
   "source": [
    "fig, ax = plt.subplots()\n",
    "ax.plot(model_results[\"Topics\"], model_results['Coherence'])\n",
    "ax.set_title(\"Model med low = 0.2\")\n",
    "fig.savefig(\"plots/1990_erne/Coherence_score_25_10_22\")"
   ]
  },
  {
   "cell_type": "code",
   "execution_count": 110,
   "id": "8a407674",
   "metadata": {},
   "outputs": [],
   "source": [
    "coherence_best = [coherence for coherence in model_results['Coherence']]\n",
    "coherence_best.sort(reverse = True)"
   ]
  },
  {
   "cell_type": "code",
   "execution_count": 111,
   "id": "0236cbc8",
   "metadata": {},
   "outputs": [
    {
     "name": "stdout",
     "output_type": "stream",
     "text": [
      "20\n",
      "21\n",
      "18\n",
      "19\n",
      "32\n"
     ]
    }
   ],
   "source": [
    "for top_coherence in coherence_best[0:5]:\n",
    "    number_topics = model_results[\"Topics\"][model_results['Coherence'].index(top_coherence)]\n",
    "    print(number_topics)\n",
    "    lda_model = gensim.models.ldamodel.LdaModel(\n",
    "        corpus=gensim_corpus, id2word=gensim_dictionary, num_topics=number_topics, random_state=100, \n",
    "        update_every=1, chunksize=100, passes=10, alpha='auto', per_word_topics=True\n",
    "    )\n",
    "    lda_model.save(f\"Modeller/1990_erne/25_10_2022/Model_{number_topics}_topics\")"
   ]
  },
  {
   "cell_type": "code",
   "execution_count": null,
   "id": "fe22e474",
   "metadata": {},
   "outputs": [],
   "source": [
    "best_number_topics = model_results[\"Topics\"][model_results['Coherence'].index(max(model_results['Coherence']))]\n",
    "best_number_topics"
   ]
  },
  {
   "cell_type": "code",
   "execution_count": 102,
   "id": "8d123a0f",
   "metadata": {},
   "outputs": [],
   "source": [
    "lda_model = gensim.models.ldamodel.LdaModel(\n",
    "   corpus=gensim_corpus, id2word=gensim_dictionary, num_topics=best_number_topics, random_state=100, \n",
    "   update_every=1, chunksize=100, passes=10, alpha='auto', per_word_topics=True\n",
    ")"
   ]
  },
  {
   "cell_type": "code",
   "execution_count": 103,
   "id": "f95f717a",
   "metadata": {},
   "outputs": [
    {
     "name": "stdout",
     "output_type": "stream",
     "text": [
      "[(0,\n",
      "  '0.139*\"forslag\" + 0.069*\"lov\" + 0.068*\"lovforslag\" + 0.044*\"ændring\" + '\n",
      "  '0.034*\"behandling\" + 0.032*\"fremsætte\" + 0.025*\"foreslå\" + 0.018*\"nr.\" + '\n",
      "  '0.018*\"udvalg\" + 0.014*\"folketing\"'),\n",
      " (1,\n",
      "  '0.058*\"nr.\" + 0.042*\"forespørgsel\" + 0.030*\"dagsorden\" + 0.027*\"sf\" + '\n",
      "  '0.024*\"v\" + 0.022*\"kvinde\" + 0.021*\"afstemning\" + 0.020*\"folketing\" + '\n",
      "  '0.020*\"elisabeth_arnold\" + 0.020*\"charlotte_antonsen\"'),\n",
      " (2,\n",
      "  '0.483*\"hr.\" + 0.039*\"keld_albrechtsen\" + 0.038*\"bemærkning\" + '\n",
      "  '0.033*\"nielsen\" + 0.021*\"ove_fich\" + 0.021*\"holger_k\" + 0.017*\"indtægt\" + '\n",
      "  '0.016*\"indlæg\" + 0.016*\"spørge\" + 0.011*\"frank_dahlgaard\"'),\n",
      " (3,\n",
      "  '0.111*\"bil\" + 0.099*\"færøerne\" + 0.051*\"bank\" + 0.048*\"trafik\" + '\n",
      "  '0.030*\"finanstilsyn\" + 0.028*\"landsstyre\" + 0.021*\"køre\" + 0.016*\"benzin\" + '\n",
      "  '0.013*\"ef-regi\" + 0.010*\"vægtafgift\"'),\n",
      " (4,\n",
      "  '0.046*\"marked\" + 0.043*\"landbrug\" + 0.042*\"produkt\" + 0.041*\"afgift\" + '\n",
      "  '0.032*\"forbruger\" + 0.026*\"vare\" + 0.024*\"virksomhed\" + 0.023*\"landmand\" + '\n",
      "  '0.022*\"pris\" + 0.018*\"fødevare\"'),\n",
      " (5,\n",
      "  '0.064*\"regering\" + 0.043*\"kr.\" + 0.027*\"år\" + 0.027*\"finanslov\" + '\n",
      "  '0.025*\"mia._kr\" + 0.025*\"udgift\" + 0.024*\"betale\" + 0.021*\"skatte\" + '\n",
      "  '0.018*\"penge\" + 0.015*\"erhvervsliv\"'),\n",
      " (6,\n",
      "  '0.019*\"gå\" + 0.014*\"altså\" + 0.014*\"dag\" + 0.013*\"gerne\" + 0.012*\"mene\" + '\n",
      "  '0.011*\"tro\" + 0.010*\"give\" + 0.010*\"problem\" + 0.010*\"danmark\" + '\n",
      "  '0.010*\"regering\"'),\n",
      " (7,\n",
      "  '0.126*\"euro\" + 0.058*\"valuta\" + 0.051*\"ømu\\'en\" + 0.048*\"krone\" + '\n",
      "  '0.042*\"økonomiminister\" + 0.030*\"fordel\" + 0.028*\"september\" + 0.023*\"mønt\" '\n",
      "  '+ 0.023*\"økonomi\" + 0.021*\"centralbank\"'),\n",
      " (8,\n",
      "  '0.121*\"fiskeri\" + 0.058*\"fisker\" + 0.050*\"fisk\" + 0.030*\"erhverv\" + '\n",
      "  '0.025*\"østersøen\" + 0.021*\"annette\" + 0.021*\"dyrevelfærd\" + '\n",
      "  '0.020*\"videregående_uddannelser\" + 0.018*\"fiskerierhverv\" + '\n",
      "  '0.016*\"svineproduktion\"'),\n",
      " (9,\n",
      "  '0.068*\"spørgsmål\" + 0.053*\"minister\" + 0.033*\"svar\" + 0.032*\"kommission\" + '\n",
      "  '0.025*\"sag\" + 0.020*\"oplyse\" + 0.019*\"s\" + 0.019*\"begrundelse\" + '\n",
      "  '0.014*\"spm._nr\" + 0.012*\"artikel\"'),\n",
      " (10,\n",
      "  '0.138*\"virksomhed\" + 0.075*\"kommune\" + 0.057*\"barn\" + 0.036*\"uddannelse\" + '\n",
      "  '0.027*\"arbejdsmarked\" + 0.021*\"institution\" + 0.021*\"tilbud\" + '\n",
      "  '0.020*\"ansætte\" + 0.018*\"medarbejder\" + 0.017*\"arbejdsgiver\"'),\n",
      " (11,\n",
      "  '0.023*\"regering\" + 0.020*\"år\" + 0.017*\"udvikling\" + 0.014*\"arbejde\" + '\n",
      "  '0.013*\"mulighed\" + 0.012*\"indsats\" + 0.011*\"område\" + 0.010*\"sikre\" + '\n",
      "  '0.009*\"støtte\" + 0.009*\"redegørelse\"'),\n",
      " (12,\n",
      "  '0.053*\"uddannelsesinstitution\" + 0.043*\"albrechtsen\" + '\n",
      "  '0.015*\"rammebetingelse\" + 0.013*\"fg.\" + 0.013*\"landbrugsprodukt\" + '\n",
      "  '0.012*\"titel\" + 0.012*\"frank_jensen\" + 0.009*\"gældsætning\" + 0.005*\"cirkus\" '\n",
      "  '+ 0.004*\"udslag\"'),\n",
      " (13,\n",
      "  '0.037*\"regel\" + 0.017*\"gælde\" + 0.017*\"bestemmelse\" + 0.014*\"danmark\" + '\n",
      "  '0.014*\"forbindelse\" + 0.013*\"omfatte\" + 0.013*\"krav\" + 0.012*\"direktiv\" + '\n",
      "  '0.012*\"myndighed\" + 0.011*\"indeholde\"'),\n",
      " (14,\n",
      "  '0.117*\"flygtning\" + 0.067*\"udlænding\" + 0.041*\"asylansøger\" + '\n",
      "  '0.033*\"opholdstilladelse\" + 0.028*\"ophold\" + 0.027*\"asyl\" + '\n",
      "  '0.026*\"udlændingelov\" + 0.025*\"asylansøgning\" + 0.022*\"indenrigsminister\" + '\n",
      "  '0.022*\"person\"'),\n",
      " (15,\n",
      "  '0.227*\"ef\" + 0.089*\"]\" + 0.059*\"f._t\" + 0.057*\"ef\\'s\" + 0.041*\"beh.\" + '\n",
      "  '0.032*\"ef-lande\" + 0.030*\"gade\" + 0.018*\"levnedsmiddel\" + '\n",
      "  '0.017*\"danmarks_tiltrædelse\" + 0.016*\"betænkelighed\"'),\n",
      " (16,\n",
      "  '0.154*\"stof\" + 0.064*\"affald\" + 0.054*\"bemærke\" + 0.045*\"rasmussen\" + '\n",
      "  '0.040*\"lægemiddel\" + 0.034*\"anders_fogh\" + 0.025*\"sundhedsstyrelse\" + '\n",
      "  '0.022*\"sundhedsminister\" + 0.019*\"patient\" + 0.019*\"grænseværdi\"'),\n",
      " (17,\n",
      "  '0.064*\"land\" + 0.032*\"samarbejde\" + 0.029*\"eu\" + 0.029*\"danmark\" + '\n",
      "  '0.021*\"statsminister\" + 0.021*\"europa\" + 0.014*\"folkeafstemning\" + '\n",
      "  '0.014*\"regering\" + 0.014*\"union\" + 0.012*\"udenrigsminister\"'),\n",
      " (18,\n",
      "  '0.084*\"skib\" + 0.048*\"dsb\" + 0.045*\"landbrugsminister\" + 0.045*\"rederi\" + '\n",
      "  '0.041*\"færgeleje\" + 0.027*\"færge\" + 0.025*\"sejle\" + 0.025*\"efterløn\" + '\n",
      "  '0.023*\"kommunalbestyrelse\" + 0.013*\"skattelovgivning\"')]\n"
     ]
    }
   ],
   "source": [
    "pprint(lda_model.print_topics(-1))"
   ]
  },
  {
   "cell_type": "code",
   "execution_count": 43,
   "id": "7b4d04c4",
   "metadata": {},
   "outputs": [],
   "source": [
    "#temp_file = datapath(\"LDA_1990_topics_27_09_22_med_adv\")\n",
    "#lda_model.save(f\"Speciale_scripts/Modeller/1990_erne/04_10_22/Model_\")"
   ]
  },
  {
   "cell_type": "markdown",
   "id": "7987b2c5",
   "metadata": {},
   "source": [
    "### Undersøgelse af topic models:"
   ]
  },
  {
   "cell_type": "code",
   "execution_count": 40,
   "id": "caeff1b9",
   "metadata": {},
   "outputs": [],
   "source": [
    "def topic_counter(data_lemmatized, topic_number):\n",
    "    topics_subject = []\n",
    "    topics_subject_sand = []\n",
    "    for index in range(len(data_lemmatized)):\n",
    "        bow = gensim_dictionary.doc2bow(data_lemmatized[index])\n",
    "        eu_tale_topic_distribution = lda_model.get_document_topics(bow)\n",
    "        for topic, sand in eu_tale_topic_distribution:\n",
    "            if topic == topic_number:\n",
    "                topics_subject.append(index)\n",
    "                topics_subject_sand.append(sand)\n",
    "    return topics_subject, topics_subject_sand"
   ]
  },
  {
   "cell_type": "code",
   "execution_count": 41,
   "id": "a14ed727",
   "metadata": {},
   "outputs": [],
   "source": [
    "def year_counter(topics_subject):\n",
    "    year_datapoints = [Alle_taler_år[i] for i in topics_subject]\n",
    "    year_numbers = []\n",
    "    for år in år_1990erne:\n",
    "        year_numbers.append(year_datapoints.count(år))\n",
    "    return year_numbers"
   ]
  },
  {
   "cell_type": "code",
   "execution_count": 42,
   "id": "e739fec1",
   "metadata": {},
   "outputs": [
    {
     "data": {
      "text/plain": [
       "['1990',\n",
       " '1991',\n",
       " '1992',\n",
       " '1993',\n",
       " '1994',\n",
       " '1995',\n",
       " '1996',\n",
       " '1997',\n",
       " '1998',\n",
       " '1999']"
      ]
     },
     "execution_count": 42,
     "metadata": {},
     "output_type": "execute_result"
    }
   ],
   "source": [
    "år_1990erne = [str(1990+i) for i in range(10)]\n",
    "år_1990erne"
   ]
  },
  {
   "cell_type": "code",
   "execution_count": 43,
   "id": "065169f9",
   "metadata": {},
   "outputs": [
    {
     "data": {
      "text/plain": [
       "['90/91',\n",
       " '91/92',\n",
       " '92/93',\n",
       " '93/94',\n",
       " '94/95',\n",
       " '95/96',\n",
       " '96/97',\n",
       " '97/98',\n",
       " '98/99',\n",
       " '99/00']"
      ]
     },
     "execution_count": 43,
     "metadata": {},
     "output_type": "execute_result"
    }
   ],
   "source": [
    "folketingsår = [str(90 + i) + \"/\" + str(90 + i + 1) for i in range(9)] + [\"99/00\"]\n",
    "folketingsår"
   ]
  },
  {
   "cell_type": "code",
   "execution_count": 116,
   "id": "c23129b9",
   "metadata": {},
   "outputs": [
    {
     "ename": "FileNotFoundError",
     "evalue": "[Errno 2] No such file or directory: 'Modeller/2000_erne/25_10_2022/Model_20_topics'",
     "output_type": "error",
     "traceback": [
      "\u001b[0;31m---------------------------------------------------------------------------\u001b[0m",
      "\u001b[0;31mFileNotFoundError\u001b[0m                         Traceback (most recent call last)",
      "Input \u001b[0;32mIn [116]\u001b[0m, in \u001b[0;36m<module>\u001b[0;34m\u001b[0m\n\u001b[0;32m----> 1\u001b[0m lda_model \u001b[38;5;241m=\u001b[39m \u001b[43mgensim\u001b[49m\u001b[38;5;241;43m.\u001b[39;49m\u001b[43mmodels\u001b[49m\u001b[38;5;241;43m.\u001b[39;49m\u001b[43mldamodel\u001b[49m\u001b[38;5;241;43m.\u001b[39;49m\u001b[43mLdaModel\u001b[49m\u001b[38;5;241;43m.\u001b[39;49m\u001b[43mload\u001b[49m\u001b[43m(\u001b[49m\u001b[38;5;124;43m\"\u001b[39;49m\u001b[38;5;124;43mModeller/2000_erne/25_10_2022/Model_20_topics\u001b[39;49m\u001b[38;5;124;43m\"\u001b[39;49m\u001b[43m)\u001b[49m\n\u001b[1;32m      2\u001b[0m pprint(lda_model\u001b[38;5;241m.\u001b[39mprint_topics(\u001b[38;5;241m-\u001b[39m\u001b[38;5;241m1\u001b[39m))\n",
      "File \u001b[0;32m/Library/Frameworks/Python.framework/Versions/3.10/lib/python3.10/site-packages/gensim/models/ldamodel.py:1662\u001b[0m, in \u001b[0;36mLdaModel.load\u001b[0;34m(cls, fname, *args, **kwargs)\u001b[0m\n\u001b[1;32m   1633\u001b[0m \u001b[38;5;124;03m\"\"\"Load a previously saved :class:`gensim.models.ldamodel.LdaModel` from file.\u001b[39;00m\n\u001b[1;32m   1634\u001b[0m \n\u001b[1;32m   1635\u001b[0m \u001b[38;5;124;03mSee Also\u001b[39;00m\n\u001b[0;32m   (...)\u001b[0m\n\u001b[1;32m   1659\u001b[0m \n\u001b[1;32m   1660\u001b[0m \u001b[38;5;124;03m\"\"\"\u001b[39;00m\n\u001b[1;32m   1661\u001b[0m kwargs[\u001b[38;5;124m'\u001b[39m\u001b[38;5;124mmmap\u001b[39m\u001b[38;5;124m'\u001b[39m] \u001b[38;5;241m=\u001b[39m kwargs\u001b[38;5;241m.\u001b[39mget(\u001b[38;5;124m'\u001b[39m\u001b[38;5;124mmmap\u001b[39m\u001b[38;5;124m'\u001b[39m, \u001b[38;5;28;01mNone\u001b[39;00m)\n\u001b[0;32m-> 1662\u001b[0m result \u001b[38;5;241m=\u001b[39m \u001b[38;5;28;43msuper\u001b[39;49m\u001b[43m(\u001b[49m\u001b[43mLdaModel\u001b[49m\u001b[43m,\u001b[49m\u001b[43m \u001b[49m\u001b[38;5;28;43mcls\u001b[39;49m\u001b[43m)\u001b[49m\u001b[38;5;241;43m.\u001b[39;49m\u001b[43mload\u001b[49m\u001b[43m(\u001b[49m\u001b[43mfname\u001b[49m\u001b[43m,\u001b[49m\u001b[43m \u001b[49m\u001b[38;5;241;43m*\u001b[39;49m\u001b[43margs\u001b[49m\u001b[43m,\u001b[49m\u001b[43m \u001b[49m\u001b[38;5;241;43m*\u001b[39;49m\u001b[38;5;241;43m*\u001b[39;49m\u001b[43mkwargs\u001b[49m\u001b[43m)\u001b[49m\n\u001b[1;32m   1664\u001b[0m \u001b[38;5;66;03m# check if `random_state` attribute has been set after main pickle load\u001b[39;00m\n\u001b[1;32m   1665\u001b[0m \u001b[38;5;66;03m# if set -> the model to be loaded was saved using a >= 0.13.2 version of Gensim\u001b[39;00m\n\u001b[1;32m   1666\u001b[0m \u001b[38;5;66;03m# if not set -> the model to be loaded was saved using a < 0.13.2 version of Gensim,\u001b[39;00m\n\u001b[1;32m   1667\u001b[0m \u001b[38;5;66;03m# so set `random_state` as the default value\u001b[39;00m\n\u001b[1;32m   1668\u001b[0m \u001b[38;5;28;01mif\u001b[39;00m \u001b[38;5;129;01mnot\u001b[39;00m \u001b[38;5;28mhasattr\u001b[39m(result, \u001b[38;5;124m'\u001b[39m\u001b[38;5;124mrandom_state\u001b[39m\u001b[38;5;124m'\u001b[39m):\n",
      "File \u001b[0;32m/Library/Frameworks/Python.framework/Versions/3.10/lib/python3.10/site-packages/gensim/utils.py:486\u001b[0m, in \u001b[0;36mSaveLoad.load\u001b[0;34m(cls, fname, mmap)\u001b[0m\n\u001b[1;32m    482\u001b[0m logger\u001b[38;5;241m.\u001b[39minfo(\u001b[38;5;124m\"\u001b[39m\u001b[38;5;124mloading \u001b[39m\u001b[38;5;132;01m%s\u001b[39;00m\u001b[38;5;124m object from \u001b[39m\u001b[38;5;132;01m%s\u001b[39;00m\u001b[38;5;124m\"\u001b[39m, \u001b[38;5;28mcls\u001b[39m\u001b[38;5;241m.\u001b[39m\u001b[38;5;18m__name__\u001b[39m, fname)\n\u001b[1;32m    484\u001b[0m compress, subname \u001b[38;5;241m=\u001b[39m SaveLoad\u001b[38;5;241m.\u001b[39m_adapt_by_suffix(fname)\n\u001b[0;32m--> 486\u001b[0m obj \u001b[38;5;241m=\u001b[39m \u001b[43munpickle\u001b[49m\u001b[43m(\u001b[49m\u001b[43mfname\u001b[49m\u001b[43m)\u001b[49m\n\u001b[1;32m    487\u001b[0m obj\u001b[38;5;241m.\u001b[39m_load_specials(fname, mmap, compress, subname)\n\u001b[1;32m    488\u001b[0m obj\u001b[38;5;241m.\u001b[39madd_lifecycle_event(\u001b[38;5;124m\"\u001b[39m\u001b[38;5;124mloaded\u001b[39m\u001b[38;5;124m\"\u001b[39m, fname\u001b[38;5;241m=\u001b[39mfname)\n",
      "File \u001b[0;32m/Library/Frameworks/Python.framework/Versions/3.10/lib/python3.10/site-packages/gensim/utils.py:1460\u001b[0m, in \u001b[0;36munpickle\u001b[0;34m(fname)\u001b[0m\n\u001b[1;32m   1446\u001b[0m \u001b[38;5;28;01mdef\u001b[39;00m \u001b[38;5;21munpickle\u001b[39m(fname):\n\u001b[1;32m   1447\u001b[0m     \u001b[38;5;124;03m\"\"\"Load object from `fname`, using smart_open so that `fname` can be on S3, HDFS, compressed etc.\u001b[39;00m\n\u001b[1;32m   1448\u001b[0m \n\u001b[1;32m   1449\u001b[0m \u001b[38;5;124;03m    Parameters\u001b[39;00m\n\u001b[0;32m   (...)\u001b[0m\n\u001b[1;32m   1458\u001b[0m \n\u001b[1;32m   1459\u001b[0m \u001b[38;5;124;03m    \"\"\"\u001b[39;00m\n\u001b[0;32m-> 1460\u001b[0m     \u001b[38;5;28;01mwith\u001b[39;00m \u001b[38;5;28;43mopen\u001b[39;49m\u001b[43m(\u001b[49m\u001b[43mfname\u001b[49m\u001b[43m,\u001b[49m\u001b[43m \u001b[49m\u001b[38;5;124;43m'\u001b[39;49m\u001b[38;5;124;43mrb\u001b[39;49m\u001b[38;5;124;43m'\u001b[39;49m\u001b[43m)\u001b[49m \u001b[38;5;28;01mas\u001b[39;00m f:\n\u001b[1;32m   1461\u001b[0m         \u001b[38;5;28;01mreturn\u001b[39;00m _pickle\u001b[38;5;241m.\u001b[39mload(f, encoding\u001b[38;5;241m=\u001b[39m\u001b[38;5;124m'\u001b[39m\u001b[38;5;124mlatin1\u001b[39m\u001b[38;5;124m'\u001b[39m)\n",
      "File \u001b[0;32m/Library/Frameworks/Python.framework/Versions/3.10/lib/python3.10/site-packages/smart_open/smart_open_lib.py:188\u001b[0m, in \u001b[0;36mopen\u001b[0;34m(uri, mode, buffering, encoding, errors, newline, closefd, opener, ignore_ext, compression, transport_params)\u001b[0m\n\u001b[1;32m    185\u001b[0m \u001b[38;5;28;01mif\u001b[39;00m transport_params \u001b[38;5;129;01mis\u001b[39;00m \u001b[38;5;28;01mNone\u001b[39;00m:\n\u001b[1;32m    186\u001b[0m     transport_params \u001b[38;5;241m=\u001b[39m {}\n\u001b[0;32m--> 188\u001b[0m fobj \u001b[38;5;241m=\u001b[39m \u001b[43m_shortcut_open\u001b[49m\u001b[43m(\u001b[49m\n\u001b[1;32m    189\u001b[0m \u001b[43m    \u001b[49m\u001b[43muri\u001b[49m\u001b[43m,\u001b[49m\n\u001b[1;32m    190\u001b[0m \u001b[43m    \u001b[49m\u001b[43mmode\u001b[49m\u001b[43m,\u001b[49m\n\u001b[1;32m    191\u001b[0m \u001b[43m    \u001b[49m\u001b[43mcompression\u001b[49m\u001b[38;5;241;43m=\u001b[39;49m\u001b[43mcompression\u001b[49m\u001b[43m,\u001b[49m\n\u001b[1;32m    192\u001b[0m \u001b[43m    \u001b[49m\u001b[43mbuffering\u001b[49m\u001b[38;5;241;43m=\u001b[39;49m\u001b[43mbuffering\u001b[49m\u001b[43m,\u001b[49m\n\u001b[1;32m    193\u001b[0m \u001b[43m    \u001b[49m\u001b[43mencoding\u001b[49m\u001b[38;5;241;43m=\u001b[39;49m\u001b[43mencoding\u001b[49m\u001b[43m,\u001b[49m\n\u001b[1;32m    194\u001b[0m \u001b[43m    \u001b[49m\u001b[43merrors\u001b[49m\u001b[38;5;241;43m=\u001b[39;49m\u001b[43merrors\u001b[49m\u001b[43m,\u001b[49m\n\u001b[1;32m    195\u001b[0m \u001b[43m    \u001b[49m\u001b[43mnewline\u001b[49m\u001b[38;5;241;43m=\u001b[39;49m\u001b[43mnewline\u001b[49m\u001b[43m,\u001b[49m\n\u001b[1;32m    196\u001b[0m \u001b[43m\u001b[49m\u001b[43m)\u001b[49m\n\u001b[1;32m    197\u001b[0m \u001b[38;5;28;01mif\u001b[39;00m fobj \u001b[38;5;129;01mis\u001b[39;00m \u001b[38;5;129;01mnot\u001b[39;00m \u001b[38;5;28;01mNone\u001b[39;00m:\n\u001b[1;32m    198\u001b[0m     \u001b[38;5;28;01mreturn\u001b[39;00m fobj\n",
      "File \u001b[0;32m/Library/Frameworks/Python.framework/Versions/3.10/lib/python3.10/site-packages/smart_open/smart_open_lib.py:361\u001b[0m, in \u001b[0;36m_shortcut_open\u001b[0;34m(uri, mode, compression, buffering, encoding, errors, newline)\u001b[0m\n\u001b[1;32m    358\u001b[0m \u001b[38;5;28;01mif\u001b[39;00m errors \u001b[38;5;129;01mand\u001b[39;00m \u001b[38;5;124m'\u001b[39m\u001b[38;5;124mb\u001b[39m\u001b[38;5;124m'\u001b[39m \u001b[38;5;129;01mnot\u001b[39;00m \u001b[38;5;129;01min\u001b[39;00m mode:\n\u001b[1;32m    359\u001b[0m     open_kwargs[\u001b[38;5;124m'\u001b[39m\u001b[38;5;124merrors\u001b[39m\u001b[38;5;124m'\u001b[39m] \u001b[38;5;241m=\u001b[39m errors\n\u001b[0;32m--> 361\u001b[0m \u001b[38;5;28;01mreturn\u001b[39;00m \u001b[43m_builtin_open\u001b[49m\u001b[43m(\u001b[49m\u001b[43mlocal_path\u001b[49m\u001b[43m,\u001b[49m\u001b[43m \u001b[49m\u001b[43mmode\u001b[49m\u001b[43m,\u001b[49m\u001b[43m \u001b[49m\u001b[43mbuffering\u001b[49m\u001b[38;5;241;43m=\u001b[39;49m\u001b[43mbuffering\u001b[49m\u001b[43m,\u001b[49m\u001b[43m \u001b[49m\u001b[38;5;241;43m*\u001b[39;49m\u001b[38;5;241;43m*\u001b[39;49m\u001b[43mopen_kwargs\u001b[49m\u001b[43m)\u001b[49m\n",
      "\u001b[0;31mFileNotFoundError\u001b[0m: [Errno 2] No such file or directory: 'Modeller/2000_erne/25_10_2022/Model_20_topics'"
     ]
    }
   ],
   "source": [
    "lda_model = gensim.models.ldamodel.LdaModel.load(\"Modeller/2000_erne/25_10_2022/Model_20_topics\")\n",
    "pprint(lda_model.print_topics(-1))"
   ]
  },
  {
   "cell_type": "markdown",
   "id": "5831e136",
   "metadata": {},
   "source": [
    "10_10_2022_02/Model_30_topics bruges i opgaven."
   ]
  },
  {
   "cell_type": "markdown",
   "id": "8aebdea3",
   "metadata": {},
   "source": [
    "### Undersøgelse af topic 8"
   ]
  },
  {
   "cell_type": "code",
   "execution_count": 70,
   "id": "8d369663",
   "metadata": {},
   "outputs": [
    {
     "data": {
      "text/plain": [
       "2742"
      ]
     },
     "execution_count": 70,
     "metadata": {},
     "output_type": "execute_result"
    }
   ],
   "source": [
    "topics_union = []\n",
    "topics_union_sand = []\n",
    "for index in range(len(gensim_corpus)):\n",
    "    bow = gensim_dictionary.doc2bow(data_lemmatized[index])\n",
    "    eu_tale_topic_distribution = lda_model.get_document_topics(bow)\n",
    "    for topic, sand in eu_tale_topic_distribution:\n",
    "        if topic == 0:\n",
    "            topics_union.append(index)\n",
    "            topics_union_sand.append(sand)\n",
    "len(topics_union)"
   ]
  },
  {
   "cell_type": "code",
   "execution_count": 71,
   "id": "6b1c0b5e",
   "metadata": {},
   "outputs": [],
   "source": [
    "topics_union_år = [Alle_taler_år[i] for i in topics_union]\n",
    "topics_union_antal_taler_1980eren = []\n",
    "\n",
    "for år in år_1990erne:\n",
    "    topics_union_antal_taler_1980eren.append(topics_union_år.count(år))\n",
    "topics_union_andel = [topics_union_antal_taler_1980eren[i]/antal_taler_år[i] for i in range(10)]"
   ]
  },
  {
   "cell_type": "code",
   "execution_count": 72,
   "id": "d1941f0f",
   "metadata": {},
   "outputs": [
    {
     "data": {
      "image/png": "[encoded data removed]",
      "text/plain": [
       "<Figure size 432x288 with 2 Axes>"
      ]
     },
     "metadata": {
      "needs_background": "light"
     },
     "output_type": "display_data"
    }
   ],
   "source": [
    "fig, (ax1, ax2) = plt.subplots(2, 1)\n",
    "ax1.set_title(\"Andel af folketingstaler der nævner EF relateret til topic 20\")\n",
    "ax1.plot(folketingsår, topics_union_andel)\n",
    "ax1.set_ylim([0, 0.5])\n",
    "ax2.set_title(\"Antal af folketingstaler der nævner EF relateret til topic 20\")\n",
    "ax2.bar(folketingsår, topics_union_antal_taler_1980eren)\n",
    "fig.tight_layout(pad=1.0)\n",
    "#fig.savefig(\"plots/1980_erne/Andel_af_folketingstaler_der_nævner_EF relateret_til_topic_20\")"
   ]
  },
  {
   "cell_type": "markdown",
   "id": "55b36745",
   "metadata": {},
   "source": [
    "### Undersøgelse af topics"
   ]
  },
  {
   "cell_type": "code",
   "execution_count": 73,
   "id": "463bddc2",
   "metadata": {},
   "outputs": [],
   "source": [
    "colors = [\"b\", \"g\", \"r\", \"c\", \"m\", \"y\", \"k\"]"
   ]
  },
  {
   "cell_type": "code",
   "execution_count": 153,
   "id": "e57470e9",
   "metadata": {},
   "outputs": [
    {
     "data": {
      "text/plain": [
       "(0.0, 1.0)"
      ]
     },
     "execution_count": 153,
     "metadata": {},
     "output_type": "execute_result"
    },
    {
     "data": {
      "image/png": "[encoded data removed]",
      "text/plain": [
       "<Figure size 432x288 with 1 Axes>"
      ]
     },
     "metadata": {
      "needs_background": "light"
     },
     "output_type": "display_data"
    }
   ],
   "source": [
    "fig, ax = plt.subplots()\n",
    "for topic_number in range(7):\n",
    "    topics, topics_sand = topic_counter(data_lemmatized, topic_number)\n",
    "    topics_count = year_counter(topics)\n",
    "    andel = [topics_count[i]/antal_taler_år[i] for i in range(10)]\n",
    "    ax.plot(folketingsår, andel, label=f'Topic {topic_number}', color = colors[topic_number])\n",
    "ax.legend()\n",
    "ax.set_ylim([0, 1])"
   ]
  },
  {
   "cell_type": "code",
   "execution_count": 154,
   "id": "3f2d290e",
   "metadata": {},
   "outputs": [
    {
     "data": {
      "text/plain": [
       "(0.0, 1.0)"
      ]
     },
     "execution_count": 154,
     "metadata": {},
     "output_type": "execute_result"
    },
    {
     "data": {
      "image/png": "[encoded data removed]",
      "text/plain": [
       "<Figure size 432x288 with 1 Axes>"
      ]
     },
     "metadata": {
      "needs_background": "light"
     },
     "output_type": "display_data"
    }
   ],
   "source": [
    "fig, ax = plt.subplots()\n",
    "for topic_number in range(7,14):\n",
    "    topics, topics_sand = topic_counter(data_lemmatized, topic_number)\n",
    "    topics_count = year_counter(topics)\n",
    "    andel = [topics_count[i]/antal_taler_år[i] for i in range(10)]\n",
    "    ax.plot(folketingsår, andel, label=f'Topic {topic_number}', color = colors[topic_number%7])\n",
    "ax.legend()\n",
    "ax.set_ylim([0, 1])"
   ]
  },
  {
   "cell_type": "code",
   "execution_count": 206,
   "id": "f37ac106",
   "metadata": {},
   "outputs": [
    {
     "data": {
      "text/plain": [
       "(0.0, 1.0)"
      ]
     },
     "execution_count": 206,
     "metadata": {},
     "output_type": "execute_result"
    },
    {
     "data": {
      "image/png": "[encoded data removed]",
      "text/plain": [
       "<Figure size 432x288 with 1 Axes>"
      ]
     },
     "metadata": {
      "needs_background": "light"
     },
     "output_type": "display_data"
    }
   ],
   "source": [
    "fig, ax = plt.subplots()\n",
    "for topic_number in range(14,21):\n",
    "    topics, topics_sand = topic_counter(data_lemmatized, topic_number)\n",
    "    topics_count = year_counter(topics)\n",
    "    andel = [topics_count[i]/antal_taler_år[i] for i in range(10)]\n",
    "    ax.plot(folketingsår, andel, label=f'Topic {topic_number}', color = colors[topic_number%7])\n",
    "ax.legend()\n",
    "ax.set_ylim([0, 1])"
   ]
  },
  {
   "cell_type": "code",
   "execution_count": 156,
   "id": "9b40bbf1",
   "metadata": {},
   "outputs": [
    {
     "data": {
      "text/plain": [
       "(0.0, 1.0)"
      ]
     },
     "execution_count": 156,
     "metadata": {},
     "output_type": "execute_result"
    },
    {
     "data": {
      "image/png": "[encoded data removed]",
      "text/plain": [
       "<Figure size 432x288 with 1 Axes>"
      ]
     },
     "metadata": {
      "needs_background": "light"
     },
     "output_type": "display_data"
    }
   ],
   "source": [
    "fig, ax = plt.subplots()\n",
    "for topic_number in range(21,28):\n",
    "    topics, topics_sand = topic_counter(data_lemmatized, topic_number)\n",
    "    topics_count = year_counter(topics)\n",
    "    andel = [topics_count[i]/antal_taler_år[i] for i in range(10)]\n",
    "    ax.plot(folketingsår, andel, label=f'Topic {topic_number}', color = colors[topic_number%7])\n",
    "ax.legend()\n",
    "ax.set_ylim([0, 1])"
   ]
  },
  {
   "cell_type": "code",
   "execution_count": 157,
   "id": "8b0dd8f6",
   "metadata": {},
   "outputs": [
    {
     "data": {
      "text/plain": [
       "(0.0, 1.0)"
      ]
     },
     "execution_count": 157,
     "metadata": {},
     "output_type": "execute_result"
    },
    {
     "data": {
      "image/png": "[encoded data removed]",
      "text/plain": [
       "<Figure size 432x288 with 1 Axes>"
      ]
     },
     "metadata": {
      "needs_background": "light"
     },
     "output_type": "display_data"
    }
   ],
   "source": [
    "fig, ax = plt.subplots()\n",
    "for topic_number in range(28,30):\n",
    "    topics, topics_sand = topic_counter(data_lemmatized, topic_number)\n",
    "    topics_count = year_counter(topics)\n",
    "    andel = [topics_count[i]/antal_taler_år[i] for i in range(10)]\n",
    "    ax.plot(folketingsår, andel, label=f'Topic {topic_number}', color = colors[topic_number%7])\n",
    "ax.legend()\n",
    "ax.set_ylim([0, 1])"
   ]
  },
  {
   "cell_type": "markdown",
   "id": "430fe59c",
   "metadata": {},
   "source": [
    "# Undersøgelse af topics:"
   ]
  },
  {
   "cell_type": "markdown",
   "id": "fdcadfa5",
   "metadata": {},
   "source": [
    "### Topic 1:"
   ]
  },
  {
   "cell_type": "code",
   "execution_count": 176,
   "id": "439706e9",
   "metadata": {},
   "outputs": [
    {
     "data": {
      "text/plain": [
       "601"
      ]
     },
     "execution_count": 176,
     "metadata": {},
     "output_type": "execute_result"
    }
   ],
   "source": [
    "topics_1 = []\n",
    "topics_1_sand = []\n",
    "for index in range(len(gensim_corpus)):\n",
    "    bow = gensim_dictionary.doc2bow(data_lemmatized[index])\n",
    "    eu_tale_topic_distribution = lda_model.get_document_topics(bow)\n",
    "    for topic, sand in eu_tale_topic_distribution:\n",
    "        if topic == 1:\n",
    "            topics_1.append(index)\n",
    "            topics_1_sand.append(sand)\n",
    "len(topics_1)"
   ]
  },
  {
   "cell_type": "code",
   "execution_count": 171,
   "id": "fbb8681c",
   "metadata": {},
   "outputs": [],
   "source": [
    "topics_1_år = [Alle_taler_år[i] for i in topics_1]\n",
    "topics_1_antal_taler_1980eren = []\n",
    "\n",
    "for år in år_1990erne:\n",
    "    topics_1_antal_taler_1980eren.append(topics_1_år.count(år))\n",
    "topics_1_andel = [topics_1_antal_taler_1980eren[i]/antal_taler_år[i] for i in range(10)]"
   ]
  },
  {
   "cell_type": "code",
   "execution_count": 172,
   "id": "0d7b262c",
   "metadata": {},
   "outputs": [
    {
     "data": {
      "image/png": "[encoded data removed]",
      "text/plain": [
       "<Figure size 432x288 with 2 Axes>"
      ]
     },
     "metadata": {
      "needs_background": "light"
     },
     "output_type": "display_data"
    }
   ],
   "source": [
    "fig, (ax1, ax2) = plt.subplots(2, 1)\n",
    "ax1.set_title(\"Andel af folketingstaler der nævner EF relateret til topic 1\")\n",
    "ax1.plot(folketingsår, topics_1_andel)\n",
    "ax1.set_ylim([0, 0.1])\n",
    "ax2.set_title(\"Antal af folketingstaler der nævner EF relateret til topic 1\")\n",
    "ax2.bar(folketingsår, topics_1_antal_taler_1980eren)\n",
    "fig.tight_layout(pad=1.0)\n",
    "#fig.savefig(\"plots/1980_erne/Andel_af_folketingstaler_der_nævner_EF relateret_til_topic_20\")"
   ]
  },
  {
   "cell_type": "code",
   "execution_count": 173,
   "id": "e2f76d50",
   "metadata": {},
   "outputs": [
    {
     "data": {
      "text/plain": [
       "73"
      ]
     },
     "execution_count": 173,
     "metadata": {},
     "output_type": "execute_result"
    }
   ],
   "source": [
    "topics_1_sand.index(max(topics_1_sand))"
   ]
  },
  {
   "cell_type": "code",
   "execution_count": 174,
   "id": "ddedd741",
   "metadata": {},
   "outputs": [
    {
     "data": {
      "text/plain": [
       "2660"
      ]
     },
     "execution_count": 174,
     "metadata": {},
     "output_type": "execute_result"
    }
   ],
   "source": [
    "topics_1[73]"
   ]
  },
  {
   "cell_type": "code",
   "execution_count": 175,
   "id": "13dcfdb5",
   "metadata": {},
   "outputs": [
    {
     "data": {
      "text/plain": [
       "' Jeg kan svare hr. Ole Donner, at den udtalelse, jeg kom med under andenbehandlingen, er fuldstændig i overensstemmelse med realiteterne omkring dette forslag. Det, hr. Ole Donner nu rejser, er spørgsmålet, om det ændringsforslag, der nu skal til afstemning, er i overensstemmelse med EF-ret- ten, og dér er det korrekt, som hr. Ole Donner refererer, at man ikke på forhånd kan udelukke, at der kan være et problem, men som hr. Ole Donner også vil vide fra det pågældende notat, er det vurderingen, at det næppe er sandsynligt, at EF vil gøre indsigelse mod forslaget. Beskatningen af fremmedmøntede fordringer vil nemlig fortsat generelt være symmetrisk. Det er kun på dette ene lille begrænse- 11085 19/6 92: 3. beh. af f. t. 1. vedr. koncerninterne fordringer m.v. 11086 [Skatteministeren] de område, at hr. Stavad og andre nu vil bryde symmetrien. Derfor har jeg ingen intentioner om at rejse dette spørgsmål i forhold til EF- myndighederne. Endvidere skal jeg afslutningsvis - for det bliver så afslutningsvis - blot sige til hr. Stavad, at netop hr. Stavads eksempel er meget godt til illustration af urimeligheden i ændringsforslaget. Lad os bare bruge det eksempel, som hr. Stavad brugte, nemlig at hr. Stavad tog sig den dristighed at kautionere for et lån, som jeg havde optaget; skal vi sige, at jeg optager et lån i D-mark og hr. Stavad tager den risiko at kautionere for dette lån. Så siger hr. Stavad, at hvis nu skatteministeren kommer i den situation, at han ikke kan indfri sit lån, så bliver kautionen effektiv i forhold til hr. Stavad, og så lider hr. Stavad et tab. Se, efter gældende ret kan hr. Stavad trække sit tab fra. Efter gældende ret bliver hr. Stavad også beskattet af en gevinst. Men hvordan kan jeg nogen sinde få en gevinst, spørger hr. Stavad, for skatteministeren har ikke indfriet sit lån, og jeg, Stavad, skal så indfri kautionen, så jeg lider et tab? Hvordan kan jeg nogen sinde få en gevinst? Jo, hr. Stavad kan godt få en gevinst, for jeg vil jo føle det som en æressag at betale hr. Stavad de penge tilbage, som han har. tabt som følge af, at han har skullet indfri kautionen. Jeg betaler derfor hr. Stavad tilbage i hårde D-mark, og hvis kursen på D-mark i mellemtiden er steget, så vil hr. Stavad opleve en kursgevinst. Efter gældende regler vil hr. Stavad blive beskattet af den gevinst, som netop modsvarer, at han fik fradrag for sit tab. Derfor er systemet i dag logisk og konsekvent; men efter hr. Stavads forslag vil hr. Stavad blive beskattet af sin gevinst, men ikke få fradrag for sit tab. Jeg kan så måske tillade mig at sige, at det synes jeg er helt rimeligt i hr. Stavads tilfælde, men det synes jeg ikke generelt, og derfor er. jeg imod ændringsforslaget. (Kort bemærkning).'"
      ]
     },
     "execution_count": 175,
     "metadata": {},
     "output_type": "execute_result"
    }
   ],
   "source": [
    "Alle_taler[2660]"
   ]
  },
  {
   "cell_type": "markdown",
   "id": "f1e580a0",
   "metadata": {},
   "source": [
    "### Topic 18"
   ]
  },
  {
   "cell_type": "code",
   "execution_count": 178,
   "id": "2a349eba",
   "metadata": {},
   "outputs": [
    {
     "data": {
      "text/plain": [
       "585"
      ]
     },
     "execution_count": 178,
     "metadata": {},
     "output_type": "execute_result"
    }
   ],
   "source": [
    "topics_18 = []\n",
    "topics_18_sand = []\n",
    "for index in range(len(gensim_corpus)):\n",
    "    bow = gensim_dictionary.doc2bow(data_lemmatized[index])\n",
    "    eu_tale_topic_distribution = lda_model.get_document_topics(bow)\n",
    "    for topic, sand in eu_tale_topic_distribution:\n",
    "        if topic == 18:\n",
    "            topics_18.append(index)\n",
    "            topics_18_sand.append(sand)\n",
    "len(topics_18)"
   ]
  },
  {
   "cell_type": "code",
   "execution_count": 180,
   "id": "2c2e609f",
   "metadata": {},
   "outputs": [],
   "source": [
    "topics_18_år = [Alle_taler_år[i] for i in topics_18]\n",
    "topics_18_antal_taler_1980eren = []\n",
    "\n",
    "for år in år_1990erne:\n",
    "    topics_18_antal_taler_1980eren.append(topics_18_år.count(år))\n",
    "topics_18_andel = [topics_18_antal_taler_1980eren[i]/antal_taler_år[i] for i in range(10)]"
   ]
  },
  {
   "cell_type": "code",
   "execution_count": 181,
   "id": "894638b0",
   "metadata": {},
   "outputs": [
    {
     "data": {
      "image/png": "[encoded data removed]",
      "text/plain": [
       "<Figure size 432x288 with 2 Axes>"
      ]
     },
     "metadata": {
      "needs_background": "light"
     },
     "output_type": "display_data"
    }
   ],
   "source": [
    "fig, (ax1, ax2) = plt.subplots(2, 1)\n",
    "ax1.set_title(\"Andel af folketingstaler der nævner EF relateret til topic 18\")\n",
    "ax1.plot(folketingsår, topics_18_andel)\n",
    "ax1.set_ylim([0, 0.1])\n",
    "ax2.set_title(\"Antal af folketingstaler der nævner EF relateret til topic 18\")\n",
    "ax2.bar(folketingsår, topics_18_antal_taler_1980eren)\n",
    "fig.tight_layout(pad=1.0)\n",
    "#fig.savefig(\"plots/1980_erne/Andel_af_folketingstaler_der_nævner_EF relateret_til_topic_20\")"
   ]
  },
  {
   "cell_type": "code",
   "execution_count": 191,
   "id": "8440bc5b",
   "metadata": {},
   "outputs": [],
   "source": [
    "sand_18 = [sand for sand in topics_18_sand]\n",
    "sand_18.sort(reverse = True)"
   ]
  },
  {
   "cell_type": "code",
   "execution_count": 203,
   "id": "f798fc7b",
   "metadata": {},
   "outputs": [],
   "source": [
    "best_sand = topics_18_sand.index(sand_18[2])"
   ]
  },
  {
   "cell_type": "code",
   "execution_count": 204,
   "id": "4938bb7c",
   "metadata": {},
   "outputs": [],
   "source": [
    "best_sand_tale = topics_18[best_sand]"
   ]
  },
  {
   "cell_type": "code",
   "execution_count": 205,
   "id": "1d3ba345",
   "metadata": {},
   "outputs": [
    {
     "name": "stdout",
     "output_type": "stream",
     "text": [
      "1993\n"
     ]
    },
    {
     "data": {
      "text/plain": [
       "\" Der henvises til medfølgende oversigt. Kulturministerens rejser Destination: Bruxelles. Dato: 4.-6. februar 1993. Formål: Åbning af »Danish Visions«-udstil- lingen i Europa-Kommissionen og Rådssekre- tariatet. Møder med kommissær Pinheiro og generaldirektør Colette Flesch. Ledsagere: Departementschef Erik Jacobsen, kontorchef Lasse Lindhard, fuldmægtig Eva Zierau. Pris: Kr. 34.735,14. Destination: Oslo. Dato: 1.-4. marts 1993. Formål: Nordisk Råds 42. session, møde med den norske kulturminister og fællesnordisk kulturministermøde. Ledsagere: Departementschef Erik Jacobsen, kt.chef Lasse Lindhard, ministersekretær Preben Svendsen. Pris: Kr. 30.262,35. Destination: Bruxelles. Dato: 23. marts 1993. Formål: Besøg i Europa-Parlamentet i egenskab af formand for kulturministrene forsamlet i Rådet for De Europæiske Fællesskaber. Tale for Europarådets medlemmer med efterfølgende spørgsmål/svarrunde. Ledsagere: Ingen. Pris: Kr. 6.498,45. Destination: Antwerpen. Dato: 26.-27. marts 1993. Formål: Overværelse af officiel åbning af Antwerp '93 - Antwerpen som europæisk kulturby 1993. Samtaler med EF-kulturministre. Ledsagere: Min. sekr. Preben Svendsen. Pris: Kr. 12.230,72. Destination: Færøerne. Dato: 7.-9. maj 1993. Formål: 1 0-års-jubilæum i Nordens Hus. Deltagelse i Nordisk Råds Kulturudvalgs EF-arbejdsgruppe. Ledsagere: Min.sekr. Preben Svendsen. Pris: Kr. 11.077,60. Destination: Stockholm. Dato: 10.-11. maj 1993. Formål: Baltiske staters konference for kulturministre. Ledsagere: Kontorchef Lise Roepstorff, konsulent Hans Jacob Kjær. Pris: Kr. 11.039,40. Destination: Bruxelles. Dato: 16.-18. maj 1993. Formål: EF-rådsmøde - dansk formandskab. Åbning af udstilling om runer. Ledsagere: Dep.chef Erik Jacobsen, kt.chef Lasse Lindhard, fm. Henrik Birkvad. Pris: Kr. 34.293,00. Destination: Paris. Dato: 26.-28. maj 1993. Formål: Besøg »Les Gobelins« i forbindelse med H.M. Dronningens og H.K.H. Prinsens besøg, samt afsløring af Robert Jacobsenskulptur ved UNESCO-bygningen. Møde med den franske kulturminister. Ledsagere: Dep.chef. Erik Jacobsen, min.sekr. Preben Svendsen. Pris: Kr. 27.556,61. Destination: Riga. Letland. Dato: 12.-13. juni 1993. Formål: Åbning af udstilling med Politikens særtryk i Journalisternes Hus, møde med lettiske kunstnere og kulturbesøg. Ledsagere: Min.sekr. Preben Svendsen. Pris: Kr. 13.826,87. Destination: Harstad, Norge. Dato: 18.-20. juni 1993. Formål: Nordisk Ministerråds sommermøde. Ledsagere: Dep.chef Erik Jacobsen, kt.chef Lasse Lindhard, fm. Margit Vildlyng. Pris: Kr. 33.405,58. Destination: Köln, Tyskland. Dato: 21.-23. august 1993. 12869 Skriftligt besvarede spørgsmål 12870 [Kulturministeren] Formål: Besøg Popkomm i forbindelse med dansk musikfremstød, atelier- og museumsbesøg. Ledsagere: Mus.ekspert Else Bülow, min.sekr. Morten Pedersen. Pris: Kr. 20.171,56. Destination: Californien, USA. Dato: 18.-25. oktober 1993. Formål: Åbning af dansk guldalderudstilling, besøg Danish American Chamber of Commerce, University of California, m.v. Ledsagere: Dep.chef Erik Jacobsen, min.sekr. Morten Pedersen. Pris: Kr. 123.313,34. Destination: Paris og Bruxelles. Dato: 3.-5. november 1993. Formål: Paris: Officiel indvielse af udstillingen »Versailles et les tables royales en Euro- pe« ved den franske kulturminister. Bruxelles: EF-kulturministermøde. Ledsager: Dep.chef. Erik Jacobsen. Pris: Kr. 14.724,85. Destination: Ålandsøerne, Finland. Dato: 8.-9. november 1993. Formål: Nordisk Råds 43. session. Ledsagere: Pris: Kr. 5.723,66. Destination: Oslo. Dato: 5. december 1993. Formål: Overværelse af VM-håndboldfina- len med dansk deltagelse. Ledsagere: Ingen. Pris: Kr. 4.008,00. Destination: Edinburgh, Skotland. Dato: 9.-11. december 1993. Formål: Udstillingsåbning om dansk design ved Dansk Design Center, besøg Det Danske Kulturinstitut. Ledsager: Ass.min.sekr. Bo Asmus Kjeldgaard. Pris: Kr. 20.382,00. Destination: Flensburg. Dato: 22.-23. januar 1994. Formål: Åbning af udstilling om Istedløven. Efter invitation fra arrangørerne, Museet på Sønderborg Slot og Flensborg Bymuseum. Ledsager: Ministersekretær Morten Pedersen. Pris: Kr. 6.049,19. Destination: New York, Boston og Washington. Dato: 9.-17. februar 1994. Formål: Åbning af dansk guldalderudstilling og andre danske kunstudstillinger (New York), besøg MIT's Media Lab (Boston) samt National Endowment for the Arts (chairman Mrs. Jane Alexander), Washington. Ledsagere: Departementschef Erik Jacobsen, ministersekretær Morten Pedersen. Pris: Kr. 91.723,04. Destination: Lillehammer, Norge. Dato: 25.-28. februar 1994. Formål: Overvære vinter-OL. Ledsagere: Ass. ministersekretær Bo Asmus Kjeldgaard. Pris: Kr. 31.684,13. Destination: Stockholm. Dato: 7.-10. marts 1994. Formål: Nordisk Råds 44. session. Ledsagere: Afdelingschef Liselotte Heslet Sestoft, kontorfuldmægtig Vibeke Friis-Jensen. Pris: Kr. 16.154,66. Destination: Paris. Dato: 16. marts 1994. Formål: Åbning af Jacob Jensen design-udstilling i Danmarkshuset. Ledsager: Fuldmægtig Birgitte Blöndal Nøhr. Pris: Kr. 16.286,60. Destination: Athen. Dato: 19.-21. april 1994. Formål: Uformelt kulturministermøde og medieseminar i forbindelse med det græske EU-formandskab. Ledsagere: Departementschef Erik Jacobsen, afdelingschef Liselotte Heslet Sestoft, ministersekretær Morten Pedersen, kulturattaché Per Voetmann. Pris: Kr. 70.014,48. Destination: Reykjavik. Dato: 28.-30. maj 1994. Formål: Nordisk ministerrådsmøde samt besøg i Nordens Hus. Ledsagere: Afdelingschef Liselotte Heslet 12871 Skriftligt besvarede spørgsmål 12872 [Kulturministeren] Sestoft, specialkonsulent Lasse Lindhard, fuldmægtig Peter van Zaane. Pris: Kr. 43.295,41. Destination: Luxembourg. Dato: 16.-17. juni 1994. Formål: EU-rådsmøde for kulturministre. Ledsagere: Departementschef Erik Jacobsen, specialkonsulent Lasse Lindhard, kulturattaché Per Voetmann. Pris: Ikke endeligt afregnet. Destination: Gdansk, Polen. Dato: 18.-19. juni 1994. Formål: Åbning af Det Danske Kulturinstituts afdeling i Gdansk efter indbydelse fra Det Danske Kulturinstitut. Ledsagere: Ministersekretær Morten Pedersen, fuldmægtig Jan Hiul. Pris: Ikke endeligt afregnet. Destination: Kiel, Tyskland. Dato: 24.-26. juni 1994. Formål: Overværelse af Kieler-ugen og Schleswig-Holsteins musikfestival efter indbydelse fra kulturministeren i Schleswig-Holstein. Ledsagere: Ingen. Pris: Kr. 6.970,41. Spm. nr. S 1592 Til landbrugsministeren (4/7 94) af:\""
      ]
     },
     "execution_count": 205,
     "metadata": {},
     "output_type": "execute_result"
    }
   ],
   "source": [
    "print(Alle_taler_år[best_sand_tale])\n",
    "Alle_taler[best_sand_tale]"
   ]
  },
  {
   "cell_type": "markdown",
   "id": "c9fb1fbd",
   "metadata": {},
   "source": [
    "### Topic 19"
   ]
  },
  {
   "cell_type": "code",
   "execution_count": 207,
   "id": "ecd3e060",
   "metadata": {},
   "outputs": [
    {
     "data": {
      "text/plain": [
       "55"
      ]
     },
     "execution_count": 207,
     "metadata": {},
     "output_type": "execute_result"
    }
   ],
   "source": [
    "topics_19 = []\n",
    "topics_19_sand = []\n",
    "for index in range(len(gensim_corpus)):\n",
    "    bow = gensim_dictionary.doc2bow(data_lemmatized[index])\n",
    "    eu_tale_topic_distribution = lda_model.get_document_topics(bow)\n",
    "    for topic, sand in eu_tale_topic_distribution:\n",
    "        if topic == 19:\n",
    "            topics_19.append(index)\n",
    "            topics_19_sand.append(sand)\n",
    "len(topics_19)"
   ]
  },
  {
   "cell_type": "code",
   "execution_count": 208,
   "id": "46c517f1",
   "metadata": {},
   "outputs": [],
   "source": [
    "topics_19_år = [Alle_taler_år[i] for i in topics_19]\n",
    "topics_19_antal_taler_1980eren = []\n",
    "\n",
    "for år in år_1990erne:\n",
    "    topics_19_antal_taler_1980eren.append(topics_19_år.count(år))\n",
    "topics_19_andel = [topics_19_antal_taler_1980eren[i]/antal_taler_år[i] for i in range(10)]"
   ]
  },
  {
   "cell_type": "code",
   "execution_count": 209,
   "id": "83f91d6b",
   "metadata": {},
   "outputs": [
    {
     "data": {
      "image/png": "[encoded data removed]",
      "text/plain": [
       "<Figure size 432x288 with 2 Axes>"
      ]
     },
     "metadata": {
      "needs_background": "light"
     },
     "output_type": "display_data"
    }
   ],
   "source": [
    "fig, (ax1, ax2) = plt.subplots(2, 1)\n",
    "ax1.set_title(\"Andel af folketingstaler der nævner EF relateret til topic 19\")\n",
    "ax1.plot(folketingsår, topics_19_andel)\n",
    "ax1.set_ylim([0, 0.1])\n",
    "ax2.set_title(\"Antal af folketingstaler der nævner EF relateret til topic 19\")\n",
    "ax2.bar(folketingsår, topics_19_antal_taler_1980eren)\n",
    "fig.tight_layout(pad=1.0)\n",
    "#fig.savefig(\"plots/1980_erne/Andel_af_folketingstaler_der_nævner_EF relateret_til_topic_20\")"
   ]
  },
  {
   "cell_type": "code",
   "execution_count": 213,
   "id": "46e32f2e",
   "metadata": {},
   "outputs": [],
   "source": [
    "sand_19 = [sand for sand in topics_19_sand]\n",
    "sand_19.sort(reverse = True)"
   ]
  },
  {
   "cell_type": "code",
   "execution_count": 218,
   "id": "7d967029",
   "metadata": {},
   "outputs": [
    {
     "name": "stdout",
     "output_type": "stream",
     "text": [
      "1997\n"
     ]
    },
    {
     "data": {
      "text/plain": [
       "' Det er selvfølgelig interessant, at Enhedslisten nu er gået i kraftigt forsvar for de undtagelser, som man tidligere har påstået ikke var noget som helst. Men jeg er helt med på, at vi står skulder ved skulder i forsvaret for undtagelserne på disse vigtige områder, som jo netop er områder, der fører frem til en egehtlig unionsudvikling. Her er det helt, helt afgørende, at vi også fortsat står uden for. Jeg synes, det er et problem, også når man hører regeringens argumentation, at man argumenterer udelukkende juridisk. Som jeg har sagt tidligere i dag, har det været utrolig vigtigt for os, at der bliver substans i det her, og at det bliver et udtryk for en ny og langsigtet dansk Europapolitik. Derfor nytter det ikke noget at påstå, at man har nogle juridiske formuleringer stående på et papir, hvis man i substansen, i indholdet, i realiteten ikke lever op til undtagelserne. Her har vi problemerne med Schengenaftalen. Jeg har tidligere i dag gjort rede for, at her er den retlige undtagelse blevet undergravet af vores Schengendeltagelse og af det forhold, at vi bliver tvunget til at skulle gøre, hvad de andre er blevet enige om i realiteternes verden. Derfor er det en væsentlig begrundelse for, at vi anbefaler et nej til Amsterdamtraktaten. Med hensyn til Enhedslistens forslag til vedtagelse synes jeg, det er et problem, at man faktisk i den sidste sætning i forslaget kræver en juridisk bindende form, for problemet er jo ikke primært juridisk, problemet er substansen, nemlig at den retlige undtagelse er blevet undergravet af Schengensamarbejdet. Derfor bryder jeg mig ikke om den formulering; den er ret upræcis, sådan som jeg læser den. 232 Tirsdag den 21. oktober 1997 (F 11) (Kort bemærkning).'"
      ]
     },
     "execution_count": 218,
     "metadata": {},
     "output_type": "execute_result"
    }
   ],
   "source": [
    "best_sand = topics_19_sand.index(sand_19[1])\n",
    "best_sand_tale = topics_19[best_sand]\n",
    "print(Alle_taler_år[best_sand_tale])\n",
    "Alle_taler[best_sand_tale]"
   ]
  },
  {
   "cell_type": "markdown",
   "id": "1584d76f",
   "metadata": {},
   "source": [
    "### Topic 19 og 21"
   ]
  },
  {
   "cell_type": "code",
   "execution_count": 251,
   "id": "650e6e07",
   "metadata": {},
   "outputs": [
    {
     "data": {
      "text/plain": [
       "2128"
      ]
     },
     "execution_count": 251,
     "metadata": {},
     "output_type": "execute_result"
    }
   ],
   "source": [
    "topics_ømu = []\n",
    "topics_ømu_sand = []\n",
    "for index in range(len(data_lemmatized)):\n",
    "    bow = gensim_dictionary.doc2bow(data_lemmatized[index])\n",
    "    eu_tale_topic_distribution = lda_model.get_document_topics(bow)\n",
    "    for topic, sand in eu_tale_topic_distribution:\n",
    "        if topic == 17:\n",
    "            topics_ømu.append(index)\n",
    "            topics_ømu_sand.append(sand)\n",
    "len(topics_ømu)"
   ]
  },
  {
   "cell_type": "code",
   "execution_count": 253,
   "id": "69825565",
   "metadata": {},
   "outputs": [
    {
     "data": {
      "text/plain": [
       "5624"
      ]
     },
     "execution_count": 253,
     "metadata": {},
     "output_type": "execute_result"
    }
   ],
   "source": [
    "topics_folkeafstemning = []\n",
    "topics_folkeafstemning_sand = []\n",
    "for index in range(len(data_lemmatized)):\n",
    "    bow = gensim_dictionary.doc2bow(data_lemmatized[index])\n",
    "    eu_tale_topic_distribution = lda_model.get_document_topics(bow)\n",
    "    for topic, sand in eu_tale_topic_distribution:\n",
    "        if topic == 22:\n",
    "            topics_folkeafstemning.append(index)\n",
    "            topics_folkeafstemning_sand.append(sand)\n",
    "len(topics_folkeafstemning)"
   ]
  },
  {
   "cell_type": "code",
   "execution_count": 254,
   "id": "40fa7f8d",
   "metadata": {},
   "outputs": [],
   "source": [
    "topics_ømu_år = [Alle_taler_år[i] for i in topics_ømu]\n",
    "topics_ømu_antal_taler_1980eren = []\n",
    "\n",
    "for år in år_1990erne:\n",
    "    topics_ømu_antal_taler_1980eren.append(topics_ømu_år.count(år))\n",
    "topics_ømu_andel = [topics_ømu_antal_taler_1980eren[i]/antal_taler_år[i] for i in range(10)]"
   ]
  },
  {
   "cell_type": "code",
   "execution_count": 255,
   "id": "4fc02d2f",
   "metadata": {},
   "outputs": [],
   "source": [
    "topics_folkeafstemning_år = [Alle_taler_år[i] for i in topics_folkeafstemning]\n",
    "topics_folkeafstemning_antal_taler_1980eren = []\n",
    "\n",
    "for år in år_1990erne:\n",
    "    topics_folkeafstemning_antal_taler_1980eren.append(topics_folkeafstemning_år.count(år))\n",
    "topics_folkeafstemning_andel = [topics_folkeafstemning_antal_taler_1980eren[i]/antal_taler_år[i] for i in range(10)]"
   ]
  },
  {
   "cell_type": "code",
   "execution_count": 258,
   "id": "10ec7192",
   "metadata": {},
   "outputs": [
    {
     "data": {
      "image/png": "[encoded data removed]",
      "text/plain": [
       "<Figure size 432x288 with 1 Axes>"
      ]
     },
     "metadata": {
      "needs_background": "light"
     },
     "output_type": "display_data"
    }
   ],
   "source": [
    "fig, ax1 = plt.subplots()\n",
    "ax1.set_title(\"Andel af folketingstaler der nævner EF relateret til topic 17 og 22\")\n",
    "ax1.plot(folketingsår, topics_ømu_andel, color = \"r\", label= \"Topic 17(ØMU'en)\")\n",
    "ax1.plot(folketingsår, topics_folkeafstemning_andel, color = \"b\", label= \"Topic 22(Folkeafstemninger)\")\n",
    "ax1.set_ylim([0, 0.5])\n",
    "ax1.legend()\n",
    "fig.savefig(\"plots/1990_erne/Andel_af_folketingstaler_der_nævner_EU_EF_relateret_til_topic_17_22\")"
   ]
  },
  {
   "cell_type": "markdown",
   "id": "e0e13be3",
   "metadata": {},
   "source": [
    "1994/1995?"
   ]
  },
  {
   "cell_type": "code",
   "execution_count": 231,
   "id": "623b7f73",
   "metadata": {},
   "outputs": [
    {
     "data": {
      "text/plain": [
       "534"
      ]
     },
     "execution_count": 231,
     "metadata": {},
     "output_type": "execute_result"
    }
   ],
   "source": [
    "taler_1994 = [i for i in topics_folkeafstemning if Alle_taler_år[i] == \"1994\"]\n",
    "taler_1994_sand = [topics_folkeafstemning_sand[topics_folkeafstemning.index(i)] for i in topics_folkeafstemning if Alle_taler_år[i] == \"1994\"]\n",
    "len(taler_1994)"
   ]
  },
  {
   "cell_type": "code",
   "execution_count": 233,
   "id": "a4dafdb6",
   "metadata": {},
   "outputs": [],
   "source": [
    "sand_1994_f = [sand for sand in taler_1994_sand]\n",
    "sand_1994_f.sort(reverse = True)"
   ]
  },
  {
   "cell_type": "code",
   "execution_count": 243,
   "id": "f1e9c8fc",
   "metadata": {},
   "outputs": [
    {
     "name": "stdout",
     "output_type": "stream",
     "text": [
      "1994\n"
     ]
    },
    {
     "data": {
      "text/plain": [
       "' Fru Jette Gottlieb viser sig at være særdeles velbevandret i Venstres politik. Det skal jeg anerkende, og jeg skal gerne fastslå, at det er Venstres klare og helt ufravigelige forudsætning, at der overhovedet ikke kommer skattekroner i Øresundsprojektet. Det er en forudsætning, som vi har forstået regeringen står bag, og som jeg forstår også økonomiministeren står bag, og som økonomiministeren er ansvarlig for, og det kan vi helt holde os til. Så skal jeg sige til hr. Torben Lund: Venstre har overhovedet ikke foreslået større tilskud til erhvervslivet, tværtimod lavere tilskud, men til gengæld også lavere omkostninger. Det kan hr. Torben Lund alt sammen orientere sig om ved at læse det oplæg fra Venstre og De Konservative, som hedder »På ret kurs igen«. Og så en bemærkning til hr. Ove Fich, som syntes, at det var en underlig måde at skabe offentlig og bred debat om den europæiske udvikling på sådan at starte med at komme med nogle synspunkter. Jamen jeg må stille mig selv det spørgsmål: Hvordan i alverden skulle man ellers få en debat, hvis ikke der var nogen, som var villige til at lægge op til debatten? Venstre har på ingen som helst måde konkluderet. Venstre har bare sagt, hvad der er vore holdninger, hvad vi synes der skal diskuteres, hvilke mål vi gerne vil sætte op, og så håber vi, at andre vil komme med deres synspunkter. Så kan vi få den dialog, som skal til i et folkestyre. Altså må vi have svar på: Hvorfor skal Danmark som det eneste europæiske NATO-land stå uden for Vestunionen? Hvorfor skal vi stå uden for den organisation, som de nye øst- og centraleuropæiske demokratier er helt vilde efter at komme ind i? Hvad er forklaringen på det? Det må vi da have diskuteret. Vi skal også have diskuteret, om vi ikke skal gøre noget mere mod den internationale kriminalitet, mod narkoen over landegrænserne og så videre. Kan det gøres på andre måder end ved, at vi er fuldt og helt med i det retlige og politimæssige samarbejde i Den Europæiske Union? Og er det ikke sådan, at vi kan stabilisere valutaen, vi kan styrke kronen, hvis vi er fuldt og helt med i Den Økonomiske og Monetære Union? Hvis hr. Ove Fich ikke er villig til at gå ind i den diskussion, så får han jo aldrig en folkelig debat. Der må da være nogen, der lægger op til den, og det er altså bare det, vi efterlyser. Vi har 78 Torsdag den 6. oktober 1994 ikke konkluderet. Vi har spillet op til debatten, og vi synes, det er for sølle, at et stort parti som Socialdemokratiet ikke er i stand til det og ikke vil det.'"
      ]
     },
     "execution_count": 243,
     "metadata": {},
     "output_type": "execute_result"
    }
   ],
   "source": [
    "best_sand = sand_1994_f.index(sand_1994_f[8])\n",
    "best_sand_tale = taler_1994[best_sand]\n",
    "print(Alle_taler_år[best_sand_tale])\n",
    "Alle_taler[best_sand_tale]"
   ]
  },
  {
   "cell_type": "markdown",
   "id": "92499ab6",
   "metadata": {},
   "source": [
    "### Miljø topic 4"
   ]
  },
  {
   "cell_type": "code",
   "execution_count": 259,
   "id": "73c26338",
   "metadata": {},
   "outputs": [
    {
     "data": {
      "text/plain": [
       "3697"
      ]
     },
     "execution_count": 259,
     "metadata": {},
     "output_type": "execute_result"
    }
   ],
   "source": [
    "topics_miljø = []\n",
    "topics_miljø_sand = []\n",
    "for index in range(len(data_lemmatized)):\n",
    "    bow = gensim_dictionary.doc2bow(data_lemmatized[index])\n",
    "    eu_tale_topic_distribution = lda_model.get_document_topics(bow)\n",
    "    for topic, sand in eu_tale_topic_distribution:\n",
    "        if topic == 4:\n",
    "            topics_miljø.append(index)\n",
    "            topics_miljø_sand.append(sand)\n",
    "len(topics_miljø)"
   ]
  },
  {
   "cell_type": "code",
   "execution_count": 260,
   "id": "fd440178",
   "metadata": {},
   "outputs": [],
   "source": [
    "topics_miljø_år = [Alle_taler_år[i] for i in topics_miljø]\n",
    "topics_miljø_antal_taler_1980eren = []\n",
    "\n",
    "for år in år_1990erne:\n",
    "    topics_miljø_antal_taler_1980eren.append(topics_miljø_år.count(år))\n",
    "topics_miljø_andel = [topics_miljø_antal_taler_1980eren[i]/antal_taler_år[i] for i in range(10)]"
   ]
  },
  {
   "cell_type": "code",
   "execution_count": 269,
   "id": "766a9ed1",
   "metadata": {},
   "outputs": [
    {
     "data": {
      "image/png": "[encoded data removed]",
      "text/plain": [
       "<Figure size 432x288 with 2 Axes>"
      ]
     },
     "metadata": {
      "needs_background": "light"
     },
     "output_type": "display_data"
    }
   ],
   "source": [
    "fig, (ax1, ax2) = plt.subplots(2, 1)\n",
    "ax1.set_title(\"Andel af folketingstaler der nævner EF relateret til topic 4(Miljø)\")\n",
    "ax1.plot(folketingsår, topics_miljø_andel)\n",
    "ax1.set_ylim([0, 0.5])\n",
    "ax2.set_title(\"Antal af folketingstaler der nævner EF relateret til topic 4(Miljø)\")\n",
    "ax2.bar(folketingsår, topics_miljø_antal_taler_1980eren)\n",
    "fig.tight_layout(pad=1.0)\n",
    "#fig.savefig(\"plots/1980_erne/Andel_af_folketingstaler_der_nævner_EF relateret_til_topic_20\")"
   ]
  },
  {
   "cell_type": "code",
   "execution_count": 48,
   "id": "037bd7ba",
   "metadata": {},
   "outputs": [],
   "source": [
    "sand_miljø = [sand for sand in topics_miljø_sand]\n",
    "sand_miljø.sort(reverse = True)"
   ]
  },
  {
   "cell_type": "code",
   "execution_count": 232,
   "id": "048e7a31",
   "metadata": {},
   "outputs": [
    {
     "name": "stdout",
     "output_type": "stream",
     "text": [
      "1990\n"
     ]
    },
    {
     "data": {
      "text/plain": [
       "\" Først vil jeg gerne takke SF for forespørgslen. Det er en god anledning til at drøfte et af de væsentligste internationale miljøspørgsmål, måske det væsentligste. Jeg vil også meget gerne takke ordføreren, fru Margrete Auken, for en flot og personlig kronik i Politiken i dag, hvor fru Margrete Auken kommer ind på nødvendigheden af, at vi begynder at tale sammen på en anden facon. Det håber jeg også denne debat vil kunne give anledning til, for jeg er enig med fru Margrete Auken i, at det er meget væsentligt. For mig er ophobningen af kuldioxid i Jordens atmosfære og den deraf følgende drivhuseffekt et miljøproblem af enorme, nærmest uoverskuelige, dimensioner. Det er samtidig en udfordring, som vi er nødt til at forholde os til. Stiger temperaturen, forandres betingelserne for vores civilisation. Med »vi« og med »os« mener jeg det internationale samfund og hermed Danmark og Folketinget som en del af det internationale samfund. Drivhuseffekten er et globalt anliggende, og svarene skal ses i den rette internationale sammenhæng. Dansk enegang giver ingen mening. Det er næppe for meget sagt, at drivhusspørgsmålet af mange opfattes - og med rette kan opfattes - som symbolet på det internationale samfunds evne og vilje til at tackle miljøproblemerne. Det er; derfor af afgørende betydning, at vi på trods af problemernes næsten uoverskuelige omfang ikke føler afmagt eller handlingslammes. Der er netop brug for aktiv og fremadrettet handling, og det er i det lys, vi skal drøfte sagen i dag. IPÇC-rapporten - offentliggjort i Sundsvall i Sverige i august 1990 - er den foreløbige kulmination på flere års klimaarbejde i bl.a. FN, herunder UNJEP, og i Den Meteorologiske Verdensorganisation, WMO. FN nedsatte i november 1985 et mellemstatsligt panel, der skulle drøfte klimaændringer, altså IPCC. IPCC- rapporten er det hidtil bedste overblik over drivhuseffekt og klimaændringsproblemer, som vi har set. Rapporten kombinerer et videnskabeligt grundlag med forslag til handling imod bl.a. de stigende udledninger af drivhusgasser. IPCC-rapporten kan sammenfattes således: Jorden opvarmes som følge af vore drivhusgasudledninger. Udledningerne af drivhusgasser skal derfor stabiliseres. Udledningerne af drivhusgasser skal derefter reduceres, og miljørigtig teknologi og ressourcer skal overføres til udviklingslandene. Det drejer sig nu om at vælge at handle på IPCC's grundlag, selv om der selvfølgelig er usikkerheder og spørgsmålstegn. Men vælger vi ikke at handle nu, vil vores fremtidige valg og handlemuligheder blive voldsomt indskrænket. Det kan vi ikke leve med. Det kan vi ikke byde de kommende generationer. Det er nemlig dem, det rammer - ikke os. Industrialismen har givet os mange muligheder, udfordringer og problemer. Bl.a. betød den industrielle revolution, at vi fik stigende levestandard i store dele af verden. Den betød også, at vi for alvor begyndte at afbrænde fossi- 695 23/10 90: Forespørgsel vedr. IPCC's rapport om klimaforandringer 696 [Miljøministeren] le brændstoffet. Et par nøgletal kan illustrere udviklingen. Fra 1880 til 1980 tredivedoblede vi vores forbrug af fossilt brændsel, og vores industriproduktion steg 50 gange. I takt hermed steg koncentrationen af kuldioxid i atmosfæren. Siden 1850 er den steget næsten 30 pet. Standset vi ikke væksten i udledningerne, kan kuldioxidkoncentrationen i atmosfæren næsten fordobles i løbet af de næste 50-60 år. De sidste 35 år har vi globalt tredoblet udslippet af kuldioxid. Udledninger af menneskeskabte drivhusgasser, herunder altså kuldioxid, er den vigtigste kilde til drivhuseffekten. Der er ingen tvivl om, at kuldioxid fra fossile brændsler er den væsentligste af de menneskeskabte drivhusgasser. C02 tegner sig for godt halvdelen af drivhuseffekten, men også andre drivhusgasser, f.eks. metan, CFC-forbindelser og lattergas bidrager til drivhuseffekten. Samlet bidrager udledninger af drivhusgasser med tre fjerdedele af drivhuseffekten. Lad mig nævne, at fældningen af tropeskovene også bidrager til koncentrationen af kuldioxid i atmosfæren og hermed til drivhuseffekten. Skove optager CO2 under væksten og frigør CO2, når de dør. Et samlet bidrag fra skovrydning lader sig dog vanskeligt opgøre. Konsekvenserne af drivhuseffekten afhænger af temperaturstigningerne. Der er stor usikkerhed forbundet med forudsigelser af konsekvenser med hensyn til både omfang, tidsfølge og regional fordeling. Nogle fremtidsbilleder kan dog illustrere visse sammenhænge. Skærer vi ikke ned i vores nuværende CO2-udledninger, anslås det, at temperaturen om cirka 35 år kan være steget med gennemsnitligt 1 grad celsius - og med 3 grader celsius i vore børns og børnebørns levetid frem til slutningen af det næste århundrede. Ved polerne vil temperaturen kunne være steget med 7 grader celsius. Temperaturstigningerne afføder issmeltning, forstyrrelse af nedbørsmønstre og påvirkning af vandstanden i havene. Temperaturstigninger på 1 grad celsius og senere 3 grader celsius vil medføre havstigninger på gennemsnitligt 20 centimeter ved 1 grad og 65 centimeter ved 3 grader. Stiger temperaturen bare 1 grad i det nordamerikanske korn- bælte, kan regnmængden falde med 19 procent, hvilket vil formindske kornudbyttet i dette verdens kornkammer med 20 pet. Stiger temperaturen med 5 grader, vil vandstanden på lang sigt bl.a. som følge af issmeltning stige med 5-7 meter, og Florida, store dele af Holland, Belgien, Bengalen og andre lavtlig.,gende landområder i hele verden vil synke i havet. Hermed vil store områder blive ubeboelige, vand vil blive udrikkeligt, spisekamre forsvinde og millioner af mennesker vil kunne blive drevet på flugt. Omvendt betyder en varmere verden, at der andre steder vil kunne dyrkes mere og andet. Hertil kommer, at landområder, hvor klimaet i dag kritiseres, vil få et mere behageligt klima. Nogle vil ligefrem ønske en drivhuseffekt af disse grunde. Under alle omstændigheder vil klimaforandringer af det nævnte omfang have store naturmæssige, politiske, økonomiske, kulturelle og sociale konsekvenser. Nogle lande og kontinenter vil lettere kunne løse problemerne end andre. Erhvervsbetingelserne i bl.a. landbrug, skovbrug og fiskeri vil blive forandret, og magtforhold vil helt sikkert blive forskubbet. Kun fremtiden vil vise, om disse fremtidsbilleder bliver til virkelighed. Men under alle omstændigheder er der ingen lette løsninger på problemerne. Det afgørende er for mig, at forskere i dag samstemmende peger på problemet med ophobningen af kuldioxid og andre drivhùsgasser i atmosfæren. Griber vi ikke ind, fastslår forskerne, sker der en opvarmning af Jorden i næste århundrede. Forskerne siger til os, at vi ikke politisk kan retfærdiggøre manglende handling med henvisning til videnskabelig usikkerhed. Hvad værre er, jo længere vi venter, desto større reduktioner i kuldioxidudledningerne skal der til for at stabilisere situationen. Forskerne understreger hermed, at indgreb kan vende udviklingen. Nogle beskriver det stigende kuldioxidproblem i atmosfæren som industrialismens største eksperiment. Måske. Det er i hvert fald et farligt eksperiment. For mig er imødegåelse af drivhuseffekten, hvor langsigtet indsatsen end er, industrialismens og hermed vores største udfordring. En bæredygtig fremtid for Jorden forudsætter, at vi får styr på drivhusgasserne og på fældningen af tropeskovene. Samtidig skal vi sikre et internationalt koordineret samarbejde herom ilandene og ulandene imellem. Det er sagt før, men det er nødvendigt at slå det fast igen: Sikringen af en bæredygtig frem- 697 23/10 90: Forespørgsel vedr. IPCC's rapport om klimaforandringer 698 [Miljøministeren] tid for Jorden kræver en lang, lang række ændringer i vores levevis. Konkret skal vi for at afmontere drivhuseffekten drastisk nedsætte udledningerne af de menneskeskabte drivhusgasser. Et helt centralt element heri er nedsættelse og omlægning af vores energiforbrug. Energiforbruget bør i øvrigt nedsættes under alle omstændigheder. Drivhuseffekten er en ekstra grund. Problemet er, at der let kommer lidt »frelst« over påstanden om, at vi skal ændre levevis, men det behøver jo ikke at betyde, at det er mindre rigtigt. Som så ofte i politik handler det om at vælge. Vi kan vælge at sidde truslerne om opvarmning overhørig. Vi kan vælge at acceptere at leve med de naturmæssige, politiske, økonomiske og andre forandringer, der i givet fald vil følge med klimaforandringerne. Vi kan vælge at tro på, at vi i det næste årtusinde udvikler en teknisk løsning på problemerne. Eller vi kan vælge at tage skridt til at ændre udviklingsretningen. Efter min opfattelse skal vi vælge den sidste løsning. Alt andet vil være gambling med fremtiden, med vore børns og børnebørns fremtid, og det kan vi ikke tillade os. At vælge at ændre udviklingsretning er som tidligere antydet et overordentlig kompliceret valg, der har en langsigtet effekt. Den manglende synlige gevinst på kort sigt gør valget og de dermed forbundne investeringer om muligt endnu mere vanskeligt. Jeg ved, at nogle vil kræve forbud mod privatbilisme fra i morgen og kraftig elrationering fra i overmorgen. Men handler det her om noget, der næsten minder, om nødretstilstand? Næppe! Alle vil gerne demonstrere handling og effektivitet. Det skal vi også. Men er det rigtigt og nødvendigt at sætte miljøinteresserne over alt andet? Er kampen mod drivhuseffekten den styrende parameter i samfundsudviklingen, der berettiger os til at sætte andre spilleregler og værdier ud af kraft? Hvis vi gør det, risikerer vi i hvert fald at skabe en krigslignende tilstand med krigsmoral. Moralbegreber i krig betyder, at hver dag leves, som om det er den sidste. Fortiden er ligegyldig, fremtiden eksisterer måske ikke, kun øjeblikket og nuet tæller. Det holder efter min opfattelse ikke. Jeg finder, at det er vitalt, at vi løser miljøproblemerne i sammenhæng med samfundsudviklingen og under respekt for andre værdier i samfundet, f.eks. demokratiske rettigheder, frihedsrettigheder samt sociale og kulturelle værdier i øvrigt. Det bæredygtige samfund er ikke en miljødiktaturstat baseret på forbud, regler, kæft, trit og retning. Det bæredygtige samfund bygger på ansvar og forståelse for, at miljøet er grundlæggende for vores civilisation. Materiel vækst kan derfor ikke længere være det eneste saliggørende, for så går det galt. Livskvalitet i menneskelige relationer, fællesskab og en satsning på ikkemateriel velstand bliver også af miljømæssige grunde helt centralt. Forbrugerisme og gold, materiel satsning går ikke. Pointen er, at omstilling af vor levevis i bæredygtig retning ikke går gennem forbudspara- graffer og indskrænkninger i folks rettigheder. Det handler derimod om at udvikle miljørigtige hjælpemidler og miljøvenlige produktions- og samlivsformer. Vi skal vælge den vej, der ligger mellem ukritisk at lade stå til og så miljødiktaturet, hvor vi i fremtidens hellige navn allerede i dag indskrænker folks ret til at vælge. Den rigtige vej er at udvikle et bæredygtigt samfund, hvor miljøhensynene er en integreret del af vores gøren og laden. Hvad dette konkret indebærer af omstilling, kan vi i dag ikke give et endegyldigt svar på. Det er ikke nemt at komme med en tæt konse., kvensanalyse i forhold til den enkeltes levevilkår. Men det betyder ikke, at vi skal lade opgaven ligge. Vi skal tværtimod forsøge at få konkretiseret behovet og mulighederne for omstilling. I den proces er det vigtigt at få synliggjort, at den enkeltes indsats nytter noget, f.eks. ved, at miljørigtig levevis giver både miljømæssige og økonomiske resultater. IPCC's rapport er nu sat på den internationale dagsorden. Som tidligere nævnt er de centrale punkter stabilisering af drivhusgasudledningerne, reduktion af udledningerne og overførsler til ulandene. Stabilisering af udledningerne er på kort sigt det helt centrale. IPCC- rapporten siger feks., at vi skal fastholde koncentrationen i atmosfæren af de langlivede drivhusgasser, CO2, CFC osv., på det nuværende niveau; skal vi fastholde den, kræves der øjeblikkelige reduktioner i størrelsesordenen 60 pet. af udledningerne. Det er umuligt og urealistisk, medmindre vi skal forbyde store dele af al menneskelig aktivitet. Men IPCC's tal er en advarsel til os om at tage udfordringen alvorligt og bør vejlede os i den strategiske plan- 699 23/10 90: Forespørgsel vedr. IPCC's rapport om klimaforandringer 700 [Miljøministeren] lægning, som den truende drivhuseffekt gør nødvendig. En stabilisering af udledningerne på nuværende niveau i løbet af de næste 5-10 år er på denne baggrund en nødvendig forudsætning for reduktion. Reduktion af udledningerne er på mellemlang og længere sigt målet. Det skal ske gennem forpligtende internationale aftaler. En reduktion først i næste årtusinde kan vi håbe på og arbejde for. Men globalt må vi i tiden indtil da realistisk set acceptere en fortsat forøgelse af både emissioner og dermed drivhuseffekt. Samtidig skal vi tilpasse vor levevis, ikke mindst energiforbruget, til de ændrede betingelser. Det kræver naturen af os. Lad mig minde om, at den danske energihandlingsplan, »Energi år 2000«, opererer med en stabilisering af udledningerne på nuværende niveau i år 2000 og en 20 pct,s reduktion i år 2005. Større reduktioner skal slå igennem senere i århundredet. Hertil kommer, at regeringens transporthandlingsplan vil have en positiv effekt på transportsektorens C02-bidrag. Transporthandlingsplanen vil også have anden positiv effekt. på luftforureningen, ikke mindst lokalt og regionalt. Med målsætninger om stabilisering i år 2000 og en 20 pct.s reduktion i år 2005 er Danmark foregangsland. Det handler om at få de industrialiserede lande til i fællesskab at forfølge lignende ambitiøse mål. Det vil vi arbejde for i Geneve. Ambitiøse mål fremmer udviklingen. Alene derfor skal vi arbejde aktivt for at få fodslag på højt niveau. Men vi må ikke forvente monumentale fremskridt her og nu. Hertil er problemerne for uoverskuelige og modsætningerne frem for alt for store. Det afgørende er at få forpligtet det internationale samfund til at vende udviklingsretningen. Overførsler af teknologi m.v. til ulandene er det tredje væsentlige element i de internationale bestræbelser. Ilandene har efter dansk opfattelse en forpligtelse til at bistå ulandene i deres udviklingsproces mod bæredygtighed. Det drejer sig herunder bl.a. om at sikre, at befolkningstilvæksten kontrolleres og forløber i harmoni med naturgrundlaget. Vi må være parate til i dobbelt forstand at betale for udviklingslandenes omstilling og udvikling ved at give luft til en vækst i ulandene. Ilandene må f.eks. skære forholdsmæssigt mere ned på deres CO2-udledninger og bistå udvik- lingslandene med at erhverve og udnytte renere teknologier. Det er simpelt hen en historisk nødvendighed. Den'kommende tids arbejde drejer sig altså om at sikre internationale fremskridt. Selv små skridt i rigtig retning kan være betydningfulde. Det er vores sigtelinje, at der på FN's verdenskonference 1992 om miljø og udvikling kan vedtages en globalt forpligtende rammekonvention til beskyttelse af atmosfæren. Konventionen bør ledsages af protokoller, der indeholder bindende aftaler om stabilisering og reduktion af C02-udledningerne, bevarelse af tropiske skove, teknologioverførsler og støtte til udviklingslandene. De internationale aftaler skal selvsagt følges op i de enkelte lande. Internationale aftaler er kun noget værd, hvis de føres ud i det virkelige liv. Udmøntningen i landene skal ske med virkningsfulde styringsmidler, f.eks. adfærdsmoti- verende afgifter. Klimakonventionen bør ud over at være baseret på IPCC-apparatet bygge på de internationale landvindinger, som vi fik i Toronto i 1988 og i Noordwijk i 1989. Hertil kommer, at vi forhåbentlig opnår yderligere resultater i Genève på den 2. klimakonference i næste måned. På konferencen i Toronto i Canada i 1988 blev de første egentlige politiske anbefalinger med henblik på at imødegå drivhuseffekten vedtaget. Konferencen anbefalede, at man skulle reduçere CO2-emissionerne med omkring 20 procent af 1988-niveauet inden år 2005. Der var endvidere bred enighed om, at de industrialiserede lande har et ansvar for at føre an. På ministerkonferencen i Noordwijk i Holland i 1989 blev der opnået enighed om, at det er nødvendigt som et første skridt at stabilisere CO2-emissionerne i de industrialiserede lande så hurtigt som muligt. Mange industrialiserede lande, men desværre ikke alle, tilkendegav, at det betød stabilisering ikke senere end i år 2000. Ifølge deklarationen forpligtede de industrialiserede lande sig til at overveje mål for reduktion af CO2-emissionerne, herunder en 20 pct.s reduktion i år 2005. I ministerdeklarationen i Noordwijk blev IPCC endvidere bedt om at fremkomme med konkrete anbefalinger om stabiliserings- og reduktionsmål. Disse skulle fremlægges på 2. klimakonference i november 1990. 701 23/10 90: Forespørgsel vedr. IPCC's rapport om klimaforandringer 702 [Miljøministeren] På Bergenkonferencen i maj 1990 lykkedes det desværre ikke at få vedtaget mere bindende erklæringer om stabilisering og reduktion af CO2-emissionerne i Noordwijkerklæringen. Det skyldes først og fremmest modstand fra USA. Både Noordwijk- og Bergendeklarationen understreger imidlertid nødvendigheden af, at der udarbejdes en egentlig klimakonvention med tilhørende protokoller, som kan blive underskrevet på 1992-konferencen. Før Genéve i næste måned og på vej til 1992-konferencen i Brasilien kan man sammenfattende gøre følgende status: Der er publiceret adskillige videnskabelige rapporter, der underbygger teorierne om drivhuseffekten. Der er vedtaget flere internationale erklæringer om nødvendigheden af at stabilisere og reducere udledningerne af drivhusgasser. Dette skal ske i samvirke mellem ilande og ulande. Der er international enighed om, at forsigtighedsprincippet skal styre vores miljøpolitik. Der er altså et solidt grundlag for, at det internationale samfund på den forestående klimakonference forpligter sig til at handle. Imidlertid er der ikke stor grund til optimisme. Som det ser ud nu, er flere af de store industrialiserede lande, f.eks. USA, Japan og USSR, stadig ikke parate til at begrænse deres CO2-udlednin- ger. Vanskelighederne understreges af, at man henviser til videnskabelig usikkerhed som årsagen til manglende opbakning til de nødvendige forpligtelser. Hertil kommer, at andre i udviklingsperspektiv interessante lande som Kina og Indien er tøvende med hensyn til at forpligte sig, hvad der selvfølgelig er forståeligt, men alligevel foruroligende. Dermed kan man direkte frygte, at den 2. verdensklimakonference resulterer i et tilbageskridt i forhold til tidligere konferencer. Den tunge opgave er derfor dette til trods at sikre fremskridt i Genéve for herigennem at gøde jorden for et godt resultat i 1992. En vigtig forudsætning for at opnå et godt resultat er formentlig, at EF kan stå sammen og presse navnlig USA, Japan og USSR. Spørgsmålet om den fælles EF-holdning til klimakonferencen vil blive drøftet på et energi- og miljøministermøde den 29. oktober 1990. Der er allerede nu intensive forhandlinger i gang i EF. Drøftelserne angår bl.a. stabilise- ringsspørgsmålet, men jeg er også nødt til her at sige, at der er en betydelig risiko for, at EF-lan- dene ikke kan blive enige om en stabilisering af CO2-emissionen i år 2000 for EF som helhed. Energiministeren og jeg vil selvfølgelig gøre vores yderste for, at EF kan fremstå med en samlet progressiv holdning på klimakonferencen. Forhandlingstaktisk drejer det sig derfor om at finde en balance imellem at fastholde en ambitiøs målsætning, f.eks. stabilisering i år 2000 og 20 procents reduktion i år 2005, og så at udvirke, at EF-landene kan optræde som blok over for de mere tunge lande. Ønsket om, at EF-landene kan optræde i samlet flok, og det faktum, at en stabiliserings- aftale formentlig er den første politiske trædesten, betyder, at vi må indtage en fleksibel holdning til spørgsmålet om reduktionsmålsætning på det internationale plan, såfremt vi blokerer for fremskridt. Uanset forløbet af de internationale fòrhandlinger vil vi nationalt forfølge den ambitiøse reduktionsmålsætning, der er i energihandlingsplanen. Som tidligere nævnt er det overordnede sigte med Genéveklimakonferencen at gøre internationalt fremskridt i forhold til de sidste års arbejde og herunder sikre forpligtelser, der medfører, at vi ændrer udviklingsretning. Danmarks målsætning på CO2-området er en af de inest progressive i verden. At være progressiv forpligter også til at få andre med, og med dette in mente drager vi til Geneve. Forhqndling\""
      ]
     },
     "execution_count": 232,
     "metadata": {},
     "output_type": "execute_result"
    }
   ],
   "source": [
    "best_sand = sand_miljø.index(sand_miljø[4])\n",
    "best_sand_tale = topics_miljø[best_sand]\n",
    "print(Alle_taler_år[best_sand_tale])\n",
    "Alle_taler[best_sand_tale]"
   ]
  },
  {
   "cell_type": "code",
   "execution_count": 54,
   "id": "b3f3bd81",
   "metadata": {},
   "outputs": [
    {
     "data": {
      "text/plain": [
       "1097"
      ]
     },
     "execution_count": 54,
     "metadata": {},
     "output_type": "execute_result"
    }
   ],
   "source": [
    "topic_4_om_miljø = []\n",
    "for i in topics_miljø:\n",
    "    if \"miljø\" in data_lemmatized[i] or \"miljøminister\" in data_lemmatized[i]:\n",
    "        topic_4_om_miljø.append(i)\n",
    "len(topic_4_om_miljø)"
   ]
  },
  {
   "cell_type": "code",
   "execution_count": 55,
   "id": "2d40ab09",
   "metadata": {},
   "outputs": [
    {
     "data": {
      "text/plain": [
       "2139"
      ]
     },
     "execution_count": 55,
     "metadata": {},
     "output_type": "execute_result"
    }
   ],
   "source": [
    "n = 0\n",
    "for i in range(len(data_lemmatized)):\n",
    "    "
   ]
  },
  {
   "cell_type": "markdown",
   "id": "2fd06230",
   "metadata": {},
   "source": [
    "### Topic 14 om landbrug:"
   ]
  },
  {
   "cell_type": "code",
   "execution_count": 263,
   "id": "f6b828c2",
   "metadata": {},
   "outputs": [
    {
     "data": {
      "text/plain": [
       "1027"
      ]
     },
     "execution_count": 263,
     "metadata": {},
     "output_type": "execute_result"
    }
   ],
   "source": [
    "topics_landbrug = []\n",
    "topics_landbrug_sand = []\n",
    "for index in range(len(data_lemmatized)):\n",
    "    bow = gensim_dictionary.doc2bow(data_lemmatized[index])\n",
    "    eu_tale_topic_distribution = lda_model.get_document_topics(bow)\n",
    "    for topic, sand in eu_tale_topic_distribution:\n",
    "        if topic == 14:\n",
    "            topics_landbrug.append(index)\n",
    "            topics_landbrug_sand.append(sand)\n",
    "len(topics_landbrug)"
   ]
  },
  {
   "cell_type": "code",
   "execution_count": 264,
   "id": "7c58a0f1",
   "metadata": {},
   "outputs": [],
   "source": [
    "topics_landbrug_år = [Alle_taler_år[i] for i in topics_landbrug]\n",
    "topics_landbrug_antal_taler_1980eren = []\n",
    "\n",
    "for år in år_1990erne:\n",
    "    topics_landbrug_antal_taler_1980eren.append(topics_landbrug_år.count(år))\n",
    "topics_landbrug_andel = [topics_landbrug_antal_taler_1980eren[i]/antal_taler_år[i] for i in range(10)]"
   ]
  },
  {
   "cell_type": "code",
   "execution_count": 278,
   "id": "bbc51670",
   "metadata": {},
   "outputs": [
    {
     "data": {
      "image/png": "[encoded data removed]",
      "text/plain": [
       "<Figure size 432x288 with 2 Axes>"
      ]
     },
     "metadata": {
      "needs_background": "light"
     },
     "output_type": "display_data"
    }
   ],
   "source": [
    "fig, (ax1, ax2) = plt.subplots(2, 1)\n",
    "ax1.set_title(\"Andel af folketingstaler der nævner EF relateret til topic 14(Landb.)\")\n",
    "ax1.plot(folketingsår, topics_landbrug_andel)\n",
    "ax1.set_ylim([0, 0.1])\n",
    "ax2.set_title(\"Antal af folketingstaler der nævner EF relateret til topic 14(Landb.)\")\n",
    "ax2.bar(folketingsår, topics_landbrug_antal_taler_1980eren)\n",
    "fig.tight_layout(pad=1.0)\n",
    "#fig.savefig(\"plots/1990_erne/Andel_af_folketingstaler_der_nævner_EF relateret_til_topic_14\")"
   ]
  },
  {
   "cell_type": "markdown",
   "id": "cc0e1f13",
   "metadata": {},
   "source": [
    "### Landbrug 1997/1998:"
   ]
  },
  {
   "cell_type": "code",
   "execution_count": 280,
   "id": "9f700bb4",
   "metadata": {},
   "outputs": [],
   "source": [
    "landbrug_1996 = [i for i in topics_landbrug if Alle_taler_år[i] == \"1996\"]\n",
    "landbrug_1996_sand = [sand for sand in topics_landbrug_sand if Alle_taler_år[topics_landbrug[topics_landbrug_sand.index(sand)]] == \"1996\"]"
   ]
  },
  {
   "cell_type": "code",
   "execution_count": 283,
   "id": "48ce057d",
   "metadata": {},
   "outputs": [
    {
     "name": "stdout",
     "output_type": "stream",
     "text": [
      "1996\n"
     ]
    },
    {
     "data": {
      "text/plain": [
       "\" Ud over den noget amerikaniserede form og det signal til befolkningen, som lå i åbningstalen, var den fyldt med ganske megen ordflom. Det kan naturligvis skyldes statsministerens ulyst til at formulere sig i klare vendinger, men set fra Enhedslistens synspunkt var der ikke noget nyt under solen. At vi opfatter talen på den måde, skyldes muligvis vores grundlæggende position i det her parlament, i det her Folketing. Regeringen har fyldt de sidste års åbningstaler og lovkataloger med nedskæringer og stramninger over for unge og arbejdsløse. Knap var blækket tørt og de sidste overgangsbestemmelser gennemløbet, før udhuling og indskrænkninger var på dagsordenen igen. I lyset af det forløb er det naturligvis en lettelse, at regeringen nu har dekreteret reformpause på området. Det forekommer bare meningsløst, at en såkaldt reformpause ser ud til at skulle gælde hele arbejdsmarkedsområdet. Når det drejer sig om, at det er nødvendigt med en indsats, der skal gøre arbejde til menneskelig virksomhed og ikke til et marked, hvor der handles med mennesker, er regeringens bud meget, meget tyndt. Virkningen af årtiers høje arbejdsløshed er for længst slået igennem i de arbejdendes vilkår, og arbejdsmarkedet er blevet forbeholdt de raskeste, de hurtigste, de dygtigste. I takt med den nedsatte arbejdstid er arbejdstempoet blevet mere og mere nedslidende, arbejdsmiljøet bliver mere og mere belastende, og den permanente udstødning er en realitet. For ældre og unge og Torsdag den 3. oktober 1996 (R 1) 107 andre, der afviger en lille smule, er mulighederne for at komme ind på arbejdsmarkedet igen ganske små. Hvis man først er ude, er man bagest i rækken. Regeringens væsentligste indsats på dette område har været at etablere et statsautoriseret pseudoarbejdsmarked for dem, som det almindelige arbejdsmarked har udstødt. Det ser ud til, at når ordningen med jobtræning og puljejob er fuldt udbygget, vil der være behov for op imod 100.000 først og fremmest offentlige arbejdspladser af denne karakter, hvis lovens bogstav vel at mærke skal følges. Da den type job skal rumme ekstraordinære opgaver, er det svært at se, hvor der skal blive plads til at udføre alt det ordinære arbejde på normale vilkår. Den langsigtede løsning ligger jo snublende nær. Hvorfor ikke udbyde alle disse opgaver som fuldt normale, ordinære job? Det har vi netop stillet forslag om og har taget med i finanslovforhandlingerne. Det vil være den bedste løsning, også i forhold til den offentlige sektor. Det vil være det bedste for de arbejdsløse, der dermed får et egentligt jobperspektiv i deres arbejde. Men hvor er alle regeringens initiativer, der skulle sætte ind, før udstødning er en realitet? Hvor er sikringen af et ordentligt arbejdsmiljø både fysisk og psykisk? Hvor er sikringen mod ensidigt, gentaget arbejde, som regeringen har lovet initiativer om, der rækker videre end et par puljer til forsøg? Og hvor er indsatsen mod antallet af dødsulykker, et tal, der på det sidste er helt uacceptabelt og viser, at der er en kraftig stigning? Der er teknologi og viden til at bringe dette tal ned til nul, så når det ikke sker, må det være viljen og modet, der mangler. Det er klart, at Enhedslisten som et socialistisk parti må være i fundamental opposition til meget af det, som regeringen står for, og som regeringen for det meste sammen med de borgerlige sætter igennem i salen. Vi betragter f.eks. opbygningen af Den Europæiske Union som værende i fundamental modsætning til vores socialistiske visioner, som skal være et ligeværdigt samarbejde imellem suveræne stater og folkeslag. Vores internationalisme kan ikke reduceres til eurocentrisme, europæiske stormagtsd- rømme og centralt dirigerede bureaukratier. En sådan position bliver naturligvis ikke formildet af statsministerens tale, al den stund vi ved, at regeringen konstant fifler med de fire undtagelser og konstant sætter pejlemærker efter mere Union. Vi betragter også den til mani grænsende fokus på vækst i bruttonationalproduktet som en trussel mod det røde og grønne projekt, det sòlidariske og økologiske projekt, som Enhedslisten står for. Den blinde vækst, som er markedsøkonomiens karakteristikum, er desværre blevet regeringens hovedbanner/og tilsyneladende skal alle spørgsmål indrettes efter denne markedsøkonomiske formel. Vi vil gerne pege en anden vej. Men at vi fra Enhedslistens side fra tid til anden påpeger nogle ting, som vi mener regeringen kunne gennemføre sammen med Enhedslisten, ændrer ikke ved, at Enhedslisten er ganske klar over, at der er en afgrund mellem regeringen og Enhedslisten på en række områder. Der er som nævnt en afgrund, når det drejer sig om EU-spørgsmål, og der er en afgrund, når det drejer sig om at udbygge demokratiet på alle områder. Regeringen har en usædvanlig forkærlighed for udemokratiske styringsinstrumenter som f.eks. det, vi ser med Hovedstadens Sygehusfællesskab. Der er en afgrund mellem Enhedslistens antimilitarisme, fredspolitik, ikkekonfrontationspolitik og syn på Danmarks militære stilling og det, vi ser med regeringens forbrug af penge på området, og de opdrag, som regeringen roder den danske stat ud i. Der er en afgrund mellem Enhedslistens position på det socialpolitiske område og regeringens forkærlighed for brug af tvangsinstrumenter og moralske påpegninger af, at nu skal de smalleste skuldre bære hele læsset - om ikke andet så for et syns skyld. Ja, der kunne nævnes mange flere steder, hvor der er en afgrund til forskel. Men det har fra starten været en præmis, som vi fra Enhedslistens side har taget udgangspunkt i, og at Enhedslisten ikke omgående foreslår denne regerings afgang, skyldes alene, at afgrunden mellem os og de reaktionære partier, Venstre og De Konservative og de to Fremskridtspartier, er endnu større. Det er vigtigt for den socialistiske venstrefløj, at den ikke rammes af total farveblindhed, men vi må dog konstatere, at vi adskillige gange har været i tvivl om vores evne til at skelne farver trods kollektive anstrengelser. Vi har jo konstateret, at regeringen Nyrup Rasmussen blot har fortsat den politik, som de tidligere, konservativt ledede regeringer førte på det økonomiske område, dvs. dele gaver ud til de rige og straffe de fattige for de deraf manglende penge i statskassen. Men vi er også praktiske mennesker i Enhedslisten, og derfor vil vi naturligvis ikke 108 Torsdag den 3. oktober 1996 (R 1) forskertse nogen chance for konkrete forbedringer, som peger i den rigtige retning. Derfor har vi også formuleret vores politiske taktik på den måde, at vi stemmer for enhver forbedring og imod enhver forringelse, og at vi ikke accepterer mudrede forlig, der mikser disse to problemstillinger. I ethvert forslag, vi stemmer for, skal forbedringen kunne forklare afstemningen i sig selv, og vi går naturligvis efter alle de forbedringer, vi kan komme til. Vi har fra Enhedslistens side påpeget en række områder, hvor der burde laves noget fælles mellem regeringen og Enhedslisten. Vi har allerede taget det første initiativ i form af en henvendelse til finansministeren, og vi har præsenteret Enhedslistens oplæg til finanslovforhandlingerne. Hvis vores oplæg bliver godtaget i fuldt omfang, er det vores klare vurdering, at det vil være det første skridt til at vende den linje, som regeringen har kørt i hele sin levetid, og som desværre blot har været en fortsættelse af Schlüters politik på afgørende punkter. Vi har opstillet fem punkter, som for os at se i dette efterår definerer et brud med den tidligere politik og derfor kunne være det første signal om en ny retning. For det første skal alle sociale forringelser tages af bordet i det fremsatte finanslovforslag. Enhedslisten vil aldrig i god tro stemme for sociale forringelser for de grupper i samfundet, som er mindst bemidlede. Man kan sige, at det for os nærmest er et politisk dogme, som rummer den grundlæggende historiske erkendelse, at hvis ikke socialisterne forsvarer de svage, så er der sgu ingen, der gør det ... undskyld! For det andet skal der gennemføres en lovfæstet behandlingsgaranti på sundhedsområdet og tilføres ekstra ressourcer på 2 mia. kr. i 1997. Det har regeringen også gentagne gange givet udtryk for at ville gøre. Vi vil godt understrege, at det naturligvis ikke for os kun handler om at hælde penge i sundhedssektoren. Det skal gøres med omtanke, og derfor har vi også rejst en forespørgselsdebat til statsministeren og sundhedsministeren om udviklingen af det danske sundhedssystem. Vi håber, at der kan komme mere substans på den lidt luftige debat, som Socialdemokratiet og regeringen har præsenteret os for. For det tredje skal der gennemføres en børnepasningsgaranti, som sikrer, at alle forældre kan få et kvalificeret pasningstilbud til deres børn. Dette skal finansieres ved oprettelsen af en jobbank, et forslag, som Enhedslisten flere gange har fremlagt, og som reelt er omkostningsneutralt. For det fjerde er det et fundamentalt krav, at der skal skabes garanti for, at folk ikke ryger ud af dagpengesystemet, og at der skabes nye, reelle job i stedet for det pseudoarbejdsmarked, man i dag tvangsaktiverer folk til på unormale vilkår. Og for det femte skal pengene tages fra de velbjærgede. Deres helt urimelige indirekte tilskud via fradrag m.v. skal fjernes. Vi har i vores finanslovudspil peget på et par konkrete punkter, hvor man kunne starte. Der er nok at tage af. Men derudover er der en række andre punkter, som vi er uenige med regeringen i, og hvor vi har nogle udspil selv. Det drejer sig f.eks. om forholdet til velfærdssamfundet. Det havde ikke nogen særlig central placering i statsministerens åbningstale. Diskussionen om velfærdssamfundet kører jo ellers for fuldt blus uden for denne sal. Diskussionen af socialministerens udspil til en ny bistandslov burde efter vores opfattelse starte en fundamental debat om hele den generelle vurdering af velfærdssamfundet, og derfor sendte vi i sidste uge et forslag til en fælles forespørgsel til samtlige partier. Der var ingen eller negative svar fra regeringen, og derfor har vi stillet den i eget navn. Vi må have en overordnet debat i dette Folketing, og et af de vigtige elementer i den forbindelse er for Enhedslisten, hvordan der kan skabes de substantielle forudsætninger for et nyt solidaritetsprojekt, og hvordan vi kan skabe et velfærdssamfund, der er frigjort for markedsstyring og for formynderi. Mit andet store spørgsmål i denne samling er naturligvis regeringskonferencen. Regeringskonferencen går ind i sin afsluttende fase. Hovedlinjerne ventes at tegne sig på de to kommende topmøder i efteråret, således at det endelige udkast til Maastricht II laves færdig i vinteren/foråret 1996-97. Vi blev ikke synderlig beroliget af åbningstalen, idet vi ser, at regeringen trods de jævnlige besværgelser konstant fifler med de fire undtagelser. Derfor vil vi bl.a. tage følgende initiativer i den kommende folketingssamling for at sætte fokus på centrale spørgsmål i debatten: Vi vil tage initiativer mod ØMU'en, Schengen og Europol. Vi har i øvrigt taget initiativ til, at der bliver rejst en forespørgselsdebat om regeringskonferencen i dette efterår. Derudover har vi lavet en række forslag, bl.a. om nej til flertalsafgørelser vedrørende socialpolitik, miljøafgifter og andre områder. Torsdag den 3. oktober 1996 (R 1) 109 På det miljømæssige område er det også vigtigt, at der bliver gjort en ekstra indsats. Det økologiske landbrug er den eneste måde, hvorpå man kan sikre rent drikkevand i Danmark. Regeringens nuværende strategi, hvor få procent af Danmarks areal udpeges til beskyttelse af drikkevandet, er spild af gode penge, og samtidig er det at foregøgle befolkningen, at den dermed får rent og pesticidfrit drikkevand. Enhedslisten vil konkret arbejde for, at, omlægningstiden nedsættes fra 2 år til 1 år, fordi den lange omlægningstid giver et unødvendigt indtægtstab, da den økologiske landmand allerede har forpligtet sig for 5 år. Afsætningen af økologiske varer skal styrkes ved, at statslige og kommunale institutioner omlægger til indkøb af økologiske varer. Det nuværende 3-årige tilskud til omlægning til økologisk landbrug er ikke nok. De økologiske landmænd skal ganske enkelt ligestilles økonomisk med de konventionelle landmænd. Hovedpointen er nemlig, at EU via tilskud favoriserer de konventionelle landmænd. Med hensyn til det danske drikkevand, som regeringen har proklameret skal være rent, må vi fra Enhedslisten sige, at det ikke er tilstrækkeligt at proklamere, at nu skal der være færre pesticider i grundvandet. Vi vil have dem helt væk. Det er derfor en katastrofe, når man i regeringens plan ikke tager udgangspunkt i, at det er det økologiske landbrug, man skal have fat i. Derudover vil Enhedslisten i det kommende år sætte fokus på byernes økologi. Vi vil ikke begraves i giftige slambjerge, fordi kloakkerne blander industriens giftaffald med menneskegødning og køkkenvand i én pærevælling, så rensningsanlæggene omdannes til selvstændige giftfabrikker. I stedet skal man prøve at tænke byernes økologi ind i en helhed. Det vil vi sætte fokus på. Som det sidste punkt inden fru Jette Gottlieb kommer til vil jeg nævne, at vi vil sætte fokus på det, der hedder magten og magtfordrejningen i det danske samfund. Vi har i en række år været vidner til en stribe ulovligheder. De seneste ulovligheder har været inden for det politiske system med selskabstømninger, ulovlige bank- fradrag, overbelåning af skibe, Færøbanksagen, huller i skatteloven m.v., Det politiske ansvar for disse ulovligheder har det været ganske svært at få placeret, og viljen til at rydde op er påfaldende behersket fra Folketingets flertals side. Enhedslisten har i øvrigt igangsat et større projekt om den økonomiske magt, som handler om det tilsyneladende simple problem: Hvem ejer Danmark? Vi kan konstatere, at Folketingets Magt- og Demokratiudvalg ikke er nået ret langt med det spørgsmål. Det handler naturligvis om bankerne, butikkerne, medierne, skibsrederne m.fl. Vores projekt forventes at strække sig over ét til halvandet år og skal afsluttes med en samlende rapport. Begge dele er elementer i Enhedslistens politik, der også går på at udvide gennemsigtigheden og demokratiet i samfundet, og jeg vil da også benytte lejligheden til at påpege, at det socialistiske samfund, vi kæmper for, er karakteriseret ved et langt mere omfattende demokrati. Økonomien er under demokratisk kontrol, og magtforholdene er åbne og synlige og til debat, hvis det er nødvendigt. Det er bestemt ikke det, der er karakteristisk for Danmark i dag. Enhedslisten ser frem til dette efterår, for der er en række muligheder. Vi er naturligvis i opposition til regeringen og dens politik, men vi håber alligevel på, at der kan laves nogle fornuftige ting. Jeg vil herefter give ordet til fru Jette Gottlieb.\""
      ]
     },
     "execution_count": 283,
     "metadata": {},
     "output_type": "execute_result"
    }
   ],
   "source": [
    "best_sand = landbrug_1996_sand.index(landbrug_1996_sand[2])\n",
    "best_sand_tale = landbrug_1996[best_sand]\n",
    "print(Alle_taler_år[best_sand_tale])\n",
    "Alle_taler[best_sand_tale]"
   ]
  },
  {
   "cell_type": "markdown",
   "id": "d721bf74",
   "metadata": {},
   "source": [
    "### Topic 3 Grønland:"
   ]
  },
  {
   "cell_type": "code",
   "execution_count": 284,
   "id": "05ada829",
   "metadata": {},
   "outputs": [
    {
     "data": {
      "text/plain": [
       "791"
      ]
     },
     "execution_count": 284,
     "metadata": {},
     "output_type": "execute_result"
    }
   ],
   "source": [
    "topics_grønland = []\n",
    "topics_grønland_sand = []\n",
    "for index in range(len(gensim_corpus)):\n",
    "    bow = gensim_dictionary.doc2bow(data_lemmatized[index])\n",
    "    eu_tale_topic_distribution = lda_model.get_document_topics(bow)\n",
    "    for topic, sand in eu_tale_topic_distribution:\n",
    "        if topic == 3:\n",
    "            topics_grønland.append(index)\n",
    "            topics_grønland_sand.append(sand)\n",
    "len(topics_grønland)"
   ]
  },
  {
   "cell_type": "code",
   "execution_count": 285,
   "id": "098093a6",
   "metadata": {},
   "outputs": [],
   "source": [
    "topics_grønland_år = [Alle_taler_år[i] for i in topics_grønland]\n",
    "topics_grønland_antal_taler_1980eren = []\n",
    "\n",
    "for år in år_1990erne:\n",
    "    topics_grønland_antal_taler_1980eren.append(topics_grønland_år.count(år))\n",
    "topics_grønland_andel = [topics_grønland_antal_taler_1980eren[i]/antal_taler_år[i] for i in range(10)]"
   ]
  },
  {
   "cell_type": "code",
   "execution_count": 287,
   "id": "d51e91ad",
   "metadata": {},
   "outputs": [
    {
     "data": {
      "image/png": "[encoded data removed]",
      "text/plain": [
       "<Figure size 432x288 with 2 Axes>"
      ]
     },
     "metadata": {
      "needs_background": "light"
     },
     "output_type": "display_data"
    }
   ],
   "source": [
    "fig, (ax1, ax2) = plt.subplots(2, 1)\n",
    "ax1.set_title(\"Andel af folketingstaler der nævner EF relateret til topic 3\")\n",
    "ax1.plot(folketingsår, topics_grønland_andel)\n",
    "ax1.set_ylim([0, 0.1])\n",
    "ax2.set_title(\"Antal af folketingstaler der nævner EF relateret til topic 3\")\n",
    "ax2.bar(folketingsår, topics_grønland_antal_taler_1980eren)\n",
    "fig.tight_layout(pad=1.0)\n",
    "fig.savefig(\"Speciale_scripts/plots/1990_erne/Andel_af_folketingstaler_der_nævner_EF relateret_til_topic_3\")"
   ]
  },
  {
   "cell_type": "code",
   "execution_count": 292,
   "id": "949c5e26",
   "metadata": {},
   "outputs": [
    {
     "name": "stdout",
     "output_type": "stream",
     "text": [
      "3325\n",
      "12657\n"
     ]
    }
   ],
   "source": [
    "for index in range(len(data_lemmatized)):\n",
    "    tekst = data_lemmatized[index]\n",
    "    if \"færøerne\" in tekst or \"grønland\" in tekst:\n",
    "        if \"idræt\" in tekst:\n",
    "            print(index)"
   ]
  },
  {
   "cell_type": "code",
   "execution_count": 234,
   "id": "4a574a28",
   "metadata": {},
   "outputs": [
    {
     "data": {
      "text/plain": [
       "\" Det danske samfund er i grunden et godt samfund for de fleste, faktisk et af de bedste i verden. Det mener vi selv i Danmark, det anerkender de fleste ude omkring, og det bekræfter internationale sammenligninger. De fleste mennesker i Danmark har. fortsat et godt grundlag for et trygt udviklende liv med mange muligheder, men ser vi blot lige neden under overfladen, er det ikke tiden for skønmaleri af vor situation, for det er samtidig et samfund i arbejdsløshed, i utryghed for mange, der føler sig udenfor, i usikkerhed hos mange, der har arbejde, over for, hvorvidt de nu kan bevare jobbet. Hvordan sikrer vi fortsat vor velfærd, sociale tryghed, uddannelse og jobmuligheder for de unge og tryghed i alderdommen? Det er en ny tid og en forandringens tid, som både skaber usikkerhed og helt nye muligheder for os alle. Verden omkring os har på få år forandret sig dramatisk på både godt og ondt. Kold krig er afløst af borgerkrige og uro, men også af nye muligheder for en fredeligere udvikling. Gensidig økonomisk afhængighed påvirker os, men skaber også muligheder for en ny velfærd gennem samarbejde over grænserne i Europa. [Statsministeren] Vi skal igennem store forandringer i de kommende år. Det er afgørende, at der nu lægges en stabil kurs herfor uden hovsaløsninger og kortsigtede indgreb. Alle skal kunne følge med, være med og føle sig trygge ved, at tingene bevæger sig i den rigtige retning. Forandring skal vende usikkerhed til sikkerhed gennem en rolig, velovervejet indsats for at skabe et mere dynamisk, mere menneskeligt og mere miljøvenligt samfund. For at løse denne opgave vil regeringen først og fremmest sætte kræfterne ind på seks hovedområder. For det første vil regeringen sammen med Folketinget skabe tillid til og respekt for vores folkestyre. Der må i befolkningen ikke kunne herske den ringeste tvivl om, at lovgivningen og dens forvaltning foregår på en betryggende måde. For det andet vil regeringen gøre alt, hvad der står i dens magt, for at vende den dybt foruroligende stigning i arbejdsløsheden; situationen er desværre blevet værre siden de seneste prognoser. Så meget vigtigere er det, at regeringens program for at få gang i beskæftigelsen bliver gennemført samtidig med initiativerne i EF for vækst og beskæftigelse. For det tredje er det afgørende for regeringen at fastholde Danmark som et aktivt og engageret medlem af EF. Det er ganske simpelt forudsætningen for vores velfærd. Regeringen vil derfor i den kommende tid arbejde intenst for at opnå befolkningens tilslutning til den løsning, der i Edinburgh blev fundet på Danmarks forhold til EF. Det klare mål er et ja ved folkeafstemningen. For det fjerde vil alle regeringens initiativer være præget af, at gode vilkår for erhvervslivet er en afgørende forudsætning for, at vi igen kan få gang i beskæftigelsen. Nøgleordet for regeringen vil være at skabe en bedre sammenhæng i indsatsen for at styrke erhvervslivets konkurrenceevne i bredeste forstand. For det femte skal hensynet til miljøet systematisk inddrages fra starten, når de politiske beslutninger træffes. For regeringen er der ikke en modsætning mellem samfundsøkonomi og miljø, og der skal findes løsninger, som tilgodeser både miljø og beskæftigelse. For det sjette vil regeringen sætte al kraft ind på at sikre, at den nye omstilling i samfundet ikke efterlader grupper af befolkningen som udstødte overladt til sig selv. Regeringen vil ganske enkelt ikke acceptere, at folk i dagens Danmark kan være henvist til at leve på gader og banegårde, at gamle mennesker sygner hen af ensomhed og mangel på omsorg, eller at mennesker med psykiske problemer får lov at sejle deres egen sø, og det er en opgave, som skal klares, hvis vi skal være vores samfund bekendt. Det parlamentariske grundlag, som den nye regering har, giver mulighed for både handlekraft og langsigtede løsninger, men selv om regeringen har et klart flertal bag sig, vil vi lytte til andre partier. Vi vil være åbne, og vi vil søge det bredest mulige samarbejde, og derfor skal regeringens åbenhed over for samarbejde ikke kun gælde de øvrige partier i Folketinget. Regeringen lægger afgørende vægt på, at befolkningen bliver draget så aktivt ind i det politiske arbejde som overhovedet muligt og vil derfor holde tæt kontakt til kommunerne, erhvervslivet, arbejdsmarkedet, de folkelige bevægelser og andre dele af samfundet. Men den vil samtidig være sig meget bevidst, at der er grupper i samfundet, som ikke er repræsenteret af stærke interesseorganisationer, og det gælder ikke mindst nogle af de svageste grupper, som sjældent eller aldrig taler mest højrøstet. Regeringen føler en stærk forpligtigelse til at lytte til og inddrage alle grupper i samfundet; der skal være plads til alle og brug for alle. Regeringen vil bruge al den nødvendige energi på kampen mod arbejdsløsheden. Opgaven er så omfattende, at den ikke kan løses på kort tid; det er en vedholdende, sammenhængende indsats på alle betydningsfulde områder, der skal til. Det fremgår desværre af den konjunkturoversigt, som regeringen udsender i morgen, at væksten i 1993 bliver betydelig lavere end hidtil ventet. Der er mange ubehagelige tegn på, at vi risikerer at blive fanget i ny stagnation, som stækker vore manøvremuligheder: et stort underskud i offentlige finanser, stigende arbejdsløshedstal, faldende indtjeningsevne i erhvervene, mangel på udenlandske investeringer i Danmark og en for lille indsats vedrørende forskning og udvikling. Hertil skal lægges en stigende social polarisering, som følger direkte af den store og stigende ledighed. Opbygningen af en social undergruppe i Danmark udgør et stadig voksende menneskeligt og samfundsmæssigt problem, som vi med det samme må tage fat på. 4803 2/2 93: Statsministerens redegørelse i henhold til forretningsordenen § 19, stk. 1 og 2 4804 [Statsministeren] Tendensen til social polarisering forstærkes af det uddannelsesmæssige efterslæb. Vi skal i gang med en omfattende dygtiggørelse og efteruddannelse af de mange, der alene har folkeskolen som baggrund, for netop denne gruppe er hårdest ramt af ledighed eller mest udsat for at miste jobbet. Vi skal samtidig gennemføre en fornyelse nedefra for de nye ungdomsårgange og derfor også en reform af folkeskolen, som giver alle børn muligheder for indlæring og personlig udvikling ud fra egne evner. Ledigheden er steget med knap 10.000 alene i november og december, og med 330.000 ledige ved årsskiftet sætter vi en sørgelig rekord. Desværre er hovedresultatet af regeringens nye vurdering, at ledigheden i 1993 bliver højere end i 1992; årsagerne hertil skal søges i både internationale og hjemlige forhold. At ændre denne udvikling kræver politisk nytænkning, nyvurdering af Danmarks økonomiske og industrielle vilkår og de nye initiativer, der er nødvendige. Vi vil benytte vort EF- formandskab til at samarbejde med andre lande om at trække Europa ud af lavvækstfælden. Hvis vi i fællesskab sætter denne opgave øverst på dagsordenen, er der større chancer for, at det lykkes. I Danmark skal vi styrke vort produktionsgrundlag, vor konkurrenceevne, og vi skal vedholdende dygtiggøre os. Regeringen vil gennemføre en reform af uddannelses- og arbejdsmarkedspolitikken. Vi vil omlægge skattesystemet, og vi foreslår en mere aktiv og dynamisk erhvervspolitik. Men vi skal samtidig fastholde vore økonomiske styrkepositioner; fastkurspolitikken, betalingsbalanceoverskuddet og lavinflationen skal videreføres. Statens underskud skal nedbringes, og derfor skal det samlede offentlige forbrug fastholdes på en klart lavere stigningstakt end væksten i samfundet. I nedgangstider skal arbejdsløsheden modvirkes gennem en fremrykning af offentlige investeringer, mens der til gengæld sker en dæmpning af aktiviteten i opgangstider. Den linie skal bære samarbejdet mellem stat og kommuner i den økonomiske politik. Vi skal arbejde sammen, vi skal igangsætte sammen, og det er sund fornuft, da det på såvel kort som lang sigt vil fremme fornyelse, vækst og beskæftigelse. Det er regeringens mål, at vi de næste 3-5 år fremrykker investeringer i infrastruktur i størrelsesordenen 10-15 mia. kr. Der skal være tale om rentable og miljømæssigt forsvarlige investeringer, som år for år fastlægges i et positivt samarbejde mellem staten og kommunerne, ligesom der også på bygge- og boligområdet er store muligheder for at øge aktiviteteten. Regeringen vil tage initiativ til, at finansloven for 1993 udnyttes fuldt ud på dette område, og indsatsen skal forstærkes i forslaget til finanslov for 1994. Der skal gives økonomisk tilskyndelse til byfornyelse og boligforbedring, som sparer på energien og tager hensyn til miljøet, og rammerne for byggeeksporten skal fortsat forbedres, også i forhold til de østeuropæiske markeder. Den økonomiske politik handler i sidste ende om menneskelige værdier; miljø og holdbar økonomi er jo ikke modsætninger, men hinandens forudsætninger. Derfor skal der arbejdes med et grønt nationalregnskab, og der skal foretages vurderinger af miljømæssige konsekvenser ved ny lovgivning og investeringsprogrammer. Gradvis indførelse af nye grønne afgifter kan i sammenhæng med omlægningen af skattesystemet understøtte miljøansvarligheden såvel i virksomhederne som hos forbrugerne. Anvendelse af miljøvenlig teknologi skal fremmes, og der skal ske en konsekvent opfølgning af de vedtagne miljøhandlingsplaner. Regeringen indbyder alle til at samarbejde om, hvordan vi på samme tid kan få bugt med dårligt miljø og høj arbejdsløshed. Indbydelsen gælder kommuner, amter, virksomheder, foreninger og organisationer, men er i virkeligheden rettet til hver eneste af os. Vi kan ikke undvære én eneste idé, når vi tænker på vores fælles fremtid, hvor vi skal sikre et grønt Danmark og rigtigt arbejde til de ledige; et godt miljø giver gode job. Det er en hovedopgave for regeringen at sikre gode arbejdsvilkår for erhvervslivet, så erhvervene får mulighed for at skabe reelle nye job. Nøgleordene vil være aktiv indsats, nye samarbejdsformer og bedre sammenhæng i indsatsen. Indgåelse af ansvarlige overenskomster vil medvirke til at forbedre konkurrenceevnen samt styrke vækst og beskæftigelse. Regeringen er sikker på, at arbejdsmarkedets parter er meget bevidste herom, men også regeringen vil gøre sin del af arbejdet for at styrke erhvervenes konkurrenceevne i bredeste forstand; det vil faktisk blive det bærende i regeringens arbejdsmetode. 4805 2/2 93: Statsministerens redegørelse i henhold til forretningsordenen § 19, stk. I og 2 4806 [Statsministeren] Det er regeringens målsætning at styrke koordineringen af erhvervspolitikken for så vidt angår alle sider af konkurrenceevne, erhvervsfremme og erhvervsstøtteordninger. Regeringen vil foretage nyvurderinger af de erhvervsmæssige konsekvenser af ny lovgivning og vil forøge indsatsen for at tiltrække udenlandske investeringer til Danmark. De små og mellemstore virksomheder spiller jo en særlig rolle for mulighederne for at øge beskæftigelsen, og netværkssamarbejdet mellem virksomhederne skal moderniseres og fremmes til fuldt at modsvare 1990'ernes krav; det nye program for viden og kvalitet skal bidrage hertil. Regeringen vil nøje vurdere, om garantiordningen for pengeinstitutternes udlån til mindre virksomheder sikrer tilstrækkelig adgang til lånefinansiering; vi vil videre overveje andre muligheder for at forbedre finansieringsvilkårene for visse typer fremtidsinvesteringer, og vi må styrke erhvervslivets udviklingsevne. Der skal etableres kanaler for at omsætte forskningsresultater i produktion, der skal ske en høj grad af koordination af de offentlige forskningsbevillinger, og regeringens forskningspolitiske redegørelse vil som noget nyt vurdere den teknologiske udvikling og konsekvenserne heraf for samfundsudviklingen. Vi vil åbent tage fat på de dilemmaer, der præger vores tid, mellem den ny teknologis økonomiske nødvendighed og de etiske og menneskelige hensyn og mellem forandringer til moderne avanceret produktionsteknologi og menneskelige og sociale hensyn. Arbejdet i Det Etiske Råd og en åben debat og grundig analyse af nye forskningsresultater vil for regeringen være grundlaget for at slå bro over modsætningerne på et etisk holdbart grundlag. Regeringen foreslår, at samspillet mellem den offentlige og den private sektor skal forbedres ; de skal samarbejde og ikke modarbejde. I et dynamisk samspil kan fælles ressourcer og viden udnyttes til gavn for hele samfundet. Det kræver en fordomsfri opblødning af grænsen mellem den offentlige og den private sektor; både offentlige og private virksomheder skal kunne konkurrere på lige og fair vilkår, og private virksomheder skal inddrages som samarbejdspartnere i den offentlige sektor. Der skal være mulighed for fælles initiativer, selskaber og udviklingsprojekter. Som en nyskabelse i den regionale erhvervspolitik vil industriministeren tage initiativ til at etablere en særlig rådgivning for kriseramte regioner, så der skabes grundlag for fornyet vækst. Regeringen vil arbejde for samarbejdsprojekter mellem offentlige og private, bl.a. på søfartsområdet og i form af systemeksport. Ideer, systemer og produkter, der er udviklet i tilknytning til den offentlige service, skal i langt højere grad gøres til eksportvarer ved bedre samordning af produktudvikling og markedsføring. GATT-aftalen og ændringer i EF's land- brugs- og fiskeripolitik stiller de primære erhverv og forædlingsindustrierne over for store udfordringer, men der vil også vise sig muligheder for nye markeder. Erhvervene skal støttes i denne vanskelige omstillingsproces, der også må gå i retning af større hensyntagen til miljøet. Særligt gældstyngede fiskere og landmænd skal have bedre muligheder for at løse deres problemer. Turismen bidrager også til at præge Danmarks ansigt udadtil. Turisterhvervene har vældige udviklingsmuligheder, bl.a. i samspil med kulturen. Regeringen lægger stor vægt på, at der skabes flere arbejdspladser på dette område ; der er faktisk store uudnyttede muligheder herfor. I kampen mod arbejdsløsheden vil regeringen gennemføre en reform af både arbejdsmarkeds- og uddannelsespolitikken. Adgangstegnet til arbejdsmarkedet er i dag mere end nogen sinde uddannelse. Den hastige samfundsudvikling betyder, at efter- og videreuddannelse bliver stadig vigtigere både for de beskæftigede og for de arbejdsløse. Regeringen vil gennemføre en voksen- og efteruddannelsesre- form, der har som mål at skaffe 60.000 nye arbejdspladser i efteruddannelserne inden år 2000. Regeringen vil med udgangspunkt i Socialkommissionens anbefalinger og på baggrund af det lovforslag om erhvervsuddannelser, der allerede er fremsat, etablere en tredje adgangsvej til erhvervsuddannelser for de mere praktisk orienterede unge. Regeringen ønsker også at forhandle om en forbedring af ordningerne om orlov og jobrotation. Børnefamilierne skal have bedre vilkår, og der skal gives bedre mulighed for, at man kan dygtiggøre sig på selvvalgt uddannelse. 4807 2/2 93: Statsministerens redegørelse i henhold til forretningsordenen § 19, stk. 1 og 2 4808 [Statsministeren] Regeringen lægger åbent op til en generel arbejdsmarkedsreform, hvor der er klare rettigheder og pligter, og hvor man i højere grad tager udgangspunkt i de lediges behov. Ændringerne skal gennemføres uden at forringe ydelserne til de ledige, og regeringen ønsker, at løntilskudsordningerne anvendes mere fleksibelt med vægt på støtte til nye, reelle arbejdspladser og en mere konstruktiv fordeling af det arbejde, vi har. Initiativet til aktiveringsindsatsen bør tages af de lokale og regionale myndigheder. De regionale arbejdsmarkeder skal tildeles en rammebevilling og gives mulighed for at indgå aftaler om jobrotation, hvor beskæftigede får efteruddannelse og ledige får job. Den helt nye arbejdsmarkedspolitik skal medføre, at finansieringen af arbejdsmarkedsindsatsen gradvis omlægges til generelle lønafhængige bidrag fra alle erhvervsaktive og arbejdsgivere. Dette skal ske i sammenhæng med en ændring i skattesystemet, og samtidig er det tanken at opdele det samlede bidrag i ét til dagpengeudgifter og et andet, der finansierer den aktive arbejdsmarkedspolitik, medfinansierer voksen- og efteruddannelse, orlovsordninger m.v. Størrelsen af de årlige bidrag fastsættes i forbindelse med finansloven som led i den økonomiske politik og under fuld hensyntagen til konkurrenceevnen i vore virksomheder og naturligvis også til beskæftigelsens udvikling. Når vi så ser på beskæftigelsessituationen, er det ikke sandsynligt, at de traditionelle erhverv kan styrkes så meget, at det i sig selv kan sikre fuld beskæftigelse igen. Regeringen lægger derfor stor vægt på at undersøge, hvad der kan gøres for at skabe flere job på serviceområdet; behovet herfor er stort, og mange muligheder ligger ligefor. Ud over reparation og vedligeholdelse kan man som eksempler nævne en større bemanding af vore S-togs-statio- ner og banegårde, mere servicepersonale i offentlige institutioner og på museer, medhjælp til renholdelse af offentlige veje, pladser, parker og rekreative områder samt nye job også i forretninger. Regeringen vil skabe arbejdspladser på utraditionelle områder. Også her kan som eksempler nævnes støtte til aktiviteter inden for idræt, kultur, folkeoplysning, miljøaktiviteter, socialt arbejde i foreninger, humanitære og kirkelige organisationer. Alt dette skal sættes i en for- nuftig ramme, velafgrænset og fungerende side om side med beskæftigelsen i den øvrige private og den offentlige sektor. Der bør findes særlige løsninger for de grupper, der ikke har fuld arbejdsevne, og som derfor ikke står til rådighed for arbejdsmarkedet. Regeringen vil overveje, hvordan disse grupper kan påtage sig mindre arbejdsopgaver, uden at der foretages en modregning i deres overførselsindkomst. Regeringen er fast besluttet på over en årrække at gennemføre omlægninger af skatter og afgifter, som kan nedbringe skatten af arbejdsindkomster. Det, som regeringen lægger op til, er ordentligt gennemarbejdede trinvise omlægninger, som skal gennemføres i en takt, der sikrer familiernes og virksomhedernes økonomi. Slutresultatet vil efter en årrække være et skatte- og afgiftssystem, som hænger sammen, som bekæmper spekulanternes forsøg på at undgå en beskatning, som præmierer dem, der beskytter vort miljø og skaber beskæftigelse, og som skaber større enkelhed, overskuelighed og bedre retssikkerhed for den enkelte borger. Det er vigtigt for regeringen at understrege, at vi taler om en veltilrettelagt, gennemtænkt proces, der giver en retfærdig fordeling og respekterer de klare løfter, som i regeringsgrundlaget er afgivet til vore virksomheder. Omlægningen må ikke forringe det samlede økonomiske grundlag for de enkelte familier i egen bolig. Det er regeringens opfattelse, at der er stærkt behov for at genskabe borgernes tillid til skattesystemet. Det er i dag en udbredt opfattelse i befolkningen, at blot man har råd til at købe en god skatterådgiver, bestemmer man stort set selv, hvad skattens størrelse skal være. Regeringens initiativer skal medvirke til at genskabe tilliden til, at vi har et retfærdigt skattesystem i Danmark, hvor den kommunale udligning og ligning er effektiv. Gennem den senere tid har der været en diskussion om retsvæsenets forhold. Regeringen vil tage initiativ til en grundig vurdering af hele dette område. Regeringen vil således hurtigst muligt nedsætte et udvalg, der bl.a. skal se på spørgsmålet om dommeres udnævnelse, uddannelse og rekruttering på et bredere grundlag. Endvidere har regeringen positivt noteret sig, at der er vist interesse for at oprette et lov- 4809 2/2 93: Statsministerens redegørelse i henhold til forretningsordenen § 19, stk. l og 2 4810 [Statsministeren] råd. Oprettelsen af et sådant rådgivende organ for Folketinget er naturligvis et spørgsmål, som først og fremmest må behandles og afgøres af Folketinget selv. Regeringen indgår gerne i et samarbejde med Folketinget om den nærmere udformning af reglerne herom, og vi vil yde al den bistand, som Folketinget måtte finde ønskelig. Et helt centralt punkt i regeringens politik er, at vilkårene for de svageste grupper forbedres; regeringen vil ikke acceptere, at samfundets svageste lades i stikken. Regeringen vil derfor udarbejde en samlet handlingsplan for en indsats, der forebygger, at stadig flere ender i ensomhed, social nød og hjemløshed. Ikke mindst i den sociale sektor gælder reglen om, at hurtig hjælp er dobbelt hjælp. Derfor skal der satses på forebyggelse. Vi vil se på alkohol- og narkopolitikken, på kriminalforsorgen og på andre områder. Regeringen vil iværksætte nye forsøg med nye boligtyper, hvortil der knyttes omsorg, hjælp og aktiviteter. De mest sårbare grupper i vores land skal have relevante tilbud og ikke blot overlades til sig selv i isolation og personligt forfald. For at forebygge sociale problemer og øge livskvaliteten skal familien som enhed have de bedst mulige betingelser. Regeringens målsætning er at give forældre og børn mere tid sammen, samtidig med at begge forældre kan bevare tilknytningen til arbejdsmarkedet. Regeringen vil desuden se på børnefamiliernes økonomiske vilkår i sammenhæng med de kommende skattereformforhandlinger. Regeringen finder det ikke rimeligt, at et stigende antal børn og unge bliver holdt uden for fællesskabet. Det er uacceptabelt i vort velfærdssamfund at se gadebørn i storbyerne. For de svage og for de sårbare grupper skal der derfor opbygges minimumsrettigheder, som sikrer den omsorg, man ud fra medmenneskelige og sociale hensyn må kræve, uanset hvor man bor. Ved forhandlinger med kommunerne vil regeringen tage udgangspunkt i, at der ydes en service, som svarer til disse minimumsrettigheder. Et nyt og forenklet kommunalt udligningssystem kan give en økonomisk tilskyndelse i den forbindelse. Den offentlige sektor stilles over for krav om omstilling og fornyelse. Sådan er det her, og sådan er det også i den private sektor. Vi har stadig væk en god offentlig sektor i Danmark især i kraft af dygtige og engagerede medarbejdere. De offentlige institutioner har en effektivitet, som mange i udlandet misunder os. Den offentlige service skal yde bedst muligt i overensstemmelse med borgernes behov og yde sin service så effektivt og billigt som muligt. Der skal gøres op med kassetænkning, så det undgås, at borgerne får en dårlig og for dyr service, blot fordi nogle derved kan opnå, at en anden kasse skal betale. Ventetiderne ved børnepasning og ældreomsorg skal nedbringes, og på sundhedsområdet vil regeringen gradvis nedbringe ventetiderne for hospitalsbehandling. Der er opnået en forståelse med amterne om at gøre en indsats for at udvide operationskapaciteten i 1993, og aftaler for 1994 skal fremskynde denne politik. Kortere ventetider skal også omfatte behandling af klager fra patienter. Regeringen finder det påkrævet, at der fastlægges etiske rammer for anvendelse af teknologi på hele sundhedsområdet, netop med udgangspunkt i Etisk Råds grundprincipper. Kvalitet og folkelig deltagelse skal være målene for regeringens kulturpolitik. Blandt regeringens initiativer er, at Statens Kunstfond skal styrkes fra 1994, og Kulturfonden skal videreføres. Nye kulturhuse skal være klar til Kulturby '96-arrangementet, samtidig med at kulturbytanken udbredes til hele Danmark. Vilkårene for dansk film skal forbedres, og der skal tages initiativer for dansk musikliv. Endelig ønsker regeringen at fremme de kunstneriske uddannelser, og jeg vil gerne understrege, at regeringen også ser idrætten, både breddeidrætten og den mere professionelt orienterede idræt, som en central del af vores kulturpolitik. Som det er fremgået, vil regeringen tage en lang række initiativer på indenrigspolitikkens forskellige områder. Vi er fulde af virkelyst, og vi ser mange presserende opgaver foran os. Har vi så råd til at give Danmark en ny start, kunne man spørge. Ja, det har vi faktisk. Men mange af de opgaver, vi jo nu tager fat på, er ikke nye. Det nye er, at vi vil håndtere dem anderledes, at vi vil se på dem med friske øjne, og at vi vil fremlægge nye ideer til deres løsning. Samtidig er vore forslag præget af ønsket om at bruge de forhåndenværende ressourcer på 4811 2/2 93: Statsministerens redegørelse i henhold til forretningsordenen § 19, stk. I og 2 4812 [Statsministeren] en anden og bedre måde. Midlerne til de arbejdsløse skal bruges aktivt og igangsættende frem for som passiv udbetaling af dagpenge. Og jeg vil gerne understrege, at regeringens initiativer til stadighed vil holde sig inden for rammerne af den ansvarlige udgiftspolitik, sådan som jeg har redegjort for den. Jeg ved godt, at der i Folketinget og i befolkningen - hvad der ikke er noget unaturligt i - er forskellige opfattelser af, hvordan det danske samfund bør udvikle sig. Det giver anledning til megen og livlig debat. Sådan skal det være. Ser vi os selv i forhold til andre lande, er Danmark jo i grunden et uhyre stabilt land, hvor den politiske tradition er gennemført fredelig. Verden omkring os har forandret sig, og det præger i høj grad vores egen situation. En meget stor del af det danske samfunds problemer kan i dag kun løses effektivt gennem internationalt samarbejde. Det understreges vel mere end så meget andet af det sidste halve års valutauro. Lad mig bruge netop valutauroen som det væsentligste eksempel til at slå fast, så det ikke kan misforstås, at regeringen holder fast ved økonomisk og politisk stabilitet, men det må nødvendigvis også være ensbetydende med et stærkt internationalt samarbejde. I den forbindelse er Danmarks medlemskab af EF helt afgørende. Grundlaget for Danmarks deltagelse i EF-samarbejdet er det nationale kompromis om »Danmark i Europa«. Jeg vil gerne slå fast, at regeringen vil videreføre den nye Europapolitik, som et stort flertal i Folketinget, bestående af syv partier, står bag. Dette klare og utvetydige signal om en fortsat klar linje i Europapolitikken vil jeg gerne sende både til vore EF-partnere og til andre lande, som netop nu i særlig grad har søgelyset rettet mod os. Regeringen agter snarest muligt at fremsætte forslag til lov om Danmarks tiltrædelse af Edinburgh-afgørelsen om Maastrichttraktaten. Regeringen vil drøfte tidspunktet for den kommende folkeafstemning med de politiske partier bag »Danmark i Europa«; faktisk har jeg indbudt til et møde allerede i morgen, og jeg håber, at vi kan nå hurtige beslutninger herom. Denne folkeafstemning bliver afgørende for Danmarks fremtidsudsigter. Derfor er det meget vigtigt, at der gøres et aktivt oplysningsarbejde, og at der skabes den bredest mulige offentlige debat om sagen. Regeringen vil lægge et stort arbejde i at løse denne opgave. Hånd i hånd med dette vil vi sammen med de øvrige partier skabe større åbenhed i Folketingets arbejde med EF-politikken og et bedre samvirke mellem Markedsudvalget og de øvrige faste udvalg. Danmark har netop nu formandskabet i EF med de byrder og de muligheder, som det indebærer. Her ligger en af den nye regerings største og vigtigste arbejdsopgaver i de kommende måneder. I forbindelse med det danske formandskab lægger regeringen afgørende vægt på, at EF- landene gør en stærkere fælles indsats for at øge beskæftigelsen. Vi vil tage initiativer, som også inddrager vore vigtigste partnere uden for EF. Således kan jeg oplyse, at der i april arrangeres et møde mellem EF- og EFTA-landenes økonomi- og finansministre for at diskutere, hvilke initiativer denne kreds af lande kan tage for at få flere i arbejde. Vi vil også på EF's vegne, når tiden kommer, tage kontakt til den nye amerikanske administration for at få den bedst mulige samordning, når det gælder strategierne for vækst og beskæftigelse - det emne, som også præsident Clinton er så optaget af. Inden for rammerne af det danske formandskabs arbejdsprogram vil regeringen gøre en særlig indsats for større åbenhed, nærhed og demokrati i EF's beslutningsproces. Vi vil styrke miljøpolitikken, vi vil bidrage til en hurtig og positiv afslutning af forhandlingerne om optagelse af de nordiske lande og Østrig i EF. Endelig er det et hovedmål at nå et tilfredsstillende resultat af GATT-forhandlingerne om friere handel i verden. Samtidig med at der føres forhandlinger om at få bl.a. Sverige, Finland og Norge med i EF, skal det nordiske samarbejde udbygges. Grundlaget for dette er de nordiske statsministres beslutninger under Nordisk Råds session i Århus i november sidste år. Men den største og vanskeligste opgave i de kommende år bliver imidlertid at knytte det tidligere delte Europa sammen igen. Omstillingsprocesserne i Østeuropa er en skæbne- 4813 2/2 93: Statsministerens redegørelse i henhold til forretningsordenen § 19, stk. 1 og 2 4814 [Statsministeren] kamp, hvis udfald også bliver bestemmende for vor egen fremtid. Derfor skal der investeres mange ressourcer både politisk og økonomisk i forhold til disse lande. Som et led i denne indsats indbyder Danmark til en konference i april med deltagelse af EF-landene, EFTA-landene og østeuropæiske lande. Her vil vi drøfte Østeuropas økonomiske udvikling og mulighederne for yderligere integration med Vesteuropa. I vores del af Europa ligger der en vigtig opgave i at udnytte Øst-Vest-samarbejdet inden for rammerne af Østersørådet. På længere sigt er målet for dette samarbejde at gøre Østersøregionen til et af Europas økonomisk bæredygtige vækstcentre. For første gang siden Anden Verdenskrig er der desværre igen krig i Europa. Endnu en gang oplever vi en fanatisme og en brutalitet, som vi havde troet at europæere som civiliserede folk for længst havde lagt bag sig. Endnu en gang ser vi koncentrationslejre - denne gang i det tidligere Jugoslavien. Almindelig menneskelig anstændighed byder os, at vi ikke ser passivt til. Sammen med andre lande skal vi gøre alt for at finde en løsning på konflikten, og vi skal hjælpe de mennesker, der ikke har haft anden udvej end at flygte. I mange situationer hjælper man bedst flygtningene så tæt på deres hjemegn som muligt, men det er ikke altid, at man her og nu kan klare tingene på den måde. Det gælder også i forhold til flygtningene fra Bosnien-Hercegovina. Vi må være indstillet på at tage imod en del af flygtningene her i Danmark. Regeringen vil derfor udarbejde en handlingsplan for at sikre, at det sker på en ordentlig måde, så der bliver taget hensyn til både flygtningene og den lokale befolkning, der jo skal tage imod dem. Regeringen ønsker at aflaste de kommuner, der har mange flygtninge og indvandrere, bl.a. ved at tilstræbe en rimelig geografisk spredning af asylcentrene. Vi ønsker samtidig, at lokalbefolkningen inddrages i at skabe ordentlige rammer for flygtningene. Men flygtningeproblemet er et globalt problem. Regeringen vil arbejde videre med tanken om at nedsætte en europæisk flygtninge- kommission for at få en mere effektiv koordinering af de europæiske landes flygtningepolitik. Det kan ikke være rimeligt, at der stadig er lande, der næsten ikke tager imod deres del af flygtningestrømmene. Flygtningene er ét blandt mange udtryk for, at vi hænger tæt sammen med verden omkring os. Mens vores opmærksomhed netop nu rettes mod nogle dele af verden på grund af krige og flygtningestrømme, kan man tale om glemte folkeslag i andre dele af verden. Jeg tænker her specielt på de oprindelige folkeslag i det, man har kaldt den fjerde verden. Regeringen støtter, at FN har gjort 1993 til de oprindelige folkeslags år. Vi finder, at de rettigheder, som grønlænderne gennem hjemmestyreordningen har opnået, kan tjene som inspiration andre steder i verden. Ud over den kolossale opgave, der består i at overvinde Europas deling, har vi europæere en særlig forpligtelse til at støtte Afrika - det kontinent, mange har for let ved at glemme - i dets økonomiske udvikling og opbygningen af nye demokratiske samfundsmæssige institutioner. Vi må ikke glemme verden uden for Europa. Den danske udviklingsbistand må derfor ikke forringes. Den skal fortsat målrettes mod de fattigste dele af verden, og disse lande skal samtidig have bedre muligheder for at afsætte deres produkter i den rige del af verden. Indsatsen mod de globale miljø- og udviklingsproblemer trænger sig på efter Riokonfe- rencen i juni sidste år. Som led i finanslovaftalen for 1993 blev der etableret en miljø- og katastrofefond, og regeringen vil inden den I. april fremlægge den aftalte handlingsplan om dette. De økonomiske midler, som kan blive resultatet af omprioriteringer på forsvarsbudgettet, skal indgå i finansieringen af fonden. For få år siden lå vægten i sikkerhedspolitikken på vores evne til at forsvare os mod et militært angreb udefra. I dag, hvor vi jo er i en helt anden situation, ligger vægten på at sikre økonomisk udvikling, demokrati og miljø. Den ligger på at forebygge konflikter i forskellige dele af verden og på at få dem bilagt hurtigst muligt, når de er brudt ud. Vi har uændrede forpligtelser over for NATO, men også NATO har omstillet sig til nye opgaver, og samtidig har FN og CSCE fået langt større betydning. Regeringen vil fortsat arbejde ud fra en målsætning om at gøre FN til rammen om et globalt sikkerhedssystem. I overensstemmelse 4815 2/2 93: Statsministerens redegørelse i henhold til forretningsordenen § 19, stk. 1 og 2 4816 [Statsministeren] med denne målsætning gør dansk militært og civilt personale en fortjenstfuld indsats i det tidligere Jugoslavien, og også andre steder på kloden gør danskere et vigtigt fredsbevarende arbejde på FN's vegne. Vi håber, at FN vil gå videre i sine aktiviteter end til de rene fredsbevarende operationer, og at man på sigt vil kunne opstille en egen styrke til løsning af internationale opgaver under egentlig FN-komman- do. Danmark er parat til også at tilmelde enheder til sådanne aktiviteter. Forsvarsforliget fra november sidste år indebærer en forstærkelse af denne indsats gennem oprettelse af en international enhed i forsvaret. Den skal levere styrken til FN og CSCE, samtidig med at den skal indgå i NATO's reak- tionsstyrker. Det er vigtigt - meget vigtigt - at vi giver denne enhed den rigtige uddannelse, den rigtige udrustning og de rigtige kontrakter. Regeringen vil følge op på dette arbejde hurtigst muligt. Regeringen vil senere på foråret give den redegørelse for principper og perspektiver i dansk udenrigspolitik, som vi jo fik i opdrag af Folketinget i november sidste år. Regeringen agter at fortsætte det konstruktive samarbejde med Grønlands hjemmestyre om at gennemføre de justeringer af råstofordningen for Grønland, som vi har forberedt igennem nogen tid. I går indgik regeringen en aftale med det færøske landsstyre, som skal sikre det færøske bankvæsen. Regeringen har lagt vægt på, at der i fuld forståelse med det færøske landsstyres egne ønsker tages skridt til at fjerne de grundlæggende strukturproblemer i Færøernes økonomi. Regeringen er naturligvis godt klar over, at stagnationen i verdensøkonomien og de vanskelige forhold for fiskeriet i Nordatlanten er en alvorlig belastning for Færøerne og for Grønland. Men det er også regeringens opfattelse, at det er i overensstemmelse med de eksisterende hjemmestyreordninger på Grønland og for Færøerne, at netop Grønland og Færøerne har hovedansvaret for, at de uheldige virkninger af denne udvikling imødegås. Men regeringen vil også i denne vanskelige tid tilstræbe et godt og et tillidsfuldt samarbejde med Færøernes landsstyre og Grønlands landsstyre. Regeringen står over for krævende opgaver. For at løse dem vil vi på én gang både tænke langsigtet og handle hurtigt. Vi vil handle hurtigt i forhold til arbejdsløsheden ved at tage en række konkrete initiativer i den allernærmeste fremtid. Vi vil hurtigst muligt forhandle om de elementer i arbejdsmarkedsreformen, der umiddelbart har en gunstig virkning på beskæftigelsen, og som kan fremrykkes. Vi vil følge op på finanslovaftalen fra december for at sikre, at fremrykningen af investeringer bliver gennemført efter hensigten. Vi vil forbedre den mere langsigtede erhvervs-, uddannelses- og arbejdsmarkedspolitik, som kan skabe et stabilt grundlag for høj beskæftigelse. Også på andre centrale områder vil regeringens arbejde blive præget af denne kombination af handlekraft og tålmodig omstilling. Også miljøpolitik og omlægning af skattesystemet vil der blive taget fat på ud fra netop dette grundprincip. Om kort tid vil regeringen fremlægge sit lovprogram. Vi har travlt med at komme i gang med arbejdet, som det er fremgået, men vi ved, at fornyelsen af det danske samfund vil tage tid, og vi ved, at det kræver bred opbakning i befolkningen og i Folketinget, hvis det skal lykkes. Må jeg invitere alle til at deltage i en ny start for Danmark. Meddelelser fra formanden:\""
      ]
     },
     "execution_count": 234,
     "metadata": {},
     "output_type": "execute_result"
    }
   ],
   "source": [
    "Alle_taler[3325]"
   ]
  },
  {
   "cell_type": "code",
   "execution_count": 235,
   "id": "6b8eb39f",
   "metadata": {},
   "outputs": [
    {
     "data": {
      "text/plain": [
       "'1992'"
      ]
     },
     "execution_count": 235,
     "metadata": {},
     "output_type": "execute_result"
    }
   ],
   "source": [
    "Alle_taler_år[3325]"
   ]
  },
  {
   "cell_type": "markdown",
   "id": "dc768e93",
   "metadata": {},
   "source": [
    "### Topic 15 om menneskerettigheder og topic 24 om flygtninge:"
   ]
  },
  {
   "cell_type": "code",
   "execution_count": 279,
   "id": "d52b876b",
   "metadata": {},
   "outputs": [
    {
     "data": {
      "text/plain": [
       "2906"
      ]
     },
     "execution_count": 279,
     "metadata": {},
     "output_type": "execute_result"
    }
   ],
   "source": [
    "topics_menneskerettigheder = []\n",
    "topics_menneskerettigheder_sand = []\n",
    "for index in range(len(data_lemmatized)):\n",
    "    bow = gensim_dictionary.doc2bow(data_lemmatized[index])\n",
    "    eu_tale_topic_distribution = lda_model.get_document_topics(bow)\n",
    "    for topic, sand in eu_tale_topic_distribution:\n",
    "        if topic == 15:\n",
    "            topics_menneskerettigheder.append(index)\n",
    "            topics_menneskerettigheder_sand.append(sand)\n",
    "len(topics_menneskerettigheder)"
   ]
  },
  {
   "cell_type": "code",
   "execution_count": 63,
   "id": "8e43f43b",
   "metadata": {},
   "outputs": [],
   "source": [
    "topics_menneskerettigheder_år = [Alle_taler_år[i] for i in topics_menneskerettigheder]\n",
    "topics_menneskerettigheder_antal_taler_1990eren = []\n",
    "\n",
    "for år in år_1990erne:\n",
    "    topics_menneskerettigheder_antal_taler_1990eren.append(topics_menneskerettigheder_år.count(år))\n",
    "topics_menneskerettigheder_andel = [topics_menneskerettigheder_antal_taler_1980eren[i]/antal_taler_år[i] for i in range(10)]"
   ]
  },
  {
   "cell_type": "code",
   "execution_count": 67,
   "id": "105f7926",
   "metadata": {},
   "outputs": [
    {
     "data": {
      "image/png": "[encoded data removed]",
      "text/plain": [
       "<Figure size 432x288 with 2 Axes>"
      ]
     },
     "metadata": {
      "needs_background": "light"
     },
     "output_type": "display_data"
    }
   ],
   "source": [
    "fig, (ax1, ax2) = plt.subplots(2, 1)\n",
    "ax1.set_title(\"Andel af folketingstaler der nævner EF relateret til topic 15\")\n",
    "ax1.plot(folketingsår, topics_menneskerettigheder_andel)\n",
    "ax1.set_ylim([0, 0.25])\n",
    "ax2.set_title(\"Antal af folketingstaler der nævner EF relateret til topic 15\")\n",
    "ax2.bar(folketingsår, topics_menneskerettigheder_antal_taler_1990eren)\n",
    "fig.tight_layout(pad=1.0)\n",
    "fig.savefig(\"plots/1990_erne/Andel_af_folketingstaler_der_nævner_EF relateret_til_topic_15\")"
   ]
  },
  {
   "cell_type": "code",
   "execution_count": 71,
   "id": "764d74e8",
   "metadata": {},
   "outputs": [
    {
     "data": {
      "text/plain": [
       "152"
      ]
     },
     "execution_count": 71,
     "metadata": {},
     "output_type": "execute_result"
    }
   ],
   "source": [
    "topic_15_tyrkiet = []\n",
    "for i in topics_menneskerettigheder:\n",
    "    if \"tyrkiet\" in data_lemmatized[i]:\n",
    "        topic_15_tyrkiet.append(i)\n",
    "len(topic_15_tyrkiet)"
   ]
  },
  {
   "cell_type": "code",
   "execution_count": 77,
   "id": "a1213cff",
   "metadata": {},
   "outputs": [
    {
     "data": {
      "text/plain": [
       "' Når hr. Pelle Voigt siger: Kan vi ikke give våbenhjælp til kurderne? - og i øvrigt i den forbindelse nævner nogle våben, vi mig bekendt ikke må have i Danmark, bl.a. fordi hr. Pelle Voigt har forhindret det - og når hr. Ole Espersen siger, lidt mere elegant, end jeg nu udtrykker det, men det var vist meningen: Kan vi ikke blæse lidt på de internationale regler? Det, der foregår, er jo så alvorligt, at vi må sætte militær magt ind. Så må jeg sige ærligt og redeligt, at det er synspunkter, jeg udmærket forstår, og at jeg følelsesmæssigt selv kunne gå med et langt stykke af vejen. Men jeg gør bare stilfærdigt opmærksom på, at vi derved bringer os selv i et moralsk dilemma, for her drejer det altså om nogle mennesker, hvis skæbne påkalder sig vores sympati, og som er så rimelig tæt på, også på grund af medierne, at vi kan følge med i, hvad der sker. Men hvad næste gang, hvor spørgsmålet måske er lidt mindre klart? Vil vi så også være rede til at sige: Jamen her må man sende våben hen, her må man bryde de internationale regler? Jeg gør opmærksom på, at dette vigtige principielle spørgsmål, som jeg var inde på før, og som har at gøre med den nye verdensorden, kræver, at vi passer meget på ikke at lade os ja- ge af sted alene af følelser, men prøver at følge de internationale spilleregler, som vi jo også selv gang på gang er blandt de første til at trække frem og kræve respekteret. Hvad angår Tyrkiet og pres på Tyrkiet og spørgsmålet om grænserne, kan jeg sige, at det er mit indtryk, at der er ved at blive etableret et godt samarbejde med tyrkerne, bl.a. fordi vi fra EF-landenes side og fra anden side har givet tyrkerne det klare budskab, at de kan regne med vores solidaritet, at vi ikke bare vil overlade det til tyrkerne at bære de problemer, der er. I den forbindelse har vi også haft en diskussion af flygtningeproblemet, hvor der forleden var enighed i EF-kredsen om, at det ikke løses ved, at en række lande tager flygtninge til sig - det er i øvrigt også Flygtningehøjkommissærens synspunkt - altså at det, der er brug for, ikke er, at man indleder en meget kostbar proces, hvor man tager asylansøgere til landet og starter integration, men at man løser problemet i området. Desuden vil det jo også være at gå Saddam Husseins ærinde, hvis man pludselig begyndte at trække kurdere ud af området og give dem asyl andre steder. Det er altså i området, at problemet skal løses, og det er mit indtryk, at man fra tyrkisk side er indstillet på et godt samarbejde. Man var også med til koordinationsmødet i Vestunionen forleden. Jeg kan ganske kort sige til hr. Gade, at ved det møde satte jeg mig altså ikke til at læse op af det danske memorandum om vores principielle syn på Vestunionen; det syntes jeg måske ikke at situationen var til. Det drejede sig om at finde nogle hurtige løsninger på et påtrængende problem, og det står klart for enhver, at her greb man den mulighed, der var mest nærliggende og mest effektiv, for selvfølgelig har EF erfaringer i at koordinere nødhjælp, og de bliver brugt, men her drejede det sig om det, der hedder den logistiske side af sagen, at sørge for at få materiel og udstyr frem i en fart. Nu har man så denne organisation, vi bruger den denne gang, og det danner overhovedet ikke noget præcedens, og det åbner ikke for nogen ændret holdning.'"
      ]
     },
     "execution_count": 77,
     "metadata": {},
     "output_type": "execute_result"
    }
   ],
   "source": [
    "Alle_taler[topic_15_tyrkiet[6]]"
   ]
  },
  {
   "cell_type": "code",
   "execution_count": 93,
   "id": "6ef4601c",
   "metadata": {},
   "outputs": [
    {
     "data": {
      "text/plain": [
       "' Da mit partis ordfører, hr. Per Stig Møller, ikke kan være til stede, skal jeg på hans vegne kommentere forslaget. Indledningsvis vil jeg gerne give udtryk for, at vi fra konservativ side selvfølgelig finder det aldeles uacceptabelt, at Tyrkiet krænker folkeretten ved at gå ind i Nordirak. Tilsvarende finder vi det uacceptabelt, at Tyrkiet krænker menneskerettighederne i en vidtgående kamp mod kurderne. Lad mig i den forbindelse nævne, at der er millioner af tyrkere, for hvem kurdisk er deres modersmål, og at Tyrkiet derfor må være indstillet på, at disse mange mennesker må have ret til at udtrykke sig på deres modersmål. Vi vender os også mod de straffelove, som giver hjemmel til at krænke ytringsfriheden, som vi bl.a. har set det i tilfældet med forfatte- ren Kemal, mod hvem der rejses tiltale, fordi han i bladet Der Spiegel har skrevet en artikel, hvori han kritiserer regeringens politik i det kurdisk dominerede område i Østanatolien. Derfor støtter vi også helhjertet den meget kritiske dialog, som ikke mindst gennem EU og Europarådet føres med Tyrkiet, og som bl.a. også indebærer, at handels- og samarbejdsaftalen mellem EU og Tyrkiet er lagt på is, hvilket jo i sig selv er en sanktion, som bør få Tyrkiets regering til snarest at opfylde de stillede krav om respekt for menneskerettighederne og national suverænitet. At kritikken har haft virkning viser sig også ved, at en tilbagetrækning af tropperne fra Nordirak, som allerede nævnt i dag af udenrigsministeren, er begyndt, og at regeringen har lovet at ændre de kritiserede dele af forfatningen og straffelovene. Vi ønsker derfor, at den kritiske dialog fortsætter, også fordi vi frygter, at Tyrkiet i isolation let kan blive offer for den fundamentalistiske del af islam, og at menneskerettighederne derved kan blive trådt så langt værre under fode, at det kan blive umuligt at fastholde Tyrkiet på den demokratiske kurs, det trods alt er på. Derfor er trusler om yderligere sanktioner et tveægget sværd, og derfor skal vi efter konservativ opfattelse fastholde den kritiske dialog og først skride til sanktioner, hvis dialogen viser sig resultatløs. Vi kan derfor ikke tilslutte os Enhedslistens forslag.'"
      ]
     },
     "execution_count": 93,
     "metadata": {},
     "output_type": "execute_result"
    }
   ],
   "source": [
    "Alle_taler[6970]"
   ]
  },
  {
   "cell_type": "code",
   "execution_count": 90,
   "id": "fe7d254b",
   "metadata": {},
   "outputs": [
    {
     "data": {
      "text/plain": [
       "'1996'"
      ]
     },
     "execution_count": 90,
     "metadata": {},
     "output_type": "execute_result"
    }
   ],
   "source": [
    "Alle_taler_år[10252]"
   ]
  },
  {
   "cell_type": "code",
   "execution_count": 78,
   "id": "edfdf7cd",
   "metadata": {},
   "outputs": [
    {
     "data": {
      "text/plain": [
       "[49,\n",
       " 209,\n",
       " 549,\n",
       " 678,\n",
       " 679,\n",
       " 680,\n",
       " 706,\n",
       " 707,\n",
       " 932,\n",
       " 934,\n",
       " 959,\n",
       " 1178,\n",
       " 1503,\n",
       " 1777,\n",
       " 1995,\n",
       " 2428,\n",
       " 2861,\n",
       " 2954,\n",
       " 2958,\n",
       " 4075,\n",
       " 4172,\n",
       " 4175,\n",
       " 4176,\n",
       " 4184,\n",
       " 4210,\n",
       " 4212,\n",
       " 4769,\n",
       " 5036,\n",
       " 5366,\n",
       " 5527,\n",
       " 5829,\n",
       " 5855,\n",
       " 6010,\n",
       " 6148,\n",
       " 6187,\n",
       " 6318,\n",
       " 6470,\n",
       " 6485,\n",
       " 6858,\n",
       " 6968,\n",
       " 6969,\n",
       " 6970,\n",
       " 6971,\n",
       " 6972,\n",
       " 6973,\n",
       " 7044,\n",
       " 7051,\n",
       " 7279,\n",
       " 7339,\n",
       " 7340,\n",
       " 7512,\n",
       " 8234,\n",
       " 9154,\n",
       " 9207,\n",
       " 9253,\n",
       " 9327,\n",
       " 9517,\n",
       " 9989,\n",
       " 10075,\n",
       " 10092,\n",
       " 10160,\n",
       " 10251,\n",
       " 10252,\n",
       " 10253,\n",
       " 10254,\n",
       " 10255,\n",
       " 10256,\n",
       " 10257,\n",
       " 10258,\n",
       " 10259,\n",
       " 10260,\n",
       " 10261,\n",
       " 10523,\n",
       " 10691,\n",
       " 11121,\n",
       " 11334,\n",
       " 11418,\n",
       " 11548,\n",
       " 11601,\n",
       " 11681,\n",
       " 12152,\n",
       " 12158,\n",
       " 12159,\n",
       " 12160,\n",
       " 12265,\n",
       " 12442,\n",
       " 12484,\n",
       " 12505,\n",
       " 12939,\n",
       " 12949,\n",
       " 12951,\n",
       " 12952,\n",
       " 12953,\n",
       " 12955,\n",
       " 12956,\n",
       " 13148,\n",
       " 13149,\n",
       " 13150,\n",
       " 13151,\n",
       " 13152,\n",
       " 13153,\n",
       " 13154,\n",
       " 13330,\n",
       " 13878,\n",
       " 13990,\n",
       " 14286,\n",
       " 14289,\n",
       " 14345,\n",
       " 14412,\n",
       " 14413,\n",
       " 14414,\n",
       " 14417,\n",
       " 14492,\n",
       " 14772,\n",
       " 14796,\n",
       " 14803,\n",
       " 14926,\n",
       " 15153,\n",
       " 15154,\n",
       " 15179,\n",
       " 15228,\n",
       " 15640,\n",
       " 15656,\n",
       " 15661,\n",
       " 15665,\n",
       " 15674,\n",
       " 15676,\n",
       " 15682,\n",
       " 15763,\n",
       " 15841,\n",
       " 15941,\n",
       " 16097,\n",
       " 16099,\n",
       " 16150,\n",
       " 16152,\n",
       " 16155,\n",
       " 16157,\n",
       " 16158,\n",
       " 16162,\n",
       " 16189,\n",
       " 16242,\n",
       " 16279,\n",
       " 16363,\n",
       " 16405,\n",
       " 16735,\n",
       " 16951,\n",
       " 16952,\n",
       " 17077,\n",
       " 17093,\n",
       " 17278,\n",
       " 17510,\n",
       " 17520]"
      ]
     },
     "execution_count": 78,
     "metadata": {},
     "output_type": "execute_result"
    }
   ],
   "source": [
    "topic_15_tyrkiet"
   ]
  },
  {
   "cell_type": "code",
   "execution_count": 96,
   "id": "b6a43f40",
   "metadata": {},
   "outputs": [],
   "source": [
    "topic_15_menneskerettigheder = []\n",
    "for i in topics_menneskerettigheder:\n",
    "    if \"menneskerettighed\" in data_lemmatized[i]:\n",
    "        topic_15_menneskerettigheder.append(i)"
   ]
  },
  {
   "cell_type": "code",
   "execution_count": 97,
   "id": "0dc1eb58",
   "metadata": {},
   "outputs": [],
   "source": [
    "år_topic_15_menneskerettigheder = [Alle_taler_år[i] for i in topic_15_menneskerettigheder]"
   ]
  },
  {
   "cell_type": "code",
   "execution_count": 98,
   "id": "723fd44a",
   "metadata": {},
   "outputs": [
    {
     "name": "stdout",
     "output_type": "stream",
     "text": [
      "19\n",
      "20\n",
      "31\n",
      "21\n",
      "37\n",
      "35\n",
      "94\n",
      "91\n",
      "58\n",
      "131\n"
     ]
    }
   ],
   "source": [
    "for år in år_1990erne:\n",
    "    print(år_topic_15_menneskerettigheder.count(år))"
   ]
  },
  {
   "cell_type": "code",
   "execution_count": 99,
   "id": "9b45f296",
   "metadata": {},
   "outputs": [
    {
     "data": {
      "text/plain": [
       "651"
      ]
     },
     "execution_count": 99,
     "metadata": {},
     "output_type": "execute_result"
    }
   ],
   "source": [
    "n = 0\n",
    "for i in data_lemmatized:\n",
    "    if \"menneskerettighed\" in i:\n",
    "        n+= 1\n",
    "n"
   ]
  },
  {
   "cell_type": "code",
   "execution_count": 271,
   "id": "131a18bc",
   "metadata": {},
   "outputs": [
    {
     "data": {
      "text/plain": [
       "1017"
      ]
     },
     "execution_count": 271,
     "metadata": {},
     "output_type": "execute_result"
    }
   ],
   "source": [
    "topics_flygtning = []\n",
    "topics_flygtning_sand = []\n",
    "for index in range(len(data_lemmatized)):\n",
    "    bow = gensim_dictionary.doc2bow(data_lemmatized[index])\n",
    "    eu_tale_topic_distribution = lda_model.get_document_topics(bow)\n",
    "    for topic, sand in eu_tale_topic_distribution:\n",
    "        if topic == 24:\n",
    "            topics_flygtning.append(index)\n",
    "            topics_flygtning_sand.append(sand)\n",
    "len(topics_flygtning)"
   ]
  },
  {
   "cell_type": "code",
   "execution_count": 272,
   "id": "0e6bec80",
   "metadata": {},
   "outputs": [],
   "source": [
    "topics_flygtning_år = [Alle_taler_år[i] for i in topics_flygtning]\n",
    "topics_flygtning_antal_taler_1990eren = []\n",
    "\n",
    "for år in år_1990erne:\n",
    "    topics_flygtning_antal_taler_1990eren.append(topics_flygtning_år.count(år))\n",
    "topics_flygtning_andel = [topics_flygtning_antal_taler_1990eren[i]/antal_taler_år[i] for i in range(10)]"
   ]
  },
  {
   "cell_type": "code",
   "execution_count": 280,
   "id": "5542b808",
   "metadata": {},
   "outputs": [
    {
     "data": {
      "image/png": "[encoded data removed]",
      "text/plain": [
       "<Figure size 432x288 with 2 Axes>"
      ]
     },
     "metadata": {
      "needs_background": "light"
     },
     "output_type": "display_data"
    }
   ],
   "source": [
    "fig, (ax1, ax2) = plt.subplots(2, 1)\n",
    "ax1.set_title(\"Andel af folketingstaler der nævner EF relateret til topic 24(Flygtn.)\")\n",
    "ax1.plot(folketingsår, topics_flygtning_andel)\n",
    "ax1.set_ylim([0, 0.15])\n",
    "ax2.set_title(\"Antal af folketingstaler der nævner EF relateret til topic 24(Flygtn.)\")\n",
    "ax2.bar(folketingsår, topics_flygtning_antal_taler_1990eren)\n",
    "fig.tight_layout(pad=1.0)\n",
    "fig.savefig(\"plots/1990_erne/Andel_af_folketingstaler_der_nævner_EF relateret_til_topic_24\")"
   ]
  },
  {
   "cell_type": "code",
   "execution_count": 111,
   "id": "9cb4fb0b",
   "metadata": {},
   "outputs": [
    {
     "data": {
      "text/plain": [
       "193"
      ]
     },
     "execution_count": 111,
     "metadata": {},
     "output_type": "execute_result"
    }
   ],
   "source": [
    "Flygtning_1997 = [i for i in topics_flygtning if Alle_taler_år[i] == \"1997\"]\n",
    "len(Flygtning_1997)"
   ]
  },
  {
   "cell_type": "code",
   "execution_count": 117,
   "id": "9d8cffb5",
   "metadata": {},
   "outputs": [],
   "source": [
    "sand_flygtning_1997 = [topics_flygtning_sand[topics_flygtning.index(i)] for i in Flygtning_1997]\n",
    "sand_flygtning_1997_til_rensning = [sand for sand in sand_flygtning_1997]\n",
    "sand_flygtning_1997_til_rensning.sort(reverse = True)"
   ]
  },
  {
   "cell_type": "code",
   "execution_count": 118,
   "id": "73b736e2",
   "metadata": {},
   "outputs": [
    {
     "data": {
      "text/plain": [
       "0.097881354"
      ]
     },
     "execution_count": 118,
     "metadata": {},
     "output_type": "execute_result"
    }
   ],
   "source": [
    "sand_flygtning_1997_til_rensning[0]"
   ]
  },
  {
   "cell_type": "code",
   "execution_count": 129,
   "id": "c6ce798b",
   "metadata": {},
   "outputs": [
    {
     "data": {
      "text/plain": [
       "' På baggrund af den omtalte artikel i Jyllands- Posten har jeg forstået spørgsmålet således, at det vedrører antallet af meddelte opholdstilladelser til flygtninge. Udlændingestyrelsen har oplyst, at man ikke er i besiddelse af oplysninger om det samlede antal meddelte opholdstilladelser til flygtninge i EU-landene. Udlændingestyrelsen har fra Eurostat, som er EU-Kommissionens statistikkontor, fået oplyst, at der ikke foreligger et samlet officielt tal for antallet af meddelte opholdstilladelser til flygtninge i Europa i 1996. Udlændingestyrelsen har imidlertid indhentet foreløbige oplysninger fra de enkelte EU- lande for så vidt angår meddelelse af opholdstilladelser i medfør af flygtningekonventionen. Ifølge disse oplysninger blev der i 1996 givet opholdstilladelse efter flygtningekonventionen til ca. 34.000 personer i EU-landene, heraf blev der givet 1.190 i Danmark. Spm. nr. S 169 Til indenrigsministeren (17/10 97) af:'"
      ]
     },
     "execution_count": 129,
     "metadata": {},
     "output_type": "execute_result"
    }
   ],
   "source": [
    "Alle_taler[Flygtning_1997[sand_flygtning_1997.index(sand_flygtning_1997_til_rensning[4])]]"
   ]
  },
  {
   "cell_type": "code",
   "execution_count": 131,
   "id": "887c46d3",
   "metadata": {},
   "outputs": [
    {
     "data": {
      "text/plain": [
       "[11556,\n",
       " 11565,\n",
       " 11566,\n",
       " 11572,\n",
       " 11581,\n",
       " 11584,\n",
       " 11585,\n",
       " 11590,\n",
       " 11595,\n",
       " 11598,\n",
       " 11657,\n",
       " 11696,\n",
       " 11699,\n",
       " 11703,\n",
       " 11706,\n",
       " 11708,\n",
       " 11720,\n",
       " 11729,\n",
       " 11730,\n",
       " 11760,\n",
       " 11789,\n",
       " 11791,\n",
       " 11792,\n",
       " 11794,\n",
       " 11798,\n",
       " 11799,\n",
       " 11800,\n",
       " 11821,\n",
       " 11823,\n",
       " 11824,\n",
       " 11827,\n",
       " 11836,\n",
       " 11841,\n",
       " 11844,\n",
       " 11847,\n",
       " 11848,\n",
       " 11851,\n",
       " 11870,\n",
       " 11931,\n",
       " 11995,\n",
       " 12002,\n",
       " 12003,\n",
       " 12028,\n",
       " 12060,\n",
       " 12181,\n",
       " 12182,\n",
       " 12183,\n",
       " 12189,\n",
       " 12191,\n",
       " 12193,\n",
       " 12235,\n",
       " 12237,\n",
       " 12240,\n",
       " 12259,\n",
       " 12271,\n",
       " 12279,\n",
       " 12294,\n",
       " 12300,\n",
       " 12308,\n",
       " 12343,\n",
       " 12344,\n",
       " 12345,\n",
       " 12346,\n",
       " 12347,\n",
       " 12351,\n",
       " 12363,\n",
       " 12402,\n",
       " 12421,\n",
       " 12434,\n",
       " 12445,\n",
       " 12472,\n",
       " 12473,\n",
       " 12475,\n",
       " 12476,\n",
       " 12477,\n",
       " 12478,\n",
       " 12479,\n",
       " 12480,\n",
       " 12482,\n",
       " 12483,\n",
       " 12484,\n",
       " 12485,\n",
       " 12487,\n",
       " 12488,\n",
       " 12489,\n",
       " 12514,\n",
       " 12539,\n",
       " 12540,\n",
       " 12541,\n",
       " 12542,\n",
       " 12543,\n",
       " 12545,\n",
       " 12548,\n",
       " 12549,\n",
       " 12550,\n",
       " 12552,\n",
       " 12554,\n",
       " 12555,\n",
       " 12558,\n",
       " 12559,\n",
       " 12560,\n",
       " 12585,\n",
       " 12590,\n",
       " 12609,\n",
       " 12629,\n",
       " 12631,\n",
       " 12639,\n",
       " 12651,\n",
       " 12653,\n",
       " 12672,\n",
       " 12677,\n",
       " 12679,\n",
       " 12681,\n",
       " 12694,\n",
       " 12695,\n",
       " 12705,\n",
       " 12711,\n",
       " 12713,\n",
       " 12771,\n",
       " 12776,\n",
       " 12777,\n",
       " 12778,\n",
       " 12780,\n",
       " 12786,\n",
       " 12792,\n",
       " 12794,\n",
       " 12796,\n",
       " 12801,\n",
       " 12807,\n",
       " 12808,\n",
       " 12810,\n",
       " 12818,\n",
       " 12828,\n",
       " 12840,\n",
       " 12841,\n",
       " 12842,\n",
       " 12843,\n",
       " 12844,\n",
       " 12846,\n",
       " 12869,\n",
       " 12873,\n",
       " 12879,\n",
       " 12949,\n",
       " 12951,\n",
       " 12952,\n",
       " 12953,\n",
       " 12963,\n",
       " 12974,\n",
       " 12975,\n",
       " 12982,\n",
       " 13057,\n",
       " 13106,\n",
       " 13144,\n",
       " 13148,\n",
       " 13151,\n",
       " 13152,\n",
       " 13158,\n",
       " 13174,\n",
       " 13178,\n",
       " 13182,\n",
       " 13183,\n",
       " 13184,\n",
       " 13204,\n",
       " 13205,\n",
       " 13211,\n",
       " 13214,\n",
       " 13215,\n",
       " 13216,\n",
       " 13243,\n",
       " 13258,\n",
       " 13264,\n",
       " 13270,\n",
       " 13320,\n",
       " 13323,\n",
       " 13324,\n",
       " 13325,\n",
       " 13326,\n",
       " 13329,\n",
       " 13346,\n",
       " 13354,\n",
       " 13355,\n",
       " 13356,\n",
       " 13359,\n",
       " 13363,\n",
       " 13380,\n",
       " 13395,\n",
       " 13404,\n",
       " 13413,\n",
       " 13414,\n",
       " 13419,\n",
       " 13426,\n",
       " 13427,\n",
       " 13433]"
      ]
     },
     "execution_count": 131,
     "metadata": {},
     "output_type": "execute_result"
    }
   ],
   "source": [
    "Flygtning_1997"
   ]
  },
  {
   "cell_type": "code",
   "execution_count": 171,
   "id": "f2b28214",
   "metadata": {},
   "outputs": [
    {
     "data": {
      "text/plain": [
       "\" Jeg må gøre hr. Ove Fich opmærksom på, at det, jeg læste op af for lidt siden - hvis det ellers har hr. Ove Fichs interesse - faktisk var Amsterdamtraktaten og ikke Schengenaftalen, og jeg spurgte hr. Ove Fich, om det er sådan, at regeringen - når den nu vil til at indføre eksamen for flygtninge, for at de kan opnå permanent opholdstilladelse - har ladet sig inspirere af denne nye Traktat, som jo lægger op til, at en stor gruppe af flygtninge kun skal have midlertidig beskyttelse, så vi dermed, som fru Anne Baastrup også var inde på, krænker FN's flygtningekonvention. Jeg kunne også spørge hr. Ove Fich: Hvad siger hr. Ove Fich til, at der i Amsterdamtraktaten er en regel om, at borgere fra ét EU-land, f.eks. Spanien, ikke længere har ret til at flygte til Danmark? Det er også i strid med FN's flygtningekonvention, som vi har underskrevet. Jeg betvivler ikke, at hr. Ove Fich som privatperson har de helt rigtige holdninger til flygtninge, men jeg spørger hr. Ove Fich, om han ikke anser det for et problem, at vi med Amsterdamtraktaten overtræder flygtningekonventionen. (Kort bemærkning).\""
      ]
     },
     "execution_count": 171,
     "metadata": {},
     "output_type": "execute_result"
    }
   ],
   "source": [
    "Alle_taler[11585]"
   ]
  },
  {
   "cell_type": "code",
   "execution_count": 169,
   "id": "a5b98db1",
   "metadata": {},
   "outputs": [],
   "source": [
    "partier_1997_flytninge = [Alle_taler_taler[i] for i in Flygtning_1997]"
   ]
  },
  {
   "cell_type": "code",
   "execution_count": 170,
   "id": "425dd1ec",
   "metadata": {},
   "outputs": [
    {
     "data": {
      "text/plain": [
       "['(V)',\n",
       " '(SF)',\n",
       " '(RV)',\n",
       " '(DF)',\n",
       " '(EL)',\n",
       " '(S)',\n",
       " '(EL)',\n",
       " '(EL)',\n",
       " '(V)',\n",
       " '(RV)',\n",
       " '(SF)',\n",
       " 'Regeringen',\n",
       " '(V)',\n",
       " '(FP)',\n",
       " '(V)',\n",
       " '(FP)',\n",
       " '(S)',\n",
       " '(V)',\n",
       " '(KF)',\n",
       " '(S)',\n",
       " 'næstformanden',\n",
       " '(RV)',\n",
       " '(EL)',\n",
       " '(FP)',\n",
       " '(V)',\n",
       " 'Regeringen',\n",
       " 'Regeringen',\n",
       " 'Formanden',\n",
       " '(KF)',\n",
       " '(RV)',\n",
       " '(SF)',\n",
       " '(EL)',\n",
       " 'Regeringen',\n",
       " '(DF)',\n",
       " '(V)',\n",
       " '(V)',\n",
       " 'Formanden',\n",
       " '(KF)',\n",
       " '(EL)',\n",
       " '(CD)',\n",
       " '(EL)',\n",
       " '(EL)',\n",
       " 'Regeringen',\n",
       " '(KF)',\n",
       " '(RV)',\n",
       " '(RV)',\n",
       " '(CD)',\n",
       " '(RV)',\n",
       " '(RV)',\n",
       " '(V)',\n",
       " 'Regeringen',\n",
       " '(FP)',\n",
       " '(V)',\n",
       " 'Regeringen',\n",
       " '(V)',\n",
       " '(DF)',\n",
       " '(EL)',\n",
       " 'Regeringen',\n",
       " '(V)',\n",
       " '(KF)',\n",
       " '(SF)',\n",
       " '(SF)',\n",
       " '(SF)',\n",
       " '(SF)',\n",
       " '(FP)',\n",
       " '(DF)',\n",
       " 'Regeringen',\n",
       " '(RV)',\n",
       " '(DF)',\n",
       " '(SF)',\n",
       " 'Regeringen',\n",
       " '(S)',\n",
       " '(EL)',\n",
       " '(V)',\n",
       " '(SF)',\n",
       " '(V)',\n",
       " '(EL)',\n",
       " '(EL)',\n",
       " '(SF)',\n",
       " '(FP)',\n",
       " '(EL)',\n",
       " '(CD)',\n",
       " 'Regeringen',\n",
       " '(V)',\n",
       " '(FP)',\n",
       " '(EL)',\n",
       " '(S)',\n",
       " '(EL)',\n",
       " '(V)',\n",
       " '(V)',\n",
       " '(KF)',\n",
       " '(SF)',\n",
       " '(RV)',\n",
       " '(EL)',\n",
       " '(CD)',\n",
       " '(DF)',\n",
       " '(FP)',\n",
       " 'Formanden',\n",
       " '(KF)',\n",
       " '(SF)',\n",
       " '(KF)',\n",
       " 'Regeringen',\n",
       " '(S)',\n",
       " '(V)',\n",
       " 'Regeringen',\n",
       " '(EL)',\n",
       " '(FP)',\n",
       " '(EL)',\n",
       " '(V)',\n",
       " '(EL)',\n",
       " 'Regeringen',\n",
       " 'Regeringen',\n",
       " '(S)',\n",
       " '(DF)',\n",
       " 'Regeringen',\n",
       " '(V)',\n",
       " '(CD)',\n",
       " '(V)',\n",
       " 'Formanden',\n",
       " '(S)',\n",
       " '(KF)',\n",
       " '(SF)',\n",
       " '(SF)',\n",
       " '(RV)',\n",
       " '(EL)',\n",
       " '(EL)',\n",
       " '(EL)',\n",
       " '(SF)',\n",
       " '(V)',\n",
       " '(EL)',\n",
       " '(V)',\n",
       " '(RV)',\n",
       " '(EL)',\n",
       " '(FP)',\n",
       " 'Regeringen',\n",
       " '(FP)',\n",
       " '(S)',\n",
       " '(V)',\n",
       " '(SF)',\n",
       " '(V)',\n",
       " '(FP)',\n",
       " 'Regeringen',\n",
       " '(FP)',\n",
       " '(EL)',\n",
       " '(EL)',\n",
       " '(EL)',\n",
       " '(FP)',\n",
       " 'Regeringen',\n",
       " '(EL)',\n",
       " '(EL)',\n",
       " '(FP)',\n",
       " 'Regeringen',\n",
       " 'Regeringen',\n",
       " '(EL)',\n",
       " '(EL)',\n",
       " '(EL)',\n",
       " '(SF)',\n",
       " 'næstformanden',\n",
       " '(DF)',\n",
       " '(V)',\n",
       " '(DF)',\n",
       " '(DF)',\n",
       " '(V)',\n",
       " '(EL)',\n",
       " '(EL)',\n",
       " 'Regeringen',\n",
       " '(DF)',\n",
       " '(DF)',\n",
       " '(EL)',\n",
       " '(SF)',\n",
       " 'næstformanden',\n",
       " '(SF)',\n",
       " '(V)',\n",
       " '(EL)',\n",
       " 'Regeringen',\n",
       " '(EL)',\n",
       " '(EL)',\n",
       " '(KF)',\n",
       " '(DF)',\n",
       " '(EL)',\n",
       " '(EL)',\n",
       " '(EL)',\n",
       " '(FP)',\n",
       " '(KF)',\n",
       " 'Regeringen',\n",
       " 'Regeringen',\n",
       " '(DF)',\n",
       " '(V)',\n",
       " '(V)',\n",
       " '(EL)',\n",
       " '(FP)',\n",
       " '(FP)',\n",
       " '(V)']"
      ]
     },
     "execution_count": 170,
     "metadata": {},
     "output_type": "execute_result"
    }
   ],
   "source": [
    "partier_1997_flytninge"
   ]
  },
  {
   "cell_type": "markdown",
   "id": "2111cfbb",
   "metadata": {},
   "source": [
    "### Topic 2 om Justits"
   ]
  },
  {
   "cell_type": "code",
   "execution_count": 274,
   "id": "812a8d94",
   "metadata": {},
   "outputs": [
    {
     "data": {
      "text/plain": [
       "3864"
      ]
     },
     "execution_count": 274,
     "metadata": {},
     "output_type": "execute_result"
    }
   ],
   "source": [
    "topics_justits = []\n",
    "topics_justits_sand = []\n",
    "for index in range(len(data_lemmatized)):\n",
    "    bow = gensim_dictionary.doc2bow(data_lemmatized[index])\n",
    "    eu_tale_topic_distribution = lda_model.get_document_topics(bow)\n",
    "    for topic, sand in eu_tale_topic_distribution:\n",
    "        if topic == 2:\n",
    "            topics_justits.append(index)\n",
    "            topics_justits_sand.append(sand)\n",
    "len(topics_justits)"
   ]
  },
  {
   "cell_type": "code",
   "execution_count": 275,
   "id": "8bc99fa9",
   "metadata": {},
   "outputs": [],
   "source": [
    "topics_justits_år = [Alle_taler_år[i] for i in topics_justits]\n",
    "topics_justits_antal_taler_1990eren = []\n",
    "\n",
    "for år in år_1990erne:\n",
    "    topics_justits_antal_taler_1990eren.append(topics_justits_år.count(år))\n",
    "topics_justits_andel = [topics_justits_antal_taler_1990eren[i]/antal_taler_år[i] for i in range(10)]"
   ]
  },
  {
   "cell_type": "code",
   "execution_count": 277,
   "id": "0aac3063",
   "metadata": {},
   "outputs": [
    {
     "data": {
      "image/png": "[encoded data removed]",
      "text/plain": [
       "<Figure size 432x288 with 2 Axes>"
      ]
     },
     "metadata": {
      "needs_background": "light"
     },
     "output_type": "display_data"
    }
   ],
   "source": [
    "fig, (ax1, ax2) = plt.subplots(2, 1)\n",
    "ax1.set_title(\"Andel af folketingstaler der nævner EU/EF relateret til topic 2(Retsforb.)\")\n",
    "ax1.plot(folketingsår, topics_justits_andel)\n",
    "ax1.set_ylim([0, 0.3])\n",
    "ax2.set_title(\"Antal af folketingstaler der nævner EU/EF relateret til topic 2(Retsforb.)\")\n",
    "ax2.bar(folketingsår, topics_justits_antal_taler_1990eren)\n",
    "fig.tight_layout(pad=1.0)\n",
    "fig.savefig(\"plots/1990_erne/Andel_af_folketingstaler_der_nævner_EF relateret_til_topic_2\")"
   ]
  },
  {
   "cell_type": "markdown",
   "id": "bb06dc6e",
   "metadata": {},
   "source": [
    "Rets og politi fra 1994 og frem:\n"
   ]
  },
  {
   "cell_type": "code",
   "execution_count": 187,
   "id": "d6a66426",
   "metadata": {},
   "outputs": [],
   "source": [
    "justits_efter_1994 = [i for i in topics_justits if int(Alle_taler_år[i]) >= 1994]"
   ]
  },
  {
   "cell_type": "code",
   "execution_count": 188,
   "id": "5efc2d4c",
   "metadata": {},
   "outputs": [],
   "source": [
    "justits_efter_1994_taler = [Alle_taler_taler[i] for i in justits_efter_1994]"
   ]
  },
  {
   "cell_type": "code",
   "execution_count": 190,
   "id": "e05ab3f2",
   "metadata": {},
   "outputs": [
    {
     "name": "stdout",
     "output_type": "stream",
     "text": [
      "(S): 185\n",
      "(EL): 491\n",
      "(DF): 279\n",
      "næstformanden: 26\n",
      "(RV): 102\n",
      "(FP): 245\n",
      "Formanden: 39\n",
      "(UP): 10\n",
      "(V): 272\n",
      "Regeringen: 655\n",
      "(SF): 190\n",
      "(CD): 62\n",
      "(KF): 227\n"
     ]
    }
   ],
   "source": [
    "for i in list(set(justits_efter_1994_taler)):\n",
    "    print(f\"{i}: {justits_efter_1994_taler.count(i)}\")"
   ]
  },
  {
   "cell_type": "markdown",
   "id": "ea47c9da",
   "metadata": {},
   "source": [
    "### Topic 28 - børnepolitik:"
   ]
  },
  {
   "cell_type": "code",
   "execution_count": 191,
   "id": "85cb9446",
   "metadata": {},
   "outputs": [
    {
     "data": {
      "text/plain": [
       "2449"
      ]
     },
     "execution_count": 191,
     "metadata": {},
     "output_type": "execute_result"
    }
   ],
   "source": [
    "topics_børnepolitik = []\n",
    "topics_børnepolitik_sand = []\n",
    "for index in range(len(data_lemmatized)):\n",
    "    bow = gensim_dictionary.doc2bow(data_lemmatized[index])\n",
    "    eu_tale_topic_distribution = lda_model.get_document_topics(bow)\n",
    "    for topic, sand in eu_tale_topic_distribution:\n",
    "        if topic == 28:\n",
    "            topics_børnepolitik.append(index)\n",
    "            topics_børnepolitik_sand.append(sand)\n",
    "len(topics_børnepolitik)"
   ]
  },
  {
   "cell_type": "code",
   "execution_count": 192,
   "id": "b4d8ea64",
   "metadata": {},
   "outputs": [],
   "source": [
    "topics_børnepolitik_år = [Alle_taler_år[i] for i in topics_børnepolitik]\n",
    "topics_børnepolitik_antal_taler_1990eren = []\n",
    "\n",
    "for år in år_1990erne:\n",
    "    topics_børnepolitik_antal_taler_1990eren.append(topics_børnepolitik_år.count(år))\n",
    "topics_børnepolitik_andel = [topics_børnepolitik_antal_taler_1990eren[i]/antal_taler_år[i] for i in range(10)]"
   ]
  },
  {
   "cell_type": "code",
   "execution_count": 236,
   "id": "445fba78",
   "metadata": {},
   "outputs": [
    {
     "data": {
      "image/png": "[encoded data removed]",
      "text/plain": [
       "<Figure size 432x288 with 2 Axes>"
      ]
     },
     "metadata": {
      "needs_background": "light"
     },
     "output_type": "display_data"
    }
   ],
   "source": [
    "fig, (ax1, ax2) = plt.subplots(2, 1)\n",
    "ax1.set_title(\"Andel af folketingstaler der nævner EU/EF relateret til topic 28\")\n",
    "ax1.plot(folketingsår, topics_børnepolitik_andel)\n",
    "ax1.set_ylim([0, 0.2])\n",
    "ax2.set_title(\"Antal af folketingstaler der nævner EU/EF relateret til topic 28\")\n",
    "ax2.bar(folketingsår, topics_børnepolitik_antal_taler_1990eren)\n",
    "fig.tight_layout(pad=1.0)\n",
    "fig.savefig(\"plots/1990_erne/Andel_af_folketingstaler_der_nævner_EF relateret_til_topic_28\")"
   ]
  },
  {
   "cell_type": "code",
   "execution_count": 217,
   "id": "cf1c4550",
   "metadata": {},
   "outputs": [],
   "source": [
    "børnepolitik_sand = [sand for sand in topics_børnepolitik_sand]\n",
    "børnepolitik_sand.sort(reverse = True)"
   ]
  },
  {
   "cell_type": "code",
   "execution_count": 246,
   "id": "971b7731",
   "metadata": {},
   "outputs": [
    {
     "name": "stdout",
     "output_type": "stream",
     "text": [
      "1999\n",
      "Søren Kolstrup (EL):\n"
     ]
    },
    {
     "data": {
      "text/plain": [
       "\" Enhedslisten er enig med Frihed 2000 i deres beskrivelse af modsætningen mellem forskellige redegørelser om netværkssamfundet og den faktiske virkelighed på mange folkeskoler; ikke mindst kan vi se en fremtidig opdeling af befolkningen i dem, der kan IT, og dem, der ikke kan IT, hvis ikke vi som samfund tager et ansvar for, at alle får mulighed for at lære at bruge IT. Hvis vi vil en folkeskole, der lever op til de krav, der stilles til den, kræver det jo flere ressourcer, ikke kun, men også til IT. Når så det er sagt, så mener vi i Enhedslisten ikke umiddelbart, at Frihed 2000's forslag om obligatorisk computerundervisning som fag er et egnet instrument, der kan fremme en bred investering i den danske folkeskole. Vi finder, det er vigtigt, at alle har adgang til Internettet generelt, at alle elever har adgang til Internettet i de enkelte fag, i de enkelte discipliner og i de enkelte projekter, de er med i, og at IT bliver en naturlig del af undervisningen. Løsningen er selvfølgelig, at man inden for seminarieverdenen er opmærksom på det her, at undervisere opdrages til, undervises i, at gøre IT til en naturlig del af deres kommende arbejde og gerning som lærere. Det andet er, at IT systematisk indarbejdes i de enkelte fag. Så vi kan støtte nogle af intentioneme bag forslaget, men vi er ikke tilhængere af at indføre IT som fag, altså computerundervisning som obligatorisk fag. Tove Videbæk (KRF): 11993 vedtog Folketinget, at IT skulle integreres i alle fag i folkeskolen. Det mener vi i Kristeligt Folkeparti er klogt og egentlig bedre for bøme- ne og de unge, end at computerundervisning bliver et obligatorisk, selvstændigt fag i folkeskolen. Vi mener netop, det er godt, at man lærer at bruge computeren i alle fag, og at man lærer, at pc'en er et værktøj, et middel, der kan bruges på alle områder, og ikke et mål i sig selv. Yderligere kan man tilføje, at mange børn og unge allerede nu ved langt mere om IT, ved langt mere om brugen af pc'en end deres lærere i folkeskolen, så i Kristeligt Folkeparti mener vi, at der er mere brug for, at lærerne får mere kendskab til IT, at lærerne får mere kendskab til brugen af pc'en, end at pc-undervisning bliver et obligatorisk, selvstændigt fag i folkeskolen. I Kristeligt Folkeparti mener vi ligeledes, at hvis der skal opprioriteres i uddannelsen på IT- området, så er det p.t. vedrørende lærernes uddannelse og efter- og videreuddannelse. Ydermere eksisterer der jo endnu en forligskreds vedrørende folkeskolen, så hvis der skal ændres afgørende på folkeskoleområdet, så skal folkeskoleforligskredsen være enige. Jeg skal dog sige til Frihed 2000, at jeg synes, det er positivt, at de tager dette emne op, at de tager emner op, som blev rejst i Børneparlamentet her i Folketinget. Det er vigtigt, at vi lytter til børnene og de unge. Folkeskolen er jo først og fremmest deres skole. EU's regeringschefer har netop afholdt et ekstraordinært møde i Lissabon den 23. og 24. marts, og fra dette møde udtalte de, at hver borger skal have de færdigheder, der er nødvendige for at leve og arbejde i informationssamfundet. Denne lidt vage formulering dækker over, at der i Europa og også i Danmark stadig væk er en kolossal udfordring i at uddanne og efteruddanne befolkningen, og det gælder såvel skoleelever, erhvervsaktive som ældre, så alle har de grundlæggende IT- færdigheder. Regeringschefernes udtalelse synes vi sikkert alle er korrekt, men den bedste måde at gennemføre dette på for børnenes og de unges vedkommende i folkeskolen er, som vi ser det i Kristeligt Folkeparti, at IT fortsat integreres i alle fag i folkeskolen, og derfor kan Kristeligt Folkeparti ikke støtte dette forslag. Kim Behnke (FRI): Da dette emne sidst blev diskuteret i dette lokale, var fremmødet noget større, men det var også, fordi de, der sad i salen, var skolebørn, som jo trods mange andre problemer i hvert Onsdag den 5. april 2000 (B 118) 6143 fald er opdraget til at møde frem. Det var den 22. marts 1999 i anledningen af grundlovens 150 års jubilæum, og der havde vi meget sympatisk inviteret 179 skolebørn. De 179 skolebørn nåede i løbet af denne dag at gennemdiskutere ganske mange punkter, men der var ni, der blev vedtaget ved deres afstemninger, og det ene var et såkaldt lovforslag nr. 22. Det indeholdt et ønske om fra Børneparlamentet, at der obligatorisk indføres computerundervisning i vores folkeskole. Det gjorde så stort indtryk på os i Frihed 2000, at vi mente, at det ikke skulle forblive på et par sider i forhandlingerne fra den 22. marts 1999, men gøres til genstand for debat, ja, jeg tillader mig, i det rigtige Folketing. For når børn og unge ud af den mangfoldighed af emner, man kunne have taget op den dag, vælger lige præcis obligatorisk computerundervisning i folkeskolen, så mener jeg, at Folketinget skal lytte og handle, fordi det er udtryk for, at det er noget, børnene værdsætter og mener skal have fokus. Se, hvis denne her debat havde foregået for 100 år siden, så kunne vi have haft en diskussion om, hvorvidt det var rimeligt, at der var 10 elever pr. kridttavle eller 10 elever pr. bog i skolen, og der kunne såmænd også have været folketingsmedlemmer, eller rigsdagsmedlem- mer, som det hed dengang, som havde sagt: Lad os nu se, om ikke udviklingen klarer det af sig selv. Når jeg laver den sammenligning, så er det jo, fordi der var ingen af os, der ville drømme om at foreslå, at der skulle være 10 elever pr. blyant eller 10 elever pr. stol i folkeskolen, og efter vores opfattelse er computeren og kendskab til at bruge computeren i dag mindst lige så vigtigt, som det var at have en blyant og have en tavle og have en stol. IT er blevet så vigtig en del af vores hverdag, af vores arbejdsplads, af vores fritid og vores deltagelse i demokratiet, at det må have en overordentlig central placering i folkeskoleundervisningen. Når man har det ambitionsniveau, at der skal være 10 elever pr. nyere computer, som det hedder, i år 2003, så er det efter vores mening et alt for lavt ambitionsniveau, og det er mest, fordi vi har iagttaget, hvad der sker i skolen, når der er flere elever om en computer. Så sker der typisk det, at de elever, som har færdigheder i forvejen, sætter sig ved tastaturet og med musen, og de elever, som har svage færdigheder i forhold til at betjene computeren, ja, de sætter sig på stolene bagved og bliver tilskuere til det, der foregår, i langt højere grad end dem, der aktivt arbejder ved computeren. Hvis derimod den enkelte elev har sin egen computer, så viser al erfaring, at så stiger indlæringen, så stiger evnen til at arbejde ved computeren. For flere år siden begyndte man i private skoler i Storbritannien at bruge computere helt ned til 4-års-alderen. Det, man brugte dem til, var at lære børn i så lav en alder at læse og stave, og det viste sig, at computeren, og det var ikke, som vi kender den, nemlig som en PC, men en særlig designet computer til formålet, havde den fornødne tålmodighed, havde den fornødne tekniske evne til meget hurtigt at lære så små børn at stave og læse. De blev præsenteret for et billede af et æble, og så skulle de så efterhånden lære at stave og læse. Det lykkedes, fordi computeren har nogle fantastiske muligheder, som læreren ikke magter. Derudover er det selvfølgelig korrekt, som flere ordførere har været inde på, at vi også har det problem, at lærernes evner til at undervise i at bruge computeren ikke alle steder er tilstrækkelig gode. Men lige præcis i de situationer, hvor læreren har brug for at koncentrere sig om de elever, der har sværest ved at tilegne sig stoffet, er computeren overordentlig vigtig. Skal vi så ikke bare sørge for at integrere computeren i alle fag? Min påstand skal lidt provokerende være: Nej, alle fag skal integreres i computerfaget, for det er jo sådan, den virkelighed, børnene kommer til at opleve, bliver. Uanset om de skal betjene en computer på deres arbejdsplads - og det er ikke kun på et kontor, det kan lige så godt være ude på maskinværkstedet - eller de skal sidde derhjemme og bestille biografbilletter eller alle andre dagligdags ting, vil vi opleve i fremtiden, at vi kommer til at anvende computer og multimediemaskiner til at gøre det, og derfor er det vores pligt at sørge for, at bøm og unge får de færdigheder i folkeskolen. Det er jo heller ikke tilfældigt, når Europa- Kommissionen ifølge Forskningsministeriets grundnotat fra den 10. februar 2000 har den holdning, at fra 2002 skal alle elever i EU have adgang til computere, og hvad der er nok så vigtigt: have adgang til Internettet på højhastig- hedsniveau. Det betyder, at man også i EU betragter elevernes adgang til computere som noget meget vigtigt. 6144 Onsdag den 5. april 2000 (B 118) Ministeren gjorde opmærksom på, at allerede i dag er computerundervisning et valgfag. Men problemet ved, at det er et valgfag, er, at det også kan fravælges, og hvis computerundervisning er et valgfag, hvad er det så for nogle elever, der tilmelder sig computerundervisningen? Jo, det er dem, der har interessen i forvejen. Hvis vi gjorde matematik eller læsning eller skrivning til valgfag, ville eleverne med de svageste evner måske fravælge dem, og det ville vi jo aldrig synes var acceptabelt. Derfor er vores bekymring, at så længe computerundervisning er et valgfag, er det de svageste elever, dem med de svageste computerkundskaber, som fravælger, for så får de det jo lidt nemmere. Det synes vi er synd, for det er lige præcis dem, vi som samfund efterfølgende - tillad mig udtrykket - kommer til at reparere på. Senere hen i deres videregående uddannelse og deres arbejdsliv osv. får. de nemlig brug for at have computerkundskaber, og så kan vi lige så godt give dem de kundskaber først som sidst. Jeg er enig med undervisningsministeren i, at det går bedre med at få opkvalificeret lærerne. Jeg har flere gange fra denne talerstol langet lidt ud efter Danmarks Lærerforening, fordi jeg mener, de som fagforbund burde være langt stærkere i bestræbelserne på at få deres medlemmer med på de kurser. Men det er begyndt at gå bedre, så megen ros skal der gives i dag. Ministeren sluttede af med at sige, at folkeskolen skal have ro, men jeg er bange for, at hvis ikke der hele tiden er et politisk pres, kan den ro betyde, at man i de årlige budgetforhandlinger i kommunerne og i andre situationer udskyder processen. Det synes vi er synd, for vi synes faktisk, dette område er noget af det allervigtigste, man kan beskæftige sig med i øjeblikket. Stort set alle ordførere har sagt, at det er godt, vi har rejst debatten her i dag. Vi er selvfølgelig glade for, at man har den holdning, og vi vil benytte anledningen til, at vi under udvalgsarbejdet kan få kortlagt især de forskelle, der er. Af flere ordførere, bl.a. hr. Frode Sørensen, er det blevet sagt, at skoleme er ved at nærme sig 10 elever pr. ny computer. Men det er jo en gennemsnitsbetragtning. Hvis man har hovedet inde i ovnen og fødderne nede i fryseren, har man det gennemsnitligt meget godt ved navlen, men både fødderne og hovedet har det ret skidt. Derfor er det vores opfattelse, at hvis ellers man i ministeriet har adgang til oplysnin- gerne, bør vi bruge udvalgsarbejdet til at få kendskab til, om spredningen er for stor, eller om alle følger lige godt med. Hr. Villy Søvndal var så inde på, at det er skruen uden ende, for uanset hvor mange nye computere der bliver købt, og uanset hvor mange nye programmer der bliver købt, kan vi aldrig følge med. I den forbindelse kan man selvfølgelig overveje, som man også har gjort i udlandet, om man i stedet for at have pc'ere skal have såkaldte nc'ere, altså netcomputere, og fra centralt hold hele tiden skal opgradere med nye programmer osv. Det er der ingen tvivl om, at det vil være fremtidens løsning, men på nuværende tidspunkt vil det være dyrere end at købe de computere, som gennem de senere år jo heldigvis er faldet i pris, og derfor bør vi nok stadig gøre det i de næste år. Tak for de mange rosende ord, og lad os i fællesskab bruge anledningen til at få kortlagt tingene lidt i udvàlgsarbejdet. Så må vi se, om forslaget har flyttet synspunkterne lidt i debatten, og hvis det bliver tilfældet, har forslaget også tjent sit formål. Hermed sluttede forhandlingen, og forslaget overgik derefter til anden (sidste) behandling. Afstemning Første næstformand (Ole Løvig Simonsen): Jeg foreslår, at forslaget til folketingsbeslutning henvises til Uddannelsesudvalget. Hvis ingen gør indsigelse, betragter jeg det som vedtaget. (Ophold). Det er vedtaget. Meddelelser fra formanden Første næstformand (Ole Løvig Simonsen): Der er ikke mere på dagsordenen. Folketingets næste møde afholdes i morgen, torsdag den 6. april 2000, kl. 10.00. Angående dagsordenen skal jeg henvise til den dagsorden, der er opslået i salen. Mødet hævet kl. 18.21 (769) Torsdag den 6. april 2000 (D) 6145 74. møde Torsdag den 6. april 2000 kl. 10.00 Dagsorden 1) Spørgsmål om fremme af forespørgsel nr. F 49: Forespørgsel til kulturministeren [om medieaftalen for 2001-2004 og forhandlingsforløbet]. Af Søren Søndergaard (EL), Jens Rohde (V), Brian Mikkelsen (KF), Ole Donner (DF), Tove Videbæk (KRF), Kim Behnke (FRI) og Frank Dahlgaard (UP). (Forespørgslen anmeldt 30/3 2000). 2) Tredje behandling af lovforslag nr. L 98: Forslag til lov om ændring af forskellige love på Undervisningsministeriets område. (Det repræsentative demokrati i uddannelsessystemet). Af undervisningsministeren (Margrethe Vestager). (Fremsat 17/11 99. Første behandling 3/12 99. Betænkning 21/3 2000. Anden behandling 4/4 2000). 3) Tredje behandling af lovforslag nr. L 157 A: Forslag til lov om ændring af lov om kemiske stoffer og produkter. (Markedsføring af biocid- höldige produkter m.v.). Af miljø- og energiministeren (Svend Auken). (Fremsat 15/12 99. Første behandling 20/1 2000. Betænkning 15/3 2000. Anden behandling 4/4 2000). 4) Tredje behandling af lovforslag nr. L 185: Forslag til lov om statstilskud til zoologiske anlæg. Af kulturministeren (Elsebeth Gemer Nielsen). (Fremsat 2/2 2000. Første behandling 24/2 2000. Betænkning 22/3 2000. Anden behandling 4/4 2000). 5) Anden (sidste) behandling af beslutningsforslag nr. B 20: Forslag til folketingsbeslutning om tiltrædelse af Euro-Middelhavsassocieringsaftalen mellem De Europæiske Fællesskaber og deres medlemsstater på den ene side og Det Hashemitiske Kongerige Jordan på den anden side. Af udenrigsministeren (Niels Helveg Petersen). (Fremsat 27/10 99. Første behandling 8/12 99; Betænkning 24/3 2000). 6) Eventuelt: Anden (sidste) behandling af beslutningsforslag nr. B 135: Forslag til folketingsbeslutning om opfordring til at trække aktstykke nr. 190 om indgåelse af forlig med Den Danske Bank i den færøske banksag tilbage fra Finansudvalget. Af Frank Aaen (EL) og Søren Kolstrup (EL). (Fremsat 30/3 2000. Første behandling 4/4 2000. Betænkning 5/4 2000). 7) Anden behandling af lovforslag nr. L 173: Forslag til lov om ændring af lov om kommunal indkomstskat og lov om amtskommunal indkomstskat. (Ændret afregning vedrørende tidligere år af den udbetalte kommuneskat af 10-mands-projekter). Af indenrigsministeren (Thorkild Simonsen). (Fremsat 26/1 2000. Første behandling 11/2 2000. Betænkning 30/3 2000).' 8) Anden behandling af lovforslag nr. L 195: Forslag til lov om indfødsrets meddelelse.\""
      ]
     },
     "execution_count": 246,
     "metadata": {},
     "output_type": "execute_result"
    }
   ],
   "source": [
    "n = 9\n",
    "print(Alle_taler_år[topics_børnepolitik[topics_børnepolitik_sand.index(børnepolitik_sand[n])]])\n",
    "print(Alle_taler_parti[topics_børnepolitik[topics_børnepolitik_sand.index(børnepolitik_sand[n])]])\n",
    "Alle_taler[topics_børnepolitik[topics_børnepolitik_sand.index(børnepolitik_sand[n])]]"
   ]
  },
  {
   "cell_type": "markdown",
   "id": "1d22cdfa",
   "metadata": {},
   "source": [
    "### Topic 21 Transport:"
   ]
  },
  {
   "cell_type": "code",
   "execution_count": 194,
   "id": "cf5bf775",
   "metadata": {},
   "outputs": [
    {
     "data": {
      "text/plain": [
       "887"
      ]
     },
     "execution_count": 194,
     "metadata": {},
     "output_type": "execute_result"
    }
   ],
   "source": [
    "topics_transport = []\n",
    "topics_transport_sand = []\n",
    "for index in range(len(data_lemmatized)):\n",
    "    bow = gensim_dictionary.doc2bow(data_lemmatized[index])\n",
    "    eu_tale_topic_distribution = lda_model.get_document_topics(bow)\n",
    "    for topic, sand in eu_tale_topic_distribution:\n",
    "        if topic == 21:\n",
    "            topics_transport.append(index)\n",
    "            topics_transport_sand.append(sand)\n",
    "len(topics_transport)"
   ]
  },
  {
   "cell_type": "code",
   "execution_count": 195,
   "id": "65f93966",
   "metadata": {},
   "outputs": [],
   "source": [
    "topics_transport_år = [Alle_taler_år[i] for i in topics_transport]\n",
    "topics_transport_antal_taler_1990eren = []\n",
    "\n",
    "for år in år_1990erne:\n",
    "    topics_transport_antal_taler_1990eren.append(topics_transport_år.count(år))\n",
    "topics_transport_andel = [topics_transport_antal_taler_1990eren[i]/antal_taler_år[i] for i in range(10)]"
   ]
  },
  {
   "cell_type": "code",
   "execution_count": 197,
   "id": "1811918d",
   "metadata": {},
   "outputs": [
    {
     "data": {
      "image/png": "[encoded data removed]",
      "text/plain": [
       "<Figure size 432x288 with 2 Axes>"
      ]
     },
     "metadata": {
      "needs_background": "light"
     },
     "output_type": "display_data"
    }
   ],
   "source": [
    "fig, (ax1, ax2) = plt.subplots(2, 1)\n",
    "ax1.set_title(\"Andel af folketingstaler der nævner EU/EF relateret til topic 21\")\n",
    "ax1.plot(folketingsår, topics_transport_andel)\n",
    "ax1.set_ylim([0, 0.1])\n",
    "ax2.set_title(\"Antal af folketingstaler der nævner EU/EF relateret til topic 21\")\n",
    "ax2.bar(folketingsår, topics_transport_antal_taler_1990eren)\n",
    "fig.tight_layout(pad=1.0)\n",
    "fig.savefig(\"plots/1990_erne/Andel_af_folketingstaler_der_nævner_EF relateret_til_topic_21\")"
   ]
  },
  {
   "cell_type": "code",
   "execution_count": 198,
   "id": "7102b24c",
   "metadata": {},
   "outputs": [
    {
     "data": {
      "text/plain": [
       "' Hr. Erling Christensen skal nu ikke være så sikker på, at vi får så hurtig en sagsbehandling i udvalget, for jeg synes, at der er en række problemer i dette, og at der er en række ting, som den socialdemokratiske ordfører ikke har taget stilling til. Hvis vi skal starte fra en ende af, bliver det således, at der stadig væk bliver en vægtgrænse på 60 kg. Hvis man fremstiller en knallert, der kan køre 30 km/t, men som har et sikkerhedsudstyr, der er bedre end de nuværende knallerters, og knallerten når op over 60 kg-grænsen, skal knallerten indregistreres, og man skal have kørekort til motorcykel, for at man må køre på den, plus at knallerten skal køre på vejen, altså ud mellem bilerne. En knallert, der kører 30 km/t, ud mellem bilerne! Jeg vil godt høre, hvori hr. Erling Christensen mener at det trafiksikkerhedsmæssige ligger i det? Hr. Erling Christensen var selv inde på EF- kørekortdirektivet, og det foreskriver, at definitionen af en motorcykel er, at det er et køretøj, der konstruktivt er bestemt til at kunne køre mere end 50 km/t. Men i Danmark kræver man altså et kørekort af den type for at kunne køre en knallert, der kører 45 km/t. Er der ikke et sammenstød imellem de to direktiver? Til sidst her i første runde: På bagsiden af det bilag, vi har fået runddelt i Retsudvalget, bilag 113, er der et skema, hvori der omtales en knallert, der kan køre 30 km/t, og som er trehjulet. Altså en trehjulet knallert, der kan køre 3141 3/12 93: 1. beh. af f. t. 1. vedr. færdselsloven, vægtafgiftsloven m.v. 3142 [Tom Behnke] 30 km/t, er for mig at se en handicapknallert. Til den skal man have kørekort til motorcykel. Hvordan forestiller hr. Erling Christensen sig, at en handicappet skal tage kørekort til motorcykel? Desuden skal man være 18 år. Betyder det, at handicappede under 18 år ikke kan få lov til at køre en trehjulet knallert, der kan køre 30 km/t? (Kort bemærkning).'"
      ]
     },
     "execution_count": 198,
     "metadata": {},
     "output_type": "execute_result"
    }
   ],
   "source": [
    "Alle_taler[topics_transport[topics_transport_sand.index(max(topics_transport_sand))]]"
   ]
  },
  {
   "cell_type": "code",
   "execution_count": 199,
   "id": "4912a9d8",
   "metadata": {},
   "outputs": [],
   "source": [
    "transport_sand = [sand for sand in topics_transport_sand]\n",
    "transport_sand.sort(reverse = True)"
   ]
  },
  {
   "cell_type": "code",
   "execution_count": 216,
   "id": "741688b7",
   "metadata": {},
   "outputs": [
    {
     "name": "stdout",
     "output_type": "stream",
     "text": [
      "1998\n",
      "Økonomiministeren (Marianne Jelved):\n"
     ]
    },
    {
     "data": {
      "text/plain": [
       "' De danske nettobetalinger til EU skønnes at blive 4 mia. kr. i 1999 og mia. kr. i år 2000 opgjort efter principperne i betalingsbalancestati- stikken. Dette er baseret på den seneste statistik for betalingsbalancen og Økonomisk Oversigt, december 1998. Stigningen i nettobidraget fra 1998 skyldes både større betalinger til EU og mindre betalinger fra EU blandt andet i form af mindre hektarstøtte. Det skal bemærkes, at opgørelsen af nettobetalingerne afhænger af den anvendte metode. Kommissionen foretager opgørelser, hvor de medtager blandt andet fordelingen af EUs administrationsudgifter på de enkelte EU-lande. Her bliver det danske nettobidrag noget mindre, jf. besvarelsen af spørgsmål S 1609. En tommelfingerregel siger, at EUs opgørelse er ca. 1 mia. kr. mere positiv end Danmarks Statistiks opgørelse af betalingerne til EU. Spm. nr. S 1769 Til fødevareministeren (15/4 99) af:'"
      ]
     },
     "execution_count": 216,
     "metadata": {},
     "output_type": "execute_result"
    }
   ],
   "source": [
    "n = 7\n",
    "print(Alle_taler_år[topics_transport[topics_transport_sand.index(transport_sand[n])]])\n",
    "print(Alle_taler_parti[topics_transport[topics_transport_sand.index(transport_sand[n])]])\n",
    "Alle_taler[topics_transport[topics_transport_sand.index(transport_sand[n])]]"
   ]
  },
  {
   "cell_type": "markdown",
   "id": "33cb8567",
   "metadata": {},
   "source": [
    "### Plot af transport og uddannelse:"
   ]
  },
  {
   "cell_type": "code",
   "execution_count": 228,
   "id": "1a835ea7",
   "metadata": {},
   "outputs": [
    {
     "data": {
      "image/png": "[encoded data removed]",
      "text/plain": [
       "<Figure size 432x288 with 1 Axes>"
      ]
     },
     "metadata": {
      "needs_background": "light"
     },
     "output_type": "display_data"
    }
   ],
   "source": [
    "fig, ax = plt.subplots()\n",
    "ax.set_title(\"Andel af folketingstaler der nævner EU/EF relateret til topic 21\")\n",
    "ax.plot(folketingsår, topics_transport_andel, color = \"b\", label = \"Topic 21\")\n",
    "ax.plot(folketingsår, topics_børnepolitik_andel, color = \"g\", label = \"Topic 28\")\n",
    "ax.legend()\n",
    "ax.set_ylim([0, 0.3])\n",
    "fig.savefig(\"plots/1990_erne/Andel_af_folketingstaler_der_nævner_EF relateret_til_topic_21_og_28\")"
   ]
  },
  {
   "cell_type": "markdown",
   "id": "e001162c",
   "metadata": {},
   "source": [
    "# Maastricht og Edinburgh:"
   ]
  },
  {
   "cell_type": "code",
   "execution_count": 129,
   "id": "230f1ba5",
   "metadata": {},
   "outputs": [],
   "source": [
    "EU_ord_maastriicht = [\"maastricht\", \"edinburgh\"]"
   ]
  },
  {
   "cell_type": "code",
   "execution_count": 130,
   "id": "c3697445",
   "metadata": {},
   "outputs": [],
   "source": [
    "eu_taler_90erne_maastricht = {}\n",
    "for år in Folketingsår_opdelt_per_taler_90erne:\n",
    "    #start = time()\n",
    "    eu_tale_år = []\n",
    "    eu_parti_år = []\n",
    "    eu_taler_år = []\n",
    "    for index in range(len(Folketingsår_opdelt_per_taler_90erne[år][0])):\n",
    "        tale = Folketingsår_opdelt_per_taler_90erne[år][0][index]\n",
    "        for ord_ in EU_ord_maastriicht:\n",
    "            if len(re.findall(ord_, tale.lower())) > 0:\n",
    "                eu_tale_år.append(tale)\n",
    "                eu_parti_år.append(Folketingsår_opdelt_per_taler_90erne[år][1][index])\n",
    "                eu_taler_år.append(Folketingsår_opdelt_per_taler_90erne[år][2][index])\n",
    "                break\n",
    "    eu_taler_90erne_maastricht[år] = []\n",
    "    eu_taler_90erne_maastricht[år].append(eu_tale_år)\n",
    "    eu_taler_90erne_maastricht[år].append(eu_parti_år)\n",
    "    eu_taler_90erne_maastricht[år].append(eu_taler_år)\n",
    "    #slut = time()\n",
    "    #print(slut-start) til at time loopsne"
   ]
  },
  {
   "cell_type": "code",
   "execution_count": 131,
   "id": "deb842ff",
   "metadata": {},
   "outputs": [
    {
     "data": {
      "text/plain": [
       "190"
      ]
     },
     "execution_count": 131,
     "metadata": {},
     "output_type": "execute_result"
    }
   ],
   "source": [
    "len(eu_taler_90erne_maastricht[\"1994\"][0])"
   ]
  },
  {
   "cell_type": "code",
   "execution_count": 132,
   "id": "768d372d",
   "metadata": {},
   "outputs": [
    {
     "name": "stdout",
     "output_type": "stream",
     "text": [
      "1990: 0\n",
      "1991: 146\n",
      "1992: 382\n",
      "1993: 138\n",
      "1994: 190\n",
      "1995: 147\n",
      "1996: 232\n",
      "1997: 155\n",
      "1998: 56\n",
      "1999: 118\n"
     ]
    }
   ],
   "source": [
    "for år in eu_taler_90erne_maastricht:\n",
    "    print(f\"{år}: {len(eu_taler_90erne_maastricht[år][0])}\")"
   ]
  },
  {
   "cell_type": "code",
   "execution_count": 133,
   "id": "3c45fd8a",
   "metadata": {},
   "outputs": [
    {
     "name": "stdout",
     "output_type": "stream",
     "text": [
      "8.821487426757812e-06\n",
      "19.32711100578308\n",
      "42.672616958618164\n",
      "24.211318969726562\n",
      "22.661864757537842\n",
      "16.3078830242157\n",
      "27.395601272583008\n",
      "19.11690092086792\n",
      "9.913466930389404\n",
      "14.296633005142212\n"
     ]
    }
   ],
   "source": [
    "tekster_klar_maastricht = []\n",
    "for år in eu_taler_90erne_maastricht:\n",
    "    #allowed_postags=['NOUN', 'ADJ', 'VERB']\n",
    "    start = time()\n",
    "    for tekst in eu_taler_90erne_maastricht[år][0]:\n",
    "        tale_spacy = nlpd(tekst.lower())\n",
    "        #tokens = [str(token.lemma_).lower() for token in tale_spacy]\n",
    "        tokens = [token for token in tale_spacy]\n",
    "        tokens_uden_tegn = [str(token) for token in tokens if token.pos_ not in typer_spacy]\n",
    "        #tokens_uden_stopord = [token for token in tokens_uden_tegn if token not in stopord]\n",
    "        tekster_klar_maastricht.append(tokens_uden_tegn)\n",
    "    end = time()\n",
    "    print(end-start)"
   ]
  },
  {
   "cell_type": "code",
   "execution_count": 134,
   "id": "7ca5ae35",
   "metadata": {},
   "outputs": [],
   "source": [
    "Alle_taler_maastricht = []\n",
    "Alle_taler_år_maastricht = []\n",
    "Alle_taler_parti_maastricht = []\n",
    "Alle_taler_taler_maastricht = []\n",
    "for år in eu_taler_90erne_maastricht:\n",
    "    for index in range(len(eu_taler_90erne_maastricht[år][0])):\n",
    "        Alle_taler_maastricht.append(eu_taler_90erne_maastricht[år][0][index])\n",
    "        Alle_taler_parti_maastricht.append(eu_taler_90erne_maastricht[år][1][index])\n",
    "        Alle_taler_taler_maastricht.append(eu_taler_90erne_maastricht[år][2][index])\n",
    "        Alle_taler_år_maastricht.append(år)"
   ]
  },
  {
   "cell_type": "code",
   "execution_count": 135,
   "id": "c573317f",
   "metadata": {},
   "outputs": [
    {
     "data": {
      "text/plain": [
       "\" Når man læser teksten til forespørgslen, og måske især når man hører ordføreren for Enhedslisten, ledes man meget let til den konklusion, at EU-beslutninger systematisk sænker dansk standard på miljøområdet, arbejdsmiljøområdet, sundhedsområdet og forbrugerområdet. Det er en myte, der desværre trives alt for vel. Sandheden er, at EU-reguleringen i langt de fleste tilfælde har været på dansk niveau eller over. Det er dokumenteret i en række bilag i Europaudvalget, og det undrer mig, at især hr. Keld Albrechtsen kan hævde det modsatte, når han selv er medlem af Europaudvalget. Hvis man kigger på disse bilag, viser data følgende: På miljøområdet er der i perioden 1992-93 kommet 29 direktiver eller forordninger, som forbedrer de danske regler, og 3, der gør dem dårligere. Der er f.eks. kommet bedre regler for grænseoverskridende transport af farligt affald inden for EU, for luftforurening fra store fyringsanlæg, Torsdag den 23. marts 1995 (F 24) 4237 for en tidlig udfasning af HCFC og methylbro- mid og for udslipsgrænser ved forbrænding af farligt affald. Udenrigsministeren nævnte selv en række andre eksempler. På forbrugerområdet er der kommet 8 direktiver og forordninger, som alle sammen har ført til en bedre standard. Der er nul, der har ført til en lavere. Det er f.eks. om produktsikkerhed, produktmærkning, timeshareregler og forbrugerbeskyttelse ved fjernsalg. På sundhedsområdet er der kommet 20 regler, der har forbedret situationen. Der er desværre også kommet 5, der har forringet den; madsminken er her den mest kendte. På arbejdsmiljøområdet er det således, at man kører frem efter artikel 118 A, som er en minimumsregel, og det vil sige, at der på arbejdsmiljøområdet ikke kan ske forringelser. Det er heller ikke sket, tværtimod er der sket nogle forbedringer. Må jeg erindre om skærmterminaldirektivet? Må jeg erindre om rammedirektivet for sikkerhed og sundhed på arbejdsmiljøet? Enhedslistens alternativ til den fremgang, vi er i gang med her, er et reguleret marked, som, og det står også i forslaget om motiveret dagsorden, vil betyde en massiv grænsekontrol af alle produkter, og et ureguleret marked, som vil betyde, at vi ikke vil have nogen muligheder for at gribe ind over for grænseoverskridende forurening fra andre lande. Det synes vi er et dårligt alternativ. Vi synes i stedet, at vi i virkeligheden fik forbedret vore muligheder med Maastricht-Trak- taten. Den var et stort skridt fremad. I den tales der om bæredygtig udvikling, at miljø skal integreres på alle områder, at forureneren skal betale osv. Men, og her kommer det store men, desværre lever EU og EU-landene endnu ikke fuldt op til Maastricht-Traktatens intentioner. Jeg vil godt give nogle eksempler herpå. Når det indre markeds konkurrenceregler kommer i konflikt med miljøet, er det for ofte miljøet, der må vige. Vi har diskussionen om kreosot, men vi har til gengæld ikke den diskussion, som hr. Keld Albrechtsen forsøgte at rejse om PCB. PCB er forbudt i Danmark, og PCB forbliver forbudt i Danmark. Et andet problem er selvfølgelig det indre markeds harmoniseringsregler, når ny viden betyder, at vi gerne i et enkelt eller flere lande vil indføre højere standarder; det kan være overordentlig vanskeligt. Et tredje problem er, at der kan vedtages forslag på andre politikområder, som påvirker miljøet. Pesticider har været nævnt. Et fjerde problem er, at industriens lobbyister på grund af den stadig væk alt for store lukkethed i Kommissionen har for let spil. Vi ved ikke, hvem der påvirker, og vi ved ikke, på hvilken måde de påvirker. Den standende diskussion om eksport af farligt affald til tredjelande kunne tyde på, at nogle industrilobbyister har for let spil. For det femte påpeger Revisionsrettens årsrapport det uhensigtsmæssige i, at EU somme tider finansierer industriproduktioner, der medfører en ganske stor forurening, og så samtidig på den anden side finansierer oprydningen efter denne forurening. Så der er en række problemer, og dem synes jeg vi skal gøre noget for at løse både i det daglige EU-arbejde og under regeringskonferencen i 1996. Socialdemokratiet har gjort sig nogle tanker i den anledning, og jeg vil gerne sige til hr. Keld Albrechtsen, at vi ikke konsulterer Venstre, før vi fremlægger socialdemokratiske tanker. For det første mener vi, at vi skal foretage en genopretning af miljøgarantien på en sådan måde, at miljøgarantien får den værdi, som regeringen i 1986 sagde den havde. Vi synes også, at det skal gøres muligt, såfremt der frem-. kommer ny viden, at lande kan gå videre i beskyttelsen af miljø og sundhed. For det andet mener vi, at miljøet må integreres på alle områder, f.eks. med hensyn til landbrug, transport, fiskeri, energipolitik osv., og også regionalt. Det må ikke være således, at man ved at henlægge en beslutning til et andet område kan slippe uden om miljøreglerne. For det tredje mener vi, at der skal være mere åbenhed i Europa-Kommissionen, så det bliver synligt, hvilke interesseorganisationer der bliver hørt, og hvad deres høringssvar er. Herunder ser vi selvfølgelig gerne, at miljøorganisationer, fagforeninger og andre bliver inddraget i høringsprocessen. For det fjerde synes vi, at alle miljøafgifter burde kunne vedtages med kvalificeret flertal. Desværre har vi set problemerne med at få vedtaget en CO2-afgift, fordi der kræves enstemmighed. I øvrigt vil jeg gerne i denne sammenhæng komme med en opfordring til Europa- Kommissionen om at. være mere offensiv på miljøafgiftsområdet. Hidtil har man kun fremlagt ét eneste forslag, nemlig CO2-afgiften. Vi mener, at man for længst burde have foreslået en række andre miljøafgifter. 4238 Torsdag den 23. marts 1995 (F 24) Nu da jeg er i det humør med at opfordre Europa-Kommissionen, vil jeg også godt opfordre den til mere systematisk at komme efter de lande, der ikke til tiden gennemfører de miljødirektiver, der allerede er vedtaget. Der er et stort efterslæb på dette felt. Derudover vil jeg for det femte gerne fastslå, at strukturfondene bør indrettes således, at de fremmer en bæredygtig udvikling. Det skal være en betingelse for, at man kan få støtte fra strukturfondene. Dette er nogle eksempler på, at reglerne, der regulerer miljø, sundhed, forbrugerbeskyttelse og arbejdsmiljø, kan forbedres. Men hvis man vil forbedre, er det selvfølgelig afgørende, at man går ind i processen, at man deltager i den politiske kamp, og jeg må sige, at der i Europa er mange borgerlige kræfter, som gerne vil forhindre disse fremskridt. Enhedslisten har efter vores opfattelse sat sig helt uden for denne kamp. Enhedslistens formål er ganske enkelt at få Danmark ud af Den Europæiske Union og så lade befolkningen i Europa sejle sin egen sø. Derfor tæller vi ikke Enhedslisten med til dem, der vil forbedre reglerne på miljøområdet, sundhedsområdet og forbrugerområdet i Europa. Vi ønsker at gøre en stor indsats på dette felt, og vor målsætning er, at det, der i dag hedder Den Europæiske Union, en dag af borgerne i Europa vil blive opfattet som en miljøunion. Jeg skal til slut på vegne af Socialdemokratiet, Venstre, Det Konservative Folkeparti, Det Radikale Venstre og Centrum-Demokraterne fremsætte følgende: Forslag om motiveret dagsorden »Folketinget opfordrer regeringen til - i EU fortsat at fremme hensynet til vækst, beskæftigelse og miljø som udtryk for en langsigtet dansk EU-politik, - i EU at fremme tankegangen i kapitel 10 i Kommissionens hvidbog om vækst og beskæftigelse, - at arbejde for, at EU's indre marked gennemføres, således at vigtige nationale beskyttelsesforanstaltninger på miljøområdet kan opretholdes, og - i EU at arbejde for på alle måder at styrke miljø- og sundhedssynspunkter, herunder at sikre høje minimumsbestemmelser. Herefter går Tinget over til næste sag på dagsordenen.« (Dagsordensforslag nr. D 51).\""
      ]
     },
     "execution_count": 135,
     "metadata": {},
     "output_type": "execute_result"
    }
   ],
   "source": [
    "Alle_taler_maastricht[randint(0, len(Alle_taler_maastricht))]"
   ]
  },
  {
   "cell_type": "code",
   "execution_count": 136,
   "id": "49a0dd4c",
   "metadata": {},
   "outputs": [],
   "source": [
    "processed_data_maastricht = []\n",
    "for tekst in tekster_klar_maastricht:\n",
    "    str_tekst = [str(token) for token in tekst]\n",
    "    processed_data_maastricht.append(str_tekst)"
   ]
  },
  {
   "cell_type": "code",
   "execution_count": 137,
   "id": "27b07f17",
   "metadata": {},
   "outputs": [],
   "source": [
    "bigram_maastricht = gensim.models.Phrases(processed_data_maastricht, min_count=5, threshold=100)\n",
    "\n",
    "trigram_maastricht = gensim.models.Phrases(bigram[processed_data_maastricht], threshold=100)\n",
    "\n",
    "bigram_mod_maastricht = gensim.models.phrases.Phraser(bigram_maastricht)\n",
    "\n",
    "trigram_mod_maastricht = gensim.models.phrases.Phraser(trigram_maastricht)"
   ]
  },
  {
   "cell_type": "code",
   "execution_count": 138,
   "id": "adb73b45",
   "metadata": {},
   "outputs": [],
   "source": [
    "def remove_stopwords_maastricht(texts):\n",
    "    return [[word for word in doc if word not in stopord] for doc in texts]\n",
    "def create_bigrams_maastricht(texts):\n",
    "    return [bigram_mod_maastricht[doc] for doc in texts]\n",
    "def create_trigrams_maastricht(texts):\n",
    "    [trigram_mod[bigram_mod_maastricht[doc]] for doc in texts]\n",
    "def lemmatize_maastricht(texts, allowed_postags=['NOUN', 'ADJ', 'VERB']):\n",
    "    texts_op = []\n",
    "    start = time()\n",
    "    for sent in texts:\n",
    "        doc = nlpd(\" \".join(sent))\n",
    "        texts_op.append([token.lemma_ for token in doc if token.pos_ in allowed_postags])\n",
    "    end = time()\n",
    "    print(end-start)\n",
    "    return texts_op"
   ]
  },
  {
   "cell_type": "code",
   "execution_count": 139,
   "id": "d2e21aff",
   "metadata": {},
   "outputs": [
    {
     "name": "stdout",
     "output_type": "stream",
     "text": [
      "65.07245016098022\n"
     ]
    }
   ],
   "source": [
    "data_wo_stopwords_maastricht = remove_stopwords(processed_data_maastricht)\n",
    "\n",
    "data_bigrams_maastricht = create_bigrams_maastricht(data_wo_stopwords_maastricht)\n",
    "\n",
    "data_lemmatized_maastricht = lemmatize_maastricht(data_bigrams_maastricht, allowed_postags=[ 'NOUN', 'ADJ', 'VERB', 'PROPN', 'ADV'])\n",
    "\n",
    "stopwords_removed_2_maastricht = remove_stopwords_maastricht(data_lemmatized_maastricht) #Jeg prøver at sortere stopord fra igen\n",
    "\n",
    "data_lemmatized_maastricht = stopwords_removed_2_maastricht"
   ]
  },
  {
   "cell_type": "code",
   "execution_count": 140,
   "id": "9f0535dd",
   "metadata": {},
   "outputs": [],
   "source": [
    "texts_maastricht = [text for text in data_lemmatized_maastricht]"
   ]
  },
  {
   "cell_type": "code",
   "execution_count": 141,
   "id": "973efcaa",
   "metadata": {},
   "outputs": [],
   "source": [
    "shuffle(texts_maastricht)"
   ]
  },
  {
   "cell_type": "code",
   "execution_count": 142,
   "id": "d8519829",
   "metadata": {},
   "outputs": [],
   "source": [
    "gensim_dictionary_maastricht = corpora.Dictionary(texts_maastricht)\n",
    "\n",
    "gensim_corpus_maastricht = [gensim_dictionary_maastricht.doc2bow(text) for text in texts_maastricht]"
   ]
  },
  {
   "cell_type": "code",
   "execution_count": 143,
   "id": "3081b473",
   "metadata": {},
   "outputs": [],
   "source": [
    "gensim_dictionary_maastricht.save(\"Speciale_scripts/Dictionaries/Maastricht/10_10_22_02\")"
   ]
  },
  {
   "cell_type": "markdown",
   "id": "06dfe7dc",
   "metadata": {},
   "source": [
    "### Topic model Maastricht "
   ]
  },
  {
   "cell_type": "code",
   "execution_count": 144,
   "id": "dbc8777a",
   "metadata": {},
   "outputs": [],
   "source": [
    "def compute_coherence_values_maastricht(k):\n",
    "    lda_model_maastricht = gensim.models.ldamodel.LdaModel(corpus=gensim_corpus_maastricht,\n",
    "                                           id2word=gensim_dictionary_maastricht,\n",
    "                                           num_topics=k, \n",
    "                                           random_state=100,\n",
    "                                           chunksize=100,\n",
    "                                           passes=10,\n",
    "                                           alpha=\"auto\")\n",
    "    \n",
    "    coherence_model_lda_maastricht = CoherenceModel(model=lda_model_maastricht, texts=data_lemmatized_maastricht, dictionary=gensim_dictionary_maastricht, coherence='c_v')\n",
    "    return coherence_model_lda_maastricht.get_coherence()"
   ]
  },
  {
   "cell_type": "code",
   "execution_count": 145,
   "id": "273a32e0",
   "metadata": {},
   "outputs": [
    {
     "name": "stdout",
     "output_type": "stream",
     "text": [
      "5\n",
      "6\n",
      "7\n",
      "8\n",
      "9\n",
      "10\n",
      "11\n",
      "12\n",
      "13\n",
      "14\n",
      "15\n",
      "16\n",
      "17\n",
      "18\n",
      "19\n",
      "20\n",
      "21\n",
      "22\n",
      "23\n",
      "24\n"
     ]
    }
   ],
   "source": [
    "min_topics = 5\n",
    "max_topics = 25\n",
    "step_size = 1\n",
    "topics_range = range(min_topics, max_topics, step_size)\n",
    "\n",
    "#empty dataframe\n",
    "model_results_maastricht = {'Topics': [],\n",
    "                 'Coherence': []\n",
    "                }\n",
    "\n",
    "# iterate through number of topics\n",
    "for k in topics_range:\n",
    "    print(k)\n",
    "    # get the coherence score for the given topics\n",
    "    cv = compute_coherence_values_maastricht(k=k)\n",
    "    # Save the model results\n",
    "    model_results_maastricht['Topics'].append(k)\n",
    "    model_results_maastricht['Coherence'].append(cv)"
   ]
  },
  {
   "cell_type": "code",
   "execution_count": 146,
   "id": "fbb085b5",
   "metadata": {},
   "outputs": [
    {
     "data": {
      "image/png": "[encoded data removed]",
      "text/plain": [
       "<Figure size 432x288 with 1 Axes>"
      ]
     },
     "metadata": {
      "needs_background": "light"
     },
     "output_type": "display_data"
    }
   ],
   "source": [
    "fig, ax = plt.subplots()\n",
    "ax.plot(model_results_maastricht[\"Topics\"], model_results_maastricht['Coherence'])\n",
    "ax.set_title(\"Model med low = 0.2\")\n",
    "fig.savefig(\"Speciale_scripts/plots/maastricht/Coherence_score_10_10_22_02\")"
   ]
  },
  {
   "cell_type": "code",
   "execution_count": 147,
   "id": "ac10b625",
   "metadata": {},
   "outputs": [],
   "source": [
    "coherence_best_maastricht = [coherence for coherence in model_results_maastricht['Coherence']]\n",
    "coherence_best_maastricht.sort(reverse = True)"
   ]
  },
  {
   "cell_type": "code",
   "execution_count": 148,
   "id": "29f16b5d",
   "metadata": {},
   "outputs": [
    {
     "name": "stdout",
     "output_type": "stream",
     "text": [
      "16\n",
      "14\n",
      "13\n"
     ]
    }
   ],
   "source": [
    "for top_coherence in coherence_best_maastricht[0:3]:\n",
    "    number_topics_maastricht = model_results_maastricht[\"Topics\"][model_results_maastricht['Coherence'].index(top_coherence)]\n",
    "    print(number_topics_maastricht)\n",
    "    lda_model_maastricht = gensim.models.ldamodel.LdaModel(\n",
    "        corpus=gensim_corpus_maastricht, id2word=gensim_dictionary_maastricht, num_topics=number_topics_maastricht, random_state=100, \n",
    "        update_every=1, chunksize=100, passes=10, alpha='auto', per_word_topics=True\n",
    "    )\n",
    "    lda_model_maastricht.save(f\"Speciale_scripts/Modeller/maastricht/10_10_2022_02/Model_{number_topics_maastricht}_topics\")"
   ]
  },
  {
   "cell_type": "code",
   "execution_count": 159,
   "id": "252223c3",
   "metadata": {},
   "outputs": [
    {
     "name": "stdout",
     "output_type": "stream",
     "text": [
      "[(0,\n",
      "  '0.082*\"grønland\" + 0.037*\"færøerne\" + 0.008*\"ecu\" + 0.006*\"procent\" + '\n",
      "  '0.002*\"folkebibliotek\" + 0.001*\"ef-samar-\" + 0.000*\"grønlands\" + '\n",
      "  '0.000*\"rigsfællesskab\" + 0.000*\"landsstyre\" + 0.000*\"åbningstale_del\"'),\n",
      " (1,\n",
      "  '0.032*\"forslag\" + 0.025*\"lov\" + 0.022*\"ændring\" + 0.015*\"spørgsmål\" + '\n",
      "  '0.013*\"lovforslag\" + 0.013*\"minister\" + 0.012*\"regel\" + 0.011*\"danmark\" + '\n",
      "  '0.010*\"regering\" + 0.009*\"sag\"'),\n",
      " (2,\n",
      "  '0.034*\"land\" + 0.025*\"samarbejde\" + 0.015*\"eu\" + 0.012*\"område\" + '\n",
      "  '0.012*\"danmark\" + 0.010*\"europa\" + 0.009*\"regering\" + 0.008*\"medlemsland\" + '\n",
      "  '0.008*\"udvikling\" + 0.007*\"mulighed\"'),\n",
      " (3,\n",
      "  '0.055*\"dato\" + 0.036*\"pris_kr\" + 0.035*\"destination\" + 0.032*\"ledsager\" + '\n",
      "  '0.021*\"kulturminister\" + 0.020*\"besøg\" + 0.017*\"formål\" + 0.013*\"skole\" + '\n",
      "  '0.011*\"formål_åbning\" + 0.010*\"erik_jacobsen\"'),\n",
      " (4,\n",
      "  '0.017*\"gå\" + 0.016*\"hr.\" + 0.015*\"danmark\" + 0.013*\"stå\" + 0.013*\"altså\" + '\n",
      "  '0.010*\"regering\" + 0.010*\"folkeafstemning\" + 0.010*\"befolkning\" + '\n",
      "  '0.010*\"dag\" + 0.010*\"mene\"'),\n",
      " (5,\n",
      "  '0.015*\"ellemann-jensen\" + 0.015*\"anders_fogh\" + 0.001*\"rasmussens\" + '\n",
      "  '0.000*\"rasmussen\" + 0.000*\"1930\\'erne\" + 0.000*\"prise\" + '\n",
      "  '0.000*\"munch-politik\" + 0.000*\"højrebevægelse\" + 0.000*\"fascist\" + '\n",
      "  '0.000*\"bondeanger\"'),\n",
      " (6,\n",
      "  '0.027*\"93_beh\" + 0.023*\"nørgaard\" + 0.017*\"fp\" + 0.013*\"grækenland\" + '\n",
      "  '0.008*\"iværksættelse\" + 0.007*\"jf._§\" + 0.007*\"frank\" + 0.007*\"dagspresse\" '\n",
      "  '+ 0.006*\"frank_aaen\" + 0.006*\"medforslagsstiller\"'),\n",
      " (7,\n",
      "  '0.033*\"subsidiaritetsprincip\" + 0.000*\"læne\" + 0.000*\"nedstemme\" + '\n",
      "  '0.000*\"retsvirkning\" + 0.000*\"retspraksis\" + 0.000*\"kofod-svendsen\" + '\n",
      "  '0.000*\"national\" + 0.000*\"eu-regulering\" + 0.000*\"slagsmål\" + '\n",
      "  '0.000*\"forene\"'),\n",
      " (8,\n",
      "  '0.007*\"landsret\" + 0.007*\"sagsøger\" + 0.000*\"rocker\" + '\n",
      "  '0.000*\"medholdelighed\" + 0.000*\"versere\" + 0.000*\"morder\" + '\n",
      "  '0.000*\"statistik\" + 0.000*\"ulovlighed\" + 0.000*\"slukke\" + 0.000*\"ære\"'),\n",
      " (9,\n",
      "  '0.000*\"hedsprincippet\" + 0.000*\"forkludre\" + 0.000*\"forretningsgang\" + '\n",
      "  '0.000*\"østudvidelsen\" + 0.000*\"småændringer\" + 0.000*\"overløber\" + '\n",
      "  '0.000*\"margarine\" + 0.000*\"mafia\" + 0.000*\"landkort\" + '\n",
      "  '0.000*\"hagel-sørensens\"'),\n",
      " (10,\n",
      "  '0.031*\"regering\" + 0.018*\"år\" + 0.009*\"politik\" + 0.009*\"danmark\" + '\n",
      "  '0.008*\"arbejde\" + 0.008*\"give\" + 0.008*\"dag\" + 0.008*\"statsminister\" + '\n",
      "  '0.007*\"menneske\" + 0.007*\"samfund\"'),\n",
      " (11,\n",
      "  '0.078*\"holger_k\" + 0.077*\"nielsen\" + 0.020*\"lighed\" + 0.014*\"intern\" + '\n",
      "  '0.014*\"oktober_1997\" + 0.013*\"torben_lund\" + 0.011*\"unionstilhænger\" + '\n",
      "  '0.009*\"uddannelsesområde\" + 0.008*\"genforhandle\" + '\n",
      "  '0.008*\"fordelingspolitik\"'),\n",
      " (12,\n",
      "  '0.015*\"b\" + 0.009*\"søjlespring\" + 0.007*\"vedr._modarbejdelse\" + '\n",
      "  '0.003*\"bekæmpelsesmiddel\" + 0.000*\"pesticid\" + 0.000*\"anker_jørgensen\" + '\n",
      "  '0.000*\"suk\" + 0.000*\"annette_justs\" + 0.000*\"opfindelse\" + '\n",
      "  '0.000*\"sandsynliggøre\"')]\n"
     ]
    }
   ],
   "source": [
    "lda_model_maastricht = gensim.models.ldamodel.LdaModel.load(\"Speciale_scripts/Modeller/maastricht/10_10_2022_02/Model_13_topics\")\n",
    "pprint(lda_model_maastricht.print_topics(33))"
   ]
  },
  {
   "cell_type": "code",
   "execution_count": null,
   "id": "21ba4bb5",
   "metadata": {},
   "outputs": [],
   "source": [
    "#os.system(\"sudo shutdown /s /t 1\")"
   ]
  }
 ],
 "metadata": {
  "kernelspec": {
   "display_name": "Python 3 (ipykernel)",
   "language": "python",
   "name": "python3"
  },
  "language_info": {
   "codemirror_mode": {
    "name": "ipython",
    "version": 3
   },
   "file_extension": ".py",
   "mimetype": "text/x-python",
   "name": "python",
   "nbconvert_exporter": "python",
   "pygments_lexer": "ipython3",
   "version": "3.10.2"
  }
 },
 "nbformat": 4,
 "nbformat_minor": 5
}
