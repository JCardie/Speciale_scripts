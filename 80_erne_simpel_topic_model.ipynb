{
 "cells": [
  {
   "cell_type": "code",
   "execution_count": 2,
   "id": "4e73e648",
   "metadata": {},
   "outputs": [],
   "source": [
    "from pathlib import Path\n",
    "from pathlib import *\n",
    "import pandas as pd\n",
    "import re\n",
    "from random import randint\n",
    "from random import shuffle\n",
    "import spacy\n",
    "from time import time\n",
    "import matplotlib.pyplot as plt\n",
    "import gensim.corpora as corpora\n",
    "import gensim\n",
    "from pprint import pprint\n",
    "from gensim.models import TfidfModel\n",
    "from gensim.models import CoherenceModel\n",
    "from gensim import  models\n",
    "from gensim.test.utils import datapath\n",
    "nlpd = spacy.load(\"da_core_news_lg\")"
   ]
  },
  {
   "cell_type": "markdown",
   "id": "cb2010d6",
   "metadata": {},
   "source": [
    "# 80'erne simpel topic model\n",
    "Det følgende script vil søge at lave en topic-model over den danske EU-debat, men hvor domænespecifikke begreber ikke undlades, ligesom at der ikke lades TD-IDF på data."
   ]
  },
  {
   "cell_type": "code",
   "execution_count": 3,
   "id": "0d33802a",
   "metadata": {},
   "outputs": [],
   "source": [
    "path = \"../../Folketingstidende/Hele/\"\n",
    "dir_path = Path(f\"{path}\")\n",
    "csv_files = list(dir_path.glob(\"*.csv\"))"
   ]
  },
  {
   "cell_type": "code",
   "execution_count": 4,
   "id": "8fa894fd",
   "metadata": {},
   "outputs": [
    {
     "data": {
      "text/plain": [
       "[PosixPath('../../Folketingstidende/Hele/19531.csv'),\n",
       " PosixPath('../../Folketingstidende/Hele/19541.csv'),\n",
       " PosixPath('../../Folketingstidende/Hele/19551.csv'),\n",
       " PosixPath('../../Folketingstidende/Hele/19561.csv'),\n",
       " PosixPath('../../Folketingstidende/Hele/19562.csv')]"
      ]
     },
     "execution_count": 4,
     "metadata": {},
     "output_type": "execute_result"
    }
   ],
   "source": [
    "csv_files.sort() #sorter så data kommer i rigtig rækkefølge\n",
    "csv_files[0:5]"
   ]
  },
  {
   "cell_type": "code",
   "execution_count": 5,
   "id": "b5eed0b7",
   "metadata": {},
   "outputs": [
    {
     "data": {
      "text/plain": [
       "[PosixPath('../../Folketingstidende/Hele/19801.csv'),\n",
       " PosixPath('../../Folketingstidende/Hele/19811.csv'),\n",
       " PosixPath('../../Folketingstidende/Hele/19812.csv'),\n",
       " PosixPath('../../Folketingstidende/Hele/19821.csv'),\n",
       " PosixPath('../../Folketingstidende/Hele/19831.csv'),\n",
       " PosixPath('../../Folketingstidende/Hele/19832.csv'),\n",
       " PosixPath('../../Folketingstidende/Hele/19841.csv'),\n",
       " PosixPath('../../Folketingstidende/Hele/19851.csv'),\n",
       " PosixPath('../../Folketingstidende/Hele/19861.csv'),\n",
       " PosixPath('../../Folketingstidende/Hele/19862.csv'),\n",
       " PosixPath('../../Folketingstidende/Hele/19871.csv'),\n",
       " PosixPath('../../Folketingstidende/Hele/19872.csv'),\n",
       " PosixPath('../../Folketingstidende/Hele/19881.csv'),\n",
       " PosixPath('../../Folketingstidende/Hele/19891.csv')]"
      ]
     },
     "execution_count": 5,
     "metadata": {},
     "output_type": "execute_result"
    }
   ],
   "source": [
    "csv_files[35:49]"
   ]
  },
  {
   "cell_type": "code",
   "execution_count": 6,
   "id": "5031da41",
   "metadata": {},
   "outputs": [],
   "source": [
    "Folketingstaler_i_80erne = {}\n",
    "for fil in csv_files[35:49]:\n",
    "    if str(fil)[-9:-5] in Folketingstaler_i_80erne:\n",
    "        folketingsår = pd.read_csv(fil ,sep=';', encoding = \"latin1\")\n",
    "        taler = folketingsår[\"indhold\"]\n",
    "        for tale in taler:\n",
    "            Folketingstaler_i_80erne[str(fil)[-9:-5]].append(tale)\n",
    "    else:\n",
    "        folketingsår = pd.read_csv(fil ,sep=';', encoding = \"latin1\")\n",
    "        taler = folketingsår[\"indhold\"]\n",
    "        Folketingstaler_i_80erne[str(fil)[-9:-5]] = []\n",
    "        for tale in taler:\n",
    "            Folketingstaler_i_80erne[str(fil)[-9:-5]].append(tale)"
   ]
  },
  {
   "cell_type": "code",
   "execution_count": 7,
   "id": "2be950c6",
   "metadata": {},
   "outputs": [],
   "source": [
    "def FT_taler(indhold):\n",
    "    talere = []\n",
    "    tale = []\n",
    "    parti = []\n",
    "    Partier_i_folketinget = [\"(A)\", \"(SF)\", \"(S)\", \"(RV)\", \"(KF)\", \"(V)\", \"(FP)\", \"(CD)\", \"(VS)\",\n",
    "                             \"(KrF)\", \"(DR)\", \"(UP)\", \"(Grønl.)\", \"(Fær.)\"]\n",
    "    for index in range(len(indhold)):\n",
    "        sentence = indhold[index]\n",
    "        if len(re.findall(\"(^.{1,50} \\([A-Z]+\\)|^.{1,50} \\(KrF\\)|^.{1,50} \\(Grønl.\\)|^.{1,50} \\(Fær.\\))\", sentence)) > 0: #Tjekker om det er et menigt medlem\n",
    "            if len(re.findall(\"(\\([A-Z]+\\)|\\(KrF\\)|\\(Grønl.\\)|\\(Fær.\\))\", sentence)) < 2:\n",
    "                if len(re.findall(\"Ny stedf.\", sentence)) > 0:\n",
    "                    pass\n",
    "                elif len(re.findall(\"Udtræder:\", sentence)) > 0:\n",
    "                    pass\n",
    "                elif len(re.findall(\"Nyt medl\", sentence)) > 0:\n",
    "                    pass\n",
    "                elif len(re.findall(\" af\", sentence.lower())) > 0:\n",
    "                    pass\n",
    "                elif re.findall(\"(\\([A-Z]+\\)|\\(KrF\\)|\\(Grønl.\\)|\\(Fær.\\))\", sentence)[0] in Partier_i_folketinget:\n",
    "                    talere.append(sentence)\n",
    "                    parti.append(re.findall(\"(\\([A-Z]+\\)|\\(KrF\\)|\\(Grønl.\\)|\\(Fær.\\))\", sentence)[0])\n",
    "                    tale.append(\"\")\n",
    "                else:\n",
    "                    if len(tale) >= 1:\n",
    "                        tale[-1] = tale[-1] + \" \" + sentence\n",
    "            else: #ellers er det en tale\n",
    "                if len(tale) >= 1:\n",
    "                    tale[-1] = tale[-1] + \" \" + sentence\n",
    "                #if len(re.findall(\"(\\([A-Z]+\\)|\\(KrF\\))\", sentence)) < 2:\n",
    "        elif sentence.lower() == \"formanden\" or sentence.lower() == \"formanden:\": #tjekker om det er formanden der taler\n",
    "            talere.append(\"formanden\")\n",
    "            parti.append(\"Formanden\")\n",
    "            tale.append(\"\")\n",
    "        elif re.search(\"næstformand \\(\\w*\\):$\", sentence.lower()) or re.search(\"næstformand \\(\\w* \\w*\\):$\", sentence.lower()):\n",
    "            talere.append(sentence.lower())\n",
    "            parti.append(\"næstformanden\")\n",
    "            tale.append(\"\")\n",
    "        elif len(sentence) < 100: #Tjekker om det er en minister der taler\n",
    "            if len(re.findall(\"\\w*minister[\\w ]*\\(([\\w-]*|[\\w ]*)\\)\", sentence.lower())) > 0:\n",
    "                talere.append(sentence)\n",
    "                parti.append(\"Regeringen\")\n",
    "                tale.append(\"\")\n",
    "            else:\n",
    "                if len(tale) >= 1:\n",
    "                    tale[-1] = tale[-1] + \" \" + sentence\n",
    "        elif len(re.findall(\"[1-9]{1,5} [1-9]{1,2}/[1-9]{1,2}\", sentence.lower()))  > 0: #tilføjet til at fange headers på sider\n",
    "            if len(sentence) < 170:\n",
    "                pass\n",
    "            else:\n",
    "                if len(tale) >= 1:\n",
    "                    tale[-1] = tale[-1] + \" \" + sentence\n",
    "        elif len(re.findall(\"^[1-9]{1,2}/[1-9]{1,2}\", sentence.lower())) > 0: \n",
    "            if len(sentence) < 170:\n",
    "                pass\n",
    "            else:\n",
    "                if len(tale) >= 1:\n",
    "                    tale[-1] = tale[-1] + \" \" + sentence\n",
    "        elif re.fullmatch(\"\\[.{1,100}\\]\", sentence.lower()):\n",
    "            pass\n",
    "        elif re.fullmatch(\"[1-9]{1,10}\", sentence.lower()):\n",
    "            pass\n",
    "        else:\n",
    "            if len(tale) >= 1:\n",
    "                tale[-1] = tale[-1] + \" \" + sentence\n",
    "    return tale, talere, parti"
   ]
  },
  {
   "cell_type": "code",
   "execution_count": 8,
   "id": "b6641c6f",
   "metadata": {},
   "outputs": [],
   "source": [
    "Folketingsår_opdelt_per_taler_80erne = {}\n",
    "for år in Folketingstaler_i_80erne:\n",
    "    indhold = Folketingstaler_i_80erne[år]\n",
    "    år_tale, år_talere, år_parti = FT_taler(indhold)\n",
    "    Folketingsår_opdelt_per_taler_80erne[år] = []\n",
    "    Folketingsår_opdelt_per_taler_80erne[år].append(år_tale)\n",
    "    Folketingsår_opdelt_per_taler_80erne[år].append(år_talere)\n",
    "    Folketingsår_opdelt_per_taler_80erne[år].append(år_parti)"
   ]
  },
  {
   "cell_type": "code",
   "execution_count": 9,
   "id": "54e886de",
   "metadata": {},
   "outputs": [],
   "source": [
    "EU_ord = [\" eu \", \" ef \", \"europæiske fællesskab\", \"europæiske union\", \"fællesmarked\", \"ømu\", \" ef-\", \" eu-\",\n",
    "          \"europæiske samarbejde\", \"fællesakt\", \" ømu\", \"det indre marked\"]"
   ]
  },
  {
   "cell_type": "code",
   "execution_count": 10,
   "id": "da43753c",
   "metadata": {},
   "outputs": [],
   "source": [
    "eu_taler_80erne = {}\n",
    "for år in Folketingsår_opdelt_per_taler_80erne:\n",
    "    #start = time()\n",
    "    eu_tale_år = []\n",
    "    eu_parti_år = []\n",
    "    eu_taler_år = []\n",
    "    for index in range(len(Folketingsår_opdelt_per_taler_80erne[år][0])):\n",
    "        tale = Folketingsår_opdelt_per_taler_80erne[år][0][index]\n",
    "        for ord_ in EU_ord:\n",
    "            if len(re.findall(ord_, tale.lower())) > 0:\n",
    "                eu_tale_år.append(tale)\n",
    "                eu_taler_år.append(Folketingsår_opdelt_per_taler_80erne[år][1][index])\n",
    "                eu_parti_år.append(Folketingsår_opdelt_per_taler_80erne[år][2][index])\n",
    "                break\n",
    "    eu_taler_80erne[år] = []\n",
    "    eu_taler_80erne[år].append(eu_tale_år)\n",
    "    eu_taler_80erne[år].append(eu_parti_år)\n",
    "    eu_taler_80erne[år].append(eu_taler_år)\n",
    "    #slut = time()\n",
    "    #print(slut-start) til at time loopsne"
   ]
  },
  {
   "cell_type": "code",
   "execution_count": 11,
   "id": "6d187685",
   "metadata": {},
   "outputs": [
    {
     "name": "stdout",
     "output_type": "stream",
     "text": [
      "1980: 506\n",
      "1981: 594\n",
      "1982: 510\n",
      "1983: 527\n",
      "1984: 419\n",
      "1985: 863\n",
      "1986: 607\n",
      "1987: 671\n",
      "1988: 940\n",
      "1989: 999\n"
     ]
    }
   ],
   "source": [
    "for år in eu_taler_80erne:\n",
    "    print(f\"{år}: {len(eu_taler_80erne[år][0])}\")"
   ]
  },
  {
   "cell_type": "code",
   "execution_count": 12,
   "id": "77bb3ece",
   "metadata": {},
   "outputs": [],
   "source": [
    "antal_taler_år = [len(eu_taler_80erne[i][0]) for i in eu_taler_80erne]"
   ]
  },
  {
   "cell_type": "code",
   "execution_count": 13,
   "id": "324cb204",
   "metadata": {},
   "outputs": [
    {
     "data": {
      "text/plain": [
       "[506, 594, 510, 527, 419, 863, 607, 671, 940, 999]"
      ]
     },
     "execution_count": 13,
     "metadata": {},
     "output_type": "execute_result"
    }
   ],
   "source": [
    "antal_taler_år"
   ]
  },
  {
   "cell_type": "code",
   "execution_count": 14,
   "id": "c1ed9e92",
   "metadata": {},
   "outputs": [],
   "source": [
    "år_1980erne = [str(1980 + i) for i in range(10)]"
   ]
  },
  {
   "cell_type": "code",
   "execution_count": 15,
   "id": "41aa760a",
   "metadata": {},
   "outputs": [
    {
     "data": {
      "text/plain": [
       "['1980',\n",
       " '1981',\n",
       " '1982',\n",
       " '1983',\n",
       " '1984',\n",
       " '1985',\n",
       " '1986',\n",
       " '1987',\n",
       " '1988',\n",
       " '1989']"
      ]
     },
     "execution_count": 15,
     "metadata": {},
     "output_type": "execute_result"
    }
   ],
   "source": [
    "år_1980erne"
   ]
  },
  {
   "cell_type": "code",
   "execution_count": 16,
   "id": "31509ed3",
   "metadata": {},
   "outputs": [],
   "source": [
    "Alle_taler = []\n",
    "Alle_taler_år = []\n",
    "Alle_taler_parti = []\n",
    "Alle_taler_taler = []\n",
    "for år in eu_taler_80erne:\n",
    "    for index in range(len(eu_taler_80erne[år][0])):\n",
    "        Alle_taler.append(eu_taler_80erne[år][0][index])\n",
    "        Alle_taler_parti.append(eu_taler_80erne[år][1][index])\n",
    "        Alle_taler_taler.append(eu_taler_80erne[år][2][index])\n",
    "        Alle_taler_år.append(år)"
   ]
  },
  {
   "cell_type": "code",
   "execution_count": 17,
   "id": "790b354f",
   "metadata": {},
   "outputs": [
    {
     "data": {
      "text/plain": [
       "6636"
      ]
     },
     "execution_count": 17,
     "metadata": {},
     "output_type": "execute_result"
    }
   ],
   "source": [
    "len(Alle_taler)"
   ]
  },
  {
   "cell_type": "code",
   "execution_count": 18,
   "id": "3f53afc2",
   "metadata": {},
   "outputs": [],
   "source": [
    "tekster_klar = []\n",
    "fyldetegn = [\",\", \".\", \"(\", \")\", \"?\", \"/\", \"!\", \":\", \" \", \"):\", \"-\", \"«\", \"»\", \"[\", \"]\"]\n",
    "stopord_fil = open('../../Folketingstidende/stopord.txt','r')\n",
    "stopord = [word[:-1] for word in stopord_fil]"
   ]
  },
  {
   "cell_type": "code",
   "execution_count": 19,
   "id": "c7e13084",
   "metadata": {},
   "outputs": [
    {
     "data": {
      "text/plain": [
       "0"
      ]
     },
     "execution_count": 19,
     "metadata": {},
     "output_type": "execute_result"
    }
   ],
   "source": [
    "len(tekster_klar)"
   ]
  },
  {
   "cell_type": "code",
   "execution_count": 20,
   "id": "d7cf75a7",
   "metadata": {},
   "outputs": [],
   "source": [
    "typer_spacy = []\n",
    "for tegn in fyldetegn:\n",
    "    tekst_nlpd = nlpd(tegn)\n",
    "    for token in tekst_nlpd:\n",
    "        if token.pos_ not in typer_spacy:\n",
    "            typer_spacy.append(token.pos_)"
   ]
  },
  {
   "cell_type": "code",
   "execution_count": 21,
   "id": "55dc47bd",
   "metadata": {},
   "outputs": [
    {
     "data": {
      "text/plain": [
       "['PUNCT', 'X', 'SPACE', 'ADJ', 'PROPN']"
      ]
     },
     "execution_count": 21,
     "metadata": {},
     "output_type": "execute_result"
    }
   ],
   "source": [
    "typer_spacy"
   ]
  },
  {
   "cell_type": "code",
   "execution_count": 22,
   "id": "b55d4b74",
   "metadata": {},
   "outputs": [],
   "source": [
    "typer_spacy.remove(\"PROPN\")"
   ]
  },
  {
   "cell_type": "code",
   "execution_count": 23,
   "id": "2fb8a6d3",
   "metadata": {},
   "outputs": [
    {
     "name": "stdout",
     "output_type": "stream",
     "text": [
      "85.87749910354614\n",
      "85.72350311279297\n",
      "75.05977416038513\n",
      "69.97740316390991\n",
      "67.68477177619934\n",
      "106.56253004074097\n",
      "104.38537788391113\n",
      "116.84166407585144\n",
      "132.48006796836853\n",
      "115.81734299659729\n"
     ]
    }
   ],
   "source": [
    "for år in eu_taler_80erne:\n",
    "    #allowed_postags=['NOUN', 'ADJ', 'VERB']\n",
    "    start = time()\n",
    "    for tekst in eu_taler_80erne[år][0]:\n",
    "        tale_spacy = nlpd(tekst.lower())\n",
    "        #tokens = [str(token.lemma_).lower() for token in tale_spacy]\n",
    "        tokens = [token for token in tale_spacy]\n",
    "        tokens_uden_tegn = [str(token) for token in tokens if token.pos_ not in typer_spacy]\n",
    "        #tokens_uden_stopord = [token for token in tokens_uden_tegn if token not in stopord]\n",
    "        tekster_klar.append(tokens_uden_tegn)\n",
    "    end = time()\n",
    "    print(end-start)"
   ]
  },
  {
   "cell_type": "code",
   "execution_count": 24,
   "id": "140e175e",
   "metadata": {},
   "outputs": [],
   "source": [
    "processed_data = []\n",
    "for tekst in tekster_klar:\n",
    "    str_tekst = [str(token) for token in tekst]\n",
    "    processed_data.append(str_tekst)"
   ]
  },
  {
   "cell_type": "code",
   "execution_count": 25,
   "id": "18842281",
   "metadata": {},
   "outputs": [
    {
     "data": {
      "text/plain": [
       "6636"
      ]
     },
     "execution_count": 25,
     "metadata": {},
     "output_type": "execute_result"
    }
   ],
   "source": [
    "len(processed_data)"
   ]
  },
  {
   "cell_type": "code",
   "execution_count": 26,
   "id": "6651d4b6",
   "metadata": {},
   "outputs": [],
   "source": [
    "bigram = gensim.models.Phrases(processed_data, min_count=5, threshold=100)\n",
    "\n",
    "trigram = gensim.models.Phrases(bigram[processed_data], threshold=100)\n",
    "\n",
    "bigram_mod = gensim.models.phrases.Phraser(bigram)\n",
    "\n",
    "trigram_mod = gensim.models.phrases.Phraser(trigram)"
   ]
  },
  {
   "cell_type": "code",
   "execution_count": 27,
   "id": "1145f86c",
   "metadata": {},
   "outputs": [],
   "source": [
    "def remove_stopwords(texts):\n",
    "    return [[word for word in doc if word not in stopord] for doc in texts]\n",
    "def create_bigrams(texts):\n",
    "    return [bigram_mod[doc] for doc in texts]\n",
    "def create_trigrams(texts):\n",
    "    [trigram_mod[bigram_mod[doc]] for doc in texts]\n",
    "def lemmatize(texts, allowed_postags=[ 'NOUN', 'ADJ', 'VERB', 'PROPN']):\n",
    "    texts_op = []\n",
    "    start = time()\n",
    "    for sent in texts:\n",
    "        doc = nlpd(\" \".join(sent))\n",
    "        texts_op.append([token.lemma_ for token in doc if token.pos_ in allowed_postags])\n",
    "    end = time()\n",
    "    print(end-start)\n",
    "    return texts_op"
   ]
  },
  {
   "cell_type": "code",
   "execution_count": 28,
   "id": "61c33fa4",
   "metadata": {},
   "outputs": [
    {
     "name": "stdout",
     "output_type": "stream",
     "text": [
      "291.84009075164795\n"
     ]
    }
   ],
   "source": [
    "#removing stopwords, creating bigrams and lemmatizing the text\n",
    "\n",
    "data_wo_stopwords = remove_stopwords(processed_data)\n",
    "\n",
    "data_bigrams = create_bigrams(data_wo_stopwords)\n",
    "\n",
    "data_lemmatized = lemmatize(data_bigrams, allowed_postags=['NOUN', 'ADJ', 'VERB', 'PROPN', 'ADV'])\n",
    "\n",
    "stopwords_removed_2 = remove_stopwords(data_lemmatized) #Jeg prøver at sortere stopord fra igen\n",
    "\n",
    "#shuffle(stopwords_removed_2)\n",
    "\n",
    "data_lemmatized = stopwords_removed_2"
   ]
  },
  {
   "cell_type": "code",
   "execution_count": 29,
   "id": "fa283c4b",
   "metadata": {},
   "outputs": [],
   "source": [
    "#gensim_dictionary = corpora.Dictionary(data_lemmatized) #uden shuffle\n",
    "\n",
    "#texts = data_lemmatized\n",
    "\n",
    "#gensim_corpus_ikke_random = [gensim_dictionary.doc2bow(text) for text in texts] #uden_shuffle"
   ]
  },
  {
   "cell_type": "code",
   "execution_count": 30,
   "id": "3480d0c4",
   "metadata": {},
   "outputs": [
    {
     "data": {
      "text/plain": [
       "6636"
      ]
     },
     "execution_count": 30,
     "metadata": {},
     "output_type": "execute_result"
    }
   ],
   "source": [
    "len(data_lemmatized)"
   ]
  },
  {
   "cell_type": "code",
   "execution_count": 280,
   "id": "f6e008fb",
   "metadata": {},
   "outputs": [],
   "source": [
    "#gensim_dictionary = corpora.Dictionary(data_lemmatized)\n",
    "\n",
    "texts = [text for text in data_lemmatized]\n",
    "\n",
    "shuffle(texts)\n",
    "\n",
    "gensim_dictionary = corpora.Dictionary(texts)\n",
    "\n",
    "gensim_corpus = [gensim_dictionary.doc2bow(text) for text in texts]"
   ]
  },
  {
   "cell_type": "code",
   "execution_count": null,
   "id": "d62a547a",
   "metadata": {},
   "outputs": [],
   "source": [
    "gensim_dictionary.save(\"Dictionaries/1980_erne/LDA_1980_21_topics_simple_02_10_22_nummer_4_ikke_afgift_dictionary\")"
   ]
  },
  {
   "cell_type": "code",
   "execution_count": 53,
   "id": "d1fbec88",
   "metadata": {},
   "outputs": [],
   "source": [
    "gensim_dictionary = corpora.Dictionary.load(\"Dictionaries/1980_erne/LDA_1980_23_topics_simple_02_10_22_nummer_2_bedre_dictionary\")"
   ]
  },
  {
   "cell_type": "code",
   "execution_count": 26,
   "id": "0fbbabef",
   "metadata": {},
   "outputs": [],
   "source": [
    "#shuffle(gensim_corpus)"
   ]
  },
  {
   "cell_type": "code",
   "execution_count": 27,
   "id": "2fb1c34d",
   "metadata": {},
   "outputs": [],
   "source": [
    "gensim_corpus_ikke_random = [gensim_dictionary.doc2bow(text) for text in data_lemmatized]"
   ]
  },
  {
   "cell_type": "markdown",
   "id": "4db486f0",
   "metadata": {},
   "source": [
    "## Coherence model"
   ]
  },
  {
   "cell_type": "code",
   "execution_count": 281,
   "id": "c1f5ebe1",
   "metadata": {},
   "outputs": [],
   "source": [
    "def compute_coherence_values(k):\n",
    "    lda_model = gensim.models.ldamodel.LdaModel(corpus=gensim_corpus,\n",
    "                                           id2word=gensim_dictionary,\n",
    "                                           num_topics=k, \n",
    "                                           random_state=100,\n",
    "                                           chunksize=100,\n",
    "                                           passes=10,\n",
    "                                           alpha=\"auto\")\n",
    "    \n",
    "    coherence_model_lda = CoherenceModel(model=lda_model, texts=data_lemmatized, dictionary=gensim_dictionary, coherence='c_v')\n",
    "    return coherence_model_lda.get_coherence()"
   ]
  },
  {
   "cell_type": "code",
   "execution_count": 282,
   "id": "2ebed96c",
   "metadata": {},
   "outputs": [
    {
     "name": "stdout",
     "output_type": "stream",
     "text": [
      "17\n",
      "18\n",
      "19\n",
      "20\n",
      "21\n",
      "22\n",
      "23\n",
      "24\n"
     ]
    }
   ],
   "source": [
    "# Topics range\n",
    "min_topics = 17\n",
    "max_topics = 25\n",
    "step_size = 1\n",
    "topics_range = range(min_topics, max_topics, step_size)\n",
    "\n",
    "#empty dataframe\n",
    "model_results = {'Topics': [],\n",
    "                 'Coherence': []\n",
    "                }\n",
    "\n",
    "# iterate through number of topics\n",
    "for k in topics_range:\n",
    "    print(k)\n",
    "    # get the coherence score for the given topics\n",
    "    cv = compute_coherence_values(k=k)\n",
    "    # Save the model results\n",
    "    model_results['Topics'].append(k)\n",
    "    model_results['Coherence'].append(cv)"
   ]
  },
  {
   "cell_type": "code",
   "execution_count": 283,
   "id": "f1990615",
   "metadata": {},
   "outputs": [
    {
     "data": {
      "text/plain": [
       "Text(0.5, 1.0, 'Simple model')"
      ]
     },
     "execution_count": 283,
     "metadata": {},
     "output_type": "execute_result"
    },
    {
     "data": {
      "image/png": "[encoded data removed]",
      "text/plain": [
       "<Figure size 432x288 with 1 Axes>"
      ]
     },
     "metadata": {
      "needs_background": "light"
     },
     "output_type": "display_data"
    }
   ],
   "source": [
    "fig, ax = plt.subplots()\n",
    "ax.plot(model_results[\"Topics\"], model_results['Coherence'])\n",
    "ax.set_title(\"Simple model\")"
   ]
  },
  {
   "cell_type": "code",
   "execution_count": 262,
   "id": "d544ec23",
   "metadata": {},
   "outputs": [
    {
     "data": {
      "text/plain": [
       "3"
      ]
     },
     "execution_count": 262,
     "metadata": {},
     "output_type": "execute_result"
    }
   ],
   "source": [
    "model_results['Coherence'].index(max(model_results['Coherence']))"
   ]
  },
  {
   "cell_type": "code",
   "execution_count": 263,
   "id": "638070cf",
   "metadata": {},
   "outputs": [
    {
     "data": {
      "text/plain": [
       "0.5041102124005132"
      ]
     },
     "execution_count": 263,
     "metadata": {},
     "output_type": "execute_result"
    }
   ],
   "source": [
    "max(model_results['Coherence'])"
   ]
  },
  {
   "cell_type": "code",
   "execution_count": 40,
   "id": "40ee9011",
   "metadata": {},
   "outputs": [
    {
     "data": {
      "text/plain": [
       "0.5026590257677488"
      ]
     },
     "execution_count": 40,
     "metadata": {},
     "output_type": "execute_result"
    }
   ],
   "source": [
    "max(model_results['Coherence'])"
   ]
  },
  {
   "cell_type": "code",
   "execution_count": 284,
   "id": "42b91dcc",
   "metadata": {},
   "outputs": [],
   "source": [
    "lda_model = gensim.models.ldamodel.LdaModel(corpus = gensim_corpus,\n",
    "                                            id2word = gensim_dictionary,\n",
    "                                            num_topics = 19,\n",
    "                                            random_state = 100,\n",
    "                                            update_every = 1,\n",
    "                                            chunksize = 100,\n",
    "                                            passes = 10,\n",
    "                                            alpha = \"auto\",\n",
    "                                            )"
   ]
  },
  {
   "cell_type": "markdown",
   "id": "ebf549c8",
   "metadata": {},
   "source": [
    "Jeg gemmer nu denne topic model."
   ]
  },
  {
   "cell_type": "code",
   "execution_count": 40,
   "id": "71334842",
   "metadata": {},
   "outputs": [],
   "source": [
    "#temp_file = datapath(\"LDA_1980_22_topics_simple_30_09_22_med_adv_random\")\n",
    "#lda_model.save(temp_file) #den er gemt en enkelt gang"
   ]
  },
  {
   "cell_type": "code",
   "execution_count": 41,
   "id": "808250c3",
   "metadata": {},
   "outputs": [],
   "source": [
    "lda_model = models.ldamodel.LdaModel.load(temp_file)"
   ]
  },
  {
   "cell_type": "code",
   "execution_count": 202,
   "id": "fd501893",
   "metadata": {},
   "outputs": [],
   "source": [
    "#lda_model.save(\"Modeller/1980_erne/LDA_1980_21_topics_simple_02_10_22_nummer_2_bedre\")"
   ]
  },
  {
   "cell_type": "code",
   "execution_count": 150,
   "id": "fb2c9a79",
   "metadata": {},
   "outputs": [],
   "source": [
    "#lda_model = models.ldamodel.LdaModel.load(\"Modeller/1980_erne/LDA_1980_23_topics_simple_02_10_22_nummer_2_bedre\")"
   ]
  },
  {
   "cell_type": "code",
   "execution_count": 223,
   "id": "ee0f7d7d",
   "metadata": {},
   "outputs": [],
   "source": [
    "lda_model.save(\"Modeller/1980_erne/LDA_1980_21_topics_simple_02_10_22_nummer_4_ikke_afgift\")"
   ]
  },
  {
   "cell_type": "code",
   "execution_count": null,
   "id": "ae578151",
   "metadata": {},
   "outputs": [],
   "source": [
    "#\"LDA_1980_23_topics_simple_30_09_22_med_adv_random\""
   ]
  },
  {
   "cell_type": "code",
   "execution_count": 32,
   "id": "02cf1a2d",
   "metadata": {},
   "outputs": [],
   "source": [
    "lda_model = models.ldamodel.LdaModel.load(\"Modeller/1980_erne/LDA_1980_23_topics_simple_02_10_22_nummer_2_bedre\")"
   ]
  },
  {
   "cell_type": "code",
   "execution_count": 33,
   "id": "d1fa1ef0",
   "metadata": {},
   "outputs": [
    {
     "name": "stdout",
     "output_type": "stream",
     "text": [
      "[(0,\n",
      "  '0.038*\"redegørelse\" + 0.021*\"område\" + 0.017*\"forskning\" + 0.017*\"mulighed\" '\n",
      "  '+ 0.016*\"behov\" + 0.016*\"støtte\" + 0.015*\"indsats\" + 0.014*\"projekt\" + '\n",
      "  '0.013*\"yde\" + 0.012*\"kvinde\"'),\n",
      " (1,\n",
      "  '0.069*\"udenrigsminister\" + 0.047*\"sovjetunionen\" + 0.030*\"sydafrika\" + '\n",
      "  '0.024*\"sanktion\" + 0.022*\"pol\" + 0.021*\"fn\" + 0.019*\"støtte\" + 0.018*\"vest\" '\n",
      "  '+ 0.018*\"situation\" + 0.018*\"usa\"'),\n",
      " (2,\n",
      "  '0.020*\"regering\" + 0.017*\"danmark\" + 0.015*\"spørgsmål\" + 0.013*\"ef\" + '\n",
      "  '0.012*\"give\" + 0.012*\"folketing\" + 0.011*\"ønske\" + 0.011*\"land\" + '\n",
      "  '0.010*\"dag\" + 0.009*\"side\"'),\n",
      " (3,\n",
      "  '0.049*\"land\" + 0.048*\"samarbejde\" + 0.035*\"udvikling\" + 0.017*\"arbejde\" + '\n",
      "  '0.015*\"danmark\" + 0.013*\"europa\" + 0.012*\"område\" + 0.010*\"år\" + '\n",
      "  '0.010*\"østeuropa\" + 0.010*\"initiativ\"'),\n",
      " (4,\n",
      "  '0.095*\"grønland\" + 0.054*\"fiskeri\" + 0.024*\"færøerne\" + 0.022*\"fisker\" + '\n",
      "  '0.021*\"kvote\" + 0.020*\"fiskeriminister\" + 0.019*\"bemyndigelse\" + 0.017*\"ef\" '\n",
      "  '+ 0.017*\"grønlands\" + 0.016*\"tredjeland\"'),\n",
      " (5,\n",
      "  '0.028*\"gå\" + 0.025*\"minister\" + 0.021*\"gerne\" + 0.021*\"tro\" + 0.021*\"altså\" '\n",
      "  '+ 0.020*\"ting\" + 0.019*\"hr.\" + 0.017*\"mene\" + 0.016*\"selvfølgelig\" + '\n",
      "  '0.014*\"gang\"'),\n",
      " (6,\n",
      "  '0.044*\"skrivelse\" + 0.044*\"afstemning\" + 0.042*\"sluttede_forhandlingen\" + '\n",
      "  '0.029*\"overgang\" + 0.028*\"stedfortræder\" + 0.028*\"behandling_vedtoges\" + '\n",
      "  '0.024*\"afstemning_lovforslagets\" + 0.021*\"vedtoges\" + 0.017*\"valg\" + '\n",
      "  '0.015*\"jf.\"'),\n",
      " (7,\n",
      "  '0.112*\"finanslov\" + 0.103*\"kr.\" + 0.067*\"mill._kr\" + 0.047*\"kommune\" + '\n",
      "  '0.047*\"mia_kr\" + 0.036*\"stat\" + 0.035*\"udgift\" + 0.035*\"finanslovforslag\" + '\n",
      "  '0.033*\"finansminister\" + 0.029*\"tilskud\"'),\n",
      " (8,\n",
      "  '0.465*\"hr.\" + 0.050*\"gade\" + 0.029*\"nørgaard\" + 0.021*\"bemærkning\" + '\n",
      "  '0.016*\"petersen\" + 0.015*\"steen_folke\" + 0.015*\"knud_lind\" + '\n",
      "  '0.014*\"nielsen\" + 0.013*\"kent_kirk\" + 0.013*\"dohrmann\"'),\n",
      " (9,\n",
      "  '0.214*\"afgift\" + 0.092*\"bil\" + 0.072*\"skatteminister\" + 0.047*\"statsborger\" '\n",
      "  '+ 0.034*\"trafik\" + 0.033*\"moms\" + 0.019*\"køre\" + 0.019*\"oppe\" + '\n",
      "  '0.016*\"duetoft\" + 0.016*\"spor\"'),\n",
      " (10,\n",
      "  '0.176*\"forslag\" + 0.029*\"ændringsforslag\" + 0.029*\"udvalg\" + 0.026*\"f._t\" + '\n",
      "  '0.023*\"behandling\" + 0.018*\"støtte\" + 0.018*\"sf\" + 0.017*\"beh.\" + '\n",
      "  '0.017*\"fremsætte\" + 0.015*\"benzin\"'),\n",
      " (11,\n",
      "  '0.036*\"år\" + 0.014*\"regering\" + 0.010*\"gennemføre\" + 0.010*\"stige\" + '\n",
      "  '0.010*\"samle\" + 0.009*\"mia._kr\" + 0.008*\"samfund\" + 0.008*\"del\" + '\n",
      "  '0.008*\"investering\" + 0.008*\"udgift\"'),\n",
      " (12,\n",
      "  '0.096*\"udenrigsminister\" + 0.061*\"kommission\" + 0.042*\"parlament\" + '\n",
      "  '0.029*\"markedsudvalget\" + 0.029*\"union\" + 0.024*\"traktat\" + '\n",
      "  '0.024*\"statsminister\" + 0.023*\"formandskab\" + 0.023*\"ef-pakken\" + '\n",
      "  '0.023*\"ministerråd\"'),\n",
      " (13,\n",
      "  '0.024*\"jylland\" + 0.020*\"hører_hjemme\" + 0.014*\"afslag\" + 0.012*\"dræning\" + '\n",
      "  '0.011*\"simonsen\" + 0.007*\"strandeng\" + 0.005*\"grønbog\" + '\n",
      "  '0.003*\"danmarks_naturfredningsforening\" + 0.003*\"ef-kommissio-_nens\" + '\n",
      "  '0.002*\"pilotprojekt\"'),\n",
      " (14,\n",
      "  '0.110*\"minister\" + 0.095*\"spørgsmål\" + 0.069*\"begrundelse\" + 0.059*\"svar\" + '\n",
      "  '0.055*\"s\" + 0.044*\"oplyse\" + 0.039*\"spm._nr\" + 0.033*\"skriftligt_besvarede\" '\n",
      "  '+ 0.023*\"besvarelse\" + 0.021*\"»\"'),\n",
      " (15,\n",
      "  '0.298*\"landbrug\" + 0.099*\"landmand\" + 0.076*\"landbrugsminister\" + '\n",
      "  '0.037*\"produktion\" + 0.034*\"erhverv\" + 0.029*\"landbrugspolitik\" + '\n",
      "  '0.012*\"bedrift\" + 0.012*\"strukturudvikling\" + 0.012*\"landbrugsproduktion\" + '\n",
      "  '0.011*\"rønholt\"'),\n",
      " (16,\n",
      "  '0.089*\"miljøminister\" + 0.053*\"miljø\" + 0.040*\"forurening\" + 0.022*\"affald\" '\n",
      "  '+ 0.020*\"dorte_bennedsen\" + 0.019*\"handlingsplan\" + 0.018*\"stålvalseværk\" + '\n",
      "  '0.017*\"natur\" + 0.016*\"industri\" + 0.016*\"miljøpolitik\"'),\n",
      " (17,\n",
      "  '0.144*\"virksomhed\" + 0.053*\"erhvervsliv\" + 0.042*\"marked\" + '\n",
      "  '0.031*\"industriminister\" + 0.028*\"forbruger\" + 0.026*\"selskab\" + '\n",
      "  '0.022*\"eksport\" + 0.021*\"produkt\" + 0.016*\"konkurrence\" + 0.015*\"skib\"'),\n",
      " (18,\n",
      "  '0.118*\"stof\" + 0.039*\"arbejdsminister\" + 0.039*\"arbejdstilsyn\" + '\n",
      "  '0.037*\"arbejdsmiljø\" + 0.026*\"mærkning\" + 0.023*\"produkt\" + 0.018*\"ton\" + '\n",
      "  '0.015*\"egn\" + 0.015*\"formel\" + 0.014*\"asbest\"'),\n",
      " (19,\n",
      "  '0.157*\"lovforslag\" + 0.130*\"lov\" + 0.085*\"forslag\" + 0.074*\"ændring\" + '\n",
      "  '0.049*\"nr.\" + 0.032*\"fremsætte\" + 0.028*\"behandling\" + 0.018*\"folketing\" + '\n",
      "  '0.016*\"foreslå\" + 0.015*\"m.v.\"'),\n",
      " (20,\n",
      "  '0.050*\"regel\" + 0.021*\"gælde\" + 0.018*\"bestemmelse\" + 0.017*\"direktiv\" + '\n",
      "  '0.016*\"lovgivning\" + 0.014*\"forbindelse\" + 0.013*\"gennemføre\" + '\n",
      "  '0.013*\"omfatte\" + 0.012*\"indeholde\" + 0.012*\"fastsætte\"'),\n",
      " (21,\n",
      "  '0.052*\"økonomiminister\" + 0.032*\"trafikminister\" + 0.022*\"bilgrav-nielsen\" '\n",
      "  '+ 0.019*\"afgiftsharmonisering\" + 0.017*\"ligegyldig\" + 0.012*\"hæftede_mig\" + '\n",
      "  '0.010*\"østrig\" + 0.010*\"risgaard_knudsen\" + 0.010*\"ef-retten\" + '\n",
      "  '0.009*\"hovedproblem\"'),\n",
      " (22,\n",
      "  '0.117*\"regering\" + 0.054*\"politik\" + 0.047*\"statsminister\" + '\n",
      "  '0.035*\"socialdemokrati\" + 0.020*\"år\" + 0.017*\"parti\" + 0.017*\"samfund\" + '\n",
      "  '0.013*\"situation\" + 0.013*\"føre\" + 0.013*\"arbejdsløshed\"')]\n"
     ]
    }
   ],
   "source": [
    "pprint(lda_model.show_topics(-1))"
   ]
  },
  {
   "cell_type": "markdown",
   "id": "429b69c3",
   "metadata": {},
   "source": [
    "### Tidligere model uden adverbier og med 17 topics"
   ]
  },
  {
   "cell_type": "code",
   "execution_count": 44,
   "id": "ccb08dc9",
   "metadata": {},
   "outputs": [],
   "source": [
    "#indlæsning af topic model lavet tidligere:\n",
    "#temp_file = datapath(\"LDA_1980_17_topics_simple_19_09_22\")\n",
    "#lda_model = models.ldamodel.LdaModel.load(temp_file)\n",
    "#pprint(lda_model.print_topics())"
   ]
  },
  {
   "cell_type": "code",
   "execution_count": null,
   "id": "667f5953",
   "metadata": {},
   "outputs": [],
   "source": [
    "#indlæsning af model 2 lavet tidligere 2 topics med adverbier\n",
    "#temp_file = datapath(\"LDA_1980_20_topics_simple_21_09_22_med_adv\")\n",
    "#lda_model = models.ldamodel.LdaModel.load(temp_file)"
   ]
  },
  {
   "cell_type": "code",
   "execution_count": null,
   "id": "7c995021",
   "metadata": {},
   "outputs": [],
   "source": [
    "#temp_file = datapath(\"LDA_1980_21_topics_simple_27_09_22_med_adv\")\n",
    "#lda_model.save(temp_file) #den er gemt en enkelt gang"
   ]
  },
  {
   "cell_type": "code",
   "execution_count": null,
   "id": "5cb19d76",
   "metadata": {},
   "outputs": [],
   "source": [
    "#temp_file = datapath(\"LDA_1980_18_topics_simple_28_09_22_med_adv\")\n",
    "#lda_model.save(temp_file) #den er gemt en enkelt gang"
   ]
  },
  {
   "cell_type": "code",
   "execution_count": null,
   "id": "5c9855bc",
   "metadata": {},
   "outputs": [],
   "source": [
    "#temp_file = datapath(\"LDA_1980_20_topics_simple_29_09_22_med_adv_random\")\n",
    "#lda_model.save(temp_file) #den er gemt en enkelt gang"
   ]
  },
  {
   "cell_type": "code",
   "execution_count": null,
   "id": "21e845a8",
   "metadata": {},
   "outputs": [],
   "source": [
    "#temp_file = datapath(\"LDA_1980_23_topics_simple_30_09_22_med_adv_random\")\n",
    "#lda_model.save(temp_file) #den er gemt en enkelt gang"
   ]
  },
  {
   "cell_type": "code",
   "execution_count": null,
   "id": "cc74b4a8",
   "metadata": {},
   "outputs": [],
   "source": [
    "#temp_file = datapath(\"LDA_1980_23_topics_simple_01_10_22_med_adv_random_1\")"
   ]
  },
  {
   "cell_type": "markdown",
   "id": "0bd793af",
   "metadata": {},
   "source": [
    "## Tildeling af emne til tekster"
   ]
  },
  {
   "cell_type": "code",
   "execution_count": 304,
   "id": "ee2bcb4b",
   "metadata": {},
   "outputs": [],
   "source": [
    "topics = []\n",
    "for index in range(len(data_lemmatized)):\n",
    "    sand_top = 0\n",
    "    best_topic = 0\n",
    "    bow = gensim_dictionary.doc2bow(data_lemmatized[index])\n",
    "    eu_tale_topic_distribution = lda_model.get_document_topics(bow)\n",
    "    for topic, sand in eu_tale_topic_distribution:\n",
    "        if sand > sand_top:\n",
    "            sand_top = sand\n",
    "            best_topic = topic\n",
    "    topics.append(best_topic)"
   ]
  },
  {
   "cell_type": "code",
   "execution_count": 305,
   "id": "63965cf6",
   "metadata": {},
   "outputs": [],
   "source": [
    "def count_topics(topics, antal_topics):\n",
    "    forskellige_topics = [i for i in range(antal_topics)]\n",
    "    antal_af_hver_topic = [0 for i in range(antal_topics)]\n",
    "    for topic in topics:\n",
    "        antal_af_hver_topic[topic] += 1\n",
    "    return [forskellige_topics, antal_af_hver_topic]"
   ]
  },
  {
   "cell_type": "code",
   "execution_count": 306,
   "id": "0baa34e9",
   "metadata": {},
   "outputs": [],
   "source": [
    "resultat = count_topics(topics, 23)"
   ]
  },
  {
   "cell_type": "code",
   "execution_count": 307,
   "id": "85ea5550",
   "metadata": {},
   "outputs": [
    {
     "name": "stdout",
     "output_type": "stream",
     "text": [
      "Topic 0: 80\n",
      "Topic 1: 2\n",
      "Topic 2: 4904\n",
      "Topic 3: 179\n",
      "Topic 4: 9\n",
      "Topic 5: 703\n",
      "Topic 6: 9\n",
      "Topic 7: 5\n",
      "Topic 8: 0\n",
      "Topic 9: 1\n",
      "Topic 10: 17\n",
      "Topic 11: 181\n",
      "Topic 12: 4\n",
      "Topic 13: 0\n",
      "Topic 14: 29\n",
      "Topic 15: 1\n",
      "Topic 16: 0\n",
      "Topic 17: 1\n",
      "Topic 18: 3\n",
      "Topic 19: 200\n",
      "Topic 20: 307\n",
      "Topic 21: 0\n",
      "Topic 22: 1\n"
     ]
    }
   ],
   "source": [
    "for topic in resultat[0]:\n",
    "    print(f\"Topic {topic}: {resultat[1][topic]}\")"
   ]
  },
  {
   "cell_type": "markdown",
   "id": "9134d997",
   "metadata": {},
   "source": [
    "### Undersøgelse af topic 1: "
   ]
  },
  {
   "cell_type": "code",
   "execution_count": 63,
   "id": "60502570",
   "metadata": {},
   "outputs": [],
   "source": [
    "topics_1 = []\n",
    "topics_1_sand = []\n",
    "for index in range(len(data_lemmatized)):\n",
    "    sand_top = 0\n",
    "    best_topic = 0\n",
    "    bow = gensim_dictionary.doc2bow(data_lemmatized[index])\n",
    "    eu_tale_topic_distribution = lda_model.get_document_topics(bow)\n",
    "    for topic, sand in eu_tale_topic_distribution:\n",
    "        if topic == 1:\n",
    "            topics_1.append(index)\n",
    "            topics_1_sand.append(sand)\n",
    "    topics.append(best_topic)"
   ]
  },
  {
   "cell_type": "code",
   "execution_count": 64,
   "id": "b2f10b73",
   "metadata": {},
   "outputs": [
    {
     "data": {
      "text/plain": [
       "[]"
      ]
     },
     "execution_count": 64,
     "metadata": {},
     "output_type": "execute_result"
    }
   ],
   "source": [
    "topics_1"
   ]
  },
  {
   "cell_type": "code",
   "execution_count": 65,
   "id": "8dacd899",
   "metadata": {},
   "outputs": [
    {
     "name": "stdout",
     "output_type": "stream",
     "text": [
      "Lone Dybkjær (RV):\n",
      "(RV)\n",
      "1986\n"
     ]
    },
    {
     "data": {
      "text/plain": [
       "' Jeg vil godt benytte lejligheden til at takke SF, fordi partiet har givet anledning til denne debat. I virkeligheden diskuterer vi jo de internationale perspektiver alt for lidt, når vi diskuterer miljøproblemer i al almindelighed. Hvis ikke vi gør noget internationalt, kan det egentlig være relativt - i hvert fald i global sammenhæng - ligegyldigt, hvad vi gør her i landet. Jeg siger det også, fordi ministeren i sit indlæg siger, at regeringens prioritering sker med udgangspunkt i, at indsatsen skal være størst dér, hvor vi får de mest umiddelbare resultater for vort hjemlige miljø. Det er jeg nok fundamentalt ikke enig i. Jeg er ikke sikker på, at regeringens indsats skal være præcis dér, hvor vi får de største resultater for det hjemlige miljø. Jeg synes, at Danmark burde gå i spidsen og sige, at det, det drejer sig om, når det drejer sig om det internationale samarbejde, er, at vi skal lave indsatsen dér, hvor der globalt set er størst behov. Det er en anelse generende at tale til en minister, der med et mildt ord ikke hører efter, men nu tog jeg udgangspunkt i ministerens egne ord, også for at pointere, at jeg synes, det, regeringen skal gøre, er at gøre en indsats dér, hvor der er størst trusler mod det globale miljø, og derfor mener jeg, at det er en helt anden indgangsvinkel, vi skal have, når vi diskuterer, hvad det er for et internationalt samarbejde, vi skal deltage i. Jeg synes, det i meget. høj grad er dér, vi er nødt til at lægge vore kræfter. Det hjælper ikke ret meget, at vi gør en indsats, der er god for Danmark, hvis så ozonlaget f.eks. bliver ødelagt undervejs eller der sker så alvorlige klimaændringer i det hele taget på jordkloden, at vi ikke kan overleve globalt set. I virkeligheden er det det helt afgørende, når vi diskuterer de internationale problemer. Hvis vi skal lave en prioritering på et tidspunkt her i landet, bør det være det, der er det overordnede mål. Så vil jeg godt sige om det næste afgørende punkt, at her er jeg helt enig i det, fru Margrete Auken har sagt: at det drejer sig om, hvorvidt man vil lave noget aktivt eller noget passivt. Det er ikke nok, at vi bare på en eller anden passiv facon deltager i det internationale arbejde; det afgørende er, at vi selv laver et meget stort hjemmearbejde, og her synes jeg nok, man kan spørge, om ikke vi kunne sætte nogle flere ressourcer af, prioritere det lidt højere, sådan at vi har dette hjemmearbejde klar. Jeg tror, at det drejer sig om dels en bedre koordinering, dels en bedre indsats, dels en større samordning og dels en alment højere prioritering, således at man også rent arbejdsmæssigt føler, at man får noget ud af at beskæftige sig med det internationale samarbejde og ikke blot bliver sat på et sidespor i forbindelse med den udvikling, der i øvrigt foregår i ministeriet. Og når det er sagt, tror jeg også det er vigtigt, at de delegationer, vi sender af sted, har noget forhandlingsekspertise plus noget tek- nisk-videnskabelig ekspertise, ikke alene fordi det vil sikre nogle bedre resultater, men også fordi det vil sikre, at vi måske i højere 6775 10/2 87: Forespørgsel om det internationale miljøarbejde 6776 [Lone Dybkjær] grad får spredt viden om, hvad der foregår i det internationale miljø, til andre end bare dem, der deltager i forhandlingerne. Jeg synes lidt mere generelt, at problemerne med det internationale samarbejde er, at informationerne meget ofte stopper ved forhandlerne. Det viser sig erfaringsmæssigt, at det er svært at sprede viden om, hvad der foregår internationalt, hvis ikke man på en eller anden måde har nogle personer med tilknytning til systemet. Jeg er godt klar over, at det er der i en lang række sammenhænge, men alligevel er spørgsmålet, om vi ikke godt kunne gøre noget mere. Perspektivet bør, som jeg sagde, være præget af den grundholdning, at vi ikke bare kan fortsætte, som vi gør. Jorden kan ikke overleve, hvis vi blot fortsætter. Når det er så vigtigt, at Danmark går i spidsen, er det, fordi vi har et overskud - selv om vi skal tænke på økonomien - som andre lande ikke har. Vi har sådan set en basisøkonomi her i landet, der gør, at vi godt kan satse på det internationale samarbejde. Vi kan godt tillade os at gå i spidsen for det. Det er den ene grund. Den anden grund til, at vi skal gøre det, er, at vi med det udgangspunkt har mulighed for en påvirkning, og her er det selvfølgelig vigtigt, at vi navnlig i EF-sammenhæng gør noget, men det gælder også i andre sammenhænge, og dér synes jeg, at svovlforurenings- diskussionen var et meget godt eksempel på, at vi kunne påvirke, fordi vi selv havde lavet noget på hjemmefronten. Det mener jeg vi skal fortsætte med, og derfor er der ikke noget med, at vi kun skal ligge i hælene på, hvad andre lande gør, vi skal faktisk gå i spidsen. Hvis vi så skal kigge bredt på områderne og ikke gå ind i konventionerne, som nogle har gjort, vil jeg sige, at det helt afgørende, som vi diskuterer i forbindelse med energidebatten, men som vi også bør diskutere i forbindelse med miljødebatterne, naturligvis er hele energiområdet. Så vidt jeg mindes, hørte jeg ikke ordet »energi« nævnt, i hvert fald kun meget indirekte i miljøministerens tale, men jeg tror faktisk, det er vigtigt, at vi får også energi sat meget højt op, når vi diskuterer miljøproblemer, lige så vel som vi bør sætte miljø meget højt op, når vi diskuterer energiproblemer; en sammenkobling af de to er nok det mest relevante, der kan ske inden for begge områder, hvis ikke vi skal ødelægge Jorden. Så synes jeg, det er vigtigt også at få taget hul på det princip, vi har anvendt her i landet i forbindelse med miljølovgivninger af forskellige slags, nemlig fortyndingsprincip- pet og spredningsprincippet, for i virkeligheden er det jo det, vi må sige ikke holder. Vi er jo nogle, der har kigget på jordkloden hele tiden som det, den er, men alligevel har man jo tilladt sig at sige, at bare vi smider svovlen højt nok op i luften, ja, så går det nok; at den så falder ned i Sverige er ikke vores problem. Og vi har jo også tilladt os at sige, at havet kunne modtage alting, bare der ikke kom for meget af det, og det er rigtigt til en vis grænse, men det er bestemt ikke rigtigt, når vi har 5 milliarder eller flere mennesker på jordkloden. Dér holder principperne om fortynding og spredning ikke, og det kan vi lige så godt tage ind allerede nu i de internationale diskussioner. Det fører selvfølgelig til, at de reguleringsaftaler, som vi kommer til at lave globalt set, nødvendigvis bliver strammere og strammere. Vi vil aldrig kunne gardere os imod, at der sker uheld. Det vil yære ønskeligt, at vi ikke får Rhinen-uheld, og at vi ikke får den almindelige tilsvining, men jeg tror, vi skal gøre os klart, at selvfølgelig vil der ske nogle uheld af den type, altså i form af nogle udslip. Det afgørende i denne sammenhæng er, at disse udslip ikke er katastrofalt farlige, og at vi i øvrigt har en tilstand, der kan tillade uheld. Det, vi må konstatere i samarbejdet, sådan som det ser ud i dag globalt set, er, at vi stort set ikke kan tillade os nogen uheld, uden at det går helt galt i nogle områder, og derfor skal vi altså længere ned, end vi er, hvis vi skal kunne klare også nogle uheld. Så var der spørgsmålet om reguleringsafta- lerne. Der er nogle af ordførerne, der har været inde på spørgsmålet om Tjernobyl, og dér må man sige, at det nye i forbindelse med Tjernobyl er jo ikke regulering, men etablering. Det er det, der er afgørende. Kan vi i virkeligheden tillade en række virksomheder at blive etableret? Vi er nogle, der mener, at atomkraft i virkeligheden ikke bør etableres nogen steder, og Tjernobyl var jo et meget godt eksempel på, at næsten uanset hvor langt væk det bliver etableret, går det ud over os. Derfor bør også også i forbindelse 6777 10/2 87: Forespørgsel om det internationale miljøarbejde 6778 [Lone Dybkjær] med de internationale diskussioner nu i højere grad indgå ordet »etablering«, end det har gjort før. Det har jo stort set været sådan, at man har regnet med den nationale selvstændighed på disse felter, men det mener jeg ikke holder. Ordet »etablering« skal i virkeligheden indgå på linje med alle de regule- ringsbestemmelser, som vi i øvrigt indfører. Så vil jeg godt som slutbemærkning sige, at jeg synes, det er meget vigtigt, at vi også i forbindelse med det internationale samarbejder kigger på de internationale organisationer, som vi under den ene, anden eller tredje form bevilger penge til. Her kunne man godt nævne en enkelt i øvrigt på nogle punkter i hvert fald udmærket institution som World Bank og så spørge sig selv om, hvor meget økologisk, miljømæssig ekspertise en sådan institution egentlig har. Jeg har fået nogle katastrofalt lave tal oplyst, og de er så lave, at jeg ikke vil være bekendt at nævne dem, for de kan næsten ikke være rigtige. Jeg synes i virkeligheden, at vi burde bede ministeren om at undersøge, hvad der i nogle af alle de institutioner, som Danmark bidrager til - World Bank og en hel masse af de andre - egentlig er ansat af økologisk ekspertise. Er vi sikre på, at vi får varetaget de miljømæssige synspunkter særlig godt i disse institutioner? Min mistanke er, at der ikke er ret mange ansatte, og derfor synes jeg godt, man kunne opfordre til, at vi fik nogle flere miljøpersoner ansat i nogle af de institutioner, der i øvrigt varetager økonomiske interesser. Men udgangspunktet for arbejdet skal være - det skal være min sidste bemærkning - at det handler ikke blot om at prioritere indsatsen dér, hvor det gavner det hjemlige miljø mest. Det drejer sig om at prioritere dér, hvor der virkelig er tale om risiko for den globale overlevelse, og de to ting behøver ikke at være sammenfaldende. Er de sammenfaldende, er det fint, men de behøver ikke at være sammenhængende, og dér er det jordklodens overlevelse, vi skal prioritere, ikke vores egen.'"
      ]
     },
     "execution_count": 65,
     "metadata": {},
     "output_type": "execute_result"
    }
   ],
   "source": [
    "print(Alle_taler_taler[3687])\n",
    "print(Alle_taler_parti[3687])\n",
    "print(Alle_taler_år[3687])\n",
    "Alle_taler[3687]"
   ]
  },
  {
   "cell_type": "markdown",
   "id": "97c9d154",
   "metadata": {},
   "source": [
    "## Generelt semantically opague:\n",
    "Topics 13 og 21:"
   ]
  },
  {
   "cell_type": "markdown",
   "id": "158996ed",
   "metadata": {},
   "source": [
    "### Topic 13"
   ]
  },
  {
   "cell_type": "code",
   "execution_count": 553,
   "id": "6b386f2a",
   "metadata": {},
   "outputs": [
    {
     "data": {
      "text/plain": [
       "67"
      ]
     },
     "execution_count": 553,
     "metadata": {},
     "output_type": "execute_result"
    }
   ],
   "source": [
    "topics_13 = []\n",
    "topics_13_sand = []\n",
    "for index in range(len(data_lemmatized)):\n",
    "    bow = gensim_dictionary.doc2bow(data_lemmatized[index])\n",
    "    eu_tale_topic_distribution = lda_model.get_document_topics(bow)\n",
    "    for topic, sand in eu_tale_topic_distribution:\n",
    "        if topic == 13:\n",
    "            topics_13.append(index)\n",
    "            topics_13_sand.append(sand)\n",
    "    topics.append(best_topic)\n",
    "len(topics_13)"
   ]
  },
  {
   "cell_type": "code",
   "execution_count": 555,
   "id": "697769e6",
   "metadata": {},
   "outputs": [
    {
     "data": {
      "text/plain": [
       "3"
      ]
     },
     "execution_count": 555,
     "metadata": {},
     "output_type": "execute_result"
    }
   ],
   "source": [
    "topics_13_høj_sand = [topics_13[i] for i in range(len(topics_13)) if topics_13_sand[i]>0.05]\n",
    "len(topics_13_høj_sand)"
   ]
  },
  {
   "cell_type": "code",
   "execution_count": 559,
   "id": "fc8944c4",
   "metadata": {},
   "outputs": [
    {
     "name": "stdout",
     "output_type": "stream",
     "text": [
      "1986\n",
      "Sønderby (V):\n",
      "(V)\n",
      " Til hr. Albrechtsen skal jeg sige ganske kort, at i EF arbejder man med miljøproblemerne og det handlingsprogram, der ligger: bekæmpelse af luftforurening, bekæmpelse af havforurening, overvågning af bioteknologisk udvikling. Der står også: en tilpasning af landbrugsproduktionen til miljøbevarelsen. Jeg har i øvrigt svaret, at hvis vi kan løse det i EF-regi, så løser vi også nogle af problemerne i forbindelse med konkurrencen, Jeg vil gerne sige til hr. Albrechtsen, at vi da kan være interesserede i internationale 2387 18/11 86: Forespørgsel om forureningstilstanden i de danske vandløb og søer m.v. 2388 [Sønderby] standarder og regler osv. om, hvor meget der må være i de forskellige udledninger, men det er ikke noget, vi fastsætter ved en debat i Folketinget. Det er noget, ministeren gør i forbindelse med møder på et højere plan. Hr. Løvig Simonsen sagde, at jeg ikke kendte noget til Friluftsrådet. Jo, jeg kender det til Friluftsrådet, at når jeg er ude at diskutere med hr. Løvig Simonsen, så er dét på et sagligt plan, men så snart hr. Løvig Simonsen kommer herind, så ryger det op på et plan, hvor man måske - nå, jeg siger ikke mere. Må jeg sige som et svar på, om vi vil lempe kommunernes investeringsrammer, at det er et lovforslag, der skal behandles bagefter, så jeg synes, hr. Løvig Simonsen skal høre den debat, der kommer. Dér vil hr. Løvig Simonsen nok høre, hvordan vi klarer dette med kommunerne. Jeg har sagt, at om fornødent kan der laves lovgivning for at nedbringe forbruget af handelsgødning, men jeg har sagt, hr. Løvig Simonsen, at uanset om man vil kalde Venstre et bondeparti eller andet, hvad fru Pia Kjærsgaard var ved, så har jeg personligt en tro på - det tror jeg også Venstres gruppe har - at det erhverv er så miljøbevidst i kraft af, at det lever ude i miljøet, at det selv finder ud af, hvordan man begrænser det, uden lovgivning. Men hvis ikke det sker, så vil vi selvfølgelig støtte det, regeringen fremlægger. Ja, det var fru Pia Kjærsgaard, der talte om bondepartiet Venstre osv. Jeg synes, jeg har brugt meget lidt af min tid på et bestemt erhverv. Jeg har sagt, at hvis disse miljøproblemer skal løses, skal der ske en holdningsændring i hele den danske befolkning, så den siger: vi vil være med til at løse dem, og der skal ikke pilles nogle ganske bestemte grupper ud. Alle skal være med til at bære det, også landbruget.\n"
     ]
    }
   ],
   "source": [
    "random_tal= randint(0, len(topics_13_høj_sand)-1)\n",
    "random_index = topics_13_høj_sand[random_tal]\n",
    "print(Alle_taler_år[random_index])\n",
    "print(Alle_taler_taler[random_index])\n",
    "print(Alle_taler_parti[random_index])\n",
    "print(Alle_taler[random_index])"
   ]
  },
  {
   "cell_type": "markdown",
   "id": "38cbce7b",
   "metadata": {},
   "source": [
    "### Topic 21:"
   ]
  },
  {
   "cell_type": "code",
   "execution_count": 560,
   "id": "c5a89989",
   "metadata": {},
   "outputs": [
    {
     "data": {
      "text/plain": [
       "180"
      ]
     },
     "execution_count": 560,
     "metadata": {},
     "output_type": "execute_result"
    }
   ],
   "source": [
    "topics_21 = []\n",
    "topics_21_sand = []\n",
    "for index in range(len(gensim_corpus)):\n",
    "    bow = gensim_dictionary.doc2bow(data_lemmatized[index])\n",
    "    eu_tale_topic_distribution = lda_model.get_document_topics(bow)\n",
    "    for topic, sand in eu_tale_topic_distribution:\n",
    "        if topic == 21:\n",
    "            topics_21.append(index)\n",
    "            topics_21_sand.append(sand)\n",
    "    topics.append(best_topic)\n",
    "len(topics_21)"
   ]
  },
  {
   "cell_type": "code",
   "execution_count": 561,
   "id": "5ab52b74",
   "metadata": {},
   "outputs": [
    {
     "data": {
      "text/plain": [
       "13"
      ]
     },
     "execution_count": 561,
     "metadata": {},
     "output_type": "execute_result"
    }
   ],
   "source": [
    "topics_21_høj_sand = [topics_21[i] for i in range(len(topics_21)) if topics_21_sand[i]>0.05]\n",
    "len(topics_21_høj_sand)"
   ]
  },
  {
   "cell_type": "code",
   "execution_count": 580,
   "id": "d0ae9eda",
   "metadata": {},
   "outputs": [
    {
     "name": "stdout",
     "output_type": "stream",
     "text": [
      "1988\n",
      "Gade (SF):\n",
      "(SF)\n",
      " Jeg vil gerne takke økonomiministeren for svaret vedrørende afgiftsharmonisering. Jeg synes, det er helt udmærket, at vismændene af egen drift går i gang med at lave en undersøgelse omkring afgiftsharmonisering. Det var ikke det eneste, vi mente en hvidbog skulle beskæftige sig med; vi kan tage diskussionen i folketingssalen, for vi vil fremsætte forslaget her. 291 6/10 88: Åbningsdebat 292 [Gade] Men jeg vil godt understrege, at den anden del jo handlede om det, som vi i øvrigt også har fået belyst i dag, nemlig at der måske er for lidt forberedelse i Danmark, der er sat for lidt fokus på, hvordan det private erhvervsliv forbereder sig, hvordan man laver en strategi for at finde mulighederne i forbindelse med det indre marked. Så vil jeg sige til økonomiministeren, at han da skal have lidt ros for svaret. Også De Radikale har fået så meget skældud i dag. Jeg vil da mene, at her var et svar, hvor vi var på hjemmebane igen. Det var en radikal minister, der var heroppe, for på den ene side skulle økonomiministeren sige det samme, som han sagde i Markedsudvalget før Kretamødet, på den anden side skulle han stå inde for det, som statsministeren sagde i sin åbningstale. Og se, det er en sand opgave for en radikal. Og da vi nok ikke får større klarhed over sagen, vil jeg sige, at økonomiministeren klarede denne radikale prøve med bravour: lidt på den ene side og lidt på den anden side, og vi står fast på det, vi altid har stået fast på, men vi har også ændret det lidt, fordi det ser jo lidt anderledes ud, end det gjorde for en uge siden eller deromkring. Klart svar! Debatten om afgiftsharmoniseringer i dag havde tjent lidt ved, at statsministeren - jeg kan selvfølgelig godt se, at det nok er et krav, der ikke er realistisk - var stået frem og havde sagt om det, man sagde, før vi stemte om EF-pak- ken, nemlig at hvidbogen ikke sætter spørgsmålstegn ved en fastholdelse af det danske afgiftssystem - det var det, der blev svaret fra skatteministerens side dengang - at på grund af presset fra EF og EF-landene, efter at EF-pak- ken er vedtaget, er det faktisk en realitet. Ved EF-pakken og beslutningen og dynamikken, den satte i gang, er der faktisk sat spørgsmålstegn ved fastholdelse af det danske afgiftssystem. For sådan er det jo, men det er jo ikke altid, at man kan sige det i politik, må man konstatere. Jeg synes, det skal siges i denne debat, at det i dag er blevet påvist, at det, der blev sagt før afstemningen om EF-pakken, faktisk ikke stod til troende.\n"
     ]
    }
   ],
   "source": [
    "random_tal= randint(0, len(topics_21_høj_sand)-1)\n",
    "random_index = topics_21_høj_sand[random_tal]\n",
    "print(Alle_taler_år[random_index])\n",
    "print(Alle_taler_taler[random_index])\n",
    "print(Alle_taler_parti[random_index])\n",
    "print(Alle_taler[random_index])"
   ]
  },
  {
   "cell_type": "markdown",
   "id": "dcd8ed3c",
   "metadata": {},
   "source": [
    "### Fiskeri og Grønland"
   ]
  },
  {
   "cell_type": "code",
   "execution_count": 50,
   "id": "9409f00c",
   "metadata": {},
   "outputs": [],
   "source": [
    "topics_fiskeri = []\n",
    "topics_fiskeri_sand = []\n",
    "for index in range(len(Alle_taler)):\n",
    "    sand_top = 0\n",
    "    best_topic = 0\n",
    "    eu_tale_topic_distribution = lda_model.get_document_topics(gensim_dictionary.doc2bow(data_lemmatized[index]))\n",
    "    for topic, sand in eu_tale_topic_distribution:\n",
    "        if topic == 4:\n",
    "            topics_fiskeri.append(index)\n",
    "            topics_fiskeri_sand.append(sand)"
   ]
  },
  {
   "cell_type": "code",
   "execution_count": 51,
   "id": "56b12d0e",
   "metadata": {},
   "outputs": [
    {
     "data": {
      "text/plain": [
       "1207"
      ]
     },
     "execution_count": 51,
     "metadata": {},
     "output_type": "execute_result"
    }
   ],
   "source": [
    "len(topics_fiskeri_sand)"
   ]
  },
  {
   "cell_type": "code",
   "execution_count": 52,
   "id": "90bdfb91",
   "metadata": {},
   "outputs": [
    {
     "data": {
      "text/plain": [
       "1207"
      ]
     },
     "execution_count": 52,
     "metadata": {},
     "output_type": "execute_result"
    }
   ],
   "source": [
    "len(topics_fiskeri)"
   ]
  },
  {
   "cell_type": "code",
   "execution_count": 54,
   "id": "b8f910d4",
   "metadata": {},
   "outputs": [
    {
     "data": {
      "text/plain": [
       "1187"
      ]
     },
     "execution_count": 54,
     "metadata": {},
     "output_type": "execute_result"
    }
   ],
   "source": [
    "topics_fiskeri_sand.index(min(topics_fiskeri_sand))"
   ]
  },
  {
   "cell_type": "code",
   "execution_count": 55,
   "id": "bf646aee",
   "metadata": {},
   "outputs": [],
   "source": [
    "topics_fiskeri_høj_sand = [topics_fiskeri[i] for i in range(len(topics_fiskeri)) if topics_fiskeri_sand[i]>0.1]"
   ]
  },
  {
   "cell_type": "code",
   "execution_count": 56,
   "id": "d536260c",
   "metadata": {},
   "outputs": [
    {
     "data": {
      "text/plain": [
       "233"
      ]
     },
     "execution_count": 56,
     "metadata": {},
     "output_type": "execute_result"
    }
   ],
   "source": [
    "len(topics_fiskeri_høj_sand)"
   ]
  },
  {
   "cell_type": "code",
   "execution_count": 57,
   "id": "2d86245b",
   "metadata": {},
   "outputs": [
    {
     "data": {
      "text/plain": [
       "233"
      ]
     },
     "execution_count": 57,
     "metadata": {},
     "output_type": "execute_result"
    }
   ],
   "source": [
    "len(topics_fiskeri_høj_sand)"
   ]
  },
  {
   "cell_type": "code",
   "execution_count": 59,
   "id": "a4417547",
   "metadata": {},
   "outputs": [],
   "source": [
    "fiskeri_ef_år = [Alle_taler_år[index] for index in topics_fiskeri]"
   ]
  },
  {
   "cell_type": "code",
   "execution_count": 60,
   "id": "c49bd7ed",
   "metadata": {},
   "outputs": [
    {
     "data": {
      "text/plain": [
       "['1980',\n",
       " '1981',\n",
       " '1982',\n",
       " '1983',\n",
       " '1984',\n",
       " '1985',\n",
       " '1986',\n",
       " '1987',\n",
       " '1988',\n",
       " '1989']"
      ]
     },
     "execution_count": 60,
     "metadata": {},
     "output_type": "execute_result"
    }
   ],
   "source": [
    "år_1980erne = list(set(fiskeri_ef_år))\n",
    "år_1980erne.sort()\n",
    "år_1980erne"
   ]
  },
  {
   "cell_type": "code",
   "execution_count": 61,
   "id": "947116a1",
   "metadata": {},
   "outputs": [],
   "source": [
    "folketingsår = [str(80 + i) + \"/\" + str(80 + i + 1) for i in range(10)]"
   ]
  },
  {
   "cell_type": "code",
   "execution_count": 62,
   "id": "7af3cd39",
   "metadata": {},
   "outputs": [
    {
     "data": {
      "text/plain": [
       "['80/81',\n",
       " '81/82',\n",
       " '82/83',\n",
       " '83/84',\n",
       " '84/85',\n",
       " '85/86',\n",
       " '86/87',\n",
       " '87/88',\n",
       " '88/89',\n",
       " '89/90']"
      ]
     },
     "execution_count": 62,
     "metadata": {},
     "output_type": "execute_result"
    }
   ],
   "source": [
    "folketingsår"
   ]
  },
  {
   "cell_type": "code",
   "execution_count": 63,
   "id": "03059826",
   "metadata": {},
   "outputs": [],
   "source": [
    "antal_taler_1980eren_fiskeri = []\n",
    "for år in år_1980erne:\n",
    "    antal_taler_1980eren_fiskeri.append(fiskeri_ef_år.count(år))"
   ]
  },
  {
   "cell_type": "code",
   "execution_count": 64,
   "id": "1db64cdd",
   "metadata": {},
   "outputs": [
    {
     "data": {
      "text/plain": [
       "[110, 163, 105, 145, 60, 113, 115, 108, 128, 160]"
      ]
     },
     "execution_count": 64,
     "metadata": {},
     "output_type": "execute_result"
    }
   ],
   "source": [
    "antal_taler_1980eren_fiskeri"
   ]
  },
  {
   "cell_type": "code",
   "execution_count": 65,
   "id": "32623b72",
   "metadata": {},
   "outputs": [],
   "source": [
    "fiskeri_andel = [antal_taler_1980eren_fiskeri[i]/antal_taler_år[i] for i in range(10)]"
   ]
  },
  {
   "cell_type": "code",
   "execution_count": 68,
   "id": "8ab6a90a",
   "metadata": {},
   "outputs": [
    {
     "data": {
      "image/png": "[encoded data removed]",
      "text/plain": [
       "<Figure size 432x288 with 2 Axes>"
      ]
     },
     "metadata": {
      "needs_background": "light"
     },
     "output_type": "display_data"
    }
   ],
   "source": [
    "fig, (ax1, ax2) = plt.subplots(2, 1)\n",
    "ax1.set_title(\"Andel af ft-taler der nævner EF relateret til topic 4(Fiskeri)\")\n",
    "ax1.plot(folketingsår, fiskeri_andel)\n",
    "ax1.set_ylim([0, 0.3])\n",
    "ax2.set_title(\"Antal af ft-taler der nævner EF relateret til topic 4(Fiskeri)\")\n",
    "ax2.bar(folketingsår, antal_taler_1980eren_fiskeri)\n",
    "fig.tight_layout(pad=1.0)\n",
    "fig.savefig(\"plots/1980_erne/Andel_af_folketingstaler_der_nævner_EF relateret_til_topic_4\")"
   ]
  },
  {
   "cell_type": "code",
   "execution_count": 534,
   "id": "0bb1dcbd",
   "metadata": {},
   "outputs": [
    {
     "data": {
      "text/plain": [
       "<BarContainer object of 10 artists>"
      ]
     },
     "execution_count": 534,
     "metadata": {},
     "output_type": "execute_result"
    },
    {
     "data": {
      "image/png": "[encoded data removed]",
      "text/plain": [
       "<Figure size 432x288 with 1 Axes>"
      ]
     },
     "metadata": {
      "needs_background": "light"
     },
     "output_type": "display_data"
    }
   ],
   "source": [
    "fig, ax = plt.subplots()\n",
    "ax.bar(år_1980erne, antal_taler_1980eren_fiskeri)"
   ]
  },
  {
   "cell_type": "markdown",
   "id": "25d5ded9",
   "metadata": {},
   "source": [
    "### Grønland 1986/1987"
   ]
  },
  {
   "cell_type": "code",
   "execution_count": 442,
   "id": "c8dd0619",
   "metadata": {},
   "outputs": [],
   "source": [
    "Grønland_taler_høj_1986 = [i for i in topics_fiskeri_høj_sand if Alle_taler_år[i] == \"1986\"]"
   ]
  },
  {
   "cell_type": "code",
   "execution_count": 443,
   "id": "57ce628d",
   "metadata": {},
   "outputs": [
    {
     "data": {
      "text/plain": [
       "19"
      ]
     },
     "execution_count": 443,
     "metadata": {},
     "output_type": "execute_result"
    }
   ],
   "source": [
    "len(Grønland_taler_høj_1986)"
   ]
  },
  {
   "cell_type": "code",
   "execution_count": 447,
   "id": "c45291f1",
   "metadata": {},
   "outputs": [
    {
     "name": "stdout",
     "output_type": "stream",
     "text": [
      "1986\n",
      "Regeringen\n",
      "Fiskeriministeren (Gammelgaard):\n",
      " Jeg tillader mig herved for det høje Ting at fremsætte: Forslag til lov om støtte til visse strukturforanstaltninger inden for fiskeriet m.v. (Lovforslag nr. L 200). EFs ministerråd vedtog den 18. december 1986 Det Europæiske Økonomiske Fællesskabs forordning nr. 4028/86 om fællesskabsforanstaltninger til forbedring og tilpasning af fiskeri- og akvakulturstrukturerne. Denne strukturforordning indeholder mulighed for at opnå fællesskabsstøtte til omstrukturering og fornyelse af fiskerflåden, modernisering af fiskerflåden, opdræt, forsøgsfiskeri, fællesforetagender, ophør, midlertidig oplægning, fiskerihavnes faciliteter, markeds- prospektering og specifikke foranstaltninger. Efter forhandling med fiskerierhvervet og med udgangspunkt i den danske fiskerisektors situation og fremtid giver lovforslaget adgang til umiddelbart i Danmark at anvende strukturforordningens støttemuligheder for ophør, modernisering af fiskerflåden, om- strukturering og fornyelse af fiskerflåden, forsøgsfiskeri og opdræt. Lovforslaget vil bidrage til en hensigtsmæssig udvikling af den danske fiskerisektor og sikre et produktionsapparat, der er både kvalitativt og kvantitativt afstemt efter fiskerimulighederne, samt styrke muligheden for at bevare dansk fiskeris førende position. Ved anvendelsen af lovforslagets bestemm'elser vil der blive draget omsorg for, at den bredde og alsidighed, der er karakteristisk for dansk erhvervsfiskeri med små og store fartøjer, bevares. Endvidere vil den geografiske spredning over mange både store og små fiskerisamfund bliye søgt styrket. Lovforslagets bestemmelser om ophør har til formål at tilpasse den danske fiskerflådes kapacitet til fangstmulighederne. Ophørsordningen giver mulighed for at fremme, at navnlig ældre, særligt energiforbrugende eller urentable fartøjer udtages af dansk erhvervsfiskeri. Lovforslagets bestemmelser om modernisering giver en lang række små og store fartøjer mulighed for at opnå støtte til at modernisere deres fiskeriudrustning og dermed for at konsolidere deres fremtidige virke til gavn for fiskerisektoren. Støtten til omstrukturering og fornyelse sikrer, at de danske fiskere, som opnår tilladelse til at drive erhvervsfiskeri med et nyt fartøj, ligestilles med fiskerne i andre EF-lan- de, der kan opnå tilsvarende støtte, og således ikke udsættes for en forskelsbehandling i relation til finansieringssiden. Bestemmelserne om støtte til forsøgsfiskeri må ses på baggrund af ressourcesitiiationen, hvor det må sikres, at alle muligheder for at udnytte de til rådighed værende ressourcer rentabelt afprøves, således at dansk erhvervsfiskeri sikres det bredest mulige arbejdsgrundlag. Støtten til opdræt vil give et væsentligt incitament til at sikre en udvikling af det danske opdrætserhverv. Støtten vil blive givet således, at opdrætserhvervets udvikling sker på en måde, der med udgangspunkt i hensynet til at sikre et rent og sundt miljø i vore vandområder skaber et rentabelt og fremtidsorienteret erhyerv. Lovforslaget giver endelig mulighed for, at andre støtteområder i strukturforordningen kan bringes i anvendelse, såfremt fiskerisektorens situation senere skulle tilsige dette. 7443 18/2 87: Skriftlig fremsættelse 7444 [Fiskeriministeren] Lovforslaget udgør med sine forskellige støttemuligheder et flerstrenget instrument. Samspillet mellem støttemulighederne vil give den danske fiskerisektor en helt nødvendig og værdifuld hjælp til at møde fremtiden og sikre, at den karakteristiske bredde og alsidighed bevares både strukturelt og geografisk, således at man undgår, at det bliver øjeblikkets tilfældige økonomiske og ressourcemæssige situation, der leder udviklingen i en retning, som ingen på længere sigt er tjent med. Idet jeg i øvrigt henviser til lovforslagets bemærkninger, skal jeg hermed anbefale lovforslaget til velvillig behandling i det høje Ting.\n"
     ]
    }
   ],
   "source": [
    "random_tal= randint(0, len(Grønland_taler_høj_1986))\n",
    "random_index = Grønland_taler_høj_1986[random_tal]\n",
    "print(Alle_taler_år[random_index])\n",
    "print(Alle_taler_parti[random_index])\n",
    "print(Alle_taler_taler[random_index])\n",
    "print(Alle_taler[random_index])"
   ]
  },
  {
   "cell_type": "markdown",
   "id": "18371ba4",
   "metadata": {},
   "source": [
    "## Miljø"
   ]
  },
  {
   "cell_type": "code",
   "execution_count": 84,
   "id": "ae07dd39",
   "metadata": {},
   "outputs": [],
   "source": [
    "topics_miljø = []\n",
    "topics_miljø_sand = []\n",
    "for index in range(len(data_lemmatized)):\n",
    "    bow = gensim_dictionary.doc2bow(data_lemmatized[index])\n",
    "    eu_tale_topic_distribution = lda_model.get_document_topics(bow)\n",
    "    for topic, sand in eu_tale_topic_distribution:\n",
    "        if topic == 16:\n",
    "            topics_miljø.append(index)\n",
    "            topics_miljø_sand.append(sand)"
   ]
  },
  {
   "cell_type": "code",
   "execution_count": 85,
   "id": "e33ec68d",
   "metadata": {},
   "outputs": [
    {
     "data": {
      "text/plain": [
       "935"
      ]
     },
     "execution_count": 85,
     "metadata": {},
     "output_type": "execute_result"
    }
   ],
   "source": [
    "len(topics_miljø)"
   ]
  },
  {
   "cell_type": "code",
   "execution_count": 86,
   "id": "382ca23f",
   "metadata": {},
   "outputs": [
    {
     "data": {
      "text/plain": [
       "59"
      ]
     },
     "execution_count": 86,
     "metadata": {},
     "output_type": "execute_result"
    }
   ],
   "source": [
    "topic_miljø_høj_sand = [topics_miljø[i] for i in range(len(topics_miljø)) if topics_miljø_sand[i] >= 0.1]\n",
    "len(topic_miljø_høj_sand)"
   ]
  },
  {
   "cell_type": "code",
   "execution_count": 87,
   "id": "1b782263",
   "metadata": {},
   "outputs": [
    {
     "name": "stdout",
     "output_type": "stream",
     "text": [
      "1986\n",
      "(FP)\n",
      " I redegørelsen står der »marginaljorder«, uden at der med et eneste ord er nævnt bonitering. Det er en gammel tradition, at når man snakker om marginaljorder, så bruger vi ordet bonitering. Den er ikke nævnt i denne redegørelse. »Marginal« betyder »på grænsen«, og den borgerlige regering har, siden den kom til i 1982, pålagt det mest liberale erhverv, vi har i Danmark, nemlig landbruget, så mange forordninger, at det snart er på grænsen af, hvad dette erhverv kan bære. Og den samme regering har gennem sin miljøminister over for den øvrige befolkning udlagt landbruget som den store forurener, uden at de påstande har været ordentligt dokumenteret, og det har bragt bønderne på grænsen af det, der kan betegnes som psykisk vold. Og nu har vi så igen en redegørelse, der taler hen over hovedet på bønderne og landmanden, pg som fuldstændig forvirrer og bedrager den ukyndige læser. Hvad mener regeringen eller ministeren med ord som »strategi«? Det er et ord, der leder tanken hen på hærchefer og militære slagplaner, hvad det vel egentlig også er. Og så følger der ord som »udredningsarbejde i form af pilotprojekter«. Jamen det var jo skønt, om de mennesker, som er omfattet af disse pilotprojekter, var underrettet til stadighed, og det er de måske også, det ved jeg ikke. Man kan i hvert fald ikke lave et pilotprojekt over et større område uden at inddrage de mennesker allerede fra starten, som det berører. Så har vi EFs landbrugspolitik og fremlæggelse af handlingsplanen mod forureningen af danske vandmiljøer med næringssalte. Jamen EFs prispolitik har ikke ret meget med marginaljorder at gøre, al den stund det kan gøre jorden urentabel, men det bliver den jo ikke mere marginal af. Vi har at gøre med Danmarks vel nok fredeligste befolkningsgrupper, hvis eneste forbrydelse er, at de dyrker jorden så godt, som de nu har lært det. At det skulle være en 10171 7/4 87: Forhandling om redegørelse vedr. marginaljordsområdet 10172 [Damgaard Nielsen] skandale, kan jeg ikke gå med til. Det var betydelig værre, om befolkningen havde sultet. Vi så for nylig, at landboungdommen var i demonstation her uden for salen. Den ungdom - altså vordende landmænd - viste en opførsel så fornem, at det burde være et eksempel for andre. Der var f.eks. ingen ølflasker og råben og skrigen, hvad der tit kendetegner demonstrationer. Det er en opførsel, der viser, at bønderne foruden at dyrke jord og passe dyr kulturelt har kunne opfostre en, ny slægt til at føre det erhverv videre. Skjoldborg, en af de forfattere, jeg godt kan lide, har sagt det med disse ord: »Mer ridder du er med din barkede hånd end mange, der pyntes med stjerner og bånd og tripper på bonede gulve.« Det er netop den trippen på bonede gulve, der har bevirket, at vi nu oven i alt det andet skal have fat i en strategi for marginaljorder. Når man snakker om marginaljorder, hævder man, at det kan være økonomisk uforsvarligt. Med de EF-prisordninger, vi er gået ind i, har man kunnet trykke marginaljorderne hvorhen man ønskede. Lad os forestille os en mand, som har 100 ha, for at tage et eksempel, hvoraf de 25 ha bonitetsmæssigt er det, vi forstår ved ringere jorder eller marginaljorder. Hvis man prismæssigt gør dyrkning af de 25 ha urentabel eller direkte tabgivende, har man, foruden ved prisreduktionen på de øvrige 75 ha, gjort hele den bedrift urentabel. Det er tit de bedre jorder, der har kunnet bære dyrkningen af de dårlige jorder op. Dermed har man taget mandens levebrød fra ham. Skulle vi gå ind i en helt saglig debat om sprøjte- og gødningsfrie zoner, kan jeg sige, at jeg har måske 3-4 km langs med hede og skovbryn. Hvis vi ikke skulle sprøjte og vi ikke skulle give kunstgødning på de arealer, så kunne vi lige så godt lade være med at dyrke dem. Jeg ved ikke, om der er nogen, der kan forestille sig, hvad det vil sige at komme med en mejetærsker ind i sådan noget, der er groet op med ukrudt og alt det dér. Det ville ødelægge de andre varer. Man skulle i hvert fald høste det for sig selv, og jeg tror slet ikke, det kunne betale sig at dyrke det. Skulle vi gøre noget for at bevare lidt u- krudt, var det meget bedre at lukke den ene dyse i sprøjten, så vi har en 50 cm stribe for hver 12 m. Det kunne vi leve med, for det ville ikke belaste mejetærskerne, når vi kommer med så smal en stribe. Det kunne vi klare fint. Jeg tror også, mange landmænd helt frivilligt kunne gå ind på, at vi laver lidt sprøjtespor, som vi siger, altså vi streger den lidt mere end normalt. Der er en anden ting - det er ikke forsøgt endnu - der ville erstatte, tror jeg, nogle af disse ting. Det er hørdyrkning. De lettere jorder er særdeles velegnede, og Danmark er et af de lande, der er længst fremme med hensyn til, om det skal være hørfrø eller det skal være spindehør. Det er ikke til lige at gøre op. Vi har ad frivillig vej ifølge redegørelsen 250.000 ha liggende som marginaljord i dag. Det lyder ikke af så meget, men det er immervæk et område på næsten 50 gange 50 km. Det er et stort område, hvis man lægger det sammen. Vi har i redegørelsen læst lidt om, at jordfordeling er en vej, og vi hørte også hr. Gade nævne det. Hvis vi laver jordfordeling og tager lidt jord fra en anden og giver til en tredje, er så han, der mister jord, en, der sælger jorden? Der er i hvert fald en, der glider ud af systemet. Vi skal passe de jorder, vi trækker ud af bedrift. Vi savner helt konkrete tal for, hvad det vil koste. Der har været nævnt heroppefra lugning af flyvehavre. Nu har vi i Vestjylland en umådelig masse flyvehavre, især på de lavere arealer, og hvis vi ikke må sprøjte eller nogenting, må det blive Miljøstyrelsens opgave, eller hvem det nu er, at få det luget væk. Jeg ved, at det tager lang tid, hvis man skal ud og luge flyvehavre i langt græs. Det er umuligt at få det hele med, og der er jo pligt til at holde flyvehavre væk; det står udtrykkeligt i landbrugsloven. Der er ingen tvivl om, at her er strategien, man vil bruge for at tilintetgøre den frie bonde. Det er meget uklogt i øjeblikket at komme med det. Vi har set, at landmanden ikke tåler mere. Man kunne frygte, at bonden og hans familie i hele den overadministration lider samme skæbne som fangerne i Grønland i sin tid, da bureaukrati og misforstået nidkærhed totalt ødelagde den menneskelige værdighed og selvopholdelsesdrift. Det var det, disse herlige naturfolk deroppe blev udsat for. Men det er måske den selvopholdel- 10173 7/4 87: Forhandling om redegørelse vedr. marginaljordsområdet 10174 [Damgaard Nielsen] sesdrift, der er hos bønder, der er en torn i øjet på regeringens bureaukrati. Det kan vel ikke være meningen, at det alt-om-sig-griben- de Miljøministerium, vi har, også skal kvæle sund fornuft og driftige landmænds tanker. Steffensen (KRF): Man har spændvidden i Folketinget med hensyn til miljøproblemerne, herunder mar- ginaljordsproblemerne, når man har hørt hr. Damgaard Nielsen nys og først i debatten hørte fru Dorte Bennedsen. Hr. Damgaard Nielsen mener ikke, at marginaljordsproblematikken har noget som helst med EF-systemerne og prispolitikken i EF for landbruget at gøre. Alligevel bruger hr. Damgaard Nielsen meget af sin tid til at forklare, at det er de vilkår, landbruget lever under. Hr. Damgaard Nielsen har efter min opfattelse slet ikke forstået, at det, det drejer sig om, er, at i forbindelse med de mange problemer, som er skabt, kommer marginal- jordsoplægget som noget, Folketinget har pålagt regeringen at komme med just nu. Men det kommer samtidig som en mulighed for landbruget i den strukturændring, der er tale om. Det er det ene yderpunkt. Det andet var det, fru Dorte Bennedsen slog an, idet hun sagde, at regeringens redegørelse er dårlig, for den er ikke stram nok, og den er dårlig, fordi den ikke er klar nok i sin målsætning. Sagen er, at der i regeringens redegørelse om marginaljorderne står om målsætningen, at det er at omstille landbrugsproduktionen i de. miljømæssige interesseområder, herunder de marginale jorder, der i dag er under intensiv dyrkning, og at det er at skabe økonomisk mulighed for at bibeholde jordbrug i disse områder, og at det er at genoprette naturområder og miljømæssige værdier og endelig at øge skovarealet. Man kan opfatte disse ting som tilbud, når det i øvrigt har frivillighedens karakter, og det er værd at lægge mærke til, at det gør regeringens redegørelse. Derfor vil jeg gerne takke for denne redegørelse om de marginale jorder. Jeg vil advare imod, at man blander tingene sådan sammen, at man mener, at landbrugets strukturproblemer er skabt af de miljøtiltag, som et omtrent enigt Folketing har vedtaget. Alle, der bare har sat sig en smule ind i problemet, ved, at de virkelig alvorlige problemer for landbruget er EFs prispolitik, og det er jo store beløb, det drejer sig om. Det er småpenge i forhold til disse beløb, når det drejer sig om marginaljordsproblematikken, og når det drejer sig om de miljøproblemer, vi her i Folketinget i øjeblikket prøver at finde en løsning på. Det er helt klart, at i den strukturudvikling, vi er inde i, har landbruget behov for al mulig hjælp og støtte. Kristeligt Folkeparti opfatter marginaljordsoplægget og redegørelsen som en sådan støtte, som den enkelte landmand kan tage ind i sine overvejelser, som han nu har behov for, og som det nu kan passe ind i hans beslutningsproces. Vi er enige med ministeren i strategiens målsætning. Det må fortsat være hovedmålet at bevare de udyrkede områder som naturområder, om nødvendigt med tilskud til dyrehold til afgræsning af disse områder, så de kan bevares uden at gro til i krat og skov, altså plejeforanstaltninger. Der må også efter vores opfattelse sikres bevarelse af vandløb, søer og andre følsomme vådområder og naturarealer. Der bør ske et aktivt indgreb for bevarelsen af disse. Men vi ser helst og gerne, at disse ting sker i samarbejde med landbrugets organisationer, sådan som man hidtil har fundet løsninger på miljøproblemerne med landbrugets organisationer, herunder NPO-planen. Der må ikke uden videre ske en marginalisering af de jorder, der er brugbare som dyrket agerland. Kun hvis den enkelte landmand finder det rimeligt. Derfor må det sikres, at der tages skridt til at fremme nicheproduktioner på arealer, der ikke fortsat kan dyrkes økologisk eller miljømæssigt forsvarligt med de nugældende produkter. Hr. Gade var inde på en lang række ting omkring landbrugspolitikken. Det er et andet aspekt, vi ikke her skal tage stilling til. Men at det indgår i en mulig fremtidig struktur for erhvervet, er hævet over enhver tvivl. Generelt må jeg sige, at sikring af rimelig økonomi ved drift af mindre landbrugsejendomme er nødvendig. Det er nødvendigt, at vi går ind i nye produktionsformer, hvad mange af landbrugets udøvere allerede i dag gør. Jeg tænker ikke mindst på de positive tilkendegivelser, der er kommet fra De Danske Husmandsforeninger både officielt og i pressen. De har forstået, at dette er et tilbud, 10175 7/4 87: Forhandling om redegørelse vedr. marginaljordsområdet 10176 [Steffensen] man har behov for, hvis man skal komme positivt ud af strukturændringen. For at bevare de mindre søer og andre vådområder må de nødvendigvis registreres. Det kunne også overvejes, som det er antydet, at man ikke lader dem indgå i den arealbeskatning af landbrugsjord, som vi har for den øvrige del af den dyrkede jord. For at sikre de miljømæssige forhold omkring vore vandløb må der som foreslået være nogle dyrkningsfrie zoner. Hvor store de skal være, er der lagt op til at man må drøfte. Det er værd at lægge mærke til, at ikke mindst De Danske Husmandsforeninger har meldt klart ud, at det er helt nødvendigt, at vi får noget sådant. Enhver inddragelse af ejet jord som marginaljord må efter vores opfattelse bygge på frivillige aftaler, når der ses bort fra de nævnte vandløb, hvor det er nødvendigt med tiltag, der sikrer, at vi bevarer disse biotoper som en væsentlig del af den danske struktur. Vi er som sagt inde i en omstillingsproces, hvor erhvervet tidligt har været med. Men det har så mange af vore erhverv været, så der er ikke noget mærkeligt i, at det nu også er kommet til landbruget. Kristeligt Folkeparti har aldrig deltaget i nogen hetz mod landbruget, hvad hr. Damgaard Nielsen beskyldte miljøministeren for. Vi har derimod ønsket, at man ved den strukturændring, som er nødvendig, og som enhver kan se er nødvendig for, at landbruget kan have en fremtid, hvad det selvfølgelig gerne skal have, giver nogle muligheder. Marginaljordsoplægget er en sådan mulighed, og vi ser frem til, at det indgår som et konstruktivt element også i de miljøforbedrende foranstaltninger, vi i øjeblikket er ved at nå frem til.\n"
     ]
    }
   ],
   "source": [
    "random_tal= randint(0, len(topic_miljø_høj_sand))\n",
    "random_index = topic_miljø_høj_sand[random_tal]\n",
    "print(Alle_taler_år[random_index])\n",
    "print(Alle_taler_parti[random_index])\n",
    "print(Alle_taler[random_index])"
   ]
  },
  {
   "cell_type": "code",
   "execution_count": 88,
   "id": "bd37eba7",
   "metadata": {},
   "outputs": [
    {
     "data": {
      "text/plain": [
       "6636"
      ]
     },
     "execution_count": 88,
     "metadata": {},
     "output_type": "execute_result"
    }
   ],
   "source": [
    "len(Alle_taler)"
   ]
  },
  {
   "cell_type": "code",
   "execution_count": 89,
   "id": "966d1576",
   "metadata": {},
   "outputs": [],
   "source": [
    "Miljø_taler_år = [Alle_taler_år[i] for i in topics_miljø]\n",
    "Miljø_antal_taler_1980eren = []\n",
    "\n",
    "for år in år_1980erne:\n",
    "    Miljø_antal_taler_1980eren.append(Miljø_taler_år.count(år))\n",
    "miljø_andel = [Miljø_antal_taler_1980eren[i]/antal_taler_år[i] for i in range(10)]"
   ]
  },
  {
   "cell_type": "code",
   "execution_count": 108,
   "id": "5f267a10",
   "metadata": {},
   "outputs": [
    {
     "data": {
      "image/png": "[encoded data removed]",
      "text/plain": [
       "<Figure size 432x288 with 2 Axes>"
      ]
     },
     "metadata": {
      "needs_background": "light"
     },
     "output_type": "display_data"
    }
   ],
   "source": [
    "fig, (ax1, ax2) = plt.subplots(2, 1)\n",
    "ax1.set_title(\"Andel af ft-taler der nævner EF relateret til topic 16(Miljø)\")\n",
    "ax1.plot(folketingsår, miljø_andel)\n",
    "ax1.set_ylim([0, 0.3])\n",
    "ax2.set_title(\"Antal af ft-taler der nævner EF relateret til topic 16(Miljø)\")\n",
    "ax2.bar(folketingsår, Miljø_antal_taler_1980eren)\n",
    "fig.tight_layout(pad=1.0)\n",
    "fig.savefig(\"plots/1980_erne/Andel_af_folketingstaler_der_nævner_EF relateret_til_topic_16\")"
   ]
  },
  {
   "cell_type": "code",
   "execution_count": 91,
   "id": "3028065c",
   "metadata": {},
   "outputs": [
    {
     "data": {
      "text/plain": [
       "<BarContainer object of 10 artists>"
      ]
     },
     "execution_count": 91,
     "metadata": {},
     "output_type": "execute_result"
    },
    {
     "data": {
      "image/png": "[encoded data removed]",
      "text/plain": [
       "<Figure size 432x288 with 1 Axes>"
      ]
     },
     "metadata": {
      "needs_background": "light"
     },
     "output_type": "display_data"
    }
   ],
   "source": [
    "Miljø_taler_år_høj = [Alle_taler_år[i] for i in topic_miljø_høj_sand]\n",
    "Miljø_antal_taler_1980eren_høj = []\n",
    "\n",
    "for år in år_1980erne:\n",
    "    Miljø_antal_taler_1980eren_høj.append(Miljø_taler_år_høj.count(år))\n",
    "    \n",
    "fig, ax = plt.subplots()\n",
    "ax.bar(år_1980erne, Miljø_antal_taler_1980eren_høj)"
   ]
  },
  {
   "cell_type": "code",
   "execution_count": 92,
   "id": "02e2336e",
   "metadata": {},
   "outputs": [
    {
     "data": {
      "text/plain": [
       "10"
      ]
     },
     "execution_count": 92,
     "metadata": {},
     "output_type": "execute_result"
    }
   ],
   "source": [
    "høj_sandsynlighed_1980 = []\n",
    "for index in topic_miljø_høj_sand:\n",
    "    if Alle_taler_år[index] == \"1988\":\n",
    "        høj_sandsynlighed_1980.append(index)\n",
    "len(høj_sandsynlighed_1980)"
   ]
  },
  {
   "cell_type": "code",
   "execution_count": 93,
   "id": "66cfb2a1",
   "metadata": {},
   "outputs": [
    {
     "data": {
      "text/plain": [
       "4"
      ]
     },
     "execution_count": 93,
     "metadata": {},
     "output_type": "execute_result"
    }
   ],
   "source": [
    "randint(0, len(høj_sandsynlighed_1980))"
   ]
  },
  {
   "cell_type": "code",
   "execution_count": 94,
   "id": "0786e44d",
   "metadata": {},
   "outputs": [
    {
     "name": "stdout",
     "output_type": "stream",
     "text": [
      "\n",
      "1988\n",
      "Regeringen\n",
      " Jeg skal herved tillade mig at fremsætte: Forslag til lov om afgift af visse chlorfluorcar- boner og haloner. (CFC-afgift). (Lovforslag nr. L 98). Der er blandt forskere enighed om, at udslip af de kemiske stoffer, som betegnes chlorfluor- carboner (CFC) og haloner, medfører en nedbrydning af ozonlaget og klimatiske ændringer. Ozonlaget beskytter Jorden mod skadelig ultraviolet stråling fra Solen. Ultraviolet stråling kan medføre biologiske skader på mennesker, dyr og planter. Derfor indgik Danmark sammen med en række andre lande og EF en international aftale i FN-regi i september 1987 - den såkaldte Montrealprotokol. Aftaleparterne forpligter sig ifølge protokollen til at reducere forbruget af CFC over en årrække, således at forbruget af CFC i 1998-99 højst er på 50 pet. af 1986-ni- veauet, og at fastfryse forbruget af haloner. Aftaleparterne forpligter sig endvidere til at begrænse produktionen af disse stoffer. Desuden forpligter parterne sig til at samarbejde for at fremme forskning, udvikling og udveksling af oplysninger om dels de bedste teknologier til at forbedre opbevating, genvinding, genbrug eller destruktion af de af protokollen 1903 17/11: Skriftlig fremsættelse 1904 [Miljøministeren] omhandlede stoffer eller på anden måde reducere udledning af disse, dels mulige alternative stoffer eller produkter. Ministerrådet i EF vedtog den 16. juni 1988 en forordning til gennemførelse af Montrealprotokollens reduktionskrav i EF. Danmark producerer ikke for tiden CFC og haloner, men importerer en række af disse stoffer til industriel anvendelse. Stofferne bruges bl.a. til fremstilling af skum og som varmeoverføringsmiddel, rensemiddel og opløsningsmiddel i en række produkter, som fremstilles i Danmark, dels til hjemmemarkedet, dels til eksport. Den foreslåede afgift er et element i et forslag til handlingsplan for reduktion af CFC-forbru- get. Handlingsplanen vil have som målsætning, at dansk CFC-forbrug reduceres jævnt, således at forbruget af CFC så vidt muligt ophører i slutningen af 1990'erne. Hvis forbrugsudviklingen gør det nødvendigt, vil afgiften på CFC'ere og haloner senere foreslås justeret. Efter handlingsplanen vil det gældende forbud mod anvendelse af ozonnedbrydende stoffer i visse spraydåser snarest blive udvidet til bl.a. at omfatte spraydåser til industriel brug og såkaldte tågehorn, der anvendes ved sportsar- rangementer. Hvis markedsmekanismerne ikke reducerer forbruget tilstrækkeligt, varsles forbud mod visse andre CFC-anvendelser, efterhånden som disse kan erstattes. Som led i handlingsplanen vil Danmark endvidere i internationalt regi arbejde for, at Montrealprotokollen skærpes svarende til det danske reduktionsmål. De øvrige EF-lande opfordres til at tage tilsvarende skridt som de danske. Endelig fortsættes samarbejdet med de øvrige nordiske lande om globalt ophør af anvendelse af ozonnedbrydende stoffer. En afgift på CFC og haloner og på de varekategorier, hvori disse findes i større mængde, vil medvirke til at reducere CFC- og halonforbruget i Danmark. Afgiften vil nemlig motivere industrien til at anvende alternative stoffer, hvor det kan lade sig gøre, og i øvrigt foretage genvinding og genanvendelse samt fremstille alternative produkter. Lovforslaget skal desuden ses i sammenhæng med to forslag om miljøafgifter, som fremsættes samtidig hermed. Det drejer sig om forslag til ændring af to eksisterende afgiftslove vedrørende engangsservice og emballage, hvor afgiftstaksten foreslås sat op med henblik på at fremme genbrug og anvendelse af renere teknologi. Formålet med disse miljøafgifter er at påvirke borgernes og virksomhedernes adfærd på en sådan måde, at de tilrettelægger deres forbrug og produktion på en måde, der tilgodeser de politiske målsætninger på miljøområdet. Miljøafgifterne kan ses som en forlængelse af »forureneren betaler-princippet«, idet der skal svares afgift, hvis forbrug og produktion tilrettelægges på en miljømæssigt set mindre hensigtsmæssig måde. Ved betaling af afgifterne bidrager forurenerne til finansieringen af de aktiviteter, som samfundet må iværksætte og opretholde for at håndtere de miljøproblemer, som skabes gennem forurenernes forbrug og produktion. Lovforslaget (CFC-forslaget) lægger afgift på 8 kemiske stoffer, der hører til gruppen af chlorfluorcarboner og haloner og på en række varekategorier, som indeholder nævnte kemiske stoffer. For at mindske konkurrenceforvridningen for den danske eksport indeholder lovforslaget en bestemmelse om, at der kan ske tilbagebetaling af erlagt afgift for de eksporterede varer. Ved fremstilling af varer med CFC og haloner sker der et udslip af disse stoffer til omgivelserne. For at tilskynde til at reducere dette tab, sker der kun tilbagebetaling for de mængder af de afgiftsbelagte stoffer, som stadig findes i færdigvaren. Det skønnes, at afgiften vil omfatte ca. 15 importører af de 8 stoffer og ca. 200 importører og 200 eksportører af varer. Provenuet af CFC-afgiften foreslås anvendt til dækning af statslige aktiviteter på miljøoPlrådet. En mindre del af provenuet skal anvendes til et forsknings- og udviklingsprogram vedrørende CFC, der sigter på øget genvinding og genanvendelse, anvendelse af alternative stoffer m.v. Udviklingsprogrammet skal medvirke til at gøre det muligt for dansk industri at formindske CFC-forbruget. Det fremsatte lovforslag vil sammen med handlingsplanens øvrige elementer medvirke til at begrænse forbruget af CFC og haloner i Danmark og dermed udgøre en del af Danmarks bidrag til at nedbringe den globale miljøforurening. Idet jeg i øvrigt henviser til lovforslaget med bemærkninger, tillader jeg mig at anbefale Folketingets velvillige behandling af forslaget. 1905 17/11: Skriftlig fremsættelse 1906\n"
     ]
    }
   ],
   "source": [
    "random_tal= randint(0, len(høj_sandsynlighed_1980)-1)\n",
    "random_index = høj_sandsynlighed_1980[random_tal]\n",
    "print()\n",
    "print(Alle_taler_år[random_index])\n",
    "print(Alle_taler_parti[random_index])\n",
    "print(Alle_taler[random_index])"
   ]
  },
  {
   "cell_type": "markdown",
   "id": "924227be",
   "metadata": {},
   "source": [
    "## Landbrug"
   ]
  },
  {
   "cell_type": "code",
   "execution_count": 95,
   "id": "4964f3aa",
   "metadata": {},
   "outputs": [
    {
     "data": {
      "text/plain": [
       "762"
      ]
     },
     "execution_count": 95,
     "metadata": {},
     "output_type": "execute_result"
    }
   ],
   "source": [
    "topics_landbrug = []\n",
    "topics_landbrug_sand = []\n",
    "for index in range(len(data_lemmatized)):\n",
    "    bow = gensim_dictionary.doc2bow(data_lemmatized[index])\n",
    "    eu_tale_topic_distribution = lda_model.get_document_topics(bow)\n",
    "    for topic, sand in eu_tale_topic_distribution:\n",
    "        if topic == 15:\n",
    "            topics_landbrug.append(index)\n",
    "            topics_landbrug_sand.append(sand)\n",
    "len(topics_landbrug)"
   ]
  },
  {
   "cell_type": "code",
   "execution_count": 96,
   "id": "d62607ee",
   "metadata": {},
   "outputs": [
    {
     "data": {
      "text/plain": [
       "106"
      ]
     },
     "execution_count": 96,
     "metadata": {},
     "output_type": "execute_result"
    }
   ],
   "source": [
    "topic_landbrug_høj_sand = [topics_landbrug[i] for i in range(len(topics_landbrug)) if topics_landbrug_sand[i] >= 0.1]\n",
    "len(topic_landbrug_høj_sand)"
   ]
  },
  {
   "cell_type": "code",
   "execution_count": 97,
   "id": "6c8ef176",
   "metadata": {},
   "outputs": [
    {
     "data": {
      "image/png": "[encoded data removed]",
      "text/plain": [
       "<Figure size 432x288 with 2 Axes>"
      ]
     },
     "metadata": {
      "needs_background": "light"
     },
     "output_type": "display_data"
    }
   ],
   "source": [
    "landbrug_taler_år = [Alle_taler_år[i] for i in topics_landbrug]\n",
    "landbrug_antal_taler_1980eren = []\n",
    "\n",
    "for år in år_1980erne:\n",
    "    landbrug_antal_taler_1980eren.append(landbrug_taler_år.count(år))\n",
    "landbrug_andel = [landbrug_antal_taler_1980eren[i]/antal_taler_år[i] for i in range(10)]\n",
    "fig, (ax1, ax2) = plt.subplots(2, 1)\n",
    "ax1.set_title(\"Andel af ft-taler der nævner EF relateret til topic 15(Landb.)\")\n",
    "ax1.plot(folketingsår, landbrug_andel)\n",
    "ax1.set_ylim([0, 0.25])\n",
    "ax2.set_title(\"Antal af ft-taler der nævner EF relateret til topic 15(Landb.)\")\n",
    "ax2.bar(folketingsår, landbrug_antal_taler_1980eren)\n",
    "fig.tight_layout(pad=1.0)\n",
    "fig.savefig(\"plots/1980_erne/Andel_af_folketingstaler_der_nævner_EF relateret_til_topic_15\")\n",
    "#ax.plot(år_1980erne, landbrug_andel)"
   ]
  },
  {
   "cell_type": "markdown",
   "id": "dc86a9e5",
   "metadata": {},
   "source": [
    "### Undersøgelse af 86/87"
   ]
  },
  {
   "cell_type": "code",
   "execution_count": 98,
   "id": "bfcf6a03",
   "metadata": {},
   "outputs": [
    {
     "name": "stdout",
     "output_type": "stream",
     "text": [
      "125\n"
     ]
    },
    {
     "data": {
      "text/plain": [
       "10"
      ]
     },
     "execution_count": 98,
     "metadata": {},
     "output_type": "execute_result"
    }
   ],
   "source": [
    "topic_landbrug_høj_sand_1986 = [i for i in topic_landbrug_høj_sand if Alle_taler_år[i] == \"1986\"]\n",
    "topic_landbrug_1986 = [i for i in topics_landbrug if Alle_taler_år[i] == \"1986\"]\n",
    "print(len(topic_landbrug_1986))\n",
    "len(topic_landbrug_høj_sand_1986)"
   ]
  },
  {
   "cell_type": "code",
   "execution_count": 99,
   "id": "029b8fc8",
   "metadata": {},
   "outputs": [
    {
     "name": "stdout",
     "output_type": "stream",
     "text": [
      "Grove (KF) :\n",
      "1986\n",
      "(KF)\n",
      " »Vil ministeren på det førstkommende rådsmøde for landbrugsministre i EF prøve på at få justeret den grønne krone?« Begrundelse Landbrugets indtjening er faldet meget i den senere tid. Derfor er det nødvendigt med en hurtig justering af den grønne krone, så landbruget hurtigst muligt kan få gavn af opskrivningen af den tyske D-mark. Svar (15/1 87):\n"
     ]
    }
   ],
   "source": [
    "random_tal= randint(0, len(topic_landbrug_høj_sand_1986)-1)\n",
    "random_index = topic_landbrug_høj_sand_1986[random_tal]\n",
    "print(Alle_taler_taler[random_index])\n",
    "print(Alle_taler_år[random_index])\n",
    "print(Alle_taler_parti[random_index])\n",
    "print(Alle_taler[random_index])"
   ]
  },
  {
   "cell_type": "markdown",
   "id": "85487ec7",
   "metadata": {},
   "source": [
    "### Landbrug og miljø:"
   ]
  },
  {
   "cell_type": "code",
   "execution_count": 100,
   "id": "35450bc2",
   "metadata": {},
   "outputs": [
    {
     "data": {
      "text/plain": [
       "57"
      ]
     },
     "execution_count": 100,
     "metadata": {},
     "output_type": "execute_result"
    }
   ],
   "source": [
    "Landbrug_og_miljø_1986 = [i for i in topic_landbrug_1986 if i in topics_miljø]\n",
    "len(Landbrug_og_miljø_1986)"
   ]
  },
  {
   "cell_type": "code",
   "execution_count": 101,
   "id": "45cc6d54",
   "metadata": {},
   "outputs": [],
   "source": [
    "Landbrug_og_miljø = [i for i in topics_landbrug if i in topics_miljø]"
   ]
  },
  {
   "cell_type": "code",
   "execution_count": 102,
   "id": "606a89b9",
   "metadata": {},
   "outputs": [
    {
     "data": {
      "text/plain": [
       "225"
      ]
     },
     "execution_count": 102,
     "metadata": {},
     "output_type": "execute_result"
    }
   ],
   "source": [
    "len(Landbrug_og_miljø)"
   ]
  },
  {
   "cell_type": "code",
   "execution_count": 103,
   "id": "3e492ce8",
   "metadata": {},
   "outputs": [
    {
     "data": {
      "text/plain": [
       "[8, 7, 2, 8, 7, 23, 57, 37, 50, 26]"
      ]
     },
     "execution_count": 103,
     "metadata": {},
     "output_type": "execute_result"
    }
   ],
   "source": [
    "Landbrug_og_miljø_år = [Alle_taler_år[i] for i in Landbrug_og_miljø]\n",
    "Landbrug_og_miljø_antal_taler_1980eren = []\n",
    "\n",
    "for år in år_1980erne:\n",
    "    Landbrug_og_miljø_antal_taler_1980eren.append(Landbrug_og_miljø_år.count(år))\n",
    "Landbrug_og_miljø_antal_taler_1980eren"
   ]
  },
  {
   "cell_type": "code",
   "execution_count": 104,
   "id": "461de6ff",
   "metadata": {},
   "outputs": [
    {
     "data": {
      "text/plain": [
       "[<matplotlib.lines.Line2D at 0x15c21d9f0>]"
      ]
     },
     "execution_count": 104,
     "metadata": {},
     "output_type": "execute_result"
    },
    {
     "data": {
      "image/png": "[encoded data removed]",
      "text/plain": [
       "<Figure size 432x288 with 2 Axes>"
      ]
     },
     "metadata": {
      "needs_background": "light"
     },
     "output_type": "display_data"
    }
   ],
   "source": [
    "Landbrug_og_miljø_andel = [Landbrug_og_miljø_antal_taler_1980eren[i]/landbrug_antal_taler_1980eren[i] for i in range(10)]\n",
    "fig, (ax1, ax2) = plt.subplots(2, 1)\n",
    "ax1.set_title(\"Andel af folketingstaler der referer til topic 15 af topic 16\")\n",
    "ax1.plot(folketingsår, Landbrug_og_miljø_andel)\n",
    "ax1.set_ylim([0, 0.60])\n",
    "ax2.set_title(\"Antal af folketingstaler der referer til topic 15 og topic 16\")\n",
    "ax2.bar(folketingsår, Landbrug_og_miljø_antal_taler_1980eren)\n",
    "fig.tight_layout(pad=1.0)\n",
    "fig.savefig(\"plots/1980_erne/Andel_af_folketingstaler_der_referer_til_topic_15_af_topic_16_med_total\")\n",
    "ax.plot(år_1980erne, landbrug_andel)"
   ]
  },
  {
   "cell_type": "code",
   "execution_count": 106,
   "id": "a57bc813",
   "metadata": {},
   "outputs": [
    {
     "data": {
      "image/png": "[encoded data removed]",
      "text/plain": [
       "<Figure size 432x288 with 1 Axes>"
      ]
     },
     "metadata": {
      "needs_background": "light"
     },
     "output_type": "display_data"
    }
   ],
   "source": [
    "fig, ax = plt.subplots()\n",
    "ax.set_title(\"Andel af ft-taler om tp 15(Landb.) der også omhandler tp 16(Miljø)\")\n",
    "ax.plot(folketingsår, Landbrug_og_miljø_andel)\n",
    "ax.set_ylim([0, 0.55])\n",
    "fig.savefig(\"plots/1980_erne/Andel_af_folketingstaler_der_referer_til_topic_15_af_topic_16\")"
   ]
  },
  {
   "cell_type": "markdown",
   "id": "f2567fd3",
   "metadata": {},
   "source": [
    "### Arbejdsmiljø"
   ]
  },
  {
   "cell_type": "code",
   "execution_count": 110,
   "id": "2465ecc9",
   "metadata": {},
   "outputs": [],
   "source": [
    "topics_arbejds_miljø = []\n",
    "topics_arbejds_miljø_sand = []\n",
    "for index in range(len(data_lemmatized)):\n",
    "    bow = gensim_dictionary.doc2bow(data_lemmatized[index])\n",
    "    eu_tale_topic_distribution = lda_model.get_document_topics(bow)\n",
    "    for topic, sand in eu_tale_topic_distribution:\n",
    "        if topic == 18:\n",
    "            topics_arbejds_miljø.append(index)\n",
    "            topics_arbejds_miljø_sand.append(sand)"
   ]
  },
  {
   "cell_type": "code",
   "execution_count": 111,
   "id": "e958e2a2",
   "metadata": {},
   "outputs": [
    {
     "data": {
      "text/plain": [
       "702"
      ]
     },
     "execution_count": 111,
     "metadata": {},
     "output_type": "execute_result"
    }
   ],
   "source": [
    "len(topics_arbejds_miljø)"
   ]
  },
  {
   "cell_type": "code",
   "execution_count": 112,
   "id": "f9758251",
   "metadata": {},
   "outputs": [],
   "source": [
    "arbejds_miljø_taler_år = [Alle_taler_år[i] for i in topics_arbejds_miljø]\n",
    "arbejds_miljø_taler_1980eren = []\n",
    "\n",
    "for år in år_1980erne:\n",
    "    arbejds_miljø_taler_1980eren.append(arbejds_miljø_taler_år.count(år))\n",
    "arbejds_miljø_andel = [arbejds_miljø_taler_1980eren[i]/antal_taler_år[i] for i in range(10)]"
   ]
  },
  {
   "cell_type": "code",
   "execution_count": 113,
   "id": "6e8054e1",
   "metadata": {},
   "outputs": [
    {
     "data": {
      "image/png": "[encoded data removed]",
      "text/plain": [
       "<Figure size 432x288 with 2 Axes>"
      ]
     },
     "metadata": {
      "needs_background": "light"
     },
     "output_type": "display_data"
    }
   ],
   "source": [
    "fig, (ax1, ax2) = plt.subplots(2, 1)\n",
    "ax1.set_title(\"Andel af ft-taler der nævner EF relateret til topic 18(Arbejdsmiljø)\")\n",
    "ax1.plot(folketingsår, arbejds_miljø_andel)\n",
    "ax1.set_ylim([0, 0.2])\n",
    "ax2.set_title(\"Antal af ft-taler der nævner EF relateret til topic 18(Arbejdsmiljø)\")\n",
    "ax2.bar(folketingsår, arbejds_miljø_taler_1980eren)\n",
    "fig.tight_layout(pad=1.0)\n",
    "fig.savefig(\"plots/1980_erne/Andel_af_folketingstaler_der_nævner_EF relateret_til_topic_18\")"
   ]
  },
  {
   "cell_type": "markdown",
   "id": "2fd3ad79",
   "metadata": {},
   "source": [
    "### Undersøgelse af stof i arbejdsmiljø"
   ]
  },
  {
   "cell_type": "code",
   "execution_count": 596,
   "id": "0a68acf2",
   "metadata": {},
   "outputs": [
    {
     "data": {
      "text/plain": [
       "293"
      ]
     },
     "execution_count": 596,
     "metadata": {},
     "output_type": "execute_result"
    }
   ],
   "source": [
    "topics_arbejds_miljø_sand.index(max(topics_arbejds_miljø_sand))"
   ]
  },
  {
   "cell_type": "code",
   "execution_count": 597,
   "id": "67c1fad1",
   "metadata": {},
   "outputs": [],
   "source": [
    "topics_arbejds_miljø_sand_til_sort = [sand for sand in topics_arbejds_miljø_sand]"
   ]
  },
  {
   "cell_type": "code",
   "execution_count": 598,
   "id": "c29c036a",
   "metadata": {},
   "outputs": [],
   "source": [
    "topics_arbejds_miljø_sand_til_sort.sort(reverse = True)"
   ]
  },
  {
   "cell_type": "code",
   "execution_count": 608,
   "id": "e55a6d2e",
   "metadata": {},
   "outputs": [
    {
     "data": {
      "text/plain": [
       "476"
      ]
     },
     "execution_count": 608,
     "metadata": {},
     "output_type": "execute_result"
    }
   ],
   "source": [
    "topics_arbejds_miljø_sand.index(topics_arbejds_miljø_sand_til_sort[4])"
   ]
  },
  {
   "cell_type": "code",
   "execution_count": 609,
   "id": "4581b2ac",
   "metadata": {},
   "outputs": [
    {
     "data": {
      "text/plain": [
       "4385"
      ]
     },
     "execution_count": 609,
     "metadata": {},
     "output_type": "execute_result"
    }
   ],
   "source": [
    "topics_arbejds_miljø[476]"
   ]
  },
  {
   "cell_type": "code",
   "execution_count": 610,
   "id": "24403891",
   "metadata": {},
   "outputs": [
    {
     "name": "stdout",
     "output_type": "stream",
     "text": [
      "Af Dorte Bennedsen (S) m.fl.\n",
      "1987\n"
     ]
    },
    {
     "data": {
      "text/plain": [
       "\" (Fremsat 29/1 88). Forslaget sattes til forhandling. Forhandling Miljøministeren (Chr. Christensen): Vi har i Folketinget tidligere drøftet spørgsmålet om advarselsmærkning af de stoffer, der anses eller mistænkes for at være kræftfremkaldende. Jeg er fortsat enig i forslagets intentioner om at beskytte befolkningen og arbejdstagerne imod kræftfremkaldende stoffer, men jeg har dog visse bemærkninger til indholdet i forslaget, og dem vil jeg vende tilbage til senere. Indledningsvis vil jeg nævne, at jeg synes, at regeringen er nået et godt stykke på vej med 6735 17/2 88: l. beh. af f. t. beslutn. vedr. kræftfremkaldende stoffer 6736 [Miljøministeren] hensyn til dette forslag. I alt skal knap 80 stoffer ifølge listen over farlige stoffer mærkes med en af de to advarselssætninger, som ifølge et EF- direktiv benyttes til advarselsmærkning af kræftfremkaldende stoffer. Det drejer sig om følgende to sætninger: den såkaldte R 45, »kan fremkalde kræft«, og R 40, »mulig fare fot uhelbredelig skadevirkning«. Fra dansk side har vi lagt vægt på at få mærket netop de stoffer på listen, som vi har kendskab til findes her i landet i større mængder. Som det er nævnt i forslaget, udgiver Det Internationale Kræftforskningsinstitut i løbet af februar 1988 lister over stoffer eller stofgrup-' per, som instituttet har vurderet sådan, at der er en - større eller mindre - bevismængdé for, at de er kræftfremkaldende. På de tre lister, som beslutningsforslaget refererer til, er der ifølge mine foreløbige oplysninger i alt ca. 220 stoffer eller stofgrupper. Her vil jeg gerne gøre særligt opmærksom på, at mange af disse stoffer ikke er vigtige i dansk sammenhæng. Når IARC udvælger et stof til vurdering, tager man nemlig ikke særligt hensyn til stoffernes anvendelse i samfundet, men måske snarere til, om de er videnskabeligt interessante. Derfor er der på listen en lang række stoffer, som ikke findes hverken i Danmark eller i EF-området. Derudover er der opført en lang række sjældne laboratoriekemikalier, som kun findes her i landet i ganske ringe mængde, og hvoraf der importeres under I kg pr. år. For nogle af de førnævnte og andre kræftfremkaldende stoffer på listerne vil det være mere hensigtsmæssigt at regulere på en anden måde end mærkning, f.eks. ved forbud, begrænsning i anvendelsen, eller fastsættelse af restkoncentrationer eller grænseværdier afhængigt af, hvilken kræftfremkaldende virkning der er tale om. Jeg skal også gøre opmærksom på, at visse af stofferne kun kan advarselsmærkes, når de findes som råvarer. Det drejer sig om lægemidler og tilsætningsstoffer til levnedsmidler, idet begge dele skal godkendes efter anden lovgivning, og de færdige præparater skal ikke mærkes. På den baggrund synes jeg, at det er vigtigt, at man ser nuanceret på disse lister og med stor omhu prioriterer de stoffer fra listerne, som det er relevant at advarselsmærke, netop som vi har gjort det her i Danmark. For de stoffer, der ikke findes i Danmark eller i EF-området, findes der en særlig anmelderordning, hvor importører inden inarkedsføring skal indsende oplysninger om sundheds- og miljøskadelige egenskaber til myndighederne. Herved vil disse stoffer blive opfanget, så der kan udstedes regler om, at de skal mærkes for kræftfremkaldende effekt. Arbejdstilsynet udsteder regler om forebyggende foranstaltninger, når kræftfremkaldende stoffer benyttes erhvervsmæssigt. Arbejdstilsynet oplyser, at der for de stoffer, der er optaget på Arbejdstilsynets liste over stoffer, der anses for kræftfremkaldende, skal udarbejdes leverandør og arbejdspladsbrugsanvisninger. Dette gælder også for produkter, der indeholder mere end 0,1 pet. af de pågældende stoffer. Endvidere er det fastsat, at der er pligt til at forsøge at erstatte disse farlige stoffer og produkter med mindre farlige stoffer og produkter. Reglerne om advarselsmærkning er som tidligere nævnt EF-regler, nærmere bestemt 1967-direktivet om klassificering m.v. af farlige stoffer og 6. ændring heraf fra 1979. Dette direktiv er et totalt harmoniserings- eller maksi- mumsdirektiv med hjemmel i Romtraktatens artikel 100. Det er ensbetydende med, at vi ikke kan foretage en isoleret dansk kræftmærkning uden at komme i strid med EF-reglerne, medmindre vi bruger den såkaldte sikkerhedsklausul i det nugældende direktiv. Jeg vil da gerne understrege, at jeg er enig i intentionerne i forslaget. Jeg mener imidlertid ikke, at vi unuanceret skal forcere arbejdet med at mærke alle de i forslaget omhandlede stoffer. Jeg synes, at Miljøstyrelsen skal fortsætte arbejdet med i EF-regi at få vedtaget en kræftmærkning af de stoffer, som har størst betydning for Danmark.\""
      ]
     },
     "execution_count": 610,
     "metadata": {},
     "output_type": "execute_result"
    }
   ],
   "source": [
    "print(Alle_taler_taler[4385])\n",
    "print(Alle_taler_år[4385])\n",
    "Alle_taler[4385]"
   ]
  },
  {
   "cell_type": "markdown",
   "id": "a3983856",
   "metadata": {},
   "source": [
    "## Afgift"
   ]
  },
  {
   "cell_type": "code",
   "execution_count": 115,
   "id": "95f5ebd5",
   "metadata": {},
   "outputs": [
    {
     "data": {
      "text/plain": [
       "870"
      ]
     },
     "execution_count": 115,
     "metadata": {},
     "output_type": "execute_result"
    }
   ],
   "source": [
    "topics_afgift = []\n",
    "topics_afgift_sand = []\n",
    "for index in range(len(data_lemmatized)):\n",
    "    bow = gensim_dictionary.doc2bow(data_lemmatized[index])\n",
    "    eu_tale_topic_distribution = lda_model.get_document_topics(bow)\n",
    "    for topic, sand in eu_tale_topic_distribution:\n",
    "        if topic == 9:\n",
    "            topics_afgift.append(index)\n",
    "            topics_afgift_sand.append(sand)\n",
    "len(topics_afgift)"
   ]
  },
  {
   "cell_type": "code",
   "execution_count": 116,
   "id": "f229517a",
   "metadata": {},
   "outputs": [],
   "source": [
    "afgift_høj_sand = [topics_afgift[i] for i in range(len(topics_afgift)) if topics_afgift_sand[i] >= 0.05]"
   ]
  },
  {
   "cell_type": "code",
   "execution_count": 117,
   "id": "2ea2e863",
   "metadata": {},
   "outputs": [
    {
     "data": {
      "text/plain": [
       "173"
      ]
     },
     "execution_count": 117,
     "metadata": {},
     "output_type": "execute_result"
    }
   ],
   "source": [
    "len(afgift_høj_sand)"
   ]
  },
  {
   "cell_type": "code",
   "execution_count": 118,
   "id": "6d498cd1",
   "metadata": {},
   "outputs": [
    {
     "data": {
      "text/plain": [
       "[<matplotlib.lines.Line2D at 0x15c3bac20>]"
      ]
     },
     "execution_count": 118,
     "metadata": {},
     "output_type": "execute_result"
    },
    {
     "data": {
      "image/png": "[encoded data removed]",
      "text/plain": [
       "<Figure size 432x288 with 1 Axes>"
      ]
     },
     "metadata": {
      "needs_background": "light"
     },
     "output_type": "display_data"
    }
   ],
   "source": [
    "topics_afgift_år = [Alle_taler_år[i] for i in topics_afgift]\n",
    "afgift_antal_taler_1980eren = []\n",
    "\n",
    "for år in år_1980erne:\n",
    "    afgift_antal_taler_1980eren.append(topics_afgift_år.count(år))\n",
    "afgift_andel = [afgift_antal_taler_1980eren[i]/antal_taler_år[i] for i in range(10)]\n",
    "fig, ax = plt.subplots()\n",
    "ax.plot(år_1980erne, afgift_andel)"
   ]
  },
  {
   "cell_type": "code",
   "execution_count": 119,
   "id": "571ec5ad",
   "metadata": {},
   "outputs": [
    {
     "data": {
      "image/png": "[encoded data removed]",
      "text/plain": [
       "<Figure size 432x288 with 2 Axes>"
      ]
     },
     "metadata": {
      "needs_background": "light"
     },
     "output_type": "display_data"
    }
   ],
   "source": [
    "fig, (ax1, ax2) = plt.subplots(2, 1)\n",
    "ax1.set_title(\"Andel af ft-taler der nævner EF relateret til topic 9(Afgift)\")\n",
    "ax1.plot(folketingsår, afgift_andel)\n",
    "ax1.set_ylim([0, 0.25])\n",
    "ax2.set_title(\"Antal af ft-taler der nævner EF relateret til topic 9(Afgift)\")\n",
    "ax2.bar(folketingsår, afgift_antal_taler_1980eren)\n",
    "fig.tight_layout(pad=1.0)\n",
    "fig.savefig(\"plots/1980_erne/Andel_af_folketingstaler_der_nævner_EF relateret_til_topic_9\")"
   ]
  },
  {
   "cell_type": "markdown",
   "id": "fbc5622e",
   "metadata": {},
   "source": [
    "### Topic 12 om ef:"
   ]
  },
  {
   "cell_type": "code",
   "execution_count": 122,
   "id": "15d82449",
   "metadata": {},
   "outputs": [
    {
     "data": {
      "text/plain": [
       "870"
      ]
     },
     "execution_count": 122,
     "metadata": {},
     "output_type": "execute_result"
    }
   ],
   "source": [
    "topics_ef_12 = []\n",
    "topics_ef_12_sand = []\n",
    "for index in range(len(data_lemmatized)):\n",
    "    bow = gensim_dictionary.doc2bow(data_lemmatized[index])\n",
    "    eu_tale_topic_distribution = lda_model.get_document_topics(bow)\n",
    "    for topic, sand in eu_tale_topic_distribution:\n",
    "        if topic == 12:\n",
    "            topics_ef_12.append(index)\n",
    "            topics_ef_12_sand.append(sand)\n",
    "len(topics_afgift)"
   ]
  },
  {
   "cell_type": "code",
   "execution_count": 123,
   "id": "c3564039",
   "metadata": {},
   "outputs": [],
   "source": [
    "topics_ef_12_år = [Alle_taler_år[i] for i in topics_ef_12]\n",
    "ef_12_antal_taler_1980eren = []\n",
    "\n",
    "for år in år_1980erne:\n",
    "    ef_12_antal_taler_1980eren.append(topics_ef_12_år.count(år))\n",
    "ef_12_andel = [ef_12_antal_taler_1980eren[i]/antal_taler_år[i] for i in range(10)]"
   ]
  },
  {
   "cell_type": "code",
   "execution_count": 124,
   "id": "f8f6e176",
   "metadata": {},
   "outputs": [
    {
     "data": {
      "image/png": "[encoded data removed]",
      "text/plain": [
       "<Figure size 432x288 with 2 Axes>"
      ]
     },
     "metadata": {
      "needs_background": "light"
     },
     "output_type": "display_data"
    }
   ],
   "source": [
    "fig, (ax1, ax2) = plt.subplots(2, 1)\n",
    "ax1.set_title(\"Andel af ft-taler der nævner EF relateret til topic 12(EF)\")\n",
    "ax1.plot(folketingsår, ef_12_andel)\n",
    "ax1.set_ylim([0, 0.55])\n",
    "ax2.set_title(\"Antal af ft-taler der nævner EF relateret til topic 12(EF)\")\n",
    "ax2.bar(folketingsår, ef_12_antal_taler_1980eren)\n",
    "fig.tight_layout(pad=1.0)\n",
    "fig.savefig(\"plots/1980_erne/Andel_af_folketingstaler_der_nævner_EF relateret_til_topic_12\")"
   ]
  },
  {
   "cell_type": "code",
   "execution_count": 529,
   "id": "4e5d6f34",
   "metadata": {},
   "outputs": [],
   "source": [
    "#undersøgelse af EF_pakken"
   ]
  },
  {
   "cell_type": "code",
   "execution_count": 531,
   "id": "9e759244",
   "metadata": {},
   "outputs": [
    {
     "data": {
      "text/plain": [
       "260"
      ]
     },
     "execution_count": 531,
     "metadata": {},
     "output_type": "execute_result"
    }
   ],
   "source": [
    "ef_pakken = []\n",
    "for tale in data_lemmatized:\n",
    "    if \"ef-pakken\" in tale:\n",
    "        ef_pakken.append(tale)\n",
    "len(ef_pakken)"
   ]
  },
  {
   "cell_type": "code",
   "execution_count": 533,
   "id": "6b20d3ad",
   "metadata": {},
   "outputs": [
    {
     "data": {
      "text/plain": [
       "236"
      ]
     },
     "execution_count": 533,
     "metadata": {},
     "output_type": "execute_result"
    }
   ],
   "source": [
    "antal_ef_pakken_topic_12 = 0\n",
    "for tale in ef_pakken:\n",
    "    bow = gensim_dictionary.doc2bow(tale)\n",
    "    eu_tale_topic_distribution = lda_model.get_document_topics(bow)\n",
    "    for topic, sand in eu_tale_topic_distribution:\n",
    "        if topic == 12:\n",
    "            antal_ef_pakken_topic_12 += 1\n",
    "antal_ef_pakken_topic_12"
   ]
  },
  {
   "cell_type": "markdown",
   "id": "0fa4ac11",
   "metadata": {},
   "source": [
    "### Undersøgelse af slutningen af 1980'ernes ef debat"
   ]
  },
  {
   "cell_type": "markdown",
   "id": "75728760",
   "metadata": {},
   "source": [
    "### Økonomi i danske EF-debatter:"
   ]
  },
  {
   "cell_type": "markdown",
   "id": "c30b29e5",
   "metadata": {},
   "source": [
    "# EF-pakken"
   ]
  },
  {
   "cell_type": "code",
   "execution_count": 538,
   "id": "9c577d9a",
   "metadata": {},
   "outputs": [],
   "source": [
    "Ef_pakken_ord = [\"ef-pakken\", \"fællesakt\"]\n",
    "ef_pakken_taler = {}\n",
    "for år in Folketingsår_opdelt_per_taler_80erne:\n",
    "    #start = time()\n",
    "    eu_tale_år = []\n",
    "    eu_parti_år = []\n",
    "    eu_taler_år = []\n",
    "    for index in range(len(Folketingsår_opdelt_per_taler_80erne[år][0])):\n",
    "        tale = Folketingsår_opdelt_per_taler_80erne[år][0][index]\n",
    "        for ord_ in Ef_pakken_ord:\n",
    "            if len(re.findall(ord_, tale.lower())) > 0:\n",
    "                eu_tale_år.append(tale)\n",
    "                eu_parti_år.append(Folketingsår_opdelt_per_taler_80erne[år][1][index])\n",
    "                eu_taler_år.append(Folketingsår_opdelt_per_taler_80erne[år][2][index])\n",
    "                break\n",
    "    ef_pakken_taler[år] = []\n",
    "    ef_pakken_taler[år].append(eu_tale_år)\n",
    "    ef_pakken_taler[år].append(eu_parti_år)\n",
    "    ef_pakken_taler[år].append(eu_taler_år)\n",
    "    #slut = time()\n",
    "    #print(slut-start) til at time loopsne"
   ]
  },
  {
   "cell_type": "code",
   "execution_count": 539,
   "id": "c9829afa",
   "metadata": {},
   "outputs": [
    {
     "name": "stdout",
     "output_type": "stream",
     "text": [
      "1980: 1\n",
      "1981: 2\n",
      "1982: 0\n",
      "1983: 1\n",
      "1984: 0\n",
      "1985: 182\n",
      "1986: 40\n",
      "1987: 30\n",
      "1988: 41\n",
      "1989: 12\n"
     ]
    }
   ],
   "source": [
    "for år in ef_pakken_taler:\n",
    "    print(f\"{år}: {len(ef_pakken_taler[år][0])}\")"
   ]
  },
  {
   "cell_type": "code",
   "execution_count": 540,
   "id": "fe047acd",
   "metadata": {},
   "outputs": [
    {
     "name": "stdout",
     "output_type": "stream",
     "text": [
      "1.1287500858306885\n",
      "8.359290838241577\n",
      "2.1457672119140625e-06\n",
      "0.7266340255737305\n",
      "3.0994415283203125e-06\n",
      "19.866804122924805\n",
      "9.510817050933838\n",
      "8.99788498878479\n",
      "8.981775045394897\n",
      "3.3682522773742676\n"
     ]
    }
   ],
   "source": [
    "tekster_klar_ef_pakken = []\n",
    "for år in ef_pakken_taler:\n",
    "    #allowed_postags=['NOUN', 'ADJ', 'VERB']\n",
    "    start = time()\n",
    "    for tekst in ef_pakken_taler[år][0]:\n",
    "        tale_spacy = nlpd(tekst.lower())\n",
    "        #tokens = [str(token.lemma_).lower() for token in tale_spacy]\n",
    "        tokens = [token for token in tale_spacy]\n",
    "        tokens_uden_tegn = [str(token) for token in tokens if token.pos_ not in typer_spacy]\n",
    "        #tokens_uden_stopord = [token for token in tokens_uden_tegn if token not in stopord]\n",
    "        tekster_klar_ef_pakken.append(tokens_uden_tegn)\n",
    "    end = time()\n",
    "    print(end-start)"
   ]
  },
  {
   "cell_type": "code",
   "execution_count": 541,
   "id": "cc76333e",
   "metadata": {},
   "outputs": [],
   "source": [
    "processed_data_ef_pakken = []\n",
    "for tekst in tekster_klar_ef_pakken:\n",
    "    str_tekst = [str(token) for token in tekst]\n",
    "    processed_data_ef_pakken.append(str_tekst)"
   ]
  },
  {
   "cell_type": "code",
   "execution_count": 542,
   "id": "1b23a907",
   "metadata": {},
   "outputs": [],
   "source": [
    "bigram_ef_pakken = gensim.models.Phrases(processed_data_ef_pakken, min_count=5, threshold=100)\n",
    "\n",
    "trigram_ef_pakken = gensim.models.Phrases(bigram_ef_pakken[processed_data_ef_pakken], threshold=100)\n",
    "\n",
    "bigram_mod_ef_pakken = gensim.models.phrases.Phraser(bigram_ef_pakken)\n",
    "\n",
    "trigram_mod_ef_pakken = gensim.models.phrases.Phraser(trigram_ef_pakken)"
   ]
  },
  {
   "cell_type": "code",
   "execution_count": 543,
   "id": "405ba2b4",
   "metadata": {},
   "outputs": [
    {
     "name": "stdout",
     "output_type": "stream",
     "text": [
      "16.64385414123535\n"
     ]
    }
   ],
   "source": [
    "data_wo_stopwords_ef_pakken = remove_stopwords(processed_data_ef_pakken)\n",
    "\n",
    "data_bigrams_ef_pakken = create_bigrams(data_wo_stopwords_ef_pakken)\n",
    "\n",
    "data_lemmatized_ef_pakken = lemmatize(data_bigrams_ef_pakken, allowed_postags=['NOUN', 'ADJ', 'VERB', 'PROPN', 'ADV'])\n",
    "\n",
    "stopwords_removed_2_ef_pakken= remove_stopwords(data_lemmatized_ef_pakken) #Jeg prøver at sortere stopord fra igen\n",
    "\n",
    "data_lemmatized_ef_pakken = stopwords_removed_2_ef_pakken"
   ]
  },
  {
   "cell_type": "code",
   "execution_count": 544,
   "id": "09faf9f0",
   "metadata": {},
   "outputs": [],
   "source": [
    "texts_ef_pakken = [text for text in data_lemmatized_ef_pakken]\n",
    "\n",
    "shuffle(texts_ef_pakken)\n",
    "\n",
    "gensim_dictionary_ef_pakken = corpora.Dictionary(texts_ef_pakken)\n",
    "\n",
    "gensim_corpus_ef_pakken = [gensim_dictionary_ef_pakken.doc2bow(text) for text in texts_ef_pakken]"
   ]
  },
  {
   "cell_type": "code",
   "execution_count": 545,
   "id": "64a0abd5",
   "metadata": {},
   "outputs": [],
   "source": [
    "def compute_coherence_values_ef_pakken(k):\n",
    "    lda_model_ef_pakken = gensim.models.ldamodel.LdaModel(corpus=gensim_corpus_ef_pakken,\n",
    "                                            id2word=gensim_dictionary_ef_pakken,\n",
    "                                           num_topics=k, \n",
    "                                           random_state=100,\n",
    "                                           chunksize=100,\n",
    "                                           passes=10,\n",
    "                                           alpha=\"auto\")\n",
    "    \n",
    "    coherence_model_lda = CoherenceModel(model=lda_model_ef_pakken, texts=data_lemmatized_ef_pakken, dictionary=gensim_dictionary_ef_pakken, coherence='c_v')\n",
    "    return coherence_model_lda.get_coherence()"
   ]
  },
  {
   "cell_type": "code",
   "execution_count": 546,
   "id": "09946bfe",
   "metadata": {},
   "outputs": [
    {
     "name": "stdout",
     "output_type": "stream",
     "text": [
      "5\n",
      "6\n",
      "7\n",
      "8\n",
      "9\n",
      "10\n",
      "11\n",
      "12\n",
      "13\n",
      "14\n",
      "15\n",
      "16\n",
      "17\n",
      "18\n",
      "19\n"
     ]
    }
   ],
   "source": [
    "# Topics range\n",
    "min_topics = 5\n",
    "max_topics = 20\n",
    "step_size = 1\n",
    "topics_range = range(min_topics, max_topics, step_size)\n",
    "\n",
    "#empty dataframe\n",
    "model_results_ef_pakken = {'Topics': [],\n",
    "                 'Coherence': []\n",
    "                }\n",
    "\n",
    "# iterate through number of topics\n",
    "for k in topics_range:\n",
    "    print(k)\n",
    "    # get the coherence score for the given topics\n",
    "    cv = compute_coherence_values_ef_pakken(k=k)\n",
    "    # Save the model results\n",
    "    model_results_ef_pakken['Topics'].append(k)\n",
    "    model_results_ef_pakken['Coherence'].append(cv)"
   ]
  },
  {
   "cell_type": "code",
   "execution_count": 547,
   "id": "f87e1568",
   "metadata": {},
   "outputs": [
    {
     "data": {
      "text/plain": [
       "Text(0.5, 1.0, 'Simple model_ef_pakken')"
      ]
     },
     "execution_count": 547,
     "metadata": {},
     "output_type": "execute_result"
    },
    {
     "data": {
      "image/png": "[encoded data removed]",
      "text/plain": [
       "<Figure size 432x288 with 1 Axes>"
      ]
     },
     "metadata": {
      "needs_background": "light"
     },
     "output_type": "display_data"
    }
   ],
   "source": [
    "fig, ax = plt.subplots()\n",
    "ax.plot(model_results_ef_pakken[\"Topics\"], model_results_ef_pakken['Coherence'])\n",
    "ax.set_title(\"Simple model_ef_pakken\")"
   ]
  },
  {
   "cell_type": "code",
   "execution_count": 548,
   "id": "8aa1e1e3",
   "metadata": {},
   "outputs": [],
   "source": [
    "lda_model_ef_pakken = gensim.models.ldamodel.LdaModel(corpus=gensim_corpus_ef_pakken,\n",
    "                                           id2word=gensim_dictionary_ef_pakken,\n",
    "                                           num_topics=15, \n",
    "                                           random_state=100,\n",
    "                                           chunksize=100,\n",
    "                                           passes=10,\n",
    "                                           alpha=\"auto\")"
   ]
  },
  {
   "cell_type": "code",
   "execution_count": 549,
   "id": "b82c22b3",
   "metadata": {},
   "outputs": [
    {
     "name": "stdout",
     "output_type": "stream",
     "text": [
      "[(0,\n",
      "  '0.026*\"hr.\" + 0.020*\"danmark\" + 0.014*\"folketing\" + 0.014*\"debat\" + '\n",
      "  '0.013*\"stemme\" + 0.013*\"folkeafstemning\" + 0.013*\"udenrigsminister\" + '\n",
      "  '0.013*\"ef-pakken\" + 0.012*\"gå\" + 0.010*\"socialdemokrati\"'),\n",
      " (1,\n",
      "  '0.005*\"bevarelse\" + 0.004*\"dorte_bennedsen\" + 0.001*\"telekommunikation\" + '\n",
      "  '0.001*\"miljøforslag\" + 0.001*\"tilgå\" + 0.001*\"fredningsmyndighed\" + '\n",
      "  '0.001*\"fredningssag\" + 0.001*\"venstreminister\" + 0.001*\"granske\" + '\n",
      "  '0.001*\"udbudspligt\"'),\n",
      " (2,\n",
      "  '0.019*\"veto\" + 0.017*\"opklare\" + 0.008*\"knud_lind\" + 0.008*\"bilpark\" + '\n",
      "  '0.005*\"forretning\" + 0.005*\"direktivforslag\" + 0.005*\"ef-traktaten\" + '\n",
      "  '0.004*\"afgiftsniveau\" + 0.004*\"katalysator\" + 0.004*\"fritage\"'),\n",
      " (3,\n",
      "  '0.021*\"marked\" + 0.021*\"regering\" + 0.018*\"samarbejde\" + 0.014*\"arbejde\" + '\n",
      "  '0.013*\"medlemsland\" + 0.011*\"danmark\" + 0.010*\"forslag\" + 0.010*\"land\" + '\n",
      "  '0.009*\"udvikling\" + 0.008*\"erhvervsliv\"'),\n",
      " (4,\n",
      "  '0.059*\"lov\" + 0.041*\"ændring\" + 0.031*\"lovforslag\" + 0.019*\"forslag\" + '\n",
      "  '0.015*\"fremsætte\" + 0.014*\"foreslå\" + 0.013*\"tilskud\" + 0.012*\"m.v.\" + '\n",
      "  '0.011*\"kommune\" + 0.008*\"regel\"'),\n",
      " (5,\n",
      "  '0.010*\"lytte\" + 0.005*\"duetoft\" + 0.003*\"miljøudvalg\" + 0.003*\"røst\" + '\n",
      "  '0.003*\"korrespondance\" + 0.002*\"repetere\" + 0.002*\"pressemeddelelse\" + '\n",
      "  '0.002*\"dyb\" + 0.001*\"lovprocessen\" + 0.001*\"afgiftsudvalget\"'),\n",
      " (6,\n",
      "  '0.001*\"steffensen\" + 0.000*\"forslag\" + 0.000*\"land\" + 0.000*\"lov\" + '\n",
      "  '0.000*\"danmark\" + 0.000*\"regering\" + 0.000*\"ændring\" + 0.000*\"mulighed\" + '\n",
      "  '0.000*\"folketing\" + 0.000*\"samarbejde\"'),\n",
      " (7,\n",
      "  '0.011*\"regering\" + 0.011*\"år\" + 0.010*\"give\" + 0.010*\"forslag\" + '\n",
      "  '0.008*\"spørgsmål\" + 0.007*\"statsminister\" + 0.007*\"område\" + '\n",
      "  '0.006*\"folketing\" + 0.006*\"udvalg\" + 0.006*\"dagsorden\"'),\n",
      " (8,\n",
      "  '0.023*\"grænsehandel\" + 0.020*\"putte\" + 0.009*\"tastesen\" + '\n",
      "  '0.007*\"bernhard_baunsgaard\" + 0.005*\"afgiftssystem\" + 0.003*\"tilpasse\" + '\n",
      "  '0.002*\"underminere\" + 0.001*\"afgiftstilpasning\" + 0.001*\"detailhandel\" + '\n",
      "  '0.001*\"grænsén\"'),\n",
      " (9,\n",
      "  '0.052*\"radio\" + 0.048*\"reklamere\" + 0.025*\"tv.\" + 0.017*\"landbrug\" + '\n",
      "  '0.014*\"fjernsyn\" + 0.013*\"ove_jensen\" + 0.011*\"endvidere\" + 0.010*\"nævne\" + '\n",
      "  '0.008*\"struktur\" + 0.008*\"landbrugsminister\"'),\n",
      " (10,\n",
      "  '0.006*\"indvandrer\" + 0.003*\"sprog\" + 0.002*\"aage_brusgaard\" + 0.002*\"lærer\" '\n",
      "  '+ 0.002*\"indvandrerbarn\" + 0.001*\"grønlandsk\" + 0.001*\"danskundervisning\" + '\n",
      "  '0.001*\"nedprioritere\" + 0.001*\"identitet\" + 0.001*\"fristelse\"'),\n",
      " (11,\n",
      "  '0.000*\"regering\" + 0.000*\"ændring\" + 0.000*\"år\" + 0.000*\"land\" + '\n",
      "  '0.000*\"forslag\" + 0.000*\"danmark\" + 0.000*\"give\" + 0.000*\"mulighed\" + '\n",
      "  '0.000*\"samarbejde\" + 0.000*\"arbejde\"'),\n",
      " (12,\n",
      "  '0.020*\"danmark\" + 0.018*\"ef\" + 0.016*\"mene\" + 0.015*\"miljø\" + 0.014*\"land\" '\n",
      "  '+ 0.012*\"ef-pakken\" + 0.011*\"regel\" + 0.011*\"marked\" + 0.011*\"kommission\" + '\n",
      "  '0.011*\"arbejdsmiljø\"'),\n",
      " (13,\n",
      "  '0.022*\"300_millioner\" + 0.018*\"drag\" + 0.005*\"produktudvikling\" + '\n",
      "  '0.004*\"torsdag\" + 0.003*\"jordbrug\" + 0.002*\"indsigelse\" + 0.002*\"tiltage\" + '\n",
      "  '0.002*\"primærjordbruget\" + 0.002*\"albrechtsens\" + 0.002*\"skibsværft\"'),\n",
      " (14,\n",
      "  '0.062*\"barn\" + 0.020*\"forældre\" + 0.015*\"familie\" + 0.014*\"børnekommission\" '\n",
      "  '+ 0.013*\"kommission\" + 0.013*\"børnefamilie\" + 0.010*\"daginstitution\" + '\n",
      "  '0.010*\"kommune\" + 0.009*\"behov\" + 0.008*\"betænkning\"')]\n"
     ]
    }
   ],
   "source": [
    "pprint(lda_model_ef_pakken.print_topics())"
   ]
  },
  {
   "cell_type": "markdown",
   "id": "1a4c3559",
   "metadata": {},
   "source": [
    "## Undersøgelse:"
   ]
  },
  {
   "cell_type": "code",
   "execution_count": 439,
   "id": "e2ce7e60",
   "metadata": {},
   "outputs": [
    {
     "data": {
      "text/plain": [
       "[(0, 1),\n",
       " (15, 4),\n",
       " (25, 1),\n",
       " (35, 1),\n",
       " (40, 1),\n",
       " (46, 4),\n",
       " (59, 3),\n",
       " (61, 2),\n",
       " (65, 2),\n",
       " (85, 1),\n",
       " (97, 1),\n",
       " (110, 4),\n",
       " (114, 1),\n",
       " (117, 1),\n",
       " (118, 1),\n",
       " (134, 1),\n",
       " (135, 2),\n",
       " (152, 1),\n",
       " (169, 1),\n",
       " (171, 1),\n",
       " (173, 1),\n",
       " (186, 1),\n",
       " (188, 1),\n",
       " (197, 1),\n",
       " (200, 1),\n",
       " (202, 1),\n",
       " (239, 1),\n",
       " (245, 5),\n",
       " (255, 3),\n",
       " (294, 2),\n",
       " (300, 1),\n",
       " (312, 1),\n",
       " (336, 1),\n",
       " (338, 1),\n",
       " (346, 2),\n",
       " (350, 1),\n",
       " (354, 1),\n",
       " (358, 1),\n",
       " (364, 1),\n",
       " (369, 2),\n",
       " (376, 1),\n",
       " (381, 1),\n",
       " (386, 2),\n",
       " (400, 1),\n",
       " (421, 1),\n",
       " (426, 2),\n",
       " (436, 1),\n",
       " (466, 4),\n",
       " (487, 2),\n",
       " (492, 1),\n",
       " (495, 1),\n",
       " (538, 1),\n",
       " (545, 1),\n",
       " (551, 1),\n",
       " (553, 1),\n",
       " (574, 5),\n",
       " (575, 1),\n",
       " (580, 1),\n",
       " (582, 1),\n",
       " (637, 1),\n",
       " (642, 1),\n",
       " (673, 1),\n",
       " (675, 2),\n",
       " (686, 1),\n",
       " (687, 1),\n",
       " (693, 1),\n",
       " (696, 1),\n",
       " (700, 1),\n",
       " (717, 1),\n",
       " (718, 1),\n",
       " (726, 1),\n",
       " (729, 1),\n",
       " (744, 2),\n",
       " (754, 1),\n",
       " (805, 2),\n",
       " (825, 1),\n",
       " (881, 1),\n",
       " (940, 3),\n",
       " (977, 1),\n",
       " (1042, 3),\n",
       " (1089, 1),\n",
       " (1135, 5),\n",
       " (1170, 1),\n",
       " (1222, 1),\n",
       " (1230, 1),\n",
       " (1237, 1),\n",
       " (1239, 1),\n",
       " (1309, 1),\n",
       " (1330, 1),\n",
       " (1385, 1),\n",
       " (1397, 1),\n",
       " (1402, 1),\n",
       " (1504, 4),\n",
       " (1579, 1),\n",
       " (1619, 1),\n",
       " (1652, 1),\n",
       " (1928, 1),\n",
       " (2065, 1),\n",
       " (2092, 1),\n",
       " (2135, 1),\n",
       " (2190, 1),\n",
       " (2241, 1),\n",
       " (2274, 1),\n",
       " (2437, 1),\n",
       " (2487, 2),\n",
       " (2620, 2),\n",
       " (2903, 1),\n",
       " (2904, 1),\n",
       " (2954, 1),\n",
       " (3119, 1),\n",
       " (3455, 1),\n",
       " (3477, 3),\n",
       " (3492, 1),\n",
       " (3578, 1),\n",
       " (3771, 1),\n",
       " (4241, 2),\n",
       " (4772, 1),\n",
       " (4895, 1),\n",
       " (5032, 1),\n",
       " (5153, 1),\n",
       " (5285, 1),\n",
       " (5399, 1),\n",
       " (5568, 1),\n",
       " (5654, 1),\n",
       " (6214, 1),\n",
       " (6419, 1),\n",
       " (6717, 1),\n",
       " (9354, 1),\n",
       " (10119, 1),\n",
       " (10459, 1),\n",
       " (10977, 2),\n",
       " (11775, 2),\n",
       " (12538, 1),\n",
       " (13249, 1),\n",
       " (14412, 1),\n",
       " (14648, 2),\n",
       " (15124, 1),\n",
       " (15391, 1),\n",
       " (16215, 1),\n",
       " (21193, 1),\n",
       " (34430, 2),\n",
       " (34431, 1),\n",
       " (34432, 1),\n",
       " (34433, 1),\n",
       " (34434, 1),\n",
       " (34435, 3),\n",
       " (34436, 1),\n",
       " (34437, 1),\n",
       " (34438, 1),\n",
       " (34439, 1)]"
      ]
     },
     "execution_count": 439,
     "metadata": {},
     "output_type": "execute_result"
    }
   ],
   "source": [
    "gensim_corpus_ikke_random[0]"
   ]
  },
  {
   "cell_type": "code",
   "execution_count": 442,
   "id": "485e9bd5",
   "metadata": {},
   "outputs": [
    {
     "data": {
      "text/plain": [
       "'apotekerlovforslaget'"
      ]
     },
     "execution_count": 442,
     "metadata": {},
     "output_type": "execute_result"
    }
   ],
   "source": [
    "list_[34430]"
   ]
  },
  {
   "cell_type": "code",
   "execution_count": null,
   "id": "6ce6a240",
   "metadata": {},
   "outputs": [],
   "source": []
  }
 ],
 "metadata": {
  "kernelspec": {
   "display_name": "Python 3 (ipykernel)",
   "language": "python",
   "name": "python3"
  },
  "language_info": {
   "codemirror_mode": {
    "name": "ipython",
    "version": 3
   },
   "file_extension": ".py",
   "mimetype": "text/x-python",
   "name": "python",
   "nbconvert_exporter": "python",
   "pygments_lexer": "ipython3",
   "version": "3.10.2"
  }
 },
 "nbformat": 4,
 "nbformat_minor": 5
}
